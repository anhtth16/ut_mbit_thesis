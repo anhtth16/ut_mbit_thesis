{
 "cells": [
  {
   "cell_type": "markdown",
   "id": "9e321524-5d83-40dc-892a-11f3fa5bf650",
   "metadata": {},
   "source": [
    "# Get recommendations for myfm models - FM_MATCH\n",
    "## Ranking data: ranking_data_random\n",
    "- Run full list of users in ranking data (#user < # test_users due to dropping some duplication)\n",
    "- Load scripts:\n",
    "    - Making features: make_features_myfm_ranking.py\n",
    "    - Getting topN for a given user Id: topN_myfm_single.py"
   ]
  },
  {
   "cell_type": "code",
   "execution_count": 1,
   "id": "eccf82cf-44a2-4d3f-a776-d83759865e9f",
   "metadata": {},
   "outputs": [],
   "source": [
    "import pandas as pd\n",
    "import numpy as np\n",
    "from sklearn.preprocessing import MultiLabelBinarizer, OneHotEncoder\n",
    "from sklearn import metrics\n",
    "\n",
    "import myfm"
   ]
  },
  {
   "cell_type": "code",
   "execution_count": 2,
   "id": "c584fe99-3f79-43dd-98fe-3ddd17360597",
   "metadata": {},
   "outputs": [],
   "source": [
    "from make_features_myfm_ranking import * # Import customer script for building features"
   ]
  },
  {
   "cell_type": "code",
   "execution_count": 3,
   "id": "c60336de-2fae-49cb-8c9c-6364eee19716",
   "metadata": {},
   "outputs": [],
   "source": [
    "from topN_myfm_single import * "
   ]
  },
  {
   "cell_type": "code",
   "execution_count": 4,
   "id": "fe796128-f49e-435e-bd2b-864976417297",
   "metadata": {},
   "outputs": [
    {
     "name": "stdout",
     "output_type": "stream",
     "text": [
      "Working directory: /home/jovyan/1_UT THESIS/CB12_MAIN/nb_recsys_myfm\n"
     ]
    }
   ],
   "source": [
    "# Run this for reproduce\n",
    "# Gets the current working directory\n",
    "import os\n",
    "cwd = os.getcwd()\n",
    "print(\"Working directory:\", cwd)\n",
    "# Go up one directory from working directory\n",
    "os.chdir(\"..\")"
   ]
  },
  {
   "cell_type": "code",
   "execution_count": 5,
   "id": "68cd6516-d590-4827-8896-17805fbab545",
   "metadata": {},
   "outputs": [],
   "source": [
    "import warnings\n",
    "warnings.filterwarnings('ignore')"
   ]
  },
  {
   "cell_type": "code",
   "execution_count": 6,
   "id": "7a0ed6a7-b887-4972-92c3-a1d8b60675f5",
   "metadata": {},
   "outputs": [],
   "source": [
    "# Load clean job data\n",
    "job_set = pd.read_csv(\"./data_processed/jobset_clean.csv\")\n",
    "\n",
    "# Load the dataset from Step 3\n",
    "user_set = pd.read_csv(\"./data_interim/user_set_cleaned.csv\")\n",
    "dataset = pd.read_csv(\"./data_interim/dataset_cleaned.csv\")\n",
    "work_history = pd.read_csv('./data_interim/work_history_cleaned.csv')\n"
   ]
  },
  {
   "cell_type": "code",
   "execution_count": 7,
   "id": "d5b16784-56b5-45a1-afcb-69acbc91ef1c",
   "metadata": {},
   "outputs": [],
   "source": [
    "train_user = user_set[user_set.Split==\"Train\"].UserID.values\n",
    "test_user = user_set[user_set.Split==\"Test\"].UserID.values\n",
    "train_data = dataset[dataset.UserID.isin(train_user)]\n",
    "test_data = dataset[dataset.UserID.isin(test_user)]"
   ]
  },
  {
   "cell_type": "code",
   "execution_count": 8,
   "id": "c80f7198-f8ff-44a8-ba60-bcfaad7ebc83",
   "metadata": {},
   "outputs": [],
   "source": [
    "user_fm = pd.read_csv('./data_interim/users_fm.csv')\n",
    "job_fm = pd.read_csv('./data_interim/jobs_fm.csv')"
   ]
  },
  {
   "cell_type": "code",
   "execution_count": 9,
   "id": "dd1ec392-8813-49ac-8ee6-3f0868872062",
   "metadata": {},
   "outputs": [],
   "source": [
    "# Load ranking data random\n",
    "ranking_data = pd.read_csv('./nb_recsys_ebm/ranking_data_random.csv')"
   ]
  },
  {
   "cell_type": "markdown",
   "id": "18968ecc-65bd-408f-bb07-002ded57f746",
   "metadata": {},
   "source": [
    "## Load pre-train FM models"
   ]
  },
  {
   "cell_type": "code",
   "execution_count": 10,
   "id": "892fe77e-c03c-4e2f-8f22-e579df6a6ec4",
   "metadata": {},
   "outputs": [
    {
     "name": "stdout",
     "output_type": "stream",
     "text": [
      "CPU times: user 7.26 s, sys: 35.9 s, total: 43.2 s\n",
      "Wall time: 1min 9s\n"
     ]
    }
   ],
   "source": [
    "%%time\n",
    "import pickle\n",
    "model_name = './output_myfm/fm_match.pikle'\n",
    "fm_match = pickle.load(open(model_name, \"rb\"))"
   ]
  },
  {
   "cell_type": "code",
   "execution_count": 11,
   "id": "372f9894-9899-4771-a6d4-7db82c1a7224",
   "metadata": {},
   "outputs": [],
   "source": [
    "ranking_users = ranking_data.UserID.unique()"
   ]
  },
  {
   "cell_type": "code",
   "execution_count": 12,
   "id": "8bf5c55b-3a19-4b02-a78b-0e12a248e718",
   "metadata": {},
   "outputs": [
    {
     "data": {
      "text/plain": [
       "3716"
      ]
     },
     "execution_count": 12,
     "metadata": {},
     "output_type": "execute_result"
    }
   ],
   "source": [
    "len(ranking_users)"
   ]
  },
  {
   "cell_type": "markdown",
   "id": "e4596df4-a591-423e-b6c7-792531759b62",
   "metadata": {
    "tags": []
   },
   "source": [
    "# Model: FM_match"
   ]
  },
  {
   "cell_type": "code",
   "execution_count": 13,
   "id": "1a1f9884-8f0d-4b3d-8402-a0418f43b00a",
   "metadata": {},
   "outputs": [
    {
     "name": "stdout",
     "output_type": "stream",
     "text": [
      "CPU times: user 3h 12min 1s, sys: 5min 32s, total: 3h 17min 34s\n",
      "Wall time: 3h 17min 20s\n"
     ]
    }
   ],
   "source": [
    "%%time\n",
    "rec_result_match = {}\n",
    "for u_id in ranking_users:\n",
    "    # print('UserID:', u_id)\n",
    "    rec_20 = topN_fm_simple(u_id = u_id, \n",
    "                          fm_type = 'fm_match', \n",
    "                          fm_model = fm_match, \n",
    "                          ranking_data = ranking_data, \n",
    "                          train_data = train_data, \n",
    "                          N=20)\n",
    "    rec_result_match[u_id] = rec_20"
   ]
  },
  {
   "cell_type": "code",
   "execution_count": 14,
   "id": "2d12dfc0-a972-40f2-9d3d-f6021b861a0b",
   "metadata": {},
   "outputs": [
    {
     "name": "stdout",
     "output_type": "stream",
     "text": [
      "CPU times: user 11.7 s, sys: 120 ms, total: 11.8 s\n",
      "Wall time: 11.8 s\n"
     ]
    }
   ],
   "source": [
    "%%time\n",
    "final_rec_result_match = pd.DataFrame(columns = ['JobID', 'Y_prob', 'Y_pred','UserID','rank'])\n",
    "\n",
    "for u_id in ranking_users:\n",
    "    \n",
    "    temp_df = get_rec_result_df(u_id=u_id, \n",
    "                                rec_N=rec_result_match[u_id])\n",
    "    # print(u_id, len(temp_df))\n",
    "    final_rec_result_match = pd.concat([final_rec_result_match , temp_df])\n",
    "\n",
    "# final_rec_result = final_rec_result[['UserID','JobID', 'Y_prob', 'Y_pred', 'rank']]"
   ]
  },
  {
   "cell_type": "code",
   "execution_count": 15,
   "id": "cccad3e5-f14e-4d7a-bc7a-d1a00de8c779",
   "metadata": {},
   "outputs": [
    {
     "data": {
      "text/plain": [
       "[(821691, 0.9443351192244838, 1),\n",
       " (508898, 0.6011482223662387, 1),\n",
       " (719969, 0.5761096290825414, 1),\n",
       " (145443, 0.4056479223542181, 0),\n",
       " (855212, 0.3687416980379906, 0),\n",
       " (497733, 0.3682171379841186, 0),\n",
       " (123120, 0.3651509819564898, 0),\n",
       " (524122, 0.36356930679986377, 0),\n",
       " (350081, 0.35692296239694815, 0),\n",
       " (561513, 0.3552939034391221, 0),\n",
       " (598128, 0.3509139494149052, 0),\n",
       " (75809, 0.3509051225601515, 0),\n",
       " (411244, 0.35079877270034804, 0),\n",
       " (93235, 0.3499486601332794, 0),\n",
       " (29419, 0.3499173994458538, 0),\n",
       " (324559, 0.34874641601731987, 0),\n",
       " (1041876, 0.34828179458731146, 0),\n",
       " (482235, 0.34826291978908785, 0),\n",
       " (237243, 0.3476500026986336, 0),\n",
       " (904793, 0.3464156930011535, 0)]"
      ]
     },
     "execution_count": 15,
     "metadata": {},
     "output_type": "execute_result"
    }
   ],
   "source": [
    "rec_result_match[13]"
   ]
  },
  {
   "cell_type": "markdown",
   "id": "3dc8dd5c-4425-4a2a-bc2c-a180f9a59b80",
   "metadata": {},
   "source": [
    "# Export results"
   ]
  },
  {
   "cell_type": "code",
   "execution_count": 16,
   "id": "f5a5f424-db43-45df-9820-c9505b6bab9b",
   "metadata": {},
   "outputs": [],
   "source": [
    "final_rec_result_match.to_csv('./output_topN_myfm/rec20_fm_match_random.csv', header=True, index=False)"
   ]
  },
  {
   "cell_type": "code",
   "execution_count": 17,
   "id": "0cb03d97-0b00-42c9-82f0-bfd0e62058b1",
   "metadata": {},
   "outputs": [],
   "source": [
    "# Export rec result dictionary\n",
    "import gzip, pickle, pickletools\n",
    "\n",
    "filepath = \"./nb_recsys_myfm/rec_result_fm_match_random.pikle\"\n",
    "with gzip.open(filepath, \"wb\") as f:\n",
    "    pickled = pickle.dumps(rec_result_match)\n",
    "    optimized_pickle = pickletools.optimize(pickled)\n",
    "    f.write(optimized_pickle)"
   ]
  },
  {
   "cell_type": "code",
   "execution_count": 18,
   "id": "7eebad64-c205-406d-8b64-7fd4806b0dad",
   "metadata": {},
   "outputs": [
    {
     "name": "stdout",
     "output_type": "stream",
     "text": [
      "CPU times: user 46.5 ms, sys: 8.09 ms, total: 54.6 ms\n",
      "Wall time: 53.1 ms\n"
     ]
    }
   ],
   "source": [
    "%%time\n",
    "with gzip.open(filepath, 'rb') as f:\n",
    "    p = pickle.Unpickler(f)\n",
    "    loaded_rec_result = p.load()"
   ]
  },
  {
   "cell_type": "code",
   "execution_count": 19,
   "id": "a01da6e1-0b23-4238-a709-b622a7fd56a8",
   "metadata": {},
   "outputs": [
    {
     "data": {
      "text/plain": [
       "[(821691, 0.9443351192244838, 1),\n",
       " (508898, 0.6011482223662387, 1),\n",
       " (719969, 0.5761096290825414, 1),\n",
       " (145443, 0.4056479223542181, 0),\n",
       " (855212, 0.3687416980379906, 0),\n",
       " (497733, 0.3682171379841186, 0),\n",
       " (123120, 0.3651509819564898, 0),\n",
       " (524122, 0.36356930679986377, 0),\n",
       " (350081, 0.35692296239694815, 0),\n",
       " (561513, 0.3552939034391221, 0),\n",
       " (598128, 0.3509139494149052, 0),\n",
       " (75809, 0.3509051225601515, 0),\n",
       " (411244, 0.35079877270034804, 0),\n",
       " (93235, 0.3499486601332794, 0),\n",
       " (29419, 0.3499173994458538, 0),\n",
       " (324559, 0.34874641601731987, 0),\n",
       " (1041876, 0.34828179458731146, 0),\n",
       " (482235, 0.34826291978908785, 0),\n",
       " (237243, 0.3476500026986336, 0),\n",
       " (904793, 0.3464156930011535, 0)]"
      ]
     },
     "execution_count": 19,
     "metadata": {},
     "output_type": "execute_result"
    }
   ],
   "source": [
    "loaded_rec_result[13]"
   ]
  },
  {
   "cell_type": "code",
   "execution_count": null,
   "id": "b636a6a4-86b1-4967-b86a-0bb7f554383b",
   "metadata": {},
   "outputs": [],
   "source": []
  }
 ],
 "metadata": {
  "kernelspec": {
   "display_name": "Python",
   "language": "python",
   "name": "python3"
  },
  "language_info": {
   "codemirror_mode": {
    "name": "ipython",
    "version": 3
   },
   "file_extension": ".py",
   "mimetype": "text/x-python",
   "name": "python",
   "nbconvert_exporter": "python",
   "pygments_lexer": "ipython3",
   "version": "3.8.10"
  }
 },
 "nbformat": 4,
 "nbformat_minor": 5
}
