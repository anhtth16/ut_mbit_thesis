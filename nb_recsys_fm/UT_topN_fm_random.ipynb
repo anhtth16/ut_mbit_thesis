{
 "cells": [
  {
   "cell_type": "markdown",
   "id": "9e321524-5d83-40dc-892a-11f3fa5bf650",
   "metadata": {},
   "source": [
    "# Get recommendations for myfm models - FM\n",
    "## Ranking data: ranking_data_random\n",
    "- Run full list of users in ranking data (#user < # test_users due to dropping some duplication)\n",
    "- Load scripts:\n",
    "    - Making features: make_features_myfm_ranking.py\n",
    "    - Getting topN for a given user Id: topN_myfm_single.py"
   ]
  },
  {
   "cell_type": "code",
   "execution_count": 1,
   "id": "eccf82cf-44a2-4d3f-a776-d83759865e9f",
   "metadata": {},
   "outputs": [],
   "source": [
    "import pandas as pd\n",
    "import numpy as np\n",
    "from sklearn.preprocessing import MultiLabelBinarizer, OneHotEncoder\n",
    "from sklearn import metrics\n",
    "\n",
    "import myfm"
   ]
  },
  {
   "cell_type": "code",
   "execution_count": 2,
   "id": "c584fe99-3f79-43dd-98fe-3ddd17360597",
   "metadata": {},
   "outputs": [],
   "source": [
    "from make_features_myfm_ranking import * # Import customer script for building features"
   ]
  },
  {
   "cell_type": "code",
   "execution_count": 3,
   "id": "c60336de-2fae-49cb-8c9c-6364eee19716",
   "metadata": {},
   "outputs": [],
   "source": [
    "from topN_myfm_single import * "
   ]
  },
  {
   "cell_type": "code",
   "execution_count": 4,
   "id": "fe796128-f49e-435e-bd2b-864976417297",
   "metadata": {},
   "outputs": [
    {
     "name": "stdout",
     "output_type": "stream",
     "text": [
      "Working directory: /home/jovyan/1_UT THESIS/CB12_MAIN/nb_recsys_myfm\n"
     ]
    }
   ],
   "source": [
    "# Run this for reproduce\n",
    "# Gets the current working directory\n",
    "import os\n",
    "cwd = os.getcwd()\n",
    "print(\"Working directory:\", cwd)\n",
    "# Go up one directory from working directory\n",
    "os.chdir(\"..\")"
   ]
  },
  {
   "cell_type": "code",
   "execution_count": 5,
   "id": "68cd6516-d590-4827-8896-17805fbab545",
   "metadata": {},
   "outputs": [],
   "source": [
    "import warnings\n",
    "warnings.filterwarnings('ignore')"
   ]
  },
  {
   "cell_type": "code",
   "execution_count": 6,
   "id": "7a0ed6a7-b887-4972-92c3-a1d8b60675f5",
   "metadata": {},
   "outputs": [],
   "source": [
    "# Load clean job data\n",
    "job_set = pd.read_csv(\"./data_processed/jobset_clean.csv\")\n",
    "\n",
    "# Load the dataset from Step 3\n",
    "user_set = pd.read_csv(\"./data_interim/user_set_cleaned.csv\")\n",
    "dataset = pd.read_csv(\"./data_interim/dataset_cleaned.csv\")\n",
    "work_history = pd.read_csv('./data_interim/work_history_cleaned.csv')\n"
   ]
  },
  {
   "cell_type": "code",
   "execution_count": 7,
   "id": "d5b16784-56b5-45a1-afcb-69acbc91ef1c",
   "metadata": {},
   "outputs": [],
   "source": [
    "train_user = user_set[user_set.Split==\"Train\"].UserID.values\n",
    "test_user = user_set[user_set.Split==\"Test\"].UserID.values\n",
    "train_data = dataset[dataset.UserID.isin(train_user)]\n",
    "test_data = dataset[dataset.UserID.isin(test_user)]"
   ]
  },
  {
   "cell_type": "code",
   "execution_count": 8,
   "id": "c80f7198-f8ff-44a8-ba60-bcfaad7ebc83",
   "metadata": {},
   "outputs": [],
   "source": [
    "user_fm = pd.read_csv('./data_interim/users_fm.csv')\n",
    "job_fm = pd.read_csv('./data_interim/jobs_fm.csv')"
   ]
  },
  {
   "cell_type": "code",
   "execution_count": 9,
   "id": "dd1ec392-8813-49ac-8ee6-3f0868872062",
   "metadata": {},
   "outputs": [],
   "source": [
    "# Load ranking data random\n",
    "ranking_data = pd.read_csv('./nb_recsys_ebm/ranking_data_random.csv')"
   ]
  },
  {
   "cell_type": "markdown",
   "id": "18968ecc-65bd-408f-bb07-002ded57f746",
   "metadata": {},
   "source": [
    "## Load pre-train FM models"
   ]
  },
  {
   "cell_type": "code",
   "execution_count": 10,
   "id": "9e6f28f4-6af5-407e-98d5-4680f871aaed",
   "metadata": {},
   "outputs": [
    {
     "name": "stdout",
     "output_type": "stream",
     "text": [
      "CPU times: user 9.49 s, sys: 41.4 s, total: 50.9 s\n",
      "Wall time: 1min 16s\n"
     ]
    }
   ],
   "source": [
    "%%time\n",
    "import pickle\n",
    "model_name = './output_myfm/fm.pikle'\n",
    "fm = pickle.load(open(model_name, \"rb\"))"
   ]
  },
  {
   "cell_type": "code",
   "execution_count": 11,
   "id": "372f9894-9899-4771-a6d4-7db82c1a7224",
   "metadata": {},
   "outputs": [],
   "source": [
    "ranking_users = ranking_data.UserID.unique()"
   ]
  },
  {
   "cell_type": "code",
   "execution_count": 12,
   "id": "8bf5c55b-3a19-4b02-a78b-0e12a248e718",
   "metadata": {},
   "outputs": [
    {
     "data": {
      "text/plain": [
       "3716"
      ]
     },
     "execution_count": 12,
     "metadata": {},
     "output_type": "execute_result"
    }
   ],
   "source": [
    "len(ranking_users)"
   ]
  },
  {
   "cell_type": "markdown",
   "id": "af81d4af-e932-49af-9cd7-1b4581f60632",
   "metadata": {
    "tags": []
   },
   "source": [
    "# Model: FM"
   ]
  },
  {
   "cell_type": "code",
   "execution_count": 13,
   "id": "fada2a2c-3d7f-4ec8-a06c-d4890ab5e10c",
   "metadata": {},
   "outputs": [
    {
     "name": "stdout",
     "output_type": "stream",
     "text": [
      "CPU times: user 3h 6min 31s, sys: 5min 39s, total: 3h 12min 10s\n",
      "Wall time: 3h 11min 58s\n"
     ]
    }
   ],
   "source": [
    "%%time\n",
    "rec_result_fm = {}\n",
    "for u_id in ranking_users:\n",
    "    # print('UserID:', u_id)\n",
    "    rec_20 = topN_fm_simple(u_id = u_id, \n",
    "                          fm_type = 'fm', \n",
    "                          fm_model = fm, \n",
    "                          ranking_data = ranking_data, \n",
    "                          train_data = train_data, \n",
    "                          N=20)\n",
    "    rec_result_fm[u_id] = rec_20"
   ]
  },
  {
   "cell_type": "code",
   "execution_count": 14,
   "id": "6a8b022a-6bf6-4449-9b77-b49628f55e50",
   "metadata": {},
   "outputs": [
    {
     "data": {
      "text/plain": [
       "3716"
      ]
     },
     "execution_count": 14,
     "metadata": {},
     "output_type": "execute_result"
    }
   ],
   "source": [
    "len(rec_result_fm)"
   ]
  },
  {
   "cell_type": "code",
   "execution_count": 15,
   "id": "b0d6d7ef-d046-4fe2-9490-392a193ec283",
   "metadata": {},
   "outputs": [
    {
     "data": {
      "text/plain": [
       "[(638811, 0.7218407096228636, 1),\n",
       " (129969, 0.7168436040557893, 1),\n",
       " (489470, 0.6719174016253556, 1),\n",
       " (821691, 0.6715150121639518, 1),\n",
       " (1066465, 0.6646443960053428, 1),\n",
       " (561513, 0.6501749968889212, 1),\n",
       " (237243, 0.6401492302725701, 1),\n",
       " (75809, 0.6371026571800227, 1),\n",
       " (855212, 0.6293803811802222, 1),\n",
       " (904793, 0.6244986043398364, 1),\n",
       " (559170, 0.6207597155294439, 1),\n",
       " (350081, 0.6021001225905913, 1),\n",
       " (598128, 0.5999332015192613, 1),\n",
       " (123120, 0.5963917283239489, 1),\n",
       " (383666, 0.5936058631738987, 1),\n",
       " (472398, 0.591920651605492, 1),\n",
       " (1041876, 0.5911259070823139, 1),\n",
       " (482235, 0.5909327414755127, 1),\n",
       " (508898, 0.588569717394669, 1),\n",
       " (29419, 0.5820600912187534, 1)]"
      ]
     },
     "execution_count": 15,
     "metadata": {},
     "output_type": "execute_result"
    }
   ],
   "source": [
    "rec_result_fm[13]"
   ]
  },
  {
   "cell_type": "code",
   "execution_count": 16,
   "id": "4f02bd2d-7421-4ace-9489-ea820ba86fa1",
   "metadata": {},
   "outputs": [
    {
     "data": {
      "text/html": [
       "<div>\n",
       "<style scoped>\n",
       "    .dataframe tbody tr th:only-of-type {\n",
       "        vertical-align: middle;\n",
       "    }\n",
       "\n",
       "    .dataframe tbody tr th {\n",
       "        vertical-align: top;\n",
       "    }\n",
       "\n",
       "    .dataframe thead th {\n",
       "        text-align: right;\n",
       "    }\n",
       "</style>\n",
       "<table border=\"1\" class=\"dataframe\">\n",
       "  <thead>\n",
       "    <tr style=\"text-align: right;\">\n",
       "      <th></th>\n",
       "      <th>13</th>\n",
       "      <th>514</th>\n",
       "      <th>681</th>\n",
       "      <th>767</th>\n",
       "      <th>883</th>\n",
       "      <th>1006</th>\n",
       "      <th>1066</th>\n",
       "      <th>1149</th>\n",
       "      <th>2520</th>\n",
       "      <th>2639</th>\n",
       "      <th>...</th>\n",
       "      <th>1464243</th>\n",
       "      <th>1464260</th>\n",
       "      <th>1470151</th>\n",
       "      <th>1470280</th>\n",
       "      <th>1470641</th>\n",
       "      <th>1470705</th>\n",
       "      <th>1470706</th>\n",
       "      <th>1470779</th>\n",
       "      <th>1471251</th>\n",
       "      <th>1471988</th>\n",
       "    </tr>\n",
       "  </thead>\n",
       "  <tbody>\n",
       "    <tr>\n",
       "      <th>0</th>\n",
       "      <td>(638811, 0.7218407096228636, 1)</td>\n",
       "      <td>(131166, 0.7029697745375464, 1)</td>\n",
       "      <td>(1013609, 0.7088708523552077, 1)</td>\n",
       "      <td>(491762, 0.739534449457711, 1)</td>\n",
       "      <td>(46854, 0.6627290482123902, 1)</td>\n",
       "      <td>(1012531, 0.6380059237802229, 1)</td>\n",
       "      <td>(709999, 0.7594332693792967, 1)</td>\n",
       "      <td>(807824, 0.755150274597153, 1)</td>\n",
       "      <td>(930936, 0.6516578858059391, 1)</td>\n",
       "      <td>(316774, 0.6609906188627939, 1)</td>\n",
       "      <td>...</td>\n",
       "      <td>(917900, 0.7097199805552189, 1)</td>\n",
       "      <td>(906237, 0.7112793538140937, 1)</td>\n",
       "      <td>(768835, 0.6773767752988719, 1)</td>\n",
       "      <td>(510070, 0.7118771337694693, 1)</td>\n",
       "      <td>(44890, 0.6858127807611676, 1)</td>\n",
       "      <td>(813782, 0.7532165057301071, 1)</td>\n",
       "      <td>(994358, 0.6854168493510994, 1)</td>\n",
       "      <td>(597857, 0.7545975199742243, 1)</td>\n",
       "      <td>(232965, 0.7193165051457576, 1)</td>\n",
       "      <td>(1026607, 0.5963615966554502, 1)</td>\n",
       "    </tr>\n",
       "    <tr>\n",
       "      <th>1</th>\n",
       "      <td>(129969, 0.7168436040557893, 1)</td>\n",
       "      <td>(616523, 0.6814811579151427, 1)</td>\n",
       "      <td>(484750, 0.6930133079204106, 1)</td>\n",
       "      <td>(762663, 0.7375728884484928, 1)</td>\n",
       "      <td>(969100, 0.6370222503712079, 1)</td>\n",
       "      <td>(883643, 0.6356558472412309, 1)</td>\n",
       "      <td>(957610, 0.6722629214914195, 1)</td>\n",
       "      <td>(1040820, 0.66795410712108, 1)</td>\n",
       "      <td>(283997, 0.6361747767833328, 1)</td>\n",
       "      <td>(874575, 0.6547567054955663, 1)</td>\n",
       "      <td>...</td>\n",
       "      <td>(301543, 0.6931450958890996, 1)</td>\n",
       "      <td>(581451, 0.7053104312511369, 1)</td>\n",
       "      <td>(327471, 0.6655367195267725, 1)</td>\n",
       "      <td>(674314, 0.6971531496058277, 1)</td>\n",
       "      <td>(694177, 0.6660196214188668, 1)</td>\n",
       "      <td>(163278, 0.7271595346481137, 1)</td>\n",
       "      <td>(616988, 0.6713456189871875, 1)</td>\n",
       "      <td>(780847, 0.6870924465278277, 1)</td>\n",
       "      <td>(1053341, 0.6936236883966593, 1)</td>\n",
       "      <td>(320656, 0.5945385723425424, 1)</td>\n",
       "    </tr>\n",
       "  </tbody>\n",
       "</table>\n",
       "<p>2 rows × 3716 columns</p>\n",
       "</div>"
      ],
      "text/plain": [
       "                           13                               514      \\\n",
       "0  (638811, 0.7218407096228636, 1)  (131166, 0.7029697745375464, 1)   \n",
       "1  (129969, 0.7168436040557893, 1)  (616523, 0.6814811579151427, 1)   \n",
       "\n",
       "                            681                              767      \\\n",
       "0  (1013609, 0.7088708523552077, 1)   (491762, 0.739534449457711, 1)   \n",
       "1   (484750, 0.6930133079204106, 1)  (762663, 0.7375728884484928, 1)   \n",
       "\n",
       "                           883                               1006     \\\n",
       "0   (46854, 0.6627290482123902, 1)  (1012531, 0.6380059237802229, 1)   \n",
       "1  (969100, 0.6370222503712079, 1)   (883643, 0.6356558472412309, 1)   \n",
       "\n",
       "                           1066                            1149     \\\n",
       "0  (709999, 0.7594332693792967, 1)  (807824, 0.755150274597153, 1)   \n",
       "1  (957610, 0.6722629214914195, 1)  (1040820, 0.66795410712108, 1)   \n",
       "\n",
       "                           2520                             2639     ...  \\\n",
       "0  (930936, 0.6516578858059391, 1)  (316774, 0.6609906188627939, 1)  ...   \n",
       "1  (283997, 0.6361747767833328, 1)  (874575, 0.6547567054955663, 1)  ...   \n",
       "\n",
       "                           1464243                          1464260  \\\n",
       "0  (917900, 0.7097199805552189, 1)  (906237, 0.7112793538140937, 1)   \n",
       "1  (301543, 0.6931450958890996, 1)  (581451, 0.7053104312511369, 1)   \n",
       "\n",
       "                           1470151                          1470280  \\\n",
       "0  (768835, 0.6773767752988719, 1)  (510070, 0.7118771337694693, 1)   \n",
       "1  (327471, 0.6655367195267725, 1)  (674314, 0.6971531496058277, 1)   \n",
       "\n",
       "                           1470641                          1470705  \\\n",
       "0   (44890, 0.6858127807611676, 1)  (813782, 0.7532165057301071, 1)   \n",
       "1  (694177, 0.6660196214188668, 1)  (163278, 0.7271595346481137, 1)   \n",
       "\n",
       "                           1470706                          1470779  \\\n",
       "0  (994358, 0.6854168493510994, 1)  (597857, 0.7545975199742243, 1)   \n",
       "1  (616988, 0.6713456189871875, 1)  (780847, 0.6870924465278277, 1)   \n",
       "\n",
       "                            1471251                           1471988  \n",
       "0   (232965, 0.7193165051457576, 1)  (1026607, 0.5963615966554502, 1)  \n",
       "1  (1053341, 0.6936236883966593, 1)   (320656, 0.5945385723425424, 1)  \n",
       "\n",
       "[2 rows x 3716 columns]"
      ]
     },
     "execution_count": 16,
     "metadata": {},
     "output_type": "execute_result"
    }
   ],
   "source": [
    "pd.DataFrame(rec_result_fm).head(2)"
   ]
  },
  {
   "cell_type": "code",
   "execution_count": 17,
   "id": "3c929974-e27f-474d-bdda-0a48871556b8",
   "metadata": {},
   "outputs": [
    {
     "name": "stdout",
     "output_type": "stream",
     "text": [
      "CPU times: user 11.8 s, sys: 76.1 ms, total: 11.9 s\n",
      "Wall time: 11.9 s\n"
     ]
    }
   ],
   "source": [
    "%%time\n",
    "final_rec_result = pd.DataFrame(columns = ['JobID', 'Y_prob', 'Y_pred','UserID','rank'])\n",
    "\n",
    "for u_id in ranking_users:\n",
    "    \n",
    "    temp_df = get_rec_result_df(u_id=u_id, \n",
    "                                rec_N=rec_result_fm[u_id])\n",
    "    # print(u_id, len(temp_df))\n",
    "    final_rec_result = pd.concat([final_rec_result, temp_df])\n",
    "\n",
    "# final_rec_result = final_rec_result[['UserID','JobID', 'Y_prob', 'Y_pred', 'rank']]"
   ]
  },
  {
   "cell_type": "code",
   "execution_count": 18,
   "id": "989ffe18-de8d-43de-ac40-7f34a0c513fc",
   "metadata": {},
   "outputs": [
    {
     "data": {
      "text/plain": [
       "74320"
      ]
     },
     "execution_count": 18,
     "metadata": {},
     "output_type": "execute_result"
    }
   ],
   "source": [
    "len(final_rec_result)"
   ]
  },
  {
   "cell_type": "markdown",
   "id": "3dc8dd5c-4425-4a2a-bc2c-a180f9a59b80",
   "metadata": {},
   "source": [
    "# Export results"
   ]
  },
  {
   "cell_type": "code",
   "execution_count": 19,
   "id": "d4f30901-6eba-4656-9b6d-511d3e9921e9",
   "metadata": {},
   "outputs": [],
   "source": [
    "final_rec_result.to_csv('./output_topN_myfm/rec20_fm_random.csv', header=True, index=False)"
   ]
  },
  {
   "cell_type": "code",
   "execution_count": 20,
   "id": "0cb03d97-0b00-42c9-82f0-bfd0e62058b1",
   "metadata": {},
   "outputs": [],
   "source": [
    "# Export rec result dictionary\n",
    "import gzip, pickle, pickletools\n",
    "\n",
    "filepath = \"./nb_recsys_myfm/rec_result_fm_random.pikle\"\n",
    "with gzip.open(filepath, \"wb\") as f:\n",
    "    pickled = pickle.dumps(rec_result_fm)\n",
    "    optimized_pickle = pickletools.optimize(pickled)\n",
    "    f.write(optimized_pickle)"
   ]
  },
  {
   "cell_type": "code",
   "execution_count": 21,
   "id": "9ef21c0a-848c-440c-ab4c-c23f2c00d822",
   "metadata": {},
   "outputs": [
    {
     "name": "stdout",
     "output_type": "stream",
     "text": [
      "CPU times: user 51.7 ms, sys: 4.01 ms, total: 55.7 ms\n",
      "Wall time: 54.7 ms\n"
     ]
    }
   ],
   "source": [
    "%%time\n",
    "with gzip.open(filepath, 'rb') as f:\n",
    "    p = pickle.Unpickler(f)\n",
    "    loaded_rec_result = p.load()"
   ]
  },
  {
   "cell_type": "code",
   "execution_count": 22,
   "id": "526b76b1-1f18-43c8-bbe6-1d2de18de0a3",
   "metadata": {},
   "outputs": [
    {
     "data": {
      "text/plain": [
       "[(638811, 0.7218407096228636, 1),\n",
       " (129969, 0.7168436040557893, 1),\n",
       " (489470, 0.6719174016253556, 1),\n",
       " (821691, 0.6715150121639518, 1),\n",
       " (1066465, 0.6646443960053428, 1),\n",
       " (561513, 0.6501749968889212, 1),\n",
       " (237243, 0.6401492302725701, 1),\n",
       " (75809, 0.6371026571800227, 1),\n",
       " (855212, 0.6293803811802222, 1),\n",
       " (904793, 0.6244986043398364, 1),\n",
       " (559170, 0.6207597155294439, 1),\n",
       " (350081, 0.6021001225905913, 1),\n",
       " (598128, 0.5999332015192613, 1),\n",
       " (123120, 0.5963917283239489, 1),\n",
       " (383666, 0.5936058631738987, 1),\n",
       " (472398, 0.591920651605492, 1),\n",
       " (1041876, 0.5911259070823139, 1),\n",
       " (482235, 0.5909327414755127, 1),\n",
       " (508898, 0.588569717394669, 1),\n",
       " (29419, 0.5820600912187534, 1)]"
      ]
     },
     "execution_count": 22,
     "metadata": {},
     "output_type": "execute_result"
    }
   ],
   "source": [
    "loaded_rec_result[13]"
   ]
  },
  {
   "cell_type": "code",
   "execution_count": null,
   "id": "12619a1c-18b3-493c-9883-bef1bf4137b3",
   "metadata": {},
   "outputs": [],
   "source": []
  }
 ],
 "metadata": {
  "kernelspec": {
   "display_name": "Python",
   "language": "python",
   "name": "python3"
  },
  "language_info": {
   "codemirror_mode": {
    "name": "ipython",
    "version": 3
   },
   "file_extension": ".py",
   "mimetype": "text/x-python",
   "name": "python",
   "nbconvert_exporter": "python",
   "pygments_lexer": "ipython3",
   "version": "3.8.10"
  }
 },
 "nbformat": 4,
 "nbformat_minor": 5
}
