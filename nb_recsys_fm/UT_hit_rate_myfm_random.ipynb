{
 "cells": [
  {
   "cell_type": "markdown",
   "id": "9c1f2377-8722-4575-9ffd-87c3b1b35eab",
   "metadata": {},
   "source": [
    "# Calculate hit_rate\n",
    "## Model: EBM models (trained on tabular LDA features)\n",
    "## Source of potential applications: random ranking data \n",
    "- Input: Top20 recommendation results by 4 fm models: fm, fm_match, fm_side_info, fm_extended\n",
    "- Hit rate: Evaluated on different benchmarks: knn_lda_ranking_data, random_ranking_data, actual test_interaction data\n",
    "- Hit rate @5, @10, @20 for each model"
   ]
  },
  {
   "cell_type": "code",
   "execution_count": 1,
   "id": "eb473a5a-cd42-4006-bf6c-af1423dd71e9",
   "metadata": {},
   "outputs": [],
   "source": [
    "import numpy as np\n",
    "import pandas as pd"
   ]
  },
  {
   "cell_type": "code",
   "execution_count": 2,
   "id": "abdf83d6-59f2-44b9-b0e4-24c109f7c652",
   "metadata": {},
   "outputs": [],
   "source": [
    "import warnings\n",
    "warnings.filterwarnings('ignore')"
   ]
  },
  {
   "cell_type": "code",
   "execution_count": 3,
   "id": "57c8e4d0-3876-44a5-8359-0acbedf38cb4",
   "metadata": {},
   "outputs": [
    {
     "name": "stdout",
     "output_type": "stream",
     "text": [
      "Working directory: /home/jovyan/1_UT THESIS/CB12_MAIN/nb_recsys_myfm\n"
     ]
    }
   ],
   "source": [
    "# Run this for reproduce\n",
    "# Gets the current working directory\n",
    "import os\n",
    "cwd = os.getcwd()\n",
    "print(\"Working directory:\", cwd)\n",
    "# Go up one directory from working directory\n",
    "os.chdir(\"..\")"
   ]
  },
  {
   "cell_type": "code",
   "execution_count": 4,
   "id": "7ff37b86-cab0-407f-b216-1f68075fc850",
   "metadata": {},
   "outputs": [],
   "source": [
    "# Load evaluation data based on knn_lda\n",
    "evaluation_data = pd.read_csv('./nb_recsys_myfm/ranking_data_knn_lda_v2.csv')"
   ]
  },
  {
   "cell_type": "code",
   "execution_count": 5,
   "id": "44d99819-b807-42de-ac59-ba70173c4b6d",
   "metadata": {},
   "outputs": [
    {
     "name": "stdout",
     "output_type": "stream",
     "text": [
      "<class 'pandas.core.frame.DataFrame'>\n",
      "RangeIndex: 369098 entries, 0 to 369097\n",
      "Data columns (total 6 columns):\n",
      " #   Column   Non-Null Count   Dtype  \n",
      "---  ------   --------------   -----  \n",
      " 0   UserID   369098 non-null  int64  \n",
      " 1   JobID    369098 non-null  int64  \n",
      " 2   label    369098 non-null  float64\n",
      " 3   City     369098 non-null  float64\n",
      " 4   State    369098 non-null  float64\n",
      " 5   Country  369098 non-null  float64\n",
      "dtypes: float64(4), int64(2)\n",
      "memory usage: 16.9 MB\n"
     ]
    }
   ],
   "source": [
    "evaluation_data.info()"
   ]
  },
  {
   "cell_type": "code",
   "execution_count": 6,
   "id": "9cf5d2a6-7cd7-4921-95e4-9588e1623a3f",
   "metadata": {},
   "outputs": [
    {
     "data": {
      "text/plain": [
       "label\n",
       "0.0    368951\n",
       "1.0       147\n",
       "Name: count, dtype: int64"
      ]
     },
     "execution_count": 6,
     "metadata": {},
     "output_type": "execute_result"
    }
   ],
   "source": [
    "evaluation_data.label.value_counts()"
   ]
  },
  {
   "cell_type": "code",
   "execution_count": 9,
   "id": "ce30e0a2-788f-40f1-aa02-b76968b48906",
   "metadata": {},
   "outputs": [
    {
     "data": {
      "text/plain": [
       "label\n",
       "0    367884\n",
       "1      3716\n",
       "Name: count, dtype: int64"
      ]
     },
     "execution_count": 9,
     "metadata": {},
     "output_type": "execute_result"
    }
   ],
   "source": [
    "# Load ranking random data\n",
    "ranking_data_random = pd.read_csv('./nb_recsys_myfm/ranking_data_random.csv')\n",
    "ranking_data_random.label.value_counts()"
   ]
  },
  {
   "cell_type": "code",
   "execution_count": 8,
   "id": "82b83149-65d7-4842-99eb-28718e4cdef1",
   "metadata": {},
   "outputs": [],
   "source": [
    "def get_hit_rate_at_k(recommendations, rankings, K):\n",
    "    total_users = len(recommendations['UserID'].unique())\n",
    "    hit_count = 0\n",
    "    # mark_stop = 0\n",
    "    for user_id in recommendations['UserID'].unique():\n",
    "        user_recommendations = recommendations[recommendations['UserID'] == user_id]['JobID'].tolist()[:K]\n",
    "        actual_job_ids = rankings[(rankings['UserID'] == user_id) & (rankings['label'] == 1)]['JobID'].tolist()\n",
    "\n",
    "        for rec_job_id in user_recommendations:\n",
    "            if rec_job_id in actual_job_ids:\n",
    "                # print('hit detail UserID, JobID: ', user_id, rec_job_id)\n",
    "                hit_count += 1\n",
    "                break     \n",
    "        # mark_stop =+1\n",
    "        # if mark_stop == 2:\n",
    "        #     break\n",
    "    print('final hit_count:', hit_count)\n",
    "    hit_rate = hit_count / total_users\n",
    "    return hit_rate"
   ]
  },
  {
   "cell_type": "code",
   "execution_count": 10,
   "id": "52e21de9-f003-4f82-ab07-7dab6241474e",
   "metadata": {},
   "outputs": [],
   "source": [
    "models = []\n",
    "benchmarks = []\n",
    "hits_5 = []\n",
    "hits_10 = []\n",
    "hits_20 = []"
   ]
  },
  {
   "cell_type": "markdown",
   "id": "b0890999-5bfe-4e2d-97a3-eeb68f60e504",
   "metadata": {},
   "source": [
    "## Load recommendation results"
   ]
  },
  {
   "cell_type": "code",
   "execution_count": 11,
   "id": "f26b713c-9ca0-4fda-ab1e-c820cd570980",
   "metadata": {},
   "outputs": [],
   "source": [
    "fm_recommendations = pd.read_csv('./output_topN_myfm/rec20_fm_v3.csv')\n",
    "fm_match_recommendations = pd.read_csv('./output_topN_myfm/rec20_fm_v3.csv')"
   ]
  },
  {
   "cell_type": "code",
   "execution_count": 12,
   "id": "4a20f4a3-d4a6-4001-bdd5-13e31a1a10d1",
   "metadata": {},
   "outputs": [],
   "source": [
    "fm_side_info_recommendations = pd.read_csv('./output_topN_myfm/rec20_fm_side_info_v3.csv')\n",
    "fm_extended_recommendations = pd.read_csv('./output_topN_myfm/rec20_fm_extended_v3.csv')"
   ]
  },
  {
   "cell_type": "markdown",
   "id": "b804fbca-e59a-48db-9f36-5b0962311bd8",
   "metadata": {},
   "source": [
    "# Calculate hit_rate (manual) - Benchmark - ranking random data\n",
    "Positive items: Only consider label 1"
   ]
  },
  {
   "cell_type": "code",
   "execution_count": 13,
   "id": "c7b28659-a8b5-4a20-a460-0190d8317893",
   "metadata": {},
   "outputs": [],
   "source": [
    "benchmark = 'ranking_data_random'"
   ]
  },
  {
   "cell_type": "markdown",
   "id": "8bc312d4-7e1c-4b2b-8d91-6e5060c10900",
   "metadata": {},
   "source": [
    "## Model: fm"
   ]
  },
  {
   "cell_type": "code",
   "execution_count": 14,
   "id": "9a73525c-29d3-4528-a932-2438e7b3126c",
   "metadata": {},
   "outputs": [
    {
     "name": "stdout",
     "output_type": "stream",
     "text": [
      "final hit_count: 1217\n",
      "Model: fm - Hit rate at 5: 0.327502691065662\n",
      "final hit_count: 1797\n",
      "Model: fm - Hit rate at 10: 0.4835844994617869\n",
      "final hit_count: 3216\n",
      "Model: fm - Hit rate at 20: 0.8654467168998924\n",
      "CPU times: user 12.6 s, sys: 0 ns, total: 12.6 s\n",
      "Wall time: 12.6 s\n"
     ]
    }
   ],
   "source": [
    "%%time\n",
    "# Calculate hit rate at K (precision at K)\n",
    "model = 'fm'\n",
    "k = 5  # Set the desired value of K\n",
    "hit_5 = get_hit_rate_at_k(recommendations = fm_recommendations, \n",
    "                                   rankings = ranking_data_random, \n",
    "                                   K=k)\n",
    "print(f\"Model: {model} - Hit rate at {k}: {hit_5}\")\n",
    "\n",
    "k = 10  # Set the desired value of K\n",
    "hit_10 = get_hit_rate_at_k(recommendations = fm_recommendations, \n",
    "                                   rankings = ranking_data_random, \n",
    "                                   K=k)\n",
    "print(f\"Model: {model} - Hit rate at {k}: {hit_10}\")\n",
    "\n",
    "k = 20  # Set the desired value of K\n",
    "hit_20 = get_hit_rate_at_k(recommendations = fm_recommendations, \n",
    "                                   rankings = ranking_data_random, \n",
    "                                   K=k)\n",
    "print(f\"Model: {model} - Hit rate at {k}: {hit_20}\")"
   ]
  },
  {
   "cell_type": "code",
   "execution_count": 15,
   "id": "28aaf3cd-9dd5-4862-ba02-af224aab66b1",
   "metadata": {},
   "outputs": [],
   "source": [
    "models.append(model)\n",
    "benchmarks.append(benchmark)\n",
    "hits_5.append(hit_5)\n",
    "hits_10.append(hit_10)\n",
    "hits_20.append(hit_20)"
   ]
  },
  {
   "cell_type": "markdown",
   "id": "52ee0f96-46e3-4da9-97d0-e102049c6958",
   "metadata": {},
   "source": [
    "## Model: fm_match"
   ]
  },
  {
   "cell_type": "code",
   "execution_count": 16,
   "id": "98eba717-efd4-488e-97e4-12d8b400cf6f",
   "metadata": {},
   "outputs": [
    {
     "name": "stdout",
     "output_type": "stream",
     "text": [
      "final hit_count: 1217\n",
      "Model: fm_match - Hit rate at 5: 0.327502691065662\n",
      "final hit_count: 1797\n",
      "Model: fm_match - Hit rate at 10: 0.4835844994617869\n",
      "final hit_count: 3216\n",
      "Model: fm_match - Hit rate at 20: 0.8654467168998924\n",
      "CPU times: user 12.1 s, sys: 0 ns, total: 12.1 s\n",
      "Wall time: 12.1 s\n"
     ]
    }
   ],
   "source": [
    "%%time\n",
    "# Calculate hit rate at K (precision at K)\n",
    "model = 'fm_match'\n",
    "k = 5  # Set the desired value of K\n",
    "hit_5 = get_hit_rate_at_k(recommendations = fm_match_recommendations, \n",
    "                                   rankings = ranking_data_random, \n",
    "                                   K=k)\n",
    "print(f\"Model: {model} - Hit rate at {k}: {hit_5}\")\n",
    "\n",
    "k = 10  # Set the desired value of K\n",
    "hit_10 = get_hit_rate_at_k(recommendations = fm_match_recommendations, \n",
    "                                   rankings = ranking_data_random, \n",
    "                                   K=k)\n",
    "print(f\"Model: {model} - Hit rate at {k}: {hit_10}\")\n",
    "\n",
    "k = 20  # Set the desired value of K\n",
    "hit_20 = get_hit_rate_at_k(recommendations = fm_match_recommendations, \n",
    "                                   rankings = ranking_data_random, \n",
    "                                   K=k)\n",
    "print(f\"Model: {model} - Hit rate at {k}: {hit_20}\")"
   ]
  },
  {
   "cell_type": "code",
   "execution_count": 17,
   "id": "0b473695-6860-4226-88ce-1345792219b5",
   "metadata": {},
   "outputs": [],
   "source": [
    "models.append(model)\n",
    "benchmarks.append(benchmark)\n",
    "hits_5.append(hit_5)\n",
    "hits_10.append(hit_10)\n",
    "hits_20.append(hit_20)"
   ]
  },
  {
   "cell_type": "markdown",
   "id": "0f6a4faa-ce72-44f9-9652-d79aff77d674",
   "metadata": {
    "tags": []
   },
   "source": [
    "## Model: fm_side_info"
   ]
  },
  {
   "cell_type": "code",
   "execution_count": 18,
   "id": "0008d392-170e-4830-8e48-4c2642487eff",
   "metadata": {},
   "outputs": [
    {
     "name": "stdout",
     "output_type": "stream",
     "text": [
      "final hit_count: 1164\n",
      "Model: fm_side_info - Hit rate at 5: 0.31536169059875374\n",
      "final hit_count: 1670\n",
      "Model: fm_side_info - Hit rate at 10: 0.45245191005147656\n",
      "final hit_count: 2210\n",
      "Model: fm_side_info - Hit rate at 20: 0.5987537252777025\n",
      "CPU times: user 12 s, sys: 0 ns, total: 12 s\n",
      "Wall time: 12 s\n"
     ]
    }
   ],
   "source": [
    "%%time\n",
    "# Calculate hit rate at K (precision at K)\n",
    "model = 'fm_side_info'\n",
    "k = 5  # Set the desired value of K\n",
    "hit_5 = get_hit_rate_at_k(recommendations = fm_side_info_recommendations, \n",
    "                                   rankings = ranking_data_random, \n",
    "                                   K=k)\n",
    "print(f\"Model: {model} - Hit rate at {k}: {hit_5}\")\n",
    "\n",
    "k = 10  # Set the desired value of K\n",
    "hit_10 = get_hit_rate_at_k(recommendations = fm_side_info_recommendations, \n",
    "                                   rankings = ranking_data_random, \n",
    "                                   K=k)\n",
    "print(f\"Model: {model} - Hit rate at {k}: {hit_10}\")\n",
    "\n",
    "k = 20  # Set the desired value of K\n",
    "hit_20 = get_hit_rate_at_k(recommendations = fm_side_info_recommendations, \n",
    "                                   rankings = ranking_data_random, \n",
    "                                   K=k)\n",
    "print(f\"Model: {model} - Hit rate at {k}: {hit_20}\")"
   ]
  },
  {
   "cell_type": "code",
   "execution_count": 19,
   "id": "849efb4c-8810-4bf9-9bd2-14299ec2c97a",
   "metadata": {},
   "outputs": [],
   "source": [
    "models.append(model)\n",
    "benchmarks.append(benchmark)\n",
    "hits_5.append(hit_5)\n",
    "hits_10.append(hit_10)\n",
    "hits_20.append(hit_20)"
   ]
  },
  {
   "cell_type": "markdown",
   "id": "51918617-4970-4898-8b15-cca5af5a14b0",
   "metadata": {
    "tags": []
   },
   "source": [
    "## Model: fm_extended"
   ]
  },
  {
   "cell_type": "code",
   "execution_count": 20,
   "id": "78d8bd6c-3fc3-4113-a31b-e653c56cc6e2",
   "metadata": {},
   "outputs": [
    {
     "name": "stdout",
     "output_type": "stream",
     "text": [
      "final hit_count: 3317\n",
      "Model: fm_extended - Hit rate at 5: 0.8986724464914657\n",
      "final hit_count: 3357\n",
      "Model: fm_extended - Hit rate at 10: 0.9095096179897046\n",
      "final hit_count: 3421\n",
      "Model: fm_extended - Hit rate at 20: 0.9268490923868871\n",
      "CPU times: user 12 s, sys: 0 ns, total: 12 s\n",
      "Wall time: 12 s\n"
     ]
    }
   ],
   "source": [
    "%%time\n",
    "# Calculate hit rate at K (precision at K)\n",
    "model = 'fm_extended'\n",
    "k = 5  # Set the desired value of K\n",
    "hit_5 = get_hit_rate_at_k(recommendations = fm_extended_recommendations, \n",
    "                                   rankings = ranking_data_random, \n",
    "                                   K=k)\n",
    "print(f\"Model: {model} - Hit rate at {k}: {hit_5}\")\n",
    "\n",
    "k = 10  # Set the desired value of K\n",
    "hit_10 = get_hit_rate_at_k(recommendations = fm_extended_recommendations, \n",
    "                                   rankings = ranking_data_random, \n",
    "                                   K=k)\n",
    "print(f\"Model: {model} - Hit rate at {k}: {hit_10}\")\n",
    "\n",
    "k = 20  # Set the desired value of K\n",
    "hit_20 = get_hit_rate_at_k(recommendations = fm_extended_recommendations, \n",
    "                                   rankings = ranking_data_random, \n",
    "                                   K=k)\n",
    "print(f\"Model: {model} - Hit rate at {k}: {hit_20}\")"
   ]
  },
  {
   "cell_type": "code",
   "execution_count": 21,
   "id": "f03f8670-948c-45c9-a23e-6aaaefd93711",
   "metadata": {},
   "outputs": [],
   "source": [
    "models.append(model)\n",
    "benchmarks.append(benchmark)\n",
    "hits_5.append(hit_5)\n",
    "hits_10.append(hit_10)\n",
    "hits_20.append(hit_20)"
   ]
  },
  {
   "cell_type": "markdown",
   "id": "216ce01f-fe97-4236-9706-12c4fce30adb",
   "metadata": {
    "tags": []
   },
   "source": [
    "# Calculate hit_rate (manual) - Benchmark - evaluation data\n",
    "Positive items: Only consider label 1"
   ]
  },
  {
   "cell_type": "code",
   "execution_count": 22,
   "id": "877fa07c-9515-470a-9ceb-b0a9399e0a32",
   "metadata": {},
   "outputs": [],
   "source": [
    "benchmark = 'ranking_knn_lda'"
   ]
  },
  {
   "cell_type": "markdown",
   "id": "71440fa7-4939-401b-b2fd-c492ad298cf6",
   "metadata": {
    "tags": []
   },
   "source": [
    "## Model: fm"
   ]
  },
  {
   "cell_type": "code",
   "execution_count": 23,
   "id": "ac89728b-eecc-43ce-8aca-d2ec9790a763",
   "metadata": {},
   "outputs": [
    {
     "name": "stdout",
     "output_type": "stream",
     "text": [
      "final hit_count: 0\n",
      "Model: fm - Hit rate at 5: 0.0\n",
      "final hit_count: 0\n",
      "Model: fm - Hit rate at 10: 0.0\n",
      "final hit_count: 0\n",
      "Model: fm - Hit rate at 20: 0.0\n",
      "CPU times: user 11.8 s, sys: 0 ns, total: 11.8 s\n",
      "Wall time: 11.8 s\n"
     ]
    }
   ],
   "source": [
    "%%time\n",
    "# Calculate hit rate at K (precision at K)\n",
    "model = 'fm'\n",
    "k = 5  # Set the desired value of K\n",
    "hit_5 = get_hit_rate_at_k(recommendations = fm_recommendations, \n",
    "                                   rankings = evaluation_data, \n",
    "                                   K=k)\n",
    "print(f\"Model: {model} - Hit rate at {k}: {hit_5}\")\n",
    "\n",
    "k = 10  # Set the desired value of K\n",
    "hit_10 = get_hit_rate_at_k(recommendations = fm_recommendations, \n",
    "                                   rankings = evaluation_data, \n",
    "                                   K=k)\n",
    "print(f\"Model: {model} - Hit rate at {k}: {hit_10}\")\n",
    "\n",
    "k = 20  # Set the desired value of K\n",
    "hit_20 = get_hit_rate_at_k(recommendations = fm_recommendations, \n",
    "                                   rankings = evaluation_data, \n",
    "                                   K=k)\n",
    "print(f\"Model: {model} - Hit rate at {k}: {hit_20}\")"
   ]
  },
  {
   "cell_type": "code",
   "execution_count": 24,
   "id": "71bb71a5-2e93-436d-9ada-0a9491beefa0",
   "metadata": {},
   "outputs": [],
   "source": [
    "models.append(model)\n",
    "benchmarks.append(benchmark)\n",
    "hits_5.append(hit_5)\n",
    "hits_10.append(hit_10)\n",
    "hits_20.append(hit_20)"
   ]
  },
  {
   "cell_type": "markdown",
   "id": "aaa29e75-d5ea-49a8-8b75-96426312f8cd",
   "metadata": {
    "tags": []
   },
   "source": [
    "## Model: fm_match"
   ]
  },
  {
   "cell_type": "code",
   "execution_count": 25,
   "id": "948994ee-d7b8-48b6-8368-9b8470f9adc7",
   "metadata": {},
   "outputs": [
    {
     "name": "stdout",
     "output_type": "stream",
     "text": [
      "final hit_count: 0\n",
      "Model: fm_match - Hit rate at 5: 0.0\n",
      "final hit_count: 0\n",
      "Model: fm_match - Hit rate at 10: 0.0\n",
      "final hit_count: 0\n",
      "Model: fm_match - Hit rate at 20: 0.0\n",
      "CPU times: user 11.7 s, sys: 0 ns, total: 11.7 s\n",
      "Wall time: 11.7 s\n"
     ]
    }
   ],
   "source": [
    "%%time\n",
    "# Calculate hit rate at K (precision at K)\n",
    "model = 'fm_match'\n",
    "k = 5  # Set the desired value of K\n",
    "hit_5 = get_hit_rate_at_k(recommendations = fm_match_recommendations, \n",
    "                                   rankings = evaluation_data, \n",
    "                                   K=k)\n",
    "print(f\"Model: {model} - Hit rate at {k}: {hit_5}\")\n",
    "\n",
    "k = 10  # Set the desired value of K\n",
    "hit_10 = get_hit_rate_at_k(recommendations = fm_match_recommendations, \n",
    "                                   rankings = evaluation_data, \n",
    "                                   K=k)\n",
    "print(f\"Model: {model} - Hit rate at {k}: {hit_10}\")\n",
    "\n",
    "k = 20  # Set the desired value of K\n",
    "hit_20 = get_hit_rate_at_k(recommendations = fm_match_recommendations, \n",
    "                                   rankings = evaluation_data, \n",
    "                                   K=k)\n",
    "print(f\"Model: {model} - Hit rate at {k}: {hit_20}\")"
   ]
  },
  {
   "cell_type": "code",
   "execution_count": 26,
   "id": "61cb6075-0ca9-4bf6-89f9-b7005d4c577e",
   "metadata": {},
   "outputs": [],
   "source": [
    "models.append(model)\n",
    "benchmarks.append(benchmark)\n",
    "hits_5.append(hit_5)\n",
    "hits_10.append(hit_10)\n",
    "hits_20.append(hit_20)"
   ]
  },
  {
   "cell_type": "markdown",
   "id": "913e2123-2ba1-458d-924b-994039880aef",
   "metadata": {
    "tags": []
   },
   "source": [
    "## Model: fm_side_info"
   ]
  },
  {
   "cell_type": "code",
   "execution_count": 27,
   "id": "d6151a7b-97c6-4745-89cf-4d2079543e3e",
   "metadata": {},
   "outputs": [
    {
     "name": "stdout",
     "output_type": "stream",
     "text": [
      "final hit_count: 0\n",
      "Model: fm_side_info - Hit rate at 5: 0.0\n",
      "final hit_count: 0\n",
      "Model: fm_side_info - Hit rate at 10: 0.0\n",
      "final hit_count: 0\n",
      "Model: fm_side_info - Hit rate at 20: 0.0\n",
      "CPU times: user 11.6 s, sys: 2.55 ms, total: 11.6 s\n",
      "Wall time: 11.6 s\n"
     ]
    }
   ],
   "source": [
    "%%time\n",
    "# Calculate hit rate at K (precision at K)\n",
    "model = 'fm_side_info'\n",
    "k = 5  # Set the desired value of K\n",
    "hit_5 = get_hit_rate_at_k(recommendations = fm_side_info_recommendations, \n",
    "                                   rankings = evaluation_data, \n",
    "                                   K=k)\n",
    "print(f\"Model: {model} - Hit rate at {k}: {hit_5}\")\n",
    "\n",
    "k = 10  # Set the desired value of K\n",
    "hit_10 = get_hit_rate_at_k(recommendations = fm_side_info_recommendations, \n",
    "                                   rankings = evaluation_data, \n",
    "                                   K=k)\n",
    "print(f\"Model: {model} - Hit rate at {k}: {hit_10}\")\n",
    "\n",
    "k = 20  # Set the desired value of K\n",
    "hit_20 = get_hit_rate_at_k(recommendations = fm_side_info_recommendations, \n",
    "                                   rankings = evaluation_data, \n",
    "                                   K=k)\n",
    "print(f\"Model: {model} - Hit rate at {k}: {hit_20}\")"
   ]
  },
  {
   "cell_type": "code",
   "execution_count": 28,
   "id": "38747789-fc18-4bd7-a65e-342e7150e013",
   "metadata": {},
   "outputs": [],
   "source": [
    "models.append(model)\n",
    "benchmarks.append(benchmark)\n",
    "hits_5.append(hit_5)\n",
    "hits_10.append(hit_10)\n",
    "hits_20.append(hit_20)"
   ]
  },
  {
   "cell_type": "markdown",
   "id": "589c1c2f-ca08-454e-9c63-756ecc7ab0c6",
   "metadata": {
    "tags": []
   },
   "source": [
    "## Model: fm_extended"
   ]
  },
  {
   "cell_type": "code",
   "execution_count": 29,
   "id": "57cb1de1-5fb0-4c06-b0a9-930b6114aa6d",
   "metadata": {},
   "outputs": [
    {
     "name": "stdout",
     "output_type": "stream",
     "text": [
      "final hit_count: 0\n",
      "Model: fm_extended - Hit rate at 5: 0.0\n",
      "final hit_count: 0\n",
      "Model: fm_extended - Hit rate at 10: 0.0\n",
      "final hit_count: 0\n",
      "Model: fm_extended - Hit rate at 20: 0.0\n",
      "CPU times: user 11.6 s, sys: 10.2 ms, total: 11.7 s\n",
      "Wall time: 11.6 s\n"
     ]
    }
   ],
   "source": [
    "%%time\n",
    "# Calculate hit rate at K (precision at K)\n",
    "model = 'fm_extended'\n",
    "k = 5  # Set the desired value of K\n",
    "hit_5 = get_hit_rate_at_k(recommendations = fm_extended_recommendations, \n",
    "                                   rankings = evaluation_data, \n",
    "                                   K=k)\n",
    "print(f\"Model: {model} - Hit rate at {k}: {hit_5}\")\n",
    "\n",
    "k = 10  # Set the desired value of K\n",
    "hit_10 = get_hit_rate_at_k(recommendations = fm_extended_recommendations, \n",
    "                                   rankings = evaluation_data, \n",
    "                                   K=k)\n",
    "print(f\"Model: {model} - Hit rate at {k}: {hit_10}\")\n",
    "\n",
    "k = 20  # Set the desired value of K\n",
    "hit_20 = get_hit_rate_at_k(recommendations = fm_extended_recommendations, \n",
    "                                   rankings = evaluation_data, \n",
    "                                   K=k)\n",
    "print(f\"Model: {model} - Hit rate at {k}: {hit_20}\")"
   ]
  },
  {
   "cell_type": "code",
   "execution_count": 30,
   "id": "30ffa3d8-54d6-43fb-835b-8f804d580c06",
   "metadata": {},
   "outputs": [],
   "source": [
    "models.append(model)\n",
    "benchmarks.append(benchmark)\n",
    "hits_5.append(hit_5)\n",
    "hits_10.append(hit_10)\n",
    "hits_20.append(hit_20)"
   ]
  },
  {
   "cell_type": "markdown",
   "id": "292b3a25-8bae-48bb-921f-3a868266f8a7",
   "metadata": {
    "tags": []
   },
   "source": [
    "# Calculate hit_rate (manual) - Evaluation data: test_interaction data"
   ]
  },
  {
   "cell_type": "code",
   "execution_count": 31,
   "id": "0d0bdf4d-86d6-4953-9539-fc241efb61da",
   "metadata": {},
   "outputs": [],
   "source": [
    "benchmark = 'actual_test_interaction'"
   ]
  },
  {
   "cell_type": "code",
   "execution_count": 32,
   "id": "3a76851b-75d3-47df-b8d4-578fa83aeecd",
   "metadata": {},
   "outputs": [],
   "source": [
    "# Load all interaction data (interaction data used to build FM models)\n",
    "dataset = pd.read_csv(\"./data_interim/dataset_cleaned.csv\")"
   ]
  },
  {
   "cell_type": "code",
   "execution_count": 33,
   "id": "21117732-afdf-4e4c-ab47-dbb3f8b7fcef",
   "metadata": {},
   "outputs": [
    {
     "data": {
      "text/html": [
       "<div>\n",
       "<style scoped>\n",
       "    .dataframe tbody tr th:only-of-type {\n",
       "        vertical-align: middle;\n",
       "    }\n",
       "\n",
       "    .dataframe tbody tr th {\n",
       "        vertical-align: top;\n",
       "    }\n",
       "\n",
       "    .dataframe thead th {\n",
       "        text-align: right;\n",
       "    }\n",
       "</style>\n",
       "<table border=\"1\" class=\"dataframe\">\n",
       "  <thead>\n",
       "    <tr style=\"text-align: right;\">\n",
       "      <th></th>\n",
       "      <th>UserID</th>\n",
       "      <th>JobID</th>\n",
       "      <th>label</th>\n",
       "      <th>City</th>\n",
       "      <th>State</th>\n",
       "      <th>Country</th>\n",
       "    </tr>\n",
       "  </thead>\n",
       "  <tbody>\n",
       "    <tr>\n",
       "      <th>0</th>\n",
       "      <td>7</td>\n",
       "      <td>309823</td>\n",
       "      <td>1</td>\n",
       "      <td>1.0</td>\n",
       "      <td>1.0</td>\n",
       "      <td>1.0</td>\n",
       "    </tr>\n",
       "    <tr>\n",
       "      <th>1</th>\n",
       "      <td>7</td>\n",
       "      <td>703889</td>\n",
       "      <td>1</td>\n",
       "      <td>1.0</td>\n",
       "      <td>1.0</td>\n",
       "      <td>1.0</td>\n",
       "    </tr>\n",
       "    <tr>\n",
       "      <th>2</th>\n",
       "      <td>7</td>\n",
       "      <td>566574</td>\n",
       "      <td>0</td>\n",
       "      <td>0.0</td>\n",
       "      <td>0.0</td>\n",
       "      <td>1.0</td>\n",
       "    </tr>\n",
       "    <tr>\n",
       "      <th>3</th>\n",
       "      <td>7</td>\n",
       "      <td>481216</td>\n",
       "      <td>0</td>\n",
       "      <td>0.0</td>\n",
       "      <td>0.0</td>\n",
       "      <td>1.0</td>\n",
       "    </tr>\n",
       "    <tr>\n",
       "      <th>4</th>\n",
       "      <td>9</td>\n",
       "      <td>809208</td>\n",
       "      <td>1</td>\n",
       "      <td>1.0</td>\n",
       "      <td>1.0</td>\n",
       "      <td>1.0</td>\n",
       "    </tr>\n",
       "  </tbody>\n",
       "</table>\n",
       "</div>"
      ],
      "text/plain": [
       "   UserID   JobID  label  City  State  Country\n",
       "0       7  309823      1   1.0    1.0      1.0\n",
       "1       7  703889      1   1.0    1.0      1.0\n",
       "2       7  566574      0   0.0    0.0      1.0\n",
       "3       7  481216      0   0.0    0.0      1.0\n",
       "4       9  809208      1   1.0    1.0      1.0"
      ]
     },
     "execution_count": 33,
     "metadata": {},
     "output_type": "execute_result"
    }
   ],
   "source": [
    "dataset.head()"
   ]
  },
  {
   "cell_type": "code",
   "execution_count": 34,
   "id": "ed1fc531-2d7b-40c9-a1d3-79a342e156c6",
   "metadata": {},
   "outputs": [],
   "source": [
    "user_set = pd.read_csv(\"./data_interim/user_set_cleaned.csv\")"
   ]
  },
  {
   "cell_type": "code",
   "execution_count": 35,
   "id": "3aff180e-ed11-4535-9ec1-262a9a54cd48",
   "metadata": {},
   "outputs": [],
   "source": [
    "train_user = user_set[user_set.Split==\"Train\"].UserID.values\n",
    "test_user = user_set[user_set.Split==\"Test\"].UserID.values\n",
    "train_data = dataset[dataset.UserID.isin(train_user)]\n",
    "test_data = dataset[dataset.UserID.isin(test_user)]"
   ]
  },
  {
   "cell_type": "code",
   "execution_count": 36,
   "id": "4bd995b3-ec40-441d-a98d-064defbe7ca7",
   "metadata": {},
   "outputs": [],
   "source": [
    "# Positive interaction (from original data)\n",
    "select_cols = ['UserID', 'JobID', 'label']\n",
    "actual_interaction_train = train_data[select_cols]\n",
    "actual_interaction_test = test_data[select_cols]\n",
    "actual_interaction_df = pd.concat([actual_interaction_train,actual_interaction_test])"
   ]
  },
  {
   "cell_type": "code",
   "execution_count": 37,
   "id": "10bbd977-319c-4006-b311-b4eeb58a9b8f",
   "metadata": {},
   "outputs": [
    {
     "data": {
      "text/plain": [
       "(563889, 15736)"
      ]
     },
     "execution_count": 37,
     "metadata": {},
     "output_type": "execute_result"
    }
   ],
   "source": [
    "len(actual_interaction_train), len(actual_interaction_test)"
   ]
  },
  {
   "cell_type": "markdown",
   "id": "3c068041-677d-4d52-8732-fe94e328ad7a",
   "metadata": {
    "tags": []
   },
   "source": [
    "## Model: fm"
   ]
  },
  {
   "cell_type": "code",
   "execution_count": 38,
   "id": "7005e008-291c-4a4b-bbf5-17bbc8f64172",
   "metadata": {},
   "outputs": [
    {
     "name": "stdout",
     "output_type": "stream",
     "text": [
      "final hit_count: 1217\n",
      "Model: fm - Hit rate at 5 - evaluated on actual interaction (test): 0.327502691065662\n",
      "final hit_count: 1797\n",
      "Model: fm - Hit rate at 10 - evaluated on actual interaction (test): 0.4835844994617869\n",
      "final hit_count: 3216\n",
      "Model: fm - Hit rate at 20 - evaluated on actual interaction (test): 0.8654467168998924\n",
      "CPU times: user 6.81 s, sys: 7.28 ms, total: 6.82 s\n",
      "Wall time: 6.81 s\n"
     ]
    }
   ],
   "source": [
    "%%time\n",
    "# Calculate hit rate at K (precision at K)\n",
    "model = 'fm'\n",
    "k = 5  # Set the desired value of K\n",
    "hit_5 = get_hit_rate_at_k(recommendations = fm_recommendations, \n",
    "                                   rankings = actual_interaction_test, \n",
    "                                   K=k)\n",
    "print(f\"Model: {model} - Hit rate at {k} - evaluated on actual interaction (test): {hit_5}\")\n",
    "\n",
    "k = 10  # Set the desired value of K\n",
    "hit_10 = get_hit_rate_at_k(recommendations = fm_recommendations, \n",
    "                                   rankings = actual_interaction_test, \n",
    "                                   K=k)\n",
    "print(f\"Model: {model} - Hit rate at {k} - evaluated on actual interaction (test): {hit_10}\")\n",
    "\n",
    "k = 20  # Set the desired value of K\n",
    "hit_20 = get_hit_rate_at_k(recommendations = fm_recommendations, \n",
    "                                   rankings = actual_interaction_test, \n",
    "                                   K=k)\n",
    "print(f\"Model: {model} - Hit rate at {k} - evaluated on actual interaction (test): {hit_20}\")"
   ]
  },
  {
   "cell_type": "code",
   "execution_count": 39,
   "id": "2de7ee00-f500-4296-8355-ff248b3e66e8",
   "metadata": {},
   "outputs": [],
   "source": [
    "models.append(model)\n",
    "benchmarks.append(benchmark)\n",
    "hits_5.append(hit_5)\n",
    "hits_10.append(hit_10)\n",
    "hits_20.append(hit_20)"
   ]
  },
  {
   "cell_type": "markdown",
   "id": "afd3ea78-b657-48ce-b048-7f5e39ac8c1a",
   "metadata": {
    "tags": []
   },
   "source": [
    "### Model: fm_match"
   ]
  },
  {
   "cell_type": "code",
   "execution_count": 40,
   "id": "a235a341-882b-4208-b5c3-e4b5512fbc43",
   "metadata": {},
   "outputs": [
    {
     "name": "stdout",
     "output_type": "stream",
     "text": [
      "final hit_count: 1217\n",
      "Model: fm_match - Hit rate at 5 - evaluated on actual interaction (test): 0.327502691065662\n",
      "final hit_count: 1797\n",
      "Model: fm_match - Hit rate at 10 - evaluated on actual interaction (test): 0.4835844994617869\n",
      "final hit_count: 3216\n",
      "Model: fm_match - Hit rate at 20 - evaluated on actual interaction (test): 0.8654467168998924\n",
      "CPU times: user 7.14 s, sys: 332 ms, total: 7.48 s\n",
      "Wall time: 7.47 s\n"
     ]
    }
   ],
   "source": [
    "%%time\n",
    "# Calculate hit rate at K (precision at K)\n",
    "model = 'fm_match'\n",
    "k = 5  # Set the desired value of K\n",
    "hit_5 = get_hit_rate_at_k(recommendations = fm_match_recommendations, \n",
    "                                   rankings = actual_interaction_test, \n",
    "                                   K=k)\n",
    "print(f\"Model: {model} - Hit rate at {k} - evaluated on actual interaction (test): {hit_5}\")\n",
    "\n",
    "k = 10  # Set the desired value of K\n",
    "hit_10 = get_hit_rate_at_k(recommendations = fm_match_recommendations, \n",
    "                                   rankings = actual_interaction_test, \n",
    "                                   K=k)\n",
    "print(f\"Model: {model} - Hit rate at {k} - evaluated on actual interaction (test): {hit_10}\")\n",
    "\n",
    "k = 20  # Set the desired value of K\n",
    "hit_20 = get_hit_rate_at_k(recommendations = fm_match_recommendations, \n",
    "                                   rankings = actual_interaction_test, \n",
    "                                   K=k)\n",
    "print(f\"Model: {model} - Hit rate at {k} - evaluated on actual interaction (test): {hit_20}\")"
   ]
  },
  {
   "cell_type": "code",
   "execution_count": 41,
   "id": "3e6ef2c6-e5b0-473c-9710-ef8970cff40f",
   "metadata": {},
   "outputs": [],
   "source": [
    "models.append(model)\n",
    "benchmarks.append(benchmark)\n",
    "hits_5.append(hit_5)\n",
    "hits_10.append(hit_10)\n",
    "hits_20.append(hit_20)"
   ]
  },
  {
   "cell_type": "markdown",
   "id": "04fb0be5-7e77-4893-ae8f-e89097c62af0",
   "metadata": {
    "tags": []
   },
   "source": [
    "## Model: fm_side_info"
   ]
  },
  {
   "cell_type": "code",
   "execution_count": 42,
   "id": "eef7c1ee-f560-4b94-a34c-9db050febe4d",
   "metadata": {},
   "outputs": [
    {
     "name": "stdout",
     "output_type": "stream",
     "text": [
      "final hit_count: 1164\n",
      "Model: fm_side_info - Hit rate at 5 - evaluated on actual interaction (test): 0.31536169059875374\n",
      "final hit_count: 1670\n",
      "Model: fm_side_info - Hit rate at 10 - evaluated on actual interaction (test): 0.45245191005147656\n",
      "final hit_count: 2210\n",
      "Model: fm_side_info - Hit rate at 20 - evaluated on actual interaction (test): 0.5987537252777025\n",
      "CPU times: user 6.74 s, sys: 3.34 ms, total: 6.75 s\n",
      "Wall time: 6.74 s\n"
     ]
    }
   ],
   "source": [
    "%%time\n",
    "# Calculate hit rate at K (precision at K)\n",
    "model = 'fm_side_info'\n",
    "k = 5  # Set the desired value of K\n",
    "hit_5 = get_hit_rate_at_k(recommendations = fm_side_info_recommendations, \n",
    "                                   rankings = actual_interaction_test, \n",
    "                                   K=k)\n",
    "print(f\"Model: {model} - Hit rate at {k} - evaluated on actual interaction (test): {hit_5}\")\n",
    "\n",
    "k = 10  # Set the desired value of K\n",
    "hit_10 = get_hit_rate_at_k(recommendations = fm_side_info_recommendations, \n",
    "                                   rankings = actual_interaction_test, \n",
    "                                   K=k)\n",
    "print(f\"Model: {model} - Hit rate at {k} - evaluated on actual interaction (test): {hit_10}\")\n",
    "\n",
    "k = 20  # Set the desired value of K\n",
    "hit_20 = get_hit_rate_at_k(recommendations = fm_side_info_recommendations, \n",
    "                                   rankings = actual_interaction_test, \n",
    "                                   K=k)\n",
    "print(f\"Model: {model} - Hit rate at {k} - evaluated on actual interaction (test): {hit_20}\")"
   ]
  },
  {
   "cell_type": "code",
   "execution_count": 43,
   "id": "27ee4a9c-228d-4dac-83aa-3cbf779651ad",
   "metadata": {},
   "outputs": [],
   "source": [
    "models.append(model)\n",
    "benchmarks.append(benchmark)\n",
    "hits_5.append(hit_5)\n",
    "hits_10.append(hit_10)\n",
    "hits_20.append(hit_20)"
   ]
  },
  {
   "cell_type": "markdown",
   "id": "9d31b61a-b2d3-4220-8dd4-2b9ada296501",
   "metadata": {
    "tags": []
   },
   "source": [
    "## Model: fm_extended"
   ]
  },
  {
   "cell_type": "code",
   "execution_count": 44,
   "id": "d7f0088b-9c64-426c-a711-b9ae65fd8cdc",
   "metadata": {},
   "outputs": [
    {
     "name": "stdout",
     "output_type": "stream",
     "text": [
      "final hit_count: 3317\n",
      "Model: fm_extended - Hit rate at 5: 0.8986724464914657\n",
      "final hit_count: 3357\n",
      "Model: fm_extended - Hit rate at 10: 0.9095096179897046\n",
      "final hit_count: 3421\n",
      "Model: fm_extended - Hit rate at 20: 0.9268490923868871\n",
      "CPU times: user 6.71 s, sys: 15.3 ms, total: 6.73 s\n",
      "Wall time: 6.72 s\n"
     ]
    }
   ],
   "source": [
    "%%time\n",
    "# Calculate hit rate at K (precision at K)\n",
    "model = 'fm_extended'\n",
    "k = 5  # Set the desired value of K\n",
    "hit_5 = get_hit_rate_at_k(recommendations = fm_extended_recommendations, \n",
    "                                   rankings = actual_interaction_test, \n",
    "                                   K=k)\n",
    "print(f\"Model: {model} - Hit rate at {k}: {hit_5}\")\n",
    "\n",
    "k = 10  # Set the desired value of K\n",
    "hit_10 = get_hit_rate_at_k(recommendations = fm_extended_recommendations, \n",
    "                                   rankings = actual_interaction_test, \n",
    "                                   K=k)\n",
    "print(f\"Model: {model} - Hit rate at {k}: {hit_10}\")\n",
    "\n",
    "k = 20  # Set the desired value of K\n",
    "hit_20 = get_hit_rate_at_k(recommendations = fm_extended_recommendations, \n",
    "                                   rankings = actual_interaction_test, \n",
    "                                   K=k)\n",
    "print(f\"Model: {model} - Hit rate at {k}: {hit_20}\")"
   ]
  },
  {
   "cell_type": "code",
   "execution_count": 45,
   "id": "f20650e6-f500-465f-9315-8a7068cdd9c6",
   "metadata": {},
   "outputs": [],
   "source": [
    "models.append(model)\n",
    "benchmarks.append(benchmark)\n",
    "hits_5.append(hit_5)\n",
    "hits_10.append(hit_10)\n",
    "hits_20.append(hit_20)"
   ]
  },
  {
   "cell_type": "code",
   "execution_count": null,
   "id": "d4e5ac46-2eca-4d25-ac13-49c73f942970",
   "metadata": {},
   "outputs": [],
   "source": []
  },
  {
   "cell_type": "markdown",
   "id": "1ee5c509-5294-42fb-a964-3d3727ec7913",
   "metadata": {
    "tags": []
   },
   "source": [
    "# Calculate hit_rate (manual) - Evaluation data: all interaction data"
   ]
  },
  {
   "cell_type": "code",
   "execution_count": 46,
   "id": "bbb88274-c2ce-4ef8-86dd-dff8cc2d9d25",
   "metadata": {},
   "outputs": [],
   "source": [
    "benchmark = 'all_interaction_data'"
   ]
  },
  {
   "cell_type": "markdown",
   "id": "8c1bda10-217b-4fec-a08f-4f6c0ce87b0a",
   "metadata": {
    "tags": []
   },
   "source": [
    "## Model: fm"
   ]
  },
  {
   "cell_type": "code",
   "execution_count": 47,
   "id": "17914c2f-c3a9-4bb7-bb86-3be52eedeb78",
   "metadata": {},
   "outputs": [
    {
     "name": "stdout",
     "output_type": "stream",
     "text": [
      "final hit_count: 1217\n",
      "Model: fm - Hit rate at 5 - evaluated on actual interaction (all): 0.327502691065662\n",
      "final hit_count: 1797\n",
      "Model: fm - Hit rate at 10 - evaluated on actual interaction (all): 0.4835844994617869\n",
      "final hit_count: 3216\n",
      "Model: fm - Hit rate at 20 - evaluated on actual interaction (all): 0.8654467168998924\n",
      "CPU times: user 14.4 s, sys: 6.57 ms, total: 14.4 s\n",
      "Wall time: 14.4 s\n"
     ]
    }
   ],
   "source": [
    "%%time\n",
    "# Calculate hit rate at K (precision at K)\n",
    "model = 'fm'\n",
    "k = 5  # Set the desired value of K\n",
    "hit_5 = get_hit_rate_at_k(recommendations = fm_recommendations, \n",
    "                                   rankings = actual_interaction_df, \n",
    "                                   K=k)\n",
    "print(f\"Model: {model} - Hit rate at {k} - evaluated on actual interaction (all): {hit_5}\")\n",
    "\n",
    "k = 10  # Set the desired value of K\n",
    "hit_10 = get_hit_rate_at_k(recommendations = fm_recommendations, \n",
    "                                   rankings = actual_interaction_df, \n",
    "                                   K=k)\n",
    "print(f\"Model: {model} - Hit rate at {k} - evaluated on actual interaction (all): {hit_10}\")\n",
    "\n",
    "k = 20  # Set the desired value of K\n",
    "hit_20 = get_hit_rate_at_k(recommendations = fm_recommendations, \n",
    "                                   rankings = actual_interaction_df, \n",
    "                                   K=k)\n",
    "print(f\"Model: {model} - Hit rate at {k} - evaluated on actual interaction (all): {hit_20}\")"
   ]
  },
  {
   "cell_type": "code",
   "execution_count": 48,
   "id": "953b8975-1a0c-4159-af24-732478e54671",
   "metadata": {},
   "outputs": [],
   "source": [
    "models.append(model)\n",
    "benchmarks.append(benchmark)\n",
    "hits_5.append(hit_5)\n",
    "hits_10.append(hit_10)\n",
    "hits_20.append(hit_20)"
   ]
  },
  {
   "cell_type": "markdown",
   "id": "6ca241ca-bac1-45ed-8de0-2c0e552bc364",
   "metadata": {
    "tags": []
   },
   "source": [
    "## Model: fm_match"
   ]
  },
  {
   "cell_type": "code",
   "execution_count": 49,
   "id": "e1bfa837-1d4f-43e6-bdc3-4dbce2afe08e",
   "metadata": {},
   "outputs": [
    {
     "name": "stdout",
     "output_type": "stream",
     "text": [
      "final hit_count: 1217\n",
      "Model: fm_match - Hit rate at 5 - evaluated on actual interaction (all): 0.327502691065662\n",
      "final hit_count: 1797\n",
      "Model: fm_match - Hit rate at 10 - evaluated on actual interaction (all): 0.4835844994617869\n",
      "final hit_count: 3216\n",
      "Model: fm_match - Hit rate at 20 - evaluated on actual interaction (all): 0.8654467168998924\n",
      "CPU times: user 14.4 s, sys: 7.03 ms, total: 14.4 s\n",
      "Wall time: 14.4 s\n"
     ]
    }
   ],
   "source": [
    "%%time\n",
    "# Calculate hit rate at K (precision at K)\n",
    "model = 'fm_match'\n",
    "k = 5  # Set the desired value of K\n",
    "hit_5 = get_hit_rate_at_k(recommendations = fm_match_recommendations, \n",
    "                                   rankings = actual_interaction_df, \n",
    "                                   K=k)\n",
    "print(f\"Model: {model} - Hit rate at {k} - evaluated on actual interaction (all): {hit_5}\")\n",
    "\n",
    "k = 10  # Set the desired value of K\n",
    "hit_10 = get_hit_rate_at_k(recommendations = fm_match_recommendations, \n",
    "                                   rankings = actual_interaction_df, \n",
    "                                   K=k)\n",
    "print(f\"Model: {model} - Hit rate at {k} - evaluated on actual interaction (all): {hit_10}\")\n",
    "\n",
    "k = 20  # Set the desired value of K\n",
    "hit_20 = get_hit_rate_at_k(recommendations = fm_match_recommendations, \n",
    "                                   rankings = actual_interaction_df, \n",
    "                                   K=k)\n",
    "print(f\"Model: {model} - Hit rate at {k} - evaluated on actual interaction (all): {hit_20}\")"
   ]
  },
  {
   "cell_type": "code",
   "execution_count": 50,
   "id": "4a140dcc-3879-4632-8aa1-6061ffed3aed",
   "metadata": {},
   "outputs": [],
   "source": [
    "models.append(model)\n",
    "benchmarks.append(benchmark)\n",
    "hits_5.append(hit_5)\n",
    "hits_10.append(hit_10)\n",
    "hits_20.append(hit_20)"
   ]
  },
  {
   "cell_type": "markdown",
   "id": "f85547bc-ae4c-40ec-924f-837b3d011e9f",
   "metadata": {
    "tags": []
   },
   "source": [
    "## Model: side_info"
   ]
  },
  {
   "cell_type": "code",
   "execution_count": 51,
   "id": "3fca6cff-a005-467c-8349-230f919a3c0a",
   "metadata": {},
   "outputs": [
    {
     "name": "stdout",
     "output_type": "stream",
     "text": [
      "final hit_count: 1164\n",
      "Model: fm_side_info - Hit rate at 5 - evaluated on actual interaction (all): 0.31536169059875374\n",
      "final hit_count: 1670\n",
      "Model: fm_side_info - Hit rate at 10 - evaluated on actual interaction (all): 0.45245191005147656\n",
      "final hit_count: 2210\n",
      "Model: fm_side_info - Hit rate at 20 - evaluated on actual interaction (all): 0.5987537252777025\n",
      "CPU times: user 14.3 s, sys: 7.03 ms, total: 14.3 s\n",
      "Wall time: 14.3 s\n"
     ]
    }
   ],
   "source": [
    "%%time\n",
    "# Calculate hit rate at K (precision at K)\n",
    "model = 'fm_side_info'\n",
    "k = 5  # Set the desired value of K\n",
    "hit_5 = get_hit_rate_at_k(recommendations = fm_side_info_recommendations, \n",
    "                                   rankings = actual_interaction_df, \n",
    "                                   K=k)\n",
    "print(f\"Model: {model} - Hit rate at {k} - evaluated on actual interaction (all): {hit_5}\")\n",
    "\n",
    "k = 10  # Set the desired value of K\n",
    "hit_10 = get_hit_rate_at_k(recommendations = fm_side_info_recommendations, \n",
    "                                   rankings = actual_interaction_df, \n",
    "                                   K=k)\n",
    "print(f\"Model: {model} - Hit rate at {k} - evaluated on actual interaction (all): {hit_10}\")\n",
    "\n",
    "k = 20  # Set the desired value of K\n",
    "hit_20 = get_hit_rate_at_k(recommendations = fm_side_info_recommendations, \n",
    "                                   rankings = actual_interaction_df, \n",
    "                                   K=k)\n",
    "print(f\"Model: {model} - Hit rate at {k} - evaluated on actual interaction (all): {hit_20}\")"
   ]
  },
  {
   "cell_type": "code",
   "execution_count": 52,
   "id": "8a75328b-e04a-425c-b257-31133626b0b7",
   "metadata": {},
   "outputs": [],
   "source": [
    "models.append(model)\n",
    "benchmarks.append(benchmark)\n",
    "hits_5.append(hit_5)\n",
    "hits_10.append(hit_10)\n",
    "hits_20.append(hit_20)"
   ]
  },
  {
   "cell_type": "markdown",
   "id": "ec5f2bea-4122-4fef-83e9-399a0a15ae51",
   "metadata": {
    "tags": []
   },
   "source": [
    "## Model: fm_extended"
   ]
  },
  {
   "cell_type": "code",
   "execution_count": 53,
   "id": "8dc5750f-2022-46d7-a33f-c41beb08adb9",
   "metadata": {},
   "outputs": [
    {
     "name": "stdout",
     "output_type": "stream",
     "text": [
      "final hit_count: 3317\n",
      "Model: fm_extended - Hit rate at 5 - evaluated on actual interaction (all): 0.8986724464914657\n",
      "final hit_count: 3357\n",
      "Model: fm_extended - Hit rate at 10 - evaluated on actual interaction (all): 0.9095096179897046\n",
      "final hit_count: 3421\n",
      "Model: fm_extended - Hit rate at 20 - evaluated on actual interaction (all): 0.9268490923868871\n",
      "CPU times: user 14.3 s, sys: 3.22 ms, total: 14.3 s\n",
      "Wall time: 14.3 s\n"
     ]
    }
   ],
   "source": [
    "%%time\n",
    "# Calculate hit rate at K (precision at K)\n",
    "model = 'fm_extended'\n",
    "k = 5  # Set the desired value of K\n",
    "hit_5 = get_hit_rate_at_k(recommendations = fm_extended_recommendations, \n",
    "                                   rankings = actual_interaction_df, \n",
    "                                   K=k)\n",
    "print(f\"Model: {model} - Hit rate at {k} - evaluated on actual interaction (all): {hit_5}\")\n",
    "\n",
    "k = 10  # Set the desired value of K\n",
    "hit_10 = get_hit_rate_at_k(recommendations = fm_extended_recommendations, \n",
    "                                   rankings = actual_interaction_df, \n",
    "                                   K=k)\n",
    "print(f\"Model: {model} - Hit rate at {k} - evaluated on actual interaction (all): {hit_10}\")\n",
    "\n",
    "k = 20  # Set the desired value of K\n",
    "hit_20 = get_hit_rate_at_k(recommendations = fm_extended_recommendations, \n",
    "                                   rankings = actual_interaction_df, \n",
    "                                   K=k)\n",
    "print(f\"Model: {model} - Hit rate at {k} - evaluated on actual interaction (all): {hit_20}\")"
   ]
  },
  {
   "cell_type": "code",
   "execution_count": 54,
   "id": "80b320ca-809b-4d30-9409-f62465a374f7",
   "metadata": {},
   "outputs": [],
   "source": [
    "models.append(model)\n",
    "benchmarks.append(benchmark)\n",
    "hits_5.append(hit_5)\n",
    "hits_10.append(hit_10)\n",
    "hits_20.append(hit_20)"
   ]
  },
  {
   "cell_type": "markdown",
   "id": "8be76678-bf34-47b6-bee1-c67a0efd9cdd",
   "metadata": {},
   "source": [
    "# Summary"
   ]
  },
  {
   "cell_type": "code",
   "execution_count": 55,
   "id": "4a897907-c443-4cd3-acb3-89aebcea2ac0",
   "metadata": {},
   "outputs": [
    {
     "data": {
      "text/plain": [
       "(16, 16, 16, 16, 16)"
      ]
     },
     "execution_count": 55,
     "metadata": {},
     "output_type": "execute_result"
    }
   ],
   "source": [
    "len(models), len(benchmarks), len(hits_5), len(hits_10), len(hits_20)"
   ]
  },
  {
   "cell_type": "code",
   "execution_count": 56,
   "id": "f57b06ed-5a3d-469a-a512-b48329cee2a6",
   "metadata": {},
   "outputs": [],
   "source": [
    "myfm_hit = pd.DataFrame(columns = [\"model\",\"hit_5\", \"hit_10\", \"hit_20\", 'benchmark'])\n",
    "myfm_hit.model = models\n",
    "myfm_hit.benchmark = benchmarks\n",
    "myfm_hit.hit_5 = hits_5\n",
    "myfm_hit.hit_10 = hits_10\n",
    "myfm_hit.hit_20 = hits_20"
   ]
  },
  {
   "cell_type": "code",
   "execution_count": 57,
   "id": "7d4a882c-6e73-49be-899b-caccc7d7c614",
   "metadata": {},
   "outputs": [
    {
     "data": {
      "text/html": [
       "<div>\n",
       "<style scoped>\n",
       "    .dataframe tbody tr th:only-of-type {\n",
       "        vertical-align: middle;\n",
       "    }\n",
       "\n",
       "    .dataframe tbody tr th {\n",
       "        vertical-align: top;\n",
       "    }\n",
       "\n",
       "    .dataframe thead th {\n",
       "        text-align: right;\n",
       "    }\n",
       "</style>\n",
       "<table border=\"1\" class=\"dataframe\">\n",
       "  <thead>\n",
       "    <tr style=\"text-align: right;\">\n",
       "      <th></th>\n",
       "      <th>model</th>\n",
       "      <th>hit_5</th>\n",
       "      <th>hit_10</th>\n",
       "      <th>hit_20</th>\n",
       "      <th>benchmark</th>\n",
       "    </tr>\n",
       "  </thead>\n",
       "  <tbody>\n",
       "    <tr>\n",
       "      <th>0</th>\n",
       "      <td>fm</td>\n",
       "      <td>0.327503</td>\n",
       "      <td>0.483584</td>\n",
       "      <td>0.865447</td>\n",
       "      <td>ranking_data_random</td>\n",
       "    </tr>\n",
       "    <tr>\n",
       "      <th>1</th>\n",
       "      <td>fm_match</td>\n",
       "      <td>0.327503</td>\n",
       "      <td>0.483584</td>\n",
       "      <td>0.865447</td>\n",
       "      <td>ranking_data_random</td>\n",
       "    </tr>\n",
       "    <tr>\n",
       "      <th>2</th>\n",
       "      <td>fm_side_info</td>\n",
       "      <td>0.315362</td>\n",
       "      <td>0.452452</td>\n",
       "      <td>0.598754</td>\n",
       "      <td>ranking_data_random</td>\n",
       "    </tr>\n",
       "    <tr>\n",
       "      <th>3</th>\n",
       "      <td>fm_extended</td>\n",
       "      <td>0.898672</td>\n",
       "      <td>0.909510</td>\n",
       "      <td>0.926849</td>\n",
       "      <td>ranking_data_random</td>\n",
       "    </tr>\n",
       "    <tr>\n",
       "      <th>4</th>\n",
       "      <td>fm</td>\n",
       "      <td>0.000000</td>\n",
       "      <td>0.000000</td>\n",
       "      <td>0.000000</td>\n",
       "      <td>ranking_knn_lda</td>\n",
       "    </tr>\n",
       "    <tr>\n",
       "      <th>5</th>\n",
       "      <td>fm_match</td>\n",
       "      <td>0.000000</td>\n",
       "      <td>0.000000</td>\n",
       "      <td>0.000000</td>\n",
       "      <td>ranking_knn_lda</td>\n",
       "    </tr>\n",
       "    <tr>\n",
       "      <th>6</th>\n",
       "      <td>fm_side_info</td>\n",
       "      <td>0.000000</td>\n",
       "      <td>0.000000</td>\n",
       "      <td>0.000000</td>\n",
       "      <td>ranking_knn_lda</td>\n",
       "    </tr>\n",
       "    <tr>\n",
       "      <th>7</th>\n",
       "      <td>fm_extended</td>\n",
       "      <td>0.000000</td>\n",
       "      <td>0.000000</td>\n",
       "      <td>0.000000</td>\n",
       "      <td>ranking_knn_lda</td>\n",
       "    </tr>\n",
       "    <tr>\n",
       "      <th>8</th>\n",
       "      <td>fm</td>\n",
       "      <td>0.327503</td>\n",
       "      <td>0.483584</td>\n",
       "      <td>0.865447</td>\n",
       "      <td>actual_test_interaction</td>\n",
       "    </tr>\n",
       "    <tr>\n",
       "      <th>9</th>\n",
       "      <td>fm_match</td>\n",
       "      <td>0.327503</td>\n",
       "      <td>0.483584</td>\n",
       "      <td>0.865447</td>\n",
       "      <td>actual_test_interaction</td>\n",
       "    </tr>\n",
       "    <tr>\n",
       "      <th>10</th>\n",
       "      <td>fm_side_info</td>\n",
       "      <td>0.315362</td>\n",
       "      <td>0.452452</td>\n",
       "      <td>0.598754</td>\n",
       "      <td>actual_test_interaction</td>\n",
       "    </tr>\n",
       "    <tr>\n",
       "      <th>11</th>\n",
       "      <td>fm_extended</td>\n",
       "      <td>0.898672</td>\n",
       "      <td>0.909510</td>\n",
       "      <td>0.926849</td>\n",
       "      <td>actual_test_interaction</td>\n",
       "    </tr>\n",
       "    <tr>\n",
       "      <th>12</th>\n",
       "      <td>fm</td>\n",
       "      <td>0.327503</td>\n",
       "      <td>0.483584</td>\n",
       "      <td>0.865447</td>\n",
       "      <td>all_interaction_data</td>\n",
       "    </tr>\n",
       "    <tr>\n",
       "      <th>13</th>\n",
       "      <td>fm_match</td>\n",
       "      <td>0.327503</td>\n",
       "      <td>0.483584</td>\n",
       "      <td>0.865447</td>\n",
       "      <td>all_interaction_data</td>\n",
       "    </tr>\n",
       "    <tr>\n",
       "      <th>14</th>\n",
       "      <td>fm_side_info</td>\n",
       "      <td>0.315362</td>\n",
       "      <td>0.452452</td>\n",
       "      <td>0.598754</td>\n",
       "      <td>all_interaction_data</td>\n",
       "    </tr>\n",
       "    <tr>\n",
       "      <th>15</th>\n",
       "      <td>fm_extended</td>\n",
       "      <td>0.898672</td>\n",
       "      <td>0.909510</td>\n",
       "      <td>0.926849</td>\n",
       "      <td>all_interaction_data</td>\n",
       "    </tr>\n",
       "  </tbody>\n",
       "</table>\n",
       "</div>"
      ],
      "text/plain": [
       "           model     hit_5    hit_10    hit_20                benchmark\n",
       "0             fm  0.327503  0.483584  0.865447      ranking_data_random\n",
       "1       fm_match  0.327503  0.483584  0.865447      ranking_data_random\n",
       "2   fm_side_info  0.315362  0.452452  0.598754      ranking_data_random\n",
       "3    fm_extended  0.898672  0.909510  0.926849      ranking_data_random\n",
       "4             fm  0.000000  0.000000  0.000000          ranking_knn_lda\n",
       "5       fm_match  0.000000  0.000000  0.000000          ranking_knn_lda\n",
       "6   fm_side_info  0.000000  0.000000  0.000000          ranking_knn_lda\n",
       "7    fm_extended  0.000000  0.000000  0.000000          ranking_knn_lda\n",
       "8             fm  0.327503  0.483584  0.865447  actual_test_interaction\n",
       "9       fm_match  0.327503  0.483584  0.865447  actual_test_interaction\n",
       "10  fm_side_info  0.315362  0.452452  0.598754  actual_test_interaction\n",
       "11   fm_extended  0.898672  0.909510  0.926849  actual_test_interaction\n",
       "12            fm  0.327503  0.483584  0.865447     all_interaction_data\n",
       "13      fm_match  0.327503  0.483584  0.865447     all_interaction_data\n",
       "14  fm_side_info  0.315362  0.452452  0.598754     all_interaction_data\n",
       "15   fm_extended  0.898672  0.909510  0.926849     all_interaction_data"
      ]
     },
     "execution_count": 57,
     "metadata": {},
     "output_type": "execute_result"
    }
   ],
   "source": [
    "myfm_hit"
   ]
  },
  {
   "cell_type": "code",
   "execution_count": 58,
   "id": "edf760bc-14c6-4225-a4df-128b460b67ff",
   "metadata": {},
   "outputs": [],
   "source": [
    "myfm_hit.to_csv('./nb_recsys_myfm/myfm_hit_random.csv', header=True, index=False)"
   ]
  },
  {
   "cell_type": "markdown",
   "id": "20143f3b-4808-423a-9e3e-84354f5ad205",
   "metadata": {
    "jp-MarkdownHeadingCollapsed": true,
    "tags": []
   },
   "source": [
    "# Data-centric explanation\n",
    "- Count number of JobID for positive interaction in test data"
   ]
  },
  {
   "cell_type": "code",
   "execution_count": null,
   "id": "af9062d5-4752-4aea-9f10-3f01a5c313df",
   "metadata": {},
   "outputs": [],
   "source": [
    "summary_test_interaction = actual_interaction_test.groupby('UserID').agg(Count_JobID=('JobID', 'count')).reset_index()"
   ]
  },
  {
   "cell_type": "code",
   "execution_count": null,
   "id": "c05ba9fe-1670-41ad-bf0c-7c2d851228de",
   "metadata": {},
   "outputs": [],
   "source": [
    "summary_test_interaction.sort_values(by = 'Count_JobID', ascending=False)"
   ]
  },
  {
   "cell_type": "code",
   "execution_count": null,
   "id": "1ed379b1-bbb5-4199-995b-585fef1ade27",
   "metadata": {},
   "outputs": [],
   "source": [
    "summary_test_interaction['Count_JobID'].value_counts()"
   ]
  },
  {
   "cell_type": "code",
   "execution_count": null,
   "id": "56b08f71-1038-4737-a3ad-c327578ef1e3",
   "metadata": {},
   "outputs": [],
   "source": [
    "summary_positive_test_interaction = actual_interaction_test[actual_interaction_test.label==1].groupby('UserID').agg(Count_JobID=('JobID', 'count')).reset_index()"
   ]
  },
  {
   "cell_type": "code",
   "execution_count": null,
   "id": "098b7a74-3e5e-4afa-b44c-cd381de9cb2e",
   "metadata": {},
   "outputs": [],
   "source": [
    "summary_positive_test_interaction.sort_values(by = 'Count_JobID', ascending=False)"
   ]
  },
  {
   "cell_type": "code",
   "execution_count": null,
   "id": "7ed8630c-11d4-49ae-9591-460026386fe8",
   "metadata": {},
   "outputs": [],
   "source": [
    "summary_positive_test_interaction['Count_JobID'].value_counts()"
   ]
  }
 ],
 "metadata": {
  "kernelspec": {
   "display_name": "Python",
   "language": "python",
   "name": "python3"
  },
  "language_info": {
   "codemirror_mode": {
    "name": "ipython",
    "version": 3
   },
   "file_extension": ".py",
   "mimetype": "text/x-python",
   "name": "python",
   "nbconvert_exporter": "python",
   "pygments_lexer": "ipython3",
   "version": "3.8.10"
  }
 },
 "nbformat": 4,
 "nbformat_minor": 5
}
