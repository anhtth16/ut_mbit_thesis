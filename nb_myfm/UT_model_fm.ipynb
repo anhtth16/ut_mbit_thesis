{
 "cells": [
  {
   "cell_type": "code",
   "execution_count": 1,
   "id": "ee188fd4-6cb2-42c7-bccd-bc5a9054484d",
   "metadata": {},
   "outputs": [],
   "source": [
    "# !pip install caffeine"
   ]
  },
  {
   "cell_type": "code",
   "execution_count": 2,
   "id": "4fbe379e-4265-46f9-9de1-77b58370173d",
   "metadata": {},
   "outputs": [],
   "source": [
    "# !pip install myfm"
   ]
  },
  {
   "cell_type": "markdown",
   "id": "7df38634",
   "metadata": {
    "tags": []
   },
   "source": [
    "# Train models for binary classification:\n",
    "## Algorithms: Factorization Machines - Library: myfm \n",
    "\n",
    "Input: interaction data, user side information, job side information (all data input are categorical)\n",
    "4 models:\n",
    "- fm: pure factorization machines: using only UserID, JobID, label\n",
    "- fm_match: adding 3 maching features: City, State, Country\n",
    "- fm_side_info: pure fm + side information (user and job)\n",
    "- fm_extended: all information from previous models: purefm + side information + matching information\n",
    "\n",
    "Output:\n",
    "- predicted label\n",
    "- predict probability for the label\n",
    "\n",
    "### WARNING: Export pre-trained models are large pickle files (> 10GB/model)\n",
    "(Successful export pre-trained models using UT Jupyter Notebook)"
   ]
  },
  {
   "cell_type": "code",
   "execution_count": 3,
   "id": "82f99588",
   "metadata": {},
   "outputs": [],
   "source": [
    "# import caffeine\n",
    "# caffeine.on(display=False)"
   ]
  },
  {
   "cell_type": "code",
   "execution_count": 4,
   "id": "51b15638",
   "metadata": {},
   "outputs": [],
   "source": [
    "import pandas as pd\n",
    "import numpy as np\n",
    "from sklearn.preprocessing import MultiLabelBinarizer, OneHotEncoder\n",
    "from sklearn import metrics\n",
    "\n",
    "import myfm"
   ]
  },
  {
   "cell_type": "code",
   "execution_count": 5,
   "id": "d7b87541",
   "metadata": {},
   "outputs": [],
   "source": [
    "# Load cleaned dataset\n",
    "user_set = pd.read_csv(\"./data_interim/user_set_cleaned.csv\")\n",
    "dataset = pd.read_csv(\"./data_interim/dataset_cleaned.csv\")\n",
    "work_history = pd.read_csv('./data_interim/work_history_cleaned.csv')"
   ]
  },
  {
   "cell_type": "code",
   "execution_count": 6,
   "id": "920acbd2-11bc-4519-9cda-1d7ed3659b59",
   "metadata": {},
   "outputs": [
    {
     "name": "stderr",
     "output_type": "stream",
     "text": [
      "/tmp/ipykernel_1088/4177129870.py:2: DtypeWarning: Columns (8) have mixed types. Specify dtype option on import or set low_memory=False.\n",
      "  job_set = pd.read_csv(\"./data_processed/jobset_clean.csv\")\n"
     ]
    }
   ],
   "source": [
    "# Load clean job data\n",
    "job_set = pd.read_csv(\"./data_processed/jobset_clean.csv\")"
   ]
  },
  {
   "cell_type": "code",
   "execution_count": 7,
   "id": "7ca9d2b8-016a-40b2-8602-d7b16836c864",
   "metadata": {},
   "outputs": [
    {
     "data": {
      "text/html": [
       "<div>\n",
       "<style scoped>\n",
       "    .dataframe tbody tr th:only-of-type {\n",
       "        vertical-align: middle;\n",
       "    }\n",
       "\n",
       "    .dataframe tbody tr th {\n",
       "        vertical-align: top;\n",
       "    }\n",
       "\n",
       "    .dataframe thead th {\n",
       "        text-align: right;\n",
       "    }\n",
       "</style>\n",
       "<table border=\"1\" class=\"dataframe\">\n",
       "  <thead>\n",
       "    <tr style=\"text-align: right;\">\n",
       "      <th></th>\n",
       "      <th>JobID</th>\n",
       "      <th>WindowID</th>\n",
       "      <th>Title</th>\n",
       "      <th>Description</th>\n",
       "      <th>Requirements</th>\n",
       "      <th>City</th>\n",
       "      <th>State</th>\n",
       "      <th>Country</th>\n",
       "      <th>Zip5</th>\n",
       "      <th>StartDate</th>\n",
       "      <th>EndDate</th>\n",
       "    </tr>\n",
       "  </thead>\n",
       "  <tbody>\n",
       "    <tr>\n",
       "      <th>0</th>\n",
       "      <td>1</td>\n",
       "      <td>1</td>\n",
       "      <td>Security Engineer Technical Lead</td>\n",
       "      <td>Security Clearance Required:  Top Secret Job N...</td>\n",
       "      <td>SKILL SET Network Security tools: Webdefend We...</td>\n",
       "      <td>Washington</td>\n",
       "      <td>DC</td>\n",
       "      <td>US</td>\n",
       "      <td>20531</td>\n",
       "      <td>2012-03-07 13:17:01.643</td>\n",
       "      <td>2012-04-06 23:59:59</td>\n",
       "    </tr>\n",
       "    <tr>\n",
       "      <th>1</th>\n",
       "      <td>4</td>\n",
       "      <td>1</td>\n",
       "      <td>SAP Business Analyst   WM</td>\n",
       "      <td>NO Corp. to Corp resumes are being considered ...</td>\n",
       "      <td>WHAT YOU NEED: Four year college degreeMinimum...</td>\n",
       "      <td>Charlotte</td>\n",
       "      <td>NC</td>\n",
       "      <td>US</td>\n",
       "      <td>28217</td>\n",
       "      <td>2012-03-21 02:03:44.137</td>\n",
       "      <td>2012-04-20 23:59:59</td>\n",
       "    </tr>\n",
       "    <tr>\n",
       "      <th>2</th>\n",
       "      <td>7</td>\n",
       "      <td>1</td>\n",
       "      <td>P T HUMAN RESOURCES ASSISTANT</td>\n",
       "      <td>P T HUMAN RESOURCES ASSISTANT      1-2 ye...</td>\n",
       "      <td>Please refer to the Job Description to view th...</td>\n",
       "      <td>Winter Park</td>\n",
       "      <td>FL</td>\n",
       "      <td>US</td>\n",
       "      <td>32792</td>\n",
       "      <td>2012-03-02 16:36:55.447</td>\n",
       "      <td>2012-04-01 23:59:59</td>\n",
       "    </tr>\n",
       "    <tr>\n",
       "      <th>3</th>\n",
       "      <td>8</td>\n",
       "      <td>1</td>\n",
       "      <td>Route Delivery Drivers</td>\n",
       "      <td>CITY BEVERAGES Come to work for the best in th...</td>\n",
       "      <td>Please refer to the Job Description to view th...</td>\n",
       "      <td>Orlando</td>\n",
       "      <td>FL</td>\n",
       "      <td>US</td>\n",
       "      <td>NaN</td>\n",
       "      <td>2012-03-03 09:01:10.077</td>\n",
       "      <td>2012-04-02 23:59:59</td>\n",
       "    </tr>\n",
       "    <tr>\n",
       "      <th>4</th>\n",
       "      <td>9</td>\n",
       "      <td>1</td>\n",
       "      <td>Housekeeping</td>\n",
       "      <td>I make  sure every part of their day is magica...</td>\n",
       "      <td>Please refer to the Job Description to view th...</td>\n",
       "      <td>Orlando</td>\n",
       "      <td>FL</td>\n",
       "      <td>US</td>\n",
       "      <td>NaN</td>\n",
       "      <td>2012-03-03 09:01:11.88</td>\n",
       "      <td>2012-04-02 23:59:59</td>\n",
       "    </tr>\n",
       "  </tbody>\n",
       "</table>\n",
       "</div>"
      ],
      "text/plain": [
       "   JobID  WindowID                             Title   \n",
       "0      1         1  Security Engineer Technical Lead  \\\n",
       "1      4         1         SAP Business Analyst   WM   \n",
       "2      7         1     P T HUMAN RESOURCES ASSISTANT   \n",
       "3      8         1            Route Delivery Drivers   \n",
       "4      9         1                      Housekeeping   \n",
       "\n",
       "                                         Description   \n",
       "0  Security Clearance Required:  Top Secret Job N...  \\\n",
       "1  NO Corp. to Corp resumes are being considered ...   \n",
       "2       P T HUMAN RESOURCES ASSISTANT      1-2 ye...   \n",
       "3  CITY BEVERAGES Come to work for the best in th...   \n",
       "4  I make  sure every part of their day is magica...   \n",
       "\n",
       "                                        Requirements         City State   \n",
       "0  SKILL SET Network Security tools: Webdefend We...   Washington    DC  \\\n",
       "1  WHAT YOU NEED: Four year college degreeMinimum...    Charlotte    NC   \n",
       "2  Please refer to the Job Description to view th...  Winter Park    FL   \n",
       "3  Please refer to the Job Description to view th...      Orlando    FL   \n",
       "4  Please refer to the Job Description to view th...      Orlando    FL   \n",
       "\n",
       "  Country   Zip5                StartDate              EndDate  \n",
       "0      US  20531  2012-03-07 13:17:01.643  2012-04-06 23:59:59  \n",
       "1      US  28217  2012-03-21 02:03:44.137  2012-04-20 23:59:59  \n",
       "2      US  32792  2012-03-02 16:36:55.447  2012-04-01 23:59:59  \n",
       "3      US    NaN  2012-03-03 09:01:10.077  2012-04-02 23:59:59  \n",
       "4      US    NaN   2012-03-03 09:01:11.88  2012-04-02 23:59:59  "
      ]
     },
     "execution_count": 7,
     "metadata": {},
     "output_type": "execute_result"
    }
   ],
   "source": [
    "job_set.head()"
   ]
  },
  {
   "cell_type": "code",
   "execution_count": 8,
   "id": "16543e37",
   "metadata": {},
   "outputs": [],
   "source": [
    "train_user = user_set[user_set.Split==\"Train\"].UserID.values\n",
    "test_user = user_set[user_set.Split==\"Test\"].UserID.values\n",
    "train_data = dataset[dataset.UserID.isin(train_user)]\n",
    "test_data = dataset[dataset.UserID.isin(test_user)]"
   ]
  },
  {
   "cell_type": "code",
   "execution_count": 9,
   "id": "8bdf9bbf",
   "metadata": {},
   "outputs": [
    {
     "data": {
      "text/plain": [
       "False"
      ]
     },
     "execution_count": 9,
     "metadata": {},
     "output_type": "execute_result"
    }
   ],
   "source": [
    "dataset.duplicated().any()"
   ]
  },
  {
   "cell_type": "code",
   "execution_count": 10,
   "id": "47becd1f",
   "metadata": {},
   "outputs": [
    {
     "data": {
      "text/plain": [
       "False"
      ]
     },
     "execution_count": 10,
     "metadata": {},
     "output_type": "execute_result"
    }
   ],
   "source": [
    "job_set.duplicated().any()"
   ]
  },
  {
   "cell_type": "markdown",
   "id": "58714cbd",
   "metadata": {},
   "source": [
    "# 1. Model 1: fm\n",
    "Pure matrix factorization (Accuracy: 0.71)\n",
    "using only UserID and JobID"
   ]
  },
  {
   "cell_type": "markdown",
   "id": "f7d981c9",
   "metadata": {
    "tags": []
   },
   "source": [
    "## Before training"
   ]
  },
  {
   "cell_type": "code",
   "execution_count": 11,
   "id": "4898074d",
   "metadata": {},
   "outputs": [
    {
     "data": {
      "text/html": [
       "<div>\n",
       "<style scoped>\n",
       "    .dataframe tbody tr th:only-of-type {\n",
       "        vertical-align: middle;\n",
       "    }\n",
       "\n",
       "    .dataframe tbody tr th {\n",
       "        vertical-align: top;\n",
       "    }\n",
       "\n",
       "    .dataframe thead th {\n",
       "        text-align: right;\n",
       "    }\n",
       "</style>\n",
       "<table border=\"1\" class=\"dataframe\">\n",
       "  <thead>\n",
       "    <tr style=\"text-align: right;\">\n",
       "      <th></th>\n",
       "      <th>UserID</th>\n",
       "      <th>JobID</th>\n",
       "      <th>label</th>\n",
       "      <th>City</th>\n",
       "      <th>State</th>\n",
       "      <th>Country</th>\n",
       "    </tr>\n",
       "  </thead>\n",
       "  <tbody>\n",
       "    <tr>\n",
       "      <th>0</th>\n",
       "      <td>7</td>\n",
       "      <td>309823</td>\n",
       "      <td>1</td>\n",
       "      <td>1.0</td>\n",
       "      <td>1.0</td>\n",
       "      <td>1.0</td>\n",
       "    </tr>\n",
       "    <tr>\n",
       "      <th>1</th>\n",
       "      <td>7</td>\n",
       "      <td>703889</td>\n",
       "      <td>1</td>\n",
       "      <td>1.0</td>\n",
       "      <td>1.0</td>\n",
       "      <td>1.0</td>\n",
       "    </tr>\n",
       "    <tr>\n",
       "      <th>2</th>\n",
       "      <td>7</td>\n",
       "      <td>566574</td>\n",
       "      <td>0</td>\n",
       "      <td>0.0</td>\n",
       "      <td>0.0</td>\n",
       "      <td>1.0</td>\n",
       "    </tr>\n",
       "    <tr>\n",
       "      <th>3</th>\n",
       "      <td>7</td>\n",
       "      <td>481216</td>\n",
       "      <td>0</td>\n",
       "      <td>0.0</td>\n",
       "      <td>0.0</td>\n",
       "      <td>1.0</td>\n",
       "    </tr>\n",
       "    <tr>\n",
       "      <th>4</th>\n",
       "      <td>9</td>\n",
       "      <td>809208</td>\n",
       "      <td>1</td>\n",
       "      <td>1.0</td>\n",
       "      <td>1.0</td>\n",
       "      <td>1.0</td>\n",
       "    </tr>\n",
       "  </tbody>\n",
       "</table>\n",
       "</div>"
      ],
      "text/plain": [
       "   UserID   JobID  label  City  State  Country\n",
       "0       7  309823      1   1.0    1.0      1.0\n",
       "1       7  703889      1   1.0    1.0      1.0\n",
       "2       7  566574      0   0.0    0.0      1.0\n",
       "3       7  481216      0   0.0    0.0      1.0\n",
       "4       9  809208      1   1.0    1.0      1.0"
      ]
     },
     "execution_count": 11,
     "metadata": {},
     "output_type": "execute_result"
    }
   ],
   "source": [
    "train_data.head()"
   ]
  },
  {
   "cell_type": "code",
   "execution_count": 12,
   "id": "02782a83",
   "metadata": {},
   "outputs": [],
   "source": [
    "FEATURE_COLUMNS = ['UserID', 'JobID']\n",
    "ohe = OneHotEncoder(handle_unknown='ignore')"
   ]
  },
  {
   "cell_type": "code",
   "execution_count": 13,
   "id": "8d326f65",
   "metadata": {},
   "outputs": [],
   "source": [
    "X_train = ohe.fit_transform(train_data[FEATURE_COLUMNS])\n",
    "X_test = ohe.transform(test_data[FEATURE_COLUMNS])\n"
   ]
  },
  {
   "cell_type": "code",
   "execution_count": 14,
   "id": "52d632ce",
   "metadata": {},
   "outputs": [],
   "source": [
    "y_train = train_data.label.values\n",
    "y_test = test_data.label.values"
   ]
  },
  {
   "cell_type": "code",
   "execution_count": 15,
   "id": "cd83dfb8",
   "metadata": {},
   "outputs": [
    {
     "data": {
      "text/plain": [
       "<563889x521853 sparse matrix of type '<class 'numpy.float64'>'\n",
       "\twith 1127778 stored elements in Compressed Sparse Row format>"
      ]
     },
     "execution_count": 15,
     "metadata": {},
     "output_type": "execute_result"
    }
   ],
   "source": [
    "X_train"
   ]
  },
  {
   "cell_type": "code",
   "execution_count": 16,
   "id": "7a1ae12d",
   "metadata": {},
   "outputs": [
    {
     "data": {
      "text/plain": [
       "array([1, 1, 0, ..., 1, 0, 0])"
      ]
     },
     "execution_count": 16,
     "metadata": {},
     "output_type": "execute_result"
    }
   ],
   "source": [
    "y_train"
   ]
  },
  {
   "cell_type": "code",
   "execution_count": 17,
   "id": "6fdb042f",
   "metadata": {},
   "outputs": [
    {
     "data": {
      "text/plain": [
       "<15736x521853 sparse matrix of type '<class 'numpy.float64'>'\n",
       "\twith 8359 stored elements in Compressed Sparse Row format>"
      ]
     },
     "execution_count": 17,
     "metadata": {},
     "output_type": "execute_result"
    }
   ],
   "source": [
    "X_test"
   ]
  },
  {
   "cell_type": "code",
   "execution_count": 18,
   "id": "32ede3ae",
   "metadata": {},
   "outputs": [
    {
     "data": {
      "text/plain": [
       "array([1, 0, 1, ..., 0, 1, 0])"
      ]
     },
     "execution_count": 18,
     "metadata": {},
     "output_type": "execute_result"
    }
   ],
   "source": [
    "y_test"
   ]
  },
  {
   "cell_type": "code",
   "execution_count": 19,
   "id": "eba26c4d",
   "metadata": {},
   "outputs": [],
   "source": [
    "FM_RANK = 10\n",
    "fm = myfm.MyFMClassifier(\n",
    "    rank=FM_RANK, # The number of factors.\n",
    "    random_seed=42,\n",
    ")"
   ]
  },
  {
   "cell_type": "code",
   "execution_count": 20,
   "id": "7cd6ec67",
   "metadata": {},
   "outputs": [
    {
     "data": {
      "text/plain": [
       "[148576, 373277]"
      ]
     },
     "execution_count": 20,
     "metadata": {},
     "output_type": "execute_result"
    }
   ],
   "source": [
    "[len(i) for i in ohe.categories_]"
   ]
  },
  {
   "cell_type": "code",
   "execution_count": 21,
   "id": "9ba3cfe8",
   "metadata": {},
   "outputs": [
    {
     "name": "stderr",
     "output_type": "stream",
     "text": [
      "w0 = -0.19 : 100%|██████████| 300/300 [03:28<00:00,  1.44it/s]"
     ]
    },
    {
     "name": "stdout",
     "output_type": "stream",
     "text": [
      "CPU times: user 3min 24s, sys: 5.09 s, total: 3min 29s\n",
      "Wall time: 3min 28s\n"
     ]
    },
    {
     "name": "stderr",
     "output_type": "stream",
     "text": [
      "\n"
     ]
    },
    {
     "data": {
      "text/plain": [
       "<myfm.gibbs.MyFMGibbsClassifier at 0x7f46b83cabb0>"
      ]
     },
     "execution_count": 21,
     "metadata": {},
     "output_type": "execute_result"
    }
   ],
   "source": [
    "%%time\n",
    "fm.fit(\n",
    "    X_train, \n",
    "    y_train, \n",
    "    n_iter=300, \n",
    "    n_kept_samples=300,\n",
    "    group_shapes=[len(group) for group in ohe.categories_]\n",
    ")"
   ]
  },
  {
   "cell_type": "code",
   "execution_count": 22,
   "id": "ef26b8c6",
   "metadata": {},
   "outputs": [],
   "source": [
    "predicted_proba = fm.predict_proba(X_test)"
   ]
  },
  {
   "cell_type": "code",
   "execution_count": 23,
   "id": "e334d17f",
   "metadata": {},
   "outputs": [],
   "source": [
    "predicted_label = fm.predict(X_test)"
   ]
  },
  {
   "cell_type": "code",
   "execution_count": 24,
   "id": "db51dbf6",
   "metadata": {},
   "outputs": [
    {
     "data": {
      "text/plain": [
       "array([0.67151501, 0.58828546, 0.70296977, ..., 0.46228774, 0.46228774,\n",
       "       0.37158195])"
      ]
     },
     "execution_count": 24,
     "metadata": {},
     "output_type": "execute_result"
    }
   ],
   "source": [
    "predicted_proba"
   ]
  },
  {
   "cell_type": "code",
   "execution_count": 25,
   "id": "faf62afb",
   "metadata": {},
   "outputs": [
    {
     "data": {
      "text/plain": [
       "array([ True,  True,  True, ..., False, False, False])"
      ]
     },
     "execution_count": 25,
     "metadata": {},
     "output_type": "execute_result"
    }
   ],
   "source": [
    "predicted_label"
   ]
  },
  {
   "cell_type": "markdown",
   "id": "5e9050b0",
   "metadata": {
    "tags": []
   },
   "source": [
    "## Evaluation"
   ]
  },
  {
   "cell_type": "code",
   "execution_count": 26,
   "id": "f83cd6cc",
   "metadata": {},
   "outputs": [],
   "source": [
    "from sklearn.metrics import accuracy_score, roc_auc_score, recall_score, precision_score, f1_score, classification_report"
   ]
  },
  {
   "cell_type": "code",
   "execution_count": 27,
   "id": "e9561053",
   "metadata": {},
   "outputs": [],
   "source": [
    "eval_fm = test_data.copy()"
   ]
  },
  {
   "cell_type": "code",
   "execution_count": 28,
   "id": "a0e7fab3",
   "metadata": {},
   "outputs": [],
   "source": [
    "eval_fm['predicted_proba'] = predicted_proba"
   ]
  },
  {
   "cell_type": "code",
   "execution_count": 29,
   "id": "a90e1569",
   "metadata": {},
   "outputs": [],
   "source": [
    "eval_fm['predicted_label'] = predicted_label.astype('int')"
   ]
  },
  {
   "cell_type": "code",
   "execution_count": 30,
   "id": "6eb183ea",
   "metadata": {},
   "outputs": [
    {
     "data": {
      "text/html": [
       "<div>\n",
       "<style scoped>\n",
       "    .dataframe tbody tr th:only-of-type {\n",
       "        vertical-align: middle;\n",
       "    }\n",
       "\n",
       "    .dataframe tbody tr th {\n",
       "        vertical-align: top;\n",
       "    }\n",
       "\n",
       "    .dataframe thead th {\n",
       "        text-align: right;\n",
       "    }\n",
       "</style>\n",
       "<table border=\"1\" class=\"dataframe\">\n",
       "  <thead>\n",
       "    <tr style=\"text-align: right;\">\n",
       "      <th></th>\n",
       "      <th>UserID</th>\n",
       "      <th>JobID</th>\n",
       "      <th>label</th>\n",
       "      <th>City</th>\n",
       "      <th>State</th>\n",
       "      <th>Country</th>\n",
       "      <th>predicted_proba</th>\n",
       "      <th>predicted_label</th>\n",
       "    </tr>\n",
       "  </thead>\n",
       "  <tbody>\n",
       "    <tr>\n",
       "      <th>10</th>\n",
       "      <td>13</td>\n",
       "      <td>821691</td>\n",
       "      <td>1</td>\n",
       "      <td>0.0</td>\n",
       "      <td>1.0</td>\n",
       "      <td>1.0</td>\n",
       "      <td>0.671515</td>\n",
       "      <td>1</td>\n",
       "    </tr>\n",
       "    <tr>\n",
       "      <th>11</th>\n",
       "      <td>13</td>\n",
       "      <td>329572</td>\n",
       "      <td>0</td>\n",
       "      <td>0.0</td>\n",
       "      <td>0.0</td>\n",
       "      <td>1.0</td>\n",
       "      <td>0.588285</td>\n",
       "      <td>1</td>\n",
       "    </tr>\n",
       "    <tr>\n",
       "      <th>168</th>\n",
       "      <td>514</td>\n",
       "      <td>131166</td>\n",
       "      <td>1</td>\n",
       "      <td>0.0</td>\n",
       "      <td>0.0</td>\n",
       "      <td>1.0</td>\n",
       "      <td>0.702970</td>\n",
       "      <td>1</td>\n",
       "    </tr>\n",
       "    <tr>\n",
       "      <th>169</th>\n",
       "      <td>514</td>\n",
       "      <td>620304</td>\n",
       "      <td>0</td>\n",
       "      <td>0.0</td>\n",
       "      <td>0.0</td>\n",
       "      <td>1.0</td>\n",
       "      <td>0.462288</td>\n",
       "      <td>0</td>\n",
       "    </tr>\n",
       "    <tr>\n",
       "      <th>208</th>\n",
       "      <td>681</td>\n",
       "      <td>654542</td>\n",
       "      <td>1</td>\n",
       "      <td>0.0</td>\n",
       "      <td>1.0</td>\n",
       "      <td>1.0</td>\n",
       "      <td>0.604446</td>\n",
       "      <td>1</td>\n",
       "    </tr>\n",
       "    <tr>\n",
       "      <th>...</th>\n",
       "      <td>...</td>\n",
       "      <td>...</td>\n",
       "      <td>...</td>\n",
       "      <td>...</td>\n",
       "      <td>...</td>\n",
       "      <td>...</td>\n",
       "      <td>...</td>\n",
       "      <td>...</td>\n",
       "    </tr>\n",
       "    <tr>\n",
       "      <th>579344</th>\n",
       "      <td>1471251</td>\n",
       "      <td>856544</td>\n",
       "      <td>0</td>\n",
       "      <td>0.0</td>\n",
       "      <td>0.0</td>\n",
       "      <td>1.0</td>\n",
       "      <td>0.462288</td>\n",
       "      <td>0</td>\n",
       "    </tr>\n",
       "    <tr>\n",
       "      <th>579345</th>\n",
       "      <td>1471251</td>\n",
       "      <td>820739</td>\n",
       "      <td>0</td>\n",
       "      <td>0.0</td>\n",
       "      <td>0.0</td>\n",
       "      <td>1.0</td>\n",
       "      <td>0.462288</td>\n",
       "      <td>0</td>\n",
       "    </tr>\n",
       "    <tr>\n",
       "      <th>579346</th>\n",
       "      <td>1471251</td>\n",
       "      <td>747891</td>\n",
       "      <td>0</td>\n",
       "      <td>0.0</td>\n",
       "      <td>0.0</td>\n",
       "      <td>1.0</td>\n",
       "      <td>0.462288</td>\n",
       "      <td>0</td>\n",
       "    </tr>\n",
       "    <tr>\n",
       "      <th>579587</th>\n",
       "      <td>1471988</td>\n",
       "      <td>652692</td>\n",
       "      <td>1</td>\n",
       "      <td>1.0</td>\n",
       "      <td>1.0</td>\n",
       "      <td>1.0</td>\n",
       "      <td>0.462288</td>\n",
       "      <td>0</td>\n",
       "    </tr>\n",
       "    <tr>\n",
       "      <th>579588</th>\n",
       "      <td>1471988</td>\n",
       "      <td>384700</td>\n",
       "      <td>0</td>\n",
       "      <td>0.0</td>\n",
       "      <td>0.0</td>\n",
       "      <td>1.0</td>\n",
       "      <td>0.371582</td>\n",
       "      <td>0</td>\n",
       "    </tr>\n",
       "  </tbody>\n",
       "</table>\n",
       "<p>15736 rows × 8 columns</p>\n",
       "</div>"
      ],
      "text/plain": [
       "         UserID   JobID  label  City  State  Country  predicted_proba   \n",
       "10           13  821691      1   0.0    1.0      1.0         0.671515  \\\n",
       "11           13  329572      0   0.0    0.0      1.0         0.588285   \n",
       "168         514  131166      1   0.0    0.0      1.0         0.702970   \n",
       "169         514  620304      0   0.0    0.0      1.0         0.462288   \n",
       "208         681  654542      1   0.0    1.0      1.0         0.604446   \n",
       "...         ...     ...    ...   ...    ...      ...              ...   \n",
       "579344  1471251  856544      0   0.0    0.0      1.0         0.462288   \n",
       "579345  1471251  820739      0   0.0    0.0      1.0         0.462288   \n",
       "579346  1471251  747891      0   0.0    0.0      1.0         0.462288   \n",
       "579587  1471988  652692      1   1.0    1.0      1.0         0.462288   \n",
       "579588  1471988  384700      0   0.0    0.0      1.0         0.371582   \n",
       "\n",
       "        predicted_label  \n",
       "10                    1  \n",
       "11                    1  \n",
       "168                   1  \n",
       "169                   0  \n",
       "208                   1  \n",
       "...                 ...  \n",
       "579344                0  \n",
       "579345                0  \n",
       "579346                0  \n",
       "579587                0  \n",
       "579588                0  \n",
       "\n",
       "[15736 rows x 8 columns]"
      ]
     },
     "execution_count": 30,
     "metadata": {},
     "output_type": "execute_result"
    }
   ],
   "source": [
    "eval_fm"
   ]
  },
  {
   "cell_type": "code",
   "execution_count": 31,
   "id": "3baa68b1",
   "metadata": {},
   "outputs": [
    {
     "name": "stdout",
     "output_type": "stream",
     "text": [
      "              precision    recall  f1-score   support\n",
      "\n",
      "           0       0.66      0.86      0.75      7868\n",
      "           1       0.80      0.56      0.66      7868\n",
      "\n",
      "    accuracy                           0.71     15736\n",
      "   macro avg       0.73      0.71      0.71     15736\n",
      "weighted avg       0.73      0.71      0.71     15736\n",
      "\n"
     ]
    }
   ],
   "source": [
    "print(classification_report(eval_fm['label'],\n",
    "                      eval_fm['predicted_label']\n",
    "                     ))"
   ]
  },
  {
   "cell_type": "markdown",
   "id": "b1ffbe74",
   "metadata": {
    "tags": []
   },
   "source": [
    "## Export model (DONE!)"
   ]
  },
  {
   "cell_type": "code",
   "execution_count": 34,
   "id": "80e30260",
   "metadata": {},
   "outputs": [],
   "source": [
    "# Save models\n",
    "import pickle\n",
    "model_name = './output_myfm/fm.pikle'\n",
    "obj = pickle.dump(fm, open(model_name, \"wb\"))"
   ]
  },
  {
   "cell_type": "code",
   "execution_count": 36,
   "id": "fad6540f",
   "metadata": {},
   "outputs": [],
   "source": [
    "# Check loaded model\n",
    "loaded_fm = pickle.load(open(model_name, \"rb\"))"
   ]
  },
  {
   "cell_type": "code",
   "execution_count": 37,
   "id": "67ad5dcf",
   "metadata": {},
   "outputs": [
    {
     "name": "stdout",
     "output_type": "stream",
     "text": [
      "              precision    recall  f1-score   support\n",
      "\n",
      "           0       0.66      0.86      0.75      7868\n",
      "           1       0.80      0.56      0.66      7868\n",
      "\n",
      "    accuracy                           0.71     15736\n",
      "   macro avg       0.73      0.71      0.71     15736\n",
      "weighted avg       0.73      0.71      0.71     15736\n",
      "\n"
     ]
    }
   ],
   "source": [
    "y_pred_loaded_fm = loaded_fm.predict(X_test)\n",
    "print(classification_report(y_test, y_pred_loaded_fm))"
   ]
  },
  {
   "cell_type": "code",
   "execution_count": null,
   "id": "d6a9b79d",
   "metadata": {},
   "outputs": [],
   "source": []
  },
  {
   "cell_type": "markdown",
   "id": "9d85b063",
   "metadata": {
    "tags": []
   },
   "source": [
    "# 2. Model 2: fm_match - Accuracy: 0.91\n",
    "Adding 3 more binary matching information: City, State, Country"
   ]
  },
  {
   "cell_type": "markdown",
   "id": "887c4edc-d8be-409e-ae2d-3e26497d96a7",
   "metadata": {
    "tags": []
   },
   "source": [
    "## Train fm_match model"
   ]
  },
  {
   "cell_type": "code",
   "execution_count": 32,
   "id": "f756af69",
   "metadata": {},
   "outputs": [],
   "source": [
    "FEATURE_COLUMNS_new = ['UserID', 'JobID', 'City', 'State', 'Country']\n",
    "ohe_match = OneHotEncoder(handle_unknown='ignore')"
   ]
  },
  {
   "cell_type": "code",
   "execution_count": 33,
   "id": "fe30696b",
   "metadata": {},
   "outputs": [],
   "source": [
    "X_train_match = ohe_match.fit_transform(train_data[FEATURE_COLUMNS_new])\n",
    "X_test_match = ohe_match.transform(test_data[FEATURE_COLUMNS_new])"
   ]
  },
  {
   "cell_type": "code",
   "execution_count": 34,
   "id": "945f7fec",
   "metadata": {},
   "outputs": [
    {
     "data": {
      "text/plain": [
       "(563889, 521859)"
      ]
     },
     "execution_count": 34,
     "metadata": {},
     "output_type": "execute_result"
    }
   ],
   "source": [
    "X_train_match.shape"
   ]
  },
  {
   "cell_type": "code",
   "execution_count": 35,
   "id": "69746a99",
   "metadata": {},
   "outputs": [
    {
     "data": {
      "text/plain": [
       "(15736, 521859)"
      ]
     },
     "execution_count": 35,
     "metadata": {},
     "output_type": "execute_result"
    }
   ],
   "source": [
    "X_test_match.shape"
   ]
  },
  {
   "cell_type": "code",
   "execution_count": 36,
   "id": "fc2aa254",
   "metadata": {},
   "outputs": [
    {
     "data": {
      "text/plain": [
       "[array([      7,       9,      16, ..., 1472069, 1472085, 1472090]),\n",
       " array([      6,      10,      11, ..., 1116311, 1116312, 1116313]),\n",
       " array([0., 1.]),\n",
       " array([0., 1.]),\n",
       " array([0., 1.])]"
      ]
     },
     "execution_count": 36,
     "metadata": {},
     "output_type": "execute_result"
    }
   ],
   "source": [
    "ohe_match.categories_"
   ]
  },
  {
   "cell_type": "code",
   "execution_count": 37,
   "id": "6a5e4636",
   "metadata": {},
   "outputs": [],
   "source": [
    "y_train = train_data.label.values\n",
    "y_test = test_data.label.values"
   ]
  },
  {
   "cell_type": "code",
   "execution_count": 38,
   "id": "ce60600b",
   "metadata": {},
   "outputs": [],
   "source": [
    "FM_RANK = 10\n",
    "fm_match = myfm.MyFMClassifier(\n",
    "    rank=FM_RANK, # The number of factors.\n",
    "    random_seed=42,\n",
    ")"
   ]
  },
  {
   "cell_type": "code",
   "execution_count": 39,
   "id": "5b9f408b",
   "metadata": {},
   "outputs": [
    {
     "data": {
      "text/plain": [
       "[148576, 373277, 2, 2, 2]"
      ]
     },
     "execution_count": 39,
     "metadata": {},
     "output_type": "execute_result"
    }
   ],
   "source": [
    "[len(i) for i in ohe_match.categories_]"
   ]
  },
  {
   "cell_type": "code",
   "execution_count": 40,
   "id": "f13ad1f6",
   "metadata": {},
   "outputs": [
    {
     "name": "stderr",
     "output_type": "stream",
     "text": [
      "w0 = -0.04 : 100%|██████████| 300/300 [04:20<00:00,  1.15it/s]"
     ]
    },
    {
     "name": "stdout",
     "output_type": "stream",
     "text": [
      "CPU times: user 4min 16s, sys: 6.37 s, total: 4min 22s\n",
      "Wall time: 4min 20s\n"
     ]
    },
    {
     "name": "stderr",
     "output_type": "stream",
     "text": [
      "\n"
     ]
    },
    {
     "data": {
      "text/plain": [
       "<myfm.gibbs.MyFMGibbsClassifier at 0x7f46b83ca610>"
      ]
     },
     "execution_count": 40,
     "metadata": {},
     "output_type": "execute_result"
    }
   ],
   "source": [
    "%%time\n",
    "fm_match.fit(\n",
    "    X_train_match, \n",
    "    y_train, \n",
    "    n_iter=300, \n",
    "    n_kept_samples=300,\n",
    "    group_shapes=[len(group) for group in ohe_match.categories_]\n",
    ")"
   ]
  },
  {
   "cell_type": "markdown",
   "id": "b9fede81-238c-4275-94ba-4021a7a6fef9",
   "metadata": {
    "tags": []
   },
   "source": [
    "## Prediction, evaluation"
   ]
  },
  {
   "cell_type": "code",
   "execution_count": 41,
   "id": "876e8650",
   "metadata": {},
   "outputs": [],
   "source": [
    "predicted_proba = fm_match.predict_proba(X_test_match)"
   ]
  },
  {
   "cell_type": "code",
   "execution_count": 42,
   "id": "f1df2d4b",
   "metadata": {},
   "outputs": [],
   "source": [
    "predicted_label = fm_match.predict(X_test_match)"
   ]
  },
  {
   "cell_type": "code",
   "execution_count": 43,
   "id": "4f82d70f",
   "metadata": {},
   "outputs": [],
   "source": [
    "eval_fm_match = test_data.copy()"
   ]
  },
  {
   "cell_type": "code",
   "execution_count": 44,
   "id": "fa8087e4",
   "metadata": {},
   "outputs": [],
   "source": [
    "eval_fm_match['predicted_proba'] = predicted_proba"
   ]
  },
  {
   "cell_type": "code",
   "execution_count": 45,
   "id": "e9391f99",
   "metadata": {},
   "outputs": [],
   "source": [
    "eval_fm_match['predicted_label'] = predicted_label"
   ]
  },
  {
   "cell_type": "code",
   "execution_count": 46,
   "id": "8bb850fe",
   "metadata": {},
   "outputs": [
    {
     "name": "stdout",
     "output_type": "stream",
     "text": [
      "              precision    recall  f1-score   support\n",
      "\n",
      "           0       0.88      0.95      0.91      7868\n",
      "           1       0.95      0.87      0.91      7868\n",
      "\n",
      "    accuracy                           0.91     15736\n",
      "   macro avg       0.91      0.91      0.91     15736\n",
      "weighted avg       0.91      0.91      0.91     15736\n",
      "\n"
     ]
    }
   ],
   "source": [
    "print(classification_report(eval_fm_match['label'],\n",
    "                      eval_fm_match['predicted_label']\n",
    "                     ))"
   ]
  },
  {
   "cell_type": "markdown",
   "id": "6c02c556-ab5b-4a3b-8387-1fd9c9d69fa9",
   "metadata": {
    "jp-MarkdownHeadingCollapsed": true,
    "tags": []
   },
   "source": [
    "## Export model fm_match"
   ]
  },
  {
   "cell_type": "code",
   "execution_count": 53,
   "id": "c747792e-9be8-4044-812b-ddbe83aab1fd",
   "metadata": {},
   "outputs": [],
   "source": [
    "# Save models\n",
    "import pickle\n",
    "model_name = './output_myfm/fm_match.pikle'\n",
    "obj = pickle.dump(fm_match, open(model_name, \"wb\"))"
   ]
  },
  {
   "cell_type": "markdown",
   "id": "659f7c90",
   "metadata": {
    "tags": []
   },
   "source": [
    "# Prepare side information\n",
    "\n",
    "- user_fm: user information converted to categorical data\n",
    "    - DegreeType\t\n",
    "    - CurrentlyEmployed\t\n",
    "    - ManagedOthers\t\n",
    "    - WorkHistoryTopic\t\n",
    "    - WorkHistoryLevel\t\n",
    "    - SeniorLevel\n",
    "job_fm: job side information converted to categorical data\n",
    "    - JobID\n",
    "    - ReqTopic\n",
    "    - TitTopic\n",
    "    - DescTopic"
   ]
  },
  {
   "cell_type": "markdown",
   "id": "6423c16d",
   "metadata": {
    "tags": []
   },
   "source": [
    "### user info"
   ]
  },
  {
   "cell_type": "code",
   "execution_count": 47,
   "id": "5c958352",
   "metadata": {},
   "outputs": [
    {
     "data": {
      "text/html": [
       "<div>\n",
       "<style scoped>\n",
       "    .dataframe tbody tr th:only-of-type {\n",
       "        vertical-align: middle;\n",
       "    }\n",
       "\n",
       "    .dataframe tbody tr th {\n",
       "        vertical-align: top;\n",
       "    }\n",
       "\n",
       "    .dataframe thead th {\n",
       "        text-align: right;\n",
       "    }\n",
       "</style>\n",
       "<table border=\"1\" class=\"dataframe\">\n",
       "  <thead>\n",
       "    <tr style=\"text-align: right;\">\n",
       "      <th></th>\n",
       "      <th>UserID</th>\n",
       "      <th>Split</th>\n",
       "      <th>DegreeType</th>\n",
       "      <th>CurrentlyEmployed</th>\n",
       "      <th>ManagedOthers</th>\n",
       "      <th>WorkHistoryTopic</th>\n",
       "      <th>WorkHistoryLevel</th>\n",
       "      <th>SeniorLevel</th>\n",
       "    </tr>\n",
       "  </thead>\n",
       "  <tbody>\n",
       "    <tr>\n",
       "      <th>0</th>\n",
       "      <td>80</td>\n",
       "      <td>Train</td>\n",
       "      <td>1</td>\n",
       "      <td>1</td>\n",
       "      <td>1</td>\n",
       "      <td>9</td>\n",
       "      <td>2</td>\n",
       "      <td>4.0</td>\n",
       "    </tr>\n",
       "    <tr>\n",
       "      <th>1</th>\n",
       "      <td>123</td>\n",
       "      <td>Train</td>\n",
       "      <td>4</td>\n",
       "      <td>1</td>\n",
       "      <td>0</td>\n",
       "      <td>0</td>\n",
       "      <td>0</td>\n",
       "      <td>3.0</td>\n",
       "    </tr>\n",
       "    <tr>\n",
       "      <th>2</th>\n",
       "      <td>162</td>\n",
       "      <td>Train</td>\n",
       "      <td>5</td>\n",
       "      <td>0</td>\n",
       "      <td>0</td>\n",
       "      <td>0</td>\n",
       "      <td>3</td>\n",
       "      <td>6.0</td>\n",
       "    </tr>\n",
       "    <tr>\n",
       "      <th>3</th>\n",
       "      <td>178</td>\n",
       "      <td>Train</td>\n",
       "      <td>1</td>\n",
       "      <td>0</td>\n",
       "      <td>1</td>\n",
       "      <td>0</td>\n",
       "      <td>3</td>\n",
       "      <td>6.0</td>\n",
       "    </tr>\n",
       "    <tr>\n",
       "      <th>4</th>\n",
       "      <td>344</td>\n",
       "      <td>Train</td>\n",
       "      <td>1</td>\n",
       "      <td>1</td>\n",
       "      <td>0</td>\n",
       "      <td>0</td>\n",
       "      <td>1</td>\n",
       "      <td>3.0</td>\n",
       "    </tr>\n",
       "    <tr>\n",
       "      <th>...</th>\n",
       "      <td>...</td>\n",
       "      <td>...</td>\n",
       "      <td>...</td>\n",
       "      <td>...</td>\n",
       "      <td>...</td>\n",
       "      <td>...</td>\n",
       "      <td>...</td>\n",
       "      <td>...</td>\n",
       "    </tr>\n",
       "    <tr>\n",
       "      <th>152287</th>\n",
       "      <td>1471706</td>\n",
       "      <td>Train</td>\n",
       "      <td>1</td>\n",
       "      <td>1</td>\n",
       "      <td>0</td>\n",
       "      <td>0</td>\n",
       "      <td>2</td>\n",
       "      <td>6.0</td>\n",
       "    </tr>\n",
       "    <tr>\n",
       "      <th>152288</th>\n",
       "      <td>1471870</td>\n",
       "      <td>Train</td>\n",
       "      <td>0</td>\n",
       "      <td>0</td>\n",
       "      <td>0</td>\n",
       "      <td>0</td>\n",
       "      <td>2</td>\n",
       "      <td>5.0</td>\n",
       "    </tr>\n",
       "    <tr>\n",
       "      <th>152289</th>\n",
       "      <td>1471878</td>\n",
       "      <td>Train</td>\n",
       "      <td>1</td>\n",
       "      <td>0</td>\n",
       "      <td>0</td>\n",
       "      <td>0</td>\n",
       "      <td>2</td>\n",
       "      <td>1.0</td>\n",
       "    </tr>\n",
       "    <tr>\n",
       "      <th>152290</th>\n",
       "      <td>1471997</td>\n",
       "      <td>Train</td>\n",
       "      <td>1</td>\n",
       "      <td>0</td>\n",
       "      <td>1</td>\n",
       "      <td>0</td>\n",
       "      <td>1</td>\n",
       "      <td>2.0</td>\n",
       "    </tr>\n",
       "    <tr>\n",
       "      <th>152291</th>\n",
       "      <td>1472060</td>\n",
       "      <td>Train</td>\n",
       "      <td>1</td>\n",
       "      <td>0</td>\n",
       "      <td>0</td>\n",
       "      <td>0</td>\n",
       "      <td>1</td>\n",
       "      <td>0.0</td>\n",
       "    </tr>\n",
       "  </tbody>\n",
       "</table>\n",
       "<p>152292 rows × 8 columns</p>\n",
       "</div>"
      ],
      "text/plain": [
       "         UserID  Split  DegreeType  CurrentlyEmployed  ManagedOthers   \n",
       "0            80  Train           1                  1              1  \\\n",
       "1           123  Train           4                  1              0   \n",
       "2           162  Train           5                  0              0   \n",
       "3           178  Train           1                  0              1   \n",
       "4           344  Train           1                  1              0   \n",
       "...         ...    ...         ...                ...            ...   \n",
       "152287  1471706  Train           1                  1              0   \n",
       "152288  1471870  Train           0                  0              0   \n",
       "152289  1471878  Train           1                  0              0   \n",
       "152290  1471997  Train           1                  0              1   \n",
       "152291  1472060  Train           1                  0              0   \n",
       "\n",
       "        WorkHistoryTopic  WorkHistoryLevel  SeniorLevel  \n",
       "0                      9                 2          4.0  \n",
       "1                      0                 0          3.0  \n",
       "2                      0                 3          6.0  \n",
       "3                      0                 3          6.0  \n",
       "4                      0                 1          3.0  \n",
       "...                  ...               ...          ...  \n",
       "152287                 0                 2          6.0  \n",
       "152288                 0                 2          5.0  \n",
       "152289                 0                 2          1.0  \n",
       "152290                 0                 1          2.0  \n",
       "152291                 0                 1          0.0  \n",
       "\n",
       "[152292 rows x 8 columns]"
      ]
     },
     "execution_count": 47,
     "metadata": {},
     "output_type": "execute_result"
    }
   ],
   "source": [
    "user_fm = pd.read_csv('./data_interim/users_fm.csv')\n",
    "user_fm"
   ]
  },
  {
   "cell_type": "code",
   "execution_count": 48,
   "id": "868a428e",
   "metadata": {},
   "outputs": [
    {
     "name": "stdout",
     "output_type": "stream",
     "text": [
      "<class 'pandas.core.frame.DataFrame'>\n",
      "RangeIndex: 152292 entries, 0 to 152291\n",
      "Data columns (total 8 columns):\n",
      " #   Column             Non-Null Count   Dtype  \n",
      "---  ------             --------------   -----  \n",
      " 0   UserID             152292 non-null  int64  \n",
      " 1   Split              152292 non-null  object \n",
      " 2   DegreeType         152292 non-null  int64  \n",
      " 3   CurrentlyEmployed  152292 non-null  int64  \n",
      " 4   ManagedOthers      152292 non-null  int64  \n",
      " 5   WorkHistoryTopic   152292 non-null  int64  \n",
      " 6   WorkHistoryLevel   152292 non-null  int64  \n",
      " 7   SeniorLevel        151424 non-null  float64\n",
      "dtypes: float64(1), int64(6), object(1)\n",
      "memory usage: 9.3+ MB\n"
     ]
    }
   ],
   "source": [
    "user_fm.info()"
   ]
  },
  {
   "cell_type": "code",
   "execution_count": 49,
   "id": "1b7dbe57",
   "metadata": {},
   "outputs": [],
   "source": [
    "user_info_train = user_fm[user_fm.UserID.isin(train_user)]\\\n",
    "                    .set_index('UserID')"
   ]
  },
  {
   "cell_type": "code",
   "execution_count": 50,
   "id": "0da86fc5",
   "metadata": {},
   "outputs": [],
   "source": [
    "user_info_train.drop(columns=['Split'], axis=1, inplace=True )"
   ]
  },
  {
   "cell_type": "code",
   "execution_count": 51,
   "id": "24276285",
   "metadata": {},
   "outputs": [
    {
     "data": {
      "text/html": [
       "<div>\n",
       "<style scoped>\n",
       "    .dataframe tbody tr th:only-of-type {\n",
       "        vertical-align: middle;\n",
       "    }\n",
       "\n",
       "    .dataframe tbody tr th {\n",
       "        vertical-align: top;\n",
       "    }\n",
       "\n",
       "    .dataframe thead th {\n",
       "        text-align: right;\n",
       "    }\n",
       "</style>\n",
       "<table border=\"1\" class=\"dataframe\">\n",
       "  <thead>\n",
       "    <tr style=\"text-align: right;\">\n",
       "      <th></th>\n",
       "      <th>DegreeType</th>\n",
       "      <th>CurrentlyEmployed</th>\n",
       "      <th>ManagedOthers</th>\n",
       "      <th>WorkHistoryTopic</th>\n",
       "      <th>WorkHistoryLevel</th>\n",
       "      <th>SeniorLevel</th>\n",
       "    </tr>\n",
       "    <tr>\n",
       "      <th>UserID</th>\n",
       "      <th></th>\n",
       "      <th></th>\n",
       "      <th></th>\n",
       "      <th></th>\n",
       "      <th></th>\n",
       "      <th></th>\n",
       "    </tr>\n",
       "  </thead>\n",
       "  <tbody>\n",
       "    <tr>\n",
       "      <th>80</th>\n",
       "      <td>1</td>\n",
       "      <td>1</td>\n",
       "      <td>1</td>\n",
       "      <td>9</td>\n",
       "      <td>2</td>\n",
       "      <td>4.0</td>\n",
       "    </tr>\n",
       "    <tr>\n",
       "      <th>123</th>\n",
       "      <td>4</td>\n",
       "      <td>1</td>\n",
       "      <td>0</td>\n",
       "      <td>0</td>\n",
       "      <td>0</td>\n",
       "      <td>3.0</td>\n",
       "    </tr>\n",
       "    <tr>\n",
       "      <th>162</th>\n",
       "      <td>5</td>\n",
       "      <td>0</td>\n",
       "      <td>0</td>\n",
       "      <td>0</td>\n",
       "      <td>3</td>\n",
       "      <td>6.0</td>\n",
       "    </tr>\n",
       "    <tr>\n",
       "      <th>178</th>\n",
       "      <td>1</td>\n",
       "      <td>0</td>\n",
       "      <td>1</td>\n",
       "      <td>0</td>\n",
       "      <td>3</td>\n",
       "      <td>6.0</td>\n",
       "    </tr>\n",
       "    <tr>\n",
       "      <th>344</th>\n",
       "      <td>1</td>\n",
       "      <td>1</td>\n",
       "      <td>0</td>\n",
       "      <td>0</td>\n",
       "      <td>1</td>\n",
       "      <td>3.0</td>\n",
       "    </tr>\n",
       "    <tr>\n",
       "      <th>...</th>\n",
       "      <td>...</td>\n",
       "      <td>...</td>\n",
       "      <td>...</td>\n",
       "      <td>...</td>\n",
       "      <td>...</td>\n",
       "      <td>...</td>\n",
       "    </tr>\n",
       "    <tr>\n",
       "      <th>1471706</th>\n",
       "      <td>1</td>\n",
       "      <td>1</td>\n",
       "      <td>0</td>\n",
       "      <td>0</td>\n",
       "      <td>2</td>\n",
       "      <td>6.0</td>\n",
       "    </tr>\n",
       "    <tr>\n",
       "      <th>1471870</th>\n",
       "      <td>0</td>\n",
       "      <td>0</td>\n",
       "      <td>0</td>\n",
       "      <td>0</td>\n",
       "      <td>2</td>\n",
       "      <td>5.0</td>\n",
       "    </tr>\n",
       "    <tr>\n",
       "      <th>1471878</th>\n",
       "      <td>1</td>\n",
       "      <td>0</td>\n",
       "      <td>0</td>\n",
       "      <td>0</td>\n",
       "      <td>2</td>\n",
       "      <td>1.0</td>\n",
       "    </tr>\n",
       "    <tr>\n",
       "      <th>1471997</th>\n",
       "      <td>1</td>\n",
       "      <td>0</td>\n",
       "      <td>1</td>\n",
       "      <td>0</td>\n",
       "      <td>1</td>\n",
       "      <td>2.0</td>\n",
       "    </tr>\n",
       "    <tr>\n",
       "      <th>1472060</th>\n",
       "      <td>1</td>\n",
       "      <td>0</td>\n",
       "      <td>0</td>\n",
       "      <td>0</td>\n",
       "      <td>1</td>\n",
       "      <td>0.0</td>\n",
       "    </tr>\n",
       "  </tbody>\n",
       "</table>\n",
       "<p>148576 rows × 6 columns</p>\n",
       "</div>"
      ],
      "text/plain": [
       "         DegreeType  CurrentlyEmployed  ManagedOthers  WorkHistoryTopic   \n",
       "UserID                                                                    \n",
       "80                1                  1              1                 9  \\\n",
       "123               4                  1              0                 0   \n",
       "162               5                  0              0                 0   \n",
       "178               1                  0              1                 0   \n",
       "344               1                  1              0                 0   \n",
       "...             ...                ...            ...               ...   \n",
       "1471706           1                  1              0                 0   \n",
       "1471870           0                  0              0                 0   \n",
       "1471878           1                  0              0                 0   \n",
       "1471997           1                  0              1                 0   \n",
       "1472060           1                  0              0                 0   \n",
       "\n",
       "         WorkHistoryLevel  SeniorLevel  \n",
       "UserID                                  \n",
       "80                      2          4.0  \n",
       "123                     0          3.0  \n",
       "162                     3          6.0  \n",
       "178                     3          6.0  \n",
       "344                     1          3.0  \n",
       "...                   ...          ...  \n",
       "1471706                 2          6.0  \n",
       "1471870                 2          5.0  \n",
       "1471878                 2          1.0  \n",
       "1471997                 1          2.0  \n",
       "1472060                 1          0.0  \n",
       "\n",
       "[148576 rows x 6 columns]"
      ]
     },
     "execution_count": 51,
     "metadata": {},
     "output_type": "execute_result"
    }
   ],
   "source": [
    "user_info_train"
   ]
  },
  {
   "cell_type": "code",
   "execution_count": 52,
   "id": "295f1a5b",
   "metadata": {},
   "outputs": [],
   "source": [
    "user_info_ohe = OneHotEncoder(handle_unknown='ignore')\\\n",
    "                .fit(user_info_train)"
   ]
  },
  {
   "cell_type": "code",
   "execution_count": 53,
   "id": "fa909eea",
   "metadata": {},
   "outputs": [],
   "source": [
    "user_info_test = user_fm[user_fm.UserID.isin(test_user)]\\\n",
    "                    .set_index('UserID')"
   ]
  },
  {
   "cell_type": "code",
   "execution_count": 54,
   "id": "93b0fbb2",
   "metadata": {},
   "outputs": [],
   "source": [
    "user_info_test.drop(columns=['Split'], axis=1, inplace=True )"
   ]
  },
  {
   "cell_type": "markdown",
   "id": "10a3caea",
   "metadata": {},
   "source": [
    "### job info"
   ]
  },
  {
   "cell_type": "code",
   "execution_count": 55,
   "id": "7ebc3060",
   "metadata": {},
   "outputs": [],
   "source": [
    "job_info = pd.read_csv('./data_interim/jobs_fm.csv').set_index('JobID')"
   ]
  },
  {
   "cell_type": "code",
   "execution_count": 56,
   "id": "52e8c2f5",
   "metadata": {},
   "outputs": [
    {
     "data": {
      "text/html": [
       "<div>\n",
       "<style scoped>\n",
       "    .dataframe tbody tr th:only-of-type {\n",
       "        vertical-align: middle;\n",
       "    }\n",
       "\n",
       "    .dataframe tbody tr th {\n",
       "        vertical-align: top;\n",
       "    }\n",
       "\n",
       "    .dataframe thead th {\n",
       "        text-align: right;\n",
       "    }\n",
       "</style>\n",
       "<table border=\"1\" class=\"dataframe\">\n",
       "  <thead>\n",
       "    <tr style=\"text-align: right;\">\n",
       "      <th></th>\n",
       "      <th>ReqTopic</th>\n",
       "      <th>DescTopic</th>\n",
       "      <th>TitTopic</th>\n",
       "    </tr>\n",
       "    <tr>\n",
       "      <th>JobID</th>\n",
       "      <th></th>\n",
       "      <th></th>\n",
       "      <th></th>\n",
       "    </tr>\n",
       "  </thead>\n",
       "  <tbody>\n",
       "    <tr>\n",
       "      <th>1</th>\n",
       "      <td>5</td>\n",
       "      <td>15</td>\n",
       "      <td>0</td>\n",
       "    </tr>\n",
       "    <tr>\n",
       "      <th>4</th>\n",
       "      <td>18</td>\n",
       "      <td>15</td>\n",
       "      <td>0</td>\n",
       "    </tr>\n",
       "    <tr>\n",
       "      <th>7</th>\n",
       "      <td>15</td>\n",
       "      <td>18</td>\n",
       "      <td>0</td>\n",
       "    </tr>\n",
       "    <tr>\n",
       "      <th>8</th>\n",
       "      <td>15</td>\n",
       "      <td>7</td>\n",
       "      <td>0</td>\n",
       "    </tr>\n",
       "    <tr>\n",
       "      <th>9</th>\n",
       "      <td>15</td>\n",
       "      <td>7</td>\n",
       "      <td>0</td>\n",
       "    </tr>\n",
       "  </tbody>\n",
       "</table>\n",
       "</div>"
      ],
      "text/plain": [
       "       ReqTopic  DescTopic  TitTopic\n",
       "JobID                               \n",
       "1             5         15         0\n",
       "4            18         15         0\n",
       "7            15         18         0\n",
       "8            15          7         0\n",
       "9            15          7         0"
      ]
     },
     "execution_count": 56,
     "metadata": {},
     "output_type": "execute_result"
    }
   ],
   "source": [
    "job_info.head()"
   ]
  },
  {
   "cell_type": "code",
   "execution_count": 57,
   "id": "c9fe3a4d",
   "metadata": {},
   "outputs": [],
   "source": [
    "job_info_ohe = OneHotEncoder(handle_unknown='ignore').fit(job_info)\n"
   ]
  },
  {
   "cell_type": "markdown",
   "id": "98bd516a",
   "metadata": {},
   "source": [
    "### check extension"
   ]
  },
  {
   "cell_type": "code",
   "execution_count": 58,
   "id": "4e9c9d8d",
   "metadata": {},
   "outputs": [
    {
     "name": "stdout",
     "output_type": "stream",
     "text": [
      "extended dimension by jobs info:  60\n"
     ]
    }
   ],
   "source": [
    "[len(i) for i in job_info_ohe.categories_]\n",
    "print('extended dimension by jobs info: ', sum([len(i) for i in job_info_ohe.categories_]))"
   ]
  },
  {
   "cell_type": "code",
   "execution_count": 59,
   "id": "3cb23f76",
   "metadata": {},
   "outputs": [
    {
     "name": "stdout",
     "output_type": "stream",
     "text": [
      "extended dimension by users info:  43\n"
     ]
    }
   ],
   "source": [
    "[len(i) for i in user_info_ohe.categories_]\n",
    "print('extended dimension by users info: ', sum([len(i) for i in user_info_ohe.categories_]))"
   ]
  },
  {
   "cell_type": "code",
   "execution_count": 60,
   "id": "f2abad8b",
   "metadata": {},
   "outputs": [
    {
     "data": {
      "text/plain": [
       "521962"
      ]
     },
     "execution_count": 60,
     "metadata": {},
     "output_type": "execute_result"
    }
   ],
   "source": [
    "# New dimension of X_train should be\n",
    "521859 + 60 + 43"
   ]
  },
  {
   "cell_type": "markdown",
   "id": "0a63a985",
   "metadata": {
    "tags": []
   },
   "source": [
    "# 3. Model 3: fm_side_info\n",
    "- Add only user and job info (exclude City, State, Country)\n",
    "- UPDATE: Training with 300 iterations and keeping 300 sample increase the accuracy compare to 200."
   ]
  },
  {
   "cell_type": "code",
   "execution_count": 61,
   "id": "6f758902",
   "metadata": {},
   "outputs": [],
   "source": [
    "# Extend the X_train (pure interaction) and user, job info\n",
    "import scipy.sparse as sps\n",
    "X_train_side_info = sps.hstack([\n",
    "    X_train,\n",
    "    user_info_ohe.transform(\n",
    "        user_info_train.reindex(train_data.UserID)\n",
    "    ),\n",
    "    job_info_ohe.transform(\n",
    "        job_info.reindex(train_data.JobID)\n",
    "    )])"
   ]
  },
  {
   "cell_type": "code",
   "execution_count": 62,
   "id": "7cb22a37",
   "metadata": {},
   "outputs": [],
   "source": [
    "# Extend the X_train (pure interaction) and user, job info\n",
    "import scipy.sparse as sps\n",
    "X_test_side_info = sps.hstack([\n",
    "    X_test,\n",
    "    user_info_ohe.transform(\n",
    "        user_info_train.reindex(test_data.UserID)\n",
    "    ),\n",
    "    job_info_ohe.transform(\n",
    "        job_info.reindex(test_data.JobID)\n",
    "    )])"
   ]
  },
  {
   "cell_type": "code",
   "execution_count": 63,
   "id": "2ab48500",
   "metadata": {},
   "outputs": [
    {
     "data": {
      "text/plain": [
       "<563889x521956 sparse matrix of type '<class 'numpy.float64'>'\n",
       "\twith 6202779 stored elements in Compressed Sparse Row format>"
      ]
     },
     "execution_count": 63,
     "metadata": {},
     "output_type": "execute_result"
    }
   ],
   "source": [
    "X_train_side_info"
   ]
  },
  {
   "cell_type": "code",
   "execution_count": 64,
   "id": "0c20e14a",
   "metadata": {},
   "outputs": [
    {
     "data": {
      "text/plain": [
       "<15736x521956 sparse matrix of type '<class 'numpy.float64'>'\n",
       "\twith 71303 stored elements in Compressed Sparse Row format>"
      ]
     },
     "execution_count": 64,
     "metadata": {},
     "output_type": "execute_result"
    }
   ],
   "source": [
    "X_test_side_info"
   ]
  },
  {
   "cell_type": "code",
   "execution_count": 65,
   "id": "a02eb7e5",
   "metadata": {},
   "outputs": [
    {
     "data": {
      "text/plain": [
       "<563889x521853 sparse matrix of type '<class 'numpy.float64'>'\n",
       "\twith 1127778 stored elements in Compressed Sparse Row format>"
      ]
     },
     "execution_count": 65,
     "metadata": {},
     "output_type": "execute_result"
    }
   ],
   "source": [
    "X_train"
   ]
  },
  {
   "cell_type": "code",
   "execution_count": 66,
   "id": "d0df6c75",
   "metadata": {},
   "outputs": [
    {
     "data": {
      "text/plain": [
       "521956"
      ]
     },
     "execution_count": 66,
     "metadata": {},
     "output_type": "execute_result"
    }
   ],
   "source": [
    "521853 + 60 + 43"
   ]
  },
  {
   "cell_type": "code",
   "execution_count": 67,
   "id": "9954f563",
   "metadata": {},
   "outputs": [],
   "source": [
    "# Number of categories for each encoder\n",
    "group_shapes_side_info = (\n",
    "    [len(group) for group in ohe.categories_] + # One-hot encoding user_id, job_id\n",
    "    [len(group) for group in user_info_ohe.categories_] + # One-hot encoding side information of user \n",
    "    [len(group) for group in job_info_ohe.categories_]  # One-hot encoding for job\n",
    ")"
   ]
  },
  {
   "cell_type": "code",
   "execution_count": 68,
   "id": "33e94c90",
   "metadata": {},
   "outputs": [
    {
     "data": {
      "text/plain": [
       "521956"
      ]
     },
     "execution_count": 68,
     "metadata": {},
     "output_type": "execute_result"
    }
   ],
   "source": [
    "sum(group_shapes_side_info)"
   ]
  },
  {
   "cell_type": "code",
   "execution_count": 69,
   "id": "3cd58f0e",
   "metadata": {},
   "outputs": [],
   "source": [
    "FM_RANK = 10\n",
    "fm_side_info = myfm.MyFMClassifier(\n",
    "    rank=FM_RANK, \n",
    "    random_seed=42,\n",
    ")"
   ]
  },
  {
   "cell_type": "code",
   "execution_count": 70,
   "id": "96eed651",
   "metadata": {},
   "outputs": [
    {
     "name": "stderr",
     "output_type": "stream",
     "text": [
      "w0 = 0.03 : 100%|██████████| 300/300 [06:36<00:00,  1.32s/it]"
     ]
    },
    {
     "name": "stdout",
     "output_type": "stream",
     "text": [
      "CPU times: user 6min 31s, sys: 6.8 s, total: 6min 38s\n",
      "Wall time: 6min 36s\n"
     ]
    },
    {
     "name": "stderr",
     "output_type": "stream",
     "text": [
      "\n"
     ]
    },
    {
     "data": {
      "text/plain": [
       "<myfm.gibbs.MyFMGibbsClassifier at 0x7f46b837f820>"
      ]
     },
     "execution_count": 70,
     "metadata": {},
     "output_type": "execute_result"
    }
   ],
   "source": [
    "%%time\n",
    "fm_side_info.fit(\n",
    "    X_train_side_info, \n",
    "    y_train, \n",
    "    n_iter=300, \n",
    "    n_kept_samples=300,\n",
    "    group_shapes=group_shapes_side_info\n",
    ")"
   ]
  },
  {
   "cell_type": "code",
   "execution_count": null,
   "id": "303d0ec4",
   "metadata": {},
   "outputs": [],
   "source": []
  },
  {
   "cell_type": "markdown",
   "id": "9bd6a244",
   "metadata": {},
   "source": [
    "### Evaluate model with side information"
   ]
  },
  {
   "cell_type": "code",
   "execution_count": 71,
   "id": "ad8981a7",
   "metadata": {},
   "outputs": [],
   "source": [
    "predicted_proba = fm_side_info.predict_proba(X_test_side_info)"
   ]
  },
  {
   "cell_type": "code",
   "execution_count": 72,
   "id": "f412ab22",
   "metadata": {},
   "outputs": [],
   "source": [
    "predicted_label = fm_side_info.predict(X_test_side_info)"
   ]
  },
  {
   "cell_type": "code",
   "execution_count": 73,
   "id": "ab8ccfd1",
   "metadata": {},
   "outputs": [],
   "source": [
    "eval_fm_side_info = test_data.copy()"
   ]
  },
  {
   "cell_type": "code",
   "execution_count": 74,
   "id": "78be66fa",
   "metadata": {},
   "outputs": [],
   "source": [
    "eval_fm_side_info['predicted_proba'] = predicted_proba"
   ]
  },
  {
   "cell_type": "code",
   "execution_count": 75,
   "id": "a738b1c8",
   "metadata": {},
   "outputs": [],
   "source": [
    "eval_fm_side_info['predicted_label'] = predicted_label"
   ]
  },
  {
   "cell_type": "code",
   "execution_count": 76,
   "id": "9861f1b8",
   "metadata": {},
   "outputs": [
    {
     "name": "stdout",
     "output_type": "stream",
     "text": [
      "Evaluation report - Extended model: user info, job info\n",
      "              precision    recall  f1-score   support\n",
      "\n",
      "           0       0.70      0.55      0.62      7868\n",
      "           1       0.63      0.76      0.69      7868\n",
      "\n",
      "    accuracy                           0.66     15736\n",
      "   macro avg       0.66      0.66      0.65     15736\n",
      "weighted avg       0.66      0.66      0.65     15736\n",
      "\n"
     ]
    }
   ],
   "source": [
    "from sklearn.metrics import accuracy_score, roc_auc_score, recall_score, precision_score, f1_score, classification_report\n",
    "print('Evaluation report - Extended model: user info, job info')\n",
    "print(classification_report(eval_fm_side_info['label'],\n",
    "                      eval_fm_side_info['predicted_label']\n",
    "                     ))"
   ]
  },
  {
   "cell_type": "markdown",
   "id": "9f382706-1f3b-4fac-96d1-ca1dcf8e4b8d",
   "metadata": {
    "tags": []
   },
   "source": [
    "### Export model fm_side_info (Pickle optimization)\n",
    "(pickle object)\n",
    "- Using normal pickle or sko.ops do not work (RuntimeError: Could not allocate list object!)\n",
    "- Using pickletools to optimized the pickle (both dumping and loading). [Reference](https://towardsdatascience.com/the-power-of-pickletools-handling-large-model-pickle-files-7f9037b9086b)"
   ]
  },
  {
   "cell_type": "code",
   "execution_count": 49,
   "id": "62fb96b7-ecb3-496e-b7c5-b999336c4b82",
   "metadata": {},
   "outputs": [],
   "source": [
    "# EXPORT MODEL\n",
    "import gzip, pickle, pickletools"
   ]
  },
  {
   "cell_type": "code",
   "execution_count": 51,
   "id": "49ad24d0-ed93-4a06-9475-de29cc2f4cd7",
   "metadata": {},
   "outputs": [],
   "source": [
    "filepath = \"./output_myfm/fm_side_info.pikle\"\n",
    "with gzip.open(filepath, \"wb\") as f:\n",
    "    pickled = pickle.dumps(fm_side_info)\n",
    "    optimized_pickle = pickletools.optimize(pickled)\n",
    "    f.write(optimized_pickle)"
   ]
  },
  {
   "cell_type": "code",
   "execution_count": 52,
   "id": "f4334b61-9943-4682-a041-8d463d27cd91",
   "metadata": {},
   "outputs": [
    {
     "name": "stdout",
     "output_type": "stream",
     "text": [
      "CPU times: user 1min 40s, sys: 25.2 s, total: 2min 5s\n",
      "Wall time: 2min 19s\n"
     ]
    }
   ],
   "source": [
    "%%time\n",
    "with gzip.open(filepath, 'rb') as f:\n",
    "    p = pickle.Unpickler(f)\n",
    "    loaded_fm_sideinfo = p.load()"
   ]
  },
  {
   "cell_type": "code",
   "execution_count": 54,
   "id": "b5b269e0-1d39-4572-854d-f01e707733cb",
   "metadata": {},
   "outputs": [],
   "source": [
    "loaded_prediction = loaded_fm_sideinfo.predict(X_test_side_info)"
   ]
  },
  {
   "cell_type": "code",
   "execution_count": 55,
   "id": "3cca9238-32d8-4110-bb36-31312b689465",
   "metadata": {},
   "outputs": [
    {
     "name": "stdout",
     "output_type": "stream",
     "text": [
      "              precision    recall  f1-score   support\n",
      "\n",
      "           0       0.70      0.55      0.62      7868\n",
      "           1       0.63      0.76      0.69      7868\n",
      "\n",
      "    accuracy                           0.66     15736\n",
      "   macro avg       0.66      0.66      0.65     15736\n",
      "weighted avg       0.66      0.66      0.65     15736\n",
      "\n"
     ]
    }
   ],
   "source": [
    "from sklearn.metrics import accuracy_score, roc_auc_score, recall_score, precision_score, f1_score, classification_report\n",
    "print(classification_report(y_test, loaded_prediction))"
   ]
  },
  {
   "cell_type": "markdown",
   "id": "63ad8415",
   "metadata": {},
   "source": [
    "# 4. Model 4: fm_extended\n",
    "Add all side info + matching info: fm_extended\n",
    "Accuracy: 0.91\n",
    "UPDATE: Change iterations and number of sample: 300"
   ]
  },
  {
   "cell_type": "markdown",
   "id": "80ed0761",
   "metadata": {
    "jp-MarkdownHeadingCollapsed": true,
    "tags": []
   },
   "source": [
    "### Extended train features"
   ]
  },
  {
   "cell_type": "code",
   "execution_count": 77,
   "id": "6cb735a4",
   "metadata": {},
   "outputs": [],
   "source": [
    "# Stack matrix column wise\n",
    "import scipy.sparse as sps\n",
    "X_train_extended = sps.hstack([\n",
    "    X_train_match,\n",
    "    user_info_ohe.transform(\n",
    "        user_info_train.reindex(train_data.UserID)\n",
    "    ),\n",
    "    job_info_ohe.transform(\n",
    "        job_info.reindex(train_data.JobID)\n",
    "    )])"
   ]
  },
  {
   "cell_type": "code",
   "execution_count": 78,
   "id": "a863661c",
   "metadata": {},
   "outputs": [
    {
     "data": {
      "text/plain": [
       "<563889x521853 sparse matrix of type '<class 'numpy.float64'>'\n",
       "\twith 1127778 stored elements in Compressed Sparse Row format>"
      ]
     },
     "execution_count": 78,
     "metadata": {},
     "output_type": "execute_result"
    }
   ],
   "source": [
    "X_train"
   ]
  },
  {
   "cell_type": "code",
   "execution_count": 79,
   "id": "aa22482c",
   "metadata": {},
   "outputs": [
    {
     "data": {
      "text/plain": [
       "<563889x521859 sparse matrix of type '<class 'numpy.float64'>'\n",
       "\twith 2819445 stored elements in Compressed Sparse Row format>"
      ]
     },
     "execution_count": 79,
     "metadata": {},
     "output_type": "execute_result"
    }
   ],
   "source": [
    "X_train_match # Adding 3 more matching features => extended dimension by 6"
   ]
  },
  {
   "cell_type": "code",
   "execution_count": 80,
   "id": "cb2f988f",
   "metadata": {},
   "outputs": [
    {
     "data": {
      "text/plain": [
       "<563889x521962 sparse matrix of type '<class 'numpy.float64'>'\n",
       "\twith 7894446 stored elements in Compressed Sparse Row format>"
      ]
     },
     "execution_count": 80,
     "metadata": {},
     "output_type": "execute_result"
    }
   ],
   "source": [
    "X_train_extended "
   ]
  },
  {
   "cell_type": "markdown",
   "id": "00178859",
   "metadata": {
    "jp-MarkdownHeadingCollapsed": true,
    "tags": []
   },
   "source": [
    "### Extend test feature"
   ]
  },
  {
   "cell_type": "code",
   "execution_count": 81,
   "id": "056899f4",
   "metadata": {},
   "outputs": [],
   "source": [
    "### Extended X_test\n",
    "import scipy.sparse as sps\n",
    "X_test_extended = sps.hstack([\n",
    "    X_test_match,\n",
    "    user_info_ohe.transform(\n",
    "        user_info_test.reindex(test_data.UserID)\n",
    "    ),\n",
    "    job_info_ohe.transform(\n",
    "        job_info.reindex(test_data.JobID)\n",
    "    )])"
   ]
  },
  {
   "cell_type": "code",
   "execution_count": 82,
   "id": "d1873d75",
   "metadata": {},
   "outputs": [
    {
     "data": {
      "text/plain": [
       "<15736x521962 sparse matrix of type '<class 'numpy.float64'>'\n",
       "\twith 197191 stored elements in Compressed Sparse Row format>"
      ]
     },
     "execution_count": 82,
     "metadata": {},
     "output_type": "execute_result"
    }
   ],
   "source": [
    "X_test_extended"
   ]
  },
  {
   "cell_type": "markdown",
   "id": "17a9146c",
   "metadata": {
    "jp-MarkdownHeadingCollapsed": true,
    "tags": []
   },
   "source": [
    "### Regress X_train_extended against y_train"
   ]
  },
  {
   "cell_type": "code",
   "execution_count": 83,
   "id": "f9d84298",
   "metadata": {},
   "outputs": [],
   "source": [
    "# Number of categories for each encoder\n",
    "group_shapes_extended = (\n",
    "    [len(group) for group in ohe_match.categories_] + # One-hot encoding user_id, job_id, 3 types of matching\n",
    "    [len(group) for group in user_info_ohe.categories_] + # One-hot encoding side information of user \n",
    "    [len(group) for group in job_info_ohe.categories_]  # One-hot encoding for job\n",
    ")"
   ]
  },
  {
   "cell_type": "code",
   "execution_count": 84,
   "id": "f3e9de5e",
   "metadata": {},
   "outputs": [
    {
     "data": {
      "text/plain": [
       "[148576, 373277, 2, 2, 2, 7, 2, 2, 20, 4, 8, 20, 20, 20]"
      ]
     },
     "execution_count": 84,
     "metadata": {},
     "output_type": "execute_result"
    }
   ],
   "source": [
    "group_shapes_extended"
   ]
  },
  {
   "cell_type": "code",
   "execution_count": 85,
   "id": "3fe1c452",
   "metadata": {},
   "outputs": [
    {
     "data": {
      "text/plain": [
       "521962"
      ]
     },
     "execution_count": 85,
     "metadata": {},
     "output_type": "execute_result"
    }
   ],
   "source": [
    "sum(group_shapes_extended)"
   ]
  },
  {
   "cell_type": "code",
   "execution_count": 86,
   "id": "cc420dbb",
   "metadata": {},
   "outputs": [],
   "source": [
    "fm_extended = myfm.MyFMClassifier(\n",
    "    rank=FM_RANK, \n",
    "    random_seed=42,\n",
    ")"
   ]
  },
  {
   "cell_type": "code",
   "execution_count": 87,
   "id": "efa5bce8",
   "metadata": {},
   "outputs": [
    {
     "name": "stderr",
     "output_type": "stream",
     "text": [
      "w0 = 0.01 : 100%|██████████| 300/300 [08:21<00:00,  1.67s/it]"
     ]
    },
    {
     "name": "stdout",
     "output_type": "stream",
     "text": [
      "CPU times: user 8min 14s, sys: 8.3 s, total: 8min 22s\n",
      "Wall time: 8min 21s\n"
     ]
    },
    {
     "name": "stderr",
     "output_type": "stream",
     "text": [
      "\n"
     ]
    },
    {
     "data": {
      "text/plain": [
       "<myfm.gibbs.MyFMGibbsClassifier at 0x7f46b837f880>"
      ]
     },
     "execution_count": 87,
     "metadata": {},
     "output_type": "execute_result"
    }
   ],
   "source": [
    "%%time\n",
    "fm_extended.fit(\n",
    "    X_train_extended, \n",
    "    y_train, \n",
    "    n_iter=300, \n",
    "    n_kept_samples=300,\n",
    "    group_shapes=group_shapes_extended\n",
    ")"
   ]
  },
  {
   "cell_type": "markdown",
   "id": "6c0a10de",
   "metadata": {
    "tags": []
   },
   "source": [
    "### Evaluate model with side information"
   ]
  },
  {
   "cell_type": "code",
   "execution_count": 88,
   "id": "5e10a39a",
   "metadata": {},
   "outputs": [],
   "source": [
    "predicted_proba = fm_extended.predict_proba(X_test_extended)"
   ]
  },
  {
   "cell_type": "code",
   "execution_count": 89,
   "id": "29305aeb",
   "metadata": {},
   "outputs": [],
   "source": [
    "predicted_label = fm_extended.predict(X_test_extended)"
   ]
  },
  {
   "cell_type": "code",
   "execution_count": 90,
   "id": "32941b98",
   "metadata": {},
   "outputs": [],
   "source": [
    "eval_fm_extended = test_data.copy()"
   ]
  },
  {
   "cell_type": "code",
   "execution_count": 91,
   "id": "36d8190b",
   "metadata": {},
   "outputs": [],
   "source": [
    "eval_fm_extended['predicted_proba'] = predicted_proba"
   ]
  },
  {
   "cell_type": "code",
   "execution_count": 92,
   "id": "25b395f4",
   "metadata": {},
   "outputs": [],
   "source": [
    "eval_fm_extended['predicted_label'] = predicted_label"
   ]
  },
  {
   "cell_type": "code",
   "execution_count": 93,
   "id": "cb659724",
   "metadata": {},
   "outputs": [
    {
     "name": "stdout",
     "output_type": "stream",
     "text": [
      "Evaluation report - Extended model: user info, job info, matching info\n",
      "              precision    recall  f1-score   support\n",
      "\n",
      "           0       0.88      0.95      0.91      7868\n",
      "           1       0.95      0.87      0.91      7868\n",
      "\n",
      "    accuracy                           0.91     15736\n",
      "   macro avg       0.91      0.91      0.91     15736\n",
      "weighted avg       0.91      0.91      0.91     15736\n",
      "\n"
     ]
    }
   ],
   "source": [
    "print('Evaluation report - Extended model: user info, job info, matching info')\n",
    "print(classification_report(eval_fm_extended['label'],\n",
    "                      eval_fm_extended['predicted_label']\n",
    "                     ))"
   ]
  },
  {
   "cell_type": "code",
   "execution_count": 94,
   "id": "747df37f",
   "metadata": {},
   "outputs": [
    {
     "data": {
      "text/html": [
       "<div>\n",
       "<style scoped>\n",
       "    .dataframe tbody tr th:only-of-type {\n",
       "        vertical-align: middle;\n",
       "    }\n",
       "\n",
       "    .dataframe tbody tr th {\n",
       "        vertical-align: top;\n",
       "    }\n",
       "\n",
       "    .dataframe thead th {\n",
       "        text-align: right;\n",
       "    }\n",
       "</style>\n",
       "<table border=\"1\" class=\"dataframe\">\n",
       "  <thead>\n",
       "    <tr style=\"text-align: right;\">\n",
       "      <th></th>\n",
       "      <th>UserID</th>\n",
       "      <th>JobID</th>\n",
       "      <th>label</th>\n",
       "      <th>City</th>\n",
       "      <th>State</th>\n",
       "      <th>Country</th>\n",
       "      <th>predicted_proba</th>\n",
       "      <th>predicted_label</th>\n",
       "    </tr>\n",
       "  </thead>\n",
       "  <tbody>\n",
       "    <tr>\n",
       "      <th>10</th>\n",
       "      <td>13</td>\n",
       "      <td>821691</td>\n",
       "      <td>1</td>\n",
       "      <td>0.0</td>\n",
       "      <td>1.0</td>\n",
       "      <td>1.0</td>\n",
       "      <td>0.957912</td>\n",
       "      <td>True</td>\n",
       "    </tr>\n",
       "    <tr>\n",
       "      <th>11</th>\n",
       "      <td>13</td>\n",
       "      <td>329572</td>\n",
       "      <td>0</td>\n",
       "      <td>0.0</td>\n",
       "      <td>0.0</td>\n",
       "      <td>1.0</td>\n",
       "      <td>0.112850</td>\n",
       "      <td>False</td>\n",
       "    </tr>\n",
       "    <tr>\n",
       "      <th>168</th>\n",
       "      <td>514</td>\n",
       "      <td>131166</td>\n",
       "      <td>1</td>\n",
       "      <td>0.0</td>\n",
       "      <td>0.0</td>\n",
       "      <td>1.0</td>\n",
       "      <td>0.452448</td>\n",
       "      <td>False</td>\n",
       "    </tr>\n",
       "    <tr>\n",
       "      <th>169</th>\n",
       "      <td>514</td>\n",
       "      <td>620304</td>\n",
       "      <td>0</td>\n",
       "      <td>0.0</td>\n",
       "      <td>0.0</td>\n",
       "      <td>1.0</td>\n",
       "      <td>0.172858</td>\n",
       "      <td>False</td>\n",
       "    </tr>\n",
       "    <tr>\n",
       "      <th>208</th>\n",
       "      <td>681</td>\n",
       "      <td>654542</td>\n",
       "      <td>1</td>\n",
       "      <td>0.0</td>\n",
       "      <td>1.0</td>\n",
       "      <td>1.0</td>\n",
       "      <td>0.956533</td>\n",
       "      <td>True</td>\n",
       "    </tr>\n",
       "  </tbody>\n",
       "</table>\n",
       "</div>"
      ],
      "text/plain": [
       "     UserID   JobID  label  City  State  Country  predicted_proba   \n",
       "10       13  821691      1   0.0    1.0      1.0         0.957912  \\\n",
       "11       13  329572      0   0.0    0.0      1.0         0.112850   \n",
       "168     514  131166      1   0.0    0.0      1.0         0.452448   \n",
       "169     514  620304      0   0.0    0.0      1.0         0.172858   \n",
       "208     681  654542      1   0.0    1.0      1.0         0.956533   \n",
       "\n",
       "     predicted_label  \n",
       "10              True  \n",
       "11             False  \n",
       "168            False  \n",
       "169            False  \n",
       "208             True  "
      ]
     },
     "execution_count": 94,
     "metadata": {},
     "output_type": "execute_result"
    }
   ],
   "source": [
    "eval_fm_extended.head()"
   ]
  },
  {
   "cell_type": "markdown",
   "id": "d7dedfb6-b073-4bc6-b9cf-fa5a055a1a25",
   "metadata": {
    "tags": []
   },
   "source": [
    "## Export fm_extended model (pickle object)"
   ]
  },
  {
   "cell_type": "code",
   "execution_count": 84,
   "id": "f53cf9b8-db58-4bf6-a944-60df20145b21",
   "metadata": {},
   "outputs": [
    {
     "name": "stdout",
     "output_type": "stream",
     "text": [
      "CPU times: user 19 µs, sys: 1e+03 ns, total: 20 µs\n",
      "Wall time: 49.8 µs\n"
     ]
    }
   ],
   "source": [
    "%time\n",
    "# EXPORT MODEL\n",
    "import gzip, pickle, pickletools\n",
    "\n",
    "filepath = \"./output_myfm/fm_extended.pikle\"\n",
    "with gzip.open(filepath, \"wb\") as f:\n",
    "    pickled = pickle.dumps(fm_extended)\n",
    "    optimized_pickle = pickletools.optimize(pickled)\n",
    "    f.write(optimized_pickle)"
   ]
  },
  {
   "cell_type": "code",
   "execution_count": 85,
   "id": "a4bf8d4d-ec4b-4c07-a6fd-c9f1e9341147",
   "metadata": {},
   "outputs": [
    {
     "name": "stdout",
     "output_type": "stream",
     "text": [
      "CPU times: user 1min 45s, sys: 26.5 s, total: 2min 12s\n",
      "Wall time: 2min 31s\n"
     ]
    }
   ],
   "source": [
    "%%time\n",
    "with gzip.open(filepath, 'rb') as f:\n",
    "    p = pickle.Unpickler(f)\n",
    "    loaded_fm_extended = p.load()"
   ]
  },
  {
   "cell_type": "code",
   "execution_count": 86,
   "id": "e344d8e9-4bee-4c25-b71e-44f62c79890c",
   "metadata": {},
   "outputs": [],
   "source": [
    "# loaded_prediction = loaded_fm_extended.predict(X_test_extended)"
   ]
  },
  {
   "cell_type": "code",
   "execution_count": 87,
   "id": "856e29e7-e3d1-4aa4-b9af-e351e9459ca1",
   "metadata": {},
   "outputs": [
    {
     "name": "stdout",
     "output_type": "stream",
     "text": [
      "              precision    recall  f1-score   support\n",
      "\n",
      "           0       0.88      0.95      0.91      7868\n",
      "           1       0.95      0.87      0.91      7868\n",
      "\n",
      "    accuracy                           0.91     15736\n",
      "   macro avg       0.91      0.91      0.91     15736\n",
      "weighted avg       0.91      0.91      0.91     15736\n",
      "\n"
     ]
    }
   ],
   "source": [
    "# from sklearn.metrics import accuracy_score, roc_auc_score, recall_score, precision_score, f1_score, classification_report\n",
    "# print(classification_report(y_test, loaded_prediction))"
   ]
  },
  {
   "cell_type": "markdown",
   "id": "7db8fe1c",
   "metadata": {},
   "source": [
    "## Compare 4 solutions, export results"
   ]
  },
  {
   "cell_type": "code",
   "execution_count": 95,
   "id": "53755677",
   "metadata": {},
   "outputs": [
    {
     "data": {
      "text/html": [
       "<div>\n",
       "<style scoped>\n",
       "    .dataframe tbody tr th:only-of-type {\n",
       "        vertical-align: middle;\n",
       "    }\n",
       "\n",
       "    .dataframe tbody tr th {\n",
       "        vertical-align: top;\n",
       "    }\n",
       "\n",
       "    .dataframe thead th {\n",
       "        text-align: right;\n",
       "    }\n",
       "</style>\n",
       "<table border=\"1\" class=\"dataframe\">\n",
       "  <thead>\n",
       "    <tr style=\"text-align: right;\">\n",
       "      <th></th>\n",
       "      <th>count</th>\n",
       "      <th>mean</th>\n",
       "      <th>std</th>\n",
       "      <th>min</th>\n",
       "      <th>25%</th>\n",
       "      <th>50%</th>\n",
       "      <th>75%</th>\n",
       "      <th>max</th>\n",
       "    </tr>\n",
       "  </thead>\n",
       "  <tbody>\n",
       "    <tr>\n",
       "      <th>False</th>\n",
       "      <td>8550.0</td>\n",
       "      <td>0.471834</td>\n",
       "      <td>0.080404</td>\n",
       "      <td>0.268351</td>\n",
       "      <td>0.462288</td>\n",
       "      <td>0.462288</td>\n",
       "      <td>0.462288</td>\n",
       "      <td>0.816673</td>\n",
       "    </tr>\n",
       "    <tr>\n",
       "      <th>True</th>\n",
       "      <td>7186.0</td>\n",
       "      <td>0.551397</td>\n",
       "      <td>0.110805</td>\n",
       "      <td>0.280149</td>\n",
       "      <td>0.462288</td>\n",
       "      <td>0.566096</td>\n",
       "      <td>0.641181</td>\n",
       "      <td>0.833422</td>\n",
       "    </tr>\n",
       "  </tbody>\n",
       "</table>\n",
       "</div>"
      ],
      "text/plain": [
       "        count      mean       std       min       25%       50%       75%   \n",
       "False  8550.0  0.471834  0.080404  0.268351  0.462288  0.462288  0.462288  \\\n",
       "True   7186.0  0.551397  0.110805  0.280149  0.462288  0.566096  0.641181   \n",
       "\n",
       "            max  \n",
       "False  0.816673  \n",
       "True   0.833422  "
      ]
     },
     "execution_count": 95,
     "metadata": {},
     "output_type": "execute_result"
    }
   ],
   "source": [
    "# Pure interaction\n",
    "eval_fm.groupby(predicted_label)['predicted_proba'].describe()"
   ]
  },
  {
   "cell_type": "code",
   "execution_count": 96,
   "id": "09802f85",
   "metadata": {},
   "outputs": [
    {
     "data": {
      "text/html": [
       "<div>\n",
       "<style scoped>\n",
       "    .dataframe tbody tr th:only-of-type {\n",
       "        vertical-align: middle;\n",
       "    }\n",
       "\n",
       "    .dataframe tbody tr th {\n",
       "        vertical-align: top;\n",
       "    }\n",
       "\n",
       "    .dataframe thead th {\n",
       "        text-align: right;\n",
       "    }\n",
       "</style>\n",
       "<table border=\"1\" class=\"dataframe\">\n",
       "  <thead>\n",
       "    <tr style=\"text-align: right;\">\n",
       "      <th></th>\n",
       "      <th>count</th>\n",
       "      <th>mean</th>\n",
       "      <th>std</th>\n",
       "      <th>min</th>\n",
       "      <th>25%</th>\n",
       "      <th>50%</th>\n",
       "      <th>75%</th>\n",
       "      <th>max</th>\n",
       "    </tr>\n",
       "  </thead>\n",
       "  <tbody>\n",
       "    <tr>\n",
       "      <th>False</th>\n",
       "      <td>8550.0</td>\n",
       "      <td>0.057801</td>\n",
       "      <td>0.049714</td>\n",
       "      <td>0.035148</td>\n",
       "      <td>0.036192</td>\n",
       "      <td>0.036192</td>\n",
       "      <td>0.064467</td>\n",
       "      <td>0.682878</td>\n",
       "    </tr>\n",
       "    <tr>\n",
       "      <th>True</th>\n",
       "      <td>7186.0</td>\n",
       "      <td>0.952548</td>\n",
       "      <td>0.041560</td>\n",
       "      <td>0.324528</td>\n",
       "      <td>0.939913</td>\n",
       "      <td>0.942258</td>\n",
       "      <td>0.990430</td>\n",
       "      <td>0.993597</td>\n",
       "    </tr>\n",
       "  </tbody>\n",
       "</table>\n",
       "</div>"
      ],
      "text/plain": [
       "        count      mean       std       min       25%       50%       75%   \n",
       "False  8550.0  0.057801  0.049714  0.035148  0.036192  0.036192  0.064467  \\\n",
       "True   7186.0  0.952548  0.041560  0.324528  0.939913  0.942258  0.990430   \n",
       "\n",
       "            max  \n",
       "False  0.682878  \n",
       "True   0.993597  "
      ]
     },
     "execution_count": 96,
     "metadata": {},
     "output_type": "execute_result"
    }
   ],
   "source": [
    "# Adding 3 more matching features\n",
    "eval_fm_match.groupby(predicted_label)['predicted_proba'].describe()"
   ]
  },
  {
   "cell_type": "code",
   "execution_count": 97,
   "id": "46420ed3",
   "metadata": {},
   "outputs": [
    {
     "data": {
      "text/html": [
       "<div>\n",
       "<style scoped>\n",
       "    .dataframe tbody tr th:only-of-type {\n",
       "        vertical-align: middle;\n",
       "    }\n",
       "\n",
       "    .dataframe tbody tr th {\n",
       "        vertical-align: top;\n",
       "    }\n",
       "\n",
       "    .dataframe thead th {\n",
       "        text-align: right;\n",
       "    }\n",
       "</style>\n",
       "<table border=\"1\" class=\"dataframe\">\n",
       "  <thead>\n",
       "    <tr style=\"text-align: right;\">\n",
       "      <th></th>\n",
       "      <th>count</th>\n",
       "      <th>mean</th>\n",
       "      <th>std</th>\n",
       "      <th>min</th>\n",
       "      <th>25%</th>\n",
       "      <th>50%</th>\n",
       "      <th>75%</th>\n",
       "      <th>max</th>\n",
       "    </tr>\n",
       "  </thead>\n",
       "  <tbody>\n",
       "    <tr>\n",
       "      <th>False</th>\n",
       "      <td>8550.0</td>\n",
       "      <td>0.472515</td>\n",
       "      <td>0.242451</td>\n",
       "      <td>0.020685</td>\n",
       "      <td>0.290319</td>\n",
       "      <td>0.469879</td>\n",
       "      <td>0.681761</td>\n",
       "      <td>0.974306</td>\n",
       "    </tr>\n",
       "    <tr>\n",
       "      <th>True</th>\n",
       "      <td>7186.0</td>\n",
       "      <td>0.643356</td>\n",
       "      <td>0.222782</td>\n",
       "      <td>0.025302</td>\n",
       "      <td>0.503736</td>\n",
       "      <td>0.698472</td>\n",
       "      <td>0.819542</td>\n",
       "      <td>0.988133</td>\n",
       "    </tr>\n",
       "  </tbody>\n",
       "</table>\n",
       "</div>"
      ],
      "text/plain": [
       "        count      mean       std       min       25%       50%       75%   \n",
       "False  8550.0  0.472515  0.242451  0.020685  0.290319  0.469879  0.681761  \\\n",
       "True   7186.0  0.643356  0.222782  0.025302  0.503736  0.698472  0.819542   \n",
       "\n",
       "            max  \n",
       "False  0.974306  \n",
       "True   0.988133  "
      ]
     },
     "execution_count": 97,
     "metadata": {},
     "output_type": "execute_result"
    }
   ],
   "source": [
    "# Adding user info + item info\n",
    "eval_fm_side_info.groupby(predicted_label)['predicted_proba'].describe()"
   ]
  },
  {
   "cell_type": "code",
   "execution_count": 98,
   "id": "2c7988b9",
   "metadata": {},
   "outputs": [
    {
     "data": {
      "text/html": [
       "<div>\n",
       "<style scoped>\n",
       "    .dataframe tbody tr th:only-of-type {\n",
       "        vertical-align: middle;\n",
       "    }\n",
       "\n",
       "    .dataframe tbody tr th {\n",
       "        vertical-align: top;\n",
       "    }\n",
       "\n",
       "    .dataframe thead th {\n",
       "        text-align: right;\n",
       "    }\n",
       "</style>\n",
       "<table border=\"1\" class=\"dataframe\">\n",
       "  <thead>\n",
       "    <tr style=\"text-align: right;\">\n",
       "      <th></th>\n",
       "      <th>count</th>\n",
       "      <th>mean</th>\n",
       "      <th>std</th>\n",
       "      <th>min</th>\n",
       "      <th>25%</th>\n",
       "      <th>50%</th>\n",
       "      <th>75%</th>\n",
       "      <th>max</th>\n",
       "    </tr>\n",
       "  </thead>\n",
       "  <tbody>\n",
       "    <tr>\n",
       "      <th>False</th>\n",
       "      <td>8550.0</td>\n",
       "      <td>0.079308</td>\n",
       "      <td>0.057681</td>\n",
       "      <td>0.004090</td>\n",
       "      <td>0.040570</td>\n",
       "      <td>0.064625</td>\n",
       "      <td>0.104114</td>\n",
       "      <td>0.496678</td>\n",
       "    </tr>\n",
       "    <tr>\n",
       "      <th>True</th>\n",
       "      <td>7186.0</td>\n",
       "      <td>0.953842</td>\n",
       "      <td>0.045511</td>\n",
       "      <td>0.500099</td>\n",
       "      <td>0.939849</td>\n",
       "      <td>0.962232</td>\n",
       "      <td>0.985518</td>\n",
       "      <td>0.998449</td>\n",
       "    </tr>\n",
       "  </tbody>\n",
       "</table>\n",
       "</div>"
      ],
      "text/plain": [
       "        count      mean       std       min       25%       50%       75%   \n",
       "False  8550.0  0.079308  0.057681  0.004090  0.040570  0.064625  0.104114  \\\n",
       "True   7186.0  0.953842  0.045511  0.500099  0.939849  0.962232  0.985518   \n",
       "\n",
       "            max  \n",
       "False  0.496678  \n",
       "True   0.998449  "
      ]
     },
     "execution_count": 98,
     "metadata": {},
     "output_type": "execute_result"
    }
   ],
   "source": [
    "# Adding matching features + user info + item info\n",
    "eval_fm_extended.groupby(predicted_label)['predicted_proba'].describe()"
   ]
  },
  {
   "cell_type": "code",
   "execution_count": 99,
   "id": "5ea3c36d",
   "metadata": {},
   "outputs": [
    {
     "data": {
      "text/html": [
       "<div>\n",
       "<style scoped>\n",
       "    .dataframe tbody tr th:only-of-type {\n",
       "        vertical-align: middle;\n",
       "    }\n",
       "\n",
       "    .dataframe tbody tr th {\n",
       "        vertical-align: top;\n",
       "    }\n",
       "\n",
       "    .dataframe thead th {\n",
       "        text-align: right;\n",
       "    }\n",
       "</style>\n",
       "<table border=\"1\" class=\"dataframe\">\n",
       "  <thead>\n",
       "    <tr style=\"text-align: right;\">\n",
       "      <th></th>\n",
       "      <th>UserID</th>\n",
       "      <th>JobID</th>\n",
       "      <th>label</th>\n",
       "      <th>City</th>\n",
       "      <th>State</th>\n",
       "      <th>Country</th>\n",
       "      <th>predicted_proba</th>\n",
       "      <th>predicted_label</th>\n",
       "    </tr>\n",
       "  </thead>\n",
       "  <tbody>\n",
       "    <tr>\n",
       "      <th>10</th>\n",
       "      <td>13</td>\n",
       "      <td>821691</td>\n",
       "      <td>1</td>\n",
       "      <td>0.0</td>\n",
       "      <td>1.0</td>\n",
       "      <td>1.0</td>\n",
       "      <td>0.671515</td>\n",
       "      <td>1</td>\n",
       "    </tr>\n",
       "    <tr>\n",
       "      <th>11</th>\n",
       "      <td>13</td>\n",
       "      <td>329572</td>\n",
       "      <td>0</td>\n",
       "      <td>0.0</td>\n",
       "      <td>0.0</td>\n",
       "      <td>1.0</td>\n",
       "      <td>0.588285</td>\n",
       "      <td>1</td>\n",
       "    </tr>\n",
       "    <tr>\n",
       "      <th>168</th>\n",
       "      <td>514</td>\n",
       "      <td>131166</td>\n",
       "      <td>1</td>\n",
       "      <td>0.0</td>\n",
       "      <td>0.0</td>\n",
       "      <td>1.0</td>\n",
       "      <td>0.702970</td>\n",
       "      <td>1</td>\n",
       "    </tr>\n",
       "    <tr>\n",
       "      <th>169</th>\n",
       "      <td>514</td>\n",
       "      <td>620304</td>\n",
       "      <td>0</td>\n",
       "      <td>0.0</td>\n",
       "      <td>0.0</td>\n",
       "      <td>1.0</td>\n",
       "      <td>0.462288</td>\n",
       "      <td>0</td>\n",
       "    </tr>\n",
       "    <tr>\n",
       "      <th>208</th>\n",
       "      <td>681</td>\n",
       "      <td>654542</td>\n",
       "      <td>1</td>\n",
       "      <td>0.0</td>\n",
       "      <td>1.0</td>\n",
       "      <td>1.0</td>\n",
       "      <td>0.604446</td>\n",
       "      <td>1</td>\n",
       "    </tr>\n",
       "  </tbody>\n",
       "</table>\n",
       "</div>"
      ],
      "text/plain": [
       "     UserID   JobID  label  City  State  Country  predicted_proba   \n",
       "10       13  821691      1   0.0    1.0      1.0         0.671515  \\\n",
       "11       13  329572      0   0.0    0.0      1.0         0.588285   \n",
       "168     514  131166      1   0.0    0.0      1.0         0.702970   \n",
       "169     514  620304      0   0.0    0.0      1.0         0.462288   \n",
       "208     681  654542      1   0.0    1.0      1.0         0.604446   \n",
       "\n",
       "     predicted_label  \n",
       "10                 1  \n",
       "11                 1  \n",
       "168                1  \n",
       "169                0  \n",
       "208                1  "
      ]
     },
     "execution_count": 99,
     "metadata": {},
     "output_type": "execute_result"
    }
   ],
   "source": [
    "eval_fm.head()"
   ]
  },
  {
   "cell_type": "code",
   "execution_count": 100,
   "id": "2915e158",
   "metadata": {},
   "outputs": [],
   "source": [
    "# DONE\n",
    "eval_fm.to_csv('./output_myfm/eval_fm.csv', header=True, index=False)\n",
    "eval_fm_match.to_csv('./output_myfm/eval_fm_match.csv', header=True, index=False)\n",
    "eval_fm_side_info.to_csv('./output_myfm/eval_fm_side_info.csv', header=True, index=False)\n",
    "eval_fm_extended.to_csv('./output_myfm/eval_fm_extended.csv', header=True, index=False)"
   ]
  },
  {
   "cell_type": "code",
   "execution_count": null,
   "id": "399f2085-ba14-46e7-8ec3-821bb059cca1",
   "metadata": {},
   "outputs": [],
   "source": []
  }
 ],
 "metadata": {
  "kernelspec": {
   "display_name": "Python",
   "language": "python",
   "name": "python3"
  },
  "language_info": {
   "codemirror_mode": {
    "name": "ipython",
    "version": 3
   },
   "file_extension": ".py",
   "mimetype": "text/x-python",
   "name": "python",
   "nbconvert_exporter": "python",
   "pygments_lexer": "ipython3",
   "version": "3.8.10"
  }
 },
 "nbformat": 4,
 "nbformat_minor": 5
}
