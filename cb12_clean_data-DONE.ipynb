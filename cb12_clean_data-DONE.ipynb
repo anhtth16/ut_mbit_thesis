{
 "cells": [
  {
   "cell_type": "markdown",
   "id": "c1aba96f",
   "metadata": {},
   "source": [
    "# Clean data: users, jobs, user_history, apps\n",
    "by: Sam\n",
    "\n",
    "- Input: jobs.tsv, users.tsv, user_history.tsv, apps.tsv\n",
    "- No duplication in data\n",
    "- Output:\n",
    "    - JOBS: - jobs_clean.csv: only clean HTML tags\n",
    "            - jobset_clean.csv: clean HTML tags + drop null values in Tile, Description, Requirement\n",
    "    - USERS: users_clean.csv: drop null value in \"Major\", \"TotalYearsExperience\", \"CurrentlyEmployed\"\n",
    "    - USER_HISTORY: work_history.csv: Filter only for user_id in the users list, drop null value in \"Job Title\".\n",
    "    - APPS: - warm_exp_users.csv: users with user_id in work_history & in application data\n",
    "            - warm_exp_apps.csv: filter applicaton only for warm_exp_user\n",
    "    "
   ]
  },
  {
   "cell_type": "code",
   "execution_count": 1,
   "id": "0a94431e",
   "metadata": {},
   "outputs": [],
   "source": [
    "import pandas as pd\n",
    "import numpy as np"
   ]
  },
  {
   "cell_type": "code",
   "execution_count": 2,
   "id": "3c2f54da",
   "metadata": {},
   "outputs": [
    {
     "name": "stdout",
     "output_type": "stream",
     "text": [
      "Working directory: /Users/anhtth/Library/CloudStorage/OneDrive-UniversityofTwente/2023 UT- THESIS/1-Code/0.cb12_main\n"
     ]
    }
   ],
   "source": [
    "import os\n",
    "cwd = os.getcwd()\n",
    "print(\"Working directory:\", cwd)"
   ]
  },
  {
   "cell_type": "code",
   "execution_count": 3,
   "id": "50045b34",
   "metadata": {},
   "outputs": [],
   "source": [
    "path = './data_raw/'"
   ]
  },
  {
   "cell_type": "markdown",
   "id": "17be5cc4",
   "metadata": {},
   "source": [
    "## Load raw data"
   ]
  },
  {
   "cell_type": "code",
   "execution_count": 4,
   "id": "307c1be2",
   "metadata": {},
   "outputs": [
    {
     "name": "stderr",
     "output_type": "stream",
     "text": [
      "/var/folders/rt/sq9c2fwj2wz441h13l9hcfrc0000gn/T/ipykernel_90621/512833297.py:1: FutureWarning: The error_bad_lines argument has been deprecated and will be removed in a future version. Use on_bad_lines in the future.\n",
      "\n",
      "\n",
      "  users = pd.read_csv(path+'users.tsv', sep='\\t',\n"
     ]
    }
   ],
   "source": [
    "users = pd.read_csv(path+'users.tsv', sep='\\t', \n",
    "                    error_bad_lines=False, \n",
    "                    #nrows=99999\n",
    "                   )"
   ]
  },
  {
   "cell_type": "code",
   "execution_count": 5,
   "id": "66d121f0",
   "metadata": {},
   "outputs": [
    {
     "name": "stderr",
     "output_type": "stream",
     "text": [
      "/var/folders/rt/sq9c2fwj2wz441h13l9hcfrc0000gn/T/ipykernel_90621/2900069451.py:1: FutureWarning: The error_bad_lines argument has been deprecated and will be removed in a future version. Use on_bad_lines in the future.\n",
      "\n",
      "\n",
      "  user_history = pd.read_csv(path+'user_history.tsv', sep='\\t',\n"
     ]
    }
   ],
   "source": [
    "user_history = pd.read_csv(path+'user_history.tsv', sep='\\t', \n",
    "                           error_bad_lines=False, \n",
    "                           #nrows=99999\n",
    "                          )"
   ]
  },
  {
   "cell_type": "code",
   "execution_count": 6,
   "id": "7d807184",
   "metadata": {},
   "outputs": [
    {
     "name": "stderr",
     "output_type": "stream",
     "text": [
      "/var/folders/rt/sq9c2fwj2wz441h13l9hcfrc0000gn/T/ipykernel_90621/2359911626.py:1: FutureWarning: The error_bad_lines argument has been deprecated and will be removed in a future version. Use on_bad_lines in the future.\n",
      "\n",
      "\n",
      "  jobs = pd.read_csv(path+'jobs.tsv', sep='\\t', error_bad_lines=False,\n",
      "b'Skipping line 122433: expected 11 fields, saw 12\\n'\n",
      "b'Skipping line 602576: expected 11 fields, saw 12\\n'\n",
      "b'Skipping line 990950: expected 11 fields, saw 12\\n'\n",
      "/var/folders/rt/sq9c2fwj2wz441h13l9hcfrc0000gn/T/ipykernel_90621/2359911626.py:1: DtypeWarning: Columns (8) have mixed types. Specify dtype option on import or set low_memory=False.\n",
      "  jobs = pd.read_csv(path+'jobs.tsv', sep='\\t', error_bad_lines=False,\n"
     ]
    }
   ],
   "source": [
    "jobs = pd.read_csv(path+'jobs.tsv', sep='\\t', error_bad_lines=False, \n",
    "                   #nrows=99999\n",
    "                  )"
   ]
  },
  {
   "cell_type": "code",
   "execution_count": 7,
   "id": "cc1e76bf",
   "metadata": {},
   "outputs": [
    {
     "name": "stderr",
     "output_type": "stream",
     "text": [
      "/var/folders/rt/sq9c2fwj2wz441h13l9hcfrc0000gn/T/ipykernel_90621/1816833552.py:1: FutureWarning: The error_bad_lines argument has been deprecated and will be removed in a future version. Use on_bad_lines in the future.\n",
      "\n",
      "\n",
      "  apps = pd.read_csv(path+'apps.tsv', sep='\\t', error_bad_lines=False)\n"
     ]
    }
   ],
   "source": [
    "apps = pd.read_csv(path+'apps.tsv', sep='\\t', error_bad_lines=False)"
   ]
  },
  {
   "cell_type": "markdown",
   "id": "4ece3337",
   "metadata": {},
   "source": [
    "### UDF - Cleaning HTML tags:\n",
    "\n",
    "3 user-defined functions based on different repositories\n",
    "- filter_tags(): Repo PJFNN\n",
    "- preprocessor(): Repo job-recommender: clean text are lower case and not contain punctuation\n",
    "- clean_html(): Repo Liac2022 => Similar to filter_tags. Clean text contain capital letters and punctuation\n",
    "\n",
    "Test the udf on description, title, and requirement for comparison\n",
    "Measure similarity between outputs"
   ]
  },
  {
   "cell_type": "code",
   "execution_count": 8,
   "id": "26d43940",
   "metadata": {},
   "outputs": [],
   "source": [
    "# Ref: Repo PJFNN\n",
    "\n",
    "import re\n",
    "\n",
    "def filter_tags(htmlstr):\n",
    "\n",
    "    re_cdata=re.compile('//<!\\[CDATA\\[[^>]*//\\]\\]>',re.I) \n",
    "    re_script=re.compile('<\\s*script[^>]*>[^<]*<\\s*/\\s*script\\s*>',re.I)#Script\n",
    "    re_style=re.compile('<\\s*style[^>]*>[^<]*<\\s*/\\s*style\\s*>',re.I)#style\n",
    "    re_br=re.compile('<br\\s*?/?>')\n",
    "    re_h=re.compile('</?\\w+[^>]*>')\n",
    "    re_comment=re.compile('<!--[^>]*-->')\n",
    "    s=re_cdata.sub('',htmlstr)\n",
    "    s=re_script.sub('',s) \n",
    "    s=re_style.sub('',s)\n",
    "    s=re_br.sub('\\n',s)\n",
    "    s=re_h.sub('',s) \n",
    "    s=re_comment.sub('',s)\n",
    "    blank_line=re.compile('\\n+')\n",
    "    s=blank_line.sub('\\n',s)\n",
    "    s=s.replace('\\\\r',\" \")\n",
    "    s=s.replace('\\\\t',\" \")\n",
    "    s=s.replace('\\n',\" \")\n",
    "    s=s.replace('\\\\n',\" \")\n",
    "    s = re.sub(r'(https|http)?:\\/\\/(\\w|\\.|\\/|\\?|\\=|\\&|\\%)*\\b', '', s, flags=re.MULTILINE)\n",
    "    s = re.sub(r'[\\w\\-_]+(\\.[\\w\\-_]+)+([\\w\\-\\.,@?^=%&amp;:/~\\+#]*[\\w\\-\\@?^=%&amp;/~\\+#])?', '', s, flags=re.MULTILINE)\n",
    "    s = re.sub(r'(www)?:\\/\\/(\\w|\\.|\\/|\\?|\\=|\\&|\\%)*\\b', '', s, flags=re.MULTILINE)\n",
    "    s = re.sub(r'[0-9a-zA-Z.]+@[0-9a-zA-Z.]', \" \", s, flags=re.MULTILINE)\n",
    "    s = re.sub('\\xa0', \" \", s, flags=re.MULTILINE)\n",
    "    s=replaceCharEntity(s)\n",
    "    return s\n",
    "\n",
    "\n",
    "def replaceCharEntity(htmlstr):\n",
    "    CHAR_ENTITIES={'nbsp':' ','160':' ',\n",
    "        'lt':'<','60':'<',\n",
    "        'gt':'>','62':'>',\n",
    "        'amp':'&','38':'&',\n",
    "        'quot':'\"','34':'\"',}\n",
    "   \n",
    "    re_charEntity=re.compile(r'&#?(?P<name>\\w+);')\n",
    "    sz=re_charEntity.search(htmlstr)\n",
    "    while sz:\n",
    "        entity=sz.group()\n",
    "        key=sz.group('name')\n",
    "        try:\n",
    "            htmlstr=re_charEntity.sub(CHAR_ENTITIES[key],htmlstr,1)\n",
    "            sz=re_charEntity.search(htmlstr)\n",
    "        except KeyError:\n",
    "            htmlstr=re_charEntity.sub('',htmlstr,1)\n",
    "            sz=re_charEntity.search(htmlstr)\n",
    "    return htmlstr\n",
    "def repalce(s,re_exp,repl_string):\n",
    "    return re_exp.sub(repl_string,s)"
   ]
  },
  {
   "cell_type": "code",
   "execution_count": 9,
   "id": "dc859fd5",
   "metadata": {
    "scrolled": true
   },
   "outputs": [
    {
     "name": "stdout",
     "output_type": "stream",
     "text": [
      "<class 'pandas.core.frame.DataFrame'>\n",
      "RangeIndex: 1091923 entries, 0 to 1091922\n",
      "Data columns (total 11 columns):\n",
      " #   Column        Non-Null Count    Dtype \n",
      "---  ------        --------------    ----- \n",
      " 0   JobID         1091923 non-null  int64 \n",
      " 1   WindowID      1091923 non-null  int64 \n",
      " 2   Title         1091916 non-null  object\n",
      " 3   Description   1091913 non-null  object\n",
      " 4   Requirements  1050521 non-null  object\n",
      " 5   City          1091921 non-null  object\n",
      " 6   State         1091922 non-null  object\n",
      " 7   Country       1091920 non-null  object\n",
      " 8   Zip5          685724 non-null   object\n",
      " 9   StartDate     1091923 non-null  object\n",
      " 10  EndDate       1091914 non-null  object\n",
      "dtypes: int64(2), object(9)\n",
      "memory usage: 91.6+ MB\n"
     ]
    }
   ],
   "source": [
    "jobs.info()"
   ]
  },
  {
   "cell_type": "code",
   "execution_count": 10,
   "id": "da12476f",
   "metadata": {},
   "outputs": [],
   "source": [
    "test_desc = jobs.Description[0]"
   ]
  },
  {
   "cell_type": "code",
   "execution_count": 11,
   "id": "1c7441f5",
   "metadata": {},
   "outputs": [
    {
     "data": {
      "text/plain": [
       "'<p>Security Clearance Required:&nbsp; Top Secret </p>\\\\r<p>Job Number: TMR-447</p>\\\\r<p>Location of Job:&nbsp; Washington, DC</p>\\\\r<p>TMR, Inc. is an Equal Employment Opportunity Company</p>\\\\r<p>For more job opportunities with TMR, visit our website <a href=\"http://www.tmrhq.com/\">www.tmrhq.com</a></p>\\\\r<p>Send Resumes to HR@tmrhq2.com</p>\\\\r<p>&nbsp;</p>\\\\r<p>JOB SUMMARY:</p>\\\\r<p>&nbsp;</p>\\\\r<p>Leads the customer&rsquo;s overall Cyber Security strategy, formalizes service offerings consisted with ITIL best practices, and provides design and architecture support.</p>\\\\r<p>&nbsp;</p>\\\\r<ul>\\\\r    <li>Provide security design / architecture support for OJP&rsquo;s IT Security Division (ITSD) </li>\\\\r    <li>Leads the SECOPS team in the day to day OJP Security Operations support&nbsp; </li>\\\\r    <li>Provides direction when needed in a security incident or technical issues </li>\\\\r    <li>Works in concert with network operations on design /integration for best security posture</li>\\\\r    <li>Supports business development functions including Capture Management, Proposal Development and responses, and other initiatives to include conferences, trade shows, webinars, developing white papers and the like.</li>\\\\r    <li>Identifies resources and mentors in-house talent to ensure TMR remains responsive to growing initiatives and contracts with qualified personnel.&nbsp;&nbsp; </li>\\\\r</ul>\\\\r<p>&nbsp;</p>\\\\r<p><a href=\"https://www.tmrhq.com/jobapplicationstep1.aspx\"><span></span></a>&nbsp;</p>'"
      ]
     },
     "execution_count": 11,
     "metadata": {},
     "output_type": "execute_result"
    }
   ],
   "source": [
    "test_desc"
   ]
  },
  {
   "cell_type": "code",
   "execution_count": 12,
   "id": "7f39dd71",
   "metadata": {},
   "outputs": [
    {
     "data": {
      "text/plain": [
       "'Security Clearance Required:  Top Secret  Job Number: TMR-447 Location of Job:  Washington, DC TMR, Inc. is an Equal Employment Opportunity Company For more job opportunities with TMR, visit our website  Send Resumes to HR@   JOB SUMMARY:   Leads the customers overall Cyber Security strategy, formalizes service offerings consisted with ITIL best practices, and provides design and architecture support.        Provide security design / architecture support for OJPs IT Security Division (ITSD)      Leads the SECOPS team in the day to day OJP Security Operations support       Provides direction when needed in a security incident or technical issues      Works in concert with network operations on design /integration for best security posture     Supports business development functions including Capture Management, Proposal Development and responses, and other initiatives to include conferences, trade shows, webinars, developing white papers and the like.     Identifies resources and mentors in-house talent to ensure TMR remains responsive to growing initiatives and contracts with qualified personnel.        '"
      ]
     },
     "execution_count": 12,
     "metadata": {},
     "output_type": "execute_result"
    }
   ],
   "source": [
    "filter_tags(test_desc)"
   ]
  },
  {
   "cell_type": "code",
   "execution_count": 13,
   "id": "8799ede2",
   "metadata": {},
   "outputs": [],
   "source": [
    "# Ref: job-recommender\n",
    "\n",
    "import re\n",
    "\n",
    "def preprocessor(text):\n",
    "    text = text.replace('\\\\r', '').replace('&nbsp', '').replace('\\n', '')\n",
    "    text = re.sub('<[^>]*>', '', text)\n",
    "    emoticons = re.findall('(?::|;|=)(?:-)?(?:\\)|\\(|D|P)', text)\n",
    "    text = re.sub('[\\W]+', ' ', text.lower()) +\\\n",
    "        ' '.join(emoticons).replace('-', '')\n",
    "    return text"
   ]
  },
  {
   "cell_type": "code",
   "execution_count": 14,
   "id": "9846cf7b",
   "metadata": {},
   "outputs": [
    {
     "data": {
      "text/plain": [
       "'security clearance required top secret job number tmr 447location of job washington dctmr inc is an equal employment opportunity companyfor more job opportunities with tmr visit our website www tmrhq comsend resumes to hr tmrhq2 com job summary leads the customer rsquo s overall cyber security strategy formalizes service offerings consisted with itil best practices and provides design and architecture support provide security design architecture support for ojp rsquo s it security division itsd leads the secops team in the day to day ojp security operations support provides direction when needed in a security incident or technical issues works in concert with network operations on design integration for best security posture supports business development functions including capture management proposal development and responses and other initiatives to include conferences trade shows webinars developing white papers and the like identifies resources and mentors in house talent to ensure tmr remains responsive to growing initiatives and contracts with qualified personnel '"
      ]
     },
     "execution_count": 14,
     "metadata": {},
     "output_type": "execute_result"
    }
   ],
   "source": [
    "preprocessor(test_desc)"
   ]
  },
  {
   "cell_type": "code",
   "execution_count": 15,
   "id": "a0a07fcc",
   "metadata": {},
   "outputs": [],
   "source": [
    "# REPO liac 2022\n",
    "import re\n",
    "def clean_html(x):\n",
    "    x = re.sub('<[^<]+?>', '', x)\n",
    "    x = re.sub('\\\\\\\\r', '', x)\n",
    "    x = re.sub('\\\\\\\\n', '', x)\n",
    "    x = re.sub('&nbsp;', ' ', x)\n",
    "    x = re.sub('[—]+', ' ', x)\n",
    "    x = re.sub('/', ' ', x)\n",
    "    return x\n"
   ]
  },
  {
   "cell_type": "code",
   "execution_count": 16,
   "id": "aa0f84b6",
   "metadata": {},
   "outputs": [
    {
     "data": {
      "text/plain": [
       "'Security Clearance Required:  Top Secret Job Number: TMR-447Location of Job:  Washington, DCTMR, Inc. is an Equal Employment Opportunity CompanyFor more job opportunities with TMR, visit our website www.tmrhq.comSend Resumes to HR@tmrhq2.com JOB SUMMARY: Leads the customer&rsquo;s overall Cyber Security strategy, formalizes service offerings consisted with ITIL best practices, and provides design and architecture support.     Provide security design   architecture support for OJP&rsquo;s IT Security Division (ITSD)     Leads the SECOPS team in the day to day OJP Security Operations support      Provides direction when needed in a security incident or technical issues     Works in concert with network operations on design  integration for best security posture    Supports business development functions including Capture Management, Proposal Development and responses, and other initiatives to include conferences, trade shows, webinars, developing white papers and the like.    Identifies resources and mentors in-house talent to ensure TMR remains responsive to growing initiatives and contracts with qualified personnel.     '"
      ]
     },
     "execution_count": 16,
     "metadata": {},
     "output_type": "execute_result"
    }
   ],
   "source": [
    "clean_html(test_desc)"
   ]
  },
  {
   "cell_type": "markdown",
   "id": "f8ab2842",
   "metadata": {},
   "source": [
    "- Test on Job Requirements"
   ]
  },
  {
   "cell_type": "code",
   "execution_count": 17,
   "id": "2b548a8c",
   "metadata": {},
   "outputs": [],
   "source": [
    "test_req = jobs.Requirements[0]"
   ]
  },
  {
   "cell_type": "code",
   "execution_count": 18,
   "id": "4dd23fc4",
   "metadata": {},
   "outputs": [
    {
     "data": {
      "text/plain": [
       "'<p>SKILL SET</p>\\\\r<p>&nbsp;</p>\\\\r<p>Network Security tools:</p>\\\\r<p>&nbsp;</p>\\\\r<p>Webdefend Web Application Firewall (WAF), Cisco Routers, Fortigate 3800 Firewall series, Palo Alto 4000 firewall series, Cisco ASA 5xx Firewall Platform, Cisco&nbsp; FWSM,&nbsp; SourceFire Defense Center, SourceFire IP Sensor Platform, BlueCoat SG Appliance, F5 BigIP(reverse proxy).</p>\\\\r<p>&nbsp;&nbsp;&nbsp;&nbsp;&nbsp;&nbsp;&nbsp;&nbsp;&nbsp;&nbsp;&nbsp; </p>\\\\r<p>Web Application tools:&nbsp; </p>\\\\r<p>&nbsp;</p>\\\\r<p>AppDective, Fortify SCA, HP WebInspect, and the like.</p>\\\\r<p>&nbsp;</p>\\\\r<p>Network Vulnerability tools:&nbsp; </p>\\\\r<p>&nbsp;</p>\\\\r<p>Tenable Security Center, McAfee Foundstone scanner, Cain and Able, L0phtcrack - Password Cracker, Nessus Vulnerability Scanner, NMAP &ndash; Port Scanner, and other scanning and vulnerability mapping tools.&nbsp; </p>\\\\r<p>&nbsp;</p>\\\\r<p>&nbsp;</p>\\\\r<p>DESIRABLE SKILLS:</p>\\\\r<p>&nbsp;</p>\\\\r<p>CISSP and/or related Certifications</p>\\\\r<p>&nbsp;</p>\\\\r<p>EDUCATION AND YEARS OF EXPERIENCE:</p>\\\\r<p>&nbsp;</p>\\\\r<p>BS Computer Science or related discipline; minimum of 8 years in IT Security; minimum 4 years in Senior/Lead position</p>\\\\r<p>&nbsp;</p>\\\\r<p><a href=\"https://www.tmrhq.com/jobapplicationstep1.aspx\"><span>APPLY HERE</span></a></p>'"
      ]
     },
     "execution_count": 18,
     "metadata": {},
     "output_type": "execute_result"
    }
   ],
   "source": [
    "test_req"
   ]
  },
  {
   "cell_type": "code",
   "execution_count": 19,
   "id": "ec3cc1ed",
   "metadata": {},
   "outputs": [
    {
     "data": {
      "text/plain": [
       "'SKILL SET   Network Security tools:   Webdefend Web Application Firewall (WAF), Cisco Routers, Fortigate 3800 Firewall series, Palo Alto 4000 firewall series, Cisco ASA 5xx Firewall Platform, Cisco  FWSM,  SourceFire Defense Center, SourceFire IP Sensor Platform, BlueCoat SG Appliance, F5 BigIP(reverse proxy).              Web Application tools:     AppDective, Fortify SCA, HP WebInspect, and the like.   Network Vulnerability tools:     Tenable Security Center, McAfee Foundstone scanner, Cain and Able, L0phtcrack - Password Cracker, Nessus Vulnerability Scanner, NMAP  Port Scanner, and other scanning and vulnerability mapping tools.       DESIRABLE SKILLS:   CISSP and/or related Certifications   EDUCATION AND YEARS OF EXPERIENCE:   BS Computer Science or related discipline; minimum of 8 years in IT Security; minimum 4 years in Senior/Lead position   APPLY HERE'"
      ]
     },
     "execution_count": 19,
     "metadata": {},
     "output_type": "execute_result"
    }
   ],
   "source": [
    "# Repo 1: filter_tags()\n",
    "filter_tags(test_req)"
   ]
  },
  {
   "cell_type": "code",
   "execution_count": 20,
   "id": "58e76ac5",
   "metadata": {},
   "outputs": [
    {
     "data": {
      "text/plain": [
       "'skill set network security tools webdefend web application firewall waf cisco routers fortigate 3800 firewall series palo alto 4000 firewall series cisco asa 5xx firewall platform cisco fwsm sourcefire defense center sourcefire ip sensor platform bluecoat sg appliance f5 bigip reverse proxy web application tools appdective fortify sca hp webinspect and the like network vulnerability tools tenable security center mcafee foundstone scanner cain and able l0phtcrack password cracker nessus vulnerability scanner nmap ndash port scanner and other scanning and vulnerability mapping tools desirable skills cissp and or related certifications education and years of experience bs computer science or related discipline minimum of 8 years in it security minimum 4 years in senior lead position apply here;D'"
      ]
     },
     "execution_count": 20,
     "metadata": {},
     "output_type": "execute_result"
    }
   ],
   "source": [
    "# Repo 2: preprocessor()\n",
    "preprocessor(test_req)"
   ]
  },
  {
   "cell_type": "code",
   "execution_count": 21,
   "id": "cc1500ec",
   "metadata": {},
   "outputs": [
    {
     "data": {
      "text/plain": [
       "'SKILL SET Network Security tools: Webdefend Web Application Firewall (WAF), Cisco Routers, Fortigate 3800 Firewall series, Palo Alto 4000 firewall series, Cisco ASA 5xx Firewall Platform, Cisco  FWSM,  SourceFire Defense Center, SourceFire IP Sensor Platform, BlueCoat SG Appliance, F5 BigIP(reverse proxy).            Web Application tools:   AppDective, Fortify SCA, HP WebInspect, and the like. Network Vulnerability tools:   Tenable Security Center, McAfee Foundstone scanner, Cain and Able, L0phtcrack - Password Cracker, Nessus Vulnerability Scanner, NMAP &ndash; Port Scanner, and other scanning and vulnerability mapping tools.    DESIRABLE SKILLS: CISSP and or related Certifications EDUCATION AND YEARS OF EXPERIENCE: BS Computer Science or related discipline; minimum of 8 years in IT Security; minimum 4 years in Senior Lead position APPLY HERE'"
      ]
     },
     "execution_count": 21,
     "metadata": {},
     "output_type": "execute_result"
    }
   ],
   "source": [
    "# Repo 3: clean_html()\n",
    "clean_html(test_req)"
   ]
  },
  {
   "cell_type": "markdown",
   "id": "542be12f",
   "metadata": {},
   "source": [
    "- Test on Job Title"
   ]
  },
  {
   "cell_type": "code",
   "execution_count": 22,
   "id": "3d5bf6b9",
   "metadata": {},
   "outputs": [],
   "source": [
    "test_tit = jobs.Title[0]"
   ]
  },
  {
   "cell_type": "code",
   "execution_count": 23,
   "id": "b3cd66cc",
   "metadata": {},
   "outputs": [
    {
     "data": {
      "text/plain": [
       "'Security Engineer/Technical Lead'"
      ]
     },
     "execution_count": 23,
     "metadata": {},
     "output_type": "execute_result"
    }
   ],
   "source": [
    "# Repo 1: filter_tags()\n",
    "filter_tags(test_tit)"
   ]
  },
  {
   "cell_type": "code",
   "execution_count": 24,
   "id": "ebe47d09",
   "metadata": {},
   "outputs": [
    {
     "data": {
      "text/plain": [
       "'security engineer technical lead'"
      ]
     },
     "execution_count": 24,
     "metadata": {},
     "output_type": "execute_result"
    }
   ],
   "source": [
    "# Repo 2: preprocessor()\n",
    "preprocessor(test_tit)"
   ]
  },
  {
   "cell_type": "code",
   "execution_count": 25,
   "id": "a23d5780",
   "metadata": {},
   "outputs": [
    {
     "data": {
      "text/plain": [
       "'Security Engineer Technical Lead'"
      ]
     },
     "execution_count": 25,
     "metadata": {},
     "output_type": "execute_result"
    }
   ],
   "source": [
    "# Repo 3: clean_html()\n",
    "clean_html(test_tit)"
   ]
  },
  {
   "cell_type": "code",
   "execution_count": 26,
   "id": "c8536a6c",
   "metadata": {},
   "outputs": [],
   "source": [
    "test_user_hist = user_history.JobTitle[22]"
   ]
  },
  {
   "cell_type": "code",
   "execution_count": 27,
   "id": "f3c931a5",
   "metadata": {},
   "outputs": [
    {
     "data": {
      "text/plain": [
       "'Student Assistant'"
      ]
     },
     "execution_count": 27,
     "metadata": {},
     "output_type": "execute_result"
    }
   ],
   "source": [
    "user_history.JobTitle[25]"
   ]
  },
  {
   "cell_type": "code",
   "execution_count": 28,
   "id": "acfc436a",
   "metadata": {},
   "outputs": [
    {
     "data": {
      "text/plain": [
       "'Data Analyst'"
      ]
     },
     "execution_count": 28,
     "metadata": {},
     "output_type": "execute_result"
    }
   ],
   "source": [
    "test_user_hist"
   ]
  },
  {
   "cell_type": "code",
   "execution_count": 29,
   "id": "9eeebe91",
   "metadata": {},
   "outputs": [],
   "source": [
    "import gensim\n",
    "import spacy\n",
    "#nlp = spacy.load('en_core_web_lg')\n",
    "import en_core_web_sm\n",
    "nlp = en_core_web_sm.load()"
   ]
  },
  {
   "cell_type": "code",
   "execution_count": 30,
   "id": "bc503db4",
   "metadata": {},
   "outputs": [
    {
     "name": "stderr",
     "output_type": "stream",
     "text": [
      "/var/folders/rt/sq9c2fwj2wz441h13l9hcfrc0000gn/T/ipykernel_90621/84402056.py:3: UserWarning: [W007] The model you're using has no word vectors loaded, so the result of the Doc.similarity method will be based on the tagger, parser and NER, which may not give useful similarity judgements. This may happen if you're using one of the small models, e.g. `en_core_web_sm`, which don't ship with word vectors and only use context-sensitive tensors. You can always add your own word vectors, or use one of the larger models instead if available.\n",
      "  nlp(clean_html(test_tit)).similarity(nlp(user_history.JobTitle[25]))\n"
     ]
    },
    {
     "data": {
      "text/plain": [
       "0.7542843077825117"
      ]
     },
     "execution_count": 30,
     "metadata": {},
     "output_type": "execute_result"
    }
   ],
   "source": [
    "# test_title after cleaning tags: Security Engineer Technical Lead\n",
    "# test title by user history: 'Student Assistant'\n",
    "nlp(clean_html(test_tit)).similarity(nlp(user_history.JobTitle[25]))"
   ]
  },
  {
   "cell_type": "code",
   "execution_count": 31,
   "id": "4166cb2b",
   "metadata": {},
   "outputs": [
    {
     "name": "stderr",
     "output_type": "stream",
     "text": [
      "/var/folders/rt/sq9c2fwj2wz441h13l9hcfrc0000gn/T/ipykernel_90621/1774482677.py:3: UserWarning: [W007] The model you're using has no word vectors loaded, so the result of the Doc.similarity method will be based on the tagger, parser and NER, which may not give useful similarity judgements. This may happen if you're using one of the small models, e.g. `en_core_web_sm`, which don't ship with word vectors and only use context-sensitive tensors. You can always add your own word vectors, or use one of the larger models instead if available.\n",
      "  nlp(clean_html(test_tit)).similarity(nlp(test_user_hist))\n"
     ]
    },
    {
     "data": {
      "text/plain": [
       "0.8205649080366024"
      ]
     },
     "execution_count": 31,
     "metadata": {},
     "output_type": "execute_result"
    }
   ],
   "source": [
    "# test_title after cleaning tags: Security Engineer Technical Lead\n",
    "# test title by user history: 'Data Analyst'\n",
    "nlp(clean_html(test_tit)).similarity(nlp(test_user_hist))"
   ]
  },
  {
   "cell_type": "code",
   "execution_count": 32,
   "id": "bee2fa8f",
   "metadata": {
    "scrolled": true
   },
   "outputs": [
    {
     "name": "stderr",
     "output_type": "stream",
     "text": [
      "/var/folders/rt/sq9c2fwj2wz441h13l9hcfrc0000gn/T/ipykernel_90621/3030846139.py:3: UserWarning: [W007] The model you're using has no word vectors loaded, so the result of the Doc.similarity method will be based on the tagger, parser and NER, which may not give useful similarity judgements. This may happen if you're using one of the small models, e.g. `en_core_web_sm`, which don't ship with word vectors and only use context-sensitive tensors. You can always add your own word vectors, or use one of the larger models instead if available.\n",
      "  nlp(preprocessor(test_tit)).similarity(nlp(test_user_hist))\n"
     ]
    },
    {
     "data": {
      "text/plain": [
       "0.6266870048515475"
      ]
     },
     "execution_count": 32,
     "metadata": {},
     "output_type": "execute_result"
    }
   ],
   "source": [
    "# test_title after cleaning tags: 'security engineer technical lead'\n",
    "# test title by user history: 'Data Analyst'\n",
    "nlp(preprocessor(test_tit)).similarity(nlp(test_user_hist))"
   ]
  },
  {
   "cell_type": "code",
   "execution_count": 33,
   "id": "ed147acf",
   "metadata": {},
   "outputs": [
    {
     "data": {
      "text/plain": [
       "'data analyst'"
      ]
     },
     "execution_count": 33,
     "metadata": {},
     "output_type": "execute_result"
    }
   ],
   "source": [
    "test_user_hist.lower()"
   ]
  },
  {
   "cell_type": "code",
   "execution_count": 34,
   "id": "2d2b3ba9",
   "metadata": {},
   "outputs": [
    {
     "name": "stderr",
     "output_type": "stream",
     "text": [
      "/var/folders/rt/sq9c2fwj2wz441h13l9hcfrc0000gn/T/ipykernel_90621/1135489744.py:3: UserWarning: [W007] The model you're using has no word vectors loaded, so the result of the Doc.similarity method will be based on the tagger, parser and NER, which may not give useful similarity judgements. This may happen if you're using one of the small models, e.g. `en_core_web_sm`, which don't ship with word vectors and only use context-sensitive tensors. You can always add your own word vectors, or use one of the larger models instead if available.\n",
      "  nlp(preprocessor(test_tit)).similarity(nlp(test_user_hist.lower()))\n"
     ]
    },
    {
     "data": {
      "text/plain": [
       "0.7333151176871748"
      ]
     },
     "execution_count": 34,
     "metadata": {},
     "output_type": "execute_result"
    }
   ],
   "source": [
    "# test_title after cleaning tags: 'security engineer technical lead'\n",
    "# test title by user history: 'data analyst'\n",
    "nlp(preprocessor(test_tit)).similarity(nlp(test_user_hist.lower()))"
   ]
  },
  {
   "cell_type": "markdown",
   "id": "129de177",
   "metadata": {},
   "source": [
    "## Clean jobs\n",
    "\n",
    "Output: \n",
    "- jobs_clean.csv\n",
    "- jobset_clean.csv"
   ]
  },
  {
   "cell_type": "markdown",
   "id": "318a7b7a",
   "metadata": {},
   "source": [
    "### Check null data in jobs"
   ]
  },
  {
   "cell_type": "code",
   "execution_count": 35,
   "id": "64b5585d",
   "metadata": {},
   "outputs": [
    {
     "data": {
      "text/plain": [
       "True"
      ]
     },
     "execution_count": 35,
     "metadata": {},
     "output_type": "execute_result"
    }
   ],
   "source": [
    "jobs.isnull().values.any()"
   ]
  },
  {
   "cell_type": "code",
   "execution_count": 36,
   "id": "96cdb2c8",
   "metadata": {},
   "outputs": [
    {
     "data": {
      "text/plain": [
       "7"
      ]
     },
     "execution_count": 36,
     "metadata": {},
     "output_type": "execute_result"
    }
   ],
   "source": [
    "jobs['Title'].isnull().values.sum()"
   ]
  },
  {
   "cell_type": "code",
   "execution_count": 37,
   "id": "ddd546ea",
   "metadata": {},
   "outputs": [
    {
     "data": {
      "text/plain": [
       "10"
      ]
     },
     "execution_count": 37,
     "metadata": {},
     "output_type": "execute_result"
    }
   ],
   "source": [
    "jobs['Description'].isnull().values.sum()"
   ]
  },
  {
   "cell_type": "code",
   "execution_count": 38,
   "id": "975cc2e4",
   "metadata": {},
   "outputs": [
    {
     "data": {
      "text/plain": [
       "41402"
      ]
     },
     "execution_count": 38,
     "metadata": {},
     "output_type": "execute_result"
    }
   ],
   "source": [
    "jobs['Requirements'].isnull().values.sum()"
   ]
  },
  {
   "cell_type": "code",
   "execution_count": 39,
   "id": "e989d2e3",
   "metadata": {},
   "outputs": [
    {
     "data": {
      "text/html": [
       "<div>\n",
       "<style scoped>\n",
       "    .dataframe tbody tr th:only-of-type {\n",
       "        vertical-align: middle;\n",
       "    }\n",
       "\n",
       "    .dataframe tbody tr th {\n",
       "        vertical-align: top;\n",
       "    }\n",
       "\n",
       "    .dataframe thead th {\n",
       "        text-align: right;\n",
       "    }\n",
       "</style>\n",
       "<table border=\"1\" class=\"dataframe\">\n",
       "  <thead>\n",
       "    <tr style=\"text-align: right;\">\n",
       "      <th></th>\n",
       "      <th>JobID</th>\n",
       "      <th>WindowID</th>\n",
       "      <th>Title</th>\n",
       "      <th>Description</th>\n",
       "      <th>Requirements</th>\n",
       "      <th>City</th>\n",
       "      <th>State</th>\n",
       "      <th>Country</th>\n",
       "      <th>Zip5</th>\n",
       "      <th>StartDate</th>\n",
       "      <th>EndDate</th>\n",
       "    </tr>\n",
       "  </thead>\n",
       "  <tbody>\n",
       "    <tr>\n",
       "      <th>753</th>\n",
       "      <td>2777</td>\n",
       "      <td>1</td>\n",
       "      <td>Information Assurance Officer</td>\n",
       "      <td>Knowledge, Skills &amp; Abilities\\r\\n\\r\\nCommunica...</td>\n",
       "      <td>NaN</td>\n",
       "      <td>Arlington</td>\n",
       "      <td>VA</td>\n",
       "      <td>US</td>\n",
       "      <td>22202</td>\n",
       "      <td>2012-03-14 16:17:36.483</td>\n",
       "      <td>2012-04-13 23:59:59</td>\n",
       "    </tr>\n",
       "    <tr>\n",
       "      <th>754</th>\n",
       "      <td>2778</td>\n",
       "      <td>1</td>\n",
       "      <td>IT Comsec / Network Engineer Sr Staff</td>\n",
       "      <td>The selected individual will provide day-to-da...</td>\n",
       "      <td>NaN</td>\n",
       "      <td>San Antonio</td>\n",
       "      <td>TX</td>\n",
       "      <td>US</td>\n",
       "      <td>78216</td>\n",
       "      <td>2012-03-14 16:17:39.223</td>\n",
       "      <td>2012-04-13 23:59:59</td>\n",
       "    </tr>\n",
       "    <tr>\n",
       "      <th>769</th>\n",
       "      <td>2847</td>\n",
       "      <td>1</td>\n",
       "      <td>Senior Project Engineer</td>\n",
       "      <td>The project engineer has single-point accounta...</td>\n",
       "      <td>NaN</td>\n",
       "      <td>Gainesville</td>\n",
       "      <td>VA</td>\n",
       "      <td>US</td>\n",
       "      <td>20155</td>\n",
       "      <td>2012-03-21 20:45:56.607</td>\n",
       "      <td>2012-04-20 23:59:59</td>\n",
       "    </tr>\n",
       "    <tr>\n",
       "      <th>1299</th>\n",
       "      <td>5354</td>\n",
       "      <td>1</td>\n",
       "      <td>Manager, eBP Loss Prevention</td>\n",
       "      <td>&lt;p&gt;&lt;strong&gt;Manager, Loss Prevention - eBay Buy...</td>\n",
       "      <td>NaN</td>\n",
       "      <td>San Jose</td>\n",
       "      <td>CA</td>\n",
       "      <td>US</td>\n",
       "      <td>95125</td>\n",
       "      <td>2012-03-07 12:41:47.16</td>\n",
       "      <td>2012-04-06 23:59:59</td>\n",
       "    </tr>\n",
       "    <tr>\n",
       "      <th>1302</th>\n",
       "      <td>5357</td>\n",
       "      <td>1</td>\n",
       "      <td>Information Security Architect</td>\n",
       "      <td>&lt;p&gt;X.commerce is a startup within eBay, Inc. a...</td>\n",
       "      <td>NaN</td>\n",
       "      <td>Austin</td>\n",
       "      <td>TX</td>\n",
       "      <td>US</td>\n",
       "      <td>78750</td>\n",
       "      <td>2012-03-08 15:01:17.27</td>\n",
       "      <td>2012-04-07 23:59:59</td>\n",
       "    </tr>\n",
       "    <tr>\n",
       "      <th>...</th>\n",
       "      <td>...</td>\n",
       "      <td>...</td>\n",
       "      <td>...</td>\n",
       "      <td>...</td>\n",
       "      <td>...</td>\n",
       "      <td>...</td>\n",
       "      <td>...</td>\n",
       "      <td>...</td>\n",
       "      <td>...</td>\n",
       "      <td>...</td>\n",
       "      <td>...</td>\n",
       "    </tr>\n",
       "    <tr>\n",
       "      <th>1069382</th>\n",
       "      <td>896350</td>\n",
       "      <td>7</td>\n",
       "      <td>ASSISTANT  ENTRY LEVEL</td>\n",
       "      <td>&lt;div style=\"text-align: center\"&gt;&lt;strong&gt;CUSTOM...</td>\n",
       "      <td>NaN</td>\n",
       "      <td>Palmyra</td>\n",
       "      <td>NJ</td>\n",
       "      <td>US</td>\n",
       "      <td>08065</td>\n",
       "      <td>2012-06-25 18:23:56.77</td>\n",
       "      <td>2012-07-24 23:59:59</td>\n",
       "    </tr>\n",
       "    <tr>\n",
       "      <th>1075449</th>\n",
       "      <td>953790</td>\n",
       "      <td>7</td>\n",
       "      <td>Restaurant manager</td>\n",
       "      <td>The manager is responsible for leading departm...</td>\n",
       "      <td>NaN</td>\n",
       "      <td>Chillicothe</td>\n",
       "      <td>OH</td>\n",
       "      <td>US</td>\n",
       "      <td>NaN</td>\n",
       "      <td>2012-05-25 18:37:23.457</td>\n",
       "      <td>2012-06-24 23:59:00</td>\n",
       "    </tr>\n",
       "    <tr>\n",
       "      <th>1075450</th>\n",
       "      <td>953792</td>\n",
       "      <td>7</td>\n",
       "      <td>Restaurant Manager</td>\n",
       "      <td>The manager is responsible for leading departm...</td>\n",
       "      <td>NaN</td>\n",
       "      <td>Houston</td>\n",
       "      <td>TX</td>\n",
       "      <td>US</td>\n",
       "      <td>NaN</td>\n",
       "      <td>2012-05-27 12:00:12.5</td>\n",
       "      <td>2012-06-26 23:59:00</td>\n",
       "    </tr>\n",
       "    <tr>\n",
       "      <th>1081290</th>\n",
       "      <td>1010874</td>\n",
       "      <td>7</td>\n",
       "      <td>Business Unit Manager-Paint</td>\n",
       "      <td>&lt;div&gt;&lt;strong&gt;Business Unit Manager-Paint &lt;/str...</td>\n",
       "      <td>NaN</td>\n",
       "      <td>Macungie</td>\n",
       "      <td>PA</td>\n",
       "      <td>US</td>\n",
       "      <td>18062</td>\n",
       "      <td>2012-06-29 14:36:29.927</td>\n",
       "      <td>2012-07-28 23:59:59</td>\n",
       "    </tr>\n",
       "    <tr>\n",
       "      <th>1081291</th>\n",
       "      <td>1010877</td>\n",
       "      <td>7</td>\n",
       "      <td>Foreign Sales Manager</td>\n",
       "      <td>&lt;div&gt;&lt;div&gt;&lt;div&gt;Drive and execute on unit sales...</td>\n",
       "      <td>NaN</td>\n",
       "      <td>Allentown</td>\n",
       "      <td>PA</td>\n",
       "      <td>US</td>\n",
       "      <td>18103</td>\n",
       "      <td>2012-06-19 14:21:12.803</td>\n",
       "      <td>2012-07-18 23:59:59</td>\n",
       "    </tr>\n",
       "  </tbody>\n",
       "</table>\n",
       "<p>41402 rows × 11 columns</p>\n",
       "</div>"
      ],
      "text/plain": [
       "           JobID  WindowID                                  Title  \\\n",
       "753         2777         1          Information Assurance Officer   \n",
       "754         2778         1  IT Comsec / Network Engineer Sr Staff   \n",
       "769         2847         1                Senior Project Engineer   \n",
       "1299        5354         1           Manager, eBP Loss Prevention   \n",
       "1302        5357         1         Information Security Architect   \n",
       "...          ...       ...                                    ...   \n",
       "1069382   896350         7                 ASSISTANT  ENTRY LEVEL   \n",
       "1075449   953790         7                     Restaurant manager   \n",
       "1075450   953792         7                     Restaurant Manager   \n",
       "1081290  1010874         7            Business Unit Manager-Paint   \n",
       "1081291  1010877         7                  Foreign Sales Manager   \n",
       "\n",
       "                                               Description Requirements  \\\n",
       "753      Knowledge, Skills & Abilities\\r\\n\\r\\nCommunica...          NaN   \n",
       "754      The selected individual will provide day-to-da...          NaN   \n",
       "769      The project engineer has single-point accounta...          NaN   \n",
       "1299     <p><strong>Manager, Loss Prevention - eBay Buy...          NaN   \n",
       "1302     <p>X.commerce is a startup within eBay, Inc. a...          NaN   \n",
       "...                                                    ...          ...   \n",
       "1069382  <div style=\"text-align: center\"><strong>CUSTOM...          NaN   \n",
       "1075449  The manager is responsible for leading departm...          NaN   \n",
       "1075450  The manager is responsible for leading departm...          NaN   \n",
       "1081290  <div><strong>Business Unit Manager-Paint </str...          NaN   \n",
       "1081291  <div><div><div>Drive and execute on unit sales...          NaN   \n",
       "\n",
       "                City State Country   Zip5                StartDate  \\\n",
       "753        Arlington    VA      US  22202  2012-03-14 16:17:36.483   \n",
       "754      San Antonio    TX      US  78216  2012-03-14 16:17:39.223   \n",
       "769      Gainesville    VA      US  20155  2012-03-21 20:45:56.607   \n",
       "1299        San Jose    CA      US  95125   2012-03-07 12:41:47.16   \n",
       "1302          Austin    TX      US  78750   2012-03-08 15:01:17.27   \n",
       "...              ...   ...     ...    ...                      ...   \n",
       "1069382      Palmyra    NJ      US  08065   2012-06-25 18:23:56.77   \n",
       "1075449  Chillicothe    OH      US    NaN  2012-05-25 18:37:23.457   \n",
       "1075450      Houston    TX      US    NaN    2012-05-27 12:00:12.5   \n",
       "1081290     Macungie    PA      US  18062  2012-06-29 14:36:29.927   \n",
       "1081291    Allentown    PA      US  18103  2012-06-19 14:21:12.803   \n",
       "\n",
       "                     EndDate  \n",
       "753      2012-04-13 23:59:59  \n",
       "754      2012-04-13 23:59:59  \n",
       "769      2012-04-20 23:59:59  \n",
       "1299     2012-04-06 23:59:59  \n",
       "1302     2012-04-07 23:59:59  \n",
       "...                      ...  \n",
       "1069382  2012-07-24 23:59:59  \n",
       "1075449  2012-06-24 23:59:00  \n",
       "1075450  2012-06-26 23:59:00  \n",
       "1081290  2012-07-28 23:59:59  \n",
       "1081291  2012-07-18 23:59:59  \n",
       "\n",
       "[41402 rows x 11 columns]"
      ]
     },
     "execution_count": 39,
     "metadata": {},
     "output_type": "execute_result"
    }
   ],
   "source": [
    "jobs[jobs['Requirements'].isnull()]"
   ]
  },
  {
   "cell_type": "code",
   "execution_count": 40,
   "id": "e538a386",
   "metadata": {},
   "outputs": [],
   "source": [
    "job_set = jobs.dropna(axis=0,subset=[\"Description\",\"Requirements\",\"Title\"])"
   ]
  },
  {
   "cell_type": "code",
   "execution_count": 41,
   "id": "bebd4b99",
   "metadata": {},
   "outputs": [
    {
     "name": "stdout",
     "output_type": "stream",
     "text": [
      "<class 'pandas.core.frame.DataFrame'>\n",
      "Int64Index: 1050509 entries, 0 to 1091922\n",
      "Data columns (total 11 columns):\n",
      " #   Column        Non-Null Count    Dtype \n",
      "---  ------        --------------    ----- \n",
      " 0   JobID         1050509 non-null  int64 \n",
      " 1   WindowID      1050509 non-null  int64 \n",
      " 2   Title         1050509 non-null  object\n",
      " 3   Description   1050509 non-null  object\n",
      " 4   Requirements  1050509 non-null  object\n",
      " 5   City          1050507 non-null  object\n",
      " 6   State         1050508 non-null  object\n",
      " 7   Country       1050506 non-null  object\n",
      " 8   Zip5          658844 non-null   object\n",
      " 9   StartDate     1050509 non-null  object\n",
      " 10  EndDate       1050500 non-null  object\n",
      "dtypes: int64(2), object(9)\n",
      "memory usage: 96.2+ MB\n"
     ]
    }
   ],
   "source": [
    "job_set.info()"
   ]
  },
  {
   "cell_type": "markdown",
   "id": "a2475af1",
   "metadata": {},
   "source": [
    "### Clean html tags in jobs: using clean_html()"
   ]
  },
  {
   "cell_type": "code",
   "execution_count": 42,
   "id": "0355fe71",
   "metadata": {},
   "outputs": [
    {
     "name": "stdout",
     "output_type": "stream",
     "text": [
      "<class 'pandas.core.frame.DataFrame'>\n",
      "RangeIndex: 1091923 entries, 0 to 1091922\n",
      "Data columns (total 11 columns):\n",
      " #   Column        Non-Null Count    Dtype \n",
      "---  ------        --------------    ----- \n",
      " 0   JobID         1091923 non-null  int64 \n",
      " 1   WindowID      1091923 non-null  int64 \n",
      " 2   Title         1091916 non-null  object\n",
      " 3   Description   1091913 non-null  object\n",
      " 4   Requirements  1050521 non-null  object\n",
      " 5   City          1091921 non-null  object\n",
      " 6   State         1091922 non-null  object\n",
      " 7   Country       1091920 non-null  object\n",
      " 8   Zip5          685724 non-null   object\n",
      " 9   StartDate     1091923 non-null  object\n",
      " 10  EndDate       1091914 non-null  object\n",
      "dtypes: int64(2), object(9)\n",
      "memory usage: 91.6+ MB\n"
     ]
    }
   ],
   "source": [
    "jobs.info()"
   ]
  },
  {
   "cell_type": "code",
   "execution_count": 43,
   "id": "a28fd829",
   "metadata": {},
   "outputs": [],
   "source": [
    "jobs['Title'] = jobs['Title'].astype(dtype='str').apply(clean_html)"
   ]
  },
  {
   "cell_type": "code",
   "execution_count": 44,
   "id": "3ba84b89",
   "metadata": {},
   "outputs": [],
   "source": [
    "jobs['Description'] = jobs['Description'].astype(dtype='str').apply(clean_html)"
   ]
  },
  {
   "cell_type": "code",
   "execution_count": 45,
   "id": "e03ca752",
   "metadata": {},
   "outputs": [],
   "source": [
    "jobs['Requirements'] = jobs['Requirements'].astype(dtype='str').apply(clean_html)"
   ]
  },
  {
   "cell_type": "code",
   "execution_count": 46,
   "id": "2756696a",
   "metadata": {},
   "outputs": [
    {
     "data": {
      "text/html": [
       "<div>\n",
       "<style scoped>\n",
       "    .dataframe tbody tr th:only-of-type {\n",
       "        vertical-align: middle;\n",
       "    }\n",
       "\n",
       "    .dataframe tbody tr th {\n",
       "        vertical-align: top;\n",
       "    }\n",
       "\n",
       "    .dataframe thead th {\n",
       "        text-align: right;\n",
       "    }\n",
       "</style>\n",
       "<table border=\"1\" class=\"dataframe\">\n",
       "  <thead>\n",
       "    <tr style=\"text-align: right;\">\n",
       "      <th></th>\n",
       "      <th>JobID</th>\n",
       "      <th>WindowID</th>\n",
       "      <th>Title</th>\n",
       "      <th>Description</th>\n",
       "      <th>Requirements</th>\n",
       "      <th>City</th>\n",
       "      <th>State</th>\n",
       "      <th>Country</th>\n",
       "      <th>Zip5</th>\n",
       "      <th>StartDate</th>\n",
       "      <th>EndDate</th>\n",
       "    </tr>\n",
       "  </thead>\n",
       "  <tbody>\n",
       "    <tr>\n",
       "      <th>0</th>\n",
       "      <td>1</td>\n",
       "      <td>1</td>\n",
       "      <td>Security Engineer Technical Lead</td>\n",
       "      <td>Security Clearance Required:  Top Secret Job N...</td>\n",
       "      <td>SKILL SET Network Security tools: Webdefend We...</td>\n",
       "      <td>Washington</td>\n",
       "      <td>DC</td>\n",
       "      <td>US</td>\n",
       "      <td>20531</td>\n",
       "      <td>2012-03-07 13:17:01.643</td>\n",
       "      <td>2012-04-06 23:59:59</td>\n",
       "    </tr>\n",
       "    <tr>\n",
       "      <th>1</th>\n",
       "      <td>4</td>\n",
       "      <td>1</td>\n",
       "      <td>SAP Business Analyst   WM</td>\n",
       "      <td>NO Corp. to Corp resumes are being considered ...</td>\n",
       "      <td>WHAT YOU NEED: Four year college degreeMinimum...</td>\n",
       "      <td>Charlotte</td>\n",
       "      <td>NC</td>\n",
       "      <td>US</td>\n",
       "      <td>28217</td>\n",
       "      <td>2012-03-21 02:03:44.137</td>\n",
       "      <td>2012-04-20 23:59:59</td>\n",
       "    </tr>\n",
       "    <tr>\n",
       "      <th>2</th>\n",
       "      <td>7</td>\n",
       "      <td>1</td>\n",
       "      <td>P T HUMAN RESOURCES ASSISTANT</td>\n",
       "      <td>P T HUMAN RESOURCES ASSISTANT      1-2 ye...</td>\n",
       "      <td>Please refer to the Job Description to view th...</td>\n",
       "      <td>Winter Park</td>\n",
       "      <td>FL</td>\n",
       "      <td>US</td>\n",
       "      <td>32792</td>\n",
       "      <td>2012-03-02 16:36:55.447</td>\n",
       "      <td>2012-04-01 23:59:59</td>\n",
       "    </tr>\n",
       "    <tr>\n",
       "      <th>3</th>\n",
       "      <td>8</td>\n",
       "      <td>1</td>\n",
       "      <td>Route Delivery Drivers</td>\n",
       "      <td>CITY BEVERAGES Come to work for the best in th...</td>\n",
       "      <td>Please refer to the Job Description to view th...</td>\n",
       "      <td>Orlando</td>\n",
       "      <td>FL</td>\n",
       "      <td>US</td>\n",
       "      <td>NaN</td>\n",
       "      <td>2012-03-03 09:01:10.077</td>\n",
       "      <td>2012-04-02 23:59:59</td>\n",
       "    </tr>\n",
       "    <tr>\n",
       "      <th>4</th>\n",
       "      <td>9</td>\n",
       "      <td>1</td>\n",
       "      <td>Housekeeping</td>\n",
       "      <td>I make  sure every part of their day is magica...</td>\n",
       "      <td>Please refer to the Job Description to view th...</td>\n",
       "      <td>Orlando</td>\n",
       "      <td>FL</td>\n",
       "      <td>US</td>\n",
       "      <td>NaN</td>\n",
       "      <td>2012-03-03 09:01:11.88</td>\n",
       "      <td>2012-04-02 23:59:59</td>\n",
       "    </tr>\n",
       "  </tbody>\n",
       "</table>\n",
       "</div>"
      ],
      "text/plain": [
       "   JobID  WindowID                             Title  \\\n",
       "0      1         1  Security Engineer Technical Lead   \n",
       "1      4         1         SAP Business Analyst   WM   \n",
       "2      7         1     P T HUMAN RESOURCES ASSISTANT   \n",
       "3      8         1            Route Delivery Drivers   \n",
       "4      9         1                      Housekeeping   \n",
       "\n",
       "                                         Description  \\\n",
       "0  Security Clearance Required:  Top Secret Job N...   \n",
       "1  NO Corp. to Corp resumes are being considered ...   \n",
       "2       P T HUMAN RESOURCES ASSISTANT      1-2 ye...   \n",
       "3  CITY BEVERAGES Come to work for the best in th...   \n",
       "4  I make  sure every part of their day is magica...   \n",
       "\n",
       "                                        Requirements         City State  \\\n",
       "0  SKILL SET Network Security tools: Webdefend We...   Washington    DC   \n",
       "1  WHAT YOU NEED: Four year college degreeMinimum...    Charlotte    NC   \n",
       "2  Please refer to the Job Description to view th...  Winter Park    FL   \n",
       "3  Please refer to the Job Description to view th...      Orlando    FL   \n",
       "4  Please refer to the Job Description to view th...      Orlando    FL   \n",
       "\n",
       "  Country   Zip5                StartDate              EndDate  \n",
       "0      US  20531  2012-03-07 13:17:01.643  2012-04-06 23:59:59  \n",
       "1      US  28217  2012-03-21 02:03:44.137  2012-04-20 23:59:59  \n",
       "2      US  32792  2012-03-02 16:36:55.447  2012-04-01 23:59:59  \n",
       "3      US    NaN  2012-03-03 09:01:10.077  2012-04-02 23:59:59  \n",
       "4      US    NaN   2012-03-03 09:01:11.88  2012-04-02 23:59:59  "
      ]
     },
     "execution_count": 46,
     "metadata": {},
     "output_type": "execute_result"
    }
   ],
   "source": [
    "jobs.head()"
   ]
  },
  {
   "cell_type": "code",
   "execution_count": 47,
   "id": "455b8166",
   "metadata": {},
   "outputs": [],
   "source": [
    "jobs.to_csv('./data_processed/jobs_clean.csv', header=True, index=False)"
   ]
  },
  {
   "cell_type": "markdown",
   "id": "75bbcdec",
   "metadata": {},
   "source": [
    "### Clean html tags in job_set: using clean_html()"
   ]
  },
  {
   "cell_type": "code",
   "execution_count": 48,
   "id": "1b841806",
   "metadata": {},
   "outputs": [
    {
     "name": "stderr",
     "output_type": "stream",
     "text": [
      "/var/folders/rt/sq9c2fwj2wz441h13l9hcfrc0000gn/T/ipykernel_90621/1042621947.py:1: SettingWithCopyWarning: \n",
      "A value is trying to be set on a copy of a slice from a DataFrame.\n",
      "Try using .loc[row_indexer,col_indexer] = value instead\n",
      "\n",
      "See the caveats in the documentation: https://pandas.pydata.org/pandas-docs/stable/user_guide/indexing.html#returning-a-view-versus-a-copy\n",
      "  job_set['Title'] = job_set['Title'].astype(dtype='str').apply(clean_html)\n",
      "/var/folders/rt/sq9c2fwj2wz441h13l9hcfrc0000gn/T/ipykernel_90621/1042621947.py:2: SettingWithCopyWarning: \n",
      "A value is trying to be set on a copy of a slice from a DataFrame.\n",
      "Try using .loc[row_indexer,col_indexer] = value instead\n",
      "\n",
      "See the caveats in the documentation: https://pandas.pydata.org/pandas-docs/stable/user_guide/indexing.html#returning-a-view-versus-a-copy\n",
      "  job_set['Description'] = job_set['Description'].astype(dtype='str').apply(clean_html)\n",
      "/var/folders/rt/sq9c2fwj2wz441h13l9hcfrc0000gn/T/ipykernel_90621/1042621947.py:3: SettingWithCopyWarning: \n",
      "A value is trying to be set on a copy of a slice from a DataFrame.\n",
      "Try using .loc[row_indexer,col_indexer] = value instead\n",
      "\n",
      "See the caveats in the documentation: https://pandas.pydata.org/pandas-docs/stable/user_guide/indexing.html#returning-a-view-versus-a-copy\n",
      "  job_set['Requirements'] = job_set['Requirements'].astype(dtype='str').apply(clean_html)\n"
     ]
    }
   ],
   "source": [
    "job_set['Title'] = job_set['Title'].astype(dtype='str').apply(clean_html)\n",
    "job_set['Description'] = job_set['Description'].astype(dtype='str').apply(clean_html)\n",
    "job_set['Requirements'] = job_set['Requirements'].astype(dtype='str').apply(clean_html)\n"
   ]
  },
  {
   "cell_type": "code",
   "execution_count": 49,
   "id": "2bf0430f",
   "metadata": {},
   "outputs": [],
   "source": [
    "job_set.to_csv('./data_processed/jobset_clean.csv', header=True, index=False)"
   ]
  },
  {
   "cell_type": "markdown",
   "id": "9fb7cd50",
   "metadata": {},
   "source": [
    "## Clean users data \n",
    "Output: \n",
    "- user_clean.csv\n",
    "- warm_exp_apps.csv\n"
   ]
  },
  {
   "cell_type": "code",
   "execution_count": 50,
   "id": "50220cd6",
   "metadata": {},
   "outputs": [
    {
     "data": {
      "text/plain": [
       "True"
      ]
     },
     "execution_count": 50,
     "metadata": {},
     "output_type": "execute_result"
    }
   ],
   "source": [
    "users.isnull().values.any()"
   ]
  },
  {
   "cell_type": "code",
   "execution_count": 51,
   "id": "ef9a4af9",
   "metadata": {},
   "outputs": [
    {
     "data": {
      "text/plain": [
       "275951"
      ]
     },
     "execution_count": 51,
     "metadata": {},
     "output_type": "execute_result"
    }
   ],
   "source": [
    "users.isnull().sum().sum()"
   ]
  },
  {
   "cell_type": "code",
   "execution_count": 52,
   "id": "180f0af1",
   "metadata": {},
   "outputs": [
    {
     "name": "stdout",
     "output_type": "stream",
     "text": [
      "<class 'pandas.core.frame.DataFrame'>\n",
      "RangeIndex: 389708 entries, 0 to 389707\n",
      "Data columns (total 15 columns):\n",
      " #   Column                Non-Null Count   Dtype  \n",
      "---  ------                --------------   -----  \n",
      " 0   UserID                389708 non-null  int64  \n",
      " 1   WindowID              389708 non-null  int64  \n",
      " 2   Split                 389708 non-null  object \n",
      " 3   City                  389708 non-null  object \n",
      " 4   State                 389218 non-null  object \n",
      " 5   Country               389708 non-null  object \n",
      " 6   ZipCode               387974 non-null  object \n",
      " 7   DegreeType            389708 non-null  object \n",
      " 8   Major                 292468 non-null  object \n",
      " 9   GraduationDate        269477 non-null  object \n",
      " 10  WorkHistoryCount      389708 non-null  int64  \n",
      " 11  TotalYearsExperience  375528 non-null  float64\n",
      " 12  CurrentlyEmployed     347632 non-null  object \n",
      " 13  ManagedOthers         389708 non-null  object \n",
      " 14  ManagedHowMany        389708 non-null  int64  \n",
      "dtypes: float64(1), int64(4), object(10)\n",
      "memory usage: 44.6+ MB\n"
     ]
    }
   ],
   "source": [
    "users.info()"
   ]
  },
  {
   "cell_type": "code",
   "execution_count": 53,
   "id": "2df011b6",
   "metadata": {},
   "outputs": [
    {
     "data": {
      "text/html": [
       "<div>\n",
       "<style scoped>\n",
       "    .dataframe tbody tr th:only-of-type {\n",
       "        vertical-align: middle;\n",
       "    }\n",
       "\n",
       "    .dataframe tbody tr th {\n",
       "        vertical-align: top;\n",
       "    }\n",
       "\n",
       "    .dataframe thead th {\n",
       "        text-align: right;\n",
       "    }\n",
       "</style>\n",
       "<table border=\"1\" class=\"dataframe\">\n",
       "  <thead>\n",
       "    <tr style=\"text-align: right;\">\n",
       "      <th></th>\n",
       "      <th>UserID</th>\n",
       "      <th>WindowID</th>\n",
       "      <th>Split</th>\n",
       "      <th>City</th>\n",
       "      <th>State</th>\n",
       "      <th>Country</th>\n",
       "      <th>ZipCode</th>\n",
       "      <th>DegreeType</th>\n",
       "      <th>Major</th>\n",
       "      <th>GraduationDate</th>\n",
       "      <th>WorkHistoryCount</th>\n",
       "      <th>TotalYearsExperience</th>\n",
       "      <th>CurrentlyEmployed</th>\n",
       "      <th>ManagedOthers</th>\n",
       "      <th>ManagedHowMany</th>\n",
       "    </tr>\n",
       "  </thead>\n",
       "  <tbody>\n",
       "    <tr>\n",
       "      <th>0</th>\n",
       "      <td>47</td>\n",
       "      <td>1</td>\n",
       "      <td>Train</td>\n",
       "      <td>Paramount</td>\n",
       "      <td>CA</td>\n",
       "      <td>US</td>\n",
       "      <td>90723</td>\n",
       "      <td>High School</td>\n",
       "      <td>NaN</td>\n",
       "      <td>1999-06-01 00:00:00</td>\n",
       "      <td>3</td>\n",
       "      <td>10.0</td>\n",
       "      <td>Yes</td>\n",
       "      <td>No</td>\n",
       "      <td>0</td>\n",
       "    </tr>\n",
       "    <tr>\n",
       "      <th>11</th>\n",
       "      <td>411</td>\n",
       "      <td>1</td>\n",
       "      <td>Train</td>\n",
       "      <td>Lutz</td>\n",
       "      <td>FL</td>\n",
       "      <td>US</td>\n",
       "      <td>33559</td>\n",
       "      <td>None</td>\n",
       "      <td>NaN</td>\n",
       "      <td>NaN</td>\n",
       "      <td>3</td>\n",
       "      <td>11.0</td>\n",
       "      <td>Yes</td>\n",
       "      <td>Yes</td>\n",
       "      <td>1</td>\n",
       "    </tr>\n",
       "    <tr>\n",
       "      <th>16</th>\n",
       "      <td>501</td>\n",
       "      <td>1</td>\n",
       "      <td>Train</td>\n",
       "      <td>Cape Coral</td>\n",
       "      <td>FL</td>\n",
       "      <td>US</td>\n",
       "      <td>33990</td>\n",
       "      <td>Bachelor's</td>\n",
       "      <td>NaN</td>\n",
       "      <td>NaN</td>\n",
       "      <td>4</td>\n",
       "      <td>37.0</td>\n",
       "      <td>No</td>\n",
       "      <td>No</td>\n",
       "      <td>0</td>\n",
       "    </tr>\n",
       "    <tr>\n",
       "      <th>20</th>\n",
       "      <td>553</td>\n",
       "      <td>1</td>\n",
       "      <td>Train</td>\n",
       "      <td>Debary</td>\n",
       "      <td>FL</td>\n",
       "      <td>US</td>\n",
       "      <td>32713</td>\n",
       "      <td>Bachelor's</td>\n",
       "      <td>NaN</td>\n",
       "      <td>NaN</td>\n",
       "      <td>3</td>\n",
       "      <td>10.0</td>\n",
       "      <td>NaN</td>\n",
       "      <td>No</td>\n",
       "      <td>0</td>\n",
       "    </tr>\n",
       "    <tr>\n",
       "      <th>23</th>\n",
       "      <td>589</td>\n",
       "      <td>1</td>\n",
       "      <td>Train</td>\n",
       "      <td>Ventura</td>\n",
       "      <td>CA</td>\n",
       "      <td>US</td>\n",
       "      <td>93003</td>\n",
       "      <td>Associate's</td>\n",
       "      <td>NaN</td>\n",
       "      <td>1997-06-01 00:00:00</td>\n",
       "      <td>5</td>\n",
       "      <td>26.0</td>\n",
       "      <td>No</td>\n",
       "      <td>Yes</td>\n",
       "      <td>75</td>\n",
       "    </tr>\n",
       "    <tr>\n",
       "      <th>...</th>\n",
       "      <td>...</td>\n",
       "      <td>...</td>\n",
       "      <td>...</td>\n",
       "      <td>...</td>\n",
       "      <td>...</td>\n",
       "      <td>...</td>\n",
       "      <td>...</td>\n",
       "      <td>...</td>\n",
       "      <td>...</td>\n",
       "      <td>...</td>\n",
       "      <td>...</td>\n",
       "      <td>...</td>\n",
       "      <td>...</td>\n",
       "      <td>...</td>\n",
       "      <td>...</td>\n",
       "    </tr>\n",
       "    <tr>\n",
       "      <th>389697</th>\n",
       "      <td>1471828</td>\n",
       "      <td>7</td>\n",
       "      <td>Train</td>\n",
       "      <td>Atlanta</td>\n",
       "      <td>GA</td>\n",
       "      <td>US</td>\n",
       "      <td>30312</td>\n",
       "      <td>PhD</td>\n",
       "      <td>NaN</td>\n",
       "      <td>2006-05-01 00:00:00</td>\n",
       "      <td>3</td>\n",
       "      <td>6.0</td>\n",
       "      <td>Yes</td>\n",
       "      <td>No</td>\n",
       "      <td>0</td>\n",
       "    </tr>\n",
       "    <tr>\n",
       "      <th>389701</th>\n",
       "      <td>1471901</td>\n",
       "      <td>7</td>\n",
       "      <td>Train</td>\n",
       "      <td>Port Clinton</td>\n",
       "      <td>OH</td>\n",
       "      <td>US</td>\n",
       "      <td>43452</td>\n",
       "      <td>None</td>\n",
       "      <td>NaN</td>\n",
       "      <td>NaN</td>\n",
       "      <td>7</td>\n",
       "      <td>25.0</td>\n",
       "      <td>No</td>\n",
       "      <td>No</td>\n",
       "      <td>0</td>\n",
       "    </tr>\n",
       "    <tr>\n",
       "      <th>389702</th>\n",
       "      <td>1471975</td>\n",
       "      <td>7</td>\n",
       "      <td>Train</td>\n",
       "      <td>Concord</td>\n",
       "      <td>NC</td>\n",
       "      <td>US</td>\n",
       "      <td>28027</td>\n",
       "      <td>None</td>\n",
       "      <td>NaN</td>\n",
       "      <td>NaN</td>\n",
       "      <td>5</td>\n",
       "      <td>14.0</td>\n",
       "      <td>Yes</td>\n",
       "      <td>No</td>\n",
       "      <td>0</td>\n",
       "    </tr>\n",
       "    <tr>\n",
       "      <th>389704</th>\n",
       "      <td>1472042</td>\n",
       "      <td>7</td>\n",
       "      <td>Train</td>\n",
       "      <td>Saint Clair Shores</td>\n",
       "      <td>MI</td>\n",
       "      <td>US</td>\n",
       "      <td>48081</td>\n",
       "      <td>High School</td>\n",
       "      <td>NaN</td>\n",
       "      <td>1970-01-01 00:00:00</td>\n",
       "      <td>7</td>\n",
       "      <td>32.0</td>\n",
       "      <td>Yes</td>\n",
       "      <td>No</td>\n",
       "      <td>0</td>\n",
       "    </tr>\n",
       "    <tr>\n",
       "      <th>389705</th>\n",
       "      <td>1472058</td>\n",
       "      <td>7</td>\n",
       "      <td>Train</td>\n",
       "      <td>Maspeth</td>\n",
       "      <td>NY</td>\n",
       "      <td>US</td>\n",
       "      <td>11378</td>\n",
       "      <td>Associate's</td>\n",
       "      <td>NaN</td>\n",
       "      <td>2001-01-01 00:00:00</td>\n",
       "      <td>2</td>\n",
       "      <td>8.0</td>\n",
       "      <td>Yes</td>\n",
       "      <td>Yes</td>\n",
       "      <td>3</td>\n",
       "    </tr>\n",
       "  </tbody>\n",
       "</table>\n",
       "<p>97240 rows × 15 columns</p>\n",
       "</div>"
      ],
      "text/plain": [
       "         UserID  WindowID  Split                City State Country ZipCode  \\\n",
       "0            47         1  Train           Paramount    CA      US   90723   \n",
       "11          411         1  Train                Lutz    FL      US   33559   \n",
       "16          501         1  Train          Cape Coral    FL      US   33990   \n",
       "20          553         1  Train              Debary    FL      US   32713   \n",
       "23          589         1  Train             Ventura    CA      US   93003   \n",
       "...         ...       ...    ...                 ...   ...     ...     ...   \n",
       "389697  1471828         7  Train             Atlanta    GA      US   30312   \n",
       "389701  1471901         7  Train        Port Clinton    OH      US   43452   \n",
       "389702  1471975         7  Train             Concord    NC      US   28027   \n",
       "389704  1472042         7  Train  Saint Clair Shores    MI      US   48081   \n",
       "389705  1472058         7  Train             Maspeth    NY      US   11378   \n",
       "\n",
       "         DegreeType Major       GraduationDate  WorkHistoryCount  \\\n",
       "0       High School   NaN  1999-06-01 00:00:00                 3   \n",
       "11             None   NaN                  NaN                 3   \n",
       "16       Bachelor's   NaN                  NaN                 4   \n",
       "20       Bachelor's   NaN                  NaN                 3   \n",
       "23      Associate's   NaN  1997-06-01 00:00:00                 5   \n",
       "...             ...   ...                  ...               ...   \n",
       "389697          PhD   NaN  2006-05-01 00:00:00                 3   \n",
       "389701         None   NaN                  NaN                 7   \n",
       "389702         None   NaN                  NaN                 5   \n",
       "389704  High School   NaN  1970-01-01 00:00:00                 7   \n",
       "389705  Associate's   NaN  2001-01-01 00:00:00                 2   \n",
       "\n",
       "        TotalYearsExperience CurrentlyEmployed ManagedOthers  ManagedHowMany  \n",
       "0                       10.0               Yes            No               0  \n",
       "11                      11.0               Yes           Yes               1  \n",
       "16                      37.0                No            No               0  \n",
       "20                      10.0               NaN            No               0  \n",
       "23                      26.0                No           Yes              75  \n",
       "...                      ...               ...           ...             ...  \n",
       "389697                   6.0               Yes            No               0  \n",
       "389701                  25.0                No            No               0  \n",
       "389702                  14.0               Yes            No               0  \n",
       "389704                  32.0               Yes            No               0  \n",
       "389705                   8.0               Yes           Yes               3  \n",
       "\n",
       "[97240 rows x 15 columns]"
      ]
     },
     "execution_count": 53,
     "metadata": {},
     "output_type": "execute_result"
    }
   ],
   "source": [
    "users[users['Major'].isnull()]"
   ]
  },
  {
   "cell_type": "code",
   "execution_count": 54,
   "id": "447ad927",
   "metadata": {},
   "outputs": [
    {
     "data": {
      "text/plain": [
       "97240"
      ]
     },
     "execution_count": 54,
     "metadata": {},
     "output_type": "execute_result"
    }
   ],
   "source": [
    "users['Major'].isnull().values.sum()"
   ]
  },
  {
   "cell_type": "code",
   "execution_count": 55,
   "id": "129d7c44",
   "metadata": {},
   "outputs": [
    {
     "data": {
      "text/plain": [
       "14180"
      ]
     },
     "execution_count": 55,
     "metadata": {},
     "output_type": "execute_result"
    }
   ],
   "source": [
    "users['TotalYearsExperience'].isnull().values.sum()"
   ]
  },
  {
   "cell_type": "code",
   "execution_count": 56,
   "id": "5d3399bb",
   "metadata": {},
   "outputs": [
    {
     "data": {
      "text/plain": [
       "42076"
      ]
     },
     "execution_count": 56,
     "metadata": {},
     "output_type": "execute_result"
    }
   ],
   "source": [
    "users['CurrentlyEmployed'].isnull().values.sum()"
   ]
  },
  {
   "cell_type": "code",
   "execution_count": 57,
   "id": "ab39d3ba",
   "metadata": {},
   "outputs": [],
   "source": [
    "# Drop users NA values in major, total years of experience, and currently employed\n",
    "user_set = users.dropna(axis=0,subset=[\"Major\", \"TotalYearsExperience\", \"CurrentlyEmployed\"])"
   ]
  },
  {
   "cell_type": "code",
   "execution_count": 58,
   "id": "b21ce5c7",
   "metadata": {},
   "outputs": [
    {
     "name": "stdout",
     "output_type": "stream",
     "text": [
      "<class 'pandas.core.frame.DataFrame'>\n",
      "Int64Index: 258260 entries, 1 to 389706\n",
      "Data columns (total 15 columns):\n",
      " #   Column                Non-Null Count   Dtype  \n",
      "---  ------                --------------   -----  \n",
      " 0   UserID                258260 non-null  int64  \n",
      " 1   WindowID              258260 non-null  int64  \n",
      " 2   Split                 258260 non-null  object \n",
      " 3   City                  258260 non-null  object \n",
      " 4   State                 257917 non-null  object \n",
      " 5   Country               258260 non-null  object \n",
      " 6   ZipCode               257094 non-null  object \n",
      " 7   DegreeType            258260 non-null  object \n",
      " 8   Major                 258260 non-null  object \n",
      " 9   GraduationDate        203034 non-null  object \n",
      " 10  WorkHistoryCount      258260 non-null  int64  \n",
      " 11  TotalYearsExperience  258260 non-null  float64\n",
      " 12  CurrentlyEmployed     258260 non-null  object \n",
      " 13  ManagedOthers         258260 non-null  object \n",
      " 14  ManagedHowMany        258260 non-null  int64  \n",
      "dtypes: float64(1), int64(4), object(10)\n",
      "memory usage: 31.5+ MB\n"
     ]
    }
   ],
   "source": [
    "user_set.info()"
   ]
  },
  {
   "cell_type": "code",
   "execution_count": 59,
   "id": "d91dacb4",
   "metadata": {},
   "outputs": [
    {
     "name": "stdout",
     "output_type": "stream",
     "text": [
      "<class 'pandas.core.frame.DataFrame'>\n",
      "Int64Index: 258260 entries, 1 to 389706\n",
      "Data columns (total 15 columns):\n",
      " #   Column                Non-Null Count   Dtype  \n",
      "---  ------                --------------   -----  \n",
      " 0   UserID                258260 non-null  int64  \n",
      " 1   WindowID              258260 non-null  int64  \n",
      " 2   Split                 258260 non-null  object \n",
      " 3   City                  258260 non-null  object \n",
      " 4   State                 257917 non-null  object \n",
      " 5   Country               258260 non-null  object \n",
      " 6   ZipCode               257094 non-null  object \n",
      " 7   DegreeType            258260 non-null  object \n",
      " 8   Major                 258260 non-null  object \n",
      " 9   GraduationDate        203034 non-null  object \n",
      " 10  WorkHistoryCount      258260 non-null  int64  \n",
      " 11  TotalYearsExperience  258260 non-null  float64\n",
      " 12  CurrentlyEmployed     258260 non-null  object \n",
      " 13  ManagedOthers         258260 non-null  object \n",
      " 14  ManagedHowMany        258260 non-null  int64  \n",
      "dtypes: float64(1), int64(4), object(10)\n",
      "memory usage: 31.5+ MB\n"
     ]
    },
    {
     "data": {
      "text/plain": [
       "(Train    242772\n",
       " Test      15488\n",
       " Name: Split, dtype: int64,\n",
       " None)"
      ]
     },
     "execution_count": 59,
     "metadata": {},
     "output_type": "execute_result"
    }
   ],
   "source": [
    "user_set.Split.value_counts(), user_set.info()"
   ]
  },
  {
   "cell_type": "code",
   "execution_count": 60,
   "id": "c4c08a1b",
   "metadata": {},
   "outputs": [
    {
     "data": {
      "text/plain": [
       "258260"
      ]
     },
     "execution_count": 60,
     "metadata": {},
     "output_type": "execute_result"
    }
   ],
   "source": [
    "user_set.UserID.unique().size"
   ]
  },
  {
   "cell_type": "code",
   "execution_count": 61,
   "id": "785af07e",
   "metadata": {},
   "outputs": [],
   "source": [
    "# Export dataset to preprocessed\n",
    "user_set.to_csv('./data_processed/users_clean.csv', header=True, index=False)"
   ]
  },
  {
   "cell_type": "code",
   "execution_count": 62,
   "id": "86446a47",
   "metadata": {},
   "outputs": [],
   "source": [
    "user_id = user_set.UserID.unique().tolist()"
   ]
  },
  {
   "cell_type": "markdown",
   "id": "fb280797",
   "metadata": {},
   "source": [
    "## Clean user_history\n",
    "Output: work_history.csv"
   ]
  },
  {
   "cell_type": "code",
   "execution_count": 63,
   "id": "b5a2c3bb",
   "metadata": {},
   "outputs": [],
   "source": [
    "# Filter work_history for user in the list\n",
    "work_history = user_history[user_history.UserID.isin(user_id)]"
   ]
  },
  {
   "cell_type": "code",
   "execution_count": 64,
   "id": "e40865e0",
   "metadata": {},
   "outputs": [
    {
     "name": "stdout",
     "output_type": "stream",
     "text": [
      "<class 'pandas.core.frame.DataFrame'>\n",
      "Int64Index: 1212095 entries, 3 to 1753897\n",
      "Data columns (total 5 columns):\n",
      " #   Column    Non-Null Count    Dtype \n",
      "---  ------    --------------    ----- \n",
      " 0   UserID    1212095 non-null  int64 \n",
      " 1   WindowID  1212095 non-null  int64 \n",
      " 2   Split     1212095 non-null  object\n",
      " 3   Sequence  1212095 non-null  int64 \n",
      " 4   JobTitle  1144557 non-null  object\n",
      "dtypes: int64(3), object(2)\n",
      "memory usage: 55.5+ MB\n"
     ]
    }
   ],
   "source": [
    "work_history.info()"
   ]
  },
  {
   "cell_type": "code",
   "execution_count": 65,
   "id": "bdb39cdf",
   "metadata": {},
   "outputs": [
    {
     "data": {
      "text/plain": [
       "67538"
      ]
     },
     "execution_count": 65,
     "metadata": {},
     "output_type": "execute_result"
    }
   ],
   "source": [
    "work_history['JobTitle'].isnull().values.sum()"
   ]
  },
  {
   "cell_type": "code",
   "execution_count": 66,
   "id": "2b3c6651",
   "metadata": {},
   "outputs": [
    {
     "data": {
      "text/html": [
       "<div>\n",
       "<style scoped>\n",
       "    .dataframe tbody tr th:only-of-type {\n",
       "        vertical-align: middle;\n",
       "    }\n",
       "\n",
       "    .dataframe tbody tr th {\n",
       "        vertical-align: top;\n",
       "    }\n",
       "\n",
       "    .dataframe thead th {\n",
       "        text-align: right;\n",
       "    }\n",
       "</style>\n",
       "<table border=\"1\" class=\"dataframe\">\n",
       "  <thead>\n",
       "    <tr style=\"text-align: right;\">\n",
       "      <th></th>\n",
       "      <th>UserID</th>\n",
       "      <th>WindowID</th>\n",
       "      <th>Split</th>\n",
       "      <th>Sequence</th>\n",
       "      <th>JobTitle</th>\n",
       "    </tr>\n",
       "  </thead>\n",
       "  <tbody>\n",
       "    <tr>\n",
       "      <th>6</th>\n",
       "      <td>72</td>\n",
       "      <td>1</td>\n",
       "      <td>Train</td>\n",
       "      <td>4</td>\n",
       "      <td>NaN</td>\n",
       "    </tr>\n",
       "    <tr>\n",
       "      <th>10</th>\n",
       "      <td>72</td>\n",
       "      <td>1</td>\n",
       "      <td>Train</td>\n",
       "      <td>8</td>\n",
       "      <td>NaN</td>\n",
       "    </tr>\n",
       "    <tr>\n",
       "      <th>51</th>\n",
       "      <td>395</td>\n",
       "      <td>1</td>\n",
       "      <td>Train</td>\n",
       "      <td>4</td>\n",
       "      <td>NaN</td>\n",
       "    </tr>\n",
       "    <tr>\n",
       "      <th>56</th>\n",
       "      <td>395</td>\n",
       "      <td>1</td>\n",
       "      <td>Train</td>\n",
       "      <td>9</td>\n",
       "      <td>NaN</td>\n",
       "    </tr>\n",
       "    <tr>\n",
       "      <th>57</th>\n",
       "      <td>395</td>\n",
       "      <td>1</td>\n",
       "      <td>Train</td>\n",
       "      <td>10</td>\n",
       "      <td>NaN</td>\n",
       "    </tr>\n",
       "    <tr>\n",
       "      <th>...</th>\n",
       "      <td>...</td>\n",
       "      <td>...</td>\n",
       "      <td>...</td>\n",
       "      <td>...</td>\n",
       "      <td>...</td>\n",
       "    </tr>\n",
       "    <tr>\n",
       "      <th>1753782</th>\n",
       "      <td>1471550</td>\n",
       "      <td>7</td>\n",
       "      <td>Train</td>\n",
       "      <td>2</td>\n",
       "      <td>NaN</td>\n",
       "    </tr>\n",
       "    <tr>\n",
       "      <th>1753785</th>\n",
       "      <td>1471550</td>\n",
       "      <td>7</td>\n",
       "      <td>Train</td>\n",
       "      <td>5</td>\n",
       "      <td>NaN</td>\n",
       "    </tr>\n",
       "    <tr>\n",
       "      <th>1753797</th>\n",
       "      <td>1471583</td>\n",
       "      <td>7</td>\n",
       "      <td>Train</td>\n",
       "      <td>3</td>\n",
       "      <td>NaN</td>\n",
       "    </tr>\n",
       "    <tr>\n",
       "      <th>1753832</th>\n",
       "      <td>1471656</td>\n",
       "      <td>7</td>\n",
       "      <td>Train</td>\n",
       "      <td>4</td>\n",
       "      <td>NaN</td>\n",
       "    </tr>\n",
       "    <tr>\n",
       "      <th>1753895</th>\n",
       "      <td>1472060</td>\n",
       "      <td>7</td>\n",
       "      <td>Train</td>\n",
       "      <td>1</td>\n",
       "      <td>NaN</td>\n",
       "    </tr>\n",
       "  </tbody>\n",
       "</table>\n",
       "<p>67538 rows × 5 columns</p>\n",
       "</div>"
      ],
      "text/plain": [
       "          UserID  WindowID  Split  Sequence JobTitle\n",
       "6             72         1  Train         4      NaN\n",
       "10            72         1  Train         8      NaN\n",
       "51           395         1  Train         4      NaN\n",
       "56           395         1  Train         9      NaN\n",
       "57           395         1  Train        10      NaN\n",
       "...          ...       ...    ...       ...      ...\n",
       "1753782  1471550         7  Train         2      NaN\n",
       "1753785  1471550         7  Train         5      NaN\n",
       "1753797  1471583         7  Train         3      NaN\n",
       "1753832  1471656         7  Train         4      NaN\n",
       "1753895  1472060         7  Train         1      NaN\n",
       "\n",
       "[67538 rows x 5 columns]"
      ]
     },
     "execution_count": 66,
     "metadata": {},
     "output_type": "execute_result"
    }
   ],
   "source": [
    "work_history[work_history['JobTitle'].isnull()]"
   ]
  },
  {
   "cell_type": "code",
   "execution_count": 67,
   "id": "dc24da22",
   "metadata": {},
   "outputs": [
    {
     "name": "stderr",
     "output_type": "stream",
     "text": [
      "/var/folders/rt/sq9c2fwj2wz441h13l9hcfrc0000gn/T/ipykernel_90621/2536373953.py:1: SettingWithCopyWarning: \n",
      "A value is trying to be set on a copy of a slice from a DataFrame\n",
      "\n",
      "See the caveats in the documentation: https://pandas.pydata.org/pandas-docs/stable/user_guide/indexing.html#returning-a-view-versus-a-copy\n",
      "  work_history.dropna(axis=0, subset=[\"JobTitle\"], inplace=True)\n"
     ]
    }
   ],
   "source": [
    "work_history.dropna(axis=0, subset=[\"JobTitle\"], inplace=True)"
   ]
  },
  {
   "cell_type": "code",
   "execution_count": 68,
   "id": "af47f5fc",
   "metadata": {},
   "outputs": [],
   "source": [
    "work_user_id = work_history.UserID.unique()"
   ]
  },
  {
   "cell_type": "markdown",
   "id": "3e58ed54",
   "metadata": {},
   "source": [
    "## Clean apps\n",
    "Output: warm_apps.csv"
   ]
  },
  {
   "cell_type": "code",
   "execution_count": 73,
   "id": "a1424122",
   "metadata": {},
   "outputs": [],
   "source": [
    "job_id = job_set.JobID.unique().tolist()"
   ]
  },
  {
   "cell_type": "code",
   "execution_count": 74,
   "id": "adb59c50",
   "metadata": {},
   "outputs": [],
   "source": [
    "# Filter applications with user and job id in the two above lists\n",
    "application_record = apps[(apps.UserID.isin(user_id))&(apps.JobID.isin(job_id))]"
   ]
  },
  {
   "cell_type": "code",
   "execution_count": 75,
   "id": "a9386ac7",
   "metadata": {},
   "outputs": [
    {
     "name": "stdout",
     "output_type": "stream",
     "text": [
      "<class 'pandas.core.frame.DataFrame'>\n",
      "Int64Index: 1144557 entries, 3 to 1753897\n",
      "Data columns (total 5 columns):\n",
      " #   Column    Non-Null Count    Dtype \n",
      "---  ------    --------------    ----- \n",
      " 0   UserID    1144557 non-null  int64 \n",
      " 1   WindowID  1144557 non-null  int64 \n",
      " 2   Split     1144557 non-null  object\n",
      " 3   Sequence  1144557 non-null  int64 \n",
      " 4   JobTitle  1144557 non-null  object\n",
      "dtypes: int64(3), object(2)\n",
      "memory usage: 52.4+ MB\n",
      "<class 'pandas.core.frame.DataFrame'>\n",
      "Int64Index: 1049043 entries, 8 to 1603098\n",
      "Data columns (total 5 columns):\n",
      " #   Column           Non-Null Count    Dtype \n",
      "---  ------           --------------    ----- \n",
      " 0   UserID           1049043 non-null  int64 \n",
      " 1   WindowID         1049043 non-null  int64 \n",
      " 2   Split            1049043 non-null  object\n",
      " 3   ApplicationDate  1049043 non-null  object\n",
      " 4   JobID            1049043 non-null  int64 \n",
      "dtypes: int64(3), object(2)\n",
      "memory usage: 48.0+ MB\n"
     ]
    },
    {
     "data": {
      "text/plain": [
       "(None, None)"
      ]
     },
     "execution_count": 75,
     "metadata": {},
     "output_type": "execute_result"
    }
   ],
   "source": [
    "work_history.info(), application_record.info()"
   ]
  },
  {
   "cell_type": "code",
   "execution_count": 76,
   "id": "3ac5dedc",
   "metadata": {},
   "outputs": [
    {
     "data": {
      "text/plain": [
       "256021"
      ]
     },
     "execution_count": 76,
     "metadata": {},
     "output_type": "execute_result"
    }
   ],
   "source": [
    "# user_id from work_history\n",
    "work_user_id = work_history.UserID.unique()\n",
    "len(work_user_id)"
   ]
  },
  {
   "cell_type": "code",
   "execution_count": 77,
   "id": "93fc7128",
   "metadata": {},
   "outputs": [
    {
     "data": {
      "text/plain": [
       "210685"
      ]
     },
     "execution_count": 77,
     "metadata": {},
     "output_type": "execute_result"
    }
   ],
   "source": [
    "# user_id from application (warm)\n",
    "application_user_id = application_record.UserID.unique()\n",
    "len(application_user_id)"
   ]
  },
  {
   "cell_type": "code",
   "execution_count": 78,
   "id": "8900df39",
   "metadata": {},
   "outputs": [
    {
     "data": {
      "text/plain": [
       "258260"
      ]
     },
     "execution_count": 78,
     "metadata": {},
     "output_type": "execute_result"
    }
   ],
   "source": [
    "# user_id from clean user data\n",
    "len(user_id)"
   ]
  },
  {
   "cell_type": "code",
   "execution_count": 81,
   "id": "fe73b271",
   "metadata": {},
   "outputs": [
    {
     "data": {
      "text/plain": [
       "208953"
      ]
     },
     "execution_count": 81,
     "metadata": {},
     "output_type": "execute_result"
    }
   ],
   "source": [
    "# Filter users with experience & appear in application data (warm_exp_user)\n",
    "warm_exp_user = user_set[(user_set.UserID.isin(work_user_id))&(user_set.UserID.isin(application_user_id))]\n",
    "warm_exp_user_id = warm_exp_user.UserID.unique()\n",
    "len(warm_exp_user_id)"
   ]
  },
  {
   "cell_type": "code",
   "execution_count": 82,
   "id": "15eb23b3",
   "metadata": {},
   "outputs": [],
   "source": [
    "# Export warm application\n",
    "application_record.to_csv('./data_processed/apps_warm.csv', header=True, index=False)"
   ]
  },
  {
   "cell_type": "code",
   "execution_count": 83,
   "id": "953f2106",
   "metadata": {},
   "outputs": [],
   "source": [
    "# Filter warm, experience user history and application\n",
    "application_record = application_record[application_record.UserID.isin(warm_exp_user_id)]\n",
    "work_history = work_history[work_history.UserID.isin(warm_exp_user_id)]"
   ]
  },
  {
   "cell_type": "code",
   "execution_count": 84,
   "id": "213ff3fb",
   "metadata": {},
   "outputs": [
    {
     "data": {
      "text/plain": [
       "(Train    921114\n",
       " Test     119556\n",
       " Name: Split, dtype: int64,\n",
       " Train    200248\n",
       " Test       8705\n",
       " Name: Split, dtype: int64)"
      ]
     },
     "execution_count": 84,
     "metadata": {},
     "output_type": "execute_result"
    }
   ],
   "source": [
    "# Check data for users and application records in training and testing (Column: Split)\n",
    "application_record.Split.value_counts(), warm_exp_user.Split.value_counts()"
   ]
  },
  {
   "cell_type": "code",
   "execution_count": 85,
   "id": "5d0fae1b",
   "metadata": {},
   "outputs": [
    {
     "data": {
      "text/plain": [
       "(True, True)"
      ]
     },
     "execution_count": 85,
     "metadata": {},
     "output_type": "execute_result"
    }
   ],
   "source": [
    "(warm_exp_user.UserID.unique() == application_record.UserID.unique()).all(), (warm_exp_user.UserID.unique() == work_history.UserID.unique()).all()"
   ]
  },
  {
   "cell_type": "code",
   "execution_count": 86,
   "id": "9693a299",
   "metadata": {},
   "outputs": [],
   "source": [
    "warm_exp_user.to_csv('./data_processed/warm_exp_users.csv', header=True, index=False)"
   ]
  },
  {
   "cell_type": "code",
   "execution_count": 87,
   "id": "31d87e2c",
   "metadata": {},
   "outputs": [],
   "source": [
    "application_record.to_csv('./data_processed/warm_exp_apps.csv', header=True, index=False)"
   ]
  },
  {
   "cell_type": "code",
   "execution_count": null,
   "id": "138ee6f4",
   "metadata": {},
   "outputs": [],
   "source": []
  },
  {
   "cell_type": "markdown",
   "id": "a70562ab",
   "metadata": {},
   "source": [
    "## Extract clean work_history data"
   ]
  },
  {
   "cell_type": "code",
   "execution_count": 1,
   "id": "92991625",
   "metadata": {},
   "outputs": [],
   "source": [
    "import pandas as pd\n",
    "import numpy as np"
   ]
  },
  {
   "cell_type": "code",
   "execution_count": 3,
   "id": "462cc657",
   "metadata": {},
   "outputs": [
    {
     "name": "stderr",
     "output_type": "stream",
     "text": [
      "/var/folders/rt/sq9c2fwj2wz441h13l9hcfrc0000gn/T/ipykernel_1834/3892858650.py:5: FutureWarning: The error_bad_lines argument has been deprecated and will be removed in a future version. Use on_bad_lines in the future.\n",
      "\n",
      "\n",
      "  user_history = pd.read_csv(path+'user_history.tsv', sep='\\t',\n"
     ]
    }
   ],
   "source": [
    "# Load data\n",
    "path = './data_raw/'\n",
    "user_set = pd.read_csv('./data_processed/users_clean.csv')\n",
    "user_id = user_set.UserID.unique().tolist()\n",
    "user_history = pd.read_csv(path+'user_history.tsv', sep='\\t', \n",
    "                           error_bad_lines=False, \n",
    "                           #nrows=99999\n",
    "                          )\n"
   ]
  },
  {
   "cell_type": "code",
   "execution_count": 4,
   "id": "df45993a",
   "metadata": {},
   "outputs": [],
   "source": [
    "# Filter work_history for user in the list\n",
    "work_history = user_history[user_history.UserID.isin(user_id)]"
   ]
  },
  {
   "cell_type": "code",
   "execution_count": 5,
   "id": "e36e03be",
   "metadata": {},
   "outputs": [
    {
     "name": "stderr",
     "output_type": "stream",
     "text": [
      "/var/folders/rt/sq9c2fwj2wz441h13l9hcfrc0000gn/T/ipykernel_1834/2536373953.py:1: SettingWithCopyWarning: \n",
      "A value is trying to be set on a copy of a slice from a DataFrame\n",
      "\n",
      "See the caveats in the documentation: https://pandas.pydata.org/pandas-docs/stable/user_guide/indexing.html#returning-a-view-versus-a-copy\n",
      "  work_history.dropna(axis=0, subset=[\"JobTitle\"], inplace=True)\n"
     ]
    }
   ],
   "source": [
    "work_history.dropna(axis=0, subset=[\"JobTitle\"], inplace=True)"
   ]
  },
  {
   "cell_type": "code",
   "execution_count": 6,
   "id": "cf18d769",
   "metadata": {},
   "outputs": [],
   "source": [
    "work_history.to_csv('./data_processed/work_history.csv', header=True, index=False)"
   ]
  },
  {
   "cell_type": "code",
   "execution_count": null,
   "id": "a2df8a21",
   "metadata": {},
   "outputs": [],
   "source": []
  }
 ],
 "metadata": {
  "kernelspec": {
   "display_name": "Python 3 (ipykernel)",
   "language": "python",
   "name": "python3"
  },
  "language_info": {
   "codemirror_mode": {
    "name": "ipython",
    "version": 3
   },
   "file_extension": ".py",
   "mimetype": "text/x-python",
   "name": "python",
   "nbconvert_exporter": "python",
   "pygments_lexer": "ipython3",
   "version": "3.9.12"
  }
 },
 "nbformat": 4,
 "nbformat_minor": 5
}
