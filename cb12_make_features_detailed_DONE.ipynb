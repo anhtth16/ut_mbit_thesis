{
 "cells": [
  {
   "cell_type": "markdown",
   "id": "932235ff",
   "metadata": {},
   "source": [
    "# Build feature vector for a random test user\n",
    "## => Wrap all steps in section 1 as a .py file (make_features.py) to reuse any test user_id\n",
    "\n",
    "ASSUMPTION\n",
    "- Warm users (already have information in user_set)\n",
    "- With work history (already have information in work_history)\n",
    "\n",
    "INPUT:\n",
    "- tfidf_matrix: TF-IDF jobs\n",
    "- word_history_tf_matrix: TF-IDF work history matrix\n",
    "- list of top 15% popular jobs\n",
    "- 3 user-defined functions for matching City, State, Countr"
   ]
  },
  {
   "cell_type": "code",
   "execution_count": 1,
   "id": "3a8f0345",
   "metadata": {},
   "outputs": [],
   "source": [
    "import caffeine\n",
    "caffeine.on(display=False)"
   ]
  },
  {
   "cell_type": "code",
   "execution_count": 2,
   "id": "23e5770c",
   "metadata": {},
   "outputs": [],
   "source": [
    "import pandas as pd\n",
    "import numpy as np\n",
    "from sklearn.feature_extraction.text import TfidfVectorizer\n",
    "from tqdm import tqdm"
   ]
  },
  {
   "cell_type": "markdown",
   "id": "d782316d",
   "metadata": {},
   "source": [
    "# 1. Pipeline for building features"
   ]
  },
  {
   "cell_type": "markdown",
   "id": "ec49b92b",
   "metadata": {},
   "source": [
    "## Import existing datasets"
   ]
  },
  {
   "cell_type": "code",
   "execution_count": 3,
   "id": "56d1a602",
   "metadata": {},
   "outputs": [
    {
     "name": "stderr",
     "output_type": "stream",
     "text": [
      "/var/folders/rt/sq9c2fwj2wz441h13l9hcfrc0000gn/T/ipykernel_9481/2303771111.py:2: DtypeWarning: Columns (8) have mixed types. Specify dtype option on import or set low_memory=False.\n",
      "  job_set = pd.read_csv(\"./data_processed/jobset_clean.csv\")\n"
     ]
    }
   ],
   "source": [
    "# Load clean job data\n",
    "job_set = pd.read_csv(\"./data_processed/jobset_clean.csv\")\n",
    "# Load the dataset from Step 3\n",
    "user_set = pd.read_csv(\"./data_interim/user_set_cleaned.csv\")\n",
    "dataset = pd.read_csv(\"./data_interim/dataset_cleaned.csv\")\n",
    "work_history = pd.read_csv('./data_interim/work_history_cleaned.csv')"
   ]
  },
  {
   "cell_type": "code",
   "execution_count": 4,
   "id": "37c2ea57",
   "metadata": {},
   "outputs": [],
   "source": [
    "# Load top 15% popular jobs\n",
    "top_15_jobs = pd.read_csv('./data_interim/top15_jobs.csv')"
   ]
  },
  {
   "cell_type": "code",
   "execution_count": 5,
   "id": "c20c4c1f",
   "metadata": {},
   "outputs": [
    {
     "data": {
      "text/plain": [
       "14721"
      ]
     },
     "execution_count": 5,
     "metadata": {},
     "output_type": "execute_result"
    }
   ],
   "source": [
    "len(top_15_jobs)"
   ]
  },
  {
   "cell_type": "code",
   "execution_count": 6,
   "id": "9f344f96",
   "metadata": {},
   "outputs": [
    {
     "data": {
      "text/html": [
       "<div>\n",
       "<style scoped>\n",
       "    .dataframe tbody tr th:only-of-type {\n",
       "        vertical-align: middle;\n",
       "    }\n",
       "\n",
       "    .dataframe tbody tr th {\n",
       "        vertical-align: top;\n",
       "    }\n",
       "\n",
       "    .dataframe thead th {\n",
       "        text-align: right;\n",
       "    }\n",
       "</style>\n",
       "<table border=\"1\" class=\"dataframe\">\n",
       "  <thead>\n",
       "    <tr style=\"text-align: right;\">\n",
       "      <th></th>\n",
       "      <th>JobID</th>\n",
       "      <th>count_job</th>\n",
       "      <th>freq</th>\n",
       "      <th>cum_freq</th>\n",
       "    </tr>\n",
       "  </thead>\n",
       "  <tbody>\n",
       "    <tr>\n",
       "      <th>0</th>\n",
       "      <td>900797</td>\n",
       "      <td>45</td>\n",
       "      <td>0.000078</td>\n",
       "      <td>0.000078</td>\n",
       "    </tr>\n",
       "    <tr>\n",
       "      <th>1</th>\n",
       "      <td>1050711</td>\n",
       "      <td>41</td>\n",
       "      <td>0.000071</td>\n",
       "      <td>0.000148</td>\n",
       "    </tr>\n",
       "    <tr>\n",
       "      <th>2</th>\n",
       "      <td>608463</td>\n",
       "      <td>39</td>\n",
       "      <td>0.000067</td>\n",
       "      <td>0.000216</td>\n",
       "    </tr>\n",
       "    <tr>\n",
       "      <th>3</th>\n",
       "      <td>601126</td>\n",
       "      <td>37</td>\n",
       "      <td>0.000064</td>\n",
       "      <td>0.000279</td>\n",
       "    </tr>\n",
       "    <tr>\n",
       "      <th>4</th>\n",
       "      <td>802205</td>\n",
       "      <td>36</td>\n",
       "      <td>0.000062</td>\n",
       "      <td>0.000342</td>\n",
       "    </tr>\n",
       "  </tbody>\n",
       "</table>\n",
       "</div>"
      ],
      "text/plain": [
       "     JobID  count_job      freq  cum_freq\n",
       "0   900797         45  0.000078  0.000078\n",
       "1  1050711         41  0.000071  0.000148\n",
       "2   608463         39  0.000067  0.000216\n",
       "3   601126         37  0.000064  0.000279\n",
       "4   802205         36  0.000062  0.000342"
      ]
     },
     "execution_count": 6,
     "metadata": {},
     "output_type": "execute_result"
    }
   ],
   "source": [
    "top_15_jobs.head()"
   ]
  },
  {
   "cell_type": "markdown",
   "id": "d724102d",
   "metadata": {},
   "source": [
    "## Import TF-IDF vectorizers \n",
    "- Loading pre-trained vectorizers\n",
    "- Loading result of existing vector for jobs and work history"
   ]
  },
  {
   "cell_type": "markdown",
   "id": "02de7e75",
   "metadata": {},
   "source": [
    "FYI: TF-IDF on the combination of Title & Description & Requirements\n",
    "tf = TfidfVectorizer(analyzer='word',\n",
    "                     ngram_range=(1, 2),\n",
    "                     min_df=5, \n",
    "                     max_features=100, \n",
    "                     stop_words='english')\n",
    "tfidf_matrix = tf.fit_transform(job_set['word'])\n",
    "\n",
    "FYI: \n",
    "word_history_tf = TfidfVectorizer(analyzer='word',\n",
    "                                  ngram_range=(1, 2),\n",
    "                                  min_df=0, \n",
    "                                  max_features=50, \n",
    "                                  stop_words='english')\n"
   ]
  },
  {
   "cell_type": "code",
   "execution_count": 7,
   "id": "77ea37c7",
   "metadata": {},
   "outputs": [],
   "source": [
    "import pickle\n",
    "\n",
    "# For jobs: tf\n",
    "tf_path = './output_baseline/job_tf.pickle'\n",
    "tf = pickle.load(open(tf_path, 'rb'))\n",
    "\n",
    "# For work_history: word_history_tf\n",
    "work_history_tf_path = './output_baseline/work_history_tf.pickle'\n",
    "word_history_tf = pickle.load(open(work_history_tf_path, 'rb'))"
   ]
  },
  {
   "cell_type": "code",
   "execution_count": 12,
   "id": "ee89b400",
   "metadata": {},
   "outputs": [],
   "source": [
    "from scipy import sparse\n",
    "\n",
    "tfidf_matrix = sparse.load_npz(\"./output_baseline/tfidf_matrix.npz\")\n",
    "word_history_tf_matrix = sparse.load_npz(\"./output_baseline/work_history_tf_matrix.npz\")"
   ]
  },
  {
   "cell_type": "code",
   "execution_count": 13,
   "id": "0ad6d1cf",
   "metadata": {},
   "outputs": [
    {
     "data": {
      "text/plain": [
       "(1050509, 100)"
      ]
     },
     "execution_count": 13,
     "metadata": {},
     "output_type": "execute_result"
    }
   ],
   "source": [
    "# check shape of the matrix. should be:\n",
    "# <1050509x100 sparse matrix of type '<class 'numpy.float64'>'\n",
    "#\twith 31754477 stored elements in Compressed Sparse Row format>\n",
    "\n",
    "tfidf_matrix.shape"
   ]
  },
  {
   "cell_type": "code",
   "execution_count": 14,
   "id": "53b93515",
   "metadata": {},
   "outputs": [
    {
     "data": {
      "text/plain": [
       "(152292, 50)"
      ]
     },
     "execution_count": 14,
     "metadata": {},
     "output_type": "execute_result"
    }
   ],
   "source": [
    "# check shape of the matrix. should be:\n",
    "#<152292x50 sparse matrix of type '<class 'numpy.float64'>'\n",
    "#\twith 327656 stored elements in Compressed Sparse Row format>\n",
    "word_history_tf_matrix.shape"
   ]
  },
  {
   "cell_type": "markdown",
   "id": "a0d7c3b8",
   "metadata": {},
   "source": [
    "## Build groups dataframe with following columns\n",
    "- UserID\n",
    "- JobID\n",
    "- Check CIty\n",
    "- Check Country\n",
    "- Check State"
   ]
  },
  {
   "cell_type": "code",
   "execution_count": 15,
   "id": "2bedff24",
   "metadata": {},
   "outputs": [],
   "source": [
    "# Build all (User_ID, Job_ID) pairs and calculate matching City, State, Country\n",
    "def get_city_match(user_id, job_id):\n",
    "    user = user_set[user_set['UserID'] == user_id].iloc[0]\n",
    "    job = job_set[job_set['JobID'] == job_id].iloc[0]\n",
    "    return float(user['City'] == job['City'])\n",
    "def get_state_match(user_id, job_id):\n",
    "    user = user_set[user_set['UserID'] == user_id].iloc[0]\n",
    "    job = job_set[job_set['JobID'] == job_id].iloc[0]\n",
    "    return float(user['State'] == job['State'])\n",
    "def get_country_match(user_id, job_id):\n",
    "    user = user_set[user_set['UserID'] == user_id].iloc[0]\n",
    "    job = job_set[job_set['JobID'] == job_id].iloc[0]\n",
    "    return float(user['Country'] == job['Country'])"
   ]
  },
  {
   "cell_type": "code",
   "execution_count": 16,
   "id": "2797b66b",
   "metadata": {},
   "outputs": [],
   "source": [
    "test_uid = 7\n",
    "groups = top_15_jobs.copy()\n",
    "groups['UserID'] = test_uid\n",
    "groups.drop(columns=['count_job','freq','cum_freq'], axis=1, inplace=True)"
   ]
  },
  {
   "cell_type": "code",
   "execution_count": 17,
   "id": "98cc0387",
   "metadata": {},
   "outputs": [
    {
     "data": {
      "text/html": [
       "<div>\n",
       "<style scoped>\n",
       "    .dataframe tbody tr th:only-of-type {\n",
       "        vertical-align: middle;\n",
       "    }\n",
       "\n",
       "    .dataframe tbody tr th {\n",
       "        vertical-align: top;\n",
       "    }\n",
       "\n",
       "    .dataframe thead th {\n",
       "        text-align: right;\n",
       "    }\n",
       "</style>\n",
       "<table border=\"1\" class=\"dataframe\">\n",
       "  <thead>\n",
       "    <tr style=\"text-align: right;\">\n",
       "      <th></th>\n",
       "      <th>JobID</th>\n",
       "      <th>UserID</th>\n",
       "    </tr>\n",
       "  </thead>\n",
       "  <tbody>\n",
       "    <tr>\n",
       "      <th>0</th>\n",
       "      <td>900797</td>\n",
       "      <td>7</td>\n",
       "    </tr>\n",
       "    <tr>\n",
       "      <th>1</th>\n",
       "      <td>1050711</td>\n",
       "      <td>7</td>\n",
       "    </tr>\n",
       "    <tr>\n",
       "      <th>2</th>\n",
       "      <td>608463</td>\n",
       "      <td>7</td>\n",
       "    </tr>\n",
       "    <tr>\n",
       "      <th>3</th>\n",
       "      <td>601126</td>\n",
       "      <td>7</td>\n",
       "    </tr>\n",
       "    <tr>\n",
       "      <th>4</th>\n",
       "      <td>802205</td>\n",
       "      <td>7</td>\n",
       "    </tr>\n",
       "  </tbody>\n",
       "</table>\n",
       "</div>"
      ],
      "text/plain": [
       "     JobID  UserID\n",
       "0   900797       7\n",
       "1  1050711       7\n",
       "2   608463       7\n",
       "3   601126       7\n",
       "4   802205       7"
      ]
     },
     "execution_count": 17,
     "metadata": {},
     "output_type": "execute_result"
    }
   ],
   "source": [
    "groups.head()"
   ]
  },
  {
   "cell_type": "code",
   "execution_count": 21,
   "id": "9a8921c0",
   "metadata": {},
   "outputs": [
    {
     "name": "stdout",
     "output_type": "stream",
     "text": [
      "CPU times: user 42.1 s, sys: 1.85 s, total: 43.9 s\n",
      "Wall time: 23.9 s\n"
     ]
    }
   ],
   "source": [
    "%%time\n",
    "groups['City'] = groups.apply(lambda x: get_city_match(x.UserID, x.JobID), axis=1)\n"
   ]
  },
  {
   "cell_type": "code",
   "execution_count": 22,
   "id": "fa6ceb65",
   "metadata": {},
   "outputs": [
    {
     "name": "stdout",
     "output_type": "stream",
     "text": [
      "CPU times: user 45 s, sys: 1.91 s, total: 46.9 s\n",
      "Wall time: 25.7 s\n"
     ]
    }
   ],
   "source": [
    "%%time\n",
    "groups['State'] = groups.apply(lambda x: get_state_match(x.UserID, x.JobID), axis=1)\n"
   ]
  },
  {
   "cell_type": "code",
   "execution_count": 23,
   "id": "afa51e73",
   "metadata": {},
   "outputs": [
    {
     "name": "stdout",
     "output_type": "stream",
     "text": [
      "CPU times: user 42.7 s, sys: 1.83 s, total: 44.5 s\n",
      "Wall time: 24.6 s\n"
     ]
    }
   ],
   "source": [
    "%%time\n",
    "groups['Country'] = groups.apply(lambda x: get_country_match(x.UserID, x.JobID), axis=1)\n"
   ]
  },
  {
   "cell_type": "code",
   "execution_count": 24,
   "id": "7e721ee6",
   "metadata": {},
   "outputs": [
    {
     "data": {
      "text/html": [
       "<div>\n",
       "<style scoped>\n",
       "    .dataframe tbody tr th:only-of-type {\n",
       "        vertical-align: middle;\n",
       "    }\n",
       "\n",
       "    .dataframe tbody tr th {\n",
       "        vertical-align: top;\n",
       "    }\n",
       "\n",
       "    .dataframe thead th {\n",
       "        text-align: right;\n",
       "    }\n",
       "</style>\n",
       "<table border=\"1\" class=\"dataframe\">\n",
       "  <thead>\n",
       "    <tr style=\"text-align: right;\">\n",
       "      <th></th>\n",
       "      <th>JobID</th>\n",
       "      <th>UserID</th>\n",
       "      <th>City</th>\n",
       "      <th>State</th>\n",
       "      <th>Country</th>\n",
       "    </tr>\n",
       "  </thead>\n",
       "  <tbody>\n",
       "    <tr>\n",
       "      <th>0</th>\n",
       "      <td>900797</td>\n",
       "      <td>7</td>\n",
       "      <td>0.0</td>\n",
       "      <td>0.0</td>\n",
       "      <td>1.0</td>\n",
       "    </tr>\n",
       "    <tr>\n",
       "      <th>1</th>\n",
       "      <td>1050711</td>\n",
       "      <td>7</td>\n",
       "      <td>0.0</td>\n",
       "      <td>0.0</td>\n",
       "      <td>1.0</td>\n",
       "    </tr>\n",
       "    <tr>\n",
       "      <th>2</th>\n",
       "      <td>608463</td>\n",
       "      <td>7</td>\n",
       "      <td>0.0</td>\n",
       "      <td>0.0</td>\n",
       "      <td>1.0</td>\n",
       "    </tr>\n",
       "    <tr>\n",
       "      <th>3</th>\n",
       "      <td>601126</td>\n",
       "      <td>7</td>\n",
       "      <td>0.0</td>\n",
       "      <td>0.0</td>\n",
       "      <td>1.0</td>\n",
       "    </tr>\n",
       "    <tr>\n",
       "      <th>4</th>\n",
       "      <td>802205</td>\n",
       "      <td>7</td>\n",
       "      <td>0.0</td>\n",
       "      <td>0.0</td>\n",
       "      <td>1.0</td>\n",
       "    </tr>\n",
       "  </tbody>\n",
       "</table>\n",
       "</div>"
      ],
      "text/plain": [
       "     JobID  UserID  City  State  Country\n",
       "0   900797       7   0.0    0.0      1.0\n",
       "1  1050711       7   0.0    0.0      1.0\n",
       "2   608463       7   0.0    0.0      1.0\n",
       "3   601126       7   0.0    0.0      1.0\n",
       "4   802205       7   0.0    0.0      1.0"
      ]
     },
     "execution_count": 24,
     "metadata": {},
     "output_type": "execute_result"
    }
   ],
   "source": [
    "groups.head()"
   ]
  },
  {
   "cell_type": "markdown",
   "id": "803c1c0b",
   "metadata": {},
   "source": [
    "## Build feature vector for given test user id (u_id = 7)"
   ]
  },
  {
   "cell_type": "code",
   "execution_count": 25,
   "id": "9019151e",
   "metadata": {},
   "outputs": [],
   "source": [
    "X_rec = np.zeros((1,159))"
   ]
  },
  {
   "cell_type": "code",
   "execution_count": 27,
   "id": "d4ac5001",
   "metadata": {},
   "outputs": [
    {
     "data": {
      "text/html": [
       "<div>\n",
       "<style scoped>\n",
       "    .dataframe tbody tr th:only-of-type {\n",
       "        vertical-align: middle;\n",
       "    }\n",
       "\n",
       "    .dataframe tbody tr th {\n",
       "        vertical-align: top;\n",
       "    }\n",
       "\n",
       "    .dataframe thead th {\n",
       "        text-align: right;\n",
       "    }\n",
       "</style>\n",
       "<table border=\"1\" class=\"dataframe\">\n",
       "  <thead>\n",
       "    <tr style=\"text-align: right;\">\n",
       "      <th></th>\n",
       "      <th>DegreeType</th>\n",
       "      <th>WorkHistoryCount</th>\n",
       "      <th>TotalYearsExperience</th>\n",
       "      <th>CurrentlyEmployed</th>\n",
       "      <th>ManagedOthers</th>\n",
       "      <th>ManagedHowMany</th>\n",
       "    </tr>\n",
       "  </thead>\n",
       "  <tbody>\n",
       "    <tr>\n",
       "      <th>50231</th>\n",
       "      <td>1</td>\n",
       "      <td>2</td>\n",
       "      <td>13.0</td>\n",
       "      <td>1</td>\n",
       "      <td>0</td>\n",
       "      <td>0</td>\n",
       "    </tr>\n",
       "  </tbody>\n",
       "</table>\n",
       "</div>"
      ],
      "text/plain": [
       "       DegreeType  WorkHistoryCount  TotalYearsExperience  CurrentlyEmployed  \\\n",
       "50231           1                 2                  13.0                  1   \n",
       "\n",
       "       ManagedOthers  ManagedHowMany  \n",
       "50231              0               0  "
      ]
     },
     "execution_count": 27,
     "metadata": {},
     "output_type": "execute_result"
    }
   ],
   "source": [
    "# Get user profile\n",
    "u_id = test_uid\n",
    "user = user_set[user_set.UserID==u_id][[\"DegreeType\", \"WorkHistoryCount\", \n",
    "                                            \"TotalYearsExperience\", \"CurrentlyEmployed\", \n",
    "                                            \"ManagedOthers\", \"ManagedHowMany\"]]\n",
    "user"
   ]
  },
  {
   "cell_type": "code",
   "execution_count": 28,
   "id": "7b930d25",
   "metadata": {},
   "outputs": [
    {
     "name": "stdout",
     "output_type": "stream",
     "text": [
      "50231\n"
     ]
    },
    {
     "data": {
      "text/plain": [
       "array([[0.        , 0.        , 0.        , 0.        , 0.        ,\n",
       "        0.        , 0.        , 0.        , 0.        , 0.        ,\n",
       "        0.        , 0.        , 0.        , 0.        , 0.        ,\n",
       "        0.        , 0.        , 0.        , 0.        , 0.        ,\n",
       "        0.        , 0.        , 0.        , 0.        , 0.        ,\n",
       "        0.        , 0.467288  , 0.        , 0.        , 0.        ,\n",
       "        0.69007561, 0.        , 0.        , 0.        , 0.        ,\n",
       "        0.        , 0.        , 0.        , 0.55266407, 0.        ,\n",
       "        0.        , 0.        , 0.        , 0.        , 0.        ,\n",
       "        0.        , 0.        , 0.        , 0.        , 0.        ]])"
      ]
     },
     "execution_count": 28,
     "metadata": {},
     "output_type": "execute_result"
    }
   ],
   "source": [
    "# Get embedded feature for work_history of this user\n",
    "u_idx = user.index.values[0]\n",
    "print(u_idx)\n",
    "word_history_tf_matrix[u_idx,:].toarray()"
   ]
  },
  {
   "cell_type": "code",
   "execution_count": 29,
   "id": "b755d176",
   "metadata": {},
   "outputs": [
    {
     "name": "stdout",
     "output_type": "stream",
     "text": [
      "user feature:  [[ 1.          2.         13.          1.          0.          0.\n",
      "   0.          0.          0.          0.          0.          0.\n",
      "   0.          0.          0.          0.          0.          0.\n",
      "   0.          0.          0.          0.          0.          0.\n",
      "   0.          0.          0.          0.          0.          0.\n",
      "   0.          0.          0.467288    0.          0.          0.\n",
      "   0.69007561  0.          0.          0.          0.          0.\n",
      "   0.          0.          0.55266407  0.          0.          0.\n",
      "   0.          0.          0.          0.          0.          0.\n",
      "   0.          0.        ]]\n"
     ]
    }
   ],
   "source": [
    "# Get user_feature\n",
    "user_feature = np.concatenate((user.values, word_history_tf_matrix[u_idx,:].toarray()),axis=1)\n",
    "print('user feature: ', user_feature)"
   ]
  },
  {
   "cell_type": "code",
   "execution_count": 30,
   "id": "e741c431",
   "metadata": {},
   "outputs": [
    {
     "name": "stdout",
     "output_type": "stream",
     "text": [
      "jobs applied by the user:  [ 900797 1050711  608463 ...  496068  701594  617190]\n"
     ]
    }
   ],
   "source": [
    "# Get list of jobs \n",
    "job_id_list = groups.JobID.values\n",
    "jobs = job_set[job_set.JobID.isin(job_id_list)]\n",
    "print('jobs applied by the user: ', job_id_list)"
   ]
  },
  {
   "cell_type": "code",
   "execution_count": 31,
   "id": "d8d06fbd",
   "metadata": {},
   "outputs": [
    {
     "data": {
      "text/html": [
       "<div>\n",
       "<style scoped>\n",
       "    .dataframe tbody tr th:only-of-type {\n",
       "        vertical-align: middle;\n",
       "    }\n",
       "\n",
       "    .dataframe tbody tr th {\n",
       "        vertical-align: top;\n",
       "    }\n",
       "\n",
       "    .dataframe thead th {\n",
       "        text-align: right;\n",
       "    }\n",
       "</style>\n",
       "<table border=\"1\" class=\"dataframe\">\n",
       "  <thead>\n",
       "    <tr style=\"text-align: right;\">\n",
       "      <th></th>\n",
       "      <th>JobID</th>\n",
       "      <th>WindowID</th>\n",
       "      <th>Title</th>\n",
       "      <th>Description</th>\n",
       "      <th>Requirements</th>\n",
       "      <th>City</th>\n",
       "      <th>State</th>\n",
       "      <th>Country</th>\n",
       "      <th>Zip5</th>\n",
       "      <th>StartDate</th>\n",
       "      <th>EndDate</th>\n",
       "    </tr>\n",
       "  </thead>\n",
       "  <tbody>\n",
       "    <tr>\n",
       "      <th>10</th>\n",
       "      <td>15</td>\n",
       "      <td>1</td>\n",
       "      <td>Administrative Assistant</td>\n",
       "      <td>This Administrative Assistant position is resp...</td>\n",
       "      <td>Please refer to the Job Description to view th...</td>\n",
       "      <td>Los Angeles</td>\n",
       "      <td>CA</td>\n",
       "      <td>US</td>\n",
       "      <td>90011</td>\n",
       "      <td>2012-03-09 01:12:16.81</td>\n",
       "      <td>2012-04-08 23:59:59</td>\n",
       "    </tr>\n",
       "    <tr>\n",
       "      <th>102</th>\n",
       "      <td>268</td>\n",
       "      <td>1</td>\n",
       "      <td>COMM FIBER TECHNICIAN</td>\n",
       "      <td>COMM FIBER TECHNICIAN BA18666 Min 3 yr exp ins...</td>\n",
       "      <td>Please refer to the Job Description to view th...</td>\n",
       "      <td>Rosedale</td>\n",
       "      <td>MD</td>\n",
       "      <td>US</td>\n",
       "      <td>21237</td>\n",
       "      <td>2012-03-28 07:31:04.24</td>\n",
       "      <td>2012-04-27 23:59:59</td>\n",
       "    </tr>\n",
       "    <tr>\n",
       "      <th>193</th>\n",
       "      <td>550</td>\n",
       "      <td>1</td>\n",
       "      <td>MDNOW Urgent Care Front Desk</td>\n",
       "      <td>MDNOW Urgent Care Front Desk -  WE ARE GROWING...</td>\n",
       "      <td>Please refer to the Job Description to view th...</td>\n",
       "      <td>Coral Springs</td>\n",
       "      <td>FL</td>\n",
       "      <td>US</td>\n",
       "      <td>33076</td>\n",
       "      <td>2012-04-06 10:05:55.02</td>\n",
       "      <td>2012-05-05 23:59:59</td>\n",
       "    </tr>\n",
       "    <tr>\n",
       "      <th>195</th>\n",
       "      <td>556</td>\n",
       "      <td>1</td>\n",
       "      <td>CONSTRUCTION Equipment Operators Pipe Fitters ...</td>\n",
       "      <td>CONSTRUCTION Equipment Operators  Pipe Fitters...</td>\n",
       "      <td>Please refer to the Job Description to view th...</td>\n",
       "      <td>Fort Lauderdale</td>\n",
       "      <td>FL</td>\n",
       "      <td>US</td>\n",
       "      <td>NaN</td>\n",
       "      <td>2012-04-07 04:48:59.52</td>\n",
       "      <td>2012-05-06 23:59:59</td>\n",
       "    </tr>\n",
       "    <tr>\n",
       "      <th>246</th>\n",
       "      <td>788</td>\n",
       "      <td>1</td>\n",
       "      <td>Driver CDL A or B</td>\n",
       "      <td>Driver CDL A or B    CB338115 Romeoville    Ne...</td>\n",
       "      <td>Please refer to the Job Description to view th...</td>\n",
       "      <td>Romeoville</td>\n",
       "      <td>IL</td>\n",
       "      <td>US</td>\n",
       "      <td>60446</td>\n",
       "      <td>2012-04-05 05:10:21.52</td>\n",
       "      <td>2012-05-04 23:59:59</td>\n",
       "    </tr>\n",
       "    <tr>\n",
       "      <th>...</th>\n",
       "      <td>...</td>\n",
       "      <td>...</td>\n",
       "      <td>...</td>\n",
       "      <td>...</td>\n",
       "      <td>...</td>\n",
       "      <td>...</td>\n",
       "      <td>...</td>\n",
       "      <td>...</td>\n",
       "      <td>...</td>\n",
       "      <td>...</td>\n",
       "      <td>...</td>\n",
       "    </tr>\n",
       "    <tr>\n",
       "      <th>1049907</th>\n",
       "      <td>1108911</td>\n",
       "      <td>7</td>\n",
       "      <td>Production Supervisor</td>\n",
       "      <td>Job Summary: Ascend Personnel Services is curr...</td>\n",
       "      <td>Qualifications:To perform this job successfull...</td>\n",
       "      <td>Modesto</td>\n",
       "      <td>CA</td>\n",
       "      <td>US</td>\n",
       "      <td>NaN</td>\n",
       "      <td>2012-05-24 13:07:35.197</td>\n",
       "      <td>2012-06-23 23:59:00</td>\n",
       "    </tr>\n",
       "    <tr>\n",
       "      <th>1050132</th>\n",
       "      <td>1112794</td>\n",
       "      <td>7</td>\n",
       "      <td>Customer Service Representatives</td>\n",
       "      <td>Customer Service Representatives   Seasonal Be...</td>\n",
       "      <td>Experience using Microsoft Office Suite ap...</td>\n",
       "      <td>South Jordan</td>\n",
       "      <td>UT</td>\n",
       "      <td>US</td>\n",
       "      <td>84095.0</td>\n",
       "      <td>2012-05-29 09:18:15.267</td>\n",
       "      <td>2012-06-28 23:59:00</td>\n",
       "    </tr>\n",
       "    <tr>\n",
       "      <th>1050340</th>\n",
       "      <td>1114960</td>\n",
       "      <td>7</td>\n",
       "      <td>Hotel   Resort and Restaurant Mangers</td>\n",
       "      <td>Hotel Resort and Restaurant Management  Size ...</td>\n",
       "      <td>Strong leadership skills, Great organization s...</td>\n",
       "      <td>Miami</td>\n",
       "      <td>FL</td>\n",
       "      <td>US</td>\n",
       "      <td>NaN</td>\n",
       "      <td>2012-06-29 02:09:26.583</td>\n",
       "      <td>2012-07-28 23:59:59</td>\n",
       "    </tr>\n",
       "    <tr>\n",
       "      <th>1050429</th>\n",
       "      <td>1115793</td>\n",
       "      <td>7</td>\n",
       "      <td>Entry Level Office Assistant</td>\n",
       "      <td>Staffing Firm in Midtown is looking for Entry ...</td>\n",
       "      <td>H.S. Diploma a must; B.A. preferred.Must know ...</td>\n",
       "      <td>New York</td>\n",
       "      <td>NY</td>\n",
       "      <td>US</td>\n",
       "      <td>10017.0</td>\n",
       "      <td>2012-06-04 19:20:45.887</td>\n",
       "      <td>2012-07-03 23:59:00</td>\n",
       "    </tr>\n",
       "    <tr>\n",
       "      <th>1050478</th>\n",
       "      <td>1116067</td>\n",
       "      <td>7</td>\n",
       "      <td>Administrative Assistant</td>\n",
       "      <td>Provides top-notch administrative assistance t...</td>\n",
       "      <td>High school diploma or equivalent plus 2-5 ye...</td>\n",
       "      <td>Washington</td>\n",
       "      <td>DC</td>\n",
       "      <td>US</td>\n",
       "      <td>NaN</td>\n",
       "      <td>2012-06-29 15:32:18.233</td>\n",
       "      <td>2012-07-28 23:59:59</td>\n",
       "    </tr>\n",
       "  </tbody>\n",
       "</table>\n",
       "<p>14721 rows × 11 columns</p>\n",
       "</div>"
      ],
      "text/plain": [
       "           JobID  WindowID                                              Title  \\\n",
       "10            15         1                           Administrative Assistant   \n",
       "102          268         1                              COMM FIBER TECHNICIAN   \n",
       "193          550         1                       MDNOW Urgent Care Front Desk   \n",
       "195          556         1  CONSTRUCTION Equipment Operators Pipe Fitters ...   \n",
       "246          788         1                                  Driver CDL A or B   \n",
       "...          ...       ...                                                ...   \n",
       "1049907  1108911         7                              Production Supervisor   \n",
       "1050132  1112794         7                   Customer Service Representatives   \n",
       "1050340  1114960         7              Hotel   Resort and Restaurant Mangers   \n",
       "1050429  1115793         7                       Entry Level Office Assistant   \n",
       "1050478  1116067         7                           Administrative Assistant   \n",
       "\n",
       "                                               Description  \\\n",
       "10       This Administrative Assistant position is resp...   \n",
       "102      COMM FIBER TECHNICIAN BA18666 Min 3 yr exp ins...   \n",
       "193      MDNOW Urgent Care Front Desk -  WE ARE GROWING...   \n",
       "195      CONSTRUCTION Equipment Operators  Pipe Fitters...   \n",
       "246      Driver CDL A or B    CB338115 Romeoville    Ne...   \n",
       "...                                                    ...   \n",
       "1049907  Job Summary: Ascend Personnel Services is curr...   \n",
       "1050132  Customer Service Representatives   Seasonal Be...   \n",
       "1050340   Hotel Resort and Restaurant Management  Size ...   \n",
       "1050429  Staffing Firm in Midtown is looking for Entry ...   \n",
       "1050478  Provides top-notch administrative assistance t...   \n",
       "\n",
       "                                              Requirements             City  \\\n",
       "10       Please refer to the Job Description to view th...      Los Angeles   \n",
       "102      Please refer to the Job Description to view th...         Rosedale   \n",
       "193      Please refer to the Job Description to view th...    Coral Springs   \n",
       "195      Please refer to the Job Description to view th...  Fort Lauderdale   \n",
       "246      Please refer to the Job Description to view th...       Romeoville   \n",
       "...                                                    ...              ...   \n",
       "1049907  Qualifications:To perform this job successfull...          Modesto   \n",
       "1050132      Experience using Microsoft Office Suite ap...     South Jordan   \n",
       "1050340  Strong leadership skills, Great organization s...            Miami   \n",
       "1050429  H.S. Diploma a must; B.A. preferred.Must know ...         New York   \n",
       "1050478   High school diploma or equivalent plus 2-5 ye...       Washington   \n",
       "\n",
       "        State Country     Zip5                StartDate              EndDate  \n",
       "10         CA      US    90011   2012-03-09 01:12:16.81  2012-04-08 23:59:59  \n",
       "102        MD      US    21237   2012-03-28 07:31:04.24  2012-04-27 23:59:59  \n",
       "193        FL      US    33076   2012-04-06 10:05:55.02  2012-05-05 23:59:59  \n",
       "195        FL      US      NaN   2012-04-07 04:48:59.52  2012-05-06 23:59:59  \n",
       "246        IL      US    60446   2012-04-05 05:10:21.52  2012-05-04 23:59:59  \n",
       "...       ...     ...      ...                      ...                  ...  \n",
       "1049907    CA      US      NaN  2012-05-24 13:07:35.197  2012-06-23 23:59:00  \n",
       "1050132    UT      US  84095.0  2012-05-29 09:18:15.267  2012-06-28 23:59:00  \n",
       "1050340    FL      US      NaN  2012-06-29 02:09:26.583  2012-07-28 23:59:59  \n",
       "1050429    NY      US  10017.0  2012-06-04 19:20:45.887  2012-07-03 23:59:00  \n",
       "1050478    DC      US      NaN  2012-06-29 15:32:18.233  2012-07-28 23:59:59  \n",
       "\n",
       "[14721 rows x 11 columns]"
      ]
     },
     "execution_count": 31,
     "metadata": {},
     "output_type": "execute_result"
    }
   ],
   "source": [
    "jobs"
   ]
  },
  {
   "cell_type": "code",
   "execution_count": 32,
   "id": "41e1410f",
   "metadata": {},
   "outputs": [
    {
     "name": "stdout",
     "output_type": "stream",
     "text": [
      "combine user_feature and embeded job 14721\n"
     ]
    }
   ],
   "source": [
    "j_idx = jobs.index.values\n",
    "f = []\n",
    "\n",
    "for i in j_idx:\n",
    "    feature = np.concatenate((user_feature, tfidf_matrix[i,:].toarray()), axis=1).reshape(156,).tolist()\n",
    "    f.append(feature)\n",
    "print('combine user_feature and embeded job', len(f))\n",
    "    \n",
    "    "
   ]
  },
  {
   "cell_type": "code",
   "execution_count": 33,
   "id": "34bda912",
   "metadata": {},
   "outputs": [
    {
     "data": {
      "text/plain": [
       "156"
      ]
     },
     "execution_count": 33,
     "metadata": {},
     "output_type": "execute_result"
    }
   ],
   "source": [
    "# each element in f is  a combine feature\n",
    "len(f[0])"
   ]
  },
  {
   "cell_type": "code",
   "execution_count": 34,
   "id": "5e7ba149",
   "metadata": {},
   "outputs": [
    {
     "data": {
      "text/plain": [
       "(14721, 3)"
      ]
     },
     "execution_count": 34,
     "metadata": {},
     "output_type": "execute_result"
    }
   ],
   "source": [
    "groups[[\"City\",\"State\",\"Country\"]].values.shape"
   ]
  },
  {
   "cell_type": "code",
   "execution_count": 35,
   "id": "87e8593e",
   "metadata": {},
   "outputs": [
    {
     "data": {
      "text/plain": [
       "(14721, 156)"
      ]
     },
     "execution_count": 35,
     "metadata": {},
     "output_type": "execute_result"
    }
   ],
   "source": [
    "np.array(f).shape"
   ]
  },
  {
   "cell_type": "code",
   "execution_count": 37,
   "id": "79488432",
   "metadata": {},
   "outputs": [],
   "source": [
    "feature = np.concatenate((groups[[\"City\",\"State\", \"Country\"]].values, np.array(f)),axis=1)"
   ]
  },
  {
   "cell_type": "code",
   "execution_count": 38,
   "id": "3709ec3c",
   "metadata": {},
   "outputs": [
    {
     "data": {
      "text/plain": [
       "(14721, 159)"
      ]
     },
     "execution_count": 38,
     "metadata": {},
     "output_type": "execute_result"
    }
   ],
   "source": [
    "feature.shape"
   ]
  },
  {
   "cell_type": "code",
   "execution_count": 39,
   "id": "dbd341ed",
   "metadata": {},
   "outputs": [],
   "source": [
    "X_rec = np.concatenate((X_rec, feature), axis=0)"
   ]
  },
  {
   "cell_type": "code",
   "execution_count": 40,
   "id": "0f61e9f8",
   "metadata": {},
   "outputs": [
    {
     "data": {
      "text/plain": [
       "array([[0.        , 0.        , 0.        , ..., 0.        , 0.        ,\n",
       "        0.        ],\n",
       "       [0.        , 0.        , 1.        , ..., 0.        , 0.        ,\n",
       "        0.14746725],\n",
       "       [0.        , 0.        , 1.        , ..., 0.        , 0.        ,\n",
       "        0.        ],\n",
       "       ...,\n",
       "       [0.        , 0.        , 1.        , ..., 0.        , 0.        ,\n",
       "        0.0216625 ],\n",
       "       [0.        , 0.        , 1.        , ..., 0.        , 0.        ,\n",
       "        0.        ],\n",
       "       [0.        , 0.        , 1.        , ..., 0.14582704, 0.        ,\n",
       "        0.22056316]])"
      ]
     },
     "execution_count": 40,
     "metadata": {},
     "output_type": "execute_result"
    }
   ],
   "source": [
    "X_rec"
   ]
  },
  {
   "cell_type": "code",
   "execution_count": 60,
   "id": "9be00d76",
   "metadata": {},
   "outputs": [
    {
     "data": {
      "text/plain": [
       "(14722, 159)"
      ]
     },
     "execution_count": 60,
     "metadata": {},
     "output_type": "execute_result"
    }
   ],
   "source": [
    "X_rec.shape"
   ]
  },
  {
   "cell_type": "markdown",
   "id": "571170b2",
   "metadata": {},
   "source": [
    "# 2. Test: Make prediction for the feature using pre-trained binary cls models"
   ]
  },
  {
   "cell_type": "code",
   "execution_count": 41,
   "id": "4d8f1cb8",
   "metadata": {},
   "outputs": [],
   "source": [
    "from sklearn.linear_model import LogisticRegression, LinearRegression\n",
    "from sklearn.metrics import accuracy_score, roc_auc_score, recall_score, precision_score, f1_score, classification_report\n",
    "from sklearn.tree import DecisionTreeClassifier\n",
    "from sklearn.ensemble import RandomForestClassifier\n",
    "from sklearn.naive_bayes import GaussianNB\n",
    "from sklearn.ensemble import GradientBoostingClassifier\n",
    "from sklearn.discriminant_analysis import LinearDiscriminantAnalysis\n",
    "from sklearn.discriminant_analysis import QuadraticDiscriminantAnalysis\n",
    "import xgboost as xgb\n",
    "from xgboost import XGBClassifier\n",
    "import pickle"
   ]
  },
  {
   "cell_type": "code",
   "execution_count": 42,
   "id": "a6d78ae6",
   "metadata": {},
   "outputs": [],
   "source": [
    "import pickle\n",
    "xgbt = pickle.load(open('./output_baseline/cb12_xgbt.pikle', \"rb\")) # XGBoost RecSys"
   ]
  },
  {
   "cell_type": "code",
   "execution_count": 49,
   "id": "ad1a72ea",
   "metadata": {},
   "outputs": [],
   "source": [
    "Y_pred = xgbt.predict(X_rec)"
   ]
  },
  {
   "cell_type": "code",
   "execution_count": 50,
   "id": "1863fb4d",
   "metadata": {},
   "outputs": [],
   "source": [
    "Y_pred_pr = xgbt.predict_proba(X_rec)"
   ]
  },
  {
   "cell_type": "code",
   "execution_count": 51,
   "id": "51ec32c0",
   "metadata": {},
   "outputs": [
    {
     "data": {
      "text/plain": [
       "array([[0.54576397, 0.45423606],\n",
       "       [0.57439405, 0.42560595],\n",
       "       [0.57439405, 0.42560595],\n",
       "       ...,\n",
       "       [0.57439405, 0.42560595],\n",
       "       [0.57439405, 0.42560595],\n",
       "       [0.57439405, 0.42560595]], dtype=float32)"
      ]
     },
     "execution_count": 51,
     "metadata": {},
     "output_type": "execute_result"
    }
   ],
   "source": [
    "Y_pred_pr"
   ]
  },
  {
   "cell_type": "code",
   "execution_count": 52,
   "id": "e3e4218d",
   "metadata": {},
   "outputs": [],
   "source": [
    "Y_pred_pr_max = list(map(max, Y_rec_pr))"
   ]
  },
  {
   "cell_type": "code",
   "execution_count": 48,
   "id": "94096e92",
   "metadata": {},
   "outputs": [
    {
     "data": {
      "text/plain": [
       "array([ 900797, 1050711,  608463, ...,  496068,  701594,  617190])"
      ]
     },
     "execution_count": 48,
     "metadata": {},
     "output_type": "execute_result"
    }
   ],
   "source": [
    "job_id_list"
   ]
  },
  {
   "cell_type": "code",
   "execution_count": 55,
   "id": "012755ed",
   "metadata": {},
   "outputs": [],
   "source": [
    "rec_30items = sorted(\n",
    "        [\n",
    "            (ids_j, yprob_j, ypred_j) for yprob_j, ypred_j, ids_j in zip(Y_pred_pr_max, Y_pred, job_id_list)\n",
    "        ],\n",
    "        key=lambda x: -x[1]\n",
    "    )[0:30]"
   ]
  },
  {
   "cell_type": "code",
   "execution_count": 56,
   "id": "62ca5800",
   "metadata": {},
   "outputs": [
    {
     "data": {
      "text/plain": [
       "[(863621, 0.5926077, 1),\n",
       " (663986, 0.5926077, 1),\n",
       " (448679, 0.5926077, 1),\n",
       " (795414, 0.5926077, 1),\n",
       " (189702, 0.5926077, 1),\n",
       " (372860, 0.5926077, 1),\n",
       " (611816, 0.5926077, 1),\n",
       " (797470, 0.58266145, 1),\n",
       " (899195, 0.58266145, 1),\n",
       " (882055, 0.58266145, 1),\n",
       " (640761, 0.58266145, 1),\n",
       " (877393, 0.58266145, 1),\n",
       " (24666, 0.58266145, 1),\n",
       " (809521, 0.58266145, 1),\n",
       " (525201, 0.58266145, 1),\n",
       " (695219, 0.58266145, 1),\n",
       " (868962, 0.58266145, 1),\n",
       " (152361, 0.58266145, 1),\n",
       " (282442, 0.58266145, 1),\n",
       " (417319, 0.58266145, 1),\n",
       " (15592, 0.58266145, 1),\n",
       " (930024, 0.58266145, 1),\n",
       " (876810, 0.58266145, 1),\n",
       " (777706, 0.58266145, 1),\n",
       " (1105002, 0.58266145, 1),\n",
       " (703408, 0.58266145, 1),\n",
       " (177122, 0.58266145, 1),\n",
       " (134540, 0.58266145, 1),\n",
       " (39740, 0.58266145, 1),\n",
       " (220029, 0.58266145, 1)]"
      ]
     },
     "execution_count": 56,
     "metadata": {},
     "output_type": "execute_result"
    }
   ],
   "source": [
    "rec_30items"
   ]
  },
  {
   "cell_type": "code",
   "execution_count": 57,
   "id": "ebdc697c",
   "metadata": {},
   "outputs": [],
   "source": [
    "rec_20items = sorted(\n",
    "        [\n",
    "            (ids_j, yprob_j, ypred_j) for yprob_j, ypred_j, ids_j in zip(Y_pred_pr_max, Y_pred, job_id_list)\n",
    "        ],\n",
    "        key=lambda x: -x[1]\n",
    "    )[0:20]"
   ]
  },
  {
   "cell_type": "code",
   "execution_count": 58,
   "id": "ca5149d8",
   "metadata": {},
   "outputs": [
    {
     "data": {
      "text/plain": [
       "[(863621, 0.5926077, 1),\n",
       " (663986, 0.5926077, 1),\n",
       " (448679, 0.5926077, 1),\n",
       " (795414, 0.5926077, 1),\n",
       " (189702, 0.5926077, 1),\n",
       " (372860, 0.5926077, 1),\n",
       " (611816, 0.5926077, 1),\n",
       " (797470, 0.58266145, 1),\n",
       " (899195, 0.58266145, 1),\n",
       " (882055, 0.58266145, 1),\n",
       " (640761, 0.58266145, 1),\n",
       " (877393, 0.58266145, 1),\n",
       " (24666, 0.58266145, 1),\n",
       " (809521, 0.58266145, 1),\n",
       " (525201, 0.58266145, 1),\n",
       " (695219, 0.58266145, 1),\n",
       " (868962, 0.58266145, 1),\n",
       " (152361, 0.58266145, 1),\n",
       " (282442, 0.58266145, 1),\n",
       " (417319, 0.58266145, 1)]"
      ]
     },
     "execution_count": 58,
     "metadata": {},
     "output_type": "execute_result"
    }
   ],
   "source": [
    "rec_20items"
   ]
  },
  {
   "cell_type": "code",
   "execution_count": null,
   "id": "630e9502",
   "metadata": {},
   "outputs": [],
   "source": []
  }
 ],
 "metadata": {
  "kernelspec": {
   "display_name": "Python 3 (ipykernel)",
   "language": "python",
   "name": "python3"
  },
  "language_info": {
   "codemirror_mode": {
    "name": "ipython",
    "version": 3
   },
   "file_extension": ".py",
   "mimetype": "text/x-python",
   "name": "python",
   "nbconvert_exporter": "python",
   "pygments_lexer": "ipython3",
   "version": "3.9.12"
  }
 },
 "nbformat": 4,
 "nbformat_minor": 5
}
