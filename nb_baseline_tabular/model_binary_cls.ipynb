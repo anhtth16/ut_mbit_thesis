{
 "cells": [
  {
   "cell_type": "markdown",
   "id": "2ec510ce",
   "metadata": {},
   "source": [
    "# Train models for binary classification\n",
    "## White-box and Black-box models\n",
    "White-Box:\n",
    "\n",
    "    - Logistic Regression (logreg): cb12_logreg.pikle, \n",
    "    - Decision Tree (DT), cb12_dt.pikle\n",
    "    - Naive Bayes (NB), cb12_nb.pikle\n",
    "\n",
    "Black-box:\n",
    "\n",
    "    - Adaboost (Ada), cb12_ada.pikle\n",
    "    - Linear Discriminant Analysis (LDA) - cb12_lda.pikle, \n",
    "    - and Quadratic Discriminant Analysis (QDA) - cb12_qda.pikle\n",
    "    - XgBoost: max depth: 2, 25 trees"
   ]
  },
  {
   "cell_type": "code",
   "execution_count": 1,
   "id": "f20f64f7",
   "metadata": {},
   "outputs": [],
   "source": [
    "import pandas as pd\n",
    "import numpy as np"
   ]
  },
  {
   "cell_type": "code",
   "execution_count": 2,
   "id": "937cffd2",
   "metadata": {},
   "outputs": [],
   "source": [
    "from sklearn.linear_model import LogisticRegression, LinearRegression\n",
    "from sklearn.metrics import accuracy_score, roc_auc_score, recall_score, precision_score, f1_score, classification_report\n",
    "from sklearn.tree import DecisionTreeClassifier\n",
    "from sklearn.ensemble import RandomForestClassifier\n",
    "from sklearn.naive_bayes import GaussianNB"
   ]
  },
  {
   "cell_type": "markdown",
   "id": "32b09247",
   "metadata": {},
   "source": [
    "# Load training and testing set"
   ]
  },
  {
   "cell_type": "code",
   "execution_count": 3,
   "id": "e78ad7ad",
   "metadata": {},
   "outputs": [],
   "source": [
    "X_train = np.load('./output_baseline/X_train_159.npy')\n",
    "Y_train = np.load(\"./output_baseline/Y_train_159.npy\")\n",
    "X_test = np.load(\"./output_baseline/X_test_159.npy\")\n",
    "Y_test = np.load(\"./output_baseline/Y_test_159.npy\")"
   ]
  },
  {
   "cell_type": "code",
   "execution_count": 4,
   "id": "83d957cc",
   "metadata": {},
   "outputs": [
    {
     "data": {
      "text/plain": [
       "((563889, 159), (563889,))"
      ]
     },
     "execution_count": 4,
     "metadata": {},
     "output_type": "execute_result"
    }
   ],
   "source": [
    "X_train.shape, Y_train.shape # ((563890, 159), 563889)"
   ]
  },
  {
   "cell_type": "code",
   "execution_count": 5,
   "id": "e17c4b95",
   "metadata": {},
   "outputs": [
    {
     "data": {
      "text/plain": [
       "((15736, 159), 15736)"
      ]
     },
     "execution_count": 5,
     "metadata": {},
     "output_type": "execute_result"
    }
   ],
   "source": [
    "X_test.shape, len(Y_test) # ((15737, 159), 15736)"
   ]
  },
  {
   "cell_type": "code",
   "execution_count": 6,
   "id": "4a77bc09",
   "metadata": {},
   "outputs": [],
   "source": [
    "def show_result(y_true, y_prediction):\n",
    "    report = classification_report(y_true,y_prediction,digits=4)\n",
    "    report = report.splitlines()\n",
    "    columns = ['class'] + report[0].split()\n",
    "    col_1, col_2, col_3, col_4, col_5 = [], [], [], [], []\n",
    "    for row in report[1:]:\n",
    "        if len(row.split()) != 0:\n",
    "            row = row.split()\n",
    "            if len(row) < 5:\n",
    "                col_1.append(row[0])\n",
    "                col_2.append('')\n",
    "                col_3.append('')\n",
    "                col_4.append(row[1])\n",
    "                col_5.append(row[2])\n",
    "            elif len(row) > 5:\n",
    "                col_1.append(row[0] + ' ' + row[1])\n",
    "                col_2.append(row[2])\n",
    "                col_3.append(row[3])\n",
    "                col_4.append(row[4])\n",
    "                col_5.append(row[5])\n",
    "            else:\n",
    "                col_1.append(row[0])\n",
    "                col_2.append(row[1])\n",
    "                col_3.append(row[2])\n",
    "                col_4.append(row[3])\n",
    "                col_5.append(row[4])\n",
    "    col_1.append(\"overall\")\n",
    "    col_2.append(precision_score(y_true, y_prediction))\n",
    "    col_3.append(recall_score(y_true, y_prediction))\n",
    "    col_4.append(f1_score(y_true, y_prediction))\n",
    "    col_5.append(roc_auc_score(y_true, y_prediction))\n",
    "    result = pd.DataFrame()\n",
    "    result[columns[0]] = col_1\n",
    "    result[columns[1]] = col_2\n",
    "    result[columns[2]] = col_3\n",
    "    result[columns[3]] = col_4\n",
    "    result[columns[4]] = col_5\n",
    "    print(\"——————Test——————\")\n",
    "    print(result)"
   ]
  },
  {
   "cell_type": "markdown",
   "id": "8588400f",
   "metadata": {},
   "source": [
    "## Logistic Regression"
   ]
  },
  {
   "cell_type": "code",
   "execution_count": 11,
   "id": "24fb8799",
   "metadata": {},
   "outputs": [
    {
     "name": "stdout",
     "output_type": "stream",
     "text": [
      "——————Test——————\n",
      "          class precision    recall  f1-score   support\n",
      "0             0    0.8748    0.9542    0.9128      7868\n",
      "1             1    0.9497    0.8634    0.9045      7868\n",
      "2      accuracy                        0.9088     15736\n",
      "3     macro avg    0.9122    0.9088    0.9086     15736\n",
      "4  weighted avg    0.9122    0.9088    0.9086     15736\n",
      "5       overall  0.949671  0.863371  0.904467  0.908808\n",
      "CPU times: user 5min 8s, sys: 29.8 s, total: 5min 38s\n",
      "Wall time: 1min 28s\n"
     ]
    }
   ],
   "source": [
    "%%time\n",
    "logreg = LogisticRegression(max_iter=1000)\n",
    "logreg.fit(X_train, Y_train)\n",
    "y_pred = logreg.predict(X_test)\n",
    "show_result(Y_test, y_pred)"
   ]
  },
  {
   "cell_type": "code",
   "execution_count": 12,
   "id": "7a138be8",
   "metadata": {},
   "outputs": [],
   "source": [
    "# Save models\n",
    "import pickle\n",
    "model_name = './output_baseline/cb12_logreg.pikle'\n",
    "obj = pickle.dump(logreg, open(model_name, \"wb\"))"
   ]
  },
  {
   "cell_type": "markdown",
   "id": "7a556f03",
   "metadata": {},
   "source": [
    "## Naive Bayes"
   ]
  },
  {
   "cell_type": "code",
   "execution_count": 13,
   "id": "ddc62c7b",
   "metadata": {},
   "outputs": [
    {
     "name": "stdout",
     "output_type": "stream",
     "text": [
      "——————Test——————\n",
      "          class precision    recall  f1-score   support\n",
      "0             0    0.8754    0.9542    0.9131      7868\n",
      "1             1    0.9497    0.8641    0.9049      7868\n",
      "2      accuracy                        0.9092     15736\n",
      "3     macro avg    0.9125    0.9092    0.9090     15736\n",
      "4  weighted avg    0.9125    0.9092    0.9090     15736\n",
      "5       overall  0.949714  0.864133  0.904905  0.909189\n",
      "CPU times: user 1.27 s, sys: 728 ms, total: 1.99 s\n",
      "Wall time: 2.1 s\n"
     ]
    }
   ],
   "source": [
    "%%time\n",
    "nb = GaussianNB()\n",
    "nb.fit(X_train, Y_train)\n",
    "y_pred = nb.predict(X_test)\n",
    "show_result(Y_test, y_pred)"
   ]
  },
  {
   "cell_type": "code",
   "execution_count": 14,
   "id": "50ba9a7f",
   "metadata": {},
   "outputs": [],
   "source": [
    "# Save models\n",
    "import pickle\n",
    "model_name = './output_baseline/cb12_nb.pikle'\n",
    "obj = pickle.dump(nb, open(model_name, \"wb\"))"
   ]
  },
  {
   "cell_type": "markdown",
   "id": "98b22ae5",
   "metadata": {},
   "source": [
    "## Decision Tree"
   ]
  },
  {
   "cell_type": "code",
   "execution_count": 15,
   "id": "0a0d5914",
   "metadata": {},
   "outputs": [
    {
     "name": "stdout",
     "output_type": "stream",
     "text": [
      "——————Test——————\n",
      "          class precision    recall  f1-score   support\n",
      "0             0    0.8419    0.8454    0.8437      7868\n",
      "1             1    0.8448    0.8413    0.8430      7868\n",
      "2      accuracy                        0.8434     15736\n",
      "3     macro avg    0.8434    0.8434    0.8434     15736\n",
      "4  weighted avg    0.8434    0.8434    0.8434     15736\n",
      "5       overall  0.844799  0.841256  0.843024  0.843353\n"
     ]
    }
   ],
   "source": [
    "dt = DecisionTreeClassifier()\n",
    "dt.fit(X_train, Y_train)\n",
    "y_pred = dt.predict(X_test)\n",
    "show_result(Y_test, y_pred)"
   ]
  },
  {
   "cell_type": "code",
   "execution_count": 16,
   "id": "d99c893a",
   "metadata": {},
   "outputs": [],
   "source": [
    "# Save models\n",
    "import pickle\n",
    "model_name = './output_baseline/cb12_dt.pikle'\n",
    "obj = pickle.dump(dt, open(model_name, \"wb\"))"
   ]
  },
  {
   "cell_type": "markdown",
   "id": "be3eb387",
   "metadata": {},
   "source": [
    "## Random Forest"
   ]
  },
  {
   "cell_type": "code",
   "execution_count": 17,
   "id": "5074348e",
   "metadata": {},
   "outputs": [
    {
     "name": "stdout",
     "output_type": "stream",
     "text": [
      "——————Test——————\n",
      "          class precision    recall  f1-score   support\n",
      "0             0    0.8759    0.9487    0.9108      7868\n",
      "1             1    0.9440    0.8655    0.9031      7868\n",
      "2      accuracy                        0.9071     15736\n",
      "3     macro avg    0.9099    0.9071    0.9069     15736\n",
      "4  weighted avg    0.9099    0.9071    0.9069     15736\n",
      "5       overall  0.943998  0.865531  0.903063  0.907092\n",
      "CPU times: user 11min 7s, sys: 3.95 s, total: 11min 11s\n",
      "Wall time: 11min 13s\n"
     ]
    }
   ],
   "source": [
    "%%time\n",
    "rf = RandomForestClassifier()\n",
    "rf.fit(X_train, Y_train)\n",
    "y_pred = rf.predict(X_test)\n",
    "show_result(Y_test, y_pred)"
   ]
  },
  {
   "cell_type": "code",
   "execution_count": 18,
   "id": "8c40fabe",
   "metadata": {},
   "outputs": [],
   "source": [
    "# Save models\n",
    "import pickle\n",
    "model_name = './output_baseline/cb12_rf.pikle'\n",
    "obj = pickle.dump(rf, open(model_name, \"wb\"))"
   ]
  },
  {
   "cell_type": "markdown",
   "id": "c0b7e197",
   "metadata": {},
   "source": [
    "## AdaBoost"
   ]
  },
  {
   "cell_type": "code",
   "execution_count": 10,
   "id": "388eec78",
   "metadata": {},
   "outputs": [
    {
     "name": "stdout",
     "output_type": "stream",
     "text": [
      "——————Test——————\n",
      "          class precision    recall  f1-score   support\n",
      "0             0    0.8750    0.9542    0.9129      7868\n",
      "1             1    0.9497    0.8636    0.9046      7868\n",
      "2      accuracy                        0.9089     15736\n",
      "3     macro avg    0.9123    0.9089    0.9087     15736\n",
      "4  weighted avg    0.9123    0.9089    0.9087     15736\n",
      "5       overall  0.949686  0.863625  0.904613  0.908935\n",
      "CPU times: user 8min 50s, sys: 27.1 s, total: 9min 17s\n",
      "Wall time: 9min 21s\n"
     ]
    }
   ],
   "source": [
    "%%time\n",
    "from sklearn.ensemble import AdaBoostClassifier\n",
    "ada = AdaBoostClassifier(n_estimators=100, random_state=0)\n",
    "ada.fit(X_train, Y_train)\n",
    "y_pred = ada.predict(X_test)\n",
    "show_result(Y_test, y_pred)"
   ]
  },
  {
   "cell_type": "code",
   "execution_count": 11,
   "id": "28d69459",
   "metadata": {},
   "outputs": [],
   "source": [
    "# Save models\n",
    "import pickle\n",
    "model_name = './output_baseline/cb12_ada.pikle'\n",
    "obj = pickle.dump(ada, open(model_name, \"wb\"))"
   ]
  },
  {
   "cell_type": "markdown",
   "id": "44f1da29",
   "metadata": {},
   "source": [
    "## Linear Discriminant Analysis\n",
    "https://scikit-learn.org/stable/modules/generated/sklearn.discriminant_analysis.LinearDiscriminantAnalysis.html"
   ]
  },
  {
   "cell_type": "code",
   "execution_count": 17,
   "id": "aba21f79",
   "metadata": {},
   "outputs": [
    {
     "name": "stdout",
     "output_type": "stream",
     "text": [
      "——————Test——————\n",
      "          class precision    recall  f1-score   support\n",
      "0             0    0.8747    0.9544    0.9128      7868\n",
      "1             1    0.9498    0.8632    0.9045      7868\n",
      "2      accuracy                        0.9088     15736\n",
      "3     macro avg    0.9122    0.9088    0.9086     15736\n",
      "4  weighted avg    0.9122    0.9088    0.9086     15736\n",
      "5       overall  0.949797  0.863244  0.904454  0.908808\n",
      "CPU times: user 21.7 s, sys: 3.17 s, total: 24.8 s\n",
      "Wall time: 15.8 s\n"
     ]
    }
   ],
   "source": [
    "%%time\n",
    "from sklearn.discriminant_analysis import LinearDiscriminantAnalysis\n",
    "lda = LinearDiscriminantAnalysis()\n",
    "lda.fit(X_train, Y_train)\n",
    "y_pred = lda.predict(X_test)\n",
    "show_result(Y_test, y_pred)"
   ]
  },
  {
   "cell_type": "code",
   "execution_count": 18,
   "id": "a7949d75",
   "metadata": {},
   "outputs": [],
   "source": [
    "# Save models\n",
    "import pickle\n",
    "model_name = './output_baseline/cb12_lda.pikle'\n",
    "obj = pickle.dump(lda, open(model_name, \"wb\"))"
   ]
  },
  {
   "cell_type": "markdown",
   "id": "892ea8de",
   "metadata": {},
   "source": [
    "## Quadratic Discriminant Analysis\n",
    "https://scikit-learn.org/stable/modules/generated/sklearn.discriminant_analysis.QuadraticDiscriminantAnalysis.html"
   ]
  },
  {
   "cell_type": "code",
   "execution_count": 19,
   "id": "7e23d9b9",
   "metadata": {},
   "outputs": [
    {
     "name": "stdout",
     "output_type": "stream",
     "text": [
      "——————Test——————\n",
      "          class precision   recall  f1-score   support\n",
      "0             0    0.8751   0.9512    0.9116      7868\n",
      "1             1    0.9465   0.8643    0.9035      7868\n",
      "2      accuracy                       0.9077     15736\n",
      "3     macro avg    0.9108   0.9077    0.9076     15736\n",
      "4  weighted avg    0.9108   0.9077    0.9076     15736\n",
      "5       overall  0.946548  0.86426  0.903534  0.907728\n",
      "CPU times: user 38.2 s, sys: 3.09 s, total: 41.3 s\n",
      "Wall time: 14.4 s\n"
     ]
    }
   ],
   "source": [
    "%%time\n",
    "from sklearn.discriminant_analysis import QuadraticDiscriminantAnalysis\n",
    "qda = QuadraticDiscriminantAnalysis()\n",
    "qda.fit(X_train, Y_train)\n",
    "y_pred = qda.predict(X_test)\n",
    "show_result(Y_test, y_pred)"
   ]
  },
  {
   "cell_type": "code",
   "execution_count": 20,
   "id": "f55a9205",
   "metadata": {},
   "outputs": [],
   "source": [
    "# Save models\n",
    "import pickle\n",
    "model_name = './output_baseline/cb12_qda.pikle'\n",
    "obj = pickle.dump(qda, open(model_name, \"wb\"))"
   ]
  },
  {
   "cell_type": "markdown",
   "id": "81e85390",
   "metadata": {},
   "source": [
    "## XGBoost RecSys 2017 - Modify objective to binary"
   ]
  },
  {
   "cell_type": "code",
   "execution_count": 7,
   "id": "36380a59",
   "metadata": {},
   "outputs": [],
   "source": [
    "import xgboost as xgb\n",
    "from xgboost import XGBClassifier\n",
    "\n",
    "xgbt = XGBClassifier(n_estimators=2, \n",
    "                    max_depth=2,\n",
    "                    num_parallel_tree = 25,\n",
    "                    learning_rate=0.1, \n",
    "                    objective='binary:logistic',\n",
    "                    eval_metric = 'logloss',\n",
    "                    #base_score = 0.0\n",
    "                    nthread= 4)"
   ]
  },
  {
   "cell_type": "code",
   "execution_count": 8,
   "id": "d37dc041",
   "metadata": {},
   "outputs": [
    {
     "name": "stdout",
     "output_type": "stream",
     "text": [
      "——————Test——————\n",
      "          class precision    recall  f1-score   support\n",
      "0             0    0.8747    0.9544    0.9128      7868\n",
      "1             1    0.9498    0.8632    0.9045      7868\n",
      "2      accuracy                        0.9088     15736\n",
      "3     macro avg    0.9122    0.9088    0.9086     15736\n",
      "4  weighted avg    0.9122    0.9088    0.9086     15736\n",
      "5       overall  0.949797  0.863244  0.904454  0.908808\n",
      "CPU times: user 3min 4s, sys: 2.89 s, total: 3min 7s\n",
      "Wall time: 48.7 s\n"
     ]
    }
   ],
   "source": [
    "%%time\n",
    "xgbt.fit(X_train, Y_train)\n",
    "y_pred = xgbt.predict(X_test)\n",
    "show_result(Y_test, y_pred)"
   ]
  },
  {
   "cell_type": "code",
   "execution_count": 9,
   "id": "1cb82c8c",
   "metadata": {},
   "outputs": [],
   "source": [
    "# Save models\n",
    "import pickle\n",
    "model_name = './output_baseline/cb12_xgbt.pikle'\n",
    "obj = pickle.dump(xgbt, open(model_name, \"wb\"))"
   ]
  },
  {
   "cell_type": "code",
   "execution_count": null,
   "id": "0604d4c1",
   "metadata": {},
   "outputs": [],
   "source": [
    "# Save models\n",
    "import pickle\n",
    "model_name = './output_baseline/cb12_svm.pikle'\n",
    "obj = pickle.dump(svm, open(model_name, \"wb\"))"
   ]
  },
  {
   "cell_type": "code",
   "execution_count": null,
   "id": "a2f280df",
   "metadata": {},
   "outputs": [],
   "source": []
  },
  {
   "cell_type": "code",
   "execution_count": null,
   "id": "07f426d3",
   "metadata": {},
   "outputs": [],
   "source": []
  }
 ],
 "metadata": {
  "kernelspec": {
   "display_name": "Python 3 (ipykernel)",
   "language": "python",
   "name": "python3"
  },
  "language_info": {
   "codemirror_mode": {
    "name": "ipython",
    "version": 3
   },
   "file_extension": ".py",
   "mimetype": "text/x-python",
   "name": "python",
   "nbconvert_exporter": "python",
   "pygments_lexer": "ipython3",
   "version": "3.9.12"
  }
 },
 "nbformat": 4,
 "nbformat_minor": 5
}
