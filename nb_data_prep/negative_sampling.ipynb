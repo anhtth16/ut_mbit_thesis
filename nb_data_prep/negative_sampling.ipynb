{
 "cells": [
  {
   "cell_type": "markdown",
   "id": "9e52d385",
   "metadata": {},
   "source": [
    "# Negative Sampling for warm applications experienced users\n",
    "\n",
    "- Last update: 10.06.23\n",
    "- Input: \n",
    "    - warm_exp_users.csv: list of users with user_id in both work_history and application\n",
    "    - warm_exp_apps.csv: applications made by warm_exp_users\n",
    "    - jobset_clean.csv: job list\n",
    "- Summary:\n",
    "    - An application has 3 elements: user_id, job_id, label. All of the current applications are label as 1 (positive, meaning that user made application). Negative sampling produce application where user did not apply for the job (label 0)\n",
    "    - Group applications data by user_id\n",
    "    - For each user_id, sample job_id(s) from the list of jobs that they haven't apply and assign label 0 to those application (user_id, job_id)\n",
    "- Source: [Repository PJFNN](https://github.com/doslim/Job-Recommendation-PJFNN) (only perform for user in 1 window) \n",
    "- Output: dataset.csv\n",
    "- NOTE: Total execution time for sampling task: ~ 8.5 hours"
   ]
  },
  {
   "cell_type": "code",
   "execution_count": 1,
   "id": "36429603",
   "metadata": {},
   "outputs": [],
   "source": [
    "import pandas as pd\n",
    "import numpy as np"
   ]
  },
  {
   "cell_type": "code",
   "execution_count": 10,
   "id": "49611c86",
   "metadata": {},
   "outputs": [],
   "source": [
    "import warnings\n",
    "from tqdm import tqdm\n",
    "warnings.filterwarnings(\"ignore\")"
   ]
  },
  {
   "cell_type": "code",
   "execution_count": 2,
   "id": "805ccbea",
   "metadata": {},
   "outputs": [],
   "source": [
    "# user_set: warm_exp_users\n",
    "# application_record: warm_exp_apps\n",
    "user_set = pd.read_csv('./data_processed/warm_exp_users.csv')\n",
    "application_record = pd.read_csv('./data_processed/warm_exp_apps.csv')"
   ]
  },
  {
   "cell_type": "code",
   "execution_count": 3,
   "id": "537d8f5a",
   "metadata": {},
   "outputs": [
    {
     "name": "stdout",
     "output_type": "stream",
     "text": [
      "<class 'pandas.core.frame.DataFrame'>\n",
      "RangeIndex: 208953 entries, 0 to 208952\n",
      "Data columns (total 15 columns):\n",
      " #   Column                Non-Null Count   Dtype  \n",
      "---  ------                --------------   -----  \n",
      " 0   UserID                208953 non-null  int64  \n",
      " 1   WindowID              208953 non-null  int64  \n",
      " 2   Split                 208953 non-null  object \n",
      " 3   City                  208953 non-null  object \n",
      " 4   State                 208676 non-null  object \n",
      " 5   Country               208953 non-null  object \n",
      " 6   ZipCode               208050 non-null  object \n",
      " 7   DegreeType            208953 non-null  object \n",
      " 8   Major                 208953 non-null  object \n",
      " 9   GraduationDate        164218 non-null  object \n",
      " 10  WorkHistoryCount      208953 non-null  int64  \n",
      " 11  TotalYearsExperience  208953 non-null  float64\n",
      " 12  CurrentlyEmployed     208953 non-null  object \n",
      " 13  ManagedOthers         208953 non-null  object \n",
      " 14  ManagedHowMany        208953 non-null  int64  \n",
      "dtypes: float64(1), int64(4), object(10)\n",
      "memory usage: 23.9+ MB\n",
      "<class 'pandas.core.frame.DataFrame'>\n",
      "RangeIndex: 1040670 entries, 0 to 1040669\n",
      "Data columns (total 5 columns):\n",
      " #   Column           Non-Null Count    Dtype \n",
      "---  ------           --------------    ----- \n",
      " 0   UserID           1040670 non-null  int64 \n",
      " 1   WindowID         1040670 non-null  int64 \n",
      " 2   Split            1040670 non-null  object\n",
      " 3   ApplicationDate  1040670 non-null  object\n",
      " 4   JobID            1040670 non-null  int64 \n",
      "dtypes: int64(3), object(2)\n",
      "memory usage: 39.7+ MB\n"
     ]
    },
    {
     "data": {
      "text/plain": [
       "(None, None)"
      ]
     },
     "execution_count": 3,
     "metadata": {},
     "output_type": "execute_result"
    }
   ],
   "source": [
    "user_set.info(), application_record.info()"
   ]
  },
  {
   "cell_type": "code",
   "execution_count": 4,
   "id": "0c6c7b1d",
   "metadata": {},
   "outputs": [
    {
     "data": {
      "text/plain": [
       "(Train    921114\n",
       " Test     119556\n",
       " Name: Split, dtype: int64,\n",
       " Train    200248\n",
       " Test       8705\n",
       " Name: Split, dtype: int64)"
      ]
     },
     "execution_count": 4,
     "metadata": {},
     "output_type": "execute_result"
    }
   ],
   "source": [
    "# Check data for users and application records in training and testing (Column: Split)\n",
    "application_record.Split.value_counts(), user_set.Split.value_counts()"
   ]
  },
  {
   "cell_type": "code",
   "execution_count": 5,
   "id": "ba371e95",
   "metadata": {},
   "outputs": [
    {
     "name": "stderr",
     "output_type": "stream",
     "text": [
      "/var/folders/rt/sq9c2fwj2wz441h13l9hcfrc0000gn/T/ipykernel_91539/3485164813.py:1: DtypeWarning: Columns (8) have mixed types. Specify dtype option on import or set low_memory=False.\n",
      "  job_set =  pd.read_csv('./data_processed/jobset_clean.csv')\n"
     ]
    }
   ],
   "source": [
    "job_set =  pd.read_csv('./data_processed/jobset_clean.csv')"
   ]
  },
  {
   "cell_type": "code",
   "execution_count": 6,
   "id": "f2c2a8b3",
   "metadata": {},
   "outputs": [],
   "source": [
    "dataset_sample = pd.DataFrame(columns = [\"UserID\",\"JobID\",\"label\"])\n",
    "job_id = job_set.JobID.unique().tolist()\n",
    "groups = application_record.groupby(\"UserID\")"
   ]
  },
  {
   "cell_type": "code",
   "execution_count": 7,
   "id": "12b68cd3",
   "metadata": {},
   "outputs": [
    {
     "data": {
      "text/plain": [
       "1050509"
      ]
     },
     "execution_count": 7,
     "metadata": {},
     "output_type": "execute_result"
    }
   ],
   "source": [
    "len(job_id)"
   ]
  },
  {
   "cell_type": "code",
   "execution_count": 8,
   "id": "8d2f2fe9",
   "metadata": {},
   "outputs": [
    {
     "data": {
      "text/html": [
       "<div>\n",
       "<style scoped>\n",
       "    .dataframe tbody tr th:only-of-type {\n",
       "        vertical-align: middle;\n",
       "    }\n",
       "\n",
       "    .dataframe tbody tr th {\n",
       "        vertical-align: top;\n",
       "    }\n",
       "\n",
       "    .dataframe thead th {\n",
       "        text-align: right;\n",
       "    }\n",
       "</style>\n",
       "<table border=\"1\" class=\"dataframe\">\n",
       "  <thead>\n",
       "    <tr style=\"text-align: right;\">\n",
       "      <th></th>\n",
       "      <th>UserID</th>\n",
       "      <th>WindowID</th>\n",
       "      <th>Split</th>\n",
       "      <th>ApplicationDate</th>\n",
       "      <th>JobID</th>\n",
       "    </tr>\n",
       "  </thead>\n",
       "  <tbody>\n",
       "    <tr>\n",
       "      <th>0</th>\n",
       "      <td>72</td>\n",
       "      <td>1</td>\n",
       "      <td>Train</td>\n",
       "      <td>2012-04-02 22:36:43.033</td>\n",
       "      <td>834662</td>\n",
       "    </tr>\n",
       "    <tr>\n",
       "      <th>1</th>\n",
       "      <td>72</td>\n",
       "      <td>1</td>\n",
       "      <td>Train</td>\n",
       "      <td>2012-04-07 15:19:58.187</td>\n",
       "      <td>1020903</td>\n",
       "    </tr>\n",
       "    <tr>\n",
       "      <th>2</th>\n",
       "      <td>72</td>\n",
       "      <td>1</td>\n",
       "      <td>Train</td>\n",
       "      <td>2012-04-07 17:38:10.137</td>\n",
       "      <td>180313</td>\n",
       "    </tr>\n",
       "    <tr>\n",
       "      <th>3</th>\n",
       "      <td>72</td>\n",
       "      <td>1</td>\n",
       "      <td>Train</td>\n",
       "      <td>2012-04-30 20:05:15.293</td>\n",
       "      <td>480634</td>\n",
       "    </tr>\n",
       "    <tr>\n",
       "      <th>4</th>\n",
       "      <td>72</td>\n",
       "      <td>1</td>\n",
       "      <td>Train</td>\n",
       "      <td>2012-04-20 02:51:44.997</td>\n",
       "      <td>564184</td>\n",
       "    </tr>\n",
       "    <tr>\n",
       "      <th>...</th>\n",
       "      <td>...</td>\n",
       "      <td>...</td>\n",
       "      <td>...</td>\n",
       "      <td>...</td>\n",
       "      <td>...</td>\n",
       "    </tr>\n",
       "    <tr>\n",
       "      <th>1040665</th>\n",
       "      <td>1471878</td>\n",
       "      <td>7</td>\n",
       "      <td>Train</td>\n",
       "      <td>2012-06-26 09:01:18.913</td>\n",
       "      <td>405540</td>\n",
       "    </tr>\n",
       "    <tr>\n",
       "      <th>1040666</th>\n",
       "      <td>1471878</td>\n",
       "      <td>7</td>\n",
       "      <td>Train</td>\n",
       "      <td>2012-06-26 10:49:55.693</td>\n",
       "      <td>43932</td>\n",
       "    </tr>\n",
       "    <tr>\n",
       "      <th>1040667</th>\n",
       "      <td>1471878</td>\n",
       "      <td>7</td>\n",
       "      <td>Train</td>\n",
       "      <td>2012-06-11 12:20:54.323</td>\n",
       "      <td>999915</td>\n",
       "    </tr>\n",
       "    <tr>\n",
       "      <th>1040668</th>\n",
       "      <td>1471997</td>\n",
       "      <td>7</td>\n",
       "      <td>Train</td>\n",
       "      <td>2012-06-22 19:38:10.1</td>\n",
       "      <td>56412</td>\n",
       "    </tr>\n",
       "    <tr>\n",
       "      <th>1040669</th>\n",
       "      <td>1472060</td>\n",
       "      <td>7</td>\n",
       "      <td>Train</td>\n",
       "      <td>2012-06-26 16:09:24.973</td>\n",
       "      <td>437187</td>\n",
       "    </tr>\n",
       "  </tbody>\n",
       "</table>\n",
       "<p>573118 rows × 5 columns</p>\n",
       "</div>"
      ],
      "text/plain": [
       "          UserID  WindowID  Split          ApplicationDate    JobID\n",
       "0             72         1  Train  2012-04-02 22:36:43.033   834662\n",
       "1             72         1  Train  2012-04-07 15:19:58.187  1020903\n",
       "2             72         1  Train  2012-04-07 17:38:10.137   180313\n",
       "3             72         1  Train  2012-04-30 20:05:15.293   480634\n",
       "4             72         1  Train  2012-04-20 02:51:44.997   564184\n",
       "...          ...       ...    ...                      ...      ...\n",
       "1040665  1471878         7  Train  2012-06-26 09:01:18.913   405540\n",
       "1040666  1471878         7  Train  2012-06-26 10:49:55.693    43932\n",
       "1040667  1471878         7  Train  2012-06-11 12:20:54.323   999915\n",
       "1040668  1471997         7  Train    2012-06-22 19:38:10.1    56412\n",
       "1040669  1472060         7  Train  2012-06-26 16:09:24.973   437187\n",
       "\n",
       "[573118 rows x 5 columns]"
      ]
     },
     "execution_count": 8,
     "metadata": {},
     "output_type": "execute_result"
    }
   ],
   "source": [
    "groups.head()"
   ]
  },
  {
   "cell_type": "code",
   "execution_count": null,
   "id": "eb78fc36",
   "metadata": {},
   "outputs": [],
   "source": []
  },
  {
   "cell_type": "code",
   "execution_count": 11,
   "id": "d0c31b81",
   "metadata": {},
   "outputs": [
    {
     "name": "stderr",
     "output_type": "stream",
     "text": [
      "  0%|                                      | 1/208953 [00:00<9:45:51,  5.94it/s]"
     ]
    },
    {
     "name": "stdout",
     "output_type": "stream",
     "text": [
      "idx:  7\n",
      "size:  2\n",
      "len exist_job: 2\n",
      "len candidate_job:  1050507\n",
      "sample jobs: [ 82950 495695]\n",
      "Sample result:\n",
      "user_ids:  [7, 7, 7, 7]\n",
      "job_ids:  [309823, 703889, 350167, 758932]\n",
      "label:  [1, 1, 0, 0]\n",
      "idx:  9\n",
      "size:  3\n",
      "len exist_job: 3\n",
      "len candidate_job:  1050506\n",
      "sample jobs: [159993 344844 207401]\n",
      "Sample result:\n",
      "user_ids:  [7, 7, 7, 7, 9, 9, 9, 9, 9, 9]\n",
      "job_ids:  [309823, 703889, 350167, 758932, 809208, 136489, 617374, 681348, 648562, 888419]\n",
      "label:  [1, 1, 0, 0, 1, 1, 1, 0, 0, 0]\n",
      "idx:  13\n",
      "size:  1\n",
      "len exist_job: 1\n"
     ]
    },
    {
     "name": "stderr",
     "output_type": "stream",
     "text": [
      "\r",
      "  0%|                                      | 3/208953 [00:00<5:52:48,  9.87it/s]"
     ]
    },
    {
     "name": "stdout",
     "output_type": "stream",
     "text": [
      "len candidate_job:  1050508\n",
      "sample jobs: [172406]\n",
      "Sample result:\n",
      "user_ids:  [7, 7, 7, 7, 9, 9, 9, 9, 9, 9, 13, 13]\n",
      "job_ids:  [309823, 703889, 350167, 758932, 809208, 136489, 617374, 681348, 648562, 888419, 821691, 731767]\n",
      "label:  [1, 1, 0, 0, 1, 1, 1, 0, 0, 0, 1, 0]\n",
      "idx:  14\n",
      "size:  6\n",
      "len exist_job: 6\n",
      "len candidate_job:  1050503\n",
      "sample jobs: [938277 313595 779687  90973 347916 391543]\n",
      "Sample result:\n",
      "user_ids:  [7, 7, 7, 7, 9, 9, 9, 9, 9, 9, 13, 13, 14, 14, 14, 14, 14, 14, 14, 14, 14, 14, 14, 14]\n",
      "job_ids:  [309823, 703889, 350167, 758932, 809208, 136489, 617374, 681348, 648562, 888419, 821691, 731767, 574999, 372423, 978868, 206046, 787741, 663552, 25411, 407441, 793185, 387369, 676787, 1018640]\n",
      "label:  [1, 1, 0, 0, 1, 1, 1, 0, 0, 0, 1, 0, 1, 1, 1, 1, 1, 1, 0, 0, 0, 0, 0, 0]\n",
      "idx:  16\n",
      "size:  2\n",
      "len exist_job: 2\n"
     ]
    },
    {
     "name": "stderr",
     "output_type": "stream",
     "text": [
      "  0%|                                      | 6/208953 [00:00<6:30:18,  8.92it/s]"
     ]
    },
    {
     "name": "stdout",
     "output_type": "stream",
     "text": [
      "len candidate_job:  1050507\n",
      "sample jobs: [171446 305725]\n",
      "Sample result:\n",
      "user_ids:  [7, 7, 7, 7, 9, 9, 9, 9, 9, 9, 13, 13, 14, 14, 14, 14, 14, 14, 14, 14, 14, 14, 14, 14, 16, 16, 16, 16]\n",
      "job_ids:  [309823, 703889, 350167, 758932, 809208, 136489, 617374, 681348, 648562, 888419, 821691, 731767, 574999, 372423, 978868, 206046, 787741, 663552, 25411, 407441, 793185, 387369, 676787, 1018640, 185492, 747203, 717582, 340330]\n",
      "label:  [1, 1, 0, 0, 1, 1, 1, 0, 0, 0, 1, 0, 1, 1, 1, 1, 1, 1, 0, 0, 0, 0, 0, 0, 1, 1, 0, 0]\n",
      "idx:  24\n",
      "size:  7\n",
      "len exist_job: 7\n",
      "len candidate_job:  1050502\n",
      "sample jobs: [574788 988115 248407 674780  50512 502961 980034]\n",
      "Sample result:\n",
      "user_ids:  [7, 7, 7, 7, 9, 9, 9, 9, 9, 9, 13, 13, 14, 14, 14, 14, 14, 14, 14, 14, 14, 14, 14, 14, 16, 16, 16, 16, 24, 24, 24, 24, 24, 24, 24, 24, 24, 24, 24, 24, 24, 24]\n",
      "job_ids:  [309823, 703889, 350167, 758932, 809208, 136489, 617374, 681348, 648562, 888419, 821691, 731767, 574999, 372423, 978868, 206046, 787741, 663552, 25411, 407441, 793185, 387369, 676787, 1018640, 185492, 747203, 717582, 340330, 1083186, 516837, 507614, 754917, 686406, 1058896, 335132, 285781, 508201, 1060230, 1082546, 214489, 818685, 429512]\n",
      "label:  [1, 1, 0, 0, 1, 1, 1, 0, 0, 0, 1, 0, 1, 1, 1, 1, 1, 1, 0, 0, 0, 0, 0, 0, 1, 1, 0, 0, 1, 1, 1, 1, 1, 1, 1, 0, 0, 0, 0, 0, 0, 0]\n",
      "idx:  26\n",
      "size:  4\n",
      "len exist_job: 4\n"
     ]
    },
    {
     "name": "stderr",
     "output_type": "stream",
     "text": [
      "\r",
      "  0%|                                      | 6/208953 [00:00<7:29:19,  7.75it/s]"
     ]
    },
    {
     "name": "stdout",
     "output_type": "stream",
     "text": [
      "len candidate_job:  1050505\n",
      "sample jobs: [351817 766810 121261 596366]\n",
      "Sample result:\n",
      "user_ids:  [7, 7, 7, 7, 9, 9, 9, 9, 9, 9, 13, 13, 14, 14, 14, 14, 14, 14, 14, 14, 14, 14, 14, 14, 16, 16, 16, 16, 24, 24, 24, 24, 24, 24, 24, 24, 24, 24, 24, 24, 24, 24, 26, 26, 26, 26, 26, 26, 26, 26]\n",
      "job_ids:  [309823, 703889, 350167, 758932, 809208, 136489, 617374, 681348, 648562, 888419, 821691, 731767, 574999, 372423, 978868, 206046, 787741, 663552, 25411, 407441, 793185, 387369, 676787, 1018640, 185492, 747203, 717582, 340330, 1083186, 516837, 507614, 754917, 686406, 1058896, 335132, 285781, 508201, 1060230, 1082546, 214489, 818685, 429512, 584464, 666664, 22643, 964486, 708565, 694513, 518611, 457850]\n",
      "label:  [1, 1, 0, 0, 1, 1, 1, 0, 0, 0, 1, 0, 1, 1, 1, 1, 1, 1, 0, 0, 0, 0, 0, 0, 1, 1, 0, 0, 1, 1, 1, 1, 1, 1, 1, 0, 0, 0, 0, 0, 0, 0, 1, 1, 1, 1, 0, 0, 0, 0]\n"
     ]
    },
    {
     "name": "stderr",
     "output_type": "stream",
     "text": [
      "\n"
     ]
    }
   ],
   "source": [
    "# Try negative sampling with small sample\n",
    "user_ids = []\n",
    "job_ids = []\n",
    "labels = []\n",
    "for idx, group in tqdm(groups): #idx: user_id, group: applications made by 1 user_id\n",
    "    print('idx: ', idx)\n",
    "    size = len(group)\n",
    "    print('size: ', size)\n",
    "    exist_job = group.JobID.unique().tolist()\n",
    "    print('len exist_job:', len(exist_job))\n",
    "    candidate_job = [i for i in job_id if i not in exist_job ]\n",
    "    print('len candidate_job: ', len(candidate_job))\n",
    "    sample_job = np.random.randint(0,len(candidate_job),size) # Return random integers from low (inclusive) to high (exclusive)\n",
    "    print('sample jobs:', sample_job)\n",
    "    user_ids.extend([idx] * 2 * size)\n",
    "    exist_job.extend([candidate_job[i] for i in sample_job])\n",
    "    job_ids.extend(exist_job)\n",
    "    label = [1] * size\n",
    "    label.extend([0] * size)\n",
    "    labels.extend(label)\n",
    "    print('Sample result:')\n",
    "    print('user_ids: ', user_ids)\n",
    "    print('job_ids: ', job_ids)\n",
    "    print('label: ', labels)\n",
    "    if len(user_ids) >= 50:\n",
    "        break\n",
    "    "
   ]
  },
  {
   "cell_type": "code",
   "execution_count": 12,
   "id": "8e8ae12f",
   "metadata": {},
   "outputs": [
    {
     "name": "stderr",
     "output_type": "stream",
     "text": [
      "100%|█████████████████████████████████| 208953/208953 [8:38:53<00:00,  6.71it/s]\n"
     ]
    }
   ],
   "source": [
    "# Apply on the whole dataset\n",
    "user_ids = []\n",
    "job_ids = []\n",
    "labels = []\n",
    "for idx, group in tqdm(groups): #idx: user_id, group: applications made by 1 user_id\n",
    "    size = len(group)\n",
    "    exist_job = group.JobID.unique().tolist()\n",
    "    candidate_job = [i for i in job_id if i not in exist_job ]\n",
    "    sample_job = np.random.randint(0,len(candidate_job),size) # Return random integers from low (inclusive) to high (exclusive)\n",
    "    user_ids.extend([idx] * 2 * size)\n",
    "    exist_job.extend([candidate_job[i] for i in sample_job])\n",
    "    job_ids.extend(exist_job)\n",
    "    label = [1] * size\n",
    "    label.extend([0] * size)\n",
    "    labels.extend(label)\n",
    "    \n",
    "\n",
    "dataset_sample.UserID = user_ids\n",
    "dataset_sample.JobID = job_ids\n",
    "dataset_sample.label = labels"
   ]
  },
  {
   "cell_type": "code",
   "execution_count": 13,
   "id": "d24ac789",
   "metadata": {},
   "outputs": [
    {
     "data": {
      "text/html": [
       "<div>\n",
       "<style scoped>\n",
       "    .dataframe tbody tr th:only-of-type {\n",
       "        vertical-align: middle;\n",
       "    }\n",
       "\n",
       "    .dataframe tbody tr th {\n",
       "        vertical-align: top;\n",
       "    }\n",
       "\n",
       "    .dataframe thead th {\n",
       "        text-align: right;\n",
       "    }\n",
       "</style>\n",
       "<table border=\"1\" class=\"dataframe\">\n",
       "  <thead>\n",
       "    <tr style=\"text-align: right;\">\n",
       "      <th></th>\n",
       "      <th>UserID</th>\n",
       "      <th>JobID</th>\n",
       "      <th>label</th>\n",
       "    </tr>\n",
       "  </thead>\n",
       "  <tbody>\n",
       "    <tr>\n",
       "      <th>0</th>\n",
       "      <td>7</td>\n",
       "      <td>309823</td>\n",
       "      <td>1</td>\n",
       "    </tr>\n",
       "    <tr>\n",
       "      <th>1</th>\n",
       "      <td>7</td>\n",
       "      <td>703889</td>\n",
       "      <td>1</td>\n",
       "    </tr>\n",
       "    <tr>\n",
       "      <th>2</th>\n",
       "      <td>7</td>\n",
       "      <td>566574</td>\n",
       "      <td>0</td>\n",
       "    </tr>\n",
       "    <tr>\n",
       "      <th>3</th>\n",
       "      <td>7</td>\n",
       "      <td>481216</td>\n",
       "      <td>0</td>\n",
       "    </tr>\n",
       "    <tr>\n",
       "      <th>4</th>\n",
       "      <td>9</td>\n",
       "      <td>809208</td>\n",
       "      <td>1</td>\n",
       "    </tr>\n",
       "  </tbody>\n",
       "</table>\n",
       "</div>"
      ],
      "text/plain": [
       "   UserID   JobID  label\n",
       "0       7  309823      1\n",
       "1       7  703889      1\n",
       "2       7  566574      0\n",
       "3       7  481216      0\n",
       "4       9  809208      1"
      ]
     },
     "execution_count": 13,
     "metadata": {},
     "output_type": "execute_result"
    }
   ],
   "source": [
    "dataset_sample.head()"
   ]
  },
  {
   "cell_type": "code",
   "execution_count": 14,
   "id": "076163b1",
   "metadata": {},
   "outputs": [
    {
     "name": "stdout",
     "output_type": "stream",
     "text": [
      "<class 'pandas.core.frame.DataFrame'>\n",
      "RangeIndex: 2081340 entries, 0 to 2081339\n",
      "Data columns (total 3 columns):\n",
      " #   Column  Dtype\n",
      "---  ------  -----\n",
      " 0   UserID  int64\n",
      " 1   JobID   int64\n",
      " 2   label   int64\n",
      "dtypes: int64(3)\n",
      "memory usage: 47.6 MB\n"
     ]
    }
   ],
   "source": [
    "dataset_sample.info()"
   ]
  },
  {
   "cell_type": "code",
   "execution_count": 15,
   "id": "59aa9b1f",
   "metadata": {},
   "outputs": [
    {
     "data": {
      "text/plain": [
       "1    1040670\n",
       "0    1040670\n",
       "Name: label, dtype: int64"
      ]
     },
     "execution_count": 15,
     "metadata": {},
     "output_type": "execute_result"
    }
   ],
   "source": [
    "dataset_sample.label.value_counts()"
   ]
  },
  {
   "cell_type": "code",
   "execution_count": 16,
   "id": "f184e9b7",
   "metadata": {},
   "outputs": [],
   "source": [
    "dataset_sample.to_csv(\"./data_processed/dataset.csv\", index=False, header=True)"
   ]
  },
  {
   "cell_type": "code",
   "execution_count": null,
   "id": "c14d5d07",
   "metadata": {},
   "outputs": [],
   "source": []
  },
  {
   "cell_type": "code",
   "execution_count": 17,
   "id": "2b755d8d",
   "metadata": {},
   "outputs": [
    {
     "data": {
      "text/html": [
       "<div>\n",
       "<style scoped>\n",
       "    .dataframe tbody tr th:only-of-type {\n",
       "        vertical-align: middle;\n",
       "    }\n",
       "\n",
       "    .dataframe tbody tr th {\n",
       "        vertical-align: top;\n",
       "    }\n",
       "\n",
       "    .dataframe thead th {\n",
       "        text-align: right;\n",
       "    }\n",
       "</style>\n",
       "<table border=\"1\" class=\"dataframe\">\n",
       "  <thead>\n",
       "    <tr style=\"text-align: right;\">\n",
       "      <th></th>\n",
       "      <th>UserID</th>\n",
       "      <th>JobID</th>\n",
       "      <th>label</th>\n",
       "    </tr>\n",
       "  </thead>\n",
       "  <tbody>\n",
       "    <tr>\n",
       "      <th>0</th>\n",
       "      <td>7</td>\n",
       "      <td>309823</td>\n",
       "      <td>1</td>\n",
       "    </tr>\n",
       "    <tr>\n",
       "      <th>1</th>\n",
       "      <td>7</td>\n",
       "      <td>703889</td>\n",
       "      <td>1</td>\n",
       "    </tr>\n",
       "    <tr>\n",
       "      <th>2</th>\n",
       "      <td>7</td>\n",
       "      <td>566574</td>\n",
       "      <td>0</td>\n",
       "    </tr>\n",
       "    <tr>\n",
       "      <th>3</th>\n",
       "      <td>7</td>\n",
       "      <td>481216</td>\n",
       "      <td>0</td>\n",
       "    </tr>\n",
       "    <tr>\n",
       "      <th>4</th>\n",
       "      <td>9</td>\n",
       "      <td>809208</td>\n",
       "      <td>1</td>\n",
       "    </tr>\n",
       "    <tr>\n",
       "      <th>...</th>\n",
       "      <td>...</td>\n",
       "      <td>...</td>\n",
       "      <td>...</td>\n",
       "    </tr>\n",
       "    <tr>\n",
       "      <th>2081335</th>\n",
       "      <td>1472085</td>\n",
       "      <td>209482</td>\n",
       "      <td>0</td>\n",
       "    </tr>\n",
       "    <tr>\n",
       "      <th>2081336</th>\n",
       "      <td>1472090</td>\n",
       "      <td>209535</td>\n",
       "      <td>1</td>\n",
       "    </tr>\n",
       "    <tr>\n",
       "      <th>2081337</th>\n",
       "      <td>1472090</td>\n",
       "      <td>254881</td>\n",
       "      <td>1</td>\n",
       "    </tr>\n",
       "    <tr>\n",
       "      <th>2081338</th>\n",
       "      <td>1472090</td>\n",
       "      <td>999294</td>\n",
       "      <td>0</td>\n",
       "    </tr>\n",
       "    <tr>\n",
       "      <th>2081339</th>\n",
       "      <td>1472090</td>\n",
       "      <td>354025</td>\n",
       "      <td>0</td>\n",
       "    </tr>\n",
       "  </tbody>\n",
       "</table>\n",
       "<p>2081340 rows × 3 columns</p>\n",
       "</div>"
      ],
      "text/plain": [
       "          UserID   JobID  label\n",
       "0              7  309823      1\n",
       "1              7  703889      1\n",
       "2              7  566574      0\n",
       "3              7  481216      0\n",
       "4              9  809208      1\n",
       "...          ...     ...    ...\n",
       "2081335  1472085  209482      0\n",
       "2081336  1472090  209535      1\n",
       "2081337  1472090  254881      1\n",
       "2081338  1472090  999294      0\n",
       "2081339  1472090  354025      0\n",
       "\n",
       "[2081340 rows x 3 columns]"
      ]
     },
     "execution_count": 17,
     "metadata": {},
     "output_type": "execute_result"
    }
   ],
   "source": [
    "pd.read_csv(\"./data_processed/dataset.csv\")"
   ]
  },
  {
   "cell_type": "code",
   "execution_count": null,
   "id": "e0a319a1",
   "metadata": {},
   "outputs": [],
   "source": []
  }
 ],
 "metadata": {
  "kernelspec": {
   "display_name": "Python 3 (ipykernel)",
   "language": "python",
   "name": "python3"
  },
  "language_info": {
   "codemirror_mode": {
    "name": "ipython",
    "version": 3
   },
   "file_extension": ".py",
   "mimetype": "text/x-python",
   "name": "python",
   "nbconvert_exporter": "python",
   "pygments_lexer": "ipython3",
   "version": "3.9.12"
  }
 },
 "nbformat": 4,
 "nbformat_minor": 5
}
