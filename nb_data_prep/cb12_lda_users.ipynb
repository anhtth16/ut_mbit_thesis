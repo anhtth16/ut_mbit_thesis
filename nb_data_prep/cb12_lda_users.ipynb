{
 "cells": [
  {
   "cell_type": "markdown",
   "id": "a974c77d",
   "metadata": {},
   "source": [
    "# LDA user profile\n"
   ]
  },
  {
   "cell_type": "code",
   "execution_count": 1,
   "id": "8a28df0c",
   "metadata": {},
   "outputs": [],
   "source": [
    "import caffeine\n",
    "caffeine.on(display=False)"
   ]
  },
  {
   "cell_type": "code",
   "execution_count": 2,
   "id": "3bc08af2",
   "metadata": {},
   "outputs": [],
   "source": [
    "import pandas as pd\n",
    "import numpy as np\n",
    "from sklearn.preprocessing import MultiLabelBinarizer, OneHotEncoder\n",
    "from sklearn import metrics"
   ]
  },
  {
   "cell_type": "code",
   "execution_count": 3,
   "id": "031f8f6f",
   "metadata": {},
   "outputs": [],
   "source": [
    "# Load clean dataset for user profile and work history\n",
    "user_set = pd.read_csv(\"./data_interim/user_set_cleaned.csv\")\n",
    "work_history = pd.read_csv('./data_interim/work_history_cleaned.csv')"
   ]
  },
  {
   "cell_type": "code",
   "execution_count": 4,
   "id": "cb1da7c9",
   "metadata": {},
   "outputs": [
    {
     "data": {
      "text/html": [
       "<div>\n",
       "<style scoped>\n",
       "    .dataframe tbody tr th:only-of-type {\n",
       "        vertical-align: middle;\n",
       "    }\n",
       "\n",
       "    .dataframe tbody tr th {\n",
       "        vertical-align: top;\n",
       "    }\n",
       "\n",
       "    .dataframe thead th {\n",
       "        text-align: right;\n",
       "    }\n",
       "</style>\n",
       "<table border=\"1\" class=\"dataframe\">\n",
       "  <thead>\n",
       "    <tr style=\"text-align: right;\">\n",
       "      <th></th>\n",
       "      <th>UserID</th>\n",
       "      <th>Split</th>\n",
       "      <th>City</th>\n",
       "      <th>State</th>\n",
       "      <th>Country</th>\n",
       "      <th>DegreeType</th>\n",
       "      <th>WorkHistoryCount</th>\n",
       "      <th>TotalYearsExperience</th>\n",
       "      <th>CurrentlyEmployed</th>\n",
       "      <th>ManagedOthers</th>\n",
       "      <th>ManagedHowMany</th>\n",
       "    </tr>\n",
       "  </thead>\n",
       "  <tbody>\n",
       "    <tr>\n",
       "      <th>0</th>\n",
       "      <td>80</td>\n",
       "      <td>Train</td>\n",
       "      <td>Williamstown</td>\n",
       "      <td>NJ</td>\n",
       "      <td>US</td>\n",
       "      <td>1</td>\n",
       "      <td>5</td>\n",
       "      <td>11.0</td>\n",
       "      <td>1</td>\n",
       "      <td>1</td>\n",
       "      <td>5</td>\n",
       "    </tr>\n",
       "    <tr>\n",
       "      <th>1</th>\n",
       "      <td>123</td>\n",
       "      <td>Train</td>\n",
       "      <td>Baton Rouge</td>\n",
       "      <td>LA</td>\n",
       "      <td>US</td>\n",
       "      <td>4</td>\n",
       "      <td>1</td>\n",
       "      <td>9.0</td>\n",
       "      <td>1</td>\n",
       "      <td>0</td>\n",
       "      <td>0</td>\n",
       "    </tr>\n",
       "    <tr>\n",
       "      <th>2</th>\n",
       "      <td>162</td>\n",
       "      <td>Train</td>\n",
       "      <td>Long Beach</td>\n",
       "      <td>CA</td>\n",
       "      <td>US</td>\n",
       "      <td>5</td>\n",
       "      <td>10</td>\n",
       "      <td>25.0</td>\n",
       "      <td>0</td>\n",
       "      <td>0</td>\n",
       "      <td>0</td>\n",
       "    </tr>\n",
       "    <tr>\n",
       "      <th>3</th>\n",
       "      <td>178</td>\n",
       "      <td>Train</td>\n",
       "      <td>Greenville</td>\n",
       "      <td>SC</td>\n",
       "      <td>US</td>\n",
       "      <td>1</td>\n",
       "      <td>6</td>\n",
       "      <td>35.0</td>\n",
       "      <td>0</td>\n",
       "      <td>1</td>\n",
       "      <td>4</td>\n",
       "    </tr>\n",
       "    <tr>\n",
       "      <th>4</th>\n",
       "      <td>344</td>\n",
       "      <td>Train</td>\n",
       "      <td>Newport News</td>\n",
       "      <td>VA</td>\n",
       "      <td>US</td>\n",
       "      <td>1</td>\n",
       "      <td>3</td>\n",
       "      <td>7.0</td>\n",
       "      <td>1</td>\n",
       "      <td>0</td>\n",
       "      <td>0</td>\n",
       "    </tr>\n",
       "  </tbody>\n",
       "</table>\n",
       "</div>"
      ],
      "text/plain": [
       "   UserID  Split          City State Country  DegreeType  WorkHistoryCount  \\\n",
       "0      80  Train  Williamstown    NJ      US           1                 5   \n",
       "1     123  Train   Baton Rouge    LA      US           4                 1   \n",
       "2     162  Train    Long Beach    CA      US           5                10   \n",
       "3     178  Train    Greenville    SC      US           1                 6   \n",
       "4     344  Train  Newport News    VA      US           1                 3   \n",
       "\n",
       "   TotalYearsExperience  CurrentlyEmployed  ManagedOthers  ManagedHowMany  \n",
       "0                  11.0                  1              1               5  \n",
       "1                   9.0                  1              0               0  \n",
       "2                  25.0                  0              0               0  \n",
       "3                  35.0                  0              1               4  \n",
       "4                   7.0                  1              0               0  "
      ]
     },
     "execution_count": 4,
     "metadata": {},
     "output_type": "execute_result"
    }
   ],
   "source": [
    "user_set.head()"
   ]
  },
  {
   "cell_type": "code",
   "execution_count": 5,
   "id": "4b21ce06",
   "metadata": {},
   "outputs": [
    {
     "data": {
      "text/html": [
       "<div>\n",
       "<style scoped>\n",
       "    .dataframe tbody tr th:only-of-type {\n",
       "        vertical-align: middle;\n",
       "    }\n",
       "\n",
       "    .dataframe tbody tr th {\n",
       "        vertical-align: top;\n",
       "    }\n",
       "\n",
       "    .dataframe thead th {\n",
       "        text-align: right;\n",
       "    }\n",
       "</style>\n",
       "<table border=\"1\" class=\"dataframe\">\n",
       "  <thead>\n",
       "    <tr style=\"text-align: right;\">\n",
       "      <th></th>\n",
       "      <th>UserID</th>\n",
       "      <th>WindowID</th>\n",
       "      <th>Split</th>\n",
       "      <th>JobTitle</th>\n",
       "    </tr>\n",
       "  </thead>\n",
       "  <tbody>\n",
       "    <tr>\n",
       "      <th>0</th>\n",
       "      <td>80</td>\n",
       "      <td>1</td>\n",
       "      <td>Train</td>\n",
       "      <td>Auto Publishing/Electro Mechanical Technician,...</td>\n",
       "    </tr>\n",
       "    <tr>\n",
       "      <th>1</th>\n",
       "      <td>80</td>\n",
       "      <td>1</td>\n",
       "      <td>Train</td>\n",
       "      <td>Enhanced Baker Cell Technician, EBC Technician</td>\n",
       "    </tr>\n",
       "    <tr>\n",
       "      <th>2</th>\n",
       "      <td>80</td>\n",
       "      <td>1</td>\n",
       "      <td>Train</td>\n",
       "      <td>Lead was  was also given the position as Drug ...</td>\n",
       "    </tr>\n",
       "    <tr>\n",
       "      <th>3</th>\n",
       "      <td>80</td>\n",
       "      <td>1</td>\n",
       "      <td>Train</td>\n",
       "      <td>Sales Associate, Installer</td>\n",
       "    </tr>\n",
       "    <tr>\n",
       "      <th>4</th>\n",
       "      <td>123</td>\n",
       "      <td>1</td>\n",
       "      <td>Train</td>\n",
       "      <td>Lead Hostess and Takeout Server</td>\n",
       "    </tr>\n",
       "  </tbody>\n",
       "</table>\n",
       "</div>"
      ],
      "text/plain": [
       "   UserID  WindowID  Split                                           JobTitle\n",
       "0      80         1  Train  Auto Publishing/Electro Mechanical Technician,...\n",
       "1      80         1  Train     Enhanced Baker Cell Technician, EBC Technician\n",
       "2      80         1  Train  Lead was  was also given the position as Drug ...\n",
       "3      80         1  Train                         Sales Associate, Installer\n",
       "4     123         1  Train                    Lead Hostess and Takeout Server"
      ]
     },
     "execution_count": 5,
     "metadata": {},
     "output_type": "execute_result"
    }
   ],
   "source": [
    "work_history.head()"
   ]
  },
  {
   "cell_type": "code",
   "execution_count": 6,
   "id": "959c3f3f",
   "metadata": {},
   "outputs": [
    {
     "data": {
      "text/plain": [
       "152292"
      ]
     },
     "execution_count": 6,
     "metadata": {},
     "output_type": "execute_result"
    }
   ],
   "source": [
    "len(user_set)"
   ]
  },
  {
   "cell_type": "code",
   "execution_count": 8,
   "id": "973140d9",
   "metadata": {},
   "outputs": [],
   "source": [
    "group_work_history = pd.DataFrame(work_history.groupby(\"UserID\").JobTitle.sum().reset_index())"
   ]
  },
  {
   "cell_type": "code",
   "execution_count": 10,
   "id": "d5f931ce",
   "metadata": {},
   "outputs": [
    {
     "data": {
      "text/html": [
       "<div>\n",
       "<style scoped>\n",
       "    .dataframe tbody tr th:only-of-type {\n",
       "        vertical-align: middle;\n",
       "    }\n",
       "\n",
       "    .dataframe tbody tr th {\n",
       "        vertical-align: top;\n",
       "    }\n",
       "\n",
       "    .dataframe thead th {\n",
       "        text-align: right;\n",
       "    }\n",
       "</style>\n",
       "<table border=\"1\" class=\"dataframe\">\n",
       "  <thead>\n",
       "    <tr style=\"text-align: right;\">\n",
       "      <th></th>\n",
       "      <th>UserID</th>\n",
       "      <th>JobTitle</th>\n",
       "    </tr>\n",
       "  </thead>\n",
       "  <tbody>\n",
       "    <tr>\n",
       "      <th>0</th>\n",
       "      <td>7</td>\n",
       "      <td>Front End Supervisor/CashierCustomer Service R...</td>\n",
       "    </tr>\n",
       "    <tr>\n",
       "      <th>1</th>\n",
       "      <td>9</td>\n",
       "      <td>CookMechanicFile Clerk</td>\n",
       "    </tr>\n",
       "    <tr>\n",
       "      <th>2</th>\n",
       "      <td>13</td>\n",
       "      <td>Pennsylvania MentorStudent WorkerInternship in...</td>\n",
       "    </tr>\n",
       "    <tr>\n",
       "      <th>3</th>\n",
       "      <td>16</td>\n",
       "      <td>Senior Messaging Engineer (Exchange Lead)Excha...</td>\n",
       "    </tr>\n",
       "    <tr>\n",
       "      <th>4</th>\n",
       "      <td>26</td>\n",
       "      <td>Information Technology ManagerConsultantSuppor...</td>\n",
       "    </tr>\n",
       "  </tbody>\n",
       "</table>\n",
       "</div>"
      ],
      "text/plain": [
       "   UserID                                           JobTitle\n",
       "0       7  Front End Supervisor/CashierCustomer Service R...\n",
       "1       9                             CookMechanicFile Clerk\n",
       "2      13  Pennsylvania MentorStudent WorkerInternship in...\n",
       "3      16  Senior Messaging Engineer (Exchange Lead)Excha...\n",
       "4      26  Information Technology ManagerConsultantSuppor..."
      ]
     },
     "execution_count": 10,
     "metadata": {},
     "output_type": "execute_result"
    }
   ],
   "source": [
    "group_work_history.head()"
   ]
  },
  {
   "cell_type": "code",
   "execution_count": 11,
   "id": "984af260",
   "metadata": {},
   "outputs": [
    {
     "name": "stdout",
     "output_type": "stream",
     "text": [
      "<class 'pandas.core.frame.DataFrame'>\n",
      "RangeIndex: 152292 entries, 0 to 152291\n",
      "Data columns (total 2 columns):\n",
      " #   Column    Non-Null Count   Dtype \n",
      "---  ------    --------------   ----- \n",
      " 0   UserID    152292 non-null  int64 \n",
      " 1   JobTitle  152292 non-null  object\n",
      "dtypes: int64(1), object(1)\n",
      "memory usage: 2.3+ MB\n"
     ]
    }
   ],
   "source": [
    "group_work_history.info()"
   ]
  },
  {
   "cell_type": "code",
   "execution_count": 12,
   "id": "8bc31c4a",
   "metadata": {},
   "outputs": [],
   "source": [
    "user_merge = user_set.merge(group_work_history, on='UserID', how='left')"
   ]
  },
  {
   "cell_type": "code",
   "execution_count": 13,
   "id": "113a2338",
   "metadata": {},
   "outputs": [
    {
     "name": "stdout",
     "output_type": "stream",
     "text": [
      "<class 'pandas.core.frame.DataFrame'>\n",
      "Int64Index: 152292 entries, 0 to 152291\n",
      "Data columns (total 12 columns):\n",
      " #   Column                Non-Null Count   Dtype  \n",
      "---  ------                --------------   -----  \n",
      " 0   UserID                152292 non-null  int64  \n",
      " 1   Split                 152292 non-null  object \n",
      " 2   City                  152292 non-null  object \n",
      " 3   State                 152078 non-null  object \n",
      " 4   Country               152292 non-null  object \n",
      " 5   DegreeType            152292 non-null  int64  \n",
      " 6   WorkHistoryCount      152292 non-null  int64  \n",
      " 7   TotalYearsExperience  152292 non-null  float64\n",
      " 8   CurrentlyEmployed     152292 non-null  int64  \n",
      " 9   ManagedOthers         152292 non-null  int64  \n",
      " 10  ManagedHowMany        152292 non-null  int64  \n",
      " 11  JobTitle              152292 non-null  object \n",
      "dtypes: float64(1), int64(6), object(5)\n",
      "memory usage: 15.1+ MB\n"
     ]
    }
   ],
   "source": [
    "user_merge.info()"
   ]
  },
  {
   "cell_type": "code",
   "execution_count": 14,
   "id": "b19a4e58",
   "metadata": {},
   "outputs": [],
   "source": [
    "import subprocess\n",
    "import argparse\n",
    "from sklearn.feature_extraction.text import TfidfVectorizer, CountVectorizer\n",
    "from sklearn.decomposition import NMF, LatentDirichletAllocation\n",
    "from bs4 import BeautifulSoup\n",
    "import pickle"
   ]
  },
  {
   "cell_type": "code",
   "execution_count": 15,
   "id": "a7081f09",
   "metadata": {},
   "outputs": [],
   "source": [
    "def display_topics(model, feature_names, no_top_words):\n",
    "    for topic_idx, topic in enumerate(model.components_):\n",
    "        print(\"Topic %d:\" % (topic_idx))\n",
    "        print(\" \".join([feature_names[i] for i in topic.argsort()[:-no_top_words - 1:-1]]))\n",
    "        \n",
    "def calc_lda(df, no_features = 1000, no_topics = 20):\n",
    "    # LDA can only use raw term counts for LDA because it is a probabilistic graphical model\n",
    "    tf_vectorizer = CountVectorizer(max_df=0.95, \n",
    "                                    min_df=2, \n",
    "                                    max_features=no_features, \n",
    "                                    stop_words='english')\n",
    "    tf = tf_vectorizer.fit_transform(df)\n",
    "    tf_feature_names = tf_vectorizer.get_feature_names()\n",
    "\n",
    "    # Run LDA\n",
    "    lda = LatentDirichletAllocation(n_components=no_topics, \n",
    "                                    max_iter=5, \n",
    "                                    learning_method='online', \n",
    "                                    learning_offset=50.,random_state=0).fit(tf)\n",
    "\n",
    "\n",
    "    no_top_words = 5\n",
    "    display_topics(lda, tf_feature_names, no_top_words)\n",
    "    return lda, tf_feature_names"
   ]
  },
  {
   "cell_type": "code",
   "execution_count": 16,
   "id": "baecd3b0",
   "metadata": {},
   "outputs": [
    {
     "name": "stderr",
     "output_type": "stream",
     "text": [
      "/Users/anhtth/opt/anaconda3/lib/python3.9/site-packages/sklearn/utils/deprecation.py:87: FutureWarning: Function get_feature_names is deprecated; get_feature_names is deprecated in 1.0 and will be removed in 1.2. Please use get_feature_names_out instead.\n",
      "  warnings.warn(msg, category=FutureWarning)\n"
     ]
    },
    {
     "name": "stdout",
     "output_type": "stream",
     "text": [
      "Topic 0:\n",
      "cashier counselor property lab retail\n",
      "Topic 1:\n",
      "manager senior maintenance owner shift\n",
      "Topic 2:\n",
      "support operations technical rep member\n",
      "Topic 3:\n",
      "sales manager resources human representative\n",
      "Topic 4:\n",
      "business officer leader manager managersales\n",
      "Topic 5:\n",
      "manager marketing lead store managerassistant\n",
      "Topic 6:\n",
      "specialist administrator manager secretary resource\n",
      "Topic 7:\n",
      "development staff social work managerdirector\n",
      "Topic 8:\n",
      "operator production worker receiving forklift\n",
      "Topic 9:\n",
      "technician engineer management agent quality\n",
      "Topic 10:\n",
      "service customer representative inventory representativecustomer\n",
      "Topic 11:\n",
      "account analyst president time systems\n",
      "Topic 12:\n",
      "supervisor control warehouse field contract\n",
      "Topic 13:\n",
      "desk financial center program designer\n",
      "Topic 14:\n",
      "coordinator care nurse health case\n",
      "Topic 15:\n",
      "director project executive general consultant\n",
      "Topic 16:\n",
      "assistant office administrative medical billing\n",
      "Topic 17:\n",
      "associate data driver intern certified\n",
      "Topic 18:\n",
      "clerk services team entry accountant\n",
      "Topic 19:\n",
      "teacher accounting accounts payable receptionist\n"
     ]
    }
   ],
   "source": [
    "lda_user, tf_feature_names_user = calc_lda(user_merge[\"JobTitle\"])"
   ]
  },
  {
   "cell_type": "code",
   "execution_count": 18,
   "id": "acc7ad68",
   "metadata": {},
   "outputs": [],
   "source": [
    "interim_path = \"./data_interim_lda/\"\n",
    "pickle.dump(lda_user, open(interim_path + \"lda_user_history.model\", 'wb'), protocol=4)\n",
    "pickle.dump(tf_feature_names_user, open(interim_path + \"lda_user_history.fnames\", 'wb'), protocol=4)\n"
   ]
  },
  {
   "cell_type": "code",
   "execution_count": 20,
   "id": "c0eba28b",
   "metadata": {},
   "outputs": [],
   "source": [
    "def apply_topics(text, model, feature_names, fn_dict):\n",
    "    words = re.findall(r\"[\\w']+\", text)\n",
    "        \n",
    "    overlap = [value for value in feature_names if value in words]\n",
    "    \n",
    "    max_sum_t = -1.0\n",
    "    max_topic_idx = None\n",
    "    for topic_idx, topic in enumerate(model.components_):\n",
    "        sum_t = 0.0\n",
    "        for word in overlap:\n",
    "            sum_t += topic[fn_dict[word]]\n",
    "        \n",
    "        if sum_t > max_sum_t:\n",
    "            max_sum_t = sum_t\n",
    "            max_topic_idx = topic_idx\n",
    "    \n",
    "    return max_topic_idx\n",
    "\n",
    "        \n",
    "def gen_fn_dict(feature_names):\n",
    "    fn_dict = {}\n",
    "    f_idx = 0\n",
    "    \n",
    "    for name in feature_names:\n",
    "        fn_dict[name] = f_idx\n",
    "        f_idx += 1\n",
    "        \n",
    "    return fn_dict\n"
   ]
  },
  {
   "cell_type": "code",
   "execution_count": 21,
   "id": "ece817c6",
   "metadata": {},
   "outputs": [],
   "source": [
    "fn_dict_user = gen_fn_dict(tf_feature_names_user)"
   ]
  },
  {
   "cell_type": "code",
   "execution_count": 23,
   "id": "37e0fe6b",
   "metadata": {},
   "outputs": [
    {
     "name": "stdout",
     "output_type": "stream",
     "text": [
      "CPU times: user 24.1 s, sys: 124 ms, total: 24.2 s\n",
      "Wall time: 24.3 s\n"
     ]
    }
   ],
   "source": [
    "%%time\n",
    "import re\n",
    "\n",
    "user_merge['WorkHistoryTopic'] = user_merge.apply(lambda x: apply_topics(x['JobTitle'], lda_user, tf_feature_names_user, fn_dict_user), axis=1)\n"
   ]
  },
  {
   "cell_type": "code",
   "execution_count": 24,
   "id": "b36eab11",
   "metadata": {},
   "outputs": [],
   "source": [
    "# Export data\n",
    "user_merge.to_csv(interim_path + \"user_history_lda.csv\", header=True, index=False)"
   ]
  },
  {
   "cell_type": "code",
   "execution_count": 25,
   "id": "a3069b8d",
   "metadata": {},
   "outputs": [
    {
     "data": {
      "text/html": [
       "<div>\n",
       "<style scoped>\n",
       "    .dataframe tbody tr th:only-of-type {\n",
       "        vertical-align: middle;\n",
       "    }\n",
       "\n",
       "    .dataframe tbody tr th {\n",
       "        vertical-align: top;\n",
       "    }\n",
       "\n",
       "    .dataframe thead th {\n",
       "        text-align: right;\n",
       "    }\n",
       "</style>\n",
       "<table border=\"1\" class=\"dataframe\">\n",
       "  <thead>\n",
       "    <tr style=\"text-align: right;\">\n",
       "      <th></th>\n",
       "      <th>UserID</th>\n",
       "      <th>Split</th>\n",
       "      <th>City</th>\n",
       "      <th>State</th>\n",
       "      <th>Country</th>\n",
       "      <th>DegreeType</th>\n",
       "      <th>WorkHistoryCount</th>\n",
       "      <th>TotalYearsExperience</th>\n",
       "      <th>CurrentlyEmployed</th>\n",
       "      <th>ManagedOthers</th>\n",
       "      <th>ManagedHowMany</th>\n",
       "      <th>JobTitle</th>\n",
       "      <th>WorkHistoryTopic</th>\n",
       "    </tr>\n",
       "  </thead>\n",
       "  <tbody>\n",
       "    <tr>\n",
       "      <th>0</th>\n",
       "      <td>80</td>\n",
       "      <td>Train</td>\n",
       "      <td>Williamstown</td>\n",
       "      <td>NJ</td>\n",
       "      <td>US</td>\n",
       "      <td>1</td>\n",
       "      <td>5</td>\n",
       "      <td>11.0</td>\n",
       "      <td>1</td>\n",
       "      <td>1</td>\n",
       "      <td>5</td>\n",
       "      <td>Auto Publishing/Electro Mechanical Technician,...</td>\n",
       "      <td>9</td>\n",
       "    </tr>\n",
       "    <tr>\n",
       "      <th>1</th>\n",
       "      <td>123</td>\n",
       "      <td>Train</td>\n",
       "      <td>Baton Rouge</td>\n",
       "      <td>LA</td>\n",
       "      <td>US</td>\n",
       "      <td>4</td>\n",
       "      <td>1</td>\n",
       "      <td>9.0</td>\n",
       "      <td>1</td>\n",
       "      <td>0</td>\n",
       "      <td>0</td>\n",
       "      <td>Lead Hostess and Takeout Server</td>\n",
       "      <td>0</td>\n",
       "    </tr>\n",
       "    <tr>\n",
       "      <th>2</th>\n",
       "      <td>162</td>\n",
       "      <td>Train</td>\n",
       "      <td>Long Beach</td>\n",
       "      <td>CA</td>\n",
       "      <td>US</td>\n",
       "      <td>5</td>\n",
       "      <td>10</td>\n",
       "      <td>25.0</td>\n",
       "      <td>0</td>\n",
       "      <td>0</td>\n",
       "      <td>0</td>\n",
       "      <td>Student AssistantGraduate AssistantTreasurerOw...</td>\n",
       "      <td>0</td>\n",
       "    </tr>\n",
       "    <tr>\n",
       "      <th>3</th>\n",
       "      <td>178</td>\n",
       "      <td>Train</td>\n",
       "      <td>Greenville</td>\n",
       "      <td>SC</td>\n",
       "      <td>US</td>\n",
       "      <td>1</td>\n",
       "      <td>6</td>\n",
       "      <td>35.0</td>\n",
       "      <td>0</td>\n",
       "      <td>1</td>\n",
       "      <td>4</td>\n",
       "      <td>CHEMICAL MANAGERChemical Management Company Sp...</td>\n",
       "      <td>0</td>\n",
       "    </tr>\n",
       "    <tr>\n",
       "      <th>4</th>\n",
       "      <td>344</td>\n",
       "      <td>Train</td>\n",
       "      <td>Newport News</td>\n",
       "      <td>VA</td>\n",
       "      <td>US</td>\n",
       "      <td>1</td>\n",
       "      <td>3</td>\n",
       "      <td>7.0</td>\n",
       "      <td>1</td>\n",
       "      <td>0</td>\n",
       "      <td>0</td>\n",
       "      <td>Restaurant ServerCashier</td>\n",
       "      <td>0</td>\n",
       "    </tr>\n",
       "  </tbody>\n",
       "</table>\n",
       "</div>"
      ],
      "text/plain": [
       "   UserID  Split          City State Country  DegreeType  WorkHistoryCount  \\\n",
       "0      80  Train  Williamstown    NJ      US           1                 5   \n",
       "1     123  Train   Baton Rouge    LA      US           4                 1   \n",
       "2     162  Train    Long Beach    CA      US           5                10   \n",
       "3     178  Train    Greenville    SC      US           1                 6   \n",
       "4     344  Train  Newport News    VA      US           1                 3   \n",
       "\n",
       "   TotalYearsExperience  CurrentlyEmployed  ManagedOthers  ManagedHowMany  \\\n",
       "0                  11.0                  1              1               5   \n",
       "1                   9.0                  1              0               0   \n",
       "2                  25.0                  0              0               0   \n",
       "3                  35.0                  0              1               4   \n",
       "4                   7.0                  1              0               0   \n",
       "\n",
       "                                            JobTitle  WorkHistoryTopic  \n",
       "0  Auto Publishing/Electro Mechanical Technician,...                 9  \n",
       "1                    Lead Hostess and Takeout Server                 0  \n",
       "2  Student AssistantGraduate AssistantTreasurerOw...                 0  \n",
       "3  CHEMICAL MANAGERChemical Management Company Sp...                 0  \n",
       "4                           Restaurant ServerCashier                 0  "
      ]
     },
     "execution_count": 25,
     "metadata": {},
     "output_type": "execute_result"
    }
   ],
   "source": [
    "user_merge.head()"
   ]
  },
  {
   "cell_type": "code",
   "execution_count": 106,
   "id": "ea4a85bb",
   "metadata": {},
   "outputs": [],
   "source": []
  },
  {
   "cell_type": "code",
   "execution_count": null,
   "id": "73d2e1ba",
   "metadata": {},
   "outputs": [],
   "source": []
  }
 ],
 "metadata": {
  "kernelspec": {
   "display_name": "Python 3 (ipykernel)",
   "language": "python",
   "name": "python3"
  },
  "language_info": {
   "codemirror_mode": {
    "name": "ipython",
    "version": 3
   },
   "file_extension": ".py",
   "mimetype": "text/x-python",
   "name": "python",
   "nbconvert_exporter": "python",
   "pygments_lexer": "ipython3",
   "version": "3.9.12"
  }
 },
 "nbformat": 4,
 "nbformat_minor": 5
}
