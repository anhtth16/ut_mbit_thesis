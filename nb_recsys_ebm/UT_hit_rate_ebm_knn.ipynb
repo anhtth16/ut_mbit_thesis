{
 "cells": [
  {
   "cell_type": "markdown",
   "id": "9c1f2377-8722-4575-9ffd-87c3b1b35eab",
   "metadata": {},
   "source": [
    "# Calculate hit_rate\n",
    "## Model: EBM models (trained on tabular LDA features)\n",
    "## Ranking data: knn_lda_ranking_v2\n",
    "- Input: Top20 recommendation results by ebm_location, ebm_side_info, ebm_extended models\n",
    "- Hit rate: Evaluated on different benchmarks: knn_lda_ranking_data, random_ranking_data, actual test_interaction data\n",
    "- Hit rate @5, @10, @20 for each model"
   ]
  },
  {
   "cell_type": "code",
   "execution_count": 1,
   "id": "eb473a5a-cd42-4006-bf6c-af1423dd71e9",
   "metadata": {},
   "outputs": [],
   "source": [
    "import numpy as np\n",
    "import pandas as pd\n"
   ]
  },
  {
   "cell_type": "code",
   "execution_count": 2,
   "id": "abdf83d6-59f2-44b9-b0e4-24c109f7c652",
   "metadata": {},
   "outputs": [],
   "source": [
    "import warnings\n",
    "warnings.filterwarnings('ignore')"
   ]
  },
  {
   "cell_type": "code",
   "execution_count": 3,
   "id": "57c8e4d0-3876-44a5-8359-0acbedf38cb4",
   "metadata": {},
   "outputs": [
    {
     "name": "stdout",
     "output_type": "stream",
     "text": [
      "Working directory: /home/jovyan/1_UT THESIS/CB12_MAIN/nb_recsys_ebm\n"
     ]
    }
   ],
   "source": [
    "# Run this for reproduce\n",
    "# Gets the current working directory\n",
    "import os\n",
    "cwd = os.getcwd()\n",
    "print(\"Working directory:\", cwd)\n",
    "# Go up one directory from working directory\n",
    "os.chdir(\"..\")"
   ]
  },
  {
   "cell_type": "code",
   "execution_count": 4,
   "id": "7ff37b86-cab0-407f-b216-1f68075fc850",
   "metadata": {},
   "outputs": [],
   "source": [
    "# Load evaluation data\n",
    "evaluation_data = pd.read_csv('./nb_recsys_ebm/ranking_data_knn_lda_v2.csv')"
   ]
  },
  {
   "cell_type": "code",
   "execution_count": 5,
   "id": "44d99819-b807-42de-ac59-ba70173c4b6d",
   "metadata": {},
   "outputs": [
    {
     "name": "stdout",
     "output_type": "stream",
     "text": [
      "<class 'pandas.core.frame.DataFrame'>\n",
      "RangeIndex: 369098 entries, 0 to 369097\n",
      "Data columns (total 6 columns):\n",
      " #   Column   Non-Null Count   Dtype  \n",
      "---  ------   --------------   -----  \n",
      " 0   UserID   369098 non-null  int64  \n",
      " 1   JobID    369098 non-null  int64  \n",
      " 2   label    369098 non-null  float64\n",
      " 3   City     369098 non-null  float64\n",
      " 4   State    369098 non-null  float64\n",
      " 5   Country  369098 non-null  float64\n",
      "dtypes: float64(4), int64(2)\n",
      "memory usage: 16.9 MB\n"
     ]
    }
   ],
   "source": [
    "evaluation_data.info()"
   ]
  },
  {
   "cell_type": "code",
   "execution_count": 6,
   "id": "9cf5d2a6-7cd7-4921-95e4-9588e1623a3f",
   "metadata": {},
   "outputs": [
    {
     "data": {
      "text/plain": [
       "label\n",
       "0.0    368951\n",
       "1.0       147\n",
       "Name: count, dtype: int64"
      ]
     },
     "execution_count": 6,
     "metadata": {},
     "output_type": "execute_result"
    }
   ],
   "source": [
    "evaluation_data.label.value_counts()"
   ]
  },
  {
   "cell_type": "code",
   "execution_count": 7,
   "id": "6ed62b5f-750e-40d2-b4f9-9135e0b73aef",
   "metadata": {},
   "outputs": [
    {
     "data": {
      "text/plain": [
       "label\n",
       "0    367884\n",
       "1      3716\n",
       "Name: count, dtype: int64"
      ]
     },
     "execution_count": 7,
     "metadata": {},
     "output_type": "execute_result"
    }
   ],
   "source": [
    "# Load random sample data\n",
    "ranking_data_random = pd.read_csv('./nb_recsys_ebm/ranking_data_random.csv')\n",
    "ranking_data_random.label.value_counts()"
   ]
  },
  {
   "cell_type": "code",
   "execution_count": 8,
   "id": "52e21de9-f003-4f82-ab07-7dab6241474e",
   "metadata": {},
   "outputs": [],
   "source": [
    "models = []\n",
    "benchmarks = []\n",
    "hits_5 = []\n",
    "hits_10 = []\n",
    "hits_20 = []"
   ]
  },
  {
   "cell_type": "markdown",
   "id": "b0890999-5bfe-4e2d-97a3-eeb68f60e504",
   "metadata": {},
   "source": [
    "## Load recommendation results"
   ]
  },
  {
   "cell_type": "code",
   "execution_count": 10,
   "id": "f26b713c-9ca0-4fda-ab1e-c820cd570980",
   "metadata": {},
   "outputs": [],
   "source": [
    "ebm_location_recommendations = pd.read_csv('./output_topN_ebm/rec_result_location_knn.csv')\n",
    "ebm_extended_recommendations = pd.read_csv('./output_topN_ebm/rec_result_extended_knn.csv')\n",
    "ebm_side_info_recommendations = pd.read_csv('./output_topN_ebm/rec_result_side_info_knn.csv')"
   ]
  },
  {
   "cell_type": "code",
   "execution_count": 11,
   "id": "82b83149-65d7-4842-99eb-28718e4cdef1",
   "metadata": {},
   "outputs": [],
   "source": [
    "def get_hit_rate_at_k(recommendations, rankings, K):\n",
    "    total_users = len(recommendations['UserID'].unique())\n",
    "    hit_count = 0\n",
    "    # mark_stop = 0\n",
    "    for user_id in recommendations['UserID'].unique():\n",
    "        user_recommendations = recommendations[recommendations['UserID'] == user_id]['JobID'].tolist()[:K]\n",
    "        actual_job_ids = rankings[(rankings['UserID'] == user_id) & (rankings['label'] == 1)]['JobID'].tolist()\n",
    "\n",
    "        for rec_job_id in user_recommendations:\n",
    "            if rec_job_id in actual_job_ids:\n",
    "                # print('hit detail UserID, JobID: ', user_id, rec_job_id)\n",
    "                hit_count += 1\n",
    "                break     \n",
    "        # mark_stop =+1\n",
    "        # if mark_stop == 2:\n",
    "        #     break\n",
    "    print('final hit_count:', hit_count)\n",
    "    hit_rate = hit_count / total_users\n",
    "    return hit_rate"
   ]
  },
  {
   "cell_type": "markdown",
   "id": "a308c89e-609d-4ab9-b101-65dd01cab454",
   "metadata": {},
   "source": [
    "# Calculate hit_rate (manual) - Benchmark - random sample data\n",
    "Positive items: Only consider label 1"
   ]
  },
  {
   "cell_type": "code",
   "execution_count": 12,
   "id": "8cafae6b-121d-46ee-912b-cfb8208bb436",
   "metadata": {},
   "outputs": [],
   "source": [
    "benchmark = 'ranking_data_random'"
   ]
  },
  {
   "cell_type": "markdown",
   "id": "0fffd911-6740-4b1c-be18-265fcab32afb",
   "metadata": {
    "tags": []
   },
   "source": [
    "## Model EBM_location"
   ]
  },
  {
   "cell_type": "code",
   "execution_count": 13,
   "id": "8bedb803-2af4-41ec-9d2b-914df8790f36",
   "metadata": {},
   "outputs": [
    {
     "name": "stdout",
     "output_type": "stream",
     "text": [
      "final hit_count: 18\n",
      "Model: ebm_location - Hit rate at 5: 0.004876727174207532\n",
      "final hit_count: 21\n",
      "Model: ebm_location - Hit rate at 10: 0.005689515036575454\n",
      "final hit_count: 22\n",
      "Model: ebm_location - Hit rate at 20: 0.005960444324031428\n",
      "CPU times: user 13.3 s, sys: 0 ns, total: 13.3 s\n",
      "Wall time: 13.3 s\n"
     ]
    }
   ],
   "source": [
    "%%time\n",
    "# Calculate hit rate at K (precision at K)\n",
    "model = 'ebm_location'\n",
    "k = 5  # Set the desired value of K\n",
    "hit_5 = get_hit_rate_at_k(recommendations = ebm_location_recommendations, \n",
    "                                   rankings = ranking_data_random, \n",
    "                                   K=k)\n",
    "print(f\"Model: {model} - Hit rate at {k}: {hit_5}\")\n",
    "\n",
    "k = 10  # Set the desired value of K\n",
    "hit_10 = get_hit_rate_at_k(recommendations = ebm_location_recommendations, \n",
    "                                   rankings = ranking_data_random, \n",
    "                                   K=k)\n",
    "print(f\"Model: {model} - Hit rate at {k}: {hit_10}\")\n",
    "\n",
    "k = 20  # Set the desired value of K\n",
    "hit_20 = get_hit_rate_at_k(recommendations = ebm_location_recommendations, \n",
    "                                   rankings = ranking_data_random, \n",
    "                                   K=k)\n",
    "print(f\"Model: {model} - Hit rate at {k}: {hit_20}\")"
   ]
  },
  {
   "cell_type": "code",
   "execution_count": 14,
   "id": "5d0d1d1d-901e-4a68-a55f-4ae1674d9638",
   "metadata": {},
   "outputs": [],
   "source": [
    "models.append(model)\n",
    "benchmarks.append(benchmark)\n",
    "hits_5.append(hit_5)\n",
    "hits_10.append(hit_10)\n",
    "hits_20.append(hit_20)"
   ]
  },
  {
   "cell_type": "markdown",
   "id": "c256c579-aa46-42f1-ad35-a2d95d09400a",
   "metadata": {
    "tags": []
   },
   "source": [
    "## Model: ebm_side_info"
   ]
  },
  {
   "cell_type": "code",
   "execution_count": 15,
   "id": "e4f40998-9a8f-4bd4-8699-df7e03cb2275",
   "metadata": {},
   "outputs": [
    {
     "name": "stdout",
     "output_type": "stream",
     "text": [
      "final hit_count: 2\n",
      "Model: ebm_side_info - Hit rate at 5: 0.000541858574911948\n",
      "final hit_count: 5\n",
      "Model: ebm_side_info - Hit rate at 10: 0.00135464643727987\n",
      "final hit_count: 8\n",
      "Model: ebm_side_info - Hit rate at 20: 0.002167434299647792\n",
      "CPU times: user 13.2 s, sys: 281 ms, total: 13.5 s\n",
      "Wall time: 13.5 s\n"
     ]
    }
   ],
   "source": [
    "%%time\n",
    "# Calculate hit rate at K (precision at K)\n",
    "model = 'ebm_side_info'\n",
    "k = 5  # Set the desired value of K\n",
    "hit_5 = get_hit_rate_at_k(recommendations = ebm_side_info_recommendations, \n",
    "                                   rankings = ranking_data_random, \n",
    "                                   K=k)\n",
    "print(f\"Model: {model} - Hit rate at {k}: {hit_5}\")\n",
    "\n",
    "k = 10  # Set the desired value of K\n",
    "hit_10 = get_hit_rate_at_k(recommendations = ebm_side_info_recommendations, \n",
    "                                   rankings = ranking_data_random, \n",
    "                                   K=k)\n",
    "print(f\"Model: {model} - Hit rate at {k}: {hit_10}\")\n",
    "\n",
    "k = 20\n",
    "hit_20 = get_hit_rate_at_k(recommendations = ebm_side_info_recommendations, \n",
    "                                   rankings = ranking_data_random, \n",
    "                                   K=k)\n",
    "print(f\"Model: {model} - Hit rate at {k}: {hit_20}\")"
   ]
  },
  {
   "cell_type": "code",
   "execution_count": 16,
   "id": "41bcc11f-8e63-4293-81be-0edcd0fd1d11",
   "metadata": {},
   "outputs": [],
   "source": [
    "models.append(model)\n",
    "benchmarks.append(benchmark)\n",
    "hits_5.append(hit_5)\n",
    "hits_10.append(hit_10)\n",
    "hits_20.append(hit_20)"
   ]
  },
  {
   "cell_type": "markdown",
   "id": "007c4a73-04ca-429c-ab57-a4002ae7d57a",
   "metadata": {
    "tags": []
   },
   "source": [
    "## Model: ebm_extended"
   ]
  },
  {
   "cell_type": "code",
   "execution_count": 17,
   "id": "e718a25e-6092-4fd5-8b4f-151cdc096293",
   "metadata": {},
   "outputs": [
    {
     "name": "stdout",
     "output_type": "stream",
     "text": [
      "final hit_count: 18\n",
      "Model: ebm_extended - Hit rate at 5: 0.004876727174207532\n",
      "final hit_count: 21\n",
      "Model: ebm_extended - Hit rate at 10: 0.005689515036575454\n",
      "final hit_count: 22\n",
      "Model: ebm_extended - Hit rate at 20: 0.005960444324031428\n",
      "CPU times: user 12.8 s, sys: 17.9 ms, total: 12.8 s\n",
      "Wall time: 12.8 s\n"
     ]
    }
   ],
   "source": [
    "%%time\n",
    "# Calculate hit rate at K (precision at K)\n",
    "model = 'ebm_extended'\n",
    "k = 5  # Set the desired value of K\n",
    "hit_5 = get_hit_rate_at_k(recommendations = ebm_extended_recommendations, \n",
    "                                   rankings = ranking_data_random, \n",
    "                                   K=k)\n",
    "print(f\"Model: {model} - Hit rate at {k}: {hit_5}\")\n",
    "\n",
    "k = 10  # Set the desired value of K\n",
    "hit_10 = get_hit_rate_at_k(recommendations = ebm_extended_recommendations, \n",
    "                                   rankings = ranking_data_random, \n",
    "                                   K=k)\n",
    "print(f\"Model: {model} - Hit rate at {k}: {hit_10}\")\n",
    "\n",
    "k = 20  # Set the desired value of K\n",
    "hit_20 = get_hit_rate_at_k(recommendations = ebm_extended_recommendations, \n",
    "                                   rankings = ranking_data_random, \n",
    "                                   K=k)\n",
    "print(f\"Model: {model} - Hit rate at {k}: {hit_20}\")"
   ]
  },
  {
   "cell_type": "code",
   "execution_count": 18,
   "id": "b5c3c4d2-ec5e-4554-8a72-7706645a0df0",
   "metadata": {},
   "outputs": [],
   "source": [
    "models.append(model)\n",
    "benchmarks.append(benchmark)\n",
    "hits_5.append(hit_5)\n",
    "hits_10.append(hit_10)\n",
    "hits_20.append(hit_20)"
   ]
  },
  {
   "cell_type": "markdown",
   "id": "216ce01f-fe97-4236-9706-12c4fce30adb",
   "metadata": {
    "tags": []
   },
   "source": [
    "## Calculate hit_rate (manual) - Benchmark - evaluation data\n",
    "Positive items: Only consider label 1"
   ]
  },
  {
   "cell_type": "code",
   "execution_count": 19,
   "id": "877fa07c-9515-470a-9ceb-b0a9399e0a32",
   "metadata": {},
   "outputs": [],
   "source": [
    "benchmark = 'ranking_knn_lda'"
   ]
  },
  {
   "cell_type": "markdown",
   "id": "71440fa7-4939-401b-b2fd-c492ad298cf6",
   "metadata": {
    "tags": []
   },
   "source": [
    "### Model: ebm_location"
   ]
  },
  {
   "cell_type": "code",
   "execution_count": 20,
   "id": "ac89728b-eecc-43ce-8aca-d2ec9790a763",
   "metadata": {},
   "outputs": [
    {
     "name": "stdout",
     "output_type": "stream",
     "text": [
      "final hit_count: 3\n",
      "Model: ebm_location - Hit rate at 5: 0.000812787862367922\n",
      "final hit_count: 3\n",
      "Model: ebm_location - Hit rate at 10: 0.000812787862367922\n",
      "final hit_count: 3\n",
      "Model: ebm_location - Hit rate at 20: 0.000812787862367922\n",
      "CPU times: user 12.7 s, sys: 12.9 ms, total: 12.7 s\n",
      "Wall time: 12.7 s\n"
     ]
    }
   ],
   "source": [
    "%%time\n",
    "# Calculate hit rate at K (precision at K)\n",
    "model = 'ebm_location'\n",
    "k = 5  # Set the desired value of K\n",
    "hit_5 = get_hit_rate_at_k(recommendations = ebm_location_recommendations, \n",
    "                                   rankings = evaluation_data, \n",
    "                                   K=k)\n",
    "print(f\"Model: {model} - Hit rate at {k}: {hit_5}\")\n",
    "\n",
    "k = 10  # Set the desired value of K\n",
    "hit_10 = get_hit_rate_at_k(recommendations = ebm_location_recommendations, \n",
    "                                   rankings = evaluation_data, \n",
    "                                   K=k)\n",
    "print(f\"Model: {model} - Hit rate at {k}: {hit_10}\")\n",
    "\n",
    "k = 20  # Set the desired value of K\n",
    "hit_20 = get_hit_rate_at_k(recommendations = ebm_location_recommendations, \n",
    "                                   rankings = evaluation_data, \n",
    "                                   K=k)\n",
    "print(f\"Model: {model} - Hit rate at {k}: {hit_20}\")"
   ]
  },
  {
   "cell_type": "code",
   "execution_count": 21,
   "id": "71bb71a5-2e93-436d-9ada-0a9491beefa0",
   "metadata": {},
   "outputs": [],
   "source": [
    "models.append(model)\n",
    "benchmarks.append(benchmark)\n",
    "hits_5.append(hit_5)\n",
    "hits_10.append(hit_10)\n",
    "hits_20.append(hit_20)"
   ]
  },
  {
   "cell_type": "markdown",
   "id": "913e2123-2ba1-458d-924b-994039880aef",
   "metadata": {
    "tags": []
   },
   "source": [
    "### Model: ebm_side_info"
   ]
  },
  {
   "cell_type": "code",
   "execution_count": 22,
   "id": "7da8985a-ff0c-49c2-8433-7d429ef96104",
   "metadata": {},
   "outputs": [
    {
     "name": "stdout",
     "output_type": "stream",
     "text": [
      "final hit_count: 1\n",
      "Model: ebm_side_info - Hit rate at 5: 0.000270929287455974\n",
      "final hit_count: 2\n",
      "Model: ebm_side_info - Hit rate at 10: 0.000541858574911948\n",
      "final hit_count: 3\n",
      "Model: ebm_side_info - Hit rate at 20: 0.000812787862367922\n",
      "CPU times: user 11.8 s, sys: 6.1 ms, total: 11.8 s\n",
      "Wall time: 11.8 s\n"
     ]
    }
   ],
   "source": [
    "%%time\n",
    "# Calculate hit rate at K (precision at K)\n",
    "model = 'ebm_side_info'\n",
    "k = 5  # Set the desired value of K\n",
    "hit_5 = get_hit_rate_at_k(recommendations = ebm_side_info_recommendations, \n",
    "                                   rankings = evaluation_data, \n",
    "                                   K=k)\n",
    "print(f\"Model: {model} - Hit rate at {k}: {hit_5}\")\n",
    "\n",
    "k = 10  # Set the desired value of K\n",
    "hit_10 = get_hit_rate_at_k(recommendations = ebm_side_info_recommendations, \n",
    "                                   rankings = evaluation_data, \n",
    "                                   K=k)\n",
    "print(f\"Model: {model} - Hit rate at {k}: {hit_10}\")\n",
    "\n",
    "k = 20\n",
    "hit_20 = get_hit_rate_at_k(recommendations = ebm_side_info_recommendations, \n",
    "                                   rankings = evaluation_data, \n",
    "                                   K=k)\n",
    "print(f\"Model: {model} - Hit rate at {k}: {hit_20}\")"
   ]
  },
  {
   "cell_type": "code",
   "execution_count": 23,
   "id": "38747789-fc18-4bd7-a65e-342e7150e013",
   "metadata": {},
   "outputs": [],
   "source": [
    "models.append(model)\n",
    "benchmarks.append(benchmark)\n",
    "hits_5.append(hit_5)\n",
    "hits_10.append(hit_10)\n",
    "hits_20.append(hit_20)"
   ]
  },
  {
   "cell_type": "markdown",
   "id": "aaa29e75-d5ea-49a8-8b75-96426312f8cd",
   "metadata": {
    "tags": []
   },
   "source": [
    "### Model: ebm_extended"
   ]
  },
  {
   "cell_type": "code",
   "execution_count": 24,
   "id": "c5fc4b0b-3223-4056-b482-a304682de810",
   "metadata": {},
   "outputs": [
    {
     "name": "stdout",
     "output_type": "stream",
     "text": [
      "final hit_count: 3\n",
      "Model: ebm_extended - Hit rate at 5: 0.000812787862367922\n",
      "final hit_count: 4\n",
      "Model: ebm_extended - Hit rate at 10: 0.001083717149823896\n",
      "final hit_count: 6\n",
      "Model: ebm_extended - Hit rate at 20: 0.001625575724735844\n",
      "CPU times: user 11.8 s, sys: 10.9 ms, total: 11.9 s\n",
      "Wall time: 11.9 s\n"
     ]
    }
   ],
   "source": [
    "%%time\n",
    "# Calculate hit rate at K (precision at K)\n",
    "model = 'ebm_extended'\n",
    "k = 5  # Set the desired value of K\n",
    "hit_5 = get_hit_rate_at_k(recommendations = ebm_extended_recommendations, \n",
    "                                   rankings = evaluation_data, \n",
    "                                   K=k)\n",
    "print(f\"Model: {model} - Hit rate at {k}: {hit_5}\")\n",
    "\n",
    "k = 10  # Set the desired value of K\n",
    "hit_10 = get_hit_rate_at_k(recommendations = ebm_extended_recommendations, \n",
    "                                   rankings = evaluation_data, \n",
    "                                   K=k)\n",
    "print(f\"Model: {model} - Hit rate at {k}: {hit_10}\")\n",
    "\n",
    "k = 20  # Set the desired value of K\n",
    "hit_20 = get_hit_rate_at_k(recommendations = ebm_extended_recommendations, \n",
    "                                   rankings = evaluation_data, \n",
    "                                   K=k)\n",
    "print(f\"Model: {model} - Hit rate at {k}: {hit_20}\")"
   ]
  },
  {
   "cell_type": "code",
   "execution_count": 25,
   "id": "61cb6075-0ca9-4bf6-89f9-b7005d4c577e",
   "metadata": {},
   "outputs": [],
   "source": [
    "models.append(model)\n",
    "benchmarks.append(benchmark)\n",
    "hits_5.append(hit_5)\n",
    "hits_10.append(hit_10)\n",
    "hits_20.append(hit_20)"
   ]
  },
  {
   "cell_type": "markdown",
   "id": "292b3a25-8bae-48bb-921f-3a868266f8a7",
   "metadata": {
    "tags": []
   },
   "source": [
    "# Calculate hit_rate (manual) - Evaluation data: test_interaction data"
   ]
  },
  {
   "cell_type": "code",
   "execution_count": 26,
   "id": "0d0bdf4d-86d6-4953-9539-fc241efb61da",
   "metadata": {},
   "outputs": [],
   "source": [
    "benchmark = 'actual_test_interaction'"
   ]
  },
  {
   "cell_type": "code",
   "execution_count": 27,
   "id": "3a76851b-75d3-47df-b8d4-578fa83aeecd",
   "metadata": {},
   "outputs": [],
   "source": [
    "# Load all interaction data (LDA tabular with side information)\n",
    "train_data_extended = pd.read_csv('./xai_recsys/train_data_extended.csv')\n",
    "test_data_extended = pd.read_csv('./xai_recsys/test_data_extended.csv')"
   ]
  },
  {
   "cell_type": "code",
   "execution_count": 28,
   "id": "4bd995b3-ec40-441d-a98d-064defbe7ca7",
   "metadata": {},
   "outputs": [],
   "source": [
    "# Get all interaction data\n",
    "select_cols = ['UserID', 'JobID', 'label','Split']\n",
    "actual_interaction_train = train_data_extended[select_cols]\n",
    "actual_interaction_test = test_data_extended[select_cols]\n",
    "actual_interaction_df = pd.concat([actual_interaction_train,actual_interaction_test])"
   ]
  },
  {
   "cell_type": "code",
   "execution_count": 29,
   "id": "10bbd977-319c-4006-b311-b4eeb58a9b8f",
   "metadata": {},
   "outputs": [
    {
     "data": {
      "text/plain": [
       "(563889, 15736)"
      ]
     },
     "execution_count": 29,
     "metadata": {},
     "output_type": "execute_result"
    }
   ],
   "source": [
    "len(actual_interaction_train), len(actual_interaction_test)"
   ]
  },
  {
   "cell_type": "markdown",
   "id": "3c068041-677d-4d52-8732-fe94e328ad7a",
   "metadata": {
    "tags": []
   },
   "source": [
    "### Model: EBM_location"
   ]
  },
  {
   "cell_type": "code",
   "execution_count": 30,
   "id": "7005e008-291c-4a4b-bbf5-17bbc8f64172",
   "metadata": {},
   "outputs": [
    {
     "name": "stdout",
     "output_type": "stream",
     "text": [
      "final hit_count: 28\n",
      "Model: ebm_location - Hit rate at 5 - evaluated on actual interaction (test): 0.007586020048767272\n",
      "final hit_count: 33\n",
      "Model: ebm_location - Hit rate at 10 - evaluated on actual interaction (test): 0.008940666486047142\n",
      "final hit_count: 34\n",
      "Model: ebm_location - Hit rate at 20 - evaluated on actual interaction (test): 0.009211595773503115\n",
      "CPU times: user 7.78 s, sys: 11.2 ms, total: 7.79 s\n",
      "Wall time: 7.78 s\n"
     ]
    }
   ],
   "source": [
    "%%time\n",
    "# Calculate hit rate at K (precision at K)\n",
    "model = 'ebm_location'\n",
    "k = 5  # Set the desired value of K\n",
    "hit_5 = get_hit_rate_at_k(recommendations = ebm_location_recommendations, \n",
    "                                   rankings = actual_interaction_test, \n",
    "                                   K=k)\n",
    "print(f\"Model: {model} - Hit rate at {k} - evaluated on actual interaction (test): {hit_5}\")\n",
    "\n",
    "k = 10  # Set the desired value of K\n",
    "hit_10 = get_hit_rate_at_k(recommendations = ebm_location_recommendations, \n",
    "                                   rankings = actual_interaction_test, \n",
    "                                   K=k)\n",
    "print(f\"Model: {model} - Hit rate at {k} - evaluated on actual interaction (test): {hit_10}\")\n",
    "\n",
    "k = 20  # Set the desired value of K\n",
    "hit_20 = get_hit_rate_at_k(recommendations = ebm_location_recommendations, \n",
    "                                   rankings = actual_interaction_test, \n",
    "                                   K=k)\n",
    "print(f\"Model: {model} - Hit rate at {k} - evaluated on actual interaction (test): {hit_20}\")"
   ]
  },
  {
   "cell_type": "code",
   "execution_count": 31,
   "id": "2de7ee00-f500-4296-8355-ff248b3e66e8",
   "metadata": {},
   "outputs": [],
   "source": [
    "models.append(model)\n",
    "benchmarks.append(benchmark)\n",
    "hits_5.append(hit_5)\n",
    "hits_10.append(hit_10)\n",
    "hits_20.append(hit_20)"
   ]
  },
  {
   "cell_type": "markdown",
   "id": "04fb0be5-7e77-4893-ae8f-e89097c62af0",
   "metadata": {
    "tags": []
   },
   "source": [
    "### Model: EBM_side_info"
   ]
  },
  {
   "cell_type": "code",
   "execution_count": 32,
   "id": "eef7c1ee-f560-4b94-a34c-9db050febe4d",
   "metadata": {},
   "outputs": [
    {
     "name": "stdout",
     "output_type": "stream",
     "text": [
      "final hit_count: 4\n",
      "Model: ebm_side_info - Hit rate at 5 - evaluated on actual interaction (test): 0.001083717149823896\n",
      "final hit_count: 8\n",
      "Model: ebm_side_info - Hit rate at 10 - evaluated on actual interaction (test): 0.002167434299647792\n",
      "final hit_count: 13\n",
      "Model: ebm_side_info - Hit rate at 20 - evaluated on actual interaction (test): 0.003522080736927662\n",
      "CPU times: user 6.94 s, sys: 3.37 ms, total: 6.94 s\n",
      "Wall time: 6.94 s\n"
     ]
    }
   ],
   "source": [
    "%%time\n",
    "# Calculate hit rate at K (precision at K)\n",
    "model = 'ebm_side_info'\n",
    "k = 5  # Set the desired value of K\n",
    "hit_5 = get_hit_rate_at_k(recommendations = ebm_side_info_recommendations, \n",
    "                                   rankings = actual_interaction_test, \n",
    "                                   K=k)\n",
    "print(f\"Model: {model} - Hit rate at {k} - evaluated on actual interaction (test): {hit_5}\")\n",
    "\n",
    "k = 10  # Set the desired value of K\n",
    "hit_10 = get_hit_rate_at_k(recommendations = ebm_side_info_recommendations, \n",
    "                                   rankings = actual_interaction_test, \n",
    "                                   K=k)\n",
    "print(f\"Model: {model} - Hit rate at {k} - evaluated on actual interaction (test): {hit_10}\")\n",
    "\n",
    "k = 20  # Set the desired value of K\n",
    "hit_20 = get_hit_rate_at_k(recommendations = ebm_side_info_recommendations, \n",
    "                                   rankings = actual_interaction_test, \n",
    "                                   K=k)\n",
    "print(f\"Model: {model} - Hit rate at {k} - evaluated on actual interaction (test): {hit_20}\")"
   ]
  },
  {
   "cell_type": "code",
   "execution_count": 33,
   "id": "27ee4a9c-228d-4dac-83aa-3cbf779651ad",
   "metadata": {},
   "outputs": [],
   "source": [
    "models.append(model)\n",
    "benchmarks.append(benchmark)\n",
    "hits_5.append(hit_5)\n",
    "hits_10.append(hit_10)\n",
    "hits_20.append(hit_20)"
   ]
  },
  {
   "cell_type": "markdown",
   "id": "afd3ea78-b657-48ce-b048-7f5e39ac8c1a",
   "metadata": {
    "tags": []
   },
   "source": [
    "### Model: EBM_extended"
   ]
  },
  {
   "cell_type": "code",
   "execution_count": 34,
   "id": "a235a341-882b-4208-b5c3-e4b5512fbc43",
   "metadata": {},
   "outputs": [
    {
     "name": "stdout",
     "output_type": "stream",
     "text": [
      "final hit_count: 27\n",
      "Model: ebm_extended - Hit rate at 5 - evaluated on actual interaction (test): 0.007315090761311298\n",
      "final hit_count: 32\n",
      "Model: ebm_extended - Hit rate at 10 - evaluated on actual interaction (test): 0.008669737198591168\n",
      "final hit_count: 35\n",
      "Model: ebm_extended - Hit rate at 20 - evaluated on actual interaction (test): 0.00948252506095909\n",
      "CPU times: user 6.95 s, sys: 7.5 ms, total: 6.95 s\n",
      "Wall time: 6.95 s\n"
     ]
    }
   ],
   "source": [
    "%%time\n",
    "# Calculate hit rate at K (precision at K)\n",
    "model = 'ebm_extended'\n",
    "k = 5  # Set the desired value of K\n",
    "hit_5 = get_hit_rate_at_k(recommendations = ebm_extended_recommendations, \n",
    "                                   rankings = actual_interaction_test, \n",
    "                                   K=k)\n",
    "print(f\"Model: {model} - Hit rate at {k} - evaluated on actual interaction (test): {hit_5}\")\n",
    "\n",
    "k = 10  # Set the desired value of K\n",
    "hit_10 = get_hit_rate_at_k(recommendations = ebm_extended_recommendations, \n",
    "                                   rankings = actual_interaction_test, \n",
    "                                   K=k)\n",
    "print(f\"Model: {model} - Hit rate at {k} - evaluated on actual interaction (test): {hit_10}\")\n",
    "\n",
    "k = 20  # Set the desired value of K\n",
    "hit_20 = get_hit_rate_at_k(recommendations = ebm_extended_recommendations, \n",
    "                                   rankings = actual_interaction_test, \n",
    "                                   K=k)\n",
    "print(f\"Model: {model} - Hit rate at {k} - evaluated on actual interaction (test): {hit_20}\")"
   ]
  },
  {
   "cell_type": "code",
   "execution_count": 35,
   "id": "3e6ef2c6-e5b0-473c-9710-ef8970cff40f",
   "metadata": {},
   "outputs": [],
   "source": [
    "models.append(model)\n",
    "benchmarks.append(benchmark)\n",
    "hits_5.append(hit_5)\n",
    "hits_10.append(hit_10)\n",
    "hits_20.append(hit_20)"
   ]
  },
  {
   "cell_type": "markdown",
   "id": "1ee5c509-5294-42fb-a964-3d3727ec7913",
   "metadata": {
    "tags": []
   },
   "source": [
    "## Calculate hit_rate (manual) - Evaluation data: all interaction data"
   ]
  },
  {
   "cell_type": "code",
   "execution_count": 36,
   "id": "bbb88274-c2ce-4ef8-86dd-dff8cc2d9d25",
   "metadata": {},
   "outputs": [],
   "source": [
    "benchmark = 'all_interaction_data'"
   ]
  },
  {
   "cell_type": "markdown",
   "id": "8c1bda10-217b-4fec-a08f-4f6c0ce87b0a",
   "metadata": {
    "tags": []
   },
   "source": [
    "### Model: EBM_location"
   ]
  },
  {
   "cell_type": "code",
   "execution_count": 37,
   "id": "17914c2f-c3a9-4bb7-bb86-3be52eedeb78",
   "metadata": {},
   "outputs": [
    {
     "name": "stdout",
     "output_type": "stream",
     "text": [
      "final hit_count: 28\n",
      "Model: ebm_location - Hit rate at 5 - evaluated on actual interaction (all): 0.007586020048767272\n",
      "final hit_count: 33\n",
      "Model: ebm_location - Hit rate at 10 - evaluated on actual interaction (all): 0.008940666486047142\n",
      "final hit_count: 34\n",
      "Model: ebm_location - Hit rate at 20 - evaluated on actual interaction (all): 0.009211595773503115\n",
      "CPU times: user 14.8 s, sys: 22.4 ms, total: 14.8 s\n",
      "Wall time: 14.8 s\n"
     ]
    }
   ],
   "source": [
    "%%time\n",
    "# Calculate hit rate at K (precision at K)\n",
    "model = 'ebm_location'\n",
    "k = 5  # Set the desired value of K\n",
    "hit_5 = get_hit_rate_at_k(recommendations = ebm_location_recommendations, \n",
    "                                   rankings = actual_interaction_df, \n",
    "                                   K=k)\n",
    "print(f\"Model: {model} - Hit rate at {k} - evaluated on actual interaction (all): {hit_5}\")\n",
    "\n",
    "k = 10  # Set the desired value of K\n",
    "hit_10 = get_hit_rate_at_k(recommendations = ebm_location_recommendations, \n",
    "                                   rankings = actual_interaction_df, \n",
    "                                   K=k)\n",
    "print(f\"Model: {model} - Hit rate at {k} - evaluated on actual interaction (all): {hit_10}\")\n",
    "\n",
    "k = 20  # Set the desired value of K\n",
    "hit_20 = get_hit_rate_at_k(recommendations = ebm_location_recommendations, \n",
    "                                   rankings = actual_interaction_df, \n",
    "                                   K=k)\n",
    "print(f\"Model: {model} - Hit rate at {k} - evaluated on actual interaction (all): {hit_20}\")"
   ]
  },
  {
   "cell_type": "code",
   "execution_count": 38,
   "id": "953b8975-1a0c-4159-af24-732478e54671",
   "metadata": {},
   "outputs": [],
   "source": [
    "models.append(model)\n",
    "benchmarks.append(benchmark)\n",
    "hits_5.append(hit_5)\n",
    "hits_10.append(hit_10)\n",
    "hits_20.append(hit_20)"
   ]
  },
  {
   "cell_type": "markdown",
   "id": "f85547bc-ae4c-40ec-924f-837b3d011e9f",
   "metadata": {
    "tags": []
   },
   "source": [
    "### Model: side_info"
   ]
  },
  {
   "cell_type": "code",
   "execution_count": 39,
   "id": "3fca6cff-a005-467c-8349-230f919a3c0a",
   "metadata": {},
   "outputs": [
    {
     "name": "stdout",
     "output_type": "stream",
     "text": [
      "final hit_count: 4\n",
      "Model: ebm_side_info - Hit rate at 5 - evaluated on actual interaction (all): 0.001083717149823896\n",
      "final hit_count: 8\n",
      "Model: ebm_side_info - Hit rate at 10 - evaluated on actual interaction (all): 0.002167434299647792\n",
      "final hit_count: 13\n",
      "Model: ebm_side_info - Hit rate at 20 - evaluated on actual interaction (all): 0.003522080736927662\n",
      "CPU times: user 14.8 s, sys: 7.07 ms, total: 14.8 s\n",
      "Wall time: 14.8 s\n"
     ]
    }
   ],
   "source": [
    "%%time\n",
    "# Calculate hit rate at K (precision at K)\n",
    "model = 'ebm_side_info'\n",
    "k = 5  # Set the desired value of K\n",
    "hit_5 = get_hit_rate_at_k(recommendations = ebm_side_info_recommendations, \n",
    "                                   rankings = actual_interaction_df, \n",
    "                                   K=k)\n",
    "print(f\"Model: {model} - Hit rate at {k} - evaluated on actual interaction (all): {hit_5}\")\n",
    "\n",
    "k = 10  # Set the desired value of K\n",
    "hit_10 = get_hit_rate_at_k(recommendations = ebm_side_info_recommendations, \n",
    "                                   rankings = actual_interaction_df, \n",
    "                                   K=k)\n",
    "print(f\"Model: {model} - Hit rate at {k} - evaluated on actual interaction (all): {hit_10}\")\n",
    "\n",
    "k = 20  # Set the desired value of K\n",
    "hit_20 = get_hit_rate_at_k(recommendations = ebm_side_info_recommendations, \n",
    "                                   rankings = actual_interaction_df, \n",
    "                                   K=k)\n",
    "print(f\"Model: {model} - Hit rate at {k} - evaluated on actual interaction (all): {hit_20}\")"
   ]
  },
  {
   "cell_type": "code",
   "execution_count": 40,
   "id": "8a75328b-e04a-425c-b257-31133626b0b7",
   "metadata": {},
   "outputs": [],
   "source": [
    "models.append(model)\n",
    "benchmarks.append(benchmark)\n",
    "hits_5.append(hit_5)\n",
    "hits_10.append(hit_10)\n",
    "hits_20.append(hit_20)"
   ]
  },
  {
   "cell_type": "markdown",
   "id": "6ca241ca-bac1-45ed-8de0-2c0e552bc364",
   "metadata": {
    "tags": []
   },
   "source": [
    "### Model: EBM - extended"
   ]
  },
  {
   "cell_type": "code",
   "execution_count": 41,
   "id": "e1bfa837-1d4f-43e6-bdc3-4dbce2afe08e",
   "metadata": {},
   "outputs": [
    {
     "name": "stdout",
     "output_type": "stream",
     "text": [
      "final hit_count: 27\n",
      "Model: ebm_extended - Hit rate at 5 - evaluated on actual interaction (all): 0.007315090761311298\n",
      "final hit_count: 32\n",
      "Model: ebm_extended - Hit rate at 10 - evaluated on actual interaction (all): 0.008669737198591168\n",
      "final hit_count: 35\n",
      "Model: ebm_extended - Hit rate at 20 - evaluated on actual interaction (all): 0.00948252506095909\n",
      "CPU times: user 14.8 s, sys: 2.84 ms, total: 14.8 s\n",
      "Wall time: 14.8 s\n"
     ]
    }
   ],
   "source": [
    "%%time\n",
    "# Calculate hit rate at K (precision at K)\n",
    "model = 'ebm_extended'\n",
    "k = 5  # Set the desired value of K\n",
    "hit_5 = get_hit_rate_at_k(recommendations = ebm_extended_recommendations, \n",
    "                                   rankings = actual_interaction_df, \n",
    "                                   K=k)\n",
    "print(f\"Model: {model} - Hit rate at {k} - evaluated on actual interaction (all): {hit_5}\")\n",
    "\n",
    "k = 10  # Set the desired value of K\n",
    "hit_10 = get_hit_rate_at_k(recommendations = ebm_extended_recommendations, \n",
    "                                   rankings = actual_interaction_df, \n",
    "                                   K=k)\n",
    "print(f\"Model: {model} - Hit rate at {k} - evaluated on actual interaction (all): {hit_10}\")\n",
    "\n",
    "k = 20  # Set the desired value of K\n",
    "hit_20 = get_hit_rate_at_k(recommendations = ebm_extended_recommendations, \n",
    "                                   rankings = actual_interaction_df, \n",
    "                                   K=k)\n",
    "print(f\"Model: {model} - Hit rate at {k} - evaluated on actual interaction (all): {hit_20}\")"
   ]
  },
  {
   "cell_type": "code",
   "execution_count": 42,
   "id": "4a140dcc-3879-4632-8aa1-6061ffed3aed",
   "metadata": {},
   "outputs": [],
   "source": [
    "models.append(model)\n",
    "benchmarks.append(benchmark)\n",
    "hits_5.append(hit_5)\n",
    "hits_10.append(hit_10)\n",
    "hits_20.append(hit_20)"
   ]
  },
  {
   "cell_type": "markdown",
   "id": "8be76678-bf34-47b6-bee1-c67a0efd9cdd",
   "metadata": {
    "tags": []
   },
   "source": [
    "# Summary"
   ]
  },
  {
   "cell_type": "code",
   "execution_count": 43,
   "id": "4a897907-c443-4cd3-acb3-89aebcea2ac0",
   "metadata": {},
   "outputs": [
    {
     "data": {
      "text/plain": [
       "(12, 12, 12, 12, 12)"
      ]
     },
     "execution_count": 43,
     "metadata": {},
     "output_type": "execute_result"
    }
   ],
   "source": [
    "len(models), len(benchmarks), len(hits_5), len(hits_10), len(hits_20)"
   ]
  },
  {
   "cell_type": "code",
   "execution_count": 44,
   "id": "f57b06ed-5a3d-469a-a512-b48329cee2a6",
   "metadata": {},
   "outputs": [],
   "source": [
    "ebm_hit = pd.DataFrame(columns = [\"model\",\"hit_5\", \"hit_10\", \"hit_20\", 'benchmark'])\n",
    "ebm_hit.model = models\n",
    "ebm_hit.benchmark = benchmarks\n",
    "ebm_hit.hit_5 = hits_5\n",
    "ebm_hit.hit_10 = hits_10\n",
    "ebm_hit.hit_20 = hits_20"
   ]
  },
  {
   "cell_type": "code",
   "execution_count": 45,
   "id": "7d4a882c-6e73-49be-899b-caccc7d7c614",
   "metadata": {},
   "outputs": [
    {
     "data": {
      "text/html": [
       "<div>\n",
       "<style scoped>\n",
       "    .dataframe tbody tr th:only-of-type {\n",
       "        vertical-align: middle;\n",
       "    }\n",
       "\n",
       "    .dataframe tbody tr th {\n",
       "        vertical-align: top;\n",
       "    }\n",
       "\n",
       "    .dataframe thead th {\n",
       "        text-align: right;\n",
       "    }\n",
       "</style>\n",
       "<table border=\"1\" class=\"dataframe\">\n",
       "  <thead>\n",
       "    <tr style=\"text-align: right;\">\n",
       "      <th></th>\n",
       "      <th>model</th>\n",
       "      <th>hit_5</th>\n",
       "      <th>hit_10</th>\n",
       "      <th>hit_20</th>\n",
       "      <th>benchmark</th>\n",
       "    </tr>\n",
       "  </thead>\n",
       "  <tbody>\n",
       "    <tr>\n",
       "      <th>0</th>\n",
       "      <td>ebm_location</td>\n",
       "      <td>0.004877</td>\n",
       "      <td>0.005690</td>\n",
       "      <td>0.005960</td>\n",
       "      <td>ranking_data_random</td>\n",
       "    </tr>\n",
       "    <tr>\n",
       "      <th>1</th>\n",
       "      <td>ebm_side_info</td>\n",
       "      <td>0.000542</td>\n",
       "      <td>0.001355</td>\n",
       "      <td>0.002167</td>\n",
       "      <td>ranking_data_random</td>\n",
       "    </tr>\n",
       "    <tr>\n",
       "      <th>2</th>\n",
       "      <td>ebm_extended</td>\n",
       "      <td>0.004877</td>\n",
       "      <td>0.005690</td>\n",
       "      <td>0.005960</td>\n",
       "      <td>ranking_data_random</td>\n",
       "    </tr>\n",
       "    <tr>\n",
       "      <th>3</th>\n",
       "      <td>ebm_location</td>\n",
       "      <td>0.000813</td>\n",
       "      <td>0.000813</td>\n",
       "      <td>0.000813</td>\n",
       "      <td>ranking_knn_lda</td>\n",
       "    </tr>\n",
       "    <tr>\n",
       "      <th>4</th>\n",
       "      <td>ebm_side_info</td>\n",
       "      <td>0.000271</td>\n",
       "      <td>0.000542</td>\n",
       "      <td>0.000813</td>\n",
       "      <td>ranking_knn_lda</td>\n",
       "    </tr>\n",
       "    <tr>\n",
       "      <th>5</th>\n",
       "      <td>ebm_extended</td>\n",
       "      <td>0.000813</td>\n",
       "      <td>0.001084</td>\n",
       "      <td>0.001626</td>\n",
       "      <td>ranking_knn_lda</td>\n",
       "    </tr>\n",
       "    <tr>\n",
       "      <th>6</th>\n",
       "      <td>ebm_location</td>\n",
       "      <td>0.007586</td>\n",
       "      <td>0.008941</td>\n",
       "      <td>0.009212</td>\n",
       "      <td>actual_test_interaction</td>\n",
       "    </tr>\n",
       "    <tr>\n",
       "      <th>7</th>\n",
       "      <td>ebm_side_info</td>\n",
       "      <td>0.001084</td>\n",
       "      <td>0.002167</td>\n",
       "      <td>0.003522</td>\n",
       "      <td>actual_test_interaction</td>\n",
       "    </tr>\n",
       "    <tr>\n",
       "      <th>8</th>\n",
       "      <td>ebm_extended</td>\n",
       "      <td>0.007315</td>\n",
       "      <td>0.008670</td>\n",
       "      <td>0.009483</td>\n",
       "      <td>actual_test_interaction</td>\n",
       "    </tr>\n",
       "    <tr>\n",
       "      <th>9</th>\n",
       "      <td>ebm_location</td>\n",
       "      <td>0.007586</td>\n",
       "      <td>0.008941</td>\n",
       "      <td>0.009212</td>\n",
       "      <td>all_interaction_data</td>\n",
       "    </tr>\n",
       "    <tr>\n",
       "      <th>10</th>\n",
       "      <td>ebm_side_info</td>\n",
       "      <td>0.001084</td>\n",
       "      <td>0.002167</td>\n",
       "      <td>0.003522</td>\n",
       "      <td>all_interaction_data</td>\n",
       "    </tr>\n",
       "    <tr>\n",
       "      <th>11</th>\n",
       "      <td>ebm_extended</td>\n",
       "      <td>0.007315</td>\n",
       "      <td>0.008670</td>\n",
       "      <td>0.009483</td>\n",
       "      <td>all_interaction_data</td>\n",
       "    </tr>\n",
       "  </tbody>\n",
       "</table>\n",
       "</div>"
      ],
      "text/plain": [
       "            model     hit_5    hit_10    hit_20                benchmark\n",
       "0    ebm_location  0.004877  0.005690  0.005960      ranking_data_random\n",
       "1   ebm_side_info  0.000542  0.001355  0.002167      ranking_data_random\n",
       "2    ebm_extended  0.004877  0.005690  0.005960      ranking_data_random\n",
       "3    ebm_location  0.000813  0.000813  0.000813          ranking_knn_lda\n",
       "4   ebm_side_info  0.000271  0.000542  0.000813          ranking_knn_lda\n",
       "5    ebm_extended  0.000813  0.001084  0.001626          ranking_knn_lda\n",
       "6    ebm_location  0.007586  0.008941  0.009212  actual_test_interaction\n",
       "7   ebm_side_info  0.001084  0.002167  0.003522  actual_test_interaction\n",
       "8    ebm_extended  0.007315  0.008670  0.009483  actual_test_interaction\n",
       "9    ebm_location  0.007586  0.008941  0.009212     all_interaction_data\n",
       "10  ebm_side_info  0.001084  0.002167  0.003522     all_interaction_data\n",
       "11   ebm_extended  0.007315  0.008670  0.009483     all_interaction_data"
      ]
     },
     "execution_count": 45,
     "metadata": {},
     "output_type": "execute_result"
    }
   ],
   "source": [
    "ebm_hit"
   ]
  },
  {
   "cell_type": "code",
   "execution_count": 46,
   "id": "edf760bc-14c6-4225-a4df-128b460b67ff",
   "metadata": {},
   "outputs": [],
   "source": [
    "ebm_hit.to_csv('./nb_recsys_ebm/ebm_hit_knn.csv', header=True, index=False)"
   ]
  },
  {
   "cell_type": "markdown",
   "id": "20143f3b-4808-423a-9e3e-84354f5ad205",
   "metadata": {
    "jp-MarkdownHeadingCollapsed": true,
    "tags": []
   },
   "source": [
    "# Data-centric explanation\n",
    "- Count number of JobID for positive interaction in test data"
   ]
  },
  {
   "cell_type": "code",
   "execution_count": null,
   "id": "af9062d5-4752-4aea-9f10-3f01a5c313df",
   "metadata": {},
   "outputs": [],
   "source": [
    "summary_test_interaction = actual_interaction_test.groupby('UserID').agg(Count_JobID=('JobID', 'count')).reset_index()"
   ]
  },
  {
   "cell_type": "code",
   "execution_count": null,
   "id": "c05ba9fe-1670-41ad-bf0c-7c2d851228de",
   "metadata": {},
   "outputs": [],
   "source": [
    "summary_test_interaction.sort_values(by = 'Count_JobID', ascending=False)"
   ]
  },
  {
   "cell_type": "code",
   "execution_count": null,
   "id": "1ed379b1-bbb5-4199-995b-585fef1ade27",
   "metadata": {},
   "outputs": [],
   "source": [
    "summary_test_interaction['Count_JobID'].value_counts()"
   ]
  },
  {
   "cell_type": "code",
   "execution_count": null,
   "id": "56b08f71-1038-4737-a3ad-c327578ef1e3",
   "metadata": {},
   "outputs": [],
   "source": [
    "summary_positive_test_interaction = actual_interaction_test[actual_interaction_test.label==1].groupby('UserID').agg(Count_JobID=('JobID', 'count')).reset_index()"
   ]
  },
  {
   "cell_type": "code",
   "execution_count": null,
   "id": "098b7a74-3e5e-4afa-b44c-cd381de9cb2e",
   "metadata": {},
   "outputs": [],
   "source": [
    "summary_positive_test_interaction.sort_values(by = 'Count_JobID', ascending=False)"
   ]
  },
  {
   "cell_type": "code",
   "execution_count": null,
   "id": "7ed8630c-11d4-49ae-9591-460026386fe8",
   "metadata": {},
   "outputs": [],
   "source": [
    "summary_positive_test_interaction['Count_JobID'].value_counts()"
   ]
  }
 ],
 "metadata": {
  "kernelspec": {
   "display_name": "Python",
   "language": "python",
   "name": "python3"
  },
  "language_info": {
   "codemirror_mode": {
    "name": "ipython",
    "version": 3
   },
   "file_extension": ".py",
   "mimetype": "text/x-python",
   "name": "python",
   "nbconvert_exporter": "python",
   "pygments_lexer": "ipython3",
   "version": "3.8.10"
  }
 },
 "nbformat": 4,
 "nbformat_minor": 5
}
