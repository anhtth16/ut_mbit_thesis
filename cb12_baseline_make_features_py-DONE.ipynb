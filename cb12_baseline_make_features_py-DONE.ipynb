{
 "cells": [
  {
   "cell_type": "markdown",
   "id": "54fea93e",
   "metadata": {},
   "source": [
    "# Write python files for making features: baseline binary models"
   ]
  },
  {
   "cell_type": "code",
   "execution_count": 1,
   "id": "3879712f",
   "metadata": {},
   "outputs": [],
   "source": [
    "import caffeine\n",
    "caffeine.on(display=False)"
   ]
  },
  {
   "cell_type": "code",
   "execution_count": 2,
   "id": "2bf5b8df",
   "metadata": {},
   "outputs": [],
   "source": [
    "import pandas as pd\n",
    "import numpy as np"
   ]
  },
  {
   "cell_type": "code",
   "execution_count": 3,
   "id": "b1dbe486",
   "metadata": {},
   "outputs": [
    {
     "name": "stderr",
     "output_type": "stream",
     "text": [
      "/var/folders/rt/sq9c2fwj2wz441h13l9hcfrc0000gn/T/ipykernel_19546/2303771111.py:2: DtypeWarning: Columns (8) have mixed types. Specify dtype option on import or set low_memory=False.\n",
      "  job_set = pd.read_csv(\"./data_processed/jobset_clean.csv\")\n"
     ]
    }
   ],
   "source": [
    "# Load clean job data\n",
    "job_set = pd.read_csv(\"./data_processed/jobset_clean.csv\")\n",
    "# Load the dataset from Step 3\n",
    "user_set = pd.read_csv(\"./data_interim/user_set_cleaned.csv\")\n",
    "dataset = pd.read_csv(\"./data_interim/dataset_cleaned.csv\")\n",
    "work_history = pd.read_csv('./data_interim/work_history_cleaned.csv')"
   ]
  },
  {
   "cell_type": "code",
   "execution_count": 4,
   "id": "4559a0a0",
   "metadata": {},
   "outputs": [
    {
     "name": "stdout",
     "output_type": "stream",
     "text": [
      "Writing make_features.py\n"
     ]
    }
   ],
   "source": [
    "%%writefile make_features.py\n",
    "'''\n",
    "# Build feature vector for a random test user\n",
    "ASSUMPTION:\n",
    "- Warm users (already have information in user_set)\n",
    "- With work history (already have information in work_history)\n",
    "\n",
    "INPUT:\n",
    "- tfidf_matrix: TF-IDF jobs\n",
    "- word_history_tf_matrix: TF-IDF work history matrix\n",
    "- list of top 15% popular jobs\n",
    "- 3 user-defined functions for matching City, State, Countr\n",
    "'''\n",
    "# The following loading inputs should be done prior to running this script \n",
    "\n",
    "# # Load clean job data\n",
    "# job_set = pd.read_csv(\"./data_processed/jobset_clean.csv\")\n",
    "# # Load the dataset from Step 3\n",
    "# user_set = pd.read_csv(\"./data_interim/user_set_cleaned.csv\")\n",
    "# dataset = pd.read_csv(\"./data_interim/dataset_cleaned.csv\")\n",
    "# work_history = pd.read_csv('./data_interim/work_history_cleaned.csv')\n",
    "\n",
    "# Load top 15% popular jobs\n",
    "# top_15_jobs = pd.read_csv('./data_interim/top15_jobs.csv')\n",
    "\n",
    "#def make_feature(test_uid):\n",
    "import pandas as pd\n",
    "import numpy as np\n",
    "from sklearn.feature_extraction.text import TfidfVectorizer\n",
    "from tqdm import tqdm\n",
    "\n",
    "'''\n",
    "Build groups dataframe with following columns\n",
    "- UserID: one single test user id that need recommendation\n",
    "- JobID: (all jobs in the top 15% popular that can be pair with UserID)\n",
    "- City: get_city_match\n",
    "- State: get_state_match\n",
    "- Country: get_country_match\n",
    "'''\n",
    "\n",
    "def build_group(test_uid, user_set, job_set, top_jobs):\n",
    "    \n",
    "#     top_jobs = top_jobs\n",
    "    groups = top_jobs.copy()\n",
    "    groups['UserID'] = test_uid\n",
    "    groups.drop(columns=['count_job','freq','cum_freq'], axis=1, inplace=True)\n",
    "    \n",
    "    def get_city_match(user_id, job_id):\n",
    "        user = user_set[user_set['UserID'] == user_id].iloc[0]\n",
    "        job = job_set[job_set['JobID'] == job_id].iloc[0]\n",
    "        return float(user['City'] == job['City'])\n",
    "    \n",
    "    def get_state_match(user_id, job_id):\n",
    "        user = user_set[user_set['UserID'] == user_id].iloc[0]\n",
    "        job = job_set[job_set['JobID'] == job_id].iloc[0]\n",
    "        return float(user['State'] == job['State'])\n",
    "    \n",
    "    def get_country_match(user_id, job_id):\n",
    "        user = user_set[user_set['UserID'] == user_id].iloc[0]\n",
    "        job = job_set[job_set['JobID'] == job_id].iloc[0]\n",
    "        return float(user['Country'] == job['Country'])\n",
    "    \n",
    "    groups['City'] = groups.apply(lambda x: get_city_match(x.UserID, x.JobID), axis=1)\n",
    "    groups['State'] = groups.apply(lambda x: get_state_match(x.UserID, x.JobID), axis=1)\n",
    "    groups['Country'] = groups.apply(lambda x: get_country_match(x.UserID, x.JobID), axis=1)\n",
    "    return groups\n",
    "\n",
    "'''\n",
    "Build feature vector using the groups dataframe\n",
    "'''\n",
    "# class MakeFeature:\n",
    "#     def __init__(self, groups, test_uid):\n",
    "#         self.groups = groups\n",
    "#         self.test_uid = test_uid\n",
    "import pickle\n",
    "from scipy import sparse  \n",
    "\n",
    "def build_feature(groups, test_uid, user_set, job_set):\n",
    "    '''\n",
    "    Import TF-IDF vectorizers \n",
    "    - Loading pre-trained vectorizers\n",
    "    - Loading result of existing vector for jobs and work history\n",
    "    '''\n",
    "\n",
    "    # For jobs: tf\n",
    "    tf_path = './output_baseline/job_tf.pickle'\n",
    "    tf = pickle.load(open(tf_path, 'rb'))\n",
    "\n",
    "    # For work_history: word_history_tf\n",
    "    work_history_tf_path = './output_baseline/work_history_tf.pickle'\n",
    "    word_history_tf = pickle.load(open(work_history_tf_path, 'rb'))\n",
    "\n",
    "    tfidf_matrix = sparse.load_npz(\"./output_baseline/tfidf_matrix.npz\")\n",
    "    word_history_tf_matrix = sparse.load_npz(\"./output_baseline/work_history_tf_matrix.npz\")\n",
    "\n",
    "    X_rec = np.zeros((1,159))\n",
    "    # Get user profile\n",
    "    u_id = test_uid\n",
    "    user = user_set[user_set.UserID==u_id][[\"DegreeType\", \"WorkHistoryCount\", \n",
    "                                                \"TotalYearsExperience\", \"CurrentlyEmployed\", \n",
    "                                                \"ManagedOthers\", \"ManagedHowMany\"]]\n",
    "    # Get embedded feature for work_history of this user\n",
    "    u_idx = user.index.values[0] \n",
    "    word_history_tf_matrix[u_idx,:].toarray()\n",
    "\n",
    "    # Get user_feature\n",
    "    user_feature = np.concatenate((user.values, word_history_tf_matrix[u_idx,:].toarray()),axis=1)\n",
    "\n",
    "    # Get list of jobs \n",
    "    job_id_list = groups.JobID.values\n",
    "    jobs = job_set[job_set.JobID.isin(job_id_list)]\n",
    "\n",
    "    # Loop to build job feature, concat this to the user_feature\n",
    "    j_idx = jobs.index.values\n",
    "    f = []\n",
    "    for i in j_idx:\n",
    "        feature = np.concatenate((user_feature, tfidf_matrix[i,:].toarray()), axis=1).reshape(156,).tolist()\n",
    "        f.append(feature)\n",
    "\n",
    "    # Add matching features for city, state, country\n",
    "    feature = np.concatenate((groups[[\"City\",\"State\", \"Country\"]].values, np.array(f)),axis=1)\n",
    "    #feature.shape\n",
    "\n",
    "    # Final feature vector\n",
    "    X_rec = np.concatenate((X_rec, feature), axis=0)\n",
    "    return X_rec\n"
   ]
  },
  {
   "cell_type": "markdown",
   "id": "63a50f0b",
   "metadata": {},
   "source": [
    "# 2. TESTING: make features"
   ]
  },
  {
   "cell_type": "code",
   "execution_count": 5,
   "id": "5f0c5e0d",
   "metadata": {},
   "outputs": [],
   "source": [
    "# Load top 15% popular jobs\n",
    "top_15_jobs = pd.read_csv('./data_interim/top15_jobs.csv')"
   ]
  },
  {
   "cell_type": "code",
   "execution_count": 6,
   "id": "0b2a2983",
   "metadata": {},
   "outputs": [],
   "source": [
    "test_uid = 7\n"
   ]
  },
  {
   "cell_type": "code",
   "execution_count": 7,
   "id": "9197fee4",
   "metadata": {},
   "outputs": [],
   "source": [
    "from make_features import *"
   ]
  },
  {
   "cell_type": "code",
   "execution_count": 8,
   "id": "595a2a66",
   "metadata": {},
   "outputs": [],
   "source": [
    "groups = build_group(test_uid=7, user_set=user_set, job_set=job_set, top_jobs=top_15_jobs)"
   ]
  },
  {
   "cell_type": "code",
   "execution_count": 9,
   "id": "f3843002",
   "metadata": {},
   "outputs": [
    {
     "data": {
      "text/html": [
       "<div>\n",
       "<style scoped>\n",
       "    .dataframe tbody tr th:only-of-type {\n",
       "        vertical-align: middle;\n",
       "    }\n",
       "\n",
       "    .dataframe tbody tr th {\n",
       "        vertical-align: top;\n",
       "    }\n",
       "\n",
       "    .dataframe thead th {\n",
       "        text-align: right;\n",
       "    }\n",
       "</style>\n",
       "<table border=\"1\" class=\"dataframe\">\n",
       "  <thead>\n",
       "    <tr style=\"text-align: right;\">\n",
       "      <th></th>\n",
       "      <th>JobID</th>\n",
       "      <th>UserID</th>\n",
       "      <th>City</th>\n",
       "      <th>State</th>\n",
       "      <th>Country</th>\n",
       "    </tr>\n",
       "  </thead>\n",
       "  <tbody>\n",
       "    <tr>\n",
       "      <th>0</th>\n",
       "      <td>900797</td>\n",
       "      <td>7</td>\n",
       "      <td>0.0</td>\n",
       "      <td>0.0</td>\n",
       "      <td>1.0</td>\n",
       "    </tr>\n",
       "    <tr>\n",
       "      <th>1</th>\n",
       "      <td>1050711</td>\n",
       "      <td>7</td>\n",
       "      <td>0.0</td>\n",
       "      <td>0.0</td>\n",
       "      <td>1.0</td>\n",
       "    </tr>\n",
       "    <tr>\n",
       "      <th>2</th>\n",
       "      <td>608463</td>\n",
       "      <td>7</td>\n",
       "      <td>0.0</td>\n",
       "      <td>0.0</td>\n",
       "      <td>1.0</td>\n",
       "    </tr>\n",
       "    <tr>\n",
       "      <th>3</th>\n",
       "      <td>601126</td>\n",
       "      <td>7</td>\n",
       "      <td>0.0</td>\n",
       "      <td>0.0</td>\n",
       "      <td>1.0</td>\n",
       "    </tr>\n",
       "    <tr>\n",
       "      <th>4</th>\n",
       "      <td>802205</td>\n",
       "      <td>7</td>\n",
       "      <td>0.0</td>\n",
       "      <td>0.0</td>\n",
       "      <td>1.0</td>\n",
       "    </tr>\n",
       "    <tr>\n",
       "      <th>...</th>\n",
       "      <td>...</td>\n",
       "      <td>...</td>\n",
       "      <td>...</td>\n",
       "      <td>...</td>\n",
       "      <td>...</td>\n",
       "    </tr>\n",
       "    <tr>\n",
       "      <th>14716</th>\n",
       "      <td>1023467</td>\n",
       "      <td>7</td>\n",
       "      <td>0.0</td>\n",
       "      <td>0.0</td>\n",
       "      <td>1.0</td>\n",
       "    </tr>\n",
       "    <tr>\n",
       "      <th>14717</th>\n",
       "      <td>1023472</td>\n",
       "      <td>7</td>\n",
       "      <td>0.0</td>\n",
       "      <td>0.0</td>\n",
       "      <td>1.0</td>\n",
       "    </tr>\n",
       "    <tr>\n",
       "      <th>14718</th>\n",
       "      <td>496068</td>\n",
       "      <td>7</td>\n",
       "      <td>0.0</td>\n",
       "      <td>0.0</td>\n",
       "      <td>1.0</td>\n",
       "    </tr>\n",
       "    <tr>\n",
       "      <th>14719</th>\n",
       "      <td>701594</td>\n",
       "      <td>7</td>\n",
       "      <td>0.0</td>\n",
       "      <td>0.0</td>\n",
       "      <td>1.0</td>\n",
       "    </tr>\n",
       "    <tr>\n",
       "      <th>14720</th>\n",
       "      <td>617190</td>\n",
       "      <td>7</td>\n",
       "      <td>0.0</td>\n",
       "      <td>0.0</td>\n",
       "      <td>1.0</td>\n",
       "    </tr>\n",
       "  </tbody>\n",
       "</table>\n",
       "<p>14721 rows × 5 columns</p>\n",
       "</div>"
      ],
      "text/plain": [
       "         JobID  UserID  City  State  Country\n",
       "0       900797       7   0.0    0.0      1.0\n",
       "1      1050711       7   0.0    0.0      1.0\n",
       "2       608463       7   0.0    0.0      1.0\n",
       "3       601126       7   0.0    0.0      1.0\n",
       "4       802205       7   0.0    0.0      1.0\n",
       "...        ...     ...   ...    ...      ...\n",
       "14716  1023467       7   0.0    0.0      1.0\n",
       "14717  1023472       7   0.0    0.0      1.0\n",
       "14718   496068       7   0.0    0.0      1.0\n",
       "14719   701594       7   0.0    0.0      1.0\n",
       "14720   617190       7   0.0    0.0      1.0\n",
       "\n",
       "[14721 rows x 5 columns]"
      ]
     },
     "execution_count": 9,
     "metadata": {},
     "output_type": "execute_result"
    }
   ],
   "source": [
    "groups"
   ]
  },
  {
   "cell_type": "code",
   "execution_count": 10,
   "id": "f503ec08",
   "metadata": {},
   "outputs": [],
   "source": [
    "X_rec = build_feature(groups = groups, \n",
    "                      test_uid=7, \n",
    "                      user_set=user_set, \n",
    "                      job_set=job_set)"
   ]
  },
  {
   "cell_type": "code",
   "execution_count": 11,
   "id": "4cb30008",
   "metadata": {},
   "outputs": [
    {
     "data": {
      "text/plain": [
       "array([[0.        , 0.        , 0.        , ..., 0.        , 0.        ,\n",
       "        0.        ],\n",
       "       [0.        , 0.        , 1.        , ..., 0.        , 0.        ,\n",
       "        0.14746725],\n",
       "       [0.        , 0.        , 1.        , ..., 0.        , 0.        ,\n",
       "        0.        ],\n",
       "       ...,\n",
       "       [0.        , 0.        , 1.        , ..., 0.        , 0.        ,\n",
       "        0.0216625 ],\n",
       "       [0.        , 0.        , 1.        , ..., 0.        , 0.        ,\n",
       "        0.        ],\n",
       "       [0.        , 0.        , 1.        , ..., 0.14582704, 0.        ,\n",
       "        0.22056316]])"
      ]
     },
     "execution_count": 11,
     "metadata": {},
     "output_type": "execute_result"
    }
   ],
   "source": [
    "X_rec"
   ]
  },
  {
   "cell_type": "code",
   "execution_count": 12,
   "id": "a45d3f79",
   "metadata": {},
   "outputs": [
    {
     "data": {
      "text/plain": [
       "(14722, 159)"
      ]
     },
     "execution_count": 12,
     "metadata": {},
     "output_type": "execute_result"
    }
   ],
   "source": [
    "X_rec.shape"
   ]
  },
  {
   "cell_type": "code",
   "execution_count": null,
   "id": "a5413972",
   "metadata": {},
   "outputs": [],
   "source": []
  },
  {
   "cell_type": "markdown",
   "id": "8572a904",
   "metadata": {},
   "source": [
    "# Test Top-N recommendation"
   ]
  },
  {
   "cell_type": "code",
   "execution_count": 13,
   "id": "bf52a716",
   "metadata": {},
   "outputs": [],
   "source": [
    "from sklearn.linear_model import LogisticRegression, LinearRegression\n",
    "from sklearn.metrics import accuracy_score, roc_auc_score, recall_score, precision_score, f1_score, classification_report\n",
    "from sklearn.tree import DecisionTreeClassifier\n",
    "from sklearn.ensemble import RandomForestClassifier\n",
    "from sklearn.naive_bayes import GaussianNB\n",
    "from sklearn.ensemble import GradientBoostingClassifier\n",
    "from sklearn.discriminant_analysis import LinearDiscriminantAnalysis\n",
    "from sklearn.discriminant_analysis import QuadraticDiscriminantAnalysis\n",
    "import xgboost as xgb\n",
    "from xgboost import XGBClassifier\n",
    "import pickle"
   ]
  },
  {
   "cell_type": "code",
   "execution_count": 14,
   "id": "e8d83956",
   "metadata": {},
   "outputs": [],
   "source": [
    "import pickle\n",
    "xgbt = pickle.load(open('./output_baseline/cb12_xgbt.pikle', \"rb\")) # XGBoost RecSys"
   ]
  },
  {
   "cell_type": "code",
   "execution_count": 15,
   "id": "e0214f6f",
   "metadata": {},
   "outputs": [],
   "source": [
    "Y_pred = xgbt.predict(X_rec)"
   ]
  },
  {
   "cell_type": "code",
   "execution_count": 16,
   "id": "825a6827",
   "metadata": {},
   "outputs": [],
   "source": [
    "Y_pred_pr = xgbt.predict_proba(X_rec)"
   ]
  },
  {
   "cell_type": "code",
   "execution_count": 17,
   "id": "7ee90b81",
   "metadata": {},
   "outputs": [
    {
     "data": {
      "text/plain": [
       "array([[0.54576397, 0.45423606],\n",
       "       [0.57439405, 0.42560595],\n",
       "       [0.57439405, 0.42560595],\n",
       "       ...,\n",
       "       [0.57439405, 0.42560595],\n",
       "       [0.57439405, 0.42560595],\n",
       "       [0.57439405, 0.42560595]], dtype=float32)"
      ]
     },
     "execution_count": 17,
     "metadata": {},
     "output_type": "execute_result"
    }
   ],
   "source": [
    "Y_pred_pr"
   ]
  },
  {
   "cell_type": "code",
   "execution_count": 18,
   "id": "6f3387a6",
   "metadata": {},
   "outputs": [],
   "source": [
    "Y_pred_pr_max = list(map(max, Y_pred_pr))"
   ]
  },
  {
   "cell_type": "code",
   "execution_count": 20,
   "id": "3bc29e2b",
   "metadata": {},
   "outputs": [],
   "source": [
    "job_id_list = groups.JobID.values"
   ]
  },
  {
   "cell_type": "code",
   "execution_count": 21,
   "id": "eb5e9528",
   "metadata": {},
   "outputs": [],
   "source": [
    "rec_30items = sorted(\n",
    "        [\n",
    "            (ids_j, yprob_j, ypred_j) for yprob_j, ypred_j, ids_j in zip(Y_pred_pr_max, Y_pred, job_id_list)\n",
    "        ],\n",
    "        key=lambda x: -x[1]\n",
    "    )[0:30]"
   ]
  },
  {
   "cell_type": "code",
   "execution_count": 22,
   "id": "cb3aea83",
   "metadata": {},
   "outputs": [
    {
     "data": {
      "text/plain": [
       "[(863621, 0.5926077, 1),\n",
       " (663986, 0.5926077, 1),\n",
       " (448679, 0.5926077, 1),\n",
       " (795414, 0.5926077, 1),\n",
       " (189702, 0.5926077, 1),\n",
       " (372860, 0.5926077, 1),\n",
       " (611816, 0.5926077, 1),\n",
       " (797470, 0.58266145, 1),\n",
       " (899195, 0.58266145, 1),\n",
       " (882055, 0.58266145, 1),\n",
       " (640761, 0.58266145, 1),\n",
       " (877393, 0.58266145, 1),\n",
       " (24666, 0.58266145, 1),\n",
       " (809521, 0.58266145, 1),\n",
       " (525201, 0.58266145, 1),\n",
       " (695219, 0.58266145, 1),\n",
       " (868962, 0.58266145, 1),\n",
       " (152361, 0.58266145, 1),\n",
       " (282442, 0.58266145, 1),\n",
       " (417319, 0.58266145, 1),\n",
       " (15592, 0.58266145, 1),\n",
       " (930024, 0.58266145, 1),\n",
       " (876810, 0.58266145, 1),\n",
       " (777706, 0.58266145, 1),\n",
       " (1105002, 0.58266145, 1),\n",
       " (703408, 0.58266145, 1),\n",
       " (177122, 0.58266145, 1),\n",
       " (134540, 0.58266145, 1),\n",
       " (39740, 0.58266145, 1),\n",
       " (220029, 0.58266145, 1)]"
      ]
     },
     "execution_count": 22,
     "metadata": {},
     "output_type": "execute_result"
    }
   ],
   "source": [
    "rec_30items"
   ]
  },
  {
   "cell_type": "code",
   "execution_count": 23,
   "id": "5970bf24",
   "metadata": {},
   "outputs": [],
   "source": [
    "rec_20items = sorted(\n",
    "        [\n",
    "            (ids_j, yprob_j, ypred_j) for yprob_j, ypred_j, ids_j in zip(Y_pred_pr_max, Y_pred, job_id_list)\n",
    "        ],\n",
    "        key=lambda x: -x[1]\n",
    "    )[0:20]"
   ]
  },
  {
   "cell_type": "code",
   "execution_count": 24,
   "id": "ef210851",
   "metadata": {},
   "outputs": [
    {
     "data": {
      "text/plain": [
       "[(863621, 0.5926077, 1),\n",
       " (663986, 0.5926077, 1),\n",
       " (448679, 0.5926077, 1),\n",
       " (795414, 0.5926077, 1),\n",
       " (189702, 0.5926077, 1),\n",
       " (372860, 0.5926077, 1),\n",
       " (611816, 0.5926077, 1),\n",
       " (797470, 0.58266145, 1),\n",
       " (899195, 0.58266145, 1),\n",
       " (882055, 0.58266145, 1),\n",
       " (640761, 0.58266145, 1),\n",
       " (877393, 0.58266145, 1),\n",
       " (24666, 0.58266145, 1),\n",
       " (809521, 0.58266145, 1),\n",
       " (525201, 0.58266145, 1),\n",
       " (695219, 0.58266145, 1),\n",
       " (868962, 0.58266145, 1),\n",
       " (152361, 0.58266145, 1),\n",
       " (282442, 0.58266145, 1),\n",
       " (417319, 0.58266145, 1)]"
      ]
     },
     "execution_count": 24,
     "metadata": {},
     "output_type": "execute_result"
    }
   ],
   "source": [
    "rec_20items"
   ]
  },
  {
   "cell_type": "code",
   "execution_count": null,
   "id": "bd62cece",
   "metadata": {},
   "outputs": [],
   "source": []
  }
 ],
 "metadata": {
  "kernelspec": {
   "display_name": "Python 3 (ipykernel)",
   "language": "python",
   "name": "python3"
  },
  "language_info": {
   "codemirror_mode": {
    "name": "ipython",
    "version": 3
   },
   "file_extension": ".py",
   "mimetype": "text/x-python",
   "name": "python",
   "nbconvert_exporter": "python",
   "pygments_lexer": "ipython3",
   "version": "3.9.12"
  }
 },
 "nbformat": 4,
 "nbformat_minor": 5
}
