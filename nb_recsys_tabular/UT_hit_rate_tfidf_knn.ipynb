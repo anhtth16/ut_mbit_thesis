{
 "cells": [
  {
   "cell_type": "markdown",
   "id": "9c1f2377-8722-4575-9ffd-87c3b1b35eab",
   "metadata": {},
   "source": [
    "# Calculate hit_rate\n",
    "## Model: EBM models (trained on tabular TF-IDF vector)\n",
    "## Ranking data: knn_tfidf_ranking_v2\n",
    "- Input: Top20 recommendation results by white-box and black-box models\n",
    "- Hit rate: Evaluated on different benchmarks: knn_tfidf_ranking_data, random_ranking_data, actual test_interaction data\n",
    "- Hit rate @5, @10, @20 for each model"
   ]
  },
  {
   "cell_type": "code",
   "execution_count": 1,
   "id": "eb473a5a-cd42-4006-bf6c-af1423dd71e9",
   "metadata": {},
   "outputs": [],
   "source": [
    "import numpy as np\n",
    "import pandas as pd"
   ]
  },
  {
   "cell_type": "code",
   "execution_count": 2,
   "id": "abdf83d6-59f2-44b9-b0e4-24c109f7c652",
   "metadata": {},
   "outputs": [],
   "source": [
    "import warnings\n",
    "warnings.filterwarnings('ignore')"
   ]
  },
  {
   "cell_type": "code",
   "execution_count": 3,
   "id": "57c8e4d0-3876-44a5-8359-0acbedf38cb4",
   "metadata": {},
   "outputs": [
    {
     "name": "stdout",
     "output_type": "stream",
     "text": [
      "Working directory: /Users/anhtth/Library/CloudStorage/OneDrive-UniversityofTwente/2023 UT- THESIS/1-Code/0.cb12_main/nb_recsys_tabular\n"
     ]
    }
   ],
   "source": [
    "# Run this for reproduce\n",
    "# Gets the current working directory\n",
    "import os\n",
    "cwd = os.getcwd()\n",
    "print(\"Working directory:\", cwd)\n",
    "# Go up one directory from working directory\n",
    "os.chdir(\"..\")"
   ]
  },
  {
   "cell_type": "code",
   "execution_count": 4,
   "id": "7ff37b86-cab0-407f-b216-1f68075fc850",
   "metadata": {},
   "outputs": [],
   "source": [
    "# Load evaluation data\n",
    "evaluation_data = pd.read_csv('./nb_recsys_tabular/knn_tfidf_ranking_v2.csv')"
   ]
  },
  {
   "cell_type": "code",
   "execution_count": 5,
   "id": "44d99819-b807-42de-ac59-ba70173c4b6d",
   "metadata": {},
   "outputs": [
    {
     "name": "stdout",
     "output_type": "stream",
     "text": [
      "<class 'pandas.core.frame.DataFrame'>\n",
      "RangeIndex: 371600 entries, 0 to 371599\n",
      "Data columns (total 6 columns):\n",
      " #   Column   Non-Null Count   Dtype  \n",
      "---  ------   --------------   -----  \n",
      " 0   UserID   371600 non-null  int64  \n",
      " 1   JobID    371600 non-null  int64  \n",
      " 2   label    371600 non-null  int64  \n",
      " 3   City     371600 non-null  float64\n",
      " 4   State    371600 non-null  float64\n",
      " 5   Country  371600 non-null  float64\n",
      "dtypes: float64(3), int64(3)\n",
      "memory usage: 17.0 MB\n"
     ]
    }
   ],
   "source": [
    "evaluation_data.info()"
   ]
  },
  {
   "cell_type": "code",
   "execution_count": 6,
   "id": "9cf5d2a6-7cd7-4921-95e4-9588e1623a3f",
   "metadata": {},
   "outputs": [
    {
     "data": {
      "text/plain": [
       "0    371426\n",
       "1       174\n",
       "Name: label, dtype: int64"
      ]
     },
     "execution_count": 6,
     "metadata": {},
     "output_type": "execute_result"
    }
   ],
   "source": [
    "evaluation_data.label.value_counts()"
   ]
  },
  {
   "cell_type": "code",
   "execution_count": 7,
   "id": "4bf047b1-f3d7-4ac5-85ee-3dfd41cb4edd",
   "metadata": {},
   "outputs": [
    {
     "data": {
      "text/plain": [
       "0    367884\n",
       "1      3716\n",
       "Name: label, dtype: int64"
      ]
     },
     "execution_count": 7,
     "metadata": {},
     "output_type": "execute_result"
    }
   ],
   "source": [
    "# Load ranking_data_random\n",
    "ranking_data_random = pd.read_csv('./nb_recsys_tabular/ranking_data_random.csv')\n",
    "ranking_data_random.label.value_counts()"
   ]
  },
  {
   "cell_type": "code",
   "execution_count": 8,
   "id": "b3389bc1",
   "metadata": {},
   "outputs": [],
   "source": [
    "models = []\n",
    "benchmarks = []\n",
    "hits_5 = []\n",
    "hits_10 = []\n",
    "hits_20 = []"
   ]
  },
  {
   "cell_type": "code",
   "execution_count": 9,
   "id": "82b83149-65d7-4842-99eb-28718e4cdef1",
   "metadata": {},
   "outputs": [],
   "source": [
    "def get_hit_rate_at_k(recommendations, rankings, K):\n",
    "    total_users = len(recommendations['UserID'].unique())\n",
    "    hit_count = 0\n",
    "    # mark_stop = 0\n",
    "    for user_id in recommendations['UserID'].unique():\n",
    "        user_recommendations = recommendations[recommendations['UserID'] == user_id]['JobID'].tolist()[:K]\n",
    "        actual_job_ids = rankings[(rankings['UserID'] == user_id) & (rankings['label'] == 1)]['JobID'].tolist()\n",
    "\n",
    "        for rec_job_id in user_recommendations:\n",
    "            if rec_job_id in actual_job_ids:\n",
    "                # print('hit detail UserID, JobID: ', user_id, rec_job_id)\n",
    "                hit_count += 1\n",
    "                break     \n",
    "        # mark_stop =+1\n",
    "        # if mark_stop == 2:\n",
    "        #     break\n",
    "    print('final hit_count:', hit_count)\n",
    "    hit_rate = hit_count / total_users\n",
    "    return hit_rate"
   ]
  },
  {
   "cell_type": "markdown",
   "id": "216ce01f-fe97-4236-9706-12c4fce30adb",
   "metadata": {
    "tags": []
   },
   "source": [
    "# Calculate hit rate using benchmark data: random ranking data"
   ]
  },
  {
   "cell_type": "code",
   "execution_count": 10,
   "id": "dfb1830e-e04f-49ea-b89e-3abf4b614517",
   "metadata": {},
   "outputs": [],
   "source": [
    "benchmark = 'ranking_data_random'"
   ]
  },
  {
   "cell_type": "markdown",
   "id": "2a44d055-8d67-412e-9b75-e55aa86e48e5",
   "metadata": {},
   "source": [
    "## Model: logreg"
   ]
  },
  {
   "cell_type": "code",
   "execution_count": 11,
   "id": "9dfd4880-4299-407b-a014-60c997ff67f6",
   "metadata": {},
   "outputs": [],
   "source": [
    "model = 'logreg'\n",
    "logreg_recommendations = pd.read_csv('./output_topN_tabular/rec_result_logreg_ranking_knn.csv')"
   ]
  },
  {
   "cell_type": "code",
   "execution_count": 12,
   "id": "eabf1a0a-f78a-45a1-ab29-b0627ef8905b",
   "metadata": {},
   "outputs": [
    {
     "name": "stdout",
     "output_type": "stream",
     "text": [
      "final hit_count: 63\n",
      "Model: logreg - Hit rate at 5: 0.016953713670613563\n",
      "final hit_count: 74\n",
      "Model: logreg - Hit rate at 10: 0.01991388589881593\n",
      "final hit_count: 76\n",
      "Model: logreg - Hit rate at 20: 0.02045209903121636\n",
      "CPU times: user 13.5 s, sys: 108 ms, total: 13.6 s\n",
      "Wall time: 13.6 s\n"
     ]
    }
   ],
   "source": [
    "%%time\n",
    "# Calculate hit rate at K (precision at K)\n",
    "k = 5  # Set the desired value of K\n",
    "hit_5 = get_hit_rate_at_k(recommendations = logreg_recommendations, \n",
    "                                   rankings = ranking_data_random, \n",
    "                                   K=k)\n",
    "print(f\"Model: {model} - Hit rate at {k}: {hit_5}\")\n",
    "\n",
    "k = 10  # Set the desired value of K\n",
    "hit_10 = get_hit_rate_at_k(recommendations = logreg_recommendations, \n",
    "                                   rankings = ranking_data_random, \n",
    "                                   K=k)\n",
    "print(f\"Model: {model} - Hit rate at {k}: {hit_10}\")\n",
    "\n",
    "k = 20  # Set the desired value of K\n",
    "hit_20 = get_hit_rate_at_k(recommendations = logreg_recommendations, \n",
    "                                   rankings = ranking_data_random, \n",
    "                                   K=k)\n",
    "print(f\"Model: {model} - Hit rate at {k}: {hit_20}\")"
   ]
  },
  {
   "cell_type": "code",
   "execution_count": 13,
   "id": "eb85bb3a-5724-465b-844c-76e26e616394",
   "metadata": {},
   "outputs": [],
   "source": [
    "models.append(model)\n",
    "benchmarks.append(benchmark)\n",
    "hits_5.append(hit_5)\n",
    "hits_10.append(hit_10)\n",
    "hits_20.append(hit_20)"
   ]
  },
  {
   "cell_type": "markdown",
   "id": "bfaba9cc-04bb-440b-8eb8-d2d5e2c15d54",
   "metadata": {},
   "source": [
    "## Model: dt"
   ]
  },
  {
   "cell_type": "code",
   "execution_count": 14,
   "id": "abc421d0-d0ff-48a5-93a6-a0bc43451feb",
   "metadata": {},
   "outputs": [],
   "source": [
    "model = 'dt'\n",
    "dt_recommendations = pd.read_csv('./output_topN_tabular/rec_result_dt_ranking_knn.csv')"
   ]
  },
  {
   "cell_type": "code",
   "execution_count": 15,
   "id": "0596ad5a-88ac-42b9-a8db-b8bb5fcd6477",
   "metadata": {},
   "outputs": [
    {
     "name": "stdout",
     "output_type": "stream",
     "text": [
      "final hit_count: 76\n",
      "Model: dt - Hit rate at 5: 0.02045209903121636\n",
      "final hit_count: 76\n",
      "Model: dt - Hit rate at 10: 0.02045209903121636\n",
      "final hit_count: 80\n",
      "Model: dt - Hit rate at 20: 0.021528525296017224\n",
      "CPU times: user 13.8 s, sys: 131 ms, total: 14 s\n",
      "Wall time: 14.1 s\n"
     ]
    }
   ],
   "source": [
    "%%time\n",
    "# Calculate hit rate at K (precision at K)\n",
    "k = 5  # Set the desired value of K\n",
    "hit_5 = get_hit_rate_at_k(recommendations = dt_recommendations, \n",
    "                                   rankings = ranking_data_random, \n",
    "                                   K=k)\n",
    "print(f\"Model: {model} - Hit rate at {k}: {hit_5}\")\n",
    "\n",
    "k = 10  # Set the desired value of K\n",
    "hit_10 = get_hit_rate_at_k(recommendations = dt_recommendations, \n",
    "                                   rankings = ranking_data_random, \n",
    "                                   K=k)\n",
    "print(f\"Model: {model} - Hit rate at {k}: {hit_10}\")\n",
    "\n",
    "k = 20  # Set the desired value of K\n",
    "hit_20 = get_hit_rate_at_k(recommendations = dt_recommendations, \n",
    "                                   rankings = ranking_data_random, \n",
    "                                   K=k)\n",
    "print(f\"Model: {model} - Hit rate at {k}: {hit_20}\")"
   ]
  },
  {
   "cell_type": "code",
   "execution_count": 16,
   "id": "19f25bd7-544d-4dee-8686-5251346244b8",
   "metadata": {},
   "outputs": [],
   "source": [
    "models.append(model)\n",
    "benchmarks.append(benchmark)\n",
    "hits_5.append(hit_5)\n",
    "hits_10.append(hit_10)\n",
    "hits_20.append(hit_20)"
   ]
  },
  {
   "cell_type": "markdown",
   "id": "145cbf2f-7903-4ebb-90c0-afa3a74ddf28",
   "metadata": {},
   "source": [
    "## Model: XGBoost"
   ]
  },
  {
   "cell_type": "code",
   "execution_count": 18,
   "id": "04cc19a5-d964-453c-80ac-5c93ee8856cd",
   "metadata": {},
   "outputs": [
    {
     "name": "stdout",
     "output_type": "stream",
     "text": [
      "final hit_count: 78\n",
      "Model: xgbt - Hit rate at 5: 0.02099031216361679\n",
      "final hit_count: 79\n",
      "Model: xgbt - Hit rate at 10: 0.021259418729817008\n",
      "final hit_count: 79\n",
      "Model: xgbt - Hit rate at 20: 0.021259418729817008\n",
      "CPU times: user 14.5 s, sys: 155 ms, total: 14.6 s\n",
      "Wall time: 14.7 s\n"
     ]
    }
   ],
   "source": [
    "%%time\n",
    "model = 'xgbt'\n",
    "xgbt_recommendations = pd.read_csv('./output_topN_tabular/rec_result_xgbt_ranking_knn.csv')\n",
    "\n",
    "# Calculate hit rate at K (precision at K)\n",
    "k = 5  # Set the desired value of K\n",
    "hit_5 = get_hit_rate_at_k(recommendations = xgbt_recommendations, \n",
    "                                   rankings = ranking_data_random, \n",
    "                                   K=k)\n",
    "print(f\"Model: {model} - Hit rate at {k}: {hit_5}\")\n",
    "\n",
    "k = 10  # Set the desired value of K\n",
    "hit_10 = get_hit_rate_at_k(recommendations = xgbt_recommendations, \n",
    "                                   rankings = ranking_data_random, \n",
    "                                   K=k)\n",
    "print(f\"Model: {model} - Hit rate at {k}: {hit_10}\")\n",
    "\n",
    "k = 20  # Set the desired value of K\n",
    "hit_20 = get_hit_rate_at_k(recommendations = xgbt_recommendations, \n",
    "                                   rankings = ranking_data_random, \n",
    "                                   K=k)\n",
    "print(f\"Model: {model} - Hit rate at {k}: {hit_20}\")"
   ]
  },
  {
   "cell_type": "code",
   "execution_count": 19,
   "id": "b0cbc61f",
   "metadata": {},
   "outputs": [],
   "source": [
    "models.append(model)\n",
    "benchmarks.append(benchmark)\n",
    "hits_5.append(hit_5)\n",
    "hits_10.append(hit_10)\n",
    "hits_20.append(hit_20)"
   ]
  },
  {
   "cell_type": "markdown",
   "id": "6f59e629-9e73-46ef-9372-ccd61c604dbe",
   "metadata": {},
   "source": [
    "## Model: Naive Bayes"
   ]
  },
  {
   "cell_type": "code",
   "execution_count": 20,
   "id": "4bf83e41-387c-40e2-ae0d-7cfeb0bf95af",
   "metadata": {},
   "outputs": [
    {
     "name": "stdout",
     "output_type": "stream",
     "text": [
      "final hit_count: 58\n",
      "Model: nb - Hit rate at 5: 0.015608180839612486\n",
      "final hit_count: 66\n",
      "Model: nb - Hit rate at 10: 0.01776103336921421\n",
      "final hit_count: 77\n",
      "Model: nb - Hit rate at 20: 0.020721205597416577\n",
      "CPU times: user 14.2 s, sys: 115 ms, total: 14.3 s\n",
      "Wall time: 14.4 s\n"
     ]
    }
   ],
   "source": [
    "%%time\n",
    "model = 'nb'\n",
    "nb_recommendations = pd.read_csv('./output_topN_tabular/rec_result_nb_ranking_knn.csv')\n",
    "\n",
    "# Calculate hit rate at K (precision at K)\n",
    "k = 5  # Set the desired value of K\n",
    "hit_5 = get_hit_rate_at_k(recommendations = nb_recommendations, \n",
    "                                   rankings = ranking_data_random, \n",
    "                                   K=k)\n",
    "print(f\"Model: {model} - Hit rate at {k}: {hit_5}\")\n",
    "\n",
    "k = 10  # Set the desired value of K\n",
    "hit_10 = get_hit_rate_at_k(recommendations = nb_recommendations, \n",
    "                                   rankings = ranking_data_random, \n",
    "                                   K=k)\n",
    "print(f\"Model: {model} - Hit rate at {k}: {hit_10}\")\n",
    "\n",
    "k = 20  # Set the desired value of K\n",
    "hit_20 = get_hit_rate_at_k(recommendations = nb_recommendations, \n",
    "                                   rankings = ranking_data_random, \n",
    "                                   K=k)\n",
    "print(f\"Model: {model} - Hit rate at {k}: {hit_20}\")"
   ]
  },
  {
   "cell_type": "code",
   "execution_count": 21,
   "id": "286df1c2-8385-44bd-9796-de4f3fe86766",
   "metadata": {},
   "outputs": [],
   "source": [
    "models.append(model)\n",
    "benchmarks.append(benchmark)\n",
    "hits_5.append(hit_5)\n",
    "hits_10.append(hit_10)\n",
    "hits_20.append(hit_20)"
   ]
  },
  {
   "cell_type": "markdown",
   "id": "28b1e3e5-4274-4d1f-ae88-325c64d31d89",
   "metadata": {},
   "source": [
    "## Model: AdaBoost"
   ]
  },
  {
   "cell_type": "code",
   "execution_count": 22,
   "id": "7a001cc4-a2d5-4523-aa5e-666bfe658253",
   "metadata": {},
   "outputs": [
    {
     "name": "stdout",
     "output_type": "stream",
     "text": [
      "final hit_count: 65\n",
      "Model: ada - Hit rate at 5: 0.017491926803013993\n",
      "final hit_count: 73\n",
      "Model: ada - Hit rate at 10: 0.019644779332615717\n",
      "final hit_count: 75\n",
      "Model: ada - Hit rate at 20: 0.020182992465016147\n",
      "CPU times: user 13.2 s, sys: 99 ms, total: 13.3 s\n",
      "Wall time: 13.3 s\n"
     ]
    }
   ],
   "source": [
    "%%time\n",
    "model = 'ada'\n",
    "ada_recommendations = pd.read_csv('./output_topN_tabular/rec_result_ada_ranking_knn.csv')\n",
    "\n",
    "# Calculate hit rate at K (precision at K)\n",
    "k = 5  # Set the desired value of K\n",
    "hit_5 = get_hit_rate_at_k(recommendations = ada_recommendations, \n",
    "                                   rankings = ranking_data_random, \n",
    "                                   K=k)\n",
    "print(f\"Model: {model} - Hit rate at {k}: {hit_5}\")\n",
    "\n",
    "k = 10  # Set the desired value of K\n",
    "hit_10 = get_hit_rate_at_k(recommendations = ada_recommendations, \n",
    "                                   rankings = ranking_data_random, \n",
    "                                   K=k)\n",
    "print(f\"Model: {model} - Hit rate at {k}: {hit_10}\")\n",
    "\n",
    "k = 20  # Set the desired value of K\n",
    "hit_20 = get_hit_rate_at_k(recommendations = ada_recommendations, \n",
    "                                   rankings = ranking_data_random, \n",
    "                                   K=k)\n",
    "print(f\"Model: {model} - Hit rate at {k}: {hit_20}\")"
   ]
  },
  {
   "cell_type": "code",
   "execution_count": 23,
   "id": "b22ca743-4650-4959-9cac-ee55209fe38f",
   "metadata": {},
   "outputs": [],
   "source": [
    "models.append(model)\n",
    "benchmarks.append(benchmark)\n",
    "hits_5.append(hit_5)\n",
    "hits_10.append(hit_10)\n",
    "hits_20.append(hit_20)"
   ]
  },
  {
   "cell_type": "markdown",
   "id": "d2d16182-8633-421d-97e3-919f0c5e2d54",
   "metadata": {},
   "source": [
    "## Model: lda"
   ]
  },
  {
   "cell_type": "code",
   "execution_count": 24,
   "id": "ab995537-f751-4644-ab90-e7df8eac2ddc",
   "metadata": {},
   "outputs": [
    {
     "name": "stdout",
     "output_type": "stream",
     "text": [
      "final hit_count: 63\n",
      "Model: lda - Hit rate at 5: 0.016953713670613563\n",
      "final hit_count: 74\n",
      "Model: lda - Hit rate at 10: 0.01991388589881593\n",
      "final hit_count: 76\n",
      "Model: lda - Hit rate at 20: 0.02045209903121636\n",
      "CPU times: user 13.5 s, sys: 115 ms, total: 13.6 s\n",
      "Wall time: 13.7 s\n"
     ]
    }
   ],
   "source": [
    "%%time\n",
    "model = 'lda'\n",
    "lda_recommendations = pd.read_csv('./output_topN_tabular/rec_result_lda_ranking_knn.csv')\n",
    "\n",
    "# Calculate hit rate at K (precision at K)\n",
    "k = 5  # Set the desired value of K\n",
    "hit_5 = get_hit_rate_at_k(recommendations = lda_recommendations, \n",
    "                                   rankings = ranking_data_random, \n",
    "                                   K=k)\n",
    "print(f\"Model: {model} - Hit rate at {k}: {hit_5}\")\n",
    "\n",
    "k = 10  # Set the desired value of K\n",
    "hit_10 = get_hit_rate_at_k(recommendations = lda_recommendations, \n",
    "                                   rankings = ranking_data_random, \n",
    "                                   K=k)\n",
    "print(f\"Model: {model} - Hit rate at {k}: {hit_10}\")\n",
    "\n",
    "k = 20  # Set the desired value of K\n",
    "hit_20 = get_hit_rate_at_k(recommendations = lda_recommendations, \n",
    "                                   rankings = ranking_data_random, \n",
    "                                   K=k)\n",
    "print(f\"Model: {model} - Hit rate at {k}: {hit_20}\")"
   ]
  },
  {
   "cell_type": "code",
   "execution_count": 25,
   "id": "fa18745e-5508-4422-912a-2f5b7e3591a5",
   "metadata": {},
   "outputs": [],
   "source": [
    "models.append(model)\n",
    "benchmarks.append(benchmark)\n",
    "hits_5.append(hit_5)\n",
    "hits_10.append(hit_10)\n",
    "hits_20.append(hit_20)"
   ]
  },
  {
   "cell_type": "markdown",
   "id": "2859155e-b7ea-4337-a73a-73dfc24a6d22",
   "metadata": {},
   "source": [
    "## Model: qda"
   ]
  },
  {
   "cell_type": "code",
   "execution_count": 26,
   "id": "1c2b1f32-3834-485c-9895-44228e3921f8",
   "metadata": {},
   "outputs": [
    {
     "name": "stdout",
     "output_type": "stream",
     "text": [
      "final hit_count: 58\n",
      "Model: qda - Hit rate at 5: 0.015608180839612486\n",
      "final hit_count: 72\n",
      "Model: qda - Hit rate at 10: 0.0193756727664155\n",
      "final hit_count: 77\n",
      "Model: qda - Hit rate at 20: 0.020721205597416577\n",
      "CPU times: user 13.6 s, sys: 116 ms, total: 13.8 s\n",
      "Wall time: 13.8 s\n"
     ]
    }
   ],
   "source": [
    "%%time\n",
    "model = 'qda'\n",
    "lda_recommendations = pd.read_csv('./output_topN_tabular/rec_result_qda_ranking_knn.csv')\n",
    "\n",
    "# Calculate hit rate at K (precision at K)\n",
    "k = 5  # Set the desired value of K\n",
    "hit_5 = get_hit_rate_at_k(recommendations = lda_recommendations, \n",
    "                                   rankings = ranking_data_random, \n",
    "                                   K=k)\n",
    "print(f\"Model: {model} - Hit rate at {k}: {hit_5}\")\n",
    "\n",
    "k = 10  # Set the desired value of K\n",
    "hit_10 = get_hit_rate_at_k(recommendations = lda_recommendations, \n",
    "                                   rankings = ranking_data_random, \n",
    "                                   K=k)\n",
    "print(f\"Model: {model} - Hit rate at {k}: {hit_10}\")\n",
    "\n",
    "k = 20  # Set the desired value of K\n",
    "hit_20 = get_hit_rate_at_k(recommendations = lda_recommendations, \n",
    "                                   rankings = ranking_data_random, \n",
    "                                   K=k)\n",
    "print(f\"Model: {model} - Hit rate at {k}: {hit_20}\")"
   ]
  },
  {
   "cell_type": "code",
   "execution_count": 27,
   "id": "f584fbfb-7202-4a95-8a12-72db9c92bb84",
   "metadata": {},
   "outputs": [],
   "source": [
    "models.append(model)\n",
    "benchmarks.append(benchmark)\n",
    "hits_5.append(hit_5)\n",
    "hits_10.append(hit_10)\n",
    "hits_20.append(hit_20)"
   ]
  },
  {
   "cell_type": "markdown",
   "id": "ceeb29fa",
   "metadata": {},
   "source": [
    "# Calculate hit rate using benchmark data: evaluation_data"
   ]
  },
  {
   "cell_type": "code",
   "execution_count": 28,
   "id": "b13f7dc4",
   "metadata": {},
   "outputs": [],
   "source": [
    "benchmark = 'ranking_knn_tidif'"
   ]
  },
  {
   "cell_type": "markdown",
   "id": "71440fa7-4939-401b-b2fd-c492ad298cf6",
   "metadata": {
    "tags": []
   },
   "source": [
    "## Model: logreg"
   ]
  },
  {
   "cell_type": "code",
   "execution_count": 29,
   "id": "03f34dc1-2aee-4e90-a8c3-4b565a1b2989",
   "metadata": {},
   "outputs": [],
   "source": [
    "model = 'logreg'\n",
    "logreg_recommendations = pd.read_csv('./output_topN_tabular/rec_result_logreg_ranking_knn.csv')"
   ]
  },
  {
   "cell_type": "code",
   "execution_count": 30,
   "id": "ac89728b-eecc-43ce-8aca-d2ec9790a763",
   "metadata": {},
   "outputs": [
    {
     "name": "stdout",
     "output_type": "stream",
     "text": [
      "final hit_count: 134\n",
      "Model: logreg - Hit rate at 5: 0.03606027987082885\n",
      "final hit_count: 146\n",
      "Model: logreg - Hit rate at 10: 0.039289558665231435\n",
      "final hit_count: 149\n",
      "Model: logreg - Hit rate at 20: 0.04009687836383208\n",
      "CPU times: user 13 s, sys: 98.1 ms, total: 13.1 s\n",
      "Wall time: 13.1 s\n"
     ]
    }
   ],
   "source": [
    "%%time\n",
    "# Calculate hit rate at K (precision at K)\n",
    "k = 5  # Set the desired value of K\n",
    "hit_5 = get_hit_rate_at_k(recommendations = logreg_recommendations, \n",
    "                                   rankings = evaluation_data, \n",
    "                                   K=k)\n",
    "print(f\"Model: {model} - Hit rate at {k}: {hit_5}\")\n",
    "\n",
    "k = 10  # Set the desired value of K\n",
    "hit_10 = get_hit_rate_at_k(recommendations = logreg_recommendations, \n",
    "                                   rankings = evaluation_data, \n",
    "                                   K=k)\n",
    "print(f\"Model: {model} - Hit rate at {k}: {hit_10}\")\n",
    "\n",
    "k = 20  # Set the desired value of K\n",
    "hit_20 = get_hit_rate_at_k(recommendations = logreg_recommendations, \n",
    "                                   rankings = evaluation_data, \n",
    "                                   K=k)\n",
    "print(f\"Model: {model} - Hit rate at {k}: {hit_20}\")"
   ]
  },
  {
   "cell_type": "code",
   "execution_count": 31,
   "id": "a2847fb1",
   "metadata": {},
   "outputs": [],
   "source": [
    "models.append(model)\n",
    "benchmarks.append(benchmark)\n",
    "hits_5.append(hit_5)\n",
    "hits_10.append(hit_10)\n",
    "hits_20.append(hit_20)"
   ]
  },
  {
   "cell_type": "markdown",
   "id": "8cb01f64-927a-4344-9a56-623477a394d7",
   "metadata": {},
   "source": [
    "## Model: dt"
   ]
  },
  {
   "cell_type": "code",
   "execution_count": 32,
   "id": "b7106ba7-f5ed-4b98-84cc-933b000ba747",
   "metadata": {},
   "outputs": [],
   "source": [
    "model = 'dt'\n",
    "dt_recommendations = pd.read_csv('./output_topN_tabular/rec_result_dt_ranking_knn.csv')"
   ]
  },
  {
   "cell_type": "code",
   "execution_count": 33,
   "id": "5105c184-5e21-4500-ad0c-3dbbc2c9cf17",
   "metadata": {},
   "outputs": [
    {
     "name": "stdout",
     "output_type": "stream",
     "text": [
      "final hit_count: 146\n",
      "Model: dt - Hit rate at 5: 0.039289558665231435\n",
      "final hit_count: 147\n",
      "Model: dt - Hit rate at 10: 0.039558665231431644\n",
      "final hit_count: 157\n",
      "Model: dt - Hit rate at 20: 0.0422497308934338\n",
      "CPU times: user 12.9 s, sys: 89.8 ms, total: 13 s\n",
      "Wall time: 13 s\n"
     ]
    }
   ],
   "source": [
    "%%time\n",
    "# Calculate hit rate at K (precision at K)\n",
    "k = 5  # Set the desired value of K\n",
    "hit_5 = get_hit_rate_at_k(recommendations = dt_recommendations, \n",
    "                                   rankings = evaluation_data, \n",
    "                                   K=k)\n",
    "print(f\"Model: {model} - Hit rate at {k}: {hit_5}\")\n",
    "\n",
    "k = 10  # Set the desired value of K\n",
    "hit_10 = get_hit_rate_at_k(recommendations = dt_recommendations, \n",
    "                                   rankings = evaluation_data, \n",
    "                                   K=k)\n",
    "print(f\"Model: {model} - Hit rate at {k}: {hit_10}\")\n",
    "\n",
    "k = 20  # Set the desired value of K\n",
    "hit_20 = get_hit_rate_at_k(recommendations = dt_recommendations, \n",
    "                                   rankings = evaluation_data, \n",
    "                                   K=k)\n",
    "print(f\"Model: {model} - Hit rate at {k}: {hit_20}\")"
   ]
  },
  {
   "cell_type": "code",
   "execution_count": 34,
   "id": "f49f3c87",
   "metadata": {},
   "outputs": [],
   "source": [
    "models.append(model)\n",
    "benchmarks.append(benchmark)\n",
    "hits_5.append(hit_5)\n",
    "hits_10.append(hit_10)\n",
    "hits_20.append(hit_20)"
   ]
  },
  {
   "cell_type": "markdown",
   "id": "fdecde2d",
   "metadata": {},
   "source": [
    "## Model: XGBoost (xgbt)"
   ]
  },
  {
   "cell_type": "code",
   "execution_count": 36,
   "id": "e7cda939-9c2b-48b0-a3dd-ed0b8fa220b3",
   "metadata": {},
   "outputs": [
    {
     "name": "stdout",
     "output_type": "stream",
     "text": [
      "final hit_count: 156\n",
      "Model: xgbt - Hit rate at 5: 0.04198062432723358\n",
      "final hit_count: 158\n",
      "Model: xgbt - Hit rate at 10: 0.042518837459634015\n",
      "final hit_count: 158\n",
      "Model: xgbt - Hit rate at 20: 0.042518837459634015\n",
      "CPU times: user 13 s, sys: 99.6 ms, total: 13.1 s\n",
      "Wall time: 13.1 s\n"
     ]
    }
   ],
   "source": [
    "%%time\n",
    "model = 'xgbt'\n",
    "xgbt_recommendations = pd.read_csv('./output_topN_tabular/rec_result_xgbt_ranking_knn.csv')\n",
    "\n",
    "# Calculate hit rate at K (precision at K)\n",
    "k = 5  # Set the desired value of K\n",
    "hit_5 = get_hit_rate_at_k(recommendations = xgbt_recommendations, \n",
    "                                   rankings = evaluation_data, \n",
    "                                   K=k)\n",
    "print(f\"Model: {model} - Hit rate at {k}: {hit_5}\")\n",
    "\n",
    "k = 10  # Set the desired value of K\n",
    "hit_10 = get_hit_rate_at_k(recommendations = xgbt_recommendations, \n",
    "                                   rankings = evaluation_data, \n",
    "                                   K=k)\n",
    "print(f\"Model: {model} - Hit rate at {k}: {hit_10}\")\n",
    "\n",
    "k = 20  # Set the desired value of K\n",
    "hit_20 = get_hit_rate_at_k(recommendations = xgbt_recommendations, \n",
    "                                   rankings = evaluation_data, \n",
    "                                   K=k)\n",
    "print(f\"Model: {model} - Hit rate at {k}: {hit_20}\")"
   ]
  },
  {
   "cell_type": "code",
   "execution_count": 37,
   "id": "33a0294b",
   "metadata": {},
   "outputs": [],
   "source": [
    "models.append(model)\n",
    "benchmarks.append(benchmark)\n",
    "hits_5.append(hit_5)\n",
    "hits_10.append(hit_10)\n",
    "hits_20.append(hit_20)"
   ]
  },
  {
   "cell_type": "markdown",
   "id": "1ac6a9a8",
   "metadata": {},
   "source": [
    "## Model: Naive Bayes"
   ]
  },
  {
   "cell_type": "code",
   "execution_count": 38,
   "id": "208c0eb5",
   "metadata": {},
   "outputs": [
    {
     "name": "stdout",
     "output_type": "stream",
     "text": [
      "final hit_count: 128\n",
      "Model: nb - Hit rate at 5: 0.03444564047362755\n",
      "final hit_count: 135\n",
      "Model: nb - Hit rate at 10: 0.036329386437029064\n",
      "final hit_count: 147\n",
      "Model: nb - Hit rate at 20: 0.039558665231431644\n",
      "CPU times: user 12.8 s, sys: 93.2 ms, total: 12.9 s\n",
      "Wall time: 12.9 s\n"
     ]
    }
   ],
   "source": [
    "%%time\n",
    "model = 'nb'\n",
    "nb_recommendations = pd.read_csv('./output_topN_tabular/rec_result_nb_ranking_knn.csv')\n",
    "\n",
    "# Calculate hit rate at K (precision at K)\n",
    "k = 5  # Set the desired value of K\n",
    "hit_5 = get_hit_rate_at_k(recommendations = nb_recommendations, \n",
    "                                   rankings = evaluation_data, \n",
    "                                   K=k)\n",
    "print(f\"Model: {model} - Hit rate at {k}: {hit_5}\")\n",
    "\n",
    "k = 10  # Set the desired value of K\n",
    "hit_10 = get_hit_rate_at_k(recommendations = nb_recommendations, \n",
    "                                   rankings = evaluation_data, \n",
    "                                   K=k)\n",
    "print(f\"Model: {model} - Hit rate at {k}: {hit_10}\")\n",
    "\n",
    "k = 20  # Set the desired value of K\n",
    "hit_20 = get_hit_rate_at_k(recommendations = nb_recommendations, \n",
    "                                   rankings = evaluation_data, \n",
    "                                   K=k)\n",
    "print(f\"Model: {model} - Hit rate at {k}: {hit_20}\")"
   ]
  },
  {
   "cell_type": "code",
   "execution_count": 39,
   "id": "b8047595",
   "metadata": {},
   "outputs": [],
   "source": [
    "models.append(model)\n",
    "benchmarks.append(benchmark)\n",
    "hits_5.append(hit_5)\n",
    "hits_10.append(hit_10)\n",
    "hits_20.append(hit_20)"
   ]
  },
  {
   "cell_type": "markdown",
   "id": "d3c95768",
   "metadata": {},
   "source": [
    "## Model: AdaBoost"
   ]
  },
  {
   "cell_type": "code",
   "execution_count": 40,
   "id": "01bab972",
   "metadata": {},
   "outputs": [
    {
     "name": "stdout",
     "output_type": "stream",
     "text": [
      "final hit_count: 134\n",
      "Model: ada - Hit rate at 5: 0.03606027987082885\n",
      "final hit_count: 146\n",
      "Model: ada - Hit rate at 10: 0.039289558665231435\n",
      "final hit_count: 148\n",
      "Model: ada - Hit rate at 20: 0.03982777179763186\n",
      "CPU times: user 15.2 s, sys: 1.21 s, total: 16.4 s\n",
      "Wall time: 16.6 s\n"
     ]
    }
   ],
   "source": [
    "%%time\n",
    "model = 'ada'\n",
    "ada_recommendations = pd.read_csv('./output_topN_tabular/rec_result_ada_ranking_knn.csv')\n",
    "\n",
    "# Calculate hit rate at K (precision at K)\n",
    "k = 5  # Set the desired value of K\n",
    "hit_5 = get_hit_rate_at_k(recommendations = ada_recommendations, \n",
    "                                   rankings = evaluation_data, \n",
    "                                   K=k)\n",
    "print(f\"Model: {model} - Hit rate at {k}: {hit_5}\")\n",
    "\n",
    "k = 10  # Set the desired value of K\n",
    "hit_10 = get_hit_rate_at_k(recommendations = ada_recommendations, \n",
    "                                   rankings = evaluation_data, \n",
    "                                   K=k)\n",
    "print(f\"Model: {model} - Hit rate at {k}: {hit_10}\")\n",
    "\n",
    "k = 20  # Set the desired value of K\n",
    "hit_20 = get_hit_rate_at_k(recommendations = ada_recommendations, \n",
    "                                   rankings = evaluation_data, \n",
    "                                   K=k)\n",
    "print(f\"Model: {model} - Hit rate at {k}: {hit_20}\")"
   ]
  },
  {
   "cell_type": "code",
   "execution_count": 41,
   "id": "5ee53882",
   "metadata": {},
   "outputs": [],
   "source": [
    "models.append(model)\n",
    "benchmarks.append(benchmark)\n",
    "hits_5.append(hit_5)\n",
    "hits_10.append(hit_10)\n",
    "hits_20.append(hit_20)"
   ]
  },
  {
   "cell_type": "markdown",
   "id": "6295408b",
   "metadata": {},
   "source": [
    "## Model: lda"
   ]
  },
  {
   "cell_type": "code",
   "execution_count": 42,
   "id": "ae0fddbb",
   "metadata": {},
   "outputs": [
    {
     "name": "stdout",
     "output_type": "stream",
     "text": [
      "final hit_count: 134\n",
      "Model: lda - Hit rate at 5: 0.03606027987082885\n",
      "final hit_count: 146\n",
      "Model: lda - Hit rate at 10: 0.039289558665231435\n",
      "final hit_count: 149\n",
      "Model: lda - Hit rate at 20: 0.04009687836383208\n",
      "CPU times: user 14.7 s, sys: 868 ms, total: 15.6 s\n",
      "Wall time: 15.7 s\n"
     ]
    }
   ],
   "source": [
    "%%time\n",
    "model = 'lda'\n",
    "lda_recommendations = pd.read_csv('./output_topN_tabular/rec_result_lda_ranking_knn.csv')\n",
    "\n",
    "# Calculate hit rate at K (precision at K)\n",
    "k = 5  # Set the desired value of K\n",
    "hit_5 = get_hit_rate_at_k(recommendations = lda_recommendations, \n",
    "                                   rankings = evaluation_data, \n",
    "                                   K=k)\n",
    "print(f\"Model: {model} - Hit rate at {k}: {hit_5}\")\n",
    "\n",
    "k = 10  # Set the desired value of K\n",
    "hit_10 = get_hit_rate_at_k(recommendations = lda_recommendations, \n",
    "                                   rankings = evaluation_data, \n",
    "                                   K=k)\n",
    "print(f\"Model: {model} - Hit rate at {k}: {hit_10}\")\n",
    "\n",
    "k = 20  # Set the desired value of K\n",
    "hit_20 = get_hit_rate_at_k(recommendations = lda_recommendations, \n",
    "                                   rankings = evaluation_data, \n",
    "                                   K=k)\n",
    "print(f\"Model: {model} - Hit rate at {k}: {hit_20}\")"
   ]
  },
  {
   "cell_type": "code",
   "execution_count": 43,
   "id": "6b041928",
   "metadata": {},
   "outputs": [],
   "source": [
    "models.append(model)\n",
    "benchmarks.append(benchmark)\n",
    "hits_5.append(hit_5)\n",
    "hits_10.append(hit_10)\n",
    "hits_20.append(hit_20)"
   ]
  },
  {
   "cell_type": "markdown",
   "id": "6dab408c",
   "metadata": {},
   "source": [
    "## Model: qda"
   ]
  },
  {
   "cell_type": "code",
   "execution_count": 44,
   "id": "f05d1d6f",
   "metadata": {},
   "outputs": [
    {
     "name": "stdout",
     "output_type": "stream",
     "text": [
      "final hit_count: 125\n",
      "Model: qda - Hit rate at 5: 0.03363832077502691\n",
      "final hit_count: 143\n",
      "Model: qda - Hit rate at 10: 0.038482238966630784\n",
      "final hit_count: 149\n",
      "Model: qda - Hit rate at 20: 0.04009687836383208\n",
      "CPU times: user 13.9 s, sys: 167 ms, total: 14.1 s\n",
      "Wall time: 14.2 s\n"
     ]
    }
   ],
   "source": [
    "%%time\n",
    "model = 'qda'\n",
    "qda_recommendations = pd.read_csv('./output_topN_tabular/rec_result_qda_ranking_knn.csv')\n",
    "\n",
    "# Calculate hit rate at K (precision at K)\n",
    "k = 5  # Set the desired value of K\n",
    "hit_5 = get_hit_rate_at_k(recommendations = qda_recommendations, \n",
    "                                   rankings = evaluation_data, \n",
    "                                   K=k)\n",
    "print(f\"Model: {model} - Hit rate at {k}: {hit_5}\")\n",
    "\n",
    "k = 10  # Set the desired value of K\n",
    "hit_10 = get_hit_rate_at_k(recommendations = qda_recommendations, \n",
    "                                   rankings = evaluation_data, \n",
    "                                   K=k)\n",
    "print(f\"Model: {model} - Hit rate at {k}: {hit_10}\")\n",
    "\n",
    "k = 20  # Set the desired value of K\n",
    "hit_20 = get_hit_rate_at_k(recommendations = qda_recommendations, \n",
    "                                   rankings = evaluation_data, \n",
    "                                   K=k)\n",
    "print(f\"Model: {model} - Hit rate at {k}: {hit_20}\")"
   ]
  },
  {
   "cell_type": "code",
   "execution_count": 45,
   "id": "426d37e3",
   "metadata": {},
   "outputs": [],
   "source": [
    "models.append(model)\n",
    "benchmarks.append(benchmark)\n",
    "hits_5.append(hit_5)\n",
    "hits_10.append(hit_10)\n",
    "hits_20.append(hit_20)"
   ]
  },
  {
   "cell_type": "markdown",
   "id": "292b3a25-8bae-48bb-921f-3a868266f8a7",
   "metadata": {
    "tags": []
   },
   "source": [
    "# Calculate hit_rate (manual) - Evaluation data: test_interaction data"
   ]
  },
  {
   "cell_type": "code",
   "execution_count": 46,
   "id": "3a76851b-75d3-47df-b8d4-578fa83aeecd",
   "metadata": {},
   "outputs": [],
   "source": [
    "# Load all interaction data (LDA tabular with side information)\n",
    "train_data_extended = pd.read_csv('./xai_recsys/train_data_extended.csv')\n",
    "test_data_extended = pd.read_csv('./xai_recsys/test_data_extended.csv')"
   ]
  },
  {
   "cell_type": "code",
   "execution_count": 47,
   "id": "4bd995b3-ec40-441d-a98d-064defbe7ca7",
   "metadata": {},
   "outputs": [],
   "source": [
    "# Positive interaction (from original data)\n",
    "select_cols = ['UserID', 'JobID', 'label','Split']\n",
    "actual_interaction_train = train_data_extended[select_cols]\n",
    "actual_interaction_test = test_data_extended[select_cols]\n",
    "actual_interaction_df = pd.concat([actual_interaction_train,actual_interaction_test])"
   ]
  },
  {
   "cell_type": "code",
   "execution_count": 48,
   "id": "10bbd977-319c-4006-b311-b4eeb58a9b8f",
   "metadata": {},
   "outputs": [
    {
     "data": {
      "text/plain": [
       "(563889, 15736)"
      ]
     },
     "execution_count": 48,
     "metadata": {},
     "output_type": "execute_result"
    }
   ],
   "source": [
    "len(actual_interaction_train), len(actual_interaction_test)"
   ]
  },
  {
   "cell_type": "code",
   "execution_count": 49,
   "id": "391b6cb6",
   "metadata": {},
   "outputs": [],
   "source": [
    "benchmark = 'actual_test_interaction'"
   ]
  },
  {
   "cell_type": "markdown",
   "id": "b17a0177",
   "metadata": {},
   "source": [
    "## Model: logreg"
   ]
  },
  {
   "cell_type": "code",
   "execution_count": 50,
   "id": "f004085a",
   "metadata": {},
   "outputs": [
    {
     "name": "stdout",
     "output_type": "stream",
     "text": [
      "final hit_count: 134\n",
      "Model: logreg - Hit rate at 5 - actual test interaction: 0.03606027987082885\n",
      "final hit_count: 146\n",
      "Model: logreg - Hit rate at 10 - actual test interaction: 0.039289558665231435\n",
      "final hit_count: 149\n",
      "Model: logreg - Hit rate at 20 - actual test interaction: 0.04009687836383208\n",
      "CPU times: user 8.91 s, sys: 89.9 ms, total: 9 s\n",
      "Wall time: 9.09 s\n"
     ]
    }
   ],
   "source": [
    "%%time\n",
    "model = 'logreg'\n",
    "logreg_recommendations = pd.read_csv('./output_topN_tabular/rec_result_logreg_ranking_knn.csv')\n",
    "\n",
    "# Calculate hit rate at K (precision at K)\n",
    "k = 5  # Set the desired value of K\n",
    "hit_5 = get_hit_rate_at_k(recommendations = logreg_recommendations, \n",
    "                                   rankings = actual_interaction_test, \n",
    "                                   K=k)\n",
    "print(f\"Model: {model} - Hit rate at {k} - actual test interaction: {hit_5}\")\n",
    "\n",
    "k = 10  # Set the desired value of K\n",
    "hit_10 = get_hit_rate_at_k(recommendations = logreg_recommendations, \n",
    "                                   rankings = actual_interaction_test, \n",
    "                                   K=k)\n",
    "print(f\"Model: {model} - Hit rate at {k} - actual test interaction: {hit_10}\")\n",
    "\n",
    "k = 20  # Set the desired value of K\n",
    "hit_20 = get_hit_rate_at_k(recommendations = logreg_recommendations, \n",
    "                                   rankings = actual_interaction_test, \n",
    "                                   K=k)\n",
    "print(f\"Model: {model} - Hit rate at {k} - actual test interaction: {hit_20}\")"
   ]
  },
  {
   "cell_type": "code",
   "execution_count": 51,
   "id": "81167573",
   "metadata": {},
   "outputs": [],
   "source": [
    "models.append(model)\n",
    "benchmarks.append(benchmark)\n",
    "hits_5.append(hit_5)\n",
    "hits_10.append(hit_10)\n",
    "hits_20.append(hit_20)"
   ]
  },
  {
   "cell_type": "markdown",
   "id": "54c09ace",
   "metadata": {},
   "source": [
    "## Model: dt"
   ]
  },
  {
   "cell_type": "code",
   "execution_count": 52,
   "id": "c93a67f3",
   "metadata": {},
   "outputs": [
    {
     "name": "stdout",
     "output_type": "stream",
     "text": [
      "final hit_count: 146\n",
      "Model: dt - Hit rate at 5 - actual test interaction: 0.039289558665231435\n",
      "final hit_count: 147\n",
      "Model: dt - Hit rate at 10 - actual test interaction: 0.039558665231431644\n",
      "final hit_count: 157\n",
      "Model: dt - Hit rate at 20 - actual test interaction: 0.0422497308934338\n",
      "CPU times: user 8.54 s, sys: 65.4 ms, total: 8.61 s\n",
      "Wall time: 8.68 s\n"
     ]
    }
   ],
   "source": [
    "%%time\n",
    "model = 'dt'\n",
    "dt_recommendations = pd.read_csv('./output_topN_tabular/rec_result_dt_ranking_knn.csv')\n",
    "\n",
    "# Calculate hit rate at K (precision at K)\n",
    "k = 5  # Set the desired value of K\n",
    "hit_5 = get_hit_rate_at_k(recommendations = dt_recommendations, \n",
    "                                   rankings = actual_interaction_test, \n",
    "                                   K=k)\n",
    "print(f\"Model: {model} - Hit rate at {k} - actual test interaction: {hit_5}\")\n",
    "\n",
    "k = 10  # Set the desired value of K\n",
    "hit_10 = get_hit_rate_at_k(recommendations = dt_recommendations, \n",
    "                                   rankings = actual_interaction_test, \n",
    "                                   K=k)\n",
    "print(f\"Model: {model} - Hit rate at {k} - actual test interaction: {hit_10}\")\n",
    "\n",
    "k = 20  # Set the desired value of K\n",
    "hit_20 = get_hit_rate_at_k(recommendations = dt_recommendations, \n",
    "                                   rankings = actual_interaction_test, \n",
    "                                   K=k)\n",
    "print(f\"Model: {model} - Hit rate at {k} - actual test interaction: {hit_20}\")"
   ]
  },
  {
   "cell_type": "code",
   "execution_count": 53,
   "id": "ebee4c32",
   "metadata": {},
   "outputs": [],
   "source": [
    "models.append(model)\n",
    "benchmarks.append(benchmark)\n",
    "hits_5.append(hit_5)\n",
    "hits_10.append(hit_10)\n",
    "hits_20.append(hit_20)"
   ]
  },
  {
   "cell_type": "markdown",
   "id": "64033243",
   "metadata": {},
   "source": [
    "## Model: xgbt"
   ]
  },
  {
   "cell_type": "code",
   "execution_count": 54,
   "id": "0fd60975",
   "metadata": {},
   "outputs": [
    {
     "name": "stdout",
     "output_type": "stream",
     "text": [
      "final hit_count: 156\n",
      "Model: xgbt - Hit rate at 5 - actual test interaction: 0.04198062432723358\n",
      "final hit_count: 158\n",
      "Model: xgbt - Hit rate at 10 - actual test interaction: 0.042518837459634015\n",
      "final hit_count: 158\n",
      "Model: xgbt - Hit rate at 20 - actual test interaction: 0.042518837459634015\n",
      "CPU times: user 8.9 s, sys: 90.4 ms, total: 8.99 s\n",
      "Wall time: 9.06 s\n"
     ]
    }
   ],
   "source": [
    "%%time\n",
    "model = 'xgbt'\n",
    "xgbt_recommendations = pd.read_csv('./output_topN_tabular/rec_result_xgbt_ranking_knn.csv')\n",
    "\n",
    "# Calculate hit rate at K (precision at K)\n",
    "k = 5  # Set the desired value of K\n",
    "hit_5 = get_hit_rate_at_k(recommendations = xgbt_recommendations, \n",
    "                                   rankings = actual_interaction_test, \n",
    "                                   K=k)\n",
    "print(f\"Model: {model} - Hit rate at {k} - actual test interaction: {hit_5}\")\n",
    "\n",
    "k = 10  # Set the desired value of K\n",
    "hit_10 = get_hit_rate_at_k(recommendations = xgbt_recommendations, \n",
    "                                   rankings = actual_interaction_test, \n",
    "                                   K=k)\n",
    "print(f\"Model: {model} - Hit rate at {k} - actual test interaction: {hit_10}\")\n",
    "\n",
    "k = 20  # Set the desired value of K\n",
    "hit_20 = get_hit_rate_at_k(recommendations = xgbt_recommendations, \n",
    "                                   rankings = actual_interaction_test, \n",
    "                                   K=k)\n",
    "print(f\"Model: {model} - Hit rate at {k} - actual test interaction: {hit_20}\")"
   ]
  },
  {
   "cell_type": "code",
   "execution_count": 55,
   "id": "4150e6a2",
   "metadata": {},
   "outputs": [],
   "source": [
    "models.append(model)\n",
    "benchmarks.append(benchmark)\n",
    "hits_5.append(hit_5)\n",
    "hits_10.append(hit_10)\n",
    "hits_20.append(hit_20)"
   ]
  },
  {
   "cell_type": "markdown",
   "id": "992caa71",
   "metadata": {},
   "source": [
    "## Model: nb"
   ]
  },
  {
   "cell_type": "code",
   "execution_count": 56,
   "id": "02540041",
   "metadata": {},
   "outputs": [
    {
     "name": "stdout",
     "output_type": "stream",
     "text": [
      "final hit_count: 128\n",
      "Model: nb - Hit rate at 5 - actual test interaction: 0.03444564047362755\n",
      "final hit_count: 135\n",
      "Model: nb - Hit rate at 10 - actual test interaction: 0.036329386437029064\n",
      "final hit_count: 147\n",
      "Model: nb - Hit rate at 20 - actual test interaction: 0.039558665231431644\n",
      "CPU times: user 8.81 s, sys: 87.6 ms, total: 8.9 s\n",
      "Wall time: 9 s\n"
     ]
    }
   ],
   "source": [
    "%%time\n",
    "model = 'nb'\n",
    "nb_recommendations = pd.read_csv('./output_topN_tabular/rec_result_nb_ranking_knn.csv')\n",
    "\n",
    "# Calculate hit rate at K (precision at K)\n",
    "k = 5  # Set the desired value of K\n",
    "hit_5 = get_hit_rate_at_k(recommendations = nb_recommendations, \n",
    "                                   rankings = actual_interaction_test, \n",
    "                                   K=k)\n",
    "print(f\"Model: {model} - Hit rate at {k} - actual test interaction: {hit_5}\")\n",
    "\n",
    "k = 10  # Set the desired value of K\n",
    "hit_10 = get_hit_rate_at_k(recommendations = nb_recommendations, \n",
    "                                   rankings = actual_interaction_test, \n",
    "                                   K=k)\n",
    "print(f\"Model: {model} - Hit rate at {k} - actual test interaction: {hit_10}\")\n",
    "\n",
    "k = 20  # Set the desired value of K\n",
    "hit_20 = get_hit_rate_at_k(recommendations = nb_recommendations, \n",
    "                                   rankings = actual_interaction_test, \n",
    "                                   K=k)\n",
    "print(f\"Model: {model} - Hit rate at {k} - actual test interaction: {hit_20}\")"
   ]
  },
  {
   "cell_type": "code",
   "execution_count": 57,
   "id": "32f5326b",
   "metadata": {},
   "outputs": [],
   "source": [
    "models.append(model)\n",
    "benchmarks.append(benchmark)\n",
    "hits_5.append(hit_5)\n",
    "hits_10.append(hit_10)\n",
    "hits_20.append(hit_20)"
   ]
  },
  {
   "cell_type": "markdown",
   "id": "c1703255",
   "metadata": {},
   "source": [
    "## Model: ada (to update)"
   ]
  },
  {
   "cell_type": "code",
   "execution_count": 58,
   "id": "66fb36af",
   "metadata": {},
   "outputs": [
    {
     "name": "stdout",
     "output_type": "stream",
     "text": [
      "final hit_count: 134\n",
      "Model: ada - Hit rate at 5 - actual test interaction: 0.03606027987082885\n",
      "final hit_count: 146\n",
      "Model: ada - Hit rate at 10 - actual test interaction: 0.039289558665231435\n",
      "final hit_count: 148\n",
      "Model: ada - Hit rate at 20 - actual test interaction: 0.03982777179763186\n",
      "CPU times: user 8.51 s, sys: 60.4 ms, total: 8.57 s\n",
      "Wall time: 8.63 s\n"
     ]
    }
   ],
   "source": [
    "%%time\n",
    "model = 'ada'\n",
    "ada_recommendations = pd.read_csv('./output_topN_tabular/rec_result_ada_ranking_knn.csv')\n",
    "\n",
    "# Calculate hit rate at K (precision at K)\n",
    "k = 5  # Set the desired value of K\n",
    "hit_5 = get_hit_rate_at_k(recommendations = ada_recommendations, \n",
    "                                   rankings = actual_interaction_test, \n",
    "                                   K=k)\n",
    "print(f\"Model: {model} - Hit rate at {k} - actual test interaction: {hit_5}\")\n",
    "\n",
    "k = 10  # Set the desired value of K\n",
    "hit_10 = get_hit_rate_at_k(recommendations = ada_recommendations, \n",
    "                                   rankings = actual_interaction_test, \n",
    "                                   K=k)\n",
    "print(f\"Model: {model} - Hit rate at {k} - actual test interaction: {hit_10}\")\n",
    "\n",
    "k = 20  # Set the desired value of K\n",
    "hit_20 = get_hit_rate_at_k(recommendations = ada_recommendations, \n",
    "                                   rankings = actual_interaction_test, \n",
    "                                   K=k)\n",
    "print(f\"Model: {model} - Hit rate at {k} - actual test interaction: {hit_20}\")"
   ]
  },
  {
   "cell_type": "code",
   "execution_count": 59,
   "id": "3052a5de",
   "metadata": {},
   "outputs": [],
   "source": [
    "models.append(model)\n",
    "benchmarks.append(benchmark)\n",
    "hits_5.append(hit_5)\n",
    "hits_10.append(hit_10)\n",
    "hits_20.append(hit_20)"
   ]
  },
  {
   "cell_type": "markdown",
   "id": "2cfd68ce",
   "metadata": {},
   "source": [
    "## Model: lda"
   ]
  },
  {
   "cell_type": "code",
   "execution_count": 60,
   "id": "447a655d",
   "metadata": {},
   "outputs": [
    {
     "name": "stdout",
     "output_type": "stream",
     "text": [
      "final hit_count: 134\n",
      "Model: lda - Hit rate at 5 - actual test interaction: 0.03606027987082885\n",
      "final hit_count: 146\n",
      "Model: lda - Hit rate at 10 - actual test interaction: 0.039289558665231435\n",
      "final hit_count: 149\n",
      "Model: lda - Hit rate at 20 - actual test interaction: 0.04009687836383208\n",
      "CPU times: user 9.08 s, sys: 102 ms, total: 9.18 s\n",
      "Wall time: 9.27 s\n"
     ]
    }
   ],
   "source": [
    "%%time\n",
    "model = 'lda'\n",
    "lda_recommendations = pd.read_csv('./output_topN_tabular/rec_result_lda_ranking_knn.csv')\n",
    "\n",
    "# Calculate hit rate at K (precision at K)\n",
    "k = 5  # Set the desired value of K\n",
    "hit_5 = get_hit_rate_at_k(recommendations = lda_recommendations, \n",
    "                                   rankings = actual_interaction_test, \n",
    "                                   K=k)\n",
    "print(f\"Model: {model} - Hit rate at {k} - actual test interaction: {hit_5}\")\n",
    "\n",
    "k = 10  # Set the desired value of K\n",
    "hit_10 = get_hit_rate_at_k(recommendations = lda_recommendations, \n",
    "                                   rankings = actual_interaction_test, \n",
    "                                   K=k)\n",
    "print(f\"Model: {model} - Hit rate at {k} - actual test interaction: {hit_10}\")\n",
    "\n",
    "k = 20  # Set the desired value of K\n",
    "hit_20 = get_hit_rate_at_k(recommendations = lda_recommendations, \n",
    "                                   rankings = actual_interaction_test, \n",
    "                                   K=k)\n",
    "print(f\"Model: {model} - Hit rate at {k} - actual test interaction: {hit_20}\")"
   ]
  },
  {
   "cell_type": "code",
   "execution_count": 61,
   "id": "9df72fdb",
   "metadata": {},
   "outputs": [],
   "source": [
    "models.append(model)\n",
    "benchmarks.append(benchmark)\n",
    "hits_5.append(hit_5)\n",
    "hits_10.append(hit_10)\n",
    "hits_20.append(hit_20)"
   ]
  },
  {
   "cell_type": "markdown",
   "id": "d05a487b",
   "metadata": {},
   "source": [
    "## Model: qda"
   ]
  },
  {
   "cell_type": "code",
   "execution_count": 62,
   "id": "5314372e",
   "metadata": {},
   "outputs": [
    {
     "name": "stdout",
     "output_type": "stream",
     "text": [
      "final hit_count: 125\n",
      "Model: qda - Hit rate at 5 - actual test interaction: 0.03363832077502691\n",
      "final hit_count: 143\n",
      "Model: qda - Hit rate at 10 - actual test interaction: 0.038482238966630784\n",
      "final hit_count: 149\n",
      "Model: qda - Hit rate at 20 - actual test interaction: 0.04009687836383208\n",
      "CPU times: user 9 s, sys: 68.1 ms, total: 9.07 s\n",
      "Wall time: 9.13 s\n"
     ]
    }
   ],
   "source": [
    "%%time\n",
    "model = 'qda'\n",
    "qda_recommendations = pd.read_csv('./output_topN_tabular/rec_result_qda_ranking_knn.csv')\n",
    "\n",
    "# Calculate hit rate at K (precision at K)\n",
    "k = 5  # Set the desired value of K\n",
    "hit_5 = get_hit_rate_at_k(recommendations = qda_recommendations, \n",
    "                                   rankings = actual_interaction_test, \n",
    "                                   K=k)\n",
    "print(f\"Model: {model} - Hit rate at {k} - actual test interaction: {hit_5}\")\n",
    "\n",
    "k = 10  # Set the desired value of K\n",
    "hit_10 = get_hit_rate_at_k(recommendations = qda_recommendations, \n",
    "                                   rankings = actual_interaction_test, \n",
    "                                   K=k)\n",
    "print(f\"Model: {model} - Hit rate at {k} - actual test interaction: {hit_10}\")\n",
    "\n",
    "k = 20  # Set the desired value of K\n",
    "hit_20 = get_hit_rate_at_k(recommendations = qda_recommendations, \n",
    "                                   rankings = actual_interaction_test, \n",
    "                                   K=k)\n",
    "print(f\"Model: {model} - Hit rate at {k} - actual test interaction: {hit_20}\")"
   ]
  },
  {
   "cell_type": "code",
   "execution_count": 63,
   "id": "fb1e8bb0",
   "metadata": {},
   "outputs": [],
   "source": [
    "models.append(model)\n",
    "benchmarks.append(benchmark)\n",
    "hits_5.append(hit_5)\n",
    "hits_10.append(hit_10)\n",
    "hits_20.append(hit_20)"
   ]
  },
  {
   "cell_type": "markdown",
   "id": "1ee5c509-5294-42fb-a964-3d3727ec7913",
   "metadata": {
    "tags": []
   },
   "source": [
    "# Calculate hit_rate (manual) - Evaluation data: all interaction data"
   ]
  },
  {
   "cell_type": "code",
   "execution_count": 64,
   "id": "464ebbe6",
   "metadata": {},
   "outputs": [],
   "source": [
    "benchmark = 'all_interaction_data'"
   ]
  },
  {
   "cell_type": "markdown",
   "id": "9c35728b",
   "metadata": {},
   "source": [
    "## Model: logreg"
   ]
  },
  {
   "cell_type": "code",
   "execution_count": 65,
   "id": "f844dfee",
   "metadata": {},
   "outputs": [
    {
     "name": "stdout",
     "output_type": "stream",
     "text": [
      "final hit_count: 134\n",
      "Model: logreg - Hit rate at 5 - all actual interaction: 0.03606027987082885\n",
      "final hit_count: 146\n",
      "Model: logreg - Hit rate at 10 - all actual interaction: 0.039289558665231435\n",
      "final hit_count: 149\n",
      "Model: logreg - Hit rate at 20 - all actual interaction: 0.04009687836383208\n",
      "CPU times: user 18.9 s, sys: 958 ms, total: 19.8 s\n",
      "Wall time: 20 s\n"
     ]
    }
   ],
   "source": [
    "%%time\n",
    "model = 'logreg'\n",
    "logreg_recommendations = pd.read_csv('./output_topN_tabular/rec_result_logreg_ranking_knn.csv')\n",
    "\n",
    "# Calculate hit rate at K (precision at K)\n",
    "k = 5  # Set the desired value of K\n",
    "hit_5 = get_hit_rate_at_k(recommendations = logreg_recommendations, \n",
    "                                   rankings = actual_interaction_df, \n",
    "                                   K=k)\n",
    "print(f\"Model: {model} - Hit rate at {k} - all actual interaction: {hit_5}\")\n",
    "\n",
    "k = 10  # Set the desired value of K\n",
    "hit_10 = get_hit_rate_at_k(recommendations = logreg_recommendations, \n",
    "                                   rankings = actual_interaction_df, \n",
    "                                   K=k)\n",
    "print(f\"Model: {model} - Hit rate at {k} - all actual interaction: {hit_10}\")\n",
    "\n",
    "k = 20  # Set the desired value of K\n",
    "hit_20 = get_hit_rate_at_k(recommendations = logreg_recommendations, \n",
    "                                   rankings = actual_interaction_df, \n",
    "                                   K=k)\n",
    "print(f\"Model: {model} - Hit rate at {k} - all actual interaction: {hit_20}\")"
   ]
  },
  {
   "cell_type": "code",
   "execution_count": 66,
   "id": "c0844229",
   "metadata": {},
   "outputs": [],
   "source": [
    "models.append(model)\n",
    "benchmarks.append(benchmark)\n",
    "\n",
    "hits_5.append(hit_5)\n",
    "hits_10.append(hit_10)\n",
    "hits_20.append(hit_20)"
   ]
  },
  {
   "cell_type": "markdown",
   "id": "3f567467",
   "metadata": {},
   "source": [
    "## Model: dt"
   ]
  },
  {
   "cell_type": "code",
   "execution_count": 67,
   "id": "ea46e53d",
   "metadata": {},
   "outputs": [
    {
     "name": "stdout",
     "output_type": "stream",
     "text": [
      "final hit_count: 146\n",
      "Model: dt - Hit rate at 5 - all actual interaction: 0.039289558665231435\n",
      "final hit_count: 147\n",
      "Model: dt - Hit rate at 10 - all actual interaction: 0.039558665231431644\n",
      "final hit_count: 157\n",
      "Model: dt - Hit rate at 20 - all actual interaction: 0.0422497308934338\n",
      "CPU times: user 19.2 s, sys: 272 ms, total: 19.5 s\n",
      "Wall time: 19.8 s\n"
     ]
    }
   ],
   "source": [
    "%%time\n",
    "model = 'dt'\n",
    "dt_recommendations = pd.read_csv('./output_topN_tabular/rec_result_dt_ranking_knn.csv')\n",
    "\n",
    "# Calculate hit rate at K (precision at K)\n",
    "k = 5  # Set the desired value of K\n",
    "hit_5 = get_hit_rate_at_k(recommendations = dt_recommendations, \n",
    "                                   rankings = actual_interaction_df, \n",
    "                                   K=k)\n",
    "print(f\"Model: {model} - Hit rate at {k} - all actual interaction: {hit_5}\")\n",
    "\n",
    "k = 10  # Set the desired value of K\n",
    "hit_10 = get_hit_rate_at_k(recommendations = dt_recommendations, \n",
    "                                   rankings = actual_interaction_df, \n",
    "                                   K=k)\n",
    "print(f\"Model: {model} - Hit rate at {k} - all actual interaction: {hit_10}\")\n",
    "\n",
    "k = 20  # Set the desired value of K\n",
    "hit_20 = get_hit_rate_at_k(recommendations = dt_recommendations, \n",
    "                                   rankings = actual_interaction_df, \n",
    "                                   K=k)\n",
    "print(f\"Model: {model} - Hit rate at {k} - all actual interaction: {hit_20}\")"
   ]
  },
  {
   "cell_type": "code",
   "execution_count": 68,
   "id": "8e78819b",
   "metadata": {},
   "outputs": [],
   "source": [
    "models.append(model)\n",
    "benchmarks.append(benchmark)\n",
    "hits_5.append(hit_5)\n",
    "hits_10.append(hit_10)\n",
    "hits_20.append(hit_20)"
   ]
  },
  {
   "cell_type": "markdown",
   "id": "3c9f0492",
   "metadata": {},
   "source": [
    "## Model: xgbt"
   ]
  },
  {
   "cell_type": "code",
   "execution_count": 69,
   "id": "b7a1eeec",
   "metadata": {},
   "outputs": [
    {
     "name": "stdout",
     "output_type": "stream",
     "text": [
      "final hit_count: 156\n",
      "Model: xgbt - Hit rate at 5 - all actual interaction: 0.04198062432723358\n",
      "final hit_count: 158\n",
      "Model: xgbt - Hit rate at 10 - all actual interaction: 0.042518837459634015\n",
      "final hit_count: 158\n",
      "Model: xgbt - Hit rate at 20 - all actual interaction: 0.042518837459634015\n",
      "CPU times: user 18.2 s, sys: 201 ms, total: 18.4 s\n",
      "Wall time: 18.5 s\n"
     ]
    }
   ],
   "source": [
    "%%time\n",
    "model = 'xgbt'\n",
    "xgbt_recommendations = pd.read_csv('./output_topN_tabular/rec_result_xgbt_ranking_knn.csv')\n",
    "\n",
    "# Calculate hit rate at K (precision at K)\n",
    "k = 5  # Set the desired value of K\n",
    "hit_5 = get_hit_rate_at_k(recommendations = xgbt_recommendations, \n",
    "                                   rankings = actual_interaction_df, \n",
    "                                   K=k)\n",
    "print(f\"Model: {model} - Hit rate at {k} - all actual interaction: {hit_5}\")\n",
    "\n",
    "k = 10  # Set the desired value of K\n",
    "hit_10 = get_hit_rate_at_k(recommendations = xgbt_recommendations, \n",
    "                                   rankings = actual_interaction_df, \n",
    "                                   K=k)\n",
    "print(f\"Model: {model} - Hit rate at {k} - all actual interaction: {hit_10}\")\n",
    "\n",
    "k = 20  # Set the desired value of K\n",
    "hit_20 = get_hit_rate_at_k(recommendations = xgbt_recommendations, \n",
    "                                   rankings = actual_interaction_df, \n",
    "                                   K=k)\n",
    "print(f\"Model: {model} - Hit rate at {k} - all actual interaction: {hit_20}\")"
   ]
  },
  {
   "cell_type": "code",
   "execution_count": 70,
   "id": "15ed49df",
   "metadata": {},
   "outputs": [],
   "source": [
    "models.append(model)\n",
    "benchmarks.append(benchmark)\n",
    "hits_5.append(hit_5)\n",
    "hits_10.append(hit_10)\n",
    "hits_20.append(hit_20)"
   ]
  },
  {
   "cell_type": "markdown",
   "id": "620c63ab",
   "metadata": {},
   "source": [
    "## Model: nb"
   ]
  },
  {
   "cell_type": "code",
   "execution_count": 71,
   "id": "0175fcf8",
   "metadata": {},
   "outputs": [
    {
     "name": "stdout",
     "output_type": "stream",
     "text": [
      "final hit_count: 128\n",
      "Model: nb - Hit rate at 5 - all actual interaction: 0.03444564047362755\n",
      "final hit_count: 135\n",
      "Model: nb - Hit rate at 10 - all actual interaction: 0.036329386437029064\n",
      "final hit_count: 147\n",
      "Model: nb - Hit rate at 20 - all actual interaction: 0.039558665231431644\n",
      "CPU times: user 19.1 s, sys: 228 ms, total: 19.3 s\n",
      "Wall time: 19.6 s\n"
     ]
    }
   ],
   "source": [
    "%%time\n",
    "model = 'nb'\n",
    "nb_recommendations = pd.read_csv('./output_topN_tabular/rec_result_nb_ranking_knn.csv')\n",
    "\n",
    "# Calculate hit rate at K (precision at K)\n",
    "k = 5  # Set the desired value of K\n",
    "hit_5 = get_hit_rate_at_k(recommendations = nb_recommendations, \n",
    "                                   rankings = actual_interaction_df, \n",
    "                                   K=k)\n",
    "print(f\"Model: {model} - Hit rate at {k} - all actual interaction: {hit_5}\")\n",
    "\n",
    "k = 10  # Set the desired value of K\n",
    "hit_10 = get_hit_rate_at_k(recommendations = nb_recommendations, \n",
    "                                   rankings = actual_interaction_df, \n",
    "                                   K=k)\n",
    "print(f\"Model: {model} - Hit rate at {k} - all actual interaction: {hit_10}\")\n",
    "\n",
    "k = 20  # Set the desired value of K\n",
    "hit_20 = get_hit_rate_at_k(recommendations = nb_recommendations, \n",
    "                                   rankings = actual_interaction_df, \n",
    "                                   K=k)\n",
    "print(f\"Model: {model} - Hit rate at {k} - all actual interaction: {hit_20}\")"
   ]
  },
  {
   "cell_type": "code",
   "execution_count": 72,
   "id": "b2d57a71",
   "metadata": {},
   "outputs": [],
   "source": [
    "models.append(model)\n",
    "benchmarks.append(benchmark)\n",
    "hits_5.append(hit_5)\n",
    "hits_10.append(hit_10)\n",
    "hits_20.append(hit_20)"
   ]
  },
  {
   "cell_type": "markdown",
   "id": "3b7f80be",
   "metadata": {},
   "source": [
    "## Model: ada (to update)"
   ]
  },
  {
   "cell_type": "code",
   "execution_count": 73,
   "id": "ae4f29df",
   "metadata": {},
   "outputs": [
    {
     "name": "stdout",
     "output_type": "stream",
     "text": [
      "final hit_count: 134\n",
      "Model: ada - Hit rate at 5 - all actual interaction: 0.03606027987082885\n",
      "final hit_count: 146\n",
      "Model: ada - Hit rate at 10 - all actual interaction: 0.039289558665231435\n",
      "final hit_count: 148\n",
      "Model: ada - Hit rate at 20 - all actual interaction: 0.03982777179763186\n",
      "CPU times: user 19.1 s, sys: 718 ms, total: 19.8 s\n",
      "Wall time: 20 s\n"
     ]
    }
   ],
   "source": [
    "%%time\n",
    "model = 'ada'\n",
    "ada_recommendations = pd.read_csv('./output_topN_tabular/rec_result_ada_ranking_knn.csv')\n",
    "\n",
    "# Calculate hit rate at K (precision at K)\n",
    "k = 5  # Set the desired value of K\n",
    "hit_5 = get_hit_rate_at_k(recommendations = ada_recommendations, \n",
    "                                   rankings = actual_interaction_df, \n",
    "                                   K=k)\n",
    "print(f\"Model: {model} - Hit rate at {k} - all actual interaction: {hit_5}\")\n",
    "\n",
    "k = 10  # Set the desired value of K\n",
    "hit_10 = get_hit_rate_at_k(recommendations = ada_recommendations, \n",
    "                                   rankings = actual_interaction_df, \n",
    "                                   K=k)\n",
    "print(f\"Model: {model} - Hit rate at {k} - all actual interaction: {hit_10}\")\n",
    "\n",
    "k = 20  # Set the desired value of K\n",
    "hit_20 = get_hit_rate_at_k(recommendations = ada_recommendations, \n",
    "                                   rankings = actual_interaction_df, \n",
    "                                   K=k)\n",
    "print(f\"Model: {model} - Hit rate at {k} - all actual interaction: {hit_20}\")"
   ]
  },
  {
   "cell_type": "code",
   "execution_count": 74,
   "id": "d1b98f6a",
   "metadata": {},
   "outputs": [],
   "source": [
    "models.append(model)\n",
    "benchmarks.append(benchmark)\n",
    "hits_5.append(hit_5)\n",
    "hits_10.append(hit_10)\n",
    "hits_20.append(hit_20)"
   ]
  },
  {
   "cell_type": "markdown",
   "id": "85e3f6f9",
   "metadata": {},
   "source": [
    "## Model: lda"
   ]
  },
  {
   "cell_type": "code",
   "execution_count": 75,
   "id": "78e32573",
   "metadata": {},
   "outputs": [
    {
     "name": "stdout",
     "output_type": "stream",
     "text": [
      "final hit_count: 134\n",
      "Model: lda - Hit rate at 5 - all actual interaction: 0.03606027987082885\n",
      "final hit_count: 146\n",
      "Model: lda - Hit rate at 10 - all actual interaction: 0.039289558665231435\n",
      "final hit_count: 149\n",
      "Model: lda - Hit rate at 20 - all actual interaction: 0.04009687836383208\n",
      "CPU times: user 18.7 s, sys: 747 ms, total: 19.5 s\n",
      "Wall time: 19.6 s\n"
     ]
    }
   ],
   "source": [
    "%%time\n",
    "model = 'lda'\n",
    "lda_recommendations = pd.read_csv('./output_topN_tabular/rec_result_lda_ranking_knn.csv')\n",
    "\n",
    "# Calculate hit rate at K (precision at K)\n",
    "k = 5  # Set the desired value of K\n",
    "hit_5 = get_hit_rate_at_k(recommendations = lda_recommendations, \n",
    "                                   rankings = actual_interaction_df, \n",
    "                                   K=k)\n",
    "print(f\"Model: {model} - Hit rate at {k} - all actual interaction: {hit_5}\")\n",
    "\n",
    "k = 10  # Set the desired value of K\n",
    "hit_10 = get_hit_rate_at_k(recommendations = lda_recommendations, \n",
    "                                   rankings = actual_interaction_df, \n",
    "                                   K=k)\n",
    "print(f\"Model: {model} - Hit rate at {k} - all actual interaction: {hit_10}\")\n",
    "\n",
    "k = 20  # Set the desired value of K\n",
    "hit_20 = get_hit_rate_at_k(recommendations = lda_recommendations, \n",
    "                                   rankings = actual_interaction_df, \n",
    "                                   K=k)\n",
    "print(f\"Model: {model} - Hit rate at {k} - all actual interaction: {hit_20}\")"
   ]
  },
  {
   "cell_type": "code",
   "execution_count": 76,
   "id": "06867da8",
   "metadata": {},
   "outputs": [],
   "source": [
    "models.append(model)\n",
    "benchmarks.append(benchmark)\n",
    "hits_5.append(hit_5)\n",
    "hits_10.append(hit_10)\n",
    "hits_20.append(hit_20)"
   ]
  },
  {
   "cell_type": "markdown",
   "id": "c1a2b9d7",
   "metadata": {},
   "source": [
    "## Model: qda"
   ]
  },
  {
   "cell_type": "code",
   "execution_count": 77,
   "id": "cd4147c5",
   "metadata": {},
   "outputs": [
    {
     "name": "stdout",
     "output_type": "stream",
     "text": [
      "final hit_count: 125\n",
      "Model: qda - Hit rate at 5 - all actual interaction: 0.03363832077502691\n",
      "final hit_count: 143\n",
      "Model: qda - Hit rate at 10 - all actual interaction: 0.038482238966630784\n",
      "final hit_count: 149\n",
      "Model: qda - Hit rate at 20 - all actual interaction: 0.04009687836383208\n",
      "CPU times: user 20.2 s, sys: 227 ms, total: 20.4 s\n",
      "Wall time: 21.3 s\n"
     ]
    }
   ],
   "source": [
    "%%time\n",
    "model = 'qda'\n",
    "qda_recommendations = pd.read_csv('./output_topN_tabular/rec_result_qda_ranking_knn.csv')\n",
    "\n",
    "# Calculate hit rate at K (precision at K)\n",
    "k = 5  # Set the desired value of K\n",
    "hit_5 = get_hit_rate_at_k(recommendations = qda_recommendations, \n",
    "                                   rankings = actual_interaction_df, \n",
    "                                   K=k)\n",
    "print(f\"Model: {model} - Hit rate at {k} - all actual interaction: {hit_5}\")\n",
    "\n",
    "k = 10  # Set the desired value of K\n",
    "hit_10 = get_hit_rate_at_k(recommendations = qda_recommendations, \n",
    "                                   rankings = actual_interaction_df, \n",
    "                                   K=k)\n",
    "print(f\"Model: {model} - Hit rate at {k} - all actual interaction: {hit_10}\")\n",
    "\n",
    "k = 20  # Set the desired value of K\n",
    "hit_20 = get_hit_rate_at_k(recommendations = qda_recommendations, \n",
    "                                   rankings = actual_interaction_df, \n",
    "                                   K=k)\n",
    "print(f\"Model: {model} - Hit rate at {k} - all actual interaction: {hit_20}\")"
   ]
  },
  {
   "cell_type": "code",
   "execution_count": 78,
   "id": "39e2a03a",
   "metadata": {},
   "outputs": [],
   "source": [
    "models.append(model)\n",
    "benchmarks.append(benchmark)\n",
    "hits_5.append(hit_5)\n",
    "hits_10.append(hit_10)\n",
    "hits_20.append(hit_20)"
   ]
  },
  {
   "cell_type": "markdown",
   "id": "6fab3c2c",
   "metadata": {},
   "source": [
    "# Summarize all results"
   ]
  },
  {
   "cell_type": "code",
   "execution_count": 79,
   "id": "1ce0e9a6",
   "metadata": {},
   "outputs": [
    {
     "data": {
      "text/plain": [
       "(28, 28, 28, 28, 28)"
      ]
     },
     "execution_count": 79,
     "metadata": {},
     "output_type": "execute_result"
    }
   ],
   "source": [
    "len(models), len(benchmarks), len(hits_5), len(hits_10), len(hits_20)"
   ]
  },
  {
   "cell_type": "code",
   "execution_count": 80,
   "id": "1d082cc0",
   "metadata": {},
   "outputs": [],
   "source": [
    "baseline_hit = pd.DataFrame(columns = [\"model\",\"hit_5\", \"hit_10\", \"hit_20\", 'benchmark'])\n",
    "baseline_hit.model = models\n",
    "baseline_hit.benchmark = benchmarks\n",
    "baseline_hit.hit_5 = hits_5\n",
    "baseline_hit.hit_10 = hits_10\n",
    "baseline_hit.hit_20 = hits_20"
   ]
  },
  {
   "cell_type": "code",
   "execution_count": 81,
   "id": "1da5bb4e",
   "metadata": {},
   "outputs": [
    {
     "data": {
      "text/html": [
       "<div>\n",
       "<style scoped>\n",
       "    .dataframe tbody tr th:only-of-type {\n",
       "        vertical-align: middle;\n",
       "    }\n",
       "\n",
       "    .dataframe tbody tr th {\n",
       "        vertical-align: top;\n",
       "    }\n",
       "\n",
       "    .dataframe thead th {\n",
       "        text-align: right;\n",
       "    }\n",
       "</style>\n",
       "<table border=\"1\" class=\"dataframe\">\n",
       "  <thead>\n",
       "    <tr style=\"text-align: right;\">\n",
       "      <th></th>\n",
       "      <th>model</th>\n",
       "      <th>hit_5</th>\n",
       "      <th>hit_10</th>\n",
       "      <th>hit_20</th>\n",
       "      <th>benchmark</th>\n",
       "    </tr>\n",
       "  </thead>\n",
       "  <tbody>\n",
       "    <tr>\n",
       "      <th>0</th>\n",
       "      <td>logreg</td>\n",
       "      <td>0.016954</td>\n",
       "      <td>0.019914</td>\n",
       "      <td>0.020452</td>\n",
       "      <td>ranking_data_random</td>\n",
       "    </tr>\n",
       "    <tr>\n",
       "      <th>1</th>\n",
       "      <td>dt</td>\n",
       "      <td>0.020452</td>\n",
       "      <td>0.020452</td>\n",
       "      <td>0.021529</td>\n",
       "      <td>ranking_data_random</td>\n",
       "    </tr>\n",
       "    <tr>\n",
       "      <th>2</th>\n",
       "      <td>xgbt</td>\n",
       "      <td>0.020990</td>\n",
       "      <td>0.021259</td>\n",
       "      <td>0.021259</td>\n",
       "      <td>ranking_data_random</td>\n",
       "    </tr>\n",
       "    <tr>\n",
       "      <th>3</th>\n",
       "      <td>nb</td>\n",
       "      <td>0.015608</td>\n",
       "      <td>0.017761</td>\n",
       "      <td>0.020721</td>\n",
       "      <td>ranking_data_random</td>\n",
       "    </tr>\n",
       "    <tr>\n",
       "      <th>4</th>\n",
       "      <td>ada</td>\n",
       "      <td>0.017492</td>\n",
       "      <td>0.019645</td>\n",
       "      <td>0.020183</td>\n",
       "      <td>ranking_data_random</td>\n",
       "    </tr>\n",
       "    <tr>\n",
       "      <th>5</th>\n",
       "      <td>lda</td>\n",
       "      <td>0.016954</td>\n",
       "      <td>0.019914</td>\n",
       "      <td>0.020452</td>\n",
       "      <td>ranking_data_random</td>\n",
       "    </tr>\n",
       "    <tr>\n",
       "      <th>6</th>\n",
       "      <td>qda</td>\n",
       "      <td>0.015608</td>\n",
       "      <td>0.019376</td>\n",
       "      <td>0.020721</td>\n",
       "      <td>ranking_data_random</td>\n",
       "    </tr>\n",
       "    <tr>\n",
       "      <th>7</th>\n",
       "      <td>logreg</td>\n",
       "      <td>0.036060</td>\n",
       "      <td>0.039290</td>\n",
       "      <td>0.040097</td>\n",
       "      <td>ranking_knn_tidif</td>\n",
       "    </tr>\n",
       "    <tr>\n",
       "      <th>8</th>\n",
       "      <td>dt</td>\n",
       "      <td>0.039290</td>\n",
       "      <td>0.039559</td>\n",
       "      <td>0.042250</td>\n",
       "      <td>ranking_knn_tidif</td>\n",
       "    </tr>\n",
       "    <tr>\n",
       "      <th>9</th>\n",
       "      <td>xgbt</td>\n",
       "      <td>0.041981</td>\n",
       "      <td>0.042519</td>\n",
       "      <td>0.042519</td>\n",
       "      <td>ranking_knn_tidif</td>\n",
       "    </tr>\n",
       "    <tr>\n",
       "      <th>10</th>\n",
       "      <td>nb</td>\n",
       "      <td>0.034446</td>\n",
       "      <td>0.036329</td>\n",
       "      <td>0.039559</td>\n",
       "      <td>ranking_knn_tidif</td>\n",
       "    </tr>\n",
       "    <tr>\n",
       "      <th>11</th>\n",
       "      <td>ada</td>\n",
       "      <td>0.036060</td>\n",
       "      <td>0.039290</td>\n",
       "      <td>0.039828</td>\n",
       "      <td>ranking_knn_tidif</td>\n",
       "    </tr>\n",
       "    <tr>\n",
       "      <th>12</th>\n",
       "      <td>lda</td>\n",
       "      <td>0.036060</td>\n",
       "      <td>0.039290</td>\n",
       "      <td>0.040097</td>\n",
       "      <td>ranking_knn_tidif</td>\n",
       "    </tr>\n",
       "    <tr>\n",
       "      <th>13</th>\n",
       "      <td>qda</td>\n",
       "      <td>0.033638</td>\n",
       "      <td>0.038482</td>\n",
       "      <td>0.040097</td>\n",
       "      <td>ranking_knn_tidif</td>\n",
       "    </tr>\n",
       "    <tr>\n",
       "      <th>14</th>\n",
       "      <td>logreg</td>\n",
       "      <td>0.036060</td>\n",
       "      <td>0.039290</td>\n",
       "      <td>0.040097</td>\n",
       "      <td>actual_test_interaction</td>\n",
       "    </tr>\n",
       "    <tr>\n",
       "      <th>15</th>\n",
       "      <td>dt</td>\n",
       "      <td>0.039290</td>\n",
       "      <td>0.039559</td>\n",
       "      <td>0.042250</td>\n",
       "      <td>actual_test_interaction</td>\n",
       "    </tr>\n",
       "    <tr>\n",
       "      <th>16</th>\n",
       "      <td>xgbt</td>\n",
       "      <td>0.041981</td>\n",
       "      <td>0.042519</td>\n",
       "      <td>0.042519</td>\n",
       "      <td>actual_test_interaction</td>\n",
       "    </tr>\n",
       "    <tr>\n",
       "      <th>17</th>\n",
       "      <td>nb</td>\n",
       "      <td>0.034446</td>\n",
       "      <td>0.036329</td>\n",
       "      <td>0.039559</td>\n",
       "      <td>actual_test_interaction</td>\n",
       "    </tr>\n",
       "    <tr>\n",
       "      <th>18</th>\n",
       "      <td>ada</td>\n",
       "      <td>0.036060</td>\n",
       "      <td>0.039290</td>\n",
       "      <td>0.039828</td>\n",
       "      <td>actual_test_interaction</td>\n",
       "    </tr>\n",
       "    <tr>\n",
       "      <th>19</th>\n",
       "      <td>lda</td>\n",
       "      <td>0.036060</td>\n",
       "      <td>0.039290</td>\n",
       "      <td>0.040097</td>\n",
       "      <td>actual_test_interaction</td>\n",
       "    </tr>\n",
       "    <tr>\n",
       "      <th>20</th>\n",
       "      <td>qda</td>\n",
       "      <td>0.033638</td>\n",
       "      <td>0.038482</td>\n",
       "      <td>0.040097</td>\n",
       "      <td>actual_test_interaction</td>\n",
       "    </tr>\n",
       "    <tr>\n",
       "      <th>21</th>\n",
       "      <td>logreg</td>\n",
       "      <td>0.036060</td>\n",
       "      <td>0.039290</td>\n",
       "      <td>0.040097</td>\n",
       "      <td>all_interaction_data</td>\n",
       "    </tr>\n",
       "    <tr>\n",
       "      <th>22</th>\n",
       "      <td>dt</td>\n",
       "      <td>0.039290</td>\n",
       "      <td>0.039559</td>\n",
       "      <td>0.042250</td>\n",
       "      <td>all_interaction_data</td>\n",
       "    </tr>\n",
       "    <tr>\n",
       "      <th>23</th>\n",
       "      <td>xgbt</td>\n",
       "      <td>0.041981</td>\n",
       "      <td>0.042519</td>\n",
       "      <td>0.042519</td>\n",
       "      <td>all_interaction_data</td>\n",
       "    </tr>\n",
       "    <tr>\n",
       "      <th>24</th>\n",
       "      <td>nb</td>\n",
       "      <td>0.034446</td>\n",
       "      <td>0.036329</td>\n",
       "      <td>0.039559</td>\n",
       "      <td>all_interaction_data</td>\n",
       "    </tr>\n",
       "    <tr>\n",
       "      <th>25</th>\n",
       "      <td>ada</td>\n",
       "      <td>0.036060</td>\n",
       "      <td>0.039290</td>\n",
       "      <td>0.039828</td>\n",
       "      <td>all_interaction_data</td>\n",
       "    </tr>\n",
       "    <tr>\n",
       "      <th>26</th>\n",
       "      <td>lda</td>\n",
       "      <td>0.036060</td>\n",
       "      <td>0.039290</td>\n",
       "      <td>0.040097</td>\n",
       "      <td>all_interaction_data</td>\n",
       "    </tr>\n",
       "    <tr>\n",
       "      <th>27</th>\n",
       "      <td>qda</td>\n",
       "      <td>0.033638</td>\n",
       "      <td>0.038482</td>\n",
       "      <td>0.040097</td>\n",
       "      <td>all_interaction_data</td>\n",
       "    </tr>\n",
       "  </tbody>\n",
       "</table>\n",
       "</div>"
      ],
      "text/plain": [
       "     model     hit_5    hit_10    hit_20                benchmark\n",
       "0   logreg  0.016954  0.019914  0.020452      ranking_data_random\n",
       "1       dt  0.020452  0.020452  0.021529      ranking_data_random\n",
       "2     xgbt  0.020990  0.021259  0.021259      ranking_data_random\n",
       "3       nb  0.015608  0.017761  0.020721      ranking_data_random\n",
       "4      ada  0.017492  0.019645  0.020183      ranking_data_random\n",
       "5      lda  0.016954  0.019914  0.020452      ranking_data_random\n",
       "6      qda  0.015608  0.019376  0.020721      ranking_data_random\n",
       "7   logreg  0.036060  0.039290  0.040097        ranking_knn_tidif\n",
       "8       dt  0.039290  0.039559  0.042250        ranking_knn_tidif\n",
       "9     xgbt  0.041981  0.042519  0.042519        ranking_knn_tidif\n",
       "10      nb  0.034446  0.036329  0.039559        ranking_knn_tidif\n",
       "11     ada  0.036060  0.039290  0.039828        ranking_knn_tidif\n",
       "12     lda  0.036060  0.039290  0.040097        ranking_knn_tidif\n",
       "13     qda  0.033638  0.038482  0.040097        ranking_knn_tidif\n",
       "14  logreg  0.036060  0.039290  0.040097  actual_test_interaction\n",
       "15      dt  0.039290  0.039559  0.042250  actual_test_interaction\n",
       "16    xgbt  0.041981  0.042519  0.042519  actual_test_interaction\n",
       "17      nb  0.034446  0.036329  0.039559  actual_test_interaction\n",
       "18     ada  0.036060  0.039290  0.039828  actual_test_interaction\n",
       "19     lda  0.036060  0.039290  0.040097  actual_test_interaction\n",
       "20     qda  0.033638  0.038482  0.040097  actual_test_interaction\n",
       "21  logreg  0.036060  0.039290  0.040097     all_interaction_data\n",
       "22      dt  0.039290  0.039559  0.042250     all_interaction_data\n",
       "23    xgbt  0.041981  0.042519  0.042519     all_interaction_data\n",
       "24      nb  0.034446  0.036329  0.039559     all_interaction_data\n",
       "25     ada  0.036060  0.039290  0.039828     all_interaction_data\n",
       "26     lda  0.036060  0.039290  0.040097     all_interaction_data\n",
       "27     qda  0.033638  0.038482  0.040097     all_interaction_data"
      ]
     },
     "execution_count": 81,
     "metadata": {},
     "output_type": "execute_result"
    }
   ],
   "source": [
    "baseline_hit"
   ]
  },
  {
   "cell_type": "code",
   "execution_count": 82,
   "id": "10b26b03",
   "metadata": {},
   "outputs": [],
   "source": [
    "baseline_hit.to_csv('./output_topN_tabular/hit_rate_tfidf_ranking_knn.csv', header=True, index=False)"
   ]
  },
  {
   "cell_type": "markdown",
   "id": "20143f3b-4808-423a-9e3e-84354f5ad205",
   "metadata": {
    "tags": []
   },
   "source": [
    "# Data-centric explanation\n",
    "- Count number of JobID for positive interaction in test data"
   ]
  },
  {
   "cell_type": "code",
   "execution_count": 83,
   "id": "af9062d5-4752-4aea-9f10-3f01a5c313df",
   "metadata": {},
   "outputs": [],
   "source": [
    "summary_test_interaction = actual_interaction_test.groupby('UserID').agg(Count_JobID=('JobID', 'count')).reset_index()"
   ]
  },
  {
   "cell_type": "code",
   "execution_count": 84,
   "id": "c05ba9fe-1670-41ad-bf0c-7c2d851228de",
   "metadata": {},
   "outputs": [
    {
     "data": {
      "text/html": [
       "<div>\n",
       "<style scoped>\n",
       "    .dataframe tbody tr th:only-of-type {\n",
       "        vertical-align: middle;\n",
       "    }\n",
       "\n",
       "    .dataframe tbody tr th {\n",
       "        vertical-align: top;\n",
       "    }\n",
       "\n",
       "    .dataframe thead th {\n",
       "        text-align: right;\n",
       "    }\n",
       "</style>\n",
       "<table border=\"1\" class=\"dataframe\">\n",
       "  <thead>\n",
       "    <tr style=\"text-align: right;\">\n",
       "      <th></th>\n",
       "      <th>UserID</th>\n",
       "      <th>Count_JobID</th>\n",
       "    </tr>\n",
       "  </thead>\n",
       "  <tbody>\n",
       "    <tr>\n",
       "      <th>2663</th>\n",
       "      <td>1068676</td>\n",
       "      <td>8</td>\n",
       "    </tr>\n",
       "    <tr>\n",
       "      <th>609</th>\n",
       "      <td>239542</td>\n",
       "      <td>8</td>\n",
       "    </tr>\n",
       "    <tr>\n",
       "      <th>594</th>\n",
       "      <td>234125</td>\n",
       "      <td>8</td>\n",
       "    </tr>\n",
       "    <tr>\n",
       "      <th>1671</th>\n",
       "      <td>704657</td>\n",
       "      <td>8</td>\n",
       "    </tr>\n",
       "    <tr>\n",
       "      <th>3482</th>\n",
       "      <td>1385260</td>\n",
       "      <td>8</td>\n",
       "    </tr>\n",
       "    <tr>\n",
       "      <th>...</th>\n",
       "      <td>...</td>\n",
       "      <td>...</td>\n",
       "    </tr>\n",
       "    <tr>\n",
       "      <th>1769</th>\n",
       "      <td>739270</td>\n",
       "      <td>2</td>\n",
       "    </tr>\n",
       "    <tr>\n",
       "      <th>1767</th>\n",
       "      <td>738840</td>\n",
       "      <td>2</td>\n",
       "    </tr>\n",
       "    <tr>\n",
       "      <th>1766</th>\n",
       "      <td>738662</td>\n",
       "      <td>2</td>\n",
       "    </tr>\n",
       "    <tr>\n",
       "      <th>1763</th>\n",
       "      <td>736903</td>\n",
       "      <td>2</td>\n",
       "    </tr>\n",
       "    <tr>\n",
       "      <th>3715</th>\n",
       "      <td>1471988</td>\n",
       "      <td>2</td>\n",
       "    </tr>\n",
       "  </tbody>\n",
       "</table>\n",
       "<p>3716 rows × 2 columns</p>\n",
       "</div>"
      ],
      "text/plain": [
       "       UserID  Count_JobID\n",
       "2663  1068676            8\n",
       "609    239542            8\n",
       "594    234125            8\n",
       "1671   704657            8\n",
       "3482  1385260            8\n",
       "...       ...          ...\n",
       "1769   739270            2\n",
       "1767   738840            2\n",
       "1766   738662            2\n",
       "1763   736903            2\n",
       "3715  1471988            2\n",
       "\n",
       "[3716 rows x 2 columns]"
      ]
     },
     "execution_count": 84,
     "metadata": {},
     "output_type": "execute_result"
    }
   ],
   "source": [
    "summary_test_interaction.sort_values(by = 'Count_JobID', ascending=False)"
   ]
  },
  {
   "cell_type": "code",
   "execution_count": 85,
   "id": "1ed379b1-bbb5-4199-995b-585fef1ade27",
   "metadata": {},
   "outputs": [
    {
     "data": {
      "text/plain": [
       "2    1457\n",
       "4     955\n",
       "6     715\n",
       "8     589\n",
       "Name: Count_JobID, dtype: int64"
      ]
     },
     "execution_count": 85,
     "metadata": {},
     "output_type": "execute_result"
    }
   ],
   "source": [
    "summary_test_interaction['Count_JobID'].value_counts()"
   ]
  },
  {
   "cell_type": "code",
   "execution_count": 86,
   "id": "56b08f71-1038-4737-a3ad-c327578ef1e3",
   "metadata": {},
   "outputs": [],
   "source": [
    "summary_positive_test_interaction = actual_interaction_test[actual_interaction_test.label==1].groupby('UserID').agg(Count_JobID=('JobID', 'count')).reset_index()"
   ]
  },
  {
   "cell_type": "code",
   "execution_count": 87,
   "id": "098b7a74-3e5e-4afa-b44c-cd381de9cb2e",
   "metadata": {},
   "outputs": [
    {
     "data": {
      "text/html": [
       "<div>\n",
       "<style scoped>\n",
       "    .dataframe tbody tr th:only-of-type {\n",
       "        vertical-align: middle;\n",
       "    }\n",
       "\n",
       "    .dataframe tbody tr th {\n",
       "        vertical-align: top;\n",
       "    }\n",
       "\n",
       "    .dataframe thead th {\n",
       "        text-align: right;\n",
       "    }\n",
       "</style>\n",
       "<table border=\"1\" class=\"dataframe\">\n",
       "  <thead>\n",
       "    <tr style=\"text-align: right;\">\n",
       "      <th></th>\n",
       "      <th>UserID</th>\n",
       "      <th>Count_JobID</th>\n",
       "    </tr>\n",
       "  </thead>\n",
       "  <tbody>\n",
       "    <tr>\n",
       "      <th>2663</th>\n",
       "      <td>1068676</td>\n",
       "      <td>4</td>\n",
       "    </tr>\n",
       "    <tr>\n",
       "      <th>609</th>\n",
       "      <td>239542</td>\n",
       "      <td>4</td>\n",
       "    </tr>\n",
       "    <tr>\n",
       "      <th>594</th>\n",
       "      <td>234125</td>\n",
       "      <td>4</td>\n",
       "    </tr>\n",
       "    <tr>\n",
       "      <th>1671</th>\n",
       "      <td>704657</td>\n",
       "      <td>4</td>\n",
       "    </tr>\n",
       "    <tr>\n",
       "      <th>3482</th>\n",
       "      <td>1385260</td>\n",
       "      <td>4</td>\n",
       "    </tr>\n",
       "    <tr>\n",
       "      <th>...</th>\n",
       "      <td>...</td>\n",
       "      <td>...</td>\n",
       "    </tr>\n",
       "    <tr>\n",
       "      <th>1769</th>\n",
       "      <td>739270</td>\n",
       "      <td>1</td>\n",
       "    </tr>\n",
       "    <tr>\n",
       "      <th>1767</th>\n",
       "      <td>738840</td>\n",
       "      <td>1</td>\n",
       "    </tr>\n",
       "    <tr>\n",
       "      <th>1766</th>\n",
       "      <td>738662</td>\n",
       "      <td>1</td>\n",
       "    </tr>\n",
       "    <tr>\n",
       "      <th>1763</th>\n",
       "      <td>736903</td>\n",
       "      <td>1</td>\n",
       "    </tr>\n",
       "    <tr>\n",
       "      <th>3715</th>\n",
       "      <td>1471988</td>\n",
       "      <td>1</td>\n",
       "    </tr>\n",
       "  </tbody>\n",
       "</table>\n",
       "<p>3716 rows × 2 columns</p>\n",
       "</div>"
      ],
      "text/plain": [
       "       UserID  Count_JobID\n",
       "2663  1068676            4\n",
       "609    239542            4\n",
       "594    234125            4\n",
       "1671   704657            4\n",
       "3482  1385260            4\n",
       "...       ...          ...\n",
       "1769   739270            1\n",
       "1767   738840            1\n",
       "1766   738662            1\n",
       "1763   736903            1\n",
       "3715  1471988            1\n",
       "\n",
       "[3716 rows x 2 columns]"
      ]
     },
     "execution_count": 87,
     "metadata": {},
     "output_type": "execute_result"
    }
   ],
   "source": [
    "summary_positive_test_interaction.sort_values(by = 'Count_JobID', ascending=False)"
   ]
  },
  {
   "cell_type": "code",
   "execution_count": 88,
   "id": "7ed8630c-11d4-49ae-9591-460026386fe8",
   "metadata": {},
   "outputs": [
    {
     "data": {
      "text/plain": [
       "1    1457\n",
       "2     955\n",
       "3     715\n",
       "4     589\n",
       "Name: Count_JobID, dtype: int64"
      ]
     },
     "execution_count": 88,
     "metadata": {},
     "output_type": "execute_result"
    }
   ],
   "source": [
    "summary_positive_test_interaction['Count_JobID'].value_counts()"
   ]
  }
 ],
 "metadata": {
  "kernelspec": {
   "display_name": "Python 3 (ipykernel)",
   "language": "python",
   "name": "python3"
  },
  "language_info": {
   "codemirror_mode": {
    "name": "ipython",
    "version": 3
   },
   "file_extension": ".py",
   "mimetype": "text/x-python",
   "name": "python",
   "nbconvert_exporter": "python",
   "pygments_lexer": "ipython3",
   "version": "3.9.16"
  }
 },
 "nbformat": 4,
 "nbformat_minor": 5
}
