{
 "cells": [
  {
   "cell_type": "markdown",
   "id": "9c1f2377-8722-4575-9ffd-87c3b1b35eab",
   "metadata": {},
   "source": [
    "# CALCULATE HIT RATE - TopN Recommendation\n",
    "- Model: White-box and Black-box models trained on TF-IDF features\n",
    " (use vector for X_train, Y_train, X_test, Y_test)\n",
    "    - White-box: Logistic Regression (logreg), Decision Tree (dt), Gaussian Naive Bayes (nb)\n",
    "    - Black-box: XGBoost (xgbt), AdaBoost (ada), Linear Discriminant Analysis (lda), Quadratic Discriminant Analysis (qda)\n",
    "- Source of potential applications: random_ranking_data\n",
    "\n",
    "INPUT: Top 20 applications in dictionary form\n",
    "OUTPUT: \n",
    "- Top 20 results in dataframe for hit rate calculation\n",
    "- Hit_rate @ 5, 10, 20 of all recsys"
   ]
  },
  {
   "cell_type": "code",
   "execution_count": 1,
   "id": "eb473a5a-cd42-4006-bf6c-af1423dd71e9",
   "metadata": {},
   "outputs": [],
   "source": [
    "import numpy as np\n",
    "import pandas as pd"
   ]
  },
  {
   "cell_type": "code",
   "execution_count": 2,
   "id": "abdf83d6-59f2-44b9-b0e4-24c109f7c652",
   "metadata": {},
   "outputs": [],
   "source": [
    "import warnings\n",
    "warnings.filterwarnings('ignore')"
   ]
  },
  {
   "cell_type": "code",
   "execution_count": 3,
   "id": "57c8e4d0-3876-44a5-8359-0acbedf38cb4",
   "metadata": {},
   "outputs": [
    {
     "name": "stdout",
     "output_type": "stream",
     "text": [
      "Working directory: /home/jovyan/1_UT THESIS/CB12_MAIN/nb_recsys_tabular\n"
     ]
    }
   ],
   "source": [
    "# Run this for reproduce\n",
    "# Gets the current working directory\n",
    "import os\n",
    "cwd = os.getcwd()\n",
    "print(\"Working directory:\", cwd)\n",
    "# Go up one directory from working directory\n",
    "os.chdir(\"..\")"
   ]
  },
  {
   "cell_type": "code",
   "execution_count": 4,
   "id": "7ff37b86-cab0-407f-b216-1f68075fc850",
   "metadata": {},
   "outputs": [],
   "source": [
    "# Load evaluation data (by knn_tfidf)\n",
    "evaluation_data = pd.read_csv('./nb_recsys_tfidf_vector/evaluation_data_knn_tfidf.csv')"
   ]
  },
  {
   "cell_type": "code",
   "execution_count": 5,
   "id": "44d99819-b807-42de-ac59-ba70173c4b6d",
   "metadata": {},
   "outputs": [
    {
     "name": "stdout",
     "output_type": "stream",
     "text": [
      "<class 'pandas.core.frame.DataFrame'>\n",
      "RangeIndex: 371600 entries, 0 to 371599\n",
      "Data columns (total 6 columns):\n",
      " #   Column   Non-Null Count   Dtype  \n",
      "---  ------   --------------   -----  \n",
      " 0   UserID   371600 non-null  int64  \n",
      " 1   JobID    371600 non-null  int64  \n",
      " 2   label    371600 non-null  int64  \n",
      " 3   City     371600 non-null  float64\n",
      " 4   State    371600 non-null  float64\n",
      " 5   Country  371600 non-null  float64\n",
      "dtypes: float64(3), int64(3)\n",
      "memory usage: 17.0 MB\n"
     ]
    }
   ],
   "source": [
    "evaluation_data.info()"
   ]
  },
  {
   "cell_type": "code",
   "execution_count": 6,
   "id": "9cf5d2a6-7cd7-4921-95e4-9588e1623a3f",
   "metadata": {},
   "outputs": [
    {
     "data": {
      "text/plain": [
       "label\n",
       "0    371600\n",
       "Name: count, dtype: int64"
      ]
     },
     "execution_count": 6,
     "metadata": {},
     "output_type": "execute_result"
    }
   ],
   "source": [
    "evaluation_data.label.value_counts()"
   ]
  },
  {
   "cell_type": "code",
   "execution_count": 7,
   "id": "4bf047b1-f3d7-4ac5-85ee-3dfd41cb4edd",
   "metadata": {},
   "outputs": [
    {
     "data": {
      "text/plain": [
       "label\n",
       "0    367884\n",
       "1      3716\n",
       "Name: count, dtype: int64"
      ]
     },
     "execution_count": 7,
     "metadata": {},
     "output_type": "execute_result"
    }
   ],
   "source": [
    "# Load ranking_data_random\n",
    "ranking_data_random = pd.read_csv('./nb_recsys_tfidf_vector/ranking_data_random.csv')\n",
    "ranking_data_random.label.value_counts()"
   ]
  },
  {
   "cell_type": "code",
   "execution_count": 8,
   "id": "b3389bc1",
   "metadata": {},
   "outputs": [],
   "source": [
    "models = []\n",
    "benchmarks = []\n",
    "hits_5 = []\n",
    "hits_10 = []\n",
    "hits_20 = []"
   ]
  },
  {
   "cell_type": "code",
   "execution_count": 9,
   "id": "82b83149-65d7-4842-99eb-28718e4cdef1",
   "metadata": {},
   "outputs": [],
   "source": [
    "def get_hit_rate_at_k(recommendations, rankings, K):\n",
    "    total_users = len(recommendations['UserID'].unique())\n",
    "    hit_count = 0\n",
    "    # mark_stop = 0\n",
    "    for user_id in recommendations['UserID'].unique():\n",
    "        user_recommendations = recommendations[recommendations['UserID'] == user_id]['JobID'].tolist()[:K]\n",
    "        actual_job_ids = rankings[(rankings['UserID'] == user_id) & (rankings['label'] == 1)]['JobID'].tolist()\n",
    "\n",
    "        for rec_job_id in user_recommendations:\n",
    "            if rec_job_id in actual_job_ids:\n",
    "                # print('hit detail UserID, JobID: ', user_id, rec_job_id)\n",
    "                hit_count += 1\n",
    "                break     \n",
    "        # mark_stop =+1\n",
    "        # if mark_stop == 2:\n",
    "        #     break\n",
    "    print('final hit_count:', hit_count)\n",
    "    hit_rate = hit_count / total_users\n",
    "    return hit_rate"
   ]
  },
  {
   "cell_type": "markdown",
   "id": "1c0dd779-02f2-4a6a-af74-3cfd8c108f10",
   "metadata": {},
   "source": [
    "# Load topN recommendatin result"
   ]
  },
  {
   "cell_type": "code",
   "execution_count": 10,
   "id": "9a55e290-a210-4715-a24d-93ec17091ab2",
   "metadata": {},
   "outputs": [],
   "source": [
    "import pickle\n",
    "# Test loaded result\n",
    "with open('./output_ranking/baseline_topN_result.pickle', 'rb') as handle:\n",
    "    rec_result = pickle.load(handle)"
   ]
  },
  {
   "cell_type": "code",
   "execution_count": 11,
   "id": "87074df9-e2e3-40ad-9714-4cbdaedad64b",
   "metadata": {},
   "outputs": [
    {
     "data": {
      "text/plain": [
       "9"
      ]
     },
     "execution_count": 11,
     "metadata": {},
     "output_type": "execute_result"
    }
   ],
   "source": [
    "len(rec_result)"
   ]
  },
  {
   "cell_type": "code",
   "execution_count": 12,
   "id": "23d3226a-d035-4588-880a-63c412c53feb",
   "metadata": {},
   "outputs": [],
   "source": [
    "user_ids = list(ranking_data_random.groupby('UserID').UserID.unique().astype('int'))"
   ]
  },
  {
   "cell_type": "code",
   "execution_count": 13,
   "id": "0ad0828b-2af0-4bb9-9ef2-4383318fcb0f",
   "metadata": {},
   "outputs": [],
   "source": [
    "def get_rec_result_df(user_index, rec_result):\n",
    "    rec_20_df = pd.DataFrame(rec_result[user_index])\n",
    "    rec_cols = ['JobID', 'Y_prob', 'Y_pred']\n",
    "    rec_20_df.columns = rec_cols\n",
    "    rec_20_df['UserID'] = user_ids[user_index]\n",
    "    rec_20_df['rank'] = rec_20_df.groupby('UserID').cumcount()\n",
    "    return rec_20_df"
   ]
  },
  {
   "cell_type": "markdown",
   "id": "216ce01f-fe97-4236-9706-12c4fce30adb",
   "metadata": {
    "tags": []
   },
   "source": [
    "# Calculate hit rate using benchmark data: random ranking data"
   ]
  },
  {
   "cell_type": "code",
   "execution_count": 14,
   "id": "dfb1830e-e04f-49ea-b89e-3abf4b614517",
   "metadata": {},
   "outputs": [],
   "source": [
    "benchmark = 'ranking_data_random'"
   ]
  },
  {
   "cell_type": "markdown",
   "id": "2a44d055-8d67-412e-9b75-e55aa86e48e5",
   "metadata": {},
   "source": [
    "## Model: logreg"
   ]
  },
  {
   "cell_type": "code",
   "execution_count": 15,
   "id": "9dfd4880-4299-407b-a014-60c997ff67f6",
   "metadata": {},
   "outputs": [],
   "source": [
    "model = 'logreg'\n",
    "rec20_logreg = rec_result[model]"
   ]
  },
  {
   "cell_type": "code",
   "execution_count": 16,
   "id": "cf17a6ab-77a6-4c1c-bf1a-016a619b8241",
   "metadata": {},
   "outputs": [
    {
     "data": {
      "text/html": [
       "<div>\n",
       "<style scoped>\n",
       "    .dataframe tbody tr th:only-of-type {\n",
       "        vertical-align: middle;\n",
       "    }\n",
       "\n",
       "    .dataframe tbody tr th {\n",
       "        vertical-align: top;\n",
       "    }\n",
       "\n",
       "    .dataframe thead th {\n",
       "        text-align: right;\n",
       "    }\n",
       "</style>\n",
       "<table border=\"1\" class=\"dataframe\">\n",
       "  <thead>\n",
       "    <tr style=\"text-align: right;\">\n",
       "      <th></th>\n",
       "      <th>JobID</th>\n",
       "      <th>Y_prob</th>\n",
       "      <th>Y_pred</th>\n",
       "      <th>UserID</th>\n",
       "      <th>rank</th>\n",
       "    </tr>\n",
       "  </thead>\n",
       "  <tbody>\n",
       "    <tr>\n",
       "      <th>0</th>\n",
       "      <td>821691</td>\n",
       "      <td>0.946082</td>\n",
       "      <td>1</td>\n",
       "      <td>13</td>\n",
       "      <td>0</td>\n",
       "    </tr>\n",
       "    <tr>\n",
       "      <th>1</th>\n",
       "      <td>129969</td>\n",
       "      <td>0.538867</td>\n",
       "      <td>1</td>\n",
       "      <td>13</td>\n",
       "      <td>1</td>\n",
       "    </tr>\n",
       "    <tr>\n",
       "      <th>2</th>\n",
       "      <td>860580</td>\n",
       "      <td>0.537347</td>\n",
       "      <td>1</td>\n",
       "      <td>13</td>\n",
       "      <td>2</td>\n",
       "    </tr>\n",
       "    <tr>\n",
       "      <th>3</th>\n",
       "      <td>145443</td>\n",
       "      <td>0.530015</td>\n",
       "      <td>1</td>\n",
       "      <td>13</td>\n",
       "      <td>3</td>\n",
       "    </tr>\n",
       "    <tr>\n",
       "      <th>4</th>\n",
       "      <td>1092282</td>\n",
       "      <td>0.522887</td>\n",
       "      <td>1</td>\n",
       "      <td>13</td>\n",
       "      <td>4</td>\n",
       "    </tr>\n",
       "    <tr>\n",
       "      <th>5</th>\n",
       "      <td>208055</td>\n",
       "      <td>0.522163</td>\n",
       "      <td>1</td>\n",
       "      <td>13</td>\n",
       "      <td>5</td>\n",
       "    </tr>\n",
       "    <tr>\n",
       "      <th>6</th>\n",
       "      <td>701157</td>\n",
       "      <td>0.517683</td>\n",
       "      <td>1</td>\n",
       "      <td>13</td>\n",
       "      <td>6</td>\n",
       "    </tr>\n",
       "    <tr>\n",
       "      <th>7</th>\n",
       "      <td>234659</td>\n",
       "      <td>0.509240</td>\n",
       "      <td>1</td>\n",
       "      <td>13</td>\n",
       "      <td>7</td>\n",
       "    </tr>\n",
       "    <tr>\n",
       "      <th>8</th>\n",
       "      <td>589357</td>\n",
       "      <td>0.503029</td>\n",
       "      <td>1</td>\n",
       "      <td>13</td>\n",
       "      <td>8</td>\n",
       "    </tr>\n",
       "    <tr>\n",
       "      <th>9</th>\n",
       "      <td>448819</td>\n",
       "      <td>0.499829</td>\n",
       "      <td>0</td>\n",
       "      <td>13</td>\n",
       "      <td>9</td>\n",
       "    </tr>\n",
       "    <tr>\n",
       "      <th>10</th>\n",
       "      <td>181759</td>\n",
       "      <td>0.499092</td>\n",
       "      <td>0</td>\n",
       "      <td>13</td>\n",
       "      <td>10</td>\n",
       "    </tr>\n",
       "    <tr>\n",
       "      <th>11</th>\n",
       "      <td>482235</td>\n",
       "      <td>0.496769</td>\n",
       "      <td>0</td>\n",
       "      <td>13</td>\n",
       "      <td>11</td>\n",
       "    </tr>\n",
       "    <tr>\n",
       "      <th>12</th>\n",
       "      <td>1094005</td>\n",
       "      <td>0.490552</td>\n",
       "      <td>0</td>\n",
       "      <td>13</td>\n",
       "      <td>12</td>\n",
       "    </tr>\n",
       "    <tr>\n",
       "      <th>13</th>\n",
       "      <td>70771</td>\n",
       "      <td>0.490141</td>\n",
       "      <td>0</td>\n",
       "      <td>13</td>\n",
       "      <td>13</td>\n",
       "    </tr>\n",
       "    <tr>\n",
       "      <th>14</th>\n",
       "      <td>598128</td>\n",
       "      <td>0.484580</td>\n",
       "      <td>0</td>\n",
       "      <td>13</td>\n",
       "      <td>14</td>\n",
       "    </tr>\n",
       "    <tr>\n",
       "      <th>15</th>\n",
       "      <td>830711</td>\n",
       "      <td>0.483482</td>\n",
       "      <td>0</td>\n",
       "      <td>13</td>\n",
       "      <td>15</td>\n",
       "    </tr>\n",
       "    <tr>\n",
       "      <th>16</th>\n",
       "      <td>785527</td>\n",
       "      <td>0.482659</td>\n",
       "      <td>0</td>\n",
       "      <td>13</td>\n",
       "      <td>16</td>\n",
       "    </tr>\n",
       "    <tr>\n",
       "      <th>17</th>\n",
       "      <td>85439</td>\n",
       "      <td>0.481178</td>\n",
       "      <td>0</td>\n",
       "      <td>13</td>\n",
       "      <td>17</td>\n",
       "    </tr>\n",
       "    <tr>\n",
       "      <th>18</th>\n",
       "      <td>1041876</td>\n",
       "      <td>0.480667</td>\n",
       "      <td>0</td>\n",
       "      <td>13</td>\n",
       "      <td>18</td>\n",
       "    </tr>\n",
       "    <tr>\n",
       "      <th>19</th>\n",
       "      <td>949413</td>\n",
       "      <td>0.480302</td>\n",
       "      <td>0</td>\n",
       "      <td>13</td>\n",
       "      <td>19</td>\n",
       "    </tr>\n",
       "  </tbody>\n",
       "</table>\n",
       "</div>"
      ],
      "text/plain": [
       "      JobID    Y_prob  Y_pred  UserID  rank\n",
       "0    821691  0.946082       1      13     0\n",
       "1    129969  0.538867       1      13     1\n",
       "2    860580  0.537347       1      13     2\n",
       "3    145443  0.530015       1      13     3\n",
       "4   1092282  0.522887       1      13     4\n",
       "5    208055  0.522163       1      13     5\n",
       "6    701157  0.517683       1      13     6\n",
       "7    234659  0.509240       1      13     7\n",
       "8    589357  0.503029       1      13     8\n",
       "9    448819  0.499829       0      13     9\n",
       "10   181759  0.499092       0      13    10\n",
       "11   482235  0.496769       0      13    11\n",
       "12  1094005  0.490552       0      13    12\n",
       "13    70771  0.490141       0      13    13\n",
       "14   598128  0.484580       0      13    14\n",
       "15   830711  0.483482       0      13    15\n",
       "16   785527  0.482659       0      13    16\n",
       "17    85439  0.481178       0      13    17\n",
       "18  1041876  0.480667       0      13    18\n",
       "19   949413  0.480302       0      13    19"
      ]
     },
     "execution_count": 16,
     "metadata": {},
     "output_type": "execute_result"
    }
   ],
   "source": [
    "get_rec_result_df(0, rec20_logreg)"
   ]
  },
  {
   "cell_type": "code",
   "execution_count": 17,
   "id": "2c1dab41-e95d-43b2-bc80-de6f86651b4e",
   "metadata": {},
   "outputs": [],
   "source": [
    "final_rec_result = pd.DataFrame(columns = ['JobID', 'Y_prob', 'Y_pred','UserID','rank'])\n",
    "\n",
    "for user_index in range(len(user_ids)):\n",
    "    \n",
    "    temp_df = get_rec_result_df(user_index = user_index, \n",
    "                                rec_result=rec20_logreg)\n",
    "    # print(u_id, len(temp_df))\n",
    "    final_rec_result = pd.concat([final_rec_result, temp_df])\n",
    "\n",
    "final_rec_result = final_rec_result[['UserID','JobID', 'Y_prob', 'Y_pred', 'rank']]"
   ]
  },
  {
   "cell_type": "code",
   "execution_count": 18,
   "id": "75f69828-2fad-4b17-a892-13e4bff1ba4a",
   "metadata": {},
   "outputs": [],
   "source": [
    "logreg_recommendations = final_rec_result.copy()"
   ]
  },
  {
   "cell_type": "code",
   "execution_count": 19,
   "id": "05b8178d-e329-4c05-9e19-1ba149409df7",
   "metadata": {},
   "outputs": [
    {
     "data": {
      "text/html": [
       "<div>\n",
       "<style scoped>\n",
       "    .dataframe tbody tr th:only-of-type {\n",
       "        vertical-align: middle;\n",
       "    }\n",
       "\n",
       "    .dataframe tbody tr th {\n",
       "        vertical-align: top;\n",
       "    }\n",
       "\n",
       "    .dataframe thead th {\n",
       "        text-align: right;\n",
       "    }\n",
       "</style>\n",
       "<table border=\"1\" class=\"dataframe\">\n",
       "  <thead>\n",
       "    <tr style=\"text-align: right;\">\n",
       "      <th></th>\n",
       "      <th>UserID</th>\n",
       "      <th>JobID</th>\n",
       "      <th>Y_prob</th>\n",
       "      <th>Y_pred</th>\n",
       "      <th>rank</th>\n",
       "    </tr>\n",
       "  </thead>\n",
       "  <tbody>\n",
       "    <tr>\n",
       "      <th>0</th>\n",
       "      <td>13</td>\n",
       "      <td>821691</td>\n",
       "      <td>0.946082</td>\n",
       "      <td>1</td>\n",
       "      <td>0</td>\n",
       "    </tr>\n",
       "    <tr>\n",
       "      <th>1</th>\n",
       "      <td>13</td>\n",
       "      <td>129969</td>\n",
       "      <td>0.538867</td>\n",
       "      <td>1</td>\n",
       "      <td>1</td>\n",
       "    </tr>\n",
       "    <tr>\n",
       "      <th>2</th>\n",
       "      <td>13</td>\n",
       "      <td>860580</td>\n",
       "      <td>0.537347</td>\n",
       "      <td>1</td>\n",
       "      <td>2</td>\n",
       "    </tr>\n",
       "    <tr>\n",
       "      <th>3</th>\n",
       "      <td>13</td>\n",
       "      <td>145443</td>\n",
       "      <td>0.530015</td>\n",
       "      <td>1</td>\n",
       "      <td>3</td>\n",
       "    </tr>\n",
       "    <tr>\n",
       "      <th>4</th>\n",
       "      <td>13</td>\n",
       "      <td>1092282</td>\n",
       "      <td>0.522887</td>\n",
       "      <td>1</td>\n",
       "      <td>4</td>\n",
       "    </tr>\n",
       "    <tr>\n",
       "      <th>...</th>\n",
       "      <td>...</td>\n",
       "      <td>...</td>\n",
       "      <td>...</td>\n",
       "      <td>...</td>\n",
       "      <td>...</td>\n",
       "    </tr>\n",
       "    <tr>\n",
       "      <th>15</th>\n",
       "      <td>1471988</td>\n",
       "      <td>858776</td>\n",
       "      <td>0.456862</td>\n",
       "      <td>0</td>\n",
       "      <td>15</td>\n",
       "    </tr>\n",
       "    <tr>\n",
       "      <th>16</th>\n",
       "      <td>1471988</td>\n",
       "      <td>51720</td>\n",
       "      <td>0.456746</td>\n",
       "      <td>0</td>\n",
       "      <td>16</td>\n",
       "    </tr>\n",
       "    <tr>\n",
       "      <th>17</th>\n",
       "      <td>1471988</td>\n",
       "      <td>805692</td>\n",
       "      <td>0.456715</td>\n",
       "      <td>0</td>\n",
       "      <td>17</td>\n",
       "    </tr>\n",
       "    <tr>\n",
       "      <th>18</th>\n",
       "      <td>1471988</td>\n",
       "      <td>919721</td>\n",
       "      <td>0.456324</td>\n",
       "      <td>0</td>\n",
       "      <td>18</td>\n",
       "    </tr>\n",
       "    <tr>\n",
       "      <th>19</th>\n",
       "      <td>1471988</td>\n",
       "      <td>76971</td>\n",
       "      <td>0.453278</td>\n",
       "      <td>0</td>\n",
       "      <td>19</td>\n",
       "    </tr>\n",
       "  </tbody>\n",
       "</table>\n",
       "<p>74320 rows × 5 columns</p>\n",
       "</div>"
      ],
      "text/plain": [
       "     UserID    JobID    Y_prob Y_pred rank\n",
       "0        13   821691  0.946082      1    0\n",
       "1        13   129969  0.538867      1    1\n",
       "2        13   860580  0.537347      1    2\n",
       "3        13   145443  0.530015      1    3\n",
       "4        13  1092282  0.522887      1    4\n",
       "..      ...      ...       ...    ...  ...\n",
       "15  1471988   858776  0.456862      0   15\n",
       "16  1471988    51720  0.456746      0   16\n",
       "17  1471988   805692  0.456715      0   17\n",
       "18  1471988   919721  0.456324      0   18\n",
       "19  1471988    76971  0.453278      0   19\n",
       "\n",
       "[74320 rows x 5 columns]"
      ]
     },
     "execution_count": 19,
     "metadata": {},
     "output_type": "execute_result"
    }
   ],
   "source": [
    "logreg_recommendations"
   ]
  },
  {
   "cell_type": "markdown",
   "id": "bfaba9cc-04bb-440b-8eb8-d2d5e2c15d54",
   "metadata": {},
   "source": [
    "## Model: 'dt'"
   ]
  },
  {
   "cell_type": "code",
   "execution_count": 22,
   "id": "abc421d0-d0ff-48a5-93a6-a0bc43451feb",
   "metadata": {},
   "outputs": [],
   "source": [
    "model = 'dt'\n",
    "rec20_dt = rec_result[model]"
   ]
  },
  {
   "cell_type": "code",
   "execution_count": 23,
   "id": "449eb1a6-088b-42bf-93fd-36fa6d910114",
   "metadata": {},
   "outputs": [],
   "source": [
    "final_rec_result = pd.DataFrame(columns = ['JobID', 'Y_prob', 'Y_pred','UserID','rank'])\n",
    "\n",
    "for user_index in range(len(user_ids)):\n",
    "    \n",
    "    temp_df = get_rec_result_df(user_index = user_index, \n",
    "                                rec_result=rec20_dt)\n",
    "    # print(u_id, len(temp_df))\n",
    "    final_rec_result = pd.concat([final_rec_result, temp_df])\n",
    "\n",
    "final_rec_result = final_rec_result[['UserID','JobID', 'Y_prob', 'Y_pred', 'rank']]"
   ]
  },
  {
   "cell_type": "code",
   "execution_count": 24,
   "id": "da1ff873-d4b9-4051-9675-cf94efdf591d",
   "metadata": {},
   "outputs": [],
   "source": [
    "dt_recommendations = final_rec_result.copy()"
   ]
  },
  {
   "cell_type": "markdown",
   "id": "145cbf2f-7903-4ebb-90c0-afa3a74ddf28",
   "metadata": {},
   "source": [
    "## Model: XGBoost"
   ]
  },
  {
   "cell_type": "code",
   "execution_count": 27,
   "id": "8e21bb34-041d-4b74-b9dd-e1fe6e3059aa",
   "metadata": {},
   "outputs": [],
   "source": [
    "model = 'xgbt'\n",
    "rec20_xgbt = rec_result[model]"
   ]
  },
  {
   "cell_type": "code",
   "execution_count": 28,
   "id": "61629d3d-efc1-4ada-bda9-3e475356c0da",
   "metadata": {},
   "outputs": [],
   "source": [
    "final_rec_result = pd.DataFrame(columns = ['JobID', 'Y_prob', 'Y_pred','UserID','rank'])\n",
    "\n",
    "for user_index in range(len(user_ids)):\n",
    "    \n",
    "    temp_df = get_rec_result_df(user_index = user_index, \n",
    "                                rec_result=rec20_xgbt)\n",
    "    # print(u_id, len(temp_df))\n",
    "    final_rec_result = pd.concat([final_rec_result, temp_df])\n",
    "\n",
    "final_rec_result = final_rec_result[['UserID','JobID', 'Y_prob', 'Y_pred', 'rank']]"
   ]
  },
  {
   "cell_type": "code",
   "execution_count": 29,
   "id": "0b14976e-484d-40b7-9400-4c6c757ac77a",
   "metadata": {},
   "outputs": [],
   "source": [
    "xgbt_recommendations = final_rec_result.copy()"
   ]
  },
  {
   "cell_type": "markdown",
   "id": "6f59e629-9e73-46ef-9372-ccd61c604dbe",
   "metadata": {},
   "source": [
    "## Model: Naive Bayes"
   ]
  },
  {
   "cell_type": "code",
   "execution_count": 32,
   "id": "f0bd9ce3-194a-4b8b-901e-7488f015eadf",
   "metadata": {},
   "outputs": [],
   "source": [
    "model = 'nb'\n",
    "rec20_nb = rec_result[model]"
   ]
  },
  {
   "cell_type": "code",
   "execution_count": 33,
   "id": "3d737cc2-41b2-46cb-ab1b-77c42db404ce",
   "metadata": {},
   "outputs": [],
   "source": [
    "final_rec_result = pd.DataFrame(columns = ['JobID', 'Y_prob', 'Y_pred','UserID','rank'])\n",
    "\n",
    "for user_index in range(len(user_ids)):\n",
    "    \n",
    "    temp_df = get_rec_result_df(user_index = user_index, \n",
    "                                rec_result=rec20_nb)\n",
    "    # print(u_id, len(temp_df))\n",
    "    final_rec_result = pd.concat([final_rec_result, temp_df])\n",
    "\n",
    "final_rec_result = final_rec_result[['UserID','JobID', 'Y_prob', 'Y_pred', 'rank']]"
   ]
  },
  {
   "cell_type": "code",
   "execution_count": 34,
   "id": "da6926d3-05ed-495f-891e-12e7793c4072",
   "metadata": {},
   "outputs": [],
   "source": [
    "nb_recommendations = final_rec_result.copy()"
   ]
  },
  {
   "cell_type": "markdown",
   "id": "28b1e3e5-4274-4d1f-ae88-325c64d31d89",
   "metadata": {},
   "source": [
    "## Model: AdaBoost"
   ]
  },
  {
   "cell_type": "code",
   "execution_count": 37,
   "id": "e6a4c34d-49e7-48c6-9867-22a129f6f675",
   "metadata": {},
   "outputs": [],
   "source": [
    "model = 'ada'\n",
    "rec20_ada = rec_result[model]"
   ]
  },
  {
   "cell_type": "code",
   "execution_count": 38,
   "id": "1aaddd96-3a22-447f-ace8-18db8ca7b2e8",
   "metadata": {},
   "outputs": [],
   "source": [
    "final_rec_result = pd.DataFrame(columns = ['JobID', 'Y_prob', 'Y_pred','UserID','rank'])\n",
    "\n",
    "for user_index in range(len(user_ids)):\n",
    "    \n",
    "    temp_df = get_rec_result_df(user_index = user_index, \n",
    "                                rec_result=rec20_ada)\n",
    "    # print(u_id, len(temp_df))\n",
    "    final_rec_result = pd.concat([final_rec_result, temp_df])\n",
    "\n",
    "final_rec_result = final_rec_result[['UserID','JobID', 'Y_prob', 'Y_pred', 'rank']]"
   ]
  },
  {
   "cell_type": "code",
   "execution_count": 39,
   "id": "6c3e6e65-6587-4cc2-93d4-5ea4f58be32e",
   "metadata": {},
   "outputs": [],
   "source": [
    "ada_recommendations = final_rec_result.copy()"
   ]
  },
  {
   "cell_type": "markdown",
   "id": "d2d16182-8633-421d-97e3-919f0c5e2d54",
   "metadata": {},
   "source": [
    "## Model: lda"
   ]
  },
  {
   "cell_type": "code",
   "execution_count": 42,
   "id": "4e81c940-8eb3-4661-be44-25b89e0bf76d",
   "metadata": {},
   "outputs": [],
   "source": [
    "model = 'lda'\n",
    "rec20_lda = rec_result[model]"
   ]
  },
  {
   "cell_type": "code",
   "execution_count": 43,
   "id": "4a440298-c0c3-4621-a972-fc139691b8ce",
   "metadata": {},
   "outputs": [],
   "source": [
    "final_rec_result = pd.DataFrame(columns = ['JobID', 'Y_prob', 'Y_pred','UserID','rank'])\n",
    "\n",
    "for user_index in range(len(user_ids)):\n",
    "    \n",
    "    temp_df = get_rec_result_df(user_index = user_index, \n",
    "                                rec_result=rec20_lda)\n",
    "    # print(u_id, len(temp_df))\n",
    "    final_rec_result = pd.concat([final_rec_result, temp_df])\n",
    "\n",
    "final_rec_result = final_rec_result[['UserID','JobID', 'Y_prob', 'Y_pred', 'rank']]"
   ]
  },
  {
   "cell_type": "code",
   "execution_count": 44,
   "id": "725730bc-7c82-4c75-bca3-67cf3708c6de",
   "metadata": {},
   "outputs": [],
   "source": [
    "lda_recommendations = final_rec_result.copy()"
   ]
  },
  {
   "cell_type": "markdown",
   "id": "2859155e-b7ea-4337-a73a-73dfc24a6d22",
   "metadata": {},
   "source": [
    "## Model: qda"
   ]
  },
  {
   "cell_type": "code",
   "execution_count": 47,
   "id": "58174c2b-1579-46f8-ae03-c1a6f683f59b",
   "metadata": {},
   "outputs": [],
   "source": [
    "model = 'qda'\n",
    "rec20_qda = rec_result[model]"
   ]
  },
  {
   "cell_type": "code",
   "execution_count": 48,
   "id": "63d4a17d-b75c-44d7-95a0-6bf2db1a653d",
   "metadata": {},
   "outputs": [],
   "source": [
    "final_rec_result = pd.DataFrame(columns = ['JobID', 'Y_prob', 'Y_pred','UserID','rank'])\n",
    "\n",
    "for user_index in range(len(user_ids)):\n",
    "    \n",
    "    temp_df = get_rec_result_df(user_index = user_index, \n",
    "                                rec_result=rec20_qda)\n",
    "    # print(u_id, len(temp_df))\n",
    "    final_rec_result = pd.concat([final_rec_result, temp_df])\n",
    "\n",
    "final_rec_result = final_rec_result[['UserID','JobID', 'Y_prob', 'Y_pred', 'rank']]"
   ]
  },
  {
   "cell_type": "code",
   "execution_count": 49,
   "id": "e9d31837-cd0e-4cce-9460-d32840a003d8",
   "metadata": {},
   "outputs": [],
   "source": [
    "qda_recommendations = final_rec_result.copy()"
   ]
  },
  {
   "cell_type": "code",
   "execution_count": 52,
   "id": "b13f7dc4",
   "metadata": {},
   "outputs": [],
   "source": [
    "benchmark = 'evaluation_knn_tidif'"
   ]
  },
  {
   "cell_type": "markdown",
   "id": "71440fa7-4939-401b-b2fd-c492ad298cf6",
   "metadata": {
    "tags": []
   },
   "source": [
    "## Model: logreg"
   ]
  },
  {
   "cell_type": "code",
   "execution_count": 53,
   "id": "03f34dc1-2aee-4e90-a8c3-4b565a1b2989",
   "metadata": {},
   "outputs": [],
   "source": [
    "model = 'logreg'"
   ]
  },
  {
   "cell_type": "code",
   "execution_count": 54,
   "id": "ac89728b-eecc-43ce-8aca-d2ec9790a763",
   "metadata": {},
   "outputs": [
    {
     "name": "stdout",
     "output_type": "stream",
     "text": [
      "final hit_count: 0\n",
      "Model: logreg - Hit rate at 5: 0.0\n",
      "final hit_count: 0\n",
      "Model: logreg - Hit rate at 10: 0.0\n",
      "final hit_count: 0\n",
      "Model: logreg - Hit rate at 20: 0.0\n",
      "CPU times: user 1min 12s, sys: 19.5 ms, total: 1min 12s\n",
      "Wall time: 1min 12s\n"
     ]
    }
   ],
   "source": [
    "%%time\n",
    "# Calculate hit rate at K (precision at K)\n",
    "k = 5  # Set the desired value of K\n",
    "hit_5 = get_hit_rate_at_k(recommendations = logreg_recommendations, \n",
    "                                   rankings = evaluation_data, \n",
    "                                   K=k)\n",
    "print(f\"Model: {model} - Hit rate at {k}: {hit_5}\")\n",
    "\n",
    "k = 10  # Set the desired value of K\n",
    "hit_10 = get_hit_rate_at_k(recommendations = logreg_recommendations, \n",
    "                                   rankings = evaluation_data, \n",
    "                                   K=k)\n",
    "print(f\"Model: {model} - Hit rate at {k}: {hit_10}\")\n",
    "\n",
    "k = 20  # Set the desired value of K\n",
    "hit_20 = get_hit_rate_at_k(recommendations = logreg_recommendations, \n",
    "                                   rankings = evaluation_data, \n",
    "                                   K=k)\n",
    "print(f\"Model: {model} - Hit rate at {k}: {hit_20}\")"
   ]
  },
  {
   "cell_type": "code",
   "execution_count": 55,
   "id": "a2847fb1",
   "metadata": {},
   "outputs": [],
   "source": [
    "models.append(model)\n",
    "benchmarks.append(benchmark)\n",
    "hits_5.append(hit_5)\n",
    "hits_10.append(hit_10)\n",
    "hits_20.append(hit_20)"
   ]
  },
  {
   "cell_type": "markdown",
   "id": "8cb01f64-927a-4344-9a56-623477a394d7",
   "metadata": {},
   "source": [
    "## Model: dt"
   ]
  },
  {
   "cell_type": "code",
   "execution_count": 56,
   "id": "b7106ba7-f5ed-4b98-84cc-933b000ba747",
   "metadata": {},
   "outputs": [],
   "source": [
    "model = 'dt'"
   ]
  },
  {
   "cell_type": "code",
   "execution_count": 57,
   "id": "5105c184-5e21-4500-ad0c-3dbbc2c9cf17",
   "metadata": {},
   "outputs": [
    {
     "name": "stdout",
     "output_type": "stream",
     "text": [
      "final hit_count: 0\n",
      "Model: dt - Hit rate at 5: 0.0\n",
      "final hit_count: 0\n",
      "Model: dt - Hit rate at 10: 0.0\n",
      "final hit_count: 0\n",
      "Model: dt - Hit rate at 20: 0.0\n",
      "CPU times: user 1min 11s, sys: 23.7 ms, total: 1min 11s\n",
      "Wall time: 1min 11s\n"
     ]
    }
   ],
   "source": [
    "%%time\n",
    "# Calculate hit rate at K (precision at K)\n",
    "k = 5  # Set the desired value of K\n",
    "hit_5 = get_hit_rate_at_k(recommendations = dt_recommendations, \n",
    "                                   rankings = evaluation_data, \n",
    "                                   K=k)\n",
    "print(f\"Model: {model} - Hit rate at {k}: {hit_5}\")\n",
    "\n",
    "k = 10  # Set the desired value of K\n",
    "hit_10 = get_hit_rate_at_k(recommendations = dt_recommendations, \n",
    "                                   rankings = evaluation_data, \n",
    "                                   K=k)\n",
    "print(f\"Model: {model} - Hit rate at {k}: {hit_10}\")\n",
    "\n",
    "k = 20  # Set the desired value of K\n",
    "hit_20 = get_hit_rate_at_k(recommendations = dt_recommendations, \n",
    "                                   rankings = evaluation_data, \n",
    "                                   K=k)\n",
    "print(f\"Model: {model} - Hit rate at {k}: {hit_20}\")"
   ]
  },
  {
   "cell_type": "code",
   "execution_count": 58,
   "id": "f49f3c87",
   "metadata": {},
   "outputs": [],
   "source": [
    "models.append(model)\n",
    "benchmarks.append(benchmark)\n",
    "hits_5.append(hit_5)\n",
    "hits_10.append(hit_10)\n",
    "hits_20.append(hit_20)"
   ]
  },
  {
   "cell_type": "markdown",
   "id": "fdecde2d",
   "metadata": {},
   "source": [
    "## Model: XGBoost (xgbt)"
   ]
  },
  {
   "cell_type": "code",
   "execution_count": 59,
   "id": "e7cda939-9c2b-48b0-a3dd-ed0b8fa220b3",
   "metadata": {},
   "outputs": [
    {
     "name": "stdout",
     "output_type": "stream",
     "text": [
      "final hit_count: 0\n",
      "Model: xgbt - Hit rate at 5: 0.0\n",
      "final hit_count: 0\n",
      "Model: xgbt - Hit rate at 10: 0.0\n",
      "final hit_count: 0\n",
      "Model: xgbt - Hit rate at 20: 0.0\n",
      "CPU times: user 1min 10s, sys: 19.8 ms, total: 1min 10s\n",
      "Wall time: 1min 10s\n"
     ]
    }
   ],
   "source": [
    "%%time\n",
    "model = 'xgbt'\n",
    "# Calculate hit rate at K (precision at K)\n",
    "k = 5  # Set the desired value of K\n",
    "hit_5 = get_hit_rate_at_k(recommendations = xgbt_recommendations, \n",
    "                                   rankings = evaluation_data, \n",
    "                                   K=k)\n",
    "print(f\"Model: {model} - Hit rate at {k}: {hit_5}\")\n",
    "\n",
    "k = 10  # Set the desired value of K\n",
    "hit_10 = get_hit_rate_at_k(recommendations = xgbt_recommendations, \n",
    "                                   rankings = evaluation_data, \n",
    "                                   K=k)\n",
    "print(f\"Model: {model} - Hit rate at {k}: {hit_10}\")\n",
    "\n",
    "k = 20  # Set the desired value of K\n",
    "hit_20 = get_hit_rate_at_k(recommendations = xgbt_recommendations, \n",
    "                                   rankings = evaluation_data, \n",
    "                                   K=k)\n",
    "print(f\"Model: {model} - Hit rate at {k}: {hit_20}\")"
   ]
  },
  {
   "cell_type": "code",
   "execution_count": 60,
   "id": "33a0294b",
   "metadata": {},
   "outputs": [],
   "source": [
    "models.append(model)\n",
    "benchmarks.append(benchmark)\n",
    "hits_5.append(hit_5)\n",
    "hits_10.append(hit_10)\n",
    "hits_20.append(hit_20)"
   ]
  },
  {
   "cell_type": "markdown",
   "id": "1ac6a9a8",
   "metadata": {},
   "source": [
    "## Model: Naive Bayes"
   ]
  },
  {
   "cell_type": "code",
   "execution_count": 61,
   "id": "208c0eb5",
   "metadata": {},
   "outputs": [
    {
     "name": "stdout",
     "output_type": "stream",
     "text": [
      "final hit_count: 0\n",
      "Model: nb - Hit rate at 5: 0.0\n",
      "final hit_count: 0\n",
      "Model: nb - Hit rate at 10: 0.0\n",
      "final hit_count: 0\n",
      "Model: nb - Hit rate at 20: 0.0\n",
      "CPU times: user 1min 12s, sys: 15.7 ms, total: 1min 12s\n",
      "Wall time: 1min 12s\n"
     ]
    }
   ],
   "source": [
    "%%time\n",
    "model = 'nb'\n",
    "# Calculate hit rate at K (precision at K)\n",
    "k = 5  # Set the desired value of K\n",
    "hit_5 = get_hit_rate_at_k(recommendations = nb_recommendations, \n",
    "                                   rankings = evaluation_data, \n",
    "                                   K=k)\n",
    "print(f\"Model: {model} - Hit rate at {k}: {hit_5}\")\n",
    "\n",
    "k = 10  # Set the desired value of K\n",
    "hit_10 = get_hit_rate_at_k(recommendations = nb_recommendations, \n",
    "                                   rankings = evaluation_data, \n",
    "                                   K=k)\n",
    "print(f\"Model: {model} - Hit rate at {k}: {hit_10}\")\n",
    "\n",
    "k = 20  # Set the desired value of K\n",
    "hit_20 = get_hit_rate_at_k(recommendations = nb_recommendations, \n",
    "                                   rankings = evaluation_data, \n",
    "                                   K=k)\n",
    "print(f\"Model: {model} - Hit rate at {k}: {hit_20}\")"
   ]
  },
  {
   "cell_type": "code",
   "execution_count": 62,
   "id": "b8047595",
   "metadata": {},
   "outputs": [],
   "source": [
    "models.append(model)\n",
    "benchmarks.append(benchmark)\n",
    "hits_5.append(hit_5)\n",
    "hits_10.append(hit_10)\n",
    "hits_20.append(hit_20)"
   ]
  },
  {
   "cell_type": "markdown",
   "id": "d3c95768",
   "metadata": {},
   "source": [
    "## Model: AdaBoost"
   ]
  },
  {
   "cell_type": "code",
   "execution_count": 63,
   "id": "01bab972",
   "metadata": {},
   "outputs": [
    {
     "name": "stdout",
     "output_type": "stream",
     "text": [
      "final hit_count: 0\n",
      "Model: ada - Hit rate at 5: 0.0\n",
      "final hit_count: 0\n",
      "Model: ada - Hit rate at 10: 0.0\n",
      "final hit_count: 0\n",
      "Model: ada - Hit rate at 20: 0.0\n",
      "CPU times: user 1min 13s, sys: 15.7 ms, total: 1min 13s\n",
      "Wall time: 1min 13s\n"
     ]
    }
   ],
   "source": [
    "%%time\n",
    "model = 'ada'\n",
    "\n",
    "# Calculate hit rate at K (precision at K)\n",
    "k = 5  # Set the desired value of K\n",
    "hit_5 = get_hit_rate_at_k(recommendations = ada_recommendations, \n",
    "                                   rankings = evaluation_data, \n",
    "                                   K=k)\n",
    "print(f\"Model: {model} - Hit rate at {k}: {hit_5}\")\n",
    "\n",
    "k = 10  # Set the desired value of K\n",
    "hit_10 = get_hit_rate_at_k(recommendations = ada_recommendations, \n",
    "                                   rankings = evaluation_data, \n",
    "                                   K=k)\n",
    "print(f\"Model: {model} - Hit rate at {k}: {hit_10}\")\n",
    "\n",
    "k = 20  # Set the desired value of K\n",
    "hit_20 = get_hit_rate_at_k(recommendations = ada_recommendations, \n",
    "                                   rankings = evaluation_data, \n",
    "                                   K=k)\n",
    "print(f\"Model: {model} - Hit rate at {k}: {hit_20}\")"
   ]
  },
  {
   "cell_type": "code",
   "execution_count": 64,
   "id": "5ee53882",
   "metadata": {},
   "outputs": [],
   "source": [
    "models.append(model)\n",
    "benchmarks.append(benchmark)\n",
    "hits_5.append(hit_5)\n",
    "hits_10.append(hit_10)\n",
    "hits_20.append(hit_20)"
   ]
  },
  {
   "cell_type": "markdown",
   "id": "6295408b",
   "metadata": {},
   "source": [
    "## Model: lda"
   ]
  },
  {
   "cell_type": "code",
   "execution_count": 65,
   "id": "ae0fddbb",
   "metadata": {},
   "outputs": [
    {
     "name": "stdout",
     "output_type": "stream",
     "text": [
      "final hit_count: 0\n",
      "Model: lda - Hit rate at 5: 0.0\n",
      "final hit_count: 0\n",
      "Model: lda - Hit rate at 10: 0.0\n",
      "final hit_count: 0\n",
      "Model: lda - Hit rate at 20: 0.0\n",
      "CPU times: user 1min 10s, sys: 19.8 ms, total: 1min 11s\n",
      "Wall time: 1min 11s\n"
     ]
    }
   ],
   "source": [
    "%%time\n",
    "model = 'lda'\n",
    "# Calculate hit rate at K (precision at K)\n",
    "k = 5  # Set the desired value of K\n",
    "hit_5 = get_hit_rate_at_k(recommendations = lda_recommendations, \n",
    "                                   rankings = evaluation_data, \n",
    "                                   K=k)\n",
    "print(f\"Model: {model} - Hit rate at {k}: {hit_5}\")\n",
    "\n",
    "k = 10  # Set the desired value of K\n",
    "hit_10 = get_hit_rate_at_k(recommendations = lda_recommendations, \n",
    "                                   rankings = evaluation_data, \n",
    "                                   K=k)\n",
    "print(f\"Model: {model} - Hit rate at {k}: {hit_10}\")\n",
    "\n",
    "k = 20  # Set the desired value of K\n",
    "hit_20 = get_hit_rate_at_k(recommendations = lda_recommendations, \n",
    "                                   rankings = evaluation_data, \n",
    "                                   K=k)\n",
    "print(f\"Model: {model} - Hit rate at {k}: {hit_20}\")"
   ]
  },
  {
   "cell_type": "code",
   "execution_count": 66,
   "id": "6b041928",
   "metadata": {},
   "outputs": [],
   "source": [
    "models.append(model)\n",
    "benchmarks.append(benchmark)\n",
    "hits_5.append(hit_5)\n",
    "hits_10.append(hit_10)\n",
    "hits_20.append(hit_20)"
   ]
  },
  {
   "cell_type": "markdown",
   "id": "6dab408c",
   "metadata": {},
   "source": [
    "## Model: qda"
   ]
  },
  {
   "cell_type": "code",
   "execution_count": 67,
   "id": "f05d1d6f",
   "metadata": {},
   "outputs": [
    {
     "name": "stdout",
     "output_type": "stream",
     "text": [
      "final hit_count: 0\n",
      "Model: qda - Hit rate at 5: 0.0\n",
      "final hit_count: 0\n",
      "Model: qda - Hit rate at 10: 0.0\n",
      "final hit_count: 0\n",
      "Model: qda - Hit rate at 20: 0.0\n",
      "CPU times: user 1min 10s, sys: 15.9 ms, total: 1min 10s\n",
      "Wall time: 1min 10s\n"
     ]
    }
   ],
   "source": [
    "%%time\n",
    "model = 'qda'\n",
    "\n",
    "# Calculate hit rate at K (precision at K)\n",
    "k = 5  # Set the desired value of K\n",
    "hit_5 = get_hit_rate_at_k(recommendations = qda_recommendations, \n",
    "                                   rankings = evaluation_data, \n",
    "                                   K=k)\n",
    "print(f\"Model: {model} - Hit rate at {k}: {hit_5}\")\n",
    "\n",
    "k = 10  # Set the desired value of K\n",
    "hit_10 = get_hit_rate_at_k(recommendations = qda_recommendations, \n",
    "                                   rankings = evaluation_data, \n",
    "                                   K=k)\n",
    "print(f\"Model: {model} - Hit rate at {k}: {hit_10}\")\n",
    "\n",
    "k = 20  # Set the desired value of K\n",
    "hit_20 = get_hit_rate_at_k(recommendations = qda_recommendations, \n",
    "                                   rankings = evaluation_data, \n",
    "                                   K=k)\n",
    "print(f\"Model: {model} - Hit rate at {k}: {hit_20}\")"
   ]
  },
  {
   "cell_type": "code",
   "execution_count": 68,
   "id": "426d37e3",
   "metadata": {},
   "outputs": [],
   "source": [
    "models.append(model)\n",
    "benchmarks.append(benchmark)\n",
    "hits_5.append(hit_5)\n",
    "hits_10.append(hit_10)\n",
    "hits_20.append(hit_20)"
   ]
  },
  {
   "cell_type": "markdown",
   "id": "b2fd2354-edf1-48eb-a5fc-6dfbdd079bc0",
   "metadata": {},
   "source": [
    "# Export all df of rec result for re-use"
   ]
  },
  {
   "cell_type": "code",
   "execution_count": 69,
   "id": "b0302696-ccc9-4ea8-a21b-bbe2cf3719b2",
   "metadata": {},
   "outputs": [],
   "source": [
    "logreg_recommendations.to_csv('./output_topN_tabular/rec_result_logreg_random_ranking.csv', header=True, index=False)\n",
    "dt_recommendations.to_csv('./output_topN_tabular/rec_result_dt_random_ranking.csv', header=True, index=False)\n",
    "nb_recommendations.to_csv('./output_topN_tabular/rec_result_nb_random_ranking.csv', header=True, index=False)\n",
    "xgbt_recommendations.to_csv('./output_topN_tabular/rec_result_xgbt_random_ranking.csv', header=True, index=False)\n",
    "lda_recommendations.to_csv('./output_topN_tabular/rec_result_lda_random_ranking.csv', header=True, index=False)\n",
    "qda_recommendations.to_csv('./output_topN_tabular/rec_result_qda_random_ranking.csv', header=True, index=False)"
   ]
  },
  {
   "cell_type": "code",
   "execution_count": null,
   "id": "18e27ff2-a62c-4cf1-941c-dd8a68e4cfdd",
   "metadata": {},
   "outputs": [],
   "source": []
  },
  {
   "cell_type": "code",
   "execution_count": 70,
   "id": "3a76851b-75d3-47df-b8d4-578fa83aeecd",
   "metadata": {},
   "outputs": [],
   "source": [
    "# Load all interaction data (LDA tabular with side information)\n",
    "train_data_extended = pd.read_csv('./xai_recsys/train_data_extended.csv')\n",
    "test_data_extended = pd.read_csv('./xai_recsys/test_data_extended.csv')"
   ]
  },
  {
   "cell_type": "code",
   "execution_count": 71,
   "id": "4bd995b3-ec40-441d-a98d-064defbe7ca7",
   "metadata": {},
   "outputs": [],
   "source": [
    "# Positive interaction (from original data)\n",
    "select_cols = ['UserID', 'JobID', 'label','Split']\n",
    "actual_interaction_train = train_data_extended[select_cols]\n",
    "actual_interaction_test = test_data_extended[select_cols]\n",
    "actual_interaction_df = pd.concat([actual_interaction_train,actual_interaction_test])"
   ]
  },
  {
   "cell_type": "code",
   "execution_count": 72,
   "id": "10bbd977-319c-4006-b311-b4eeb58a9b8f",
   "metadata": {},
   "outputs": [
    {
     "data": {
      "text/plain": [
       "(563889, 15736)"
      ]
     },
     "execution_count": 72,
     "metadata": {},
     "output_type": "execute_result"
    }
   ],
   "source": [
    "len(actual_interaction_train), len(actual_interaction_test)"
   ]
  },
  {
   "cell_type": "code",
   "execution_count": 73,
   "id": "391b6cb6",
   "metadata": {},
   "outputs": [],
   "source": [
    "benchmark = 'actual_test_interaction'"
   ]
  },
  {
   "cell_type": "markdown",
   "id": "b17a0177",
   "metadata": {},
   "source": [
    "## Model: logreg"
   ]
  },
  {
   "cell_type": "code",
   "execution_count": 74,
   "id": "f004085a",
   "metadata": {},
   "outputs": [
    {
     "name": "stdout",
     "output_type": "stream",
     "text": [
      "final hit_count: 3253\n",
      "Model: logreg - Hit rate at 5 - actual test interaction: 0.8754036598493004\n",
      "final hit_count: 3273\n",
      "Model: logreg - Hit rate at 10 - actual test interaction: 0.8807857911733046\n",
      "final hit_count: 3329\n",
      "Model: logreg - Hit rate at 20 - actual test interaction: 0.8958557588805167\n",
      "CPU times: user 1min 7s, sys: 7.93 ms, total: 1min 7s\n",
      "Wall time: 1min 7s\n"
     ]
    }
   ],
   "source": [
    "%%time\n",
    "model = 'logreg'\n",
    "\n",
    "# Calculate hit rate at K (precision at K)\n",
    "k = 5  # Set the desired value of K\n",
    "hit_5 = get_hit_rate_at_k(recommendations = logreg_recommendations, \n",
    "                                   rankings = actual_interaction_test, \n",
    "                                   K=k)\n",
    "print(f\"Model: {model} - Hit rate at {k} - actual test interaction: {hit_5}\")\n",
    "\n",
    "k = 10  # Set the desired value of K\n",
    "hit_10 = get_hit_rate_at_k(recommendations = logreg_recommendations, \n",
    "                                   rankings = actual_interaction_test, \n",
    "                                   K=k)\n",
    "print(f\"Model: {model} - Hit rate at {k} - actual test interaction: {hit_10}\")\n",
    "\n",
    "k = 20  # Set the desired value of K\n",
    "hit_20 = get_hit_rate_at_k(recommendations = logreg_recommendations, \n",
    "                                   rankings = actual_interaction_test, \n",
    "                                   K=k)\n",
    "print(f\"Model: {model} - Hit rate at {k} - actual test interaction: {hit_20}\")"
   ]
  },
  {
   "cell_type": "code",
   "execution_count": 75,
   "id": "81167573",
   "metadata": {},
   "outputs": [],
   "source": [
    "models.append(model)\n",
    "benchmarks.append(benchmark)\n",
    "hits_5.append(hit_5)\n",
    "hits_10.append(hit_10)\n",
    "hits_20.append(hit_20)"
   ]
  },
  {
   "cell_type": "markdown",
   "id": "54c09ace",
   "metadata": {},
   "source": [
    "## Model: dt"
   ]
  },
  {
   "cell_type": "code",
   "execution_count": 76,
   "id": "c93a67f3",
   "metadata": {},
   "outputs": [
    {
     "name": "stdout",
     "output_type": "stream",
     "text": [
      "final hit_count: 3298\n",
      "Model: dt - Hit rate at 5 - actual test interaction: 0.88751345532831\n",
      "final hit_count: 3298\n",
      "Model: dt - Hit rate at 10 - actual test interaction: 0.88751345532831\n",
      "final hit_count: 3304\n",
      "Model: dt - Hit rate at 20 - actual test interaction: 0.8891280947255114\n",
      "CPU times: user 1min 10s, sys: 15.9 ms, total: 1min 10s\n",
      "Wall time: 1min 10s\n"
     ]
    }
   ],
   "source": [
    "%%time\n",
    "model = 'dt'\n",
    "# Calculate hit rate at K (precision at K)\n",
    "k = 5  # Set the desired value of K\n",
    "hit_5 = get_hit_rate_at_k(recommendations = dt_recommendations, \n",
    "                                   rankings = actual_interaction_test, \n",
    "                                   K=k)\n",
    "print(f\"Model: {model} - Hit rate at {k} - actual test interaction: {hit_5}\")\n",
    "\n",
    "k = 10  # Set the desired value of K\n",
    "hit_10 = get_hit_rate_at_k(recommendations = dt_recommendations, \n",
    "                                   rankings = actual_interaction_test, \n",
    "                                   K=k)\n",
    "print(f\"Model: {model} - Hit rate at {k} - actual test interaction: {hit_10}\")\n",
    "\n",
    "k = 20  # Set the desired value of K\n",
    "hit_20 = get_hit_rate_at_k(recommendations = dt_recommendations, \n",
    "                                   rankings = actual_interaction_test, \n",
    "                                   K=k)\n",
    "print(f\"Model: {model} - Hit rate at {k} - actual test interaction: {hit_20}\")"
   ]
  },
  {
   "cell_type": "code",
   "execution_count": 77,
   "id": "ebee4c32",
   "metadata": {},
   "outputs": [],
   "source": [
    "models.append(model)\n",
    "benchmarks.append(benchmark)\n",
    "hits_5.append(hit_5)\n",
    "hits_10.append(hit_10)\n",
    "hits_20.append(hit_20)"
   ]
  },
  {
   "cell_type": "markdown",
   "id": "64033243",
   "metadata": {},
   "source": [
    "## Model: xgbt"
   ]
  },
  {
   "cell_type": "code",
   "execution_count": 78,
   "id": "0fd60975",
   "metadata": {},
   "outputs": [
    {
     "name": "stdout",
     "output_type": "stream",
     "text": [
      "final hit_count: 3716\n",
      "Model: xgbt - Hit rate at 5 - actual test interaction: 1.0\n",
      "final hit_count: 3716\n",
      "Model: xgbt - Hit rate at 10 - actual test interaction: 1.0\n",
      "final hit_count: 3716\n",
      "Model: xgbt - Hit rate at 20 - actual test interaction: 1.0\n",
      "CPU times: user 1min 9s, sys: 35.8 ms, total: 1min 9s\n",
      "Wall time: 1min 9s\n"
     ]
    }
   ],
   "source": [
    "%%time\n",
    "model = 'xgbt'\n",
    "\n",
    "# Calculate hit rate at K (precision at K)\n",
    "k = 5  # Set the desired value of K\n",
    "hit_5 = get_hit_rate_at_k(recommendations = xgbt_recommendations, \n",
    "                                   rankings = actual_interaction_test, \n",
    "                                   K=k)\n",
    "print(f\"Model: {model} - Hit rate at {k} - actual test interaction: {hit_5}\")\n",
    "\n",
    "k = 10  # Set the desired value of K\n",
    "hit_10 = get_hit_rate_at_k(recommendations = xgbt_recommendations, \n",
    "                                   rankings = actual_interaction_test, \n",
    "                                   K=k)\n",
    "print(f\"Model: {model} - Hit rate at {k} - actual test interaction: {hit_10}\")\n",
    "\n",
    "k = 20  # Set the desired value of K\n",
    "hit_20 = get_hit_rate_at_k(recommendations = xgbt_recommendations, \n",
    "                                   rankings = actual_interaction_test, \n",
    "                                   K=k)\n",
    "print(f\"Model: {model} - Hit rate at {k} - actual test interaction: {hit_20}\")"
   ]
  },
  {
   "cell_type": "code",
   "execution_count": 79,
   "id": "4150e6a2",
   "metadata": {},
   "outputs": [],
   "source": [
    "models.append(model)\n",
    "benchmarks.append(benchmark)\n",
    "hits_5.append(hit_5)\n",
    "hits_10.append(hit_10)\n",
    "hits_20.append(hit_20)"
   ]
  },
  {
   "cell_type": "markdown",
   "id": "992caa71",
   "metadata": {},
   "source": [
    "## Model: nb"
   ]
  },
  {
   "cell_type": "code",
   "execution_count": 80,
   "id": "02540041",
   "metadata": {},
   "outputs": [
    {
     "name": "stdout",
     "output_type": "stream",
     "text": [
      "final hit_count: 3262\n",
      "Model: nb - Hit rate at 5 - actual test interaction: 0.8778256189451022\n",
      "final hit_count: 3298\n",
      "Model: nb - Hit rate at 10 - actual test interaction: 0.88751345532831\n",
      "final hit_count: 3355\n",
      "Model: nb - Hit rate at 20 - actual test interaction: 0.9028525296017222\n",
      "CPU times: user 1min 4s, sys: 15.9 ms, total: 1min 4s\n",
      "Wall time: 1min 4s\n"
     ]
    }
   ],
   "source": [
    "%%time\n",
    "model = 'nb'\n",
    "# Calculate hit rate at K (precision at K)\n",
    "k = 5  # Set the desired value of K\n",
    "hit_5 = get_hit_rate_at_k(recommendations = nb_recommendations, \n",
    "                                   rankings = actual_interaction_test, \n",
    "                                   K=k)\n",
    "print(f\"Model: {model} - Hit rate at {k} - actual test interaction: {hit_5}\")\n",
    "\n",
    "k = 10  # Set the desired value of K\n",
    "hit_10 = get_hit_rate_at_k(recommendations = nb_recommendations, \n",
    "                                   rankings = actual_interaction_test, \n",
    "                                   K=k)\n",
    "print(f\"Model: {model} - Hit rate at {k} - actual test interaction: {hit_10}\")\n",
    "\n",
    "k = 20  # Set the desired value of K\n",
    "hit_20 = get_hit_rate_at_k(recommendations = nb_recommendations, \n",
    "                                   rankings = actual_interaction_test, \n",
    "                                   K=k)\n",
    "print(f\"Model: {model} - Hit rate at {k} - actual test interaction: {hit_20}\")"
   ]
  },
  {
   "cell_type": "code",
   "execution_count": 81,
   "id": "32f5326b",
   "metadata": {},
   "outputs": [],
   "source": [
    "models.append(model)\n",
    "benchmarks.append(benchmark)\n",
    "hits_5.append(hit_5)\n",
    "hits_10.append(hit_10)\n",
    "hits_20.append(hit_20)"
   ]
  },
  {
   "cell_type": "markdown",
   "id": "2cfd68ce",
   "metadata": {},
   "source": [
    "## Model: lda"
   ]
  },
  {
   "cell_type": "code",
   "execution_count": 82,
   "id": "447a655d",
   "metadata": {},
   "outputs": [
    {
     "name": "stdout",
     "output_type": "stream",
     "text": [
      "final hit_count: 3251\n",
      "Model: lda - Hit rate at 5 - actual test interaction: 0.8748654467168999\n",
      "final hit_count: 3273\n",
      "Model: lda - Hit rate at 10 - actual test interaction: 0.8807857911733046\n",
      "final hit_count: 3327\n",
      "Model: lda - Hit rate at 20 - actual test interaction: 0.8953175457481163\n",
      "CPU times: user 1min 9s, sys: 3.93 ms, total: 1min 9s\n",
      "Wall time: 1min 9s\n"
     ]
    }
   ],
   "source": [
    "%%time\n",
    "model = 'lda'\n",
    "\n",
    "# Calculate hit rate at K (precision at K)\n",
    "k = 5  # Set the desired value of K\n",
    "hit_5 = get_hit_rate_at_k(recommendations = lda_recommendations, \n",
    "                                   rankings = actual_interaction_test, \n",
    "                                   K=k)\n",
    "print(f\"Model: {model} - Hit rate at {k} - actual test interaction: {hit_5}\")\n",
    "\n",
    "k = 10  # Set the desired value of K\n",
    "hit_10 = get_hit_rate_at_k(recommendations = lda_recommendations, \n",
    "                                   rankings = actual_interaction_test, \n",
    "                                   K=k)\n",
    "print(f\"Model: {model} - Hit rate at {k} - actual test interaction: {hit_10}\")\n",
    "\n",
    "k = 20  # Set the desired value of K\n",
    "hit_20 = get_hit_rate_at_k(recommendations = lda_recommendations, \n",
    "                                   rankings = actual_interaction_test, \n",
    "                                   K=k)\n",
    "print(f\"Model: {model} - Hit rate at {k} - actual test interaction: {hit_20}\")"
   ]
  },
  {
   "cell_type": "code",
   "execution_count": 83,
   "id": "9df72fdb",
   "metadata": {},
   "outputs": [],
   "source": [
    "models.append(model)\n",
    "benchmarks.append(benchmark)\n",
    "hits_5.append(hit_5)\n",
    "hits_10.append(hit_10)\n",
    "hits_20.append(hit_20)"
   ]
  },
  {
   "cell_type": "markdown",
   "id": "d05a487b",
   "metadata": {},
   "source": [
    "## Model: qda"
   ]
  },
  {
   "cell_type": "code",
   "execution_count": 84,
   "id": "5314372e",
   "metadata": {},
   "outputs": [
    {
     "name": "stdout",
     "output_type": "stream",
     "text": [
      "final hit_count: 3260\n",
      "Model: qda - Hit rate at 5 - actual test interaction: 0.8772874058127018\n",
      "final hit_count: 3294\n",
      "Model: qda - Hit rate at 10 - actual test interaction: 0.8864370290635092\n",
      "final hit_count: 3365\n",
      "Model: qda - Hit rate at 20 - actual test interaction: 0.9055435952637244\n",
      "CPU times: user 1min 6s, sys: 7.89 ms, total: 1min 6s\n",
      "Wall time: 1min 6s\n"
     ]
    }
   ],
   "source": [
    "%%time\n",
    "model = 'qda'\n",
    "\n",
    "# Calculate hit rate at K (precision at K)\n",
    "k = 5  # Set the desired value of K\n",
    "hit_5 = get_hit_rate_at_k(recommendations = qda_recommendations, \n",
    "                                   rankings = actual_interaction_test, \n",
    "                                   K=k)\n",
    "print(f\"Model: {model} - Hit rate at {k} - actual test interaction: {hit_5}\")\n",
    "\n",
    "k = 10  # Set the desired value of K\n",
    "hit_10 = get_hit_rate_at_k(recommendations = qda_recommendations, \n",
    "                                   rankings = actual_interaction_test, \n",
    "                                   K=k)\n",
    "print(f\"Model: {model} - Hit rate at {k} - actual test interaction: {hit_10}\")\n",
    "\n",
    "k = 20  # Set the desired value of K\n",
    "hit_20 = get_hit_rate_at_k(recommendations = qda_recommendations, \n",
    "                                   rankings = actual_interaction_test, \n",
    "                                   K=k)\n",
    "print(f\"Model: {model} - Hit rate at {k} - actual test interaction: {hit_20}\")"
   ]
  },
  {
   "cell_type": "code",
   "execution_count": 85,
   "id": "fb1e8bb0",
   "metadata": {},
   "outputs": [],
   "source": [
    "models.append(model)\n",
    "benchmarks.append(benchmark)\n",
    "hits_5.append(hit_5)\n",
    "hits_10.append(hit_10)\n",
    "hits_20.append(hit_20)"
   ]
  },
  {
   "cell_type": "code",
   "execution_count": 86,
   "id": "464ebbe6",
   "metadata": {},
   "outputs": [],
   "source": [
    "benchmark = 'all_interaction_data'"
   ]
  },
  {
   "cell_type": "markdown",
   "id": "9c35728b",
   "metadata": {},
   "source": [
    "## Model: logreg"
   ]
  },
  {
   "cell_type": "code",
   "execution_count": 87,
   "id": "f844dfee",
   "metadata": {},
   "outputs": [
    {
     "name": "stdout",
     "output_type": "stream",
     "text": [
      "final hit_count: 3253\n",
      "Model: logreg - Hit rate at 5 - all actual interaction: 0.8754036598493004\n",
      "final hit_count: 3273\n",
      "Model: logreg - Hit rate at 10 - all actual interaction: 0.8807857911733046\n",
      "final hit_count: 3329\n",
      "Model: logreg - Hit rate at 20 - all actual interaction: 0.8958557588805167\n",
      "CPU times: user 1min 18s, sys: 27.9 ms, total: 1min 18s\n",
      "Wall time: 1min 18s\n"
     ]
    }
   ],
   "source": [
    "%%time\n",
    "model = 'logreg'\n",
    "\n",
    "# Calculate hit rate at K (precision at K)\n",
    "k = 5  # Set the desired value of K\n",
    "hit_5 = get_hit_rate_at_k(recommendations = logreg_recommendations, \n",
    "                                   rankings = actual_interaction_df, \n",
    "                                   K=k)\n",
    "print(f\"Model: {model} - Hit rate at {k} - all actual interaction: {hit_5}\")\n",
    "\n",
    "k = 10  # Set the desired value of K\n",
    "hit_10 = get_hit_rate_at_k(recommendations = logreg_recommendations, \n",
    "                                   rankings = actual_interaction_df, \n",
    "                                   K=k)\n",
    "print(f\"Model: {model} - Hit rate at {k} - all actual interaction: {hit_10}\")\n",
    "\n",
    "k = 20  # Set the desired value of K\n",
    "hit_20 = get_hit_rate_at_k(recommendations = logreg_recommendations, \n",
    "                                   rankings = actual_interaction_df, \n",
    "                                   K=k)\n",
    "print(f\"Model: {model} - Hit rate at {k} - all actual interaction: {hit_20}\")"
   ]
  },
  {
   "cell_type": "code",
   "execution_count": 88,
   "id": "c0844229",
   "metadata": {},
   "outputs": [],
   "source": [
    "models.append(model)\n",
    "benchmarks.append(benchmark)\n",
    "\n",
    "hits_5.append(hit_5)\n",
    "hits_10.append(hit_10)\n",
    "hits_20.append(hit_20)"
   ]
  },
  {
   "cell_type": "markdown",
   "id": "3f567467",
   "metadata": {},
   "source": [
    "## Model: dt"
   ]
  },
  {
   "cell_type": "code",
   "execution_count": 89,
   "id": "ea46e53d",
   "metadata": {},
   "outputs": [
    {
     "name": "stdout",
     "output_type": "stream",
     "text": [
      "final hit_count: 3298\n",
      "Model: dt - Hit rate at 5 - all actual interaction: 0.88751345532831\n",
      "final hit_count: 3298\n",
      "Model: dt - Hit rate at 10 - all actual interaction: 0.88751345532831\n",
      "final hit_count: 3304\n",
      "Model: dt - Hit rate at 20 - all actual interaction: 0.8891280947255114\n",
      "CPU times: user 1min 17s, sys: 23.9 ms, total: 1min 17s\n",
      "Wall time: 1min 17s\n"
     ]
    }
   ],
   "source": [
    "%%time\n",
    "model = 'dt'\n",
    "\n",
    "# Calculate hit rate at K (precision at K)\n",
    "k = 5  # Set the desired value of K\n",
    "hit_5 = get_hit_rate_at_k(recommendations = dt_recommendations, \n",
    "                                   rankings = actual_interaction_df, \n",
    "                                   K=k)\n",
    "print(f\"Model: {model} - Hit rate at {k} - all actual interaction: {hit_5}\")\n",
    "\n",
    "k = 10  # Set the desired value of K\n",
    "hit_10 = get_hit_rate_at_k(recommendations = dt_recommendations, \n",
    "                                   rankings = actual_interaction_df, \n",
    "                                   K=k)\n",
    "print(f\"Model: {model} - Hit rate at {k} - all actual interaction: {hit_10}\")\n",
    "\n",
    "k = 20  # Set the desired value of K\n",
    "hit_20 = get_hit_rate_at_k(recommendations = dt_recommendations, \n",
    "                                   rankings = actual_interaction_df, \n",
    "                                   K=k)\n",
    "print(f\"Model: {model} - Hit rate at {k} - all actual interaction: {hit_20}\")"
   ]
  },
  {
   "cell_type": "code",
   "execution_count": 90,
   "id": "8e78819b",
   "metadata": {},
   "outputs": [],
   "source": [
    "models.append(model)\n",
    "benchmarks.append(benchmark)\n",
    "hits_5.append(hit_5)\n",
    "hits_10.append(hit_10)\n",
    "hits_20.append(hit_20)"
   ]
  },
  {
   "cell_type": "markdown",
   "id": "3c9f0492",
   "metadata": {},
   "source": [
    "## Model: xgbt"
   ]
  },
  {
   "cell_type": "code",
   "execution_count": 91,
   "id": "b7a1eeec",
   "metadata": {},
   "outputs": [
    {
     "name": "stdout",
     "output_type": "stream",
     "text": [
      "final hit_count: 3716\n",
      "Model: xgbt - Hit rate at 5 - all actual interaction: 1.0\n",
      "final hit_count: 3716\n",
      "Model: xgbt - Hit rate at 10 - all actual interaction: 1.0\n",
      "final hit_count: 3716\n",
      "Model: xgbt - Hit rate at 20 - all actual interaction: 1.0\n",
      "CPU times: user 1min 18s, sys: 11.9 ms, total: 1min 18s\n",
      "Wall time: 1min 18s\n"
     ]
    }
   ],
   "source": [
    "%%time\n",
    "model = 'xgbt'\n",
    "\n",
    "# Calculate hit rate at K (precision at K)\n",
    "k = 5  # Set the desired value of K\n",
    "hit_5 = get_hit_rate_at_k(recommendations = xgbt_recommendations, \n",
    "                                   rankings = actual_interaction_df, \n",
    "                                   K=k)\n",
    "print(f\"Model: {model} - Hit rate at {k} - all actual interaction: {hit_5}\")\n",
    "\n",
    "k = 10  # Set the desired value of K\n",
    "hit_10 = get_hit_rate_at_k(recommendations = xgbt_recommendations, \n",
    "                                   rankings = actual_interaction_df, \n",
    "                                   K=k)\n",
    "print(f\"Model: {model} - Hit rate at {k} - all actual interaction: {hit_10}\")\n",
    "\n",
    "k = 20  # Set the desired value of K\n",
    "hit_20 = get_hit_rate_at_k(recommendations = xgbt_recommendations, \n",
    "                                   rankings = actual_interaction_df, \n",
    "                                   K=k)\n",
    "print(f\"Model: {model} - Hit rate at {k} - all actual interaction: {hit_20}\")"
   ]
  },
  {
   "cell_type": "code",
   "execution_count": 92,
   "id": "15ed49df",
   "metadata": {},
   "outputs": [],
   "source": [
    "models.append(model)\n",
    "benchmarks.append(benchmark)\n",
    "hits_5.append(hit_5)\n",
    "hits_10.append(hit_10)\n",
    "hits_20.append(hit_20)"
   ]
  },
  {
   "cell_type": "markdown",
   "id": "620c63ab",
   "metadata": {},
   "source": [
    "## Model: nb"
   ]
  },
  {
   "cell_type": "code",
   "execution_count": 93,
   "id": "0175fcf8",
   "metadata": {},
   "outputs": [
    {
     "name": "stdout",
     "output_type": "stream",
     "text": [
      "final hit_count: 3262\n",
      "Model: nb - Hit rate at 5 - all actual interaction: 0.8778256189451022\n",
      "final hit_count: 3298\n",
      "Model: nb - Hit rate at 10 - all actual interaction: 0.88751345532831\n",
      "final hit_count: 3355\n",
      "Model: nb - Hit rate at 20 - all actual interaction: 0.9028525296017222\n",
      "CPU times: user 1min 18s, sys: 28 ms, total: 1min 18s\n",
      "Wall time: 1min 18s\n"
     ]
    }
   ],
   "source": [
    "%%time\n",
    "model = 'nb'\n",
    "\n",
    "# Calculate hit rate at K (precision at K)\n",
    "k = 5  # Set the desired value of K\n",
    "hit_5 = get_hit_rate_at_k(recommendations = nb_recommendations, \n",
    "                                   rankings = actual_interaction_df, \n",
    "                                   K=k)\n",
    "print(f\"Model: {model} - Hit rate at {k} - all actual interaction: {hit_5}\")\n",
    "\n",
    "k = 10  # Set the desired value of K\n",
    "hit_10 = get_hit_rate_at_k(recommendations = nb_recommendations, \n",
    "                                   rankings = actual_interaction_df, \n",
    "                                   K=k)\n",
    "print(f\"Model: {model} - Hit rate at {k} - all actual interaction: {hit_10}\")\n",
    "\n",
    "k = 20  # Set the desired value of K\n",
    "hit_20 = get_hit_rate_at_k(recommendations = nb_recommendations, \n",
    "                                   rankings = actual_interaction_df, \n",
    "                                   K=k)\n",
    "print(f\"Model: {model} - Hit rate at {k} - all actual interaction: {hit_20}\")"
   ]
  },
  {
   "cell_type": "code",
   "execution_count": 94,
   "id": "b2d57a71",
   "metadata": {},
   "outputs": [],
   "source": [
    "models.append(model)\n",
    "benchmarks.append(benchmark)\n",
    "hits_5.append(hit_5)\n",
    "hits_10.append(hit_10)\n",
    "hits_20.append(hit_20)"
   ]
  },
  {
   "cell_type": "markdown",
   "id": "85e3f6f9",
   "metadata": {},
   "source": [
    "## Model: lda"
   ]
  },
  {
   "cell_type": "code",
   "execution_count": 95,
   "id": "78e32573",
   "metadata": {},
   "outputs": [
    {
     "name": "stdout",
     "output_type": "stream",
     "text": [
      "final hit_count: 3251\n",
      "Model: lda - Hit rate at 5 - all actual interaction: 0.8748654467168999\n",
      "final hit_count: 3273\n",
      "Model: lda - Hit rate at 10 - all actual interaction: 0.8807857911733046\n",
      "final hit_count: 3327\n",
      "Model: lda - Hit rate at 20 - all actual interaction: 0.8953175457481163\n",
      "CPU times: user 1min 16s, sys: 11.9 ms, total: 1min 16s\n",
      "Wall time: 1min 16s\n"
     ]
    }
   ],
   "source": [
    "%%time\n",
    "model = 'lda'\n",
    "\n",
    "# Calculate hit rate at K (precision at K)\n",
    "k = 5  # Set the desired value of K\n",
    "hit_5 = get_hit_rate_at_k(recommendations = lda_recommendations, \n",
    "                                   rankings = actual_interaction_df, \n",
    "                                   K=k)\n",
    "print(f\"Model: {model} - Hit rate at {k} - all actual interaction: {hit_5}\")\n",
    "\n",
    "k = 10  # Set the desired value of K\n",
    "hit_10 = get_hit_rate_at_k(recommendations = lda_recommendations, \n",
    "                                   rankings = actual_interaction_df, \n",
    "                                   K=k)\n",
    "print(f\"Model: {model} - Hit rate at {k} - all actual interaction: {hit_10}\")\n",
    "\n",
    "k = 20  # Set the desired value of K\n",
    "hit_20 = get_hit_rate_at_k(recommendations = lda_recommendations, \n",
    "                                   rankings = actual_interaction_df, \n",
    "                                   K=k)\n",
    "print(f\"Model: {model} - Hit rate at {k} - all actual interaction: {hit_20}\")"
   ]
  },
  {
   "cell_type": "code",
   "execution_count": 96,
   "id": "06867da8",
   "metadata": {},
   "outputs": [],
   "source": [
    "models.append(model)\n",
    "benchmarks.append(benchmark)\n",
    "hits_5.append(hit_5)\n",
    "hits_10.append(hit_10)\n",
    "hits_20.append(hit_20)"
   ]
  },
  {
   "cell_type": "markdown",
   "id": "c1a2b9d7",
   "metadata": {},
   "source": [
    "## Model: qda"
   ]
  },
  {
   "cell_type": "code",
   "execution_count": 97,
   "id": "cd4147c5",
   "metadata": {},
   "outputs": [
    {
     "name": "stdout",
     "output_type": "stream",
     "text": [
      "final hit_count: 3260\n",
      "Model: qda - Hit rate at 5 - all actual interaction: 0.8772874058127018\n",
      "final hit_count: 3294\n",
      "Model: qda - Hit rate at 10 - all actual interaction: 0.8864370290635092\n",
      "final hit_count: 3365\n",
      "Model: qda - Hit rate at 20 - all actual interaction: 0.9055435952637244\n",
      "CPU times: user 1min 19s, sys: 40 ms, total: 1min 19s\n",
      "Wall time: 1min 19s\n"
     ]
    }
   ],
   "source": [
    "%%time\n",
    "model = 'qda'\n",
    "\n",
    "# Calculate hit rate at K (precision at K)\n",
    "k = 5  # Set the desired value of K\n",
    "hit_5 = get_hit_rate_at_k(recommendations = qda_recommendations, \n",
    "                                   rankings = actual_interaction_df, \n",
    "                                   K=k)\n",
    "print(f\"Model: {model} - Hit rate at {k} - all actual interaction: {hit_5}\")\n",
    "\n",
    "k = 10  # Set the desired value of K\n",
    "hit_10 = get_hit_rate_at_k(recommendations = qda_recommendations, \n",
    "                                   rankings = actual_interaction_df, \n",
    "                                   K=k)\n",
    "print(f\"Model: {model} - Hit rate at {k} - all actual interaction: {hit_10}\")\n",
    "\n",
    "k = 20  # Set the desired value of K\n",
    "hit_20 = get_hit_rate_at_k(recommendations = qda_recommendations, \n",
    "                                   rankings = actual_interaction_df, \n",
    "                                   K=k)\n",
    "print(f\"Model: {model} - Hit rate at {k} - all actual interaction: {hit_20}\")"
   ]
  },
  {
   "cell_type": "code",
   "execution_count": 98,
   "id": "39e2a03a",
   "metadata": {},
   "outputs": [],
   "source": [
    "models.append(model)\n",
    "benchmarks.append(benchmark)\n",
    "hits_5.append(hit_5)\n",
    "hits_10.append(hit_10)\n",
    "hits_20.append(hit_20)"
   ]
  },
  {
   "cell_type": "code",
   "execution_count": null,
   "id": "95bcf4fd-6092-4034-8282-10a51829a732",
   "metadata": {},
   "outputs": [],
   "source": []
  },
  {
   "cell_type": "code",
   "execution_count": 99,
   "id": "1ce0e9a6",
   "metadata": {},
   "outputs": [
    {
     "data": {
      "text/plain": [
       "(26, 26, 26, 26, 26)"
      ]
     },
     "execution_count": 99,
     "metadata": {},
     "output_type": "execute_result"
    }
   ],
   "source": [
    "len(models), len(benchmarks), len(hits_5), len(hits_10), len(hits_20)"
   ]
  },
  {
   "cell_type": "code",
   "execution_count": 100,
   "id": "1d082cc0",
   "metadata": {},
   "outputs": [],
   "source": [
    "baseline_hit = pd.DataFrame(columns = [\"model\",\"hit_5\", \"hit_10\", \"hit_20\", 'benchmark'])\n",
    "baseline_hit.model = models\n",
    "baseline_hit.benchmark = benchmarks\n",
    "baseline_hit.hit_5 = hits_5\n",
    "baseline_hit.hit_10 = hits_10\n",
    "baseline_hit.hit_20 = hits_20"
   ]
  },
  {
   "cell_type": "code",
   "execution_count": 101,
   "id": "1da5bb4e",
   "metadata": {},
   "outputs": [
    {
     "data": {
      "text/html": [
       "<div>\n",
       "<style scoped>\n",
       "    .dataframe tbody tr th:only-of-type {\n",
       "        vertical-align: middle;\n",
       "    }\n",
       "\n",
       "    .dataframe tbody tr th {\n",
       "        vertical-align: top;\n",
       "    }\n",
       "\n",
       "    .dataframe thead th {\n",
       "        text-align: right;\n",
       "    }\n",
       "</style>\n",
       "<table border=\"1\" class=\"dataframe\">\n",
       "  <thead>\n",
       "    <tr style=\"text-align: right;\">\n",
       "      <th></th>\n",
       "      <th>model</th>\n",
       "      <th>hit_5</th>\n",
       "      <th>hit_10</th>\n",
       "      <th>hit_20</th>\n",
       "      <th>benchmark</th>\n",
       "    </tr>\n",
       "  </thead>\n",
       "  <tbody>\n",
       "    <tr>\n",
       "      <th>0</th>\n",
       "      <td>logreg</td>\n",
       "      <td>0.875404</td>\n",
       "      <td>0.880786</td>\n",
       "      <td>0.895856</td>\n",
       "      <td>ranking_data_random</td>\n",
       "    </tr>\n",
       "    <tr>\n",
       "      <th>1</th>\n",
       "      <td>dt</td>\n",
       "      <td>0.887513</td>\n",
       "      <td>0.887513</td>\n",
       "      <td>0.889128</td>\n",
       "      <td>ranking_data_random</td>\n",
       "    </tr>\n",
       "    <tr>\n",
       "      <th>2</th>\n",
       "      <td>xgbt</td>\n",
       "      <td>1.000000</td>\n",
       "      <td>1.000000</td>\n",
       "      <td>1.000000</td>\n",
       "      <td>ranking_data_random</td>\n",
       "    </tr>\n",
       "    <tr>\n",
       "      <th>3</th>\n",
       "      <td>nb</td>\n",
       "      <td>0.877826</td>\n",
       "      <td>0.887513</td>\n",
       "      <td>0.902853</td>\n",
       "      <td>ranking_data_random</td>\n",
       "    </tr>\n",
       "    <tr>\n",
       "      <th>4</th>\n",
       "      <td>ada</td>\n",
       "      <td>0.874327</td>\n",
       "      <td>0.880517</td>\n",
       "      <td>0.896125</td>\n",
       "      <td>ranking_data_random</td>\n",
       "    </tr>\n",
       "    <tr>\n",
       "      <th>5</th>\n",
       "      <td>lda</td>\n",
       "      <td>0.874865</td>\n",
       "      <td>0.880786</td>\n",
       "      <td>0.895318</td>\n",
       "      <td>ranking_data_random</td>\n",
       "    </tr>\n",
       "    <tr>\n",
       "      <th>6</th>\n",
       "      <td>qda</td>\n",
       "      <td>0.874865</td>\n",
       "      <td>0.880786</td>\n",
       "      <td>0.895318</td>\n",
       "      <td>ranking_data_random</td>\n",
       "    </tr>\n",
       "    <tr>\n",
       "      <th>7</th>\n",
       "      <td>logreg</td>\n",
       "      <td>0.000000</td>\n",
       "      <td>0.000000</td>\n",
       "      <td>0.000000</td>\n",
       "      <td>evaluation_knn_tidif</td>\n",
       "    </tr>\n",
       "    <tr>\n",
       "      <th>8</th>\n",
       "      <td>dt</td>\n",
       "      <td>0.000000</td>\n",
       "      <td>0.000000</td>\n",
       "      <td>0.000000</td>\n",
       "      <td>evaluation_knn_tidif</td>\n",
       "    </tr>\n",
       "    <tr>\n",
       "      <th>9</th>\n",
       "      <td>xgbt</td>\n",
       "      <td>0.000000</td>\n",
       "      <td>0.000000</td>\n",
       "      <td>0.000000</td>\n",
       "      <td>evaluation_knn_tidif</td>\n",
       "    </tr>\n",
       "    <tr>\n",
       "      <th>10</th>\n",
       "      <td>nb</td>\n",
       "      <td>0.000000</td>\n",
       "      <td>0.000000</td>\n",
       "      <td>0.000000</td>\n",
       "      <td>evaluation_knn_tidif</td>\n",
       "    </tr>\n",
       "    <tr>\n",
       "      <th>11</th>\n",
       "      <td>ada</td>\n",
       "      <td>0.000000</td>\n",
       "      <td>0.000000</td>\n",
       "      <td>0.000000</td>\n",
       "      <td>evaluation_knn_tidif</td>\n",
       "    </tr>\n",
       "    <tr>\n",
       "      <th>12</th>\n",
       "      <td>lda</td>\n",
       "      <td>0.000000</td>\n",
       "      <td>0.000000</td>\n",
       "      <td>0.000000</td>\n",
       "      <td>evaluation_knn_tidif</td>\n",
       "    </tr>\n",
       "    <tr>\n",
       "      <th>13</th>\n",
       "      <td>qda</td>\n",
       "      <td>0.000000</td>\n",
       "      <td>0.000000</td>\n",
       "      <td>0.000000</td>\n",
       "      <td>evaluation_knn_tidif</td>\n",
       "    </tr>\n",
       "    <tr>\n",
       "      <th>14</th>\n",
       "      <td>logreg</td>\n",
       "      <td>0.875404</td>\n",
       "      <td>0.880786</td>\n",
       "      <td>0.895856</td>\n",
       "      <td>actual_test_interaction</td>\n",
       "    </tr>\n",
       "    <tr>\n",
       "      <th>15</th>\n",
       "      <td>dt</td>\n",
       "      <td>0.887513</td>\n",
       "      <td>0.887513</td>\n",
       "      <td>0.889128</td>\n",
       "      <td>actual_test_interaction</td>\n",
       "    </tr>\n",
       "    <tr>\n",
       "      <th>16</th>\n",
       "      <td>xgbt</td>\n",
       "      <td>1.000000</td>\n",
       "      <td>1.000000</td>\n",
       "      <td>1.000000</td>\n",
       "      <td>actual_test_interaction</td>\n",
       "    </tr>\n",
       "    <tr>\n",
       "      <th>17</th>\n",
       "      <td>nb</td>\n",
       "      <td>0.877826</td>\n",
       "      <td>0.887513</td>\n",
       "      <td>0.902853</td>\n",
       "      <td>actual_test_interaction</td>\n",
       "    </tr>\n",
       "    <tr>\n",
       "      <th>18</th>\n",
       "      <td>lda</td>\n",
       "      <td>0.874865</td>\n",
       "      <td>0.880786</td>\n",
       "      <td>0.895318</td>\n",
       "      <td>actual_test_interaction</td>\n",
       "    </tr>\n",
       "    <tr>\n",
       "      <th>19</th>\n",
       "      <td>qda</td>\n",
       "      <td>0.877287</td>\n",
       "      <td>0.886437</td>\n",
       "      <td>0.905544</td>\n",
       "      <td>actual_test_interaction</td>\n",
       "    </tr>\n",
       "    <tr>\n",
       "      <th>20</th>\n",
       "      <td>logreg</td>\n",
       "      <td>0.875404</td>\n",
       "      <td>0.880786</td>\n",
       "      <td>0.895856</td>\n",
       "      <td>all_interaction_data</td>\n",
       "    </tr>\n",
       "    <tr>\n",
       "      <th>21</th>\n",
       "      <td>dt</td>\n",
       "      <td>0.887513</td>\n",
       "      <td>0.887513</td>\n",
       "      <td>0.889128</td>\n",
       "      <td>all_interaction_data</td>\n",
       "    </tr>\n",
       "    <tr>\n",
       "      <th>22</th>\n",
       "      <td>xgbt</td>\n",
       "      <td>1.000000</td>\n",
       "      <td>1.000000</td>\n",
       "      <td>1.000000</td>\n",
       "      <td>all_interaction_data</td>\n",
       "    </tr>\n",
       "    <tr>\n",
       "      <th>23</th>\n",
       "      <td>nb</td>\n",
       "      <td>0.877826</td>\n",
       "      <td>0.887513</td>\n",
       "      <td>0.902853</td>\n",
       "      <td>all_interaction_data</td>\n",
       "    </tr>\n",
       "    <tr>\n",
       "      <th>24</th>\n",
       "      <td>lda</td>\n",
       "      <td>0.874865</td>\n",
       "      <td>0.880786</td>\n",
       "      <td>0.895318</td>\n",
       "      <td>all_interaction_data</td>\n",
       "    </tr>\n",
       "    <tr>\n",
       "      <th>25</th>\n",
       "      <td>qda</td>\n",
       "      <td>0.877287</td>\n",
       "      <td>0.886437</td>\n",
       "      <td>0.905544</td>\n",
       "      <td>all_interaction_data</td>\n",
       "    </tr>\n",
       "  </tbody>\n",
       "</table>\n",
       "</div>"
      ],
      "text/plain": [
       "     model     hit_5    hit_10    hit_20                benchmark\n",
       "0   logreg  0.875404  0.880786  0.895856      ranking_data_random\n",
       "1       dt  0.887513  0.887513  0.889128      ranking_data_random\n",
       "2     xgbt  1.000000  1.000000  1.000000      ranking_data_random\n",
       "3       nb  0.877826  0.887513  0.902853      ranking_data_random\n",
       "4      ada  0.874327  0.880517  0.896125      ranking_data_random\n",
       "5      lda  0.874865  0.880786  0.895318      ranking_data_random\n",
       "6      qda  0.874865  0.880786  0.895318      ranking_data_random\n",
       "7   logreg  0.000000  0.000000  0.000000     evaluation_knn_tidif\n",
       "8       dt  0.000000  0.000000  0.000000     evaluation_knn_tidif\n",
       "9     xgbt  0.000000  0.000000  0.000000     evaluation_knn_tidif\n",
       "10      nb  0.000000  0.000000  0.000000     evaluation_knn_tidif\n",
       "11     ada  0.000000  0.000000  0.000000     evaluation_knn_tidif\n",
       "12     lda  0.000000  0.000000  0.000000     evaluation_knn_tidif\n",
       "13     qda  0.000000  0.000000  0.000000     evaluation_knn_tidif\n",
       "14  logreg  0.875404  0.880786  0.895856  actual_test_interaction\n",
       "15      dt  0.887513  0.887513  0.889128  actual_test_interaction\n",
       "16    xgbt  1.000000  1.000000  1.000000  actual_test_interaction\n",
       "17      nb  0.877826  0.887513  0.902853  actual_test_interaction\n",
       "18     lda  0.874865  0.880786  0.895318  actual_test_interaction\n",
       "19     qda  0.877287  0.886437  0.905544  actual_test_interaction\n",
       "20  logreg  0.875404  0.880786  0.895856     all_interaction_data\n",
       "21      dt  0.887513  0.887513  0.889128     all_interaction_data\n",
       "22    xgbt  1.000000  1.000000  1.000000     all_interaction_data\n",
       "23      nb  0.877826  0.887513  0.902853     all_interaction_data\n",
       "24     lda  0.874865  0.880786  0.895318     all_interaction_data\n",
       "25     qda  0.877287  0.886437  0.905544     all_interaction_data"
      ]
     },
     "execution_count": 101,
     "metadata": {},
     "output_type": "execute_result"
    }
   ],
   "source": [
    "baseline_hit"
   ]
  },
  {
   "cell_type": "code",
   "execution_count": 120,
   "id": "10b26b03",
   "metadata": {},
   "outputs": [],
   "source": [
    "baseline_hit.to_csv('./output_topN_tabular/hit_rate_tfidf_ranking_random.csv', header=True, index=False)"
   ]
  }
 ],
 "metadata": {
  "kernelspec": {
   "display_name": "Python",
   "language": "python",
   "name": "python3"
  },
  "language_info": {
   "codemirror_mode": {
    "name": "ipython",
    "version": 3
   },
   "file_extension": ".py",
   "mimetype": "text/x-python",
   "name": "python",
   "nbconvert_exporter": "python",
   "pygments_lexer": "ipython3",
   "version": "3.8.10"
  }
 },
 "nbformat": 4,
 "nbformat_minor": 5
}
