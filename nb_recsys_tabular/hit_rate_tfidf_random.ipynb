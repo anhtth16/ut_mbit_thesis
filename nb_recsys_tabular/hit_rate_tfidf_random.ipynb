{
 "cells": [
  {
   "cell_type": "markdown",
   "id": "9c1f2377-8722-4575-9ffd-87c3b1b35eab",
   "metadata": {},
   "source": [
    "# Calculate hit_rate\n",
    "## Model: White-box & Ensemble blackbox recsys (trained on flat TF-IDF tabular features)\n",
    "## Source of potential applications: random_ranking_data\n",
    "- Models:\n",
    "    - White-box: logreg, dt, nb\n",
    "    - Ensemble/ White-box: xgbt, ada, lda, qda\n",
    "- Evaluation data: 4 dataset:\n",
    "    - ranking_data_random\n",
    "    - knn_tfidf_ranking_data (v2)\n",
    "    - test interaction\n",
    "    - all interaction"
   ]
  },
  {
   "cell_type": "code",
   "execution_count": 1,
   "id": "eb473a5a-cd42-4006-bf6c-af1423dd71e9",
   "metadata": {},
   "outputs": [],
   "source": [
    "import numpy as np\n",
    "import pandas as pd"
   ]
  },
  {
   "cell_type": "code",
   "execution_count": 2,
   "id": "abdf83d6-59f2-44b9-b0e4-24c109f7c652",
   "metadata": {},
   "outputs": [],
   "source": [
    "import warnings\n",
    "warnings.filterwarnings('ignore')"
   ]
  },
  {
   "cell_type": "code",
   "execution_count": 3,
   "id": "57c8e4d0-3876-44a5-8359-0acbedf38cb4",
   "metadata": {},
   "outputs": [
    {
     "name": "stdout",
     "output_type": "stream",
     "text": [
      "Working directory: /home/jovyan/1_UT THESIS/CB12_MAIN/nb_recsys_tfidf_vector\n"
     ]
    }
   ],
   "source": [
    "# Run this for reproduce\n",
    "# Gets the current working directory\n",
    "import os\n",
    "cwd = os.getcwd()\n",
    "print(\"Working directory:\", cwd)\n",
    "# Go up one directory from working directory\n",
    "os.chdir(\"..\")"
   ]
  },
  {
   "cell_type": "code",
   "execution_count": 4,
   "id": "7ff37b86-cab0-407f-b216-1f68075fc850",
   "metadata": {},
   "outputs": [],
   "source": [
    "# Load evaluation data (by knn_tfidf)\n",
    "evaluation_data = pd.read_csv('./nb_recsys_tfidf_vector/evaluation_knn_tfidf_v2.csv')"
   ]
  },
  {
   "cell_type": "code",
   "execution_count": 5,
   "id": "44d99819-b807-42de-ac59-ba70173c4b6d",
   "metadata": {},
   "outputs": [
    {
     "name": "stdout",
     "output_type": "stream",
     "text": [
      "<class 'pandas.core.frame.DataFrame'>\n",
      "RangeIndex: 371600 entries, 0 to 371599\n",
      "Data columns (total 6 columns):\n",
      " #   Column   Non-Null Count   Dtype  \n",
      "---  ------   --------------   -----  \n",
      " 0   UserID   371600 non-null  int64  \n",
      " 1   JobID    371600 non-null  int64  \n",
      " 2   label    371600 non-null  int64  \n",
      " 3   City     371600 non-null  float64\n",
      " 4   State    371600 non-null  float64\n",
      " 5   Country  371600 non-null  float64\n",
      "dtypes: float64(3), int64(3)\n",
      "memory usage: 17.0 MB\n"
     ]
    }
   ],
   "source": [
    "evaluation_data.info()"
   ]
  },
  {
   "cell_type": "code",
   "execution_count": 6,
   "id": "9cf5d2a6-7cd7-4921-95e4-9588e1623a3f",
   "metadata": {},
   "outputs": [
    {
     "data": {
      "text/plain": [
       "label\n",
       "0    371426\n",
       "1       174\n",
       "Name: count, dtype: int64"
      ]
     },
     "execution_count": 6,
     "metadata": {},
     "output_type": "execute_result"
    }
   ],
   "source": [
    "evaluation_data.label.value_counts()"
   ]
  },
  {
   "cell_type": "code",
   "execution_count": 7,
   "id": "4bf047b1-f3d7-4ac5-85ee-3dfd41cb4edd",
   "metadata": {},
   "outputs": [
    {
     "data": {
      "text/plain": [
       "label\n",
       "0    367884\n",
       "1      3716\n",
       "Name: count, dtype: int64"
      ]
     },
     "execution_count": 7,
     "metadata": {},
     "output_type": "execute_result"
    }
   ],
   "source": [
    "# Load ranking_data_random\n",
    "ranking_data_random = pd.read_csv('./nb_recsys_tfidf_vector/ranking_data_random.csv')\n",
    "ranking_data_random.label.value_counts()"
   ]
  },
  {
   "cell_type": "code",
   "execution_count": 8,
   "id": "b3389bc1",
   "metadata": {},
   "outputs": [],
   "source": [
    "models = []\n",
    "benchmarks = []\n",
    "hits_5 = []\n",
    "hits_10 = []\n",
    "hits_20 = []"
   ]
  },
  {
   "cell_type": "code",
   "execution_count": 9,
   "id": "82b83149-65d7-4842-99eb-28718e4cdef1",
   "metadata": {},
   "outputs": [],
   "source": [
    "def get_hit_rate_at_k(recommendations, rankings, K):\n",
    "    total_users = len(recommendations['UserID'].unique())\n",
    "    hit_count = 0\n",
    "    # mark_stop = 0\n",
    "    for user_id in recommendations['UserID'].unique():\n",
    "        user_recommendations = recommendations[recommendations['UserID'] == user_id]['JobID'].tolist()[:K]\n",
    "        actual_job_ids = rankings[(rankings['UserID'] == user_id) & (rankings['label'] == 1)]['JobID'].tolist()\n",
    "\n",
    "        for rec_job_id in user_recommendations:\n",
    "            if rec_job_id in actual_job_ids:\n",
    "                # print('hit detail UserID, JobID: ', user_id, rec_job_id)\n",
    "                hit_count += 1\n",
    "                break     \n",
    "        # mark_stop =+1\n",
    "        # if mark_stop == 2:\n",
    "        #     break\n",
    "    print('final hit_count:', hit_count)\n",
    "    hit_rate = hit_count / total_users\n",
    "    return hit_rate"
   ]
  },
  {
   "cell_type": "markdown",
   "id": "1c0dd779-02f2-4a6a-af74-3cfd8c108f10",
   "metadata": {},
   "source": [
    "# Load topN recommendatin result (already processed into dataframe)"
   ]
  },
  {
   "cell_type": "code",
   "execution_count": 10,
   "id": "38ebaee8-3b3e-4da6-afb6-e15c5d940139",
   "metadata": {},
   "outputs": [],
   "source": [
    "logreg_recommendations = pd.read_csv('./output_topN_tabular/rec_result_logreg_random_ranking.csv')\n",
    "dt_recommendations = pd.read_csv('./output_topN_tabular/rec_result_dt_random_ranking.csv')\n",
    "nb_recommendations = pd.read_csv('./output_topN_tabular/rec_result_nb_random_ranking.csv')\n",
    "xgbt_recommendations = pd.read_csv('./output_topN_tabular/rec_result_xgbt_random_ranking.csv')\n",
    "lda_recommendations = pd.read_csv('./output_topN_tabular/rec_result_lda_random_ranking.csv')\n",
    "qda_recommendations = pd.read_csv('./output_topN_tabular/rec_result_qda_random_ranking.csv')"
   ]
  },
  {
   "cell_type": "code",
   "execution_count": 27,
   "id": "853171d0-7619-4e86-b9fd-952a0956c069",
   "metadata": {},
   "outputs": [],
   "source": [
    "ada_recommendations = pd.read_csv('./output_topN_tabular/rec_result_ada_random_ranking.csv')"
   ]
  },
  {
   "cell_type": "markdown",
   "id": "216ce01f-fe97-4236-9706-12c4fce30adb",
   "metadata": {
    "tags": []
   },
   "source": [
    "# Calculate hit rate using benchmark data: random ranking data"
   ]
  },
  {
   "cell_type": "code",
   "execution_count": 11,
   "id": "dfb1830e-e04f-49ea-b89e-3abf4b614517",
   "metadata": {},
   "outputs": [],
   "source": [
    "benchmark = 'ranking_data_random'"
   ]
  },
  {
   "cell_type": "markdown",
   "id": "2a44d055-8d67-412e-9b75-e55aa86e48e5",
   "metadata": {},
   "source": [
    "## Model: logreg"
   ]
  },
  {
   "cell_type": "code",
   "execution_count": 12,
   "id": "9dfd4880-4299-407b-a014-60c997ff67f6",
   "metadata": {},
   "outputs": [],
   "source": [
    "model = 'logreg'"
   ]
  },
  {
   "cell_type": "code",
   "execution_count": 13,
   "id": "eabf1a0a-f78a-45a1-ab29-b0627ef8905b",
   "metadata": {},
   "outputs": [
    {
     "name": "stdout",
     "output_type": "stream",
     "text": [
      "final hit_count: 3253\n",
      "Model: logreg - Hit rate at 5: 0.8754036598493004\n",
      "final hit_count: 3273\n",
      "Model: logreg - Hit rate at 10: 0.8807857911733046\n",
      "final hit_count: 3329\n",
      "Model: logreg - Hit rate at 20: 0.8958557588805167\n",
      "CPU times: user 12.5 s, sys: 19.9 ms, total: 12.5 s\n",
      "Wall time: 12.5 s\n"
     ]
    }
   ],
   "source": [
    "%%time\n",
    "# Calculate hit rate at K (precision at K)\n",
    "k = 5  # Set the desired value of K\n",
    "hit_5 = get_hit_rate_at_k(recommendations = logreg_recommendations, \n",
    "                                   rankings = ranking_data_random, \n",
    "                                   K=k)\n",
    "print(f\"Model: {model} - Hit rate at {k}: {hit_5}\")\n",
    "\n",
    "k = 10  # Set the desired value of K\n",
    "hit_10 = get_hit_rate_at_k(recommendations = logreg_recommendations, \n",
    "                                   rankings = ranking_data_random, \n",
    "                                   K=k)\n",
    "print(f\"Model: {model} - Hit rate at {k}: {hit_10}\")\n",
    "\n",
    "k = 20  # Set the desired value of K\n",
    "hit_20 = get_hit_rate_at_k(recommendations = logreg_recommendations, \n",
    "                                   rankings = ranking_data_random, \n",
    "                                   K=k)\n",
    "print(f\"Model: {model} - Hit rate at {k}: {hit_20}\")"
   ]
  },
  {
   "cell_type": "code",
   "execution_count": 14,
   "id": "eb85bb3a-5724-465b-844c-76e26e616394",
   "metadata": {},
   "outputs": [],
   "source": [
    "models.append(model)\n",
    "benchmarks.append(benchmark)\n",
    "hits_5.append(hit_5)\n",
    "hits_10.append(hit_10)\n",
    "hits_20.append(hit_20)"
   ]
  },
  {
   "cell_type": "markdown",
   "id": "bfaba9cc-04bb-440b-8eb8-d2d5e2c15d54",
   "metadata": {},
   "source": [
    "## Model: 'dt'"
   ]
  },
  {
   "cell_type": "code",
   "execution_count": 15,
   "id": "abc421d0-d0ff-48a5-93a6-a0bc43451feb",
   "metadata": {},
   "outputs": [],
   "source": [
    "model = 'dt'"
   ]
  },
  {
   "cell_type": "code",
   "execution_count": 16,
   "id": "0596ad5a-88ac-42b9-a8db-b8bb5fcd6477",
   "metadata": {},
   "outputs": [
    {
     "name": "stdout",
     "output_type": "stream",
     "text": [
      "final hit_count: 3298\n",
      "Model: dt - Hit rate at 5: 0.88751345532831\n",
      "final hit_count: 3298\n",
      "Model: dt - Hit rate at 10: 0.88751345532831\n",
      "final hit_count: 3304\n",
      "Model: dt - Hit rate at 20: 0.8891280947255114\n",
      "CPU times: user 12.4 s, sys: 7.32 ms, total: 12.4 s\n",
      "Wall time: 12.4 s\n"
     ]
    }
   ],
   "source": [
    "%%time\n",
    "# Calculate hit rate at K (precision at K)\n",
    "k = 5  # Set the desired value of K\n",
    "hit_5 = get_hit_rate_at_k(recommendations = dt_recommendations, \n",
    "                                   rankings = ranking_data_random, \n",
    "                                   K=k)\n",
    "print(f\"Model: {model} - Hit rate at {k}: {hit_5}\")\n",
    "\n",
    "k = 10  # Set the desired value of K\n",
    "hit_10 = get_hit_rate_at_k(recommendations = dt_recommendations, \n",
    "                                   rankings = ranking_data_random, \n",
    "                                   K=k)\n",
    "print(f\"Model: {model} - Hit rate at {k}: {hit_10}\")\n",
    "\n",
    "k = 20  # Set the desired value of K\n",
    "hit_20 = get_hit_rate_at_k(recommendations = dt_recommendations, \n",
    "                                   rankings = ranking_data_random, \n",
    "                                   K=k)\n",
    "print(f\"Model: {model} - Hit rate at {k}: {hit_20}\")"
   ]
  },
  {
   "cell_type": "code",
   "execution_count": 17,
   "id": "19f25bd7-544d-4dee-8686-5251346244b8",
   "metadata": {},
   "outputs": [],
   "source": [
    "models.append(model)\n",
    "benchmarks.append(benchmark)\n",
    "hits_5.append(hit_5)\n",
    "hits_10.append(hit_10)\n",
    "hits_20.append(hit_20)"
   ]
  },
  {
   "cell_type": "markdown",
   "id": "145cbf2f-7903-4ebb-90c0-afa3a74ddf28",
   "metadata": {},
   "source": [
    "## Model: XGBoost"
   ]
  },
  {
   "cell_type": "code",
   "execution_count": 18,
   "id": "8e21bb34-041d-4b74-b9dd-e1fe6e3059aa",
   "metadata": {},
   "outputs": [],
   "source": [
    "model = 'xgbt'"
   ]
  },
  {
   "cell_type": "code",
   "execution_count": 19,
   "id": "04cc19a5-d964-453c-80ac-5c93ee8856cd",
   "metadata": {},
   "outputs": [
    {
     "name": "stdout",
     "output_type": "stream",
     "text": [
      "final hit_count: 3716\n",
      "Model: xgbt - Hit rate at 5: 1.0\n",
      "final hit_count: 3716\n",
      "Model: xgbt - Hit rate at 10: 1.0\n",
      "final hit_count: 3716\n",
      "Model: xgbt - Hit rate at 20: 1.0\n",
      "CPU times: user 12.1 s, sys: 11.9 ms, total: 12.1 s\n",
      "Wall time: 12.1 s\n"
     ]
    }
   ],
   "source": [
    "%%time\n",
    "\n",
    "\n",
    "# Calculate hit rate at K (precision at K)\n",
    "k = 5  # Set the desired value of K\n",
    "hit_5 = get_hit_rate_at_k(recommendations = xgbt_recommendations, \n",
    "                                   rankings = ranking_data_random, \n",
    "                                   K=k)\n",
    "print(f\"Model: {model} - Hit rate at {k}: {hit_5}\")\n",
    "\n",
    "k = 10  # Set the desired value of K\n",
    "hit_10 = get_hit_rate_at_k(recommendations = xgbt_recommendations, \n",
    "                                   rankings = ranking_data_random, \n",
    "                                   K=k)\n",
    "print(f\"Model: {model} - Hit rate at {k}: {hit_10}\")\n",
    "\n",
    "k = 20  # Set the desired value of K\n",
    "hit_20 = get_hit_rate_at_k(recommendations = xgbt_recommendations, \n",
    "                                   rankings = ranking_data_random, \n",
    "                                   K=k)\n",
    "print(f\"Model: {model} - Hit rate at {k}: {hit_20}\")"
   ]
  },
  {
   "cell_type": "code",
   "execution_count": 20,
   "id": "a3ee3fe0-613d-4c51-b516-963407a7ebdd",
   "metadata": {},
   "outputs": [],
   "source": [
    "models.append(model)\n",
    "benchmarks.append(benchmark)\n",
    "hits_5.append(hit_5)\n",
    "hits_10.append(hit_10)\n",
    "hits_20.append(hit_20)"
   ]
  },
  {
   "cell_type": "markdown",
   "id": "6f59e629-9e73-46ef-9372-ccd61c604dbe",
   "metadata": {},
   "source": [
    "## Model: Naive Bayes"
   ]
  },
  {
   "cell_type": "code",
   "execution_count": 21,
   "id": "f0bd9ce3-194a-4b8b-901e-7488f015eadf",
   "metadata": {},
   "outputs": [],
   "source": [
    "model = 'nb'"
   ]
  },
  {
   "cell_type": "code",
   "execution_count": 23,
   "id": "4bf83e41-387c-40e2-ae0d-7cfeb0bf95af",
   "metadata": {},
   "outputs": [
    {
     "name": "stdout",
     "output_type": "stream",
     "text": [
      "final hit_count: 3262\n",
      "Model: nb - Hit rate at 5: 0.8778256189451022\n",
      "final hit_count: 3298\n",
      "Model: nb - Hit rate at 10: 0.88751345532831\n",
      "final hit_count: 3355\n",
      "Model: nb - Hit rate at 20: 0.9028525296017222\n",
      "CPU times: user 12.2 s, sys: 3.37 ms, total: 12.2 s\n",
      "Wall time: 12.2 s\n"
     ]
    }
   ],
   "source": [
    "%%time\n",
    "\n",
    "# Calculate hit rate at K (precision at K)\n",
    "k = 5  # Set the desired value of K\n",
    "hit_5 = get_hit_rate_at_k(recommendations = nb_recommendations, \n",
    "                                   rankings = ranking_data_random, \n",
    "                                   K=k)\n",
    "print(f\"Model: {model} - Hit rate at {k}: {hit_5}\")\n",
    "\n",
    "k = 10  # Set the desired value of K\n",
    "hit_10 = get_hit_rate_at_k(recommendations = nb_recommendations, \n",
    "                                   rankings = ranking_data_random, \n",
    "                                   K=k)\n",
    "print(f\"Model: {model} - Hit rate at {k}: {hit_10}\")\n",
    "\n",
    "k = 20  # Set the desired value of K\n",
    "hit_20 = get_hit_rate_at_k(recommendations = nb_recommendations, \n",
    "                                   rankings = ranking_data_random, \n",
    "                                   K=k)\n",
    "print(f\"Model: {model} - Hit rate at {k}: {hit_20}\")"
   ]
  },
  {
   "cell_type": "code",
   "execution_count": 24,
   "id": "286df1c2-8385-44bd-9796-de4f3fe86766",
   "metadata": {},
   "outputs": [],
   "source": [
    "models.append(model)\n",
    "benchmarks.append(benchmark)\n",
    "hits_5.append(hit_5)\n",
    "hits_10.append(hit_10)\n",
    "hits_20.append(hit_20)"
   ]
  },
  {
   "cell_type": "markdown",
   "id": "28b1e3e5-4274-4d1f-ae88-325c64d31d89",
   "metadata": {},
   "source": [
    "## Model: AdaBoost"
   ]
  },
  {
   "cell_type": "code",
   "execution_count": 25,
   "id": "e6a4c34d-49e7-48c6-9867-22a129f6f675",
   "metadata": {},
   "outputs": [],
   "source": [
    "model = 'ada'"
   ]
  },
  {
   "cell_type": "code",
   "execution_count": 28,
   "id": "7a001cc4-a2d5-4523-aa5e-666bfe658253",
   "metadata": {},
   "outputs": [
    {
     "name": "stdout",
     "output_type": "stream",
     "text": [
      "final hit_count: 3249\n",
      "Model: ada - Hit rate at 5: 0.8743272335844995\n",
      "final hit_count: 3272\n",
      "Model: ada - Hit rate at 10: 0.8805166846071044\n",
      "final hit_count: 3330\n",
      "Model: ada - Hit rate at 20: 0.8961248654467169\n",
      "CPU times: user 12.4 s, sys: 12 ms, total: 12.4 s\n",
      "Wall time: 12.4 s\n"
     ]
    }
   ],
   "source": [
    "%%time\n",
    "\n",
    "# Calculate hit rate at K (precision at K)\n",
    "k = 5  # Set the desired value of K\n",
    "hit_5 = get_hit_rate_at_k(recommendations = ada_recommendations, \n",
    "                                   rankings = ranking_data_random, \n",
    "                                   K=k)\n",
    "print(f\"Model: {model} - Hit rate at {k}: {hit_5}\")\n",
    "\n",
    "k = 10  # Set the desired value of K\n",
    "hit_10 = get_hit_rate_at_k(recommendations = ada_recommendations, \n",
    "                                   rankings = ranking_data_random, \n",
    "                                   K=k)\n",
    "print(f\"Model: {model} - Hit rate at {k}: {hit_10}\")\n",
    "\n",
    "k = 20  # Set the desired value of K\n",
    "hit_20 = get_hit_rate_at_k(recommendations = ada_recommendations, \n",
    "                                   rankings = ranking_data_random, \n",
    "                                   K=k)\n",
    "print(f\"Model: {model} - Hit rate at {k}: {hit_20}\")"
   ]
  },
  {
   "cell_type": "code",
   "execution_count": 29,
   "id": "b22ca743-4650-4959-9cac-ee55209fe38f",
   "metadata": {},
   "outputs": [],
   "source": [
    "models.append(model)\n",
    "benchmarks.append(benchmark)\n",
    "hits_5.append(hit_5)\n",
    "hits_10.append(hit_10)\n",
    "hits_20.append(hit_20)"
   ]
  },
  {
   "cell_type": "markdown",
   "id": "d2d16182-8633-421d-97e3-919f0c5e2d54",
   "metadata": {},
   "source": [
    "## Model: lda"
   ]
  },
  {
   "cell_type": "code",
   "execution_count": 30,
   "id": "4e81c940-8eb3-4661-be44-25b89e0bf76d",
   "metadata": {},
   "outputs": [],
   "source": [
    "model = 'lda'"
   ]
  },
  {
   "cell_type": "code",
   "execution_count": 31,
   "id": "ab995537-f751-4644-ab90-e7df8eac2ddc",
   "metadata": {},
   "outputs": [
    {
     "name": "stdout",
     "output_type": "stream",
     "text": [
      "final hit_count: 3251\n",
      "Model: lda - Hit rate at 5: 0.8748654467168999\n",
      "final hit_count: 3273\n",
      "Model: lda - Hit rate at 10: 0.8807857911733046\n",
      "final hit_count: 3327\n",
      "Model: lda - Hit rate at 20: 0.8953175457481163\n",
      "CPU times: user 12.5 s, sys: 15.9 ms, total: 12.5 s\n",
      "Wall time: 12.5 s\n"
     ]
    }
   ],
   "source": [
    "%%time\n",
    "# Calculate hit rate at K (precision at K)\n",
    "k = 5  # Set the desired value of K\n",
    "hit_5 = get_hit_rate_at_k(recommendations = lda_recommendations, \n",
    "                                   rankings = ranking_data_random, \n",
    "                                   K=k)\n",
    "print(f\"Model: {model} - Hit rate at {k}: {hit_5}\")\n",
    "\n",
    "k = 10  # Set the desired value of K\n",
    "hit_10 = get_hit_rate_at_k(recommendations = lda_recommendations, \n",
    "                                   rankings = ranking_data_random, \n",
    "                                   K=k)\n",
    "print(f\"Model: {model} - Hit rate at {k}: {hit_10}\")\n",
    "\n",
    "k = 20  # Set the desired value of K\n",
    "hit_20 = get_hit_rate_at_k(recommendations = lda_recommendations, \n",
    "                                   rankings = ranking_data_random, \n",
    "                                   K=k)\n",
    "print(f\"Model: {model} - Hit rate at {k}: {hit_20}\")"
   ]
  },
  {
   "cell_type": "code",
   "execution_count": 32,
   "id": "fa18745e-5508-4422-912a-2f5b7e3591a5",
   "metadata": {},
   "outputs": [],
   "source": [
    "models.append(model)\n",
    "benchmarks.append(benchmark)\n",
    "hits_5.append(hit_5)\n",
    "hits_10.append(hit_10)\n",
    "hits_20.append(hit_20)"
   ]
  },
  {
   "cell_type": "markdown",
   "id": "2859155e-b7ea-4337-a73a-73dfc24a6d22",
   "metadata": {},
   "source": [
    "## Model: qda"
   ]
  },
  {
   "cell_type": "code",
   "execution_count": 33,
   "id": "58174c2b-1579-46f8-ae03-c1a6f683f59b",
   "metadata": {},
   "outputs": [],
   "source": [
    "model = 'qda'"
   ]
  },
  {
   "cell_type": "code",
   "execution_count": 34,
   "id": "1c2b1f32-3834-485c-9895-44228e3921f8",
   "metadata": {},
   "outputs": [
    {
     "name": "stdout",
     "output_type": "stream",
     "text": [
      "final hit_count: 3251\n",
      "Model: qda - Hit rate at 5: 0.8748654467168999\n",
      "final hit_count: 3273\n",
      "Model: qda - Hit rate at 10: 0.8807857911733046\n",
      "final hit_count: 3327\n",
      "Model: qda - Hit rate at 20: 0.8953175457481163\n",
      "CPU times: user 12.2 s, sys: 0 ns, total: 12.2 s\n",
      "Wall time: 12.2 s\n"
     ]
    }
   ],
   "source": [
    "%%time\n",
    "\n",
    "# Calculate hit rate at K (precision at K)\n",
    "k = 5  # Set the desired value of K\n",
    "hit_5 = get_hit_rate_at_k(recommendations = lda_recommendations, \n",
    "                                   rankings = ranking_data_random, \n",
    "                                   K=k)\n",
    "print(f\"Model: {model} - Hit rate at {k}: {hit_5}\")\n",
    "\n",
    "k = 10  # Set the desired value of K\n",
    "hit_10 = get_hit_rate_at_k(recommendations = lda_recommendations, \n",
    "                                   rankings = ranking_data_random, \n",
    "                                   K=k)\n",
    "print(f\"Model: {model} - Hit rate at {k}: {hit_10}\")\n",
    "\n",
    "k = 20  # Set the desired value of K\n",
    "hit_20 = get_hit_rate_at_k(recommendations = lda_recommendations, \n",
    "                                   rankings = ranking_data_random, \n",
    "                                   K=k)\n",
    "print(f\"Model: {model} - Hit rate at {k}: {hit_20}\")"
   ]
  },
  {
   "cell_type": "code",
   "execution_count": 35,
   "id": "f584fbfb-7202-4a95-8a12-72db9c92bb84",
   "metadata": {},
   "outputs": [],
   "source": [
    "models.append(model)\n",
    "benchmarks.append(benchmark)\n",
    "hits_5.append(hit_5)\n",
    "hits_10.append(hit_10)\n",
    "hits_20.append(hit_20)"
   ]
  },
  {
   "cell_type": "markdown",
   "id": "ceeb29fa",
   "metadata": {},
   "source": [
    "# Calculate hit rate using benchmark data: evaluation_data"
   ]
  },
  {
   "cell_type": "code",
   "execution_count": 36,
   "id": "b13f7dc4",
   "metadata": {},
   "outputs": [],
   "source": [
    "benchmark = 'ranking_knn_tidif'"
   ]
  },
  {
   "cell_type": "markdown",
   "id": "71440fa7-4939-401b-b2fd-c492ad298cf6",
   "metadata": {
    "tags": []
   },
   "source": [
    "## Model: logreg"
   ]
  },
  {
   "cell_type": "code",
   "execution_count": 37,
   "id": "03f34dc1-2aee-4e90-a8c3-4b565a1b2989",
   "metadata": {},
   "outputs": [],
   "source": [
    "model = 'logreg'"
   ]
  },
  {
   "cell_type": "code",
   "execution_count": 38,
   "id": "ac89728b-eecc-43ce-8aca-d2ec9790a763",
   "metadata": {},
   "outputs": [
    {
     "name": "stdout",
     "output_type": "stream",
     "text": [
      "final hit_count: 73\n",
      "Model: logreg - Hit rate at 5: 0.019644779332615717\n",
      "final hit_count: 73\n",
      "Model: logreg - Hit rate at 10: 0.019644779332615717\n",
      "final hit_count: 76\n",
      "Model: logreg - Hit rate at 20: 0.02045209903121636\n",
      "CPU times: user 12.2 s, sys: 11.7 ms, total: 12.3 s\n",
      "Wall time: 12.2 s\n"
     ]
    }
   ],
   "source": [
    "%%time\n",
    "# Calculate hit rate at K (precision at K)\n",
    "k = 5  # Set the desired value of K\n",
    "hit_5 = get_hit_rate_at_k(recommendations = logreg_recommendations, \n",
    "                                   rankings = evaluation_data, \n",
    "                                   K=k)\n",
    "print(f\"Model: {model} - Hit rate at {k}: {hit_5}\")\n",
    "\n",
    "k = 10  # Set the desired value of K\n",
    "hit_10 = get_hit_rate_at_k(recommendations = logreg_recommendations, \n",
    "                                   rankings = evaluation_data, \n",
    "                                   K=k)\n",
    "print(f\"Model: {model} - Hit rate at {k}: {hit_10}\")\n",
    "\n",
    "k = 20  # Set the desired value of K\n",
    "hit_20 = get_hit_rate_at_k(recommendations = logreg_recommendations, \n",
    "                                   rankings = evaluation_data, \n",
    "                                   K=k)\n",
    "print(f\"Model: {model} - Hit rate at {k}: {hit_20}\")"
   ]
  },
  {
   "cell_type": "code",
   "execution_count": 39,
   "id": "a2847fb1",
   "metadata": {},
   "outputs": [],
   "source": [
    "models.append(model)\n",
    "benchmarks.append(benchmark)\n",
    "hits_5.append(hit_5)\n",
    "hits_10.append(hit_10)\n",
    "hits_20.append(hit_20)"
   ]
  },
  {
   "cell_type": "markdown",
   "id": "8cb01f64-927a-4344-9a56-623477a394d7",
   "metadata": {},
   "source": [
    "## Model: dt"
   ]
  },
  {
   "cell_type": "code",
   "execution_count": 40,
   "id": "b7106ba7-f5ed-4b98-84cc-933b000ba747",
   "metadata": {},
   "outputs": [],
   "source": [
    "model = 'dt'"
   ]
  },
  {
   "cell_type": "code",
   "execution_count": 41,
   "id": "5105c184-5e21-4500-ad0c-3dbbc2c9cf17",
   "metadata": {},
   "outputs": [
    {
     "name": "stdout",
     "output_type": "stream",
     "text": [
      "final hit_count: 73\n",
      "Model: dt - Hit rate at 5: 0.019644779332615717\n",
      "final hit_count: 73\n",
      "Model: dt - Hit rate at 10: 0.019644779332615717\n",
      "final hit_count: 73\n",
      "Model: dt - Hit rate at 20: 0.019644779332615717\n",
      "CPU times: user 11.9 s, sys: 3.8 ms, total: 11.9 s\n",
      "Wall time: 11.9 s\n"
     ]
    }
   ],
   "source": [
    "%%time\n",
    "# Calculate hit rate at K (precision at K)\n",
    "k = 5  # Set the desired value of K\n",
    "hit_5 = get_hit_rate_at_k(recommendations = dt_recommendations, \n",
    "                                   rankings = evaluation_data, \n",
    "                                   K=k)\n",
    "print(f\"Model: {model} - Hit rate at {k}: {hit_5}\")\n",
    "\n",
    "k = 10  # Set the desired value of K\n",
    "hit_10 = get_hit_rate_at_k(recommendations = dt_recommendations, \n",
    "                                   rankings = evaluation_data, \n",
    "                                   K=k)\n",
    "print(f\"Model: {model} - Hit rate at {k}: {hit_10}\")\n",
    "\n",
    "k = 20  # Set the desired value of K\n",
    "hit_20 = get_hit_rate_at_k(recommendations = dt_recommendations, \n",
    "                                   rankings = evaluation_data, \n",
    "                                   K=k)\n",
    "print(f\"Model: {model} - Hit rate at {k}: {hit_20}\")"
   ]
  },
  {
   "cell_type": "code",
   "execution_count": 42,
   "id": "f49f3c87",
   "metadata": {},
   "outputs": [],
   "source": [
    "models.append(model)\n",
    "benchmarks.append(benchmark)\n",
    "hits_5.append(hit_5)\n",
    "hits_10.append(hit_10)\n",
    "hits_20.append(hit_20)"
   ]
  },
  {
   "cell_type": "markdown",
   "id": "fdecde2d",
   "metadata": {},
   "source": [
    "## Model: XGBoost (xgbt)"
   ]
  },
  {
   "cell_type": "code",
   "execution_count": 43,
   "id": "e7cda939-9c2b-48b0-a3dd-ed0b8fa220b3",
   "metadata": {},
   "outputs": [
    {
     "name": "stdout",
     "output_type": "stream",
     "text": [
      "final hit_count: 80\n",
      "Model: xgbt - Hit rate at 5: 0.021528525296017224\n",
      "final hit_count: 80\n",
      "Model: xgbt - Hit rate at 10: 0.021528525296017224\n",
      "final hit_count: 80\n",
      "Model: xgbt - Hit rate at 20: 0.021528525296017224\n",
      "CPU times: user 11.9 s, sys: 0 ns, total: 11.9 s\n",
      "Wall time: 11.9 s\n"
     ]
    }
   ],
   "source": [
    "%%time\n",
    "model = 'xgbt'\n",
    "# Calculate hit rate at K (precision at K)\n",
    "k = 5  # Set the desired value of K\n",
    "hit_5 = get_hit_rate_at_k(recommendations = xgbt_recommendations, \n",
    "                                   rankings = evaluation_data, \n",
    "                                   K=k)\n",
    "print(f\"Model: {model} - Hit rate at {k}: {hit_5}\")\n",
    "\n",
    "k = 10  # Set the desired value of K\n",
    "hit_10 = get_hit_rate_at_k(recommendations = xgbt_recommendations, \n",
    "                                   rankings = evaluation_data, \n",
    "                                   K=k)\n",
    "print(f\"Model: {model} - Hit rate at {k}: {hit_10}\")\n",
    "\n",
    "k = 20  # Set the desired value of K\n",
    "hit_20 = get_hit_rate_at_k(recommendations = xgbt_recommendations, \n",
    "                                   rankings = evaluation_data, \n",
    "                                   K=k)\n",
    "print(f\"Model: {model} - Hit rate at {k}: {hit_20}\")"
   ]
  },
  {
   "cell_type": "code",
   "execution_count": 44,
   "id": "33a0294b",
   "metadata": {},
   "outputs": [],
   "source": [
    "models.append(model)\n",
    "benchmarks.append(benchmark)\n",
    "hits_5.append(hit_5)\n",
    "hits_10.append(hit_10)\n",
    "hits_20.append(hit_20)"
   ]
  },
  {
   "cell_type": "markdown",
   "id": "1ac6a9a8",
   "metadata": {},
   "source": [
    "## Model: Naive Bayes"
   ]
  },
  {
   "cell_type": "code",
   "execution_count": 45,
   "id": "208c0eb5",
   "metadata": {},
   "outputs": [
    {
     "name": "stdout",
     "output_type": "stream",
     "text": [
      "final hit_count: 73\n",
      "Model: nb - Hit rate at 5: 0.019644779332615717\n",
      "final hit_count: 73\n",
      "Model: nb - Hit rate at 10: 0.019644779332615717\n",
      "final hit_count: 75\n",
      "Model: nb - Hit rate at 20: 0.020182992465016147\n",
      "CPU times: user 11.9 s, sys: 3.96 ms, total: 11.9 s\n",
      "Wall time: 11.9 s\n"
     ]
    }
   ],
   "source": [
    "%%time\n",
    "model = 'nb'\n",
    "# Calculate hit rate at K (precision at K)\n",
    "k = 5  # Set the desired value of K\n",
    "hit_5 = get_hit_rate_at_k(recommendations = nb_recommendations, \n",
    "                                   rankings = evaluation_data, \n",
    "                                   K=k)\n",
    "print(f\"Model: {model} - Hit rate at {k}: {hit_5}\")\n",
    "\n",
    "k = 10  # Set the desired value of K\n",
    "hit_10 = get_hit_rate_at_k(recommendations = nb_recommendations, \n",
    "                                   rankings = evaluation_data, \n",
    "                                   K=k)\n",
    "print(f\"Model: {model} - Hit rate at {k}: {hit_10}\")\n",
    "\n",
    "k = 20  # Set the desired value of K\n",
    "hit_20 = get_hit_rate_at_k(recommendations = nb_recommendations, \n",
    "                                   rankings = evaluation_data, \n",
    "                                   K=k)\n",
    "print(f\"Model: {model} - Hit rate at {k}: {hit_20}\")"
   ]
  },
  {
   "cell_type": "code",
   "execution_count": 46,
   "id": "b8047595",
   "metadata": {},
   "outputs": [],
   "source": [
    "models.append(model)\n",
    "benchmarks.append(benchmark)\n",
    "hits_5.append(hit_5)\n",
    "hits_10.append(hit_10)\n",
    "hits_20.append(hit_20)"
   ]
  },
  {
   "cell_type": "markdown",
   "id": "d3c95768",
   "metadata": {},
   "source": [
    "## Model: AdaBoost"
   ]
  },
  {
   "cell_type": "code",
   "execution_count": 47,
   "id": "01bab972",
   "metadata": {},
   "outputs": [
    {
     "name": "stdout",
     "output_type": "stream",
     "text": [
      "final hit_count: 75\n",
      "Model: ada - Hit rate at 5: 0.020182992465016147\n",
      "final hit_count: 75\n",
      "Model: ada - Hit rate at 10: 0.020182992465016147\n",
      "final hit_count: 75\n",
      "Model: ada - Hit rate at 20: 0.020182992465016147\n",
      "CPU times: user 11.9 s, sys: 3.5 ms, total: 11.9 s\n",
      "Wall time: 11.9 s\n"
     ]
    }
   ],
   "source": [
    "%%time\n",
    "model = 'ada'\n",
    "\n",
    "# Calculate hit rate at K (precision at K)\n",
    "k = 5  # Set the desired value of K\n",
    "hit_5 = get_hit_rate_at_k(recommendations = ada_recommendations, \n",
    "                                   rankings = evaluation_data, \n",
    "                                   K=k)\n",
    "print(f\"Model: {model} - Hit rate at {k}: {hit_5}\")\n",
    "\n",
    "k = 10  # Set the desired value of K\n",
    "hit_10 = get_hit_rate_at_k(recommendations = ada_recommendations, \n",
    "                                   rankings = evaluation_data, \n",
    "                                   K=k)\n",
    "print(f\"Model: {model} - Hit rate at {k}: {hit_10}\")\n",
    "\n",
    "k = 20  # Set the desired value of K\n",
    "hit_20 = get_hit_rate_at_k(recommendations = ada_recommendations, \n",
    "                                   rankings = evaluation_data, \n",
    "                                   K=k)\n",
    "print(f\"Model: {model} - Hit rate at {k}: {hit_20}\")"
   ]
  },
  {
   "cell_type": "code",
   "execution_count": 48,
   "id": "5ee53882",
   "metadata": {},
   "outputs": [],
   "source": [
    "models.append(model)\n",
    "benchmarks.append(benchmark)\n",
    "hits_5.append(hit_5)\n",
    "hits_10.append(hit_10)\n",
    "hits_20.append(hit_20)"
   ]
  },
  {
   "cell_type": "markdown",
   "id": "6295408b",
   "metadata": {},
   "source": [
    "## Model: lda"
   ]
  },
  {
   "cell_type": "code",
   "execution_count": 49,
   "id": "ae0fddbb",
   "metadata": {},
   "outputs": [
    {
     "name": "stdout",
     "output_type": "stream",
     "text": [
      "final hit_count: 73\n",
      "Model: lda - Hit rate at 5: 0.019644779332615717\n",
      "final hit_count: 74\n",
      "Model: lda - Hit rate at 10: 0.01991388589881593\n",
      "final hit_count: 75\n",
      "Model: lda - Hit rate at 20: 0.020182992465016147\n",
      "CPU times: user 11.9 s, sys: 15.8 ms, total: 11.9 s\n",
      "Wall time: 11.9 s\n"
     ]
    }
   ],
   "source": [
    "%%time\n",
    "model = 'lda'\n",
    "# Calculate hit rate at K (precision at K)\n",
    "k = 5  # Set the desired value of K\n",
    "hit_5 = get_hit_rate_at_k(recommendations = lda_recommendations, \n",
    "                                   rankings = evaluation_data, \n",
    "                                   K=k)\n",
    "print(f\"Model: {model} - Hit rate at {k}: {hit_5}\")\n",
    "\n",
    "k = 10  # Set the desired value of K\n",
    "hit_10 = get_hit_rate_at_k(recommendations = lda_recommendations, \n",
    "                                   rankings = evaluation_data, \n",
    "                                   K=k)\n",
    "print(f\"Model: {model} - Hit rate at {k}: {hit_10}\")\n",
    "\n",
    "k = 20  # Set the desired value of K\n",
    "hit_20 = get_hit_rate_at_k(recommendations = lda_recommendations, \n",
    "                                   rankings = evaluation_data, \n",
    "                                   K=k)\n",
    "print(f\"Model: {model} - Hit rate at {k}: {hit_20}\")"
   ]
  },
  {
   "cell_type": "code",
   "execution_count": 50,
   "id": "6b041928",
   "metadata": {},
   "outputs": [],
   "source": [
    "models.append(model)\n",
    "benchmarks.append(benchmark)\n",
    "hits_5.append(hit_5)\n",
    "hits_10.append(hit_10)\n",
    "hits_20.append(hit_20)"
   ]
  },
  {
   "cell_type": "markdown",
   "id": "6dab408c",
   "metadata": {},
   "source": [
    "## Model: qda"
   ]
  },
  {
   "cell_type": "code",
   "execution_count": 51,
   "id": "f05d1d6f",
   "metadata": {},
   "outputs": [
    {
     "name": "stdout",
     "output_type": "stream",
     "text": [
      "final hit_count: 73\n",
      "Model: qda - Hit rate at 5: 0.019644779332615717\n",
      "final hit_count: 73\n",
      "Model: qda - Hit rate at 10: 0.019644779332615717\n",
      "final hit_count: 77\n",
      "Model: qda - Hit rate at 20: 0.020721205597416577\n",
      "CPU times: user 11.9 s, sys: 3.88 ms, total: 11.9 s\n",
      "Wall time: 11.9 s\n"
     ]
    }
   ],
   "source": [
    "%%time\n",
    "model = 'qda'\n",
    "\n",
    "# Calculate hit rate at K (precision at K)\n",
    "k = 5  # Set the desired value of K\n",
    "hit_5 = get_hit_rate_at_k(recommendations = qda_recommendations, \n",
    "                                   rankings = evaluation_data, \n",
    "                                   K=k)\n",
    "print(f\"Model: {model} - Hit rate at {k}: {hit_5}\")\n",
    "\n",
    "k = 10  # Set the desired value of K\n",
    "hit_10 = get_hit_rate_at_k(recommendations = qda_recommendations, \n",
    "                                   rankings = evaluation_data, \n",
    "                                   K=k)\n",
    "print(f\"Model: {model} - Hit rate at {k}: {hit_10}\")\n",
    "\n",
    "k = 20  # Set the desired value of K\n",
    "hit_20 = get_hit_rate_at_k(recommendations = qda_recommendations, \n",
    "                                   rankings = evaluation_data, \n",
    "                                   K=k)\n",
    "print(f\"Model: {model} - Hit rate at {k}: {hit_20}\")"
   ]
  },
  {
   "cell_type": "code",
   "execution_count": 52,
   "id": "426d37e3",
   "metadata": {},
   "outputs": [],
   "source": [
    "models.append(model)\n",
    "benchmarks.append(benchmark)\n",
    "hits_5.append(hit_5)\n",
    "hits_10.append(hit_10)\n",
    "hits_20.append(hit_20)"
   ]
  },
  {
   "cell_type": "markdown",
   "id": "292b3a25-8bae-48bb-921f-3a868266f8a7",
   "metadata": {
    "tags": []
   },
   "source": [
    "# Calculate hit_rate (manual) - Evaluation data: test_interaction data"
   ]
  },
  {
   "cell_type": "code",
   "execution_count": 53,
   "id": "3a76851b-75d3-47df-b8d4-578fa83aeecd",
   "metadata": {},
   "outputs": [],
   "source": [
    "# Load all interaction data (LDA tabular with side information)\n",
    "train_data_extended = pd.read_csv('./xai_recsys/train_data_extended.csv')\n",
    "test_data_extended = pd.read_csv('./xai_recsys/test_data_extended.csv')"
   ]
  },
  {
   "cell_type": "code",
   "execution_count": 54,
   "id": "4bd995b3-ec40-441d-a98d-064defbe7ca7",
   "metadata": {},
   "outputs": [],
   "source": [
    "# Positive interaction (from original data)\n",
    "select_cols = ['UserID', 'JobID', 'label','Split']\n",
    "actual_interaction_train = train_data_extended[select_cols]\n",
    "actual_interaction_test = test_data_extended[select_cols]\n",
    "actual_interaction_df = pd.concat([actual_interaction_train,actual_interaction_test])"
   ]
  },
  {
   "cell_type": "code",
   "execution_count": 55,
   "id": "10bbd977-319c-4006-b311-b4eeb58a9b8f",
   "metadata": {},
   "outputs": [
    {
     "data": {
      "text/plain": [
       "(563889, 15736)"
      ]
     },
     "execution_count": 55,
     "metadata": {},
     "output_type": "execute_result"
    }
   ],
   "source": [
    "len(actual_interaction_train), len(actual_interaction_test)"
   ]
  },
  {
   "cell_type": "code",
   "execution_count": 56,
   "id": "391b6cb6",
   "metadata": {},
   "outputs": [],
   "source": [
    "benchmark = 'actual_test_interaction'"
   ]
  },
  {
   "cell_type": "markdown",
   "id": "b17a0177",
   "metadata": {
    "jp-MarkdownHeadingCollapsed": true,
    "tags": []
   },
   "source": [
    "## Model: logreg"
   ]
  },
  {
   "cell_type": "code",
   "execution_count": 57,
   "id": "f004085a",
   "metadata": {},
   "outputs": [
    {
     "name": "stdout",
     "output_type": "stream",
     "text": [
      "final hit_count: 3253\n",
      "Model: logreg - Hit rate at 5 - actual test interaction: 0.8754036598493004\n",
      "final hit_count: 3273\n",
      "Model: logreg - Hit rate at 10 - actual test interaction: 0.8807857911733046\n",
      "final hit_count: 3329\n",
      "Model: logreg - Hit rate at 20 - actual test interaction: 0.8958557588805167\n",
      "CPU times: user 7 s, sys: 7.88 ms, total: 7.01 s\n",
      "Wall time: 7 s\n"
     ]
    }
   ],
   "source": [
    "%%time\n",
    "model = 'logreg'\n",
    "\n",
    "# Calculate hit rate at K (precision at K)\n",
    "k = 5  # Set the desired value of K\n",
    "hit_5 = get_hit_rate_at_k(recommendations = logreg_recommendations, \n",
    "                                   rankings = actual_interaction_test, \n",
    "                                   K=k)\n",
    "print(f\"Model: {model} - Hit rate at {k} - actual test interaction: {hit_5}\")\n",
    "\n",
    "k = 10  # Set the desired value of K\n",
    "hit_10 = get_hit_rate_at_k(recommendations = logreg_recommendations, \n",
    "                                   rankings = actual_interaction_test, \n",
    "                                   K=k)\n",
    "print(f\"Model: {model} - Hit rate at {k} - actual test interaction: {hit_10}\")\n",
    "\n",
    "k = 20  # Set the desired value of K\n",
    "hit_20 = get_hit_rate_at_k(recommendations = logreg_recommendations, \n",
    "                                   rankings = actual_interaction_test, \n",
    "                                   K=k)\n",
    "print(f\"Model: {model} - Hit rate at {k} - actual test interaction: {hit_20}\")"
   ]
  },
  {
   "cell_type": "code",
   "execution_count": 58,
   "id": "81167573",
   "metadata": {},
   "outputs": [],
   "source": [
    "models.append(model)\n",
    "benchmarks.append(benchmark)\n",
    "hits_5.append(hit_5)\n",
    "hits_10.append(hit_10)\n",
    "hits_20.append(hit_20)"
   ]
  },
  {
   "cell_type": "markdown",
   "id": "54c09ace",
   "metadata": {
    "jp-MarkdownHeadingCollapsed": true,
    "tags": []
   },
   "source": [
    "## Model: dt"
   ]
  },
  {
   "cell_type": "code",
   "execution_count": 59,
   "id": "c93a67f3",
   "metadata": {},
   "outputs": [
    {
     "name": "stdout",
     "output_type": "stream",
     "text": [
      "final hit_count: 3298\n",
      "Model: dt - Hit rate at 5 - actual test interaction: 0.88751345532831\n",
      "final hit_count: 3298\n",
      "Model: dt - Hit rate at 10 - actual test interaction: 0.88751345532831\n",
      "final hit_count: 3304\n",
      "Model: dt - Hit rate at 20 - actual test interaction: 0.8891280947255114\n",
      "CPU times: user 6.97 s, sys: 11.5 ms, total: 6.98 s\n",
      "Wall time: 6.98 s\n"
     ]
    }
   ],
   "source": [
    "%%time\n",
    "model = 'dt'\n",
    "# Calculate hit rate at K (precision at K)\n",
    "k = 5  # Set the desired value of K\n",
    "hit_5 = get_hit_rate_at_k(recommendations = dt_recommendations, \n",
    "                                   rankings = actual_interaction_test, \n",
    "                                   K=k)\n",
    "print(f\"Model: {model} - Hit rate at {k} - actual test interaction: {hit_5}\")\n",
    "\n",
    "k = 10  # Set the desired value of K\n",
    "hit_10 = get_hit_rate_at_k(recommendations = dt_recommendations, \n",
    "                                   rankings = actual_interaction_test, \n",
    "                                   K=k)\n",
    "print(f\"Model: {model} - Hit rate at {k} - actual test interaction: {hit_10}\")\n",
    "\n",
    "k = 20  # Set the desired value of K\n",
    "hit_20 = get_hit_rate_at_k(recommendations = dt_recommendations, \n",
    "                                   rankings = actual_interaction_test, \n",
    "                                   K=k)\n",
    "print(f\"Model: {model} - Hit rate at {k} - actual test interaction: {hit_20}\")"
   ]
  },
  {
   "cell_type": "code",
   "execution_count": 60,
   "id": "ebee4c32",
   "metadata": {},
   "outputs": [],
   "source": [
    "models.append(model)\n",
    "benchmarks.append(benchmark)\n",
    "hits_5.append(hit_5)\n",
    "hits_10.append(hit_10)\n",
    "hits_20.append(hit_20)"
   ]
  },
  {
   "cell_type": "markdown",
   "id": "64033243",
   "metadata": {
    "jp-MarkdownHeadingCollapsed": true,
    "tags": []
   },
   "source": [
    "## Model: xgbt"
   ]
  },
  {
   "cell_type": "code",
   "execution_count": 61,
   "id": "0fd60975",
   "metadata": {},
   "outputs": [
    {
     "name": "stdout",
     "output_type": "stream",
     "text": [
      "final hit_count: 3716\n",
      "Model: xgbt - Hit rate at 5 - actual test interaction: 1.0\n",
      "final hit_count: 3716\n",
      "Model: xgbt - Hit rate at 10 - actual test interaction: 1.0\n",
      "final hit_count: 3716\n",
      "Model: xgbt - Hit rate at 20 - actual test interaction: 1.0\n",
      "CPU times: user 6.97 s, sys: 18 µs, total: 6.97 s\n",
      "Wall time: 6.97 s\n"
     ]
    }
   ],
   "source": [
    "%%time\n",
    "model = 'xgbt'\n",
    "\n",
    "# Calculate hit rate at K (precision at K)\n",
    "k = 5  # Set the desired value of K\n",
    "hit_5 = get_hit_rate_at_k(recommendations = xgbt_recommendations, \n",
    "                                   rankings = actual_interaction_test, \n",
    "                                   K=k)\n",
    "print(f\"Model: {model} - Hit rate at {k} - actual test interaction: {hit_5}\")\n",
    "\n",
    "k = 10  # Set the desired value of K\n",
    "hit_10 = get_hit_rate_at_k(recommendations = xgbt_recommendations, \n",
    "                                   rankings = actual_interaction_test, \n",
    "                                   K=k)\n",
    "print(f\"Model: {model} - Hit rate at {k} - actual test interaction: {hit_10}\")\n",
    "\n",
    "k = 20  # Set the desired value of K\n",
    "hit_20 = get_hit_rate_at_k(recommendations = xgbt_recommendations, \n",
    "                                   rankings = actual_interaction_test, \n",
    "                                   K=k)\n",
    "print(f\"Model: {model} - Hit rate at {k} - actual test interaction: {hit_20}\")"
   ]
  },
  {
   "cell_type": "code",
   "execution_count": 62,
   "id": "4150e6a2",
   "metadata": {},
   "outputs": [],
   "source": [
    "models.append(model)\n",
    "benchmarks.append(benchmark)\n",
    "hits_5.append(hit_5)\n",
    "hits_10.append(hit_10)\n",
    "hits_20.append(hit_20)"
   ]
  },
  {
   "cell_type": "markdown",
   "id": "992caa71",
   "metadata": {
    "tags": []
   },
   "source": [
    "## Model: nb"
   ]
  },
  {
   "cell_type": "code",
   "execution_count": 63,
   "id": "02540041",
   "metadata": {},
   "outputs": [
    {
     "name": "stdout",
     "output_type": "stream",
     "text": [
      "final hit_count: 3262\n",
      "Model: nb - Hit rate at 5 - actual test interaction: 0.8778256189451022\n",
      "final hit_count: 3298\n",
      "Model: nb - Hit rate at 10 - actual test interaction: 0.88751345532831\n",
      "final hit_count: 3355\n",
      "Model: nb - Hit rate at 20 - actual test interaction: 0.9028525296017222\n",
      "CPU times: user 6.97 s, sys: 7.98 ms, total: 6.97 s\n",
      "Wall time: 6.97 s\n"
     ]
    }
   ],
   "source": [
    "%%time\n",
    "model = 'nb'\n",
    "# Calculate hit rate at K (precision at K)\n",
    "k = 5  # Set the desired value of K\n",
    "hit_5 = get_hit_rate_at_k(recommendations = nb_recommendations, \n",
    "                                   rankings = actual_interaction_test, \n",
    "                                   K=k)\n",
    "print(f\"Model: {model} - Hit rate at {k} - actual test interaction: {hit_5}\")\n",
    "\n",
    "k = 10  # Set the desired value of K\n",
    "hit_10 = get_hit_rate_at_k(recommendations = nb_recommendations, \n",
    "                                   rankings = actual_interaction_test, \n",
    "                                   K=k)\n",
    "print(f\"Model: {model} - Hit rate at {k} - actual test interaction: {hit_10}\")\n",
    "\n",
    "k = 20  # Set the desired value of K\n",
    "hit_20 = get_hit_rate_at_k(recommendations = nb_recommendations, \n",
    "                                   rankings = actual_interaction_test, \n",
    "                                   K=k)\n",
    "print(f\"Model: {model} - Hit rate at {k} - actual test interaction: {hit_20}\")"
   ]
  },
  {
   "cell_type": "code",
   "execution_count": 64,
   "id": "32f5326b",
   "metadata": {},
   "outputs": [],
   "source": [
    "models.append(model)\n",
    "benchmarks.append(benchmark)\n",
    "hits_5.append(hit_5)\n",
    "hits_10.append(hit_10)\n",
    "hits_20.append(hit_20)"
   ]
  },
  {
   "cell_type": "markdown",
   "id": "fc7469d6-83c8-4d95-9753-4e810fb63a5d",
   "metadata": {},
   "source": [
    "## Model: ada"
   ]
  },
  {
   "cell_type": "code",
   "execution_count": 65,
   "id": "31028e51-11a1-46a9-8caa-f83a13e29463",
   "metadata": {},
   "outputs": [
    {
     "name": "stdout",
     "output_type": "stream",
     "text": [
      "final hit_count: 3249\n",
      "Model: ada - Hit rate at 5 - actual test interaction: 0.8743272335844995\n",
      "final hit_count: 3272\n",
      "Model: ada - Hit rate at 10 - actual test interaction: 0.8805166846071044\n",
      "final hit_count: 3330\n",
      "Model: ada - Hit rate at 20 - actual test interaction: 0.8961248654467169\n",
      "CPU times: user 7.01 s, sys: 3.96 ms, total: 7.01 s\n",
      "Wall time: 7.01 s\n"
     ]
    }
   ],
   "source": [
    "%%time\n",
    "model = 'ada'\n",
    "\n",
    "# Calculate hit rate at K (precision at K)\n",
    "k = 5  # Set the desired value of K\n",
    "hit_5 = get_hit_rate_at_k(recommendations = ada_recommendations, \n",
    "                                   rankings = actual_interaction_test, \n",
    "                                   K=k)\n",
    "print(f\"Model: {model} - Hit rate at {k} - actual test interaction: {hit_5}\")\n",
    "\n",
    "k = 10  # Set the desired value of K\n",
    "hit_10 = get_hit_rate_at_k(recommendations = ada_recommendations, \n",
    "                                   rankings = actual_interaction_test, \n",
    "                                   K=k)\n",
    "print(f\"Model: {model} - Hit rate at {k} - actual test interaction: {hit_10}\")\n",
    "\n",
    "k = 20  # Set the desired value of K\n",
    "hit_20 = get_hit_rate_at_k(recommendations = ada_recommendations, \n",
    "                                   rankings = actual_interaction_test, \n",
    "                                   K=k)\n",
    "print(f\"Model: {model} - Hit rate at {k} - actual test interaction: {hit_20}\")"
   ]
  },
  {
   "cell_type": "code",
   "execution_count": 66,
   "id": "845f4baf-b7dd-4070-b4fe-80194e67282a",
   "metadata": {},
   "outputs": [],
   "source": [
    "models.append(model)\n",
    "benchmarks.append(benchmark)\n",
    "hits_5.append(hit_5)\n",
    "hits_10.append(hit_10)\n",
    "hits_20.append(hit_20)"
   ]
  },
  {
   "cell_type": "markdown",
   "id": "2cfd68ce",
   "metadata": {},
   "source": [
    "## Model: lda"
   ]
  },
  {
   "cell_type": "code",
   "execution_count": 67,
   "id": "447a655d",
   "metadata": {},
   "outputs": [
    {
     "name": "stdout",
     "output_type": "stream",
     "text": [
      "final hit_count: 3251\n",
      "Model: lda - Hit rate at 5 - actual test interaction: 0.8748654467168999\n",
      "final hit_count: 3273\n",
      "Model: lda - Hit rate at 10 - actual test interaction: 0.8807857911733046\n",
      "final hit_count: 3327\n",
      "Model: lda - Hit rate at 20 - actual test interaction: 0.8953175457481163\n",
      "CPU times: user 6.99 s, sys: 4.01 ms, total: 7 s\n",
      "Wall time: 6.99 s\n"
     ]
    }
   ],
   "source": [
    "%%time\n",
    "model = 'lda'\n",
    "\n",
    "# Calculate hit rate at K (precision at K)\n",
    "k = 5  # Set the desired value of K\n",
    "hit_5 = get_hit_rate_at_k(recommendations = lda_recommendations, \n",
    "                                   rankings = actual_interaction_test, \n",
    "                                   K=k)\n",
    "print(f\"Model: {model} - Hit rate at {k} - actual test interaction: {hit_5}\")\n",
    "\n",
    "k = 10  # Set the desired value of K\n",
    "hit_10 = get_hit_rate_at_k(recommendations = lda_recommendations, \n",
    "                                   rankings = actual_interaction_test, \n",
    "                                   K=k)\n",
    "print(f\"Model: {model} - Hit rate at {k} - actual test interaction: {hit_10}\")\n",
    "\n",
    "k = 20  # Set the desired value of K\n",
    "hit_20 = get_hit_rate_at_k(recommendations = lda_recommendations, \n",
    "                                   rankings = actual_interaction_test, \n",
    "                                   K=k)\n",
    "print(f\"Model: {model} - Hit rate at {k} - actual test interaction: {hit_20}\")"
   ]
  },
  {
   "cell_type": "code",
   "execution_count": 68,
   "id": "9df72fdb",
   "metadata": {},
   "outputs": [],
   "source": [
    "models.append(model)\n",
    "benchmarks.append(benchmark)\n",
    "hits_5.append(hit_5)\n",
    "hits_10.append(hit_10)\n",
    "hits_20.append(hit_20)"
   ]
  },
  {
   "cell_type": "markdown",
   "id": "d05a487b",
   "metadata": {},
   "source": [
    "## Model: qda"
   ]
  },
  {
   "cell_type": "code",
   "execution_count": 69,
   "id": "5314372e",
   "metadata": {},
   "outputs": [
    {
     "name": "stdout",
     "output_type": "stream",
     "text": [
      "final hit_count: 3260\n",
      "Model: qda - Hit rate at 5 - actual test interaction: 0.8772874058127018\n",
      "final hit_count: 3294\n",
      "Model: qda - Hit rate at 10 - actual test interaction: 0.8864370290635092\n",
      "final hit_count: 3365\n",
      "Model: qda - Hit rate at 20 - actual test interaction: 0.9055435952637244\n",
      "CPU times: user 6.99 s, sys: 3.97 ms, total: 7 s\n",
      "Wall time: 6.99 s\n"
     ]
    }
   ],
   "source": [
    "%%time\n",
    "model = 'qda'\n",
    "\n",
    "# Calculate hit rate at K (precision at K)\n",
    "k = 5  # Set the desired value of K\n",
    "hit_5 = get_hit_rate_at_k(recommendations = qda_recommendations, \n",
    "                                   rankings = actual_interaction_test, \n",
    "                                   K=k)\n",
    "print(f\"Model: {model} - Hit rate at {k} - actual test interaction: {hit_5}\")\n",
    "\n",
    "k = 10  # Set the desired value of K\n",
    "hit_10 = get_hit_rate_at_k(recommendations = qda_recommendations, \n",
    "                                   rankings = actual_interaction_test, \n",
    "                                   K=k)\n",
    "print(f\"Model: {model} - Hit rate at {k} - actual test interaction: {hit_10}\")\n",
    "\n",
    "k = 20  # Set the desired value of K\n",
    "hit_20 = get_hit_rate_at_k(recommendations = qda_recommendations, \n",
    "                                   rankings = actual_interaction_test, \n",
    "                                   K=k)\n",
    "print(f\"Model: {model} - Hit rate at {k} - actual test interaction: {hit_20}\")"
   ]
  },
  {
   "cell_type": "code",
   "execution_count": 70,
   "id": "fb1e8bb0",
   "metadata": {},
   "outputs": [],
   "source": [
    "models.append(model)\n",
    "benchmarks.append(benchmark)\n",
    "hits_5.append(hit_5)\n",
    "hits_10.append(hit_10)\n",
    "hits_20.append(hit_20)"
   ]
  },
  {
   "cell_type": "markdown",
   "id": "1ee5c509-5294-42fb-a964-3d3727ec7913",
   "metadata": {
    "tags": []
   },
   "source": [
    "# Calculate hit_rate (manual) - Evaluation data: all interaction data"
   ]
  },
  {
   "cell_type": "code",
   "execution_count": 71,
   "id": "464ebbe6",
   "metadata": {},
   "outputs": [],
   "source": [
    "benchmark = 'all_interaction_data'"
   ]
  },
  {
   "cell_type": "markdown",
   "id": "9c35728b",
   "metadata": {
    "jp-MarkdownHeadingCollapsed": true,
    "tags": []
   },
   "source": [
    "## Model: logreg"
   ]
  },
  {
   "cell_type": "code",
   "execution_count": 72,
   "id": "f844dfee",
   "metadata": {},
   "outputs": [
    {
     "name": "stdout",
     "output_type": "stream",
     "text": [
      "final hit_count: 3253\n",
      "Model: logreg - Hit rate at 5 - all actual interaction: 0.8754036598493004\n",
      "final hit_count: 3273\n",
      "Model: logreg - Hit rate at 10 - all actual interaction: 0.8807857911733046\n",
      "final hit_count: 3329\n",
      "Model: logreg - Hit rate at 20 - all actual interaction: 0.8958557588805167\n",
      "CPU times: user 14 s, sys: 11.8 ms, total: 14 s\n",
      "Wall time: 14 s\n"
     ]
    }
   ],
   "source": [
    "%%time\n",
    "model = 'logreg'\n",
    "\n",
    "# Calculate hit rate at K (precision at K)\n",
    "k = 5  # Set the desired value of K\n",
    "hit_5 = get_hit_rate_at_k(recommendations = logreg_recommendations, \n",
    "                                   rankings = actual_interaction_df, \n",
    "                                   K=k)\n",
    "print(f\"Model: {model} - Hit rate at {k} - all actual interaction: {hit_5}\")\n",
    "\n",
    "k = 10  # Set the desired value of K\n",
    "hit_10 = get_hit_rate_at_k(recommendations = logreg_recommendations, \n",
    "                                   rankings = actual_interaction_df, \n",
    "                                   K=k)\n",
    "print(f\"Model: {model} - Hit rate at {k} - all actual interaction: {hit_10}\")\n",
    "\n",
    "k = 20  # Set the desired value of K\n",
    "hit_20 = get_hit_rate_at_k(recommendations = logreg_recommendations, \n",
    "                                   rankings = actual_interaction_df, \n",
    "                                   K=k)\n",
    "print(f\"Model: {model} - Hit rate at {k} - all actual interaction: {hit_20}\")"
   ]
  },
  {
   "cell_type": "code",
   "execution_count": 73,
   "id": "c0844229",
   "metadata": {},
   "outputs": [],
   "source": [
    "models.append(model)\n",
    "benchmarks.append(benchmark)\n",
    "\n",
    "hits_5.append(hit_5)\n",
    "hits_10.append(hit_10)\n",
    "hits_20.append(hit_20)"
   ]
  },
  {
   "cell_type": "markdown",
   "id": "3f567467",
   "metadata": {
    "jp-MarkdownHeadingCollapsed": true,
    "tags": []
   },
   "source": [
    "## Model: dt"
   ]
  },
  {
   "cell_type": "code",
   "execution_count": 74,
   "id": "ea46e53d",
   "metadata": {},
   "outputs": [
    {
     "name": "stdout",
     "output_type": "stream",
     "text": [
      "final hit_count: 3298\n",
      "Model: dt - Hit rate at 5 - all actual interaction: 0.88751345532831\n",
      "final hit_count: 3298\n",
      "Model: dt - Hit rate at 10 - all actual interaction: 0.88751345532831\n",
      "final hit_count: 3304\n",
      "Model: dt - Hit rate at 20 - all actual interaction: 0.8891280947255114\n",
      "CPU times: user 13.6 s, sys: 11.7 ms, total: 13.6 s\n",
      "Wall time: 13.6 s\n"
     ]
    }
   ],
   "source": [
    "%%time\n",
    "model = 'dt'\n",
    "\n",
    "# Calculate hit rate at K (precision at K)\n",
    "k = 5  # Set the desired value of K\n",
    "hit_5 = get_hit_rate_at_k(recommendations = dt_recommendations, \n",
    "                                   rankings = actual_interaction_df, \n",
    "                                   K=k)\n",
    "print(f\"Model: {model} - Hit rate at {k} - all actual interaction: {hit_5}\")\n",
    "\n",
    "k = 10  # Set the desired value of K\n",
    "hit_10 = get_hit_rate_at_k(recommendations = dt_recommendations, \n",
    "                                   rankings = actual_interaction_df, \n",
    "                                   K=k)\n",
    "print(f\"Model: {model} - Hit rate at {k} - all actual interaction: {hit_10}\")\n",
    "\n",
    "k = 20  # Set the desired value of K\n",
    "hit_20 = get_hit_rate_at_k(recommendations = dt_recommendations, \n",
    "                                   rankings = actual_interaction_df, \n",
    "                                   K=k)\n",
    "print(f\"Model: {model} - Hit rate at {k} - all actual interaction: {hit_20}\")"
   ]
  },
  {
   "cell_type": "code",
   "execution_count": 75,
   "id": "8e78819b",
   "metadata": {},
   "outputs": [],
   "source": [
    "models.append(model)\n",
    "benchmarks.append(benchmark)\n",
    "hits_5.append(hit_5)\n",
    "hits_10.append(hit_10)\n",
    "hits_20.append(hit_20)"
   ]
  },
  {
   "cell_type": "markdown",
   "id": "3c9f0492",
   "metadata": {
    "jp-MarkdownHeadingCollapsed": true,
    "tags": []
   },
   "source": [
    "## Model: xgbt"
   ]
  },
  {
   "cell_type": "code",
   "execution_count": 76,
   "id": "b7a1eeec",
   "metadata": {},
   "outputs": [
    {
     "name": "stdout",
     "output_type": "stream",
     "text": [
      "final hit_count: 3716\n",
      "Model: xgbt - Hit rate at 5 - all actual interaction: 1.0\n",
      "final hit_count: 3716\n",
      "Model: xgbt - Hit rate at 10 - all actual interaction: 1.0\n",
      "final hit_count: 3716\n",
      "Model: xgbt - Hit rate at 20 - all actual interaction: 1.0\n",
      "CPU times: user 13.6 s, sys: 7.83 ms, total: 13.6 s\n",
      "Wall time: 13.6 s\n"
     ]
    }
   ],
   "source": [
    "%%time\n",
    "model = 'xgbt'\n",
    "\n",
    "# Calculate hit rate at K (precision at K)\n",
    "k = 5  # Set the desired value of K\n",
    "hit_5 = get_hit_rate_at_k(recommendations = xgbt_recommendations, \n",
    "                                   rankings = actual_interaction_df, \n",
    "                                   K=k)\n",
    "print(f\"Model: {model} - Hit rate at {k} - all actual interaction: {hit_5}\")\n",
    "\n",
    "k = 10  # Set the desired value of K\n",
    "hit_10 = get_hit_rate_at_k(recommendations = xgbt_recommendations, \n",
    "                                   rankings = actual_interaction_df, \n",
    "                                   K=k)\n",
    "print(f\"Model: {model} - Hit rate at {k} - all actual interaction: {hit_10}\")\n",
    "\n",
    "k = 20  # Set the desired value of K\n",
    "hit_20 = get_hit_rate_at_k(recommendations = xgbt_recommendations, \n",
    "                                   rankings = actual_interaction_df, \n",
    "                                   K=k)\n",
    "print(f\"Model: {model} - Hit rate at {k} - all actual interaction: {hit_20}\")"
   ]
  },
  {
   "cell_type": "code",
   "execution_count": 77,
   "id": "15ed49df",
   "metadata": {},
   "outputs": [],
   "source": [
    "models.append(model)\n",
    "benchmarks.append(benchmark)\n",
    "hits_5.append(hit_5)\n",
    "hits_10.append(hit_10)\n",
    "hits_20.append(hit_20)"
   ]
  },
  {
   "cell_type": "markdown",
   "id": "620c63ab",
   "metadata": {
    "tags": []
   },
   "source": [
    "## Model: nb"
   ]
  },
  {
   "cell_type": "code",
   "execution_count": 78,
   "id": "0175fcf8",
   "metadata": {},
   "outputs": [
    {
     "name": "stdout",
     "output_type": "stream",
     "text": [
      "final hit_count: 3262\n",
      "Model: nb - Hit rate at 5 - all actual interaction: 0.8778256189451022\n",
      "final hit_count: 3298\n",
      "Model: nb - Hit rate at 10 - all actual interaction: 0.88751345532831\n",
      "final hit_count: 3355\n",
      "Model: nb - Hit rate at 20 - all actual interaction: 0.9028525296017222\n",
      "CPU times: user 13.6 s, sys: 0 ns, total: 13.6 s\n",
      "Wall time: 13.6 s\n"
     ]
    }
   ],
   "source": [
    "%%time\n",
    "model = 'nb'\n",
    "\n",
    "# Calculate hit rate at K (precision at K)\n",
    "k = 5  # Set the desired value of K\n",
    "hit_5 = get_hit_rate_at_k(recommendations = nb_recommendations, \n",
    "                                   rankings = actual_interaction_df, \n",
    "                                   K=k)\n",
    "print(f\"Model: {model} - Hit rate at {k} - all actual interaction: {hit_5}\")\n",
    "\n",
    "k = 10  # Set the desired value of K\n",
    "hit_10 = get_hit_rate_at_k(recommendations = nb_recommendations, \n",
    "                                   rankings = actual_interaction_df, \n",
    "                                   K=k)\n",
    "print(f\"Model: {model} - Hit rate at {k} - all actual interaction: {hit_10}\")\n",
    "\n",
    "k = 20  # Set the desired value of K\n",
    "hit_20 = get_hit_rate_at_k(recommendations = nb_recommendations, \n",
    "                                   rankings = actual_interaction_df, \n",
    "                                   K=k)\n",
    "print(f\"Model: {model} - Hit rate at {k} - all actual interaction: {hit_20}\")"
   ]
  },
  {
   "cell_type": "code",
   "execution_count": 79,
   "id": "b2d57a71",
   "metadata": {},
   "outputs": [],
   "source": [
    "models.append(model)\n",
    "benchmarks.append(benchmark)\n",
    "hits_5.append(hit_5)\n",
    "hits_10.append(hit_10)\n",
    "hits_20.append(hit_20)"
   ]
  },
  {
   "cell_type": "markdown",
   "id": "e6e473c2-3b23-4519-8daa-9bd1dcf81f28",
   "metadata": {},
   "source": [
    "## Model: ada"
   ]
  },
  {
   "cell_type": "code",
   "execution_count": 80,
   "id": "90db9fde-d0c9-409b-9a9b-9857894fbf66",
   "metadata": {},
   "outputs": [
    {
     "name": "stdout",
     "output_type": "stream",
     "text": [
      "final hit_count: 3249\n",
      "Model: ada - Hit rate at 5 - all actual interaction: 0.8743272335844995\n",
      "final hit_count: 3272\n",
      "Model: ada - Hit rate at 10 - all actual interaction: 0.8805166846071044\n",
      "final hit_count: 3330\n",
      "Model: ada - Hit rate at 20 - all actual interaction: 0.8961248654467169\n",
      "CPU times: user 13.6 s, sys: 0 ns, total: 13.6 s\n",
      "Wall time: 13.6 s\n"
     ]
    }
   ],
   "source": [
    "%%time\n",
    "model = 'ada'\n",
    "\n",
    "# Calculate hit rate at K (precision at K)\n",
    "k = 5  # Set the desired value of K\n",
    "hit_5 = get_hit_rate_at_k(recommendations = ada_recommendations, \n",
    "                                   rankings = actual_interaction_df, \n",
    "                                   K=k)\n",
    "print(f\"Model: {model} - Hit rate at {k} - all actual interaction: {hit_5}\")\n",
    "\n",
    "k = 10  # Set the desired value of K\n",
    "hit_10 = get_hit_rate_at_k(recommendations = ada_recommendations, \n",
    "                                   rankings = actual_interaction_df, \n",
    "                                   K=k)\n",
    "print(f\"Model: {model} - Hit rate at {k} - all actual interaction: {hit_10}\")\n",
    "\n",
    "k = 20  # Set the desired value of K\n",
    "hit_20 = get_hit_rate_at_k(recommendations = ada_recommendations, \n",
    "                                   rankings = actual_interaction_df, \n",
    "                                   K=k)\n",
    "print(f\"Model: {model} - Hit rate at {k} - all actual interaction: {hit_20}\")"
   ]
  },
  {
   "cell_type": "code",
   "execution_count": 81,
   "id": "64d25779-ec12-4361-98d6-3f8e2a370da4",
   "metadata": {},
   "outputs": [],
   "source": [
    "models.append(model)\n",
    "benchmarks.append(benchmark)\n",
    "hits_5.append(hit_5)\n",
    "hits_10.append(hit_10)\n",
    "hits_20.append(hit_20)"
   ]
  },
  {
   "cell_type": "markdown",
   "id": "85e3f6f9",
   "metadata": {},
   "source": [
    "## Model: lda"
   ]
  },
  {
   "cell_type": "code",
   "execution_count": 82,
   "id": "78e32573",
   "metadata": {},
   "outputs": [
    {
     "name": "stdout",
     "output_type": "stream",
     "text": [
      "final hit_count: 3251\n",
      "Model: lda - Hit rate at 5 - all actual interaction: 0.8748654467168999\n",
      "final hit_count: 3273\n",
      "Model: lda - Hit rate at 10 - all actual interaction: 0.8807857911733046\n",
      "final hit_count: 3327\n",
      "Model: lda - Hit rate at 20 - all actual interaction: 0.8953175457481163\n",
      "CPU times: user 13.6 s, sys: 3.85 ms, total: 13.6 s\n",
      "Wall time: 13.6 s\n"
     ]
    }
   ],
   "source": [
    "%%time\n",
    "model = 'lda'\n",
    "\n",
    "# Calculate hit rate at K (precision at K)\n",
    "k = 5  # Set the desired value of K\n",
    "hit_5 = get_hit_rate_at_k(recommendations = lda_recommendations, \n",
    "                                   rankings = actual_interaction_df, \n",
    "                                   K=k)\n",
    "print(f\"Model: {model} - Hit rate at {k} - all actual interaction: {hit_5}\")\n",
    "\n",
    "k = 10  # Set the desired value of K\n",
    "hit_10 = get_hit_rate_at_k(recommendations = lda_recommendations, \n",
    "                                   rankings = actual_interaction_df, \n",
    "                                   K=k)\n",
    "print(f\"Model: {model} - Hit rate at {k} - all actual interaction: {hit_10}\")\n",
    "\n",
    "k = 20  # Set the desired value of K\n",
    "hit_20 = get_hit_rate_at_k(recommendations = lda_recommendations, \n",
    "                                   rankings = actual_interaction_df, \n",
    "                                   K=k)\n",
    "print(f\"Model: {model} - Hit rate at {k} - all actual interaction: {hit_20}\")"
   ]
  },
  {
   "cell_type": "code",
   "execution_count": 83,
   "id": "06867da8",
   "metadata": {},
   "outputs": [],
   "source": [
    "models.append(model)\n",
    "benchmarks.append(benchmark)\n",
    "hits_5.append(hit_5)\n",
    "hits_10.append(hit_10)\n",
    "hits_20.append(hit_20)"
   ]
  },
  {
   "cell_type": "markdown",
   "id": "c1a2b9d7",
   "metadata": {},
   "source": [
    "## Model: qda"
   ]
  },
  {
   "cell_type": "code",
   "execution_count": 84,
   "id": "cd4147c5",
   "metadata": {},
   "outputs": [
    {
     "name": "stdout",
     "output_type": "stream",
     "text": [
      "final hit_count: 3260\n",
      "Model: qda - Hit rate at 5 - all actual interaction: 0.8772874058127018\n",
      "final hit_count: 3294\n",
      "Model: qda - Hit rate at 10 - all actual interaction: 0.8864370290635092\n",
      "final hit_count: 3365\n",
      "Model: qda - Hit rate at 20 - all actual interaction: 0.9055435952637244\n",
      "CPU times: user 13.6 s, sys: 11.9 ms, total: 13.6 s\n",
      "Wall time: 13.6 s\n"
     ]
    }
   ],
   "source": [
    "%%time\n",
    "model = 'qda'\n",
    "\n",
    "# Calculate hit rate at K (precision at K)\n",
    "k = 5  # Set the desired value of K\n",
    "hit_5 = get_hit_rate_at_k(recommendations = qda_recommendations, \n",
    "                                   rankings = actual_interaction_df, \n",
    "                                   K=k)\n",
    "print(f\"Model: {model} - Hit rate at {k} - all actual interaction: {hit_5}\")\n",
    "\n",
    "k = 10  # Set the desired value of K\n",
    "hit_10 = get_hit_rate_at_k(recommendations = qda_recommendations, \n",
    "                                   rankings = actual_interaction_df, \n",
    "                                   K=k)\n",
    "print(f\"Model: {model} - Hit rate at {k} - all actual interaction: {hit_10}\")\n",
    "\n",
    "k = 20  # Set the desired value of K\n",
    "hit_20 = get_hit_rate_at_k(recommendations = qda_recommendations, \n",
    "                                   rankings = actual_interaction_df, \n",
    "                                   K=k)\n",
    "print(f\"Model: {model} - Hit rate at {k} - all actual interaction: {hit_20}\")"
   ]
  },
  {
   "cell_type": "code",
   "execution_count": 85,
   "id": "39e2a03a",
   "metadata": {},
   "outputs": [],
   "source": [
    "models.append(model)\n",
    "benchmarks.append(benchmark)\n",
    "hits_5.append(hit_5)\n",
    "hits_10.append(hit_10)\n",
    "hits_20.append(hit_20)"
   ]
  },
  {
   "cell_type": "markdown",
   "id": "6fab3c2c",
   "metadata": {},
   "source": [
    "# Summarize all results"
   ]
  },
  {
   "cell_type": "code",
   "execution_count": 86,
   "id": "1ce0e9a6",
   "metadata": {},
   "outputs": [
    {
     "data": {
      "text/plain": [
       "(28, 28, 28, 28, 28)"
      ]
     },
     "execution_count": 86,
     "metadata": {},
     "output_type": "execute_result"
    }
   ],
   "source": [
    "len(models), len(benchmarks), len(hits_5), len(hits_10), len(hits_20)"
   ]
  },
  {
   "cell_type": "code",
   "execution_count": 87,
   "id": "1d082cc0",
   "metadata": {},
   "outputs": [],
   "source": [
    "baseline_hit = pd.DataFrame(columns = [\"model\",\"hit_5\", \"hit_10\", \"hit_20\", 'benchmark'])\n",
    "baseline_hit.model = models\n",
    "baseline_hit.benchmark = benchmarks\n",
    "baseline_hit.hit_5 = hits_5\n",
    "baseline_hit.hit_10 = hits_10\n",
    "baseline_hit.hit_20 = hits_20"
   ]
  },
  {
   "cell_type": "code",
   "execution_count": 88,
   "id": "1da5bb4e",
   "metadata": {},
   "outputs": [
    {
     "data": {
      "text/html": [
       "<div>\n",
       "<style scoped>\n",
       "    .dataframe tbody tr th:only-of-type {\n",
       "        vertical-align: middle;\n",
       "    }\n",
       "\n",
       "    .dataframe tbody tr th {\n",
       "        vertical-align: top;\n",
       "    }\n",
       "\n",
       "    .dataframe thead th {\n",
       "        text-align: right;\n",
       "    }\n",
       "</style>\n",
       "<table border=\"1\" class=\"dataframe\">\n",
       "  <thead>\n",
       "    <tr style=\"text-align: right;\">\n",
       "      <th></th>\n",
       "      <th>model</th>\n",
       "      <th>hit_5</th>\n",
       "      <th>hit_10</th>\n",
       "      <th>hit_20</th>\n",
       "      <th>benchmark</th>\n",
       "    </tr>\n",
       "  </thead>\n",
       "  <tbody>\n",
       "    <tr>\n",
       "      <th>0</th>\n",
       "      <td>logreg</td>\n",
       "      <td>0.875404</td>\n",
       "      <td>0.880786</td>\n",
       "      <td>0.895856</td>\n",
       "      <td>ranking_data_random</td>\n",
       "    </tr>\n",
       "    <tr>\n",
       "      <th>1</th>\n",
       "      <td>dt</td>\n",
       "      <td>0.887513</td>\n",
       "      <td>0.887513</td>\n",
       "      <td>0.889128</td>\n",
       "      <td>ranking_data_random</td>\n",
       "    </tr>\n",
       "    <tr>\n",
       "      <th>2</th>\n",
       "      <td>xgbt</td>\n",
       "      <td>1.000000</td>\n",
       "      <td>1.000000</td>\n",
       "      <td>1.000000</td>\n",
       "      <td>ranking_data_random</td>\n",
       "    </tr>\n",
       "    <tr>\n",
       "      <th>3</th>\n",
       "      <td>nb</td>\n",
       "      <td>0.877826</td>\n",
       "      <td>0.887513</td>\n",
       "      <td>0.902853</td>\n",
       "      <td>ranking_data_random</td>\n",
       "    </tr>\n",
       "    <tr>\n",
       "      <th>4</th>\n",
       "      <td>ada</td>\n",
       "      <td>0.874327</td>\n",
       "      <td>0.880517</td>\n",
       "      <td>0.896125</td>\n",
       "      <td>ranking_data_random</td>\n",
       "    </tr>\n",
       "    <tr>\n",
       "      <th>5</th>\n",
       "      <td>lda</td>\n",
       "      <td>0.874865</td>\n",
       "      <td>0.880786</td>\n",
       "      <td>0.895318</td>\n",
       "      <td>ranking_data_random</td>\n",
       "    </tr>\n",
       "    <tr>\n",
       "      <th>6</th>\n",
       "      <td>qda</td>\n",
       "      <td>0.874865</td>\n",
       "      <td>0.880786</td>\n",
       "      <td>0.895318</td>\n",
       "      <td>ranking_data_random</td>\n",
       "    </tr>\n",
       "    <tr>\n",
       "      <th>7</th>\n",
       "      <td>logreg</td>\n",
       "      <td>0.019645</td>\n",
       "      <td>0.019645</td>\n",
       "      <td>0.020452</td>\n",
       "      <td>ranking_knn_tidif</td>\n",
       "    </tr>\n",
       "    <tr>\n",
       "      <th>8</th>\n",
       "      <td>dt</td>\n",
       "      <td>0.019645</td>\n",
       "      <td>0.019645</td>\n",
       "      <td>0.019645</td>\n",
       "      <td>ranking_knn_tidif</td>\n",
       "    </tr>\n",
       "    <tr>\n",
       "      <th>9</th>\n",
       "      <td>xgbt</td>\n",
       "      <td>0.021529</td>\n",
       "      <td>0.021529</td>\n",
       "      <td>0.021529</td>\n",
       "      <td>ranking_knn_tidif</td>\n",
       "    </tr>\n",
       "    <tr>\n",
       "      <th>10</th>\n",
       "      <td>nb</td>\n",
       "      <td>0.019645</td>\n",
       "      <td>0.019645</td>\n",
       "      <td>0.020183</td>\n",
       "      <td>ranking_knn_tidif</td>\n",
       "    </tr>\n",
       "    <tr>\n",
       "      <th>11</th>\n",
       "      <td>ada</td>\n",
       "      <td>0.020183</td>\n",
       "      <td>0.020183</td>\n",
       "      <td>0.020183</td>\n",
       "      <td>ranking_knn_tidif</td>\n",
       "    </tr>\n",
       "    <tr>\n",
       "      <th>12</th>\n",
       "      <td>lda</td>\n",
       "      <td>0.019645</td>\n",
       "      <td>0.019914</td>\n",
       "      <td>0.020183</td>\n",
       "      <td>ranking_knn_tidif</td>\n",
       "    </tr>\n",
       "    <tr>\n",
       "      <th>13</th>\n",
       "      <td>qda</td>\n",
       "      <td>0.019645</td>\n",
       "      <td>0.019645</td>\n",
       "      <td>0.020721</td>\n",
       "      <td>ranking_knn_tidif</td>\n",
       "    </tr>\n",
       "    <tr>\n",
       "      <th>14</th>\n",
       "      <td>logreg</td>\n",
       "      <td>0.875404</td>\n",
       "      <td>0.880786</td>\n",
       "      <td>0.895856</td>\n",
       "      <td>actual_test_interaction</td>\n",
       "    </tr>\n",
       "    <tr>\n",
       "      <th>15</th>\n",
       "      <td>dt</td>\n",
       "      <td>0.887513</td>\n",
       "      <td>0.887513</td>\n",
       "      <td>0.889128</td>\n",
       "      <td>actual_test_interaction</td>\n",
       "    </tr>\n",
       "    <tr>\n",
       "      <th>16</th>\n",
       "      <td>xgbt</td>\n",
       "      <td>1.000000</td>\n",
       "      <td>1.000000</td>\n",
       "      <td>1.000000</td>\n",
       "      <td>actual_test_interaction</td>\n",
       "    </tr>\n",
       "    <tr>\n",
       "      <th>17</th>\n",
       "      <td>nb</td>\n",
       "      <td>0.877826</td>\n",
       "      <td>0.887513</td>\n",
       "      <td>0.902853</td>\n",
       "      <td>actual_test_interaction</td>\n",
       "    </tr>\n",
       "    <tr>\n",
       "      <th>18</th>\n",
       "      <td>ada</td>\n",
       "      <td>0.874327</td>\n",
       "      <td>0.880517</td>\n",
       "      <td>0.896125</td>\n",
       "      <td>actual_test_interaction</td>\n",
       "    </tr>\n",
       "    <tr>\n",
       "      <th>19</th>\n",
       "      <td>lda</td>\n",
       "      <td>0.874865</td>\n",
       "      <td>0.880786</td>\n",
       "      <td>0.895318</td>\n",
       "      <td>actual_test_interaction</td>\n",
       "    </tr>\n",
       "    <tr>\n",
       "      <th>20</th>\n",
       "      <td>qda</td>\n",
       "      <td>0.877287</td>\n",
       "      <td>0.886437</td>\n",
       "      <td>0.905544</td>\n",
       "      <td>actual_test_interaction</td>\n",
       "    </tr>\n",
       "    <tr>\n",
       "      <th>21</th>\n",
       "      <td>logreg</td>\n",
       "      <td>0.875404</td>\n",
       "      <td>0.880786</td>\n",
       "      <td>0.895856</td>\n",
       "      <td>all_interaction_data</td>\n",
       "    </tr>\n",
       "    <tr>\n",
       "      <th>22</th>\n",
       "      <td>dt</td>\n",
       "      <td>0.887513</td>\n",
       "      <td>0.887513</td>\n",
       "      <td>0.889128</td>\n",
       "      <td>all_interaction_data</td>\n",
       "    </tr>\n",
       "    <tr>\n",
       "      <th>23</th>\n",
       "      <td>xgbt</td>\n",
       "      <td>1.000000</td>\n",
       "      <td>1.000000</td>\n",
       "      <td>1.000000</td>\n",
       "      <td>all_interaction_data</td>\n",
       "    </tr>\n",
       "    <tr>\n",
       "      <th>24</th>\n",
       "      <td>nb</td>\n",
       "      <td>0.877826</td>\n",
       "      <td>0.887513</td>\n",
       "      <td>0.902853</td>\n",
       "      <td>all_interaction_data</td>\n",
       "    </tr>\n",
       "    <tr>\n",
       "      <th>25</th>\n",
       "      <td>ada</td>\n",
       "      <td>0.874327</td>\n",
       "      <td>0.880517</td>\n",
       "      <td>0.896125</td>\n",
       "      <td>all_interaction_data</td>\n",
       "    </tr>\n",
       "    <tr>\n",
       "      <th>26</th>\n",
       "      <td>lda</td>\n",
       "      <td>0.874865</td>\n",
       "      <td>0.880786</td>\n",
       "      <td>0.895318</td>\n",
       "      <td>all_interaction_data</td>\n",
       "    </tr>\n",
       "    <tr>\n",
       "      <th>27</th>\n",
       "      <td>qda</td>\n",
       "      <td>0.877287</td>\n",
       "      <td>0.886437</td>\n",
       "      <td>0.905544</td>\n",
       "      <td>all_interaction_data</td>\n",
       "    </tr>\n",
       "  </tbody>\n",
       "</table>\n",
       "</div>"
      ],
      "text/plain": [
       "     model     hit_5    hit_10    hit_20                benchmark\n",
       "0   logreg  0.875404  0.880786  0.895856      ranking_data_random\n",
       "1       dt  0.887513  0.887513  0.889128      ranking_data_random\n",
       "2     xgbt  1.000000  1.000000  1.000000      ranking_data_random\n",
       "3       nb  0.877826  0.887513  0.902853      ranking_data_random\n",
       "4      ada  0.874327  0.880517  0.896125      ranking_data_random\n",
       "5      lda  0.874865  0.880786  0.895318      ranking_data_random\n",
       "6      qda  0.874865  0.880786  0.895318      ranking_data_random\n",
       "7   logreg  0.019645  0.019645  0.020452        ranking_knn_tidif\n",
       "8       dt  0.019645  0.019645  0.019645        ranking_knn_tidif\n",
       "9     xgbt  0.021529  0.021529  0.021529        ranking_knn_tidif\n",
       "10      nb  0.019645  0.019645  0.020183        ranking_knn_tidif\n",
       "11     ada  0.020183  0.020183  0.020183        ranking_knn_tidif\n",
       "12     lda  0.019645  0.019914  0.020183        ranking_knn_tidif\n",
       "13     qda  0.019645  0.019645  0.020721        ranking_knn_tidif\n",
       "14  logreg  0.875404  0.880786  0.895856  actual_test_interaction\n",
       "15      dt  0.887513  0.887513  0.889128  actual_test_interaction\n",
       "16    xgbt  1.000000  1.000000  1.000000  actual_test_interaction\n",
       "17      nb  0.877826  0.887513  0.902853  actual_test_interaction\n",
       "18     ada  0.874327  0.880517  0.896125  actual_test_interaction\n",
       "19     lda  0.874865  0.880786  0.895318  actual_test_interaction\n",
       "20     qda  0.877287  0.886437  0.905544  actual_test_interaction\n",
       "21  logreg  0.875404  0.880786  0.895856     all_interaction_data\n",
       "22      dt  0.887513  0.887513  0.889128     all_interaction_data\n",
       "23    xgbt  1.000000  1.000000  1.000000     all_interaction_data\n",
       "24      nb  0.877826  0.887513  0.902853     all_interaction_data\n",
       "25     ada  0.874327  0.880517  0.896125     all_interaction_data\n",
       "26     lda  0.874865  0.880786  0.895318     all_interaction_data\n",
       "27     qda  0.877287  0.886437  0.905544     all_interaction_data"
      ]
     },
     "execution_count": 88,
     "metadata": {},
     "output_type": "execute_result"
    }
   ],
   "source": [
    "baseline_hit"
   ]
  },
  {
   "cell_type": "code",
   "execution_count": 89,
   "id": "10b26b03",
   "metadata": {},
   "outputs": [],
   "source": [
    "baseline_hit.to_csv('./output_topN_tabular/hit_rate_tfidf_ranking_random.csv', header=True, index=False)"
   ]
  },
  {
   "cell_type": "markdown",
   "id": "20143f3b-4808-423a-9e3e-84354f5ad205",
   "metadata": {
    "tags": []
   },
   "source": [
    "# Data-centric explanation\n",
    "- Count number of JobID for positive interaction in test data"
   ]
  },
  {
   "cell_type": "code",
   "execution_count": null,
   "id": "af9062d5-4752-4aea-9f10-3f01a5c313df",
   "metadata": {},
   "outputs": [],
   "source": [
    "summary_test_interaction = actual_interaction_test.groupby('UserID').agg(Count_JobID=('JobID', 'count')).reset_index()"
   ]
  },
  {
   "cell_type": "code",
   "execution_count": null,
   "id": "c05ba9fe-1670-41ad-bf0c-7c2d851228de",
   "metadata": {},
   "outputs": [],
   "source": [
    "summary_test_interaction.sort_values(by = 'Count_JobID', ascending=False)"
   ]
  },
  {
   "cell_type": "code",
   "execution_count": null,
   "id": "1ed379b1-bbb5-4199-995b-585fef1ade27",
   "metadata": {},
   "outputs": [],
   "source": [
    "summary_test_interaction['Count_JobID'].value_counts()"
   ]
  },
  {
   "cell_type": "code",
   "execution_count": null,
   "id": "56b08f71-1038-4737-a3ad-c327578ef1e3",
   "metadata": {},
   "outputs": [],
   "source": [
    "summary_positive_test_interaction = actual_interaction_test[actual_interaction_test.label==1].groupby('UserID').agg(Count_JobID=('JobID', 'count')).reset_index()"
   ]
  },
  {
   "cell_type": "code",
   "execution_count": null,
   "id": "098b7a74-3e5e-4afa-b44c-cd381de9cb2e",
   "metadata": {},
   "outputs": [],
   "source": [
    "summary_positive_test_interaction.sort_values(by = 'Count_JobID', ascending=False)"
   ]
  },
  {
   "cell_type": "code",
   "execution_count": null,
   "id": "7ed8630c-11d4-49ae-9591-460026386fe8",
   "metadata": {},
   "outputs": [],
   "source": [
    "summary_positive_test_interaction['Count_JobID'].value_counts()"
   ]
  }
 ],
 "metadata": {
  "kernelspec": {
   "display_name": "Python 3.9.6 64-bit",
   "language": "python",
   "name": "python3"
  },
  "language_info": {
   "codemirror_mode": {
    "name": "ipython",
    "version": 3
   },
   "file_extension": ".py",
   "mimetype": "text/x-python",
   "name": "python",
   "nbconvert_exporter": "python",
   "pygments_lexer": "ipython3",
   "version": "3.9.6"
  },
  "vscode": {
   "interpreter": {
    "hash": "31f2aee4e71d21fbe5cf8b01ff0e069b9275f58929596ceb00d14d90e3e16cd6"
   }
  }
 },
 "nbformat": 4,
 "nbformat_minor": 5
}
