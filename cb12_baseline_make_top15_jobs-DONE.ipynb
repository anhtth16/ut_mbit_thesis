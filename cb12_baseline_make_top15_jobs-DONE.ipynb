{
 "cells": [
  {
   "cell_type": "markdown",
   "id": "9b0bc7d2",
   "metadata": {},
   "source": [
    "# Generate top popular jobs for top-N recommendation\n",
    "\n",
    "Prepare:\n",
    "- top 15% popular jobs: to reduce time for constructing (UserId, JobID) pairs in recommendation"
   ]
  },
  {
   "cell_type": "code",
   "execution_count": 1,
   "id": "8e3f9d19",
   "metadata": {},
   "outputs": [],
   "source": [
    "import pandas as pd\n",
    "import numpy as np"
   ]
  },
  {
   "cell_type": "code",
   "execution_count": 2,
   "id": "b8f171a6",
   "metadata": {},
   "outputs": [],
   "source": [
    "import pickle"
   ]
  },
  {
   "cell_type": "code",
   "execution_count": 3,
   "id": "e708b068",
   "metadata": {},
   "outputs": [
    {
     "name": "stdout",
     "output_type": "stream",
     "text": [
      "CPU times: user 20.4 s, sys: 2.74 s, total: 23.2 s\n",
      "Wall time: 23.3 s\n"
     ]
    },
    {
     "name": "stderr",
     "output_type": "stream",
     "text": [
      "<timed exec>:2: DtypeWarning: Columns (8) have mixed types. Specify dtype option on import or set low_memory=False.\n"
     ]
    }
   ],
   "source": [
    "%%time\n",
    "# Load clean job data\n",
    "job_set = pd.read_csv(\"./data_processed/jobset_clean.csv\")"
   ]
  },
  {
   "cell_type": "code",
   "execution_count": 4,
   "id": "737b0eb0",
   "metadata": {},
   "outputs": [
    {
     "name": "stdout",
     "output_type": "stream",
     "text": [
      "CPU times: user 581 ms, sys: 119 ms, total: 701 ms\n",
      "Wall time: 706 ms\n"
     ]
    }
   ],
   "source": [
    "%%time\n",
    "# Load the dataset from Step 3\n",
    "user_set = pd.read_csv(\"./data_interim/user_set_cleaned.csv\")\n",
    "dataset = pd.read_csv(\"./data_interim/dataset_cleaned.csv\")\n",
    "work_history = pd.read_csv('./data_interim/work_history_cleaned.csv')"
   ]
  },
  {
   "cell_type": "markdown",
   "id": "0079fa6d",
   "metadata": {},
   "source": [
    "## Create a list of top popular jobs \n",
    "base on cumulative frequency in interaction data"
   ]
  },
  {
   "cell_type": "code",
   "execution_count": 5,
   "id": "cb516b38",
   "metadata": {},
   "outputs": [],
   "source": [
    "popular_jobs = dataset.copy()\n",
    "popular_jobs = popular_jobs.groupby(['JobID']).size() \\\n",
    "            .sort_values(ascending=False) \\\n",
    "            .reset_index()\n",
    "popular_jobs.rename(columns={0:'count_job'}, inplace=True)"
   ]
  },
  {
   "cell_type": "code",
   "execution_count": 6,
   "id": "b8a4b8bc",
   "metadata": {},
   "outputs": [
    {
     "data": {
      "text/html": [
       "<div>\n",
       "<style scoped>\n",
       "    .dataframe tbody tr th:only-of-type {\n",
       "        vertical-align: middle;\n",
       "    }\n",
       "\n",
       "    .dataframe tbody tr th {\n",
       "        vertical-align: top;\n",
       "    }\n",
       "\n",
       "    .dataframe thead th {\n",
       "        text-align: right;\n",
       "    }\n",
       "</style>\n",
       "<table border=\"1\" class=\"dataframe\">\n",
       "  <thead>\n",
       "    <tr style=\"text-align: right;\">\n",
       "      <th></th>\n",
       "      <th>JobID</th>\n",
       "      <th>count_job</th>\n",
       "    </tr>\n",
       "  </thead>\n",
       "  <tbody>\n",
       "    <tr>\n",
       "      <th>0</th>\n",
       "      <td>900797</td>\n",
       "      <td>45</td>\n",
       "    </tr>\n",
       "    <tr>\n",
       "      <th>1</th>\n",
       "      <td>1050711</td>\n",
       "      <td>41</td>\n",
       "    </tr>\n",
       "    <tr>\n",
       "      <th>2</th>\n",
       "      <td>608463</td>\n",
       "      <td>39</td>\n",
       "    </tr>\n",
       "    <tr>\n",
       "      <th>3</th>\n",
       "      <td>601126</td>\n",
       "      <td>37</td>\n",
       "    </tr>\n",
       "    <tr>\n",
       "      <th>4</th>\n",
       "      <td>802205</td>\n",
       "      <td>36</td>\n",
       "    </tr>\n",
       "  </tbody>\n",
       "</table>\n",
       "</div>"
      ],
      "text/plain": [
       "     JobID  count_job\n",
       "0   900797         45\n",
       "1  1050711         41\n",
       "2   608463         39\n",
       "3   601126         37\n",
       "4   802205         36"
      ]
     },
     "execution_count": 6,
     "metadata": {},
     "output_type": "execute_result"
    }
   ],
   "source": [
    "popular_jobs.head()"
   ]
  },
  {
   "cell_type": "code",
   "execution_count": 7,
   "id": "9ad85586",
   "metadata": {},
   "outputs": [],
   "source": [
    "total = len(dataset)\n",
    "popular_jobs['freq'] = popular_jobs.apply(lambda x: x.count_job/total, axis=1)"
   ]
  },
  {
   "cell_type": "code",
   "execution_count": 8,
   "id": "f1c809eb",
   "metadata": {},
   "outputs": [
    {
     "data": {
      "text/html": [
       "<div>\n",
       "<style scoped>\n",
       "    .dataframe tbody tr th:only-of-type {\n",
       "        vertical-align: middle;\n",
       "    }\n",
       "\n",
       "    .dataframe tbody tr th {\n",
       "        vertical-align: top;\n",
       "    }\n",
       "\n",
       "    .dataframe thead th {\n",
       "        text-align: right;\n",
       "    }\n",
       "</style>\n",
       "<table border=\"1\" class=\"dataframe\">\n",
       "  <thead>\n",
       "    <tr style=\"text-align: right;\">\n",
       "      <th></th>\n",
       "      <th>JobID</th>\n",
       "      <th>count_job</th>\n",
       "      <th>freq</th>\n",
       "    </tr>\n",
       "  </thead>\n",
       "  <tbody>\n",
       "    <tr>\n",
       "      <th>0</th>\n",
       "      <td>900797</td>\n",
       "      <td>45</td>\n",
       "      <td>0.000078</td>\n",
       "    </tr>\n",
       "    <tr>\n",
       "      <th>1</th>\n",
       "      <td>1050711</td>\n",
       "      <td>41</td>\n",
       "      <td>0.000071</td>\n",
       "    </tr>\n",
       "    <tr>\n",
       "      <th>2</th>\n",
       "      <td>608463</td>\n",
       "      <td>39</td>\n",
       "      <td>0.000067</td>\n",
       "    </tr>\n",
       "    <tr>\n",
       "      <th>3</th>\n",
       "      <td>601126</td>\n",
       "      <td>37</td>\n",
       "      <td>0.000064</td>\n",
       "    </tr>\n",
       "    <tr>\n",
       "      <th>4</th>\n",
       "      <td>802205</td>\n",
       "      <td>36</td>\n",
       "      <td>0.000062</td>\n",
       "    </tr>\n",
       "  </tbody>\n",
       "</table>\n",
       "</div>"
      ],
      "text/plain": [
       "     JobID  count_job      freq\n",
       "0   900797         45  0.000078\n",
       "1  1050711         41  0.000071\n",
       "2   608463         39  0.000067\n",
       "3   601126         37  0.000064\n",
       "4   802205         36  0.000062"
      ]
     },
     "execution_count": 8,
     "metadata": {},
     "output_type": "execute_result"
    }
   ],
   "source": [
    "popular_jobs.head()"
   ]
  },
  {
   "cell_type": "code",
   "execution_count": 9,
   "id": "49919830",
   "metadata": {},
   "outputs": [],
   "source": [
    "popular_jobs['cum_freq'] = popular_jobs.freq.cumsum()"
   ]
  },
  {
   "cell_type": "code",
   "execution_count": 10,
   "id": "adeda590",
   "metadata": {},
   "outputs": [
    {
     "data": {
      "text/html": [
       "<div>\n",
       "<style scoped>\n",
       "    .dataframe tbody tr th:only-of-type {\n",
       "        vertical-align: middle;\n",
       "    }\n",
       "\n",
       "    .dataframe tbody tr th {\n",
       "        vertical-align: top;\n",
       "    }\n",
       "\n",
       "    .dataframe thead th {\n",
       "        text-align: right;\n",
       "    }\n",
       "</style>\n",
       "<table border=\"1\" class=\"dataframe\">\n",
       "  <thead>\n",
       "    <tr style=\"text-align: right;\">\n",
       "      <th></th>\n",
       "      <th>JobID</th>\n",
       "      <th>count_job</th>\n",
       "      <th>freq</th>\n",
       "      <th>cum_freq</th>\n",
       "    </tr>\n",
       "  </thead>\n",
       "  <tbody>\n",
       "    <tr>\n",
       "      <th>0</th>\n",
       "      <td>900797</td>\n",
       "      <td>45</td>\n",
       "      <td>0.000078</td>\n",
       "      <td>0.000078</td>\n",
       "    </tr>\n",
       "    <tr>\n",
       "      <th>1</th>\n",
       "      <td>1050711</td>\n",
       "      <td>41</td>\n",
       "      <td>0.000071</td>\n",
       "      <td>0.000148</td>\n",
       "    </tr>\n",
       "    <tr>\n",
       "      <th>2</th>\n",
       "      <td>608463</td>\n",
       "      <td>39</td>\n",
       "      <td>0.000067</td>\n",
       "      <td>0.000216</td>\n",
       "    </tr>\n",
       "    <tr>\n",
       "      <th>3</th>\n",
       "      <td>601126</td>\n",
       "      <td>37</td>\n",
       "      <td>0.000064</td>\n",
       "      <td>0.000279</td>\n",
       "    </tr>\n",
       "    <tr>\n",
       "      <th>4</th>\n",
       "      <td>802205</td>\n",
       "      <td>36</td>\n",
       "      <td>0.000062</td>\n",
       "      <td>0.000342</td>\n",
       "    </tr>\n",
       "    <tr>\n",
       "      <th>...</th>\n",
       "      <td>...</td>\n",
       "      <td>...</td>\n",
       "      <td>...</td>\n",
       "      <td>...</td>\n",
       "    </tr>\n",
       "    <tr>\n",
       "      <th>380560</th>\n",
       "      <td>437042</td>\n",
       "      <td>1</td>\n",
       "      <td>0.000002</td>\n",
       "      <td>0.999993</td>\n",
       "    </tr>\n",
       "    <tr>\n",
       "      <th>380561</th>\n",
       "      <td>437039</td>\n",
       "      <td>1</td>\n",
       "      <td>0.000002</td>\n",
       "      <td>0.999995</td>\n",
       "    </tr>\n",
       "    <tr>\n",
       "      <th>380562</th>\n",
       "      <td>437037</td>\n",
       "      <td>1</td>\n",
       "      <td>0.000002</td>\n",
       "      <td>0.999997</td>\n",
       "    </tr>\n",
       "    <tr>\n",
       "      <th>380563</th>\n",
       "      <td>437034</td>\n",
       "      <td>1</td>\n",
       "      <td>0.000002</td>\n",
       "      <td>0.999998</td>\n",
       "    </tr>\n",
       "    <tr>\n",
       "      <th>380564</th>\n",
       "      <td>1116313</td>\n",
       "      <td>1</td>\n",
       "      <td>0.000002</td>\n",
       "      <td>1.000000</td>\n",
       "    </tr>\n",
       "  </tbody>\n",
       "</table>\n",
       "<p>380565 rows × 4 columns</p>\n",
       "</div>"
      ],
      "text/plain": [
       "          JobID  count_job      freq  cum_freq\n",
       "0        900797         45  0.000078  0.000078\n",
       "1       1050711         41  0.000071  0.000148\n",
       "2        608463         39  0.000067  0.000216\n",
       "3        601126         37  0.000064  0.000279\n",
       "4        802205         36  0.000062  0.000342\n",
       "...         ...        ...       ...       ...\n",
       "380560   437042          1  0.000002  0.999993\n",
       "380561   437039          1  0.000002  0.999995\n",
       "380562   437037          1  0.000002  0.999997\n",
       "380563   437034          1  0.000002  0.999998\n",
       "380564  1116313          1  0.000002  1.000000\n",
       "\n",
       "[380565 rows x 4 columns]"
      ]
     },
     "execution_count": 10,
     "metadata": {},
     "output_type": "execute_result"
    }
   ],
   "source": [
    "popular_jobs"
   ]
  },
  {
   "cell_type": "code",
   "execution_count": 11,
   "id": "308e8627",
   "metadata": {},
   "outputs": [],
   "source": [
    "top15_jobs = popular_jobs[popular_jobs['cum_freq'] <= 0.15]"
   ]
  },
  {
   "cell_type": "code",
   "execution_count": 12,
   "id": "7144b23f",
   "metadata": {},
   "outputs": [],
   "source": [
    "top15_jobs.to_csv('./data_interim/top15_jobs.csv', header=True, index=False)"
   ]
  },
  {
   "cell_type": "code",
   "execution_count": 13,
   "id": "2c37d119",
   "metadata": {},
   "outputs": [
    {
     "data": {
      "text/plain": [
       "14721"
      ]
     },
     "execution_count": 13,
     "metadata": {},
     "output_type": "execute_result"
    }
   ],
   "source": [
    "len(top15_jobs)"
   ]
  },
  {
   "cell_type": "code",
   "execution_count": null,
   "id": "42203ba0",
   "metadata": {},
   "outputs": [],
   "source": []
  },
  {
   "cell_type": "code",
   "execution_count": null,
   "id": "1ae604cb",
   "metadata": {},
   "outputs": [],
   "source": []
  }
 ],
 "metadata": {
  "kernelspec": {
   "display_name": "Python 3 (ipykernel)",
   "language": "python",
   "name": "python3"
  },
  "language_info": {
   "codemirror_mode": {
    "name": "ipython",
    "version": 3
   },
   "file_extension": ".py",
   "mimetype": "text/x-python",
   "name": "python",
   "nbconvert_exporter": "python",
   "pygments_lexer": "ipython3",
   "version": "3.9.12"
  }
 },
 "nbformat": 4,
 "nbformat_minor": 5
}
