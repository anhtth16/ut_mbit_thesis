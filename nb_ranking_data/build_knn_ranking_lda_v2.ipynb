{
 "cells": [
  {
   "cell_type": "markdown",
   "id": "450212ed",
   "metadata": {},
   "source": [
    "## Build ranking dataset for topN recommendation\n",
    "## Source: LDA features (tabular)\n",
    "## Method: Knn (nearest neighbor), metrics: hamming distance\n",
    "\n",
    "- Result: ranking_data: 371,600\n",
    "    - UserID\n",
    "    - ItemID\n",
    "    - City, State, Country\n",
    "\n",
    "- Process:\n",
    "    - Use tabular dataset to build KNN models with 100 neighbors (trained on X_train)\n",
    "    - Get 100 neighbors for each test application (total: 15,776 applications)\n",
    "    - Reduce duplication of (UserId, ItemID, cosine distance) in the final result\n",
    "    - Sorted result based on cosine distance\n",
    "    - Group result by UserID, retain only first 100 JobID for a User\n",
    "    - Apply checking function for UserID, JobID"
   ]
  },
  {
   "cell_type": "code",
   "execution_count": 1,
   "id": "398549b5",
   "metadata": {},
   "outputs": [],
   "source": [
    "# import caffeine\n",
    "# caffeine.on(display=False)"
   ]
  },
  {
   "cell_type": "code",
   "execution_count": 2,
   "id": "9ff45d70",
   "metadata": {},
   "outputs": [],
   "source": [
    "import warnings\n",
    "warnings.filterwarnings('ignore')"
   ]
  },
  {
   "cell_type": "code",
   "execution_count": 3,
   "id": "057e1608",
   "metadata": {},
   "outputs": [
    {
     "name": "stdout",
     "output_type": "stream",
     "text": [
      "Working directory: /home/jovyan/1_UT THESIS/CB12_MAIN/nb_recsys_ebm\n"
     ]
    }
   ],
   "source": [
    "# Run this for reproduce\n",
    "# Gets the current working directory\n",
    "import os\n",
    "cwd = os.getcwd()\n",
    "print(\"Working directory:\", cwd)\n",
    "# Go up one directory from working directory\n",
    "os.chdir(\"..\")"
   ]
  },
  {
   "cell_type": "code",
   "execution_count": 4,
   "id": "e3f0ba17",
   "metadata": {},
   "outputs": [],
   "source": [
    "import pandas as pd\n",
    "import numpy as np"
   ]
  },
  {
   "cell_type": "code",
   "execution_count": 5,
   "id": "c3dacf9b",
   "metadata": {},
   "outputs": [],
   "source": [
    "from sklearn.neighbors import NearestNeighbors\n",
    "from sklearn.metrics.pairwise import cosine_distances"
   ]
  },
  {
   "cell_type": "code",
   "execution_count": 6,
   "id": "4112ea84",
   "metadata": {},
   "outputs": [],
   "source": [
    "# Load input: train_data_extended, test_data_extended\n",
    "train_data_extended = pd.read_csv('./xai_recsys/train_data_extended.csv')\n",
    "test_data_extended = pd.read_csv('./xai_recsys/test_data_extended.csv')"
   ]
  },
  {
   "cell_type": "code",
   "execution_count": 7,
   "id": "354aa481",
   "metadata": {},
   "outputs": [
    {
     "data": {
      "text/html": [
       "<div>\n",
       "<style scoped>\n",
       "    .dataframe tbody tr th:only-of-type {\n",
       "        vertical-align: middle;\n",
       "    }\n",
       "\n",
       "    .dataframe tbody tr th {\n",
       "        vertical-align: top;\n",
       "    }\n",
       "\n",
       "    .dataframe thead th {\n",
       "        text-align: right;\n",
       "    }\n",
       "</style>\n",
       "<table border=\"1\" class=\"dataframe\">\n",
       "  <thead>\n",
       "    <tr style=\"text-align: right;\">\n",
       "      <th></th>\n",
       "      <th>UserID</th>\n",
       "      <th>JobID</th>\n",
       "      <th>label</th>\n",
       "      <th>City</th>\n",
       "      <th>State</th>\n",
       "      <th>Country</th>\n",
       "      <th>Split</th>\n",
       "      <th>DegreeType</th>\n",
       "      <th>CurrentlyEmployed</th>\n",
       "      <th>ManagedOthers</th>\n",
       "      <th>WorkHistoryTopic</th>\n",
       "      <th>WorkHistoryLevel</th>\n",
       "      <th>SeniorLevel</th>\n",
       "      <th>ReqTopic</th>\n",
       "      <th>DescTopic</th>\n",
       "      <th>TitTopic</th>\n",
       "    </tr>\n",
       "  </thead>\n",
       "  <tbody>\n",
       "    <tr>\n",
       "      <th>0</th>\n",
       "      <td>13</td>\n",
       "      <td>821691</td>\n",
       "      <td>1</td>\n",
       "      <td>0.0</td>\n",
       "      <td>1.0</td>\n",
       "      <td>1.0</td>\n",
       "      <td>Test</td>\n",
       "      <td>4</td>\n",
       "      <td>1</td>\n",
       "      <td>0</td>\n",
       "      <td>0</td>\n",
       "      <td>3</td>\n",
       "      <td>2.0</td>\n",
       "      <td>5</td>\n",
       "      <td>1</td>\n",
       "      <td>0</td>\n",
       "    </tr>\n",
       "    <tr>\n",
       "      <th>1</th>\n",
       "      <td>13</td>\n",
       "      <td>329572</td>\n",
       "      <td>0</td>\n",
       "      <td>0.0</td>\n",
       "      <td>0.0</td>\n",
       "      <td>1.0</td>\n",
       "      <td>Test</td>\n",
       "      <td>4</td>\n",
       "      <td>1</td>\n",
       "      <td>0</td>\n",
       "      <td>0</td>\n",
       "      <td>3</td>\n",
       "      <td>2.0</td>\n",
       "      <td>15</td>\n",
       "      <td>18</td>\n",
       "      <td>0</td>\n",
       "    </tr>\n",
       "    <tr>\n",
       "      <th>2</th>\n",
       "      <td>514</td>\n",
       "      <td>131166</td>\n",
       "      <td>1</td>\n",
       "      <td>0.0</td>\n",
       "      <td>0.0</td>\n",
       "      <td>1.0</td>\n",
       "      <td>Test</td>\n",
       "      <td>5</td>\n",
       "      <td>0</td>\n",
       "      <td>0</td>\n",
       "      <td>0</td>\n",
       "      <td>2</td>\n",
       "      <td>2.0</td>\n",
       "      <td>18</td>\n",
       "      <td>1</td>\n",
       "      <td>0</td>\n",
       "    </tr>\n",
       "    <tr>\n",
       "      <th>3</th>\n",
       "      <td>514</td>\n",
       "      <td>620304</td>\n",
       "      <td>0</td>\n",
       "      <td>0.0</td>\n",
       "      <td>0.0</td>\n",
       "      <td>1.0</td>\n",
       "      <td>Test</td>\n",
       "      <td>5</td>\n",
       "      <td>0</td>\n",
       "      <td>0</td>\n",
       "      <td>0</td>\n",
       "      <td>2</td>\n",
       "      <td>2.0</td>\n",
       "      <td>18</td>\n",
       "      <td>15</td>\n",
       "      <td>0</td>\n",
       "    </tr>\n",
       "    <tr>\n",
       "      <th>4</th>\n",
       "      <td>681</td>\n",
       "      <td>654542</td>\n",
       "      <td>1</td>\n",
       "      <td>0.0</td>\n",
       "      <td>1.0</td>\n",
       "      <td>1.0</td>\n",
       "      <td>Test</td>\n",
       "      <td>1</td>\n",
       "      <td>0</td>\n",
       "      <td>0</td>\n",
       "      <td>0</td>\n",
       "      <td>1</td>\n",
       "      <td>2.0</td>\n",
       "      <td>18</td>\n",
       "      <td>18</td>\n",
       "      <td>0</td>\n",
       "    </tr>\n",
       "  </tbody>\n",
       "</table>\n",
       "</div>"
      ],
      "text/plain": [
       "   UserID   JobID  label  City  State  Country Split  DegreeType  \\\n",
       "0      13  821691      1   0.0    1.0      1.0  Test           4   \n",
       "1      13  329572      0   0.0    0.0      1.0  Test           4   \n",
       "2     514  131166      1   0.0    0.0      1.0  Test           5   \n",
       "3     514  620304      0   0.0    0.0      1.0  Test           5   \n",
       "4     681  654542      1   0.0    1.0      1.0  Test           1   \n",
       "\n",
       "   CurrentlyEmployed  ManagedOthers  WorkHistoryTopic  WorkHistoryLevel  \\\n",
       "0                  1              0                 0                 3   \n",
       "1                  1              0                 0                 3   \n",
       "2                  0              0                 0                 2   \n",
       "3                  0              0                 0                 2   \n",
       "4                  0              0                 0                 1   \n",
       "\n",
       "   SeniorLevel  ReqTopic  DescTopic  TitTopic  \n",
       "0          2.0         5          1         0  \n",
       "1          2.0        15         18         0  \n",
       "2          2.0        18          1         0  \n",
       "3          2.0        18         15         0  \n",
       "4          2.0        18         18         0  "
      ]
     },
     "execution_count": 7,
     "metadata": {},
     "output_type": "execute_result"
    }
   ],
   "source": [
    "train_data_extended.head()\n",
    "test_data_extended.head()"
   ]
  },
  {
   "cell_type": "code",
   "execution_count": 8,
   "id": "637ee435",
   "metadata": {},
   "outputs": [
    {
     "data": {
      "text/plain": [
       "Index(['UserID', 'JobID', 'label', 'City', 'State', 'Country', 'Split',\n",
       "       'DegreeType', 'CurrentlyEmployed', 'ManagedOthers', 'WorkHistoryTopic',\n",
       "       'WorkHistoryLevel', 'SeniorLevel', 'ReqTopic', 'DescTopic', 'TitTopic'],\n",
       "      dtype='object')"
      ]
     },
     "execution_count": 8,
     "metadata": {},
     "output_type": "execute_result"
    }
   ],
   "source": [
    "train_data_extended.columns"
   ]
  },
  {
   "cell_type": "markdown",
   "id": "53a1f5e9",
   "metadata": {},
   "source": [
    "## Get feature vectors"
   ]
  },
  {
   "cell_type": "code",
   "execution_count": 9,
   "id": "4340965e-f77f-4382-b209-38dd9a21c01e",
   "metadata": {},
   "outputs": [],
   "source": [
    "test_data_extended = test_data_extended.dropna()"
   ]
  },
  {
   "cell_type": "code",
   "execution_count": 10,
   "id": "7ba83c07-634d-4c83-acac-13bf229b9cbf",
   "metadata": {},
   "outputs": [],
   "source": [
    "train_data_extended = train_data_extended.dropna()"
   ]
  },
  {
   "cell_type": "code",
   "execution_count": 11,
   "id": "14c096a7",
   "metadata": {},
   "outputs": [],
   "source": [
    "X_train = train_data_extended.drop(columns = ['label','Split','UserID', 'JobID'], axis = 1)\n",
    "X_test = test_data_extended.drop(columns = ['label','Split','UserID', 'JobID'], axis = 1)"
   ]
  },
  {
   "cell_type": "code",
   "execution_count": 12,
   "id": "c909af10",
   "metadata": {},
   "outputs": [],
   "source": [
    "y_train = np.load(\"./xai_posthoc/y_train_tabular.npy\")\n",
    "y_test = np.load(\"./xai_posthoc/y_test_tabular.npy\")"
   ]
  },
  {
   "cell_type": "code",
   "execution_count": 13,
   "id": "fe752a1b-5d7d-46d1-8f0a-e974b8d9b0a1",
   "metadata": {},
   "outputs": [
    {
     "data": {
      "text/html": [
       "<div>\n",
       "<style scoped>\n",
       "    .dataframe tbody tr th:only-of-type {\n",
       "        vertical-align: middle;\n",
       "    }\n",
       "\n",
       "    .dataframe tbody tr th {\n",
       "        vertical-align: top;\n",
       "    }\n",
       "\n",
       "    .dataframe thead th {\n",
       "        text-align: right;\n",
       "    }\n",
       "</style>\n",
       "<table border=\"1\" class=\"dataframe\">\n",
       "  <thead>\n",
       "    <tr style=\"text-align: right;\">\n",
       "      <th></th>\n",
       "      <th>City</th>\n",
       "      <th>State</th>\n",
       "      <th>Country</th>\n",
       "      <th>DegreeType</th>\n",
       "      <th>CurrentlyEmployed</th>\n",
       "      <th>ManagedOthers</th>\n",
       "      <th>WorkHistoryTopic</th>\n",
       "      <th>WorkHistoryLevel</th>\n",
       "      <th>SeniorLevel</th>\n",
       "      <th>ReqTopic</th>\n",
       "      <th>DescTopic</th>\n",
       "      <th>TitTopic</th>\n",
       "    </tr>\n",
       "  </thead>\n",
       "  <tbody>\n",
       "    <tr>\n",
       "      <th>0</th>\n",
       "      <td>1.0</td>\n",
       "      <td>1.0</td>\n",
       "      <td>1.0</td>\n",
       "      <td>1</td>\n",
       "      <td>1</td>\n",
       "      <td>0</td>\n",
       "      <td>0</td>\n",
       "      <td>1</td>\n",
       "      <td>4.0</td>\n",
       "      <td>18</td>\n",
       "      <td>2</td>\n",
       "      <td>0</td>\n",
       "    </tr>\n",
       "    <tr>\n",
       "      <th>1</th>\n",
       "      <td>1.0</td>\n",
       "      <td>1.0</td>\n",
       "      <td>1.0</td>\n",
       "      <td>1</td>\n",
       "      <td>1</td>\n",
       "      <td>0</td>\n",
       "      <td>0</td>\n",
       "      <td>1</td>\n",
       "      <td>4.0</td>\n",
       "      <td>18</td>\n",
       "      <td>2</td>\n",
       "      <td>0</td>\n",
       "    </tr>\n",
       "    <tr>\n",
       "      <th>2</th>\n",
       "      <td>0.0</td>\n",
       "      <td>0.0</td>\n",
       "      <td>1.0</td>\n",
       "      <td>1</td>\n",
       "      <td>1</td>\n",
       "      <td>0</td>\n",
       "      <td>0</td>\n",
       "      <td>1</td>\n",
       "      <td>4.0</td>\n",
       "      <td>0</td>\n",
       "      <td>18</td>\n",
       "      <td>0</td>\n",
       "    </tr>\n",
       "    <tr>\n",
       "      <th>3</th>\n",
       "      <td>0.0</td>\n",
       "      <td>0.0</td>\n",
       "      <td>1.0</td>\n",
       "      <td>1</td>\n",
       "      <td>1</td>\n",
       "      <td>0</td>\n",
       "      <td>0</td>\n",
       "      <td>1</td>\n",
       "      <td>4.0</td>\n",
       "      <td>18</td>\n",
       "      <td>15</td>\n",
       "      <td>0</td>\n",
       "    </tr>\n",
       "    <tr>\n",
       "      <th>4</th>\n",
       "      <td>1.0</td>\n",
       "      <td>1.0</td>\n",
       "      <td>1.0</td>\n",
       "      <td>1</td>\n",
       "      <td>1</td>\n",
       "      <td>0</td>\n",
       "      <td>0</td>\n",
       "      <td>1</td>\n",
       "      <td>1.0</td>\n",
       "      <td>5</td>\n",
       "      <td>18</td>\n",
       "      <td>0</td>\n",
       "    </tr>\n",
       "  </tbody>\n",
       "</table>\n",
       "</div>"
      ],
      "text/plain": [
       "   City  State  Country  DegreeType  CurrentlyEmployed  ManagedOthers  \\\n",
       "0   1.0    1.0      1.0           1                  1              0   \n",
       "1   1.0    1.0      1.0           1                  1              0   \n",
       "2   0.0    0.0      1.0           1                  1              0   \n",
       "3   0.0    0.0      1.0           1                  1              0   \n",
       "4   1.0    1.0      1.0           1                  1              0   \n",
       "\n",
       "   WorkHistoryTopic  WorkHistoryLevel  SeniorLevel  ReqTopic  DescTopic  \\\n",
       "0                 0                 1          4.0        18          2   \n",
       "1                 0                 1          4.0        18          2   \n",
       "2                 0                 1          4.0         0         18   \n",
       "3                 0                 1          4.0        18         15   \n",
       "4                 0                 1          1.0         5         18   \n",
       "\n",
       "   TitTopic  \n",
       "0         0  \n",
       "1         0  \n",
       "2         0  \n",
       "3         0  \n",
       "4         0  "
      ]
     },
     "execution_count": 13,
     "metadata": {},
     "output_type": "execute_result"
    }
   ],
   "source": [
    "X_train.head()"
   ]
  },
  {
   "cell_type": "code",
   "execution_count": 14,
   "id": "c5cf7f29-e5c7-4fdb-9b3b-e6484be7c23e",
   "metadata": {},
   "outputs": [
    {
     "name": "stdout",
     "output_type": "stream",
     "text": [
      "<class 'pandas.core.frame.DataFrame'>\n",
      "Index: 560759 entries, 0 to 563888\n",
      "Data columns (total 12 columns):\n",
      " #   Column             Non-Null Count   Dtype  \n",
      "---  ------             --------------   -----  \n",
      " 0   City               560759 non-null  float64\n",
      " 1   State              560759 non-null  float64\n",
      " 2   Country            560759 non-null  float64\n",
      " 3   DegreeType         560759 non-null  int64  \n",
      " 4   CurrentlyEmployed  560759 non-null  int64  \n",
      " 5   ManagedOthers      560759 non-null  int64  \n",
      " 6   WorkHistoryTopic   560759 non-null  int64  \n",
      " 7   WorkHistoryLevel   560759 non-null  int64  \n",
      " 8   SeniorLevel        560759 non-null  float64\n",
      " 9   ReqTopic           560759 non-null  int64  \n",
      " 10  DescTopic          560759 non-null  int64  \n",
      " 11  TitTopic           560759 non-null  int64  \n",
      "dtypes: float64(4), int64(8)\n",
      "memory usage: 55.6 MB\n"
     ]
    }
   ],
   "source": [
    "X_train.info()"
   ]
  },
  {
   "cell_type": "markdown",
   "id": "b833a335-a869-4313-aeb0-fc0e2377bff5",
   "metadata": {},
   "source": [
    "## Build KNN models"
   ]
  },
  {
   "cell_type": "code",
   "execution_count": 15,
   "id": "f446036a",
   "metadata": {},
   "outputs": [],
   "source": [
    "# Create an instance of the NearestNeighbors model\n",
    "knn = NearestNeighbors(metric='hamming', n_neighbors = 100)  # Set the distance metric, e.g., 'euclidean' or 'cosine'"
   ]
  },
  {
   "cell_type": "code",
   "execution_count": 16,
   "id": "1c389072",
   "metadata": {},
   "outputs": [
    {
     "data": {
      "text/html": [
       "<style>#sk-container-id-1 {color: black;background-color: white;}#sk-container-id-1 pre{padding: 0;}#sk-container-id-1 div.sk-toggleable {background-color: white;}#sk-container-id-1 label.sk-toggleable__label {cursor: pointer;display: block;width: 100%;margin-bottom: 0;padding: 0.3em;box-sizing: border-box;text-align: center;}#sk-container-id-1 label.sk-toggleable__label-arrow:before {content: \"▸\";float: left;margin-right: 0.25em;color: #696969;}#sk-container-id-1 label.sk-toggleable__label-arrow:hover:before {color: black;}#sk-container-id-1 div.sk-estimator:hover label.sk-toggleable__label-arrow:before {color: black;}#sk-container-id-1 div.sk-toggleable__content {max-height: 0;max-width: 0;overflow: hidden;text-align: left;background-color: #f0f8ff;}#sk-container-id-1 div.sk-toggleable__content pre {margin: 0.2em;color: black;border-radius: 0.25em;background-color: #f0f8ff;}#sk-container-id-1 input.sk-toggleable__control:checked~div.sk-toggleable__content {max-height: 200px;max-width: 100%;overflow: auto;}#sk-container-id-1 input.sk-toggleable__control:checked~label.sk-toggleable__label-arrow:before {content: \"▾\";}#sk-container-id-1 div.sk-estimator input.sk-toggleable__control:checked~label.sk-toggleable__label {background-color: #d4ebff;}#sk-container-id-1 div.sk-label input.sk-toggleable__control:checked~label.sk-toggleable__label {background-color: #d4ebff;}#sk-container-id-1 input.sk-hidden--visually {border: 0;clip: rect(1px 1px 1px 1px);clip: rect(1px, 1px, 1px, 1px);height: 1px;margin: -1px;overflow: hidden;padding: 0;position: absolute;width: 1px;}#sk-container-id-1 div.sk-estimator {font-family: monospace;background-color: #f0f8ff;border: 1px dotted black;border-radius: 0.25em;box-sizing: border-box;margin-bottom: 0.5em;}#sk-container-id-1 div.sk-estimator:hover {background-color: #d4ebff;}#sk-container-id-1 div.sk-parallel-item::after {content: \"\";width: 100%;border-bottom: 1px solid gray;flex-grow: 1;}#sk-container-id-1 div.sk-label:hover label.sk-toggleable__label {background-color: #d4ebff;}#sk-container-id-1 div.sk-serial::before {content: \"\";position: absolute;border-left: 1px solid gray;box-sizing: border-box;top: 0;bottom: 0;left: 50%;z-index: 0;}#sk-container-id-1 div.sk-serial {display: flex;flex-direction: column;align-items: center;background-color: white;padding-right: 0.2em;padding-left: 0.2em;position: relative;}#sk-container-id-1 div.sk-item {position: relative;z-index: 1;}#sk-container-id-1 div.sk-parallel {display: flex;align-items: stretch;justify-content: center;background-color: white;position: relative;}#sk-container-id-1 div.sk-item::before, #sk-container-id-1 div.sk-parallel-item::before {content: \"\";position: absolute;border-left: 1px solid gray;box-sizing: border-box;top: 0;bottom: 0;left: 50%;z-index: -1;}#sk-container-id-1 div.sk-parallel-item {display: flex;flex-direction: column;z-index: 1;position: relative;background-color: white;}#sk-container-id-1 div.sk-parallel-item:first-child::after {align-self: flex-end;width: 50%;}#sk-container-id-1 div.sk-parallel-item:last-child::after {align-self: flex-start;width: 50%;}#sk-container-id-1 div.sk-parallel-item:only-child::after {width: 0;}#sk-container-id-1 div.sk-dashed-wrapped {border: 1px dashed gray;margin: 0 0.4em 0.5em 0.4em;box-sizing: border-box;padding-bottom: 0.4em;background-color: white;}#sk-container-id-1 div.sk-label label {font-family: monospace;font-weight: bold;display: inline-block;line-height: 1.2em;}#sk-container-id-1 div.sk-label-container {text-align: center;}#sk-container-id-1 div.sk-container {/* jupyter's `normalize.less` sets `[hidden] { display: none; }` but bootstrap.min.css set `[hidden] { display: none !important; }` so we also need the `!important` here to be able to override the default hidden behavior on the sphinx rendered scikit-learn.org. See: https://github.com/scikit-learn/scikit-learn/issues/21755 */display: inline-block !important;position: relative;}#sk-container-id-1 div.sk-text-repr-fallback {display: none;}</style><div id=\"sk-container-id-1\" class=\"sk-top-container\"><div class=\"sk-text-repr-fallback\"><pre>NearestNeighbors(metric=&#x27;hamming&#x27;, n_neighbors=100)</pre><b>In a Jupyter environment, please rerun this cell to show the HTML representation or trust the notebook. <br />On GitHub, the HTML representation is unable to render, please try loading this page with nbviewer.org.</b></div><div class=\"sk-container\" hidden><div class=\"sk-item\"><div class=\"sk-estimator sk-toggleable\"><input class=\"sk-toggleable__control sk-hidden--visually\" id=\"sk-estimator-id-1\" type=\"checkbox\" checked><label for=\"sk-estimator-id-1\" class=\"sk-toggleable__label sk-toggleable__label-arrow\">NearestNeighbors</label><div class=\"sk-toggleable__content\"><pre>NearestNeighbors(metric=&#x27;hamming&#x27;, n_neighbors=100)</pre></div></div></div></div></div>"
      ],
      "text/plain": [
       "NearestNeighbors(metric='hamming', n_neighbors=100)"
      ]
     },
     "execution_count": 16,
     "metadata": {},
     "output_type": "execute_result"
    }
   ],
   "source": [
    "# Step 4: Fit the model to the combined feature matrix\n",
    "knn.fit(X_train, y_train)"
   ]
  },
  {
   "cell_type": "markdown",
   "id": "4bae6216",
   "metadata": {
    "tags": []
   },
   "source": [
    "## Get 100 similar items for one test data\n",
    "- 1 Test application: 1 row in X_test\n",
    "- 100 similar transaction are derived from X_train using knn models\n",
    "- Return a dictionary: \n",
    "    - key: user_id\n",
    "    - value: tupple of (job_id, label of that transaction)\n",
    "- For topN recommendation we only need list of 100 jobs "
   ]
  },
  {
   "cell_type": "code",
   "execution_count": null,
   "id": "3eecf200",
   "metadata": {},
   "outputs": [],
   "source": [
    "query = np.reshape(X_test.loc[0], (1, -1))"
   ]
  },
  {
   "cell_type": "code",
   "execution_count": null,
   "id": "a1c1a58d-2369-4e4b-bc8c-9988196e7840",
   "metadata": {},
   "outputs": [],
   "source": [
    "distances, indices = knn.kneighbors(query, n_neighbors=100)"
   ]
  },
  {
   "cell_type": "code",
   "execution_count": null,
   "id": "ae2a7883",
   "metadata": {},
   "outputs": [],
   "source": [
    "distances"
   ]
  },
  {
   "cell_type": "code",
   "execution_count": null,
   "id": "4f9e2791",
   "metadata": {},
   "outputs": [],
   "source": [
    "indices"
   ]
  },
  {
   "cell_type": "code",
   "execution_count": null,
   "id": "e71b5373",
   "metadata": {},
   "outputs": [],
   "source": [
    "indices[0]"
   ]
  },
  {
   "cell_type": "code",
   "execution_count": null,
   "id": "8314c821",
   "metadata": {},
   "outputs": [],
   "source": [
    "# Retrieve the actual items using the indices (Retrieve from X_train)\n",
    "knn_items = X_train.iloc[indices[0]]\n",
    "# Print the retrieved items\n",
    "knn_items.head()"
   ]
  },
  {
   "cell_type": "code",
   "execution_count": null,
   "id": "60dc305b",
   "metadata": {},
   "outputs": [],
   "source": [
    "# Retrieve the actual items using the indices (Retrieve from data_train)\n",
    "knn_items_detail = train_data_extended.iloc[indices[0]]"
   ]
  },
  {
   "cell_type": "code",
   "execution_count": null,
   "id": "aa7e4ab3",
   "metadata": {},
   "outputs": [],
   "source": [
    "knn_items_detail.head()"
   ]
  },
  {
   "cell_type": "code",
   "execution_count": null,
   "id": "c53e4fd7",
   "metadata": {},
   "outputs": [],
   "source": [
    "len(knn_items_detail)"
   ]
  },
  {
   "cell_type": "code",
   "execution_count": null,
   "id": "1c070e85",
   "metadata": {},
   "outputs": [],
   "source": [
    "knn_items_detail.UserID.values"
   ]
  },
  {
   "cell_type": "code",
   "execution_count": null,
   "id": "f85e14f6",
   "metadata": {},
   "outputs": [],
   "source": [
    "knn_items_detail.UserID.duplicated().sum()"
   ]
  },
  {
   "cell_type": "code",
   "execution_count": null,
   "id": "81f94079",
   "metadata": {},
   "outputs": [],
   "source": [
    "len(knn_items_detail.UserID)"
   ]
  },
  {
   "cell_type": "code",
   "execution_count": null,
   "id": "10593952",
   "metadata": {},
   "outputs": [],
   "source": [
    "knn_items_detail[['UserID', 'JobID']].duplicated().sum()"
   ]
  },
  {
   "cell_type": "code",
   "execution_count": null,
   "id": "d20dcd9c",
   "metadata": {},
   "outputs": [],
   "source": [
    "# This may result in less than 100 items in knn_result if there is duplication in userid (In this case result is 69)\n",
    "knn_result = {}\n",
    "count = 0\n",
    "for i in range(len(knn_items_detail.UserID)):\n",
    "    rec_user = knn_items_detail.UserID.values[i]\n",
    "    rec_item = knn_items_detail.JobID.values[i]\n",
    "    rec_label = knn_items_detail.label.values[i]\n",
    "    #print(rec_item, rec_label)\n",
    "    zip_value = (rec_item, rec_label)\n",
    "    knn_result[rec_user] = zip_value\n",
    "    count +=1"
   ]
  },
  {
   "cell_type": "code",
   "execution_count": null,
   "id": "c403e816",
   "metadata": {},
   "outputs": [],
   "source": [
    "print(count)"
   ]
  },
  {
   "cell_type": "code",
   "execution_count": null,
   "id": "ad6cba57",
   "metadata": {},
   "outputs": [],
   "source": [
    "len(knn_result)"
   ]
  },
  {
   "cell_type": "code",
   "execution_count": null,
   "id": "c1ad68ad",
   "metadata": {},
   "outputs": [],
   "source": [
    "# gel all items for this user\n",
    "rec_jobid = [i[0] for i in knn_result.values()]"
   ]
  },
  {
   "cell_type": "code",
   "execution_count": null,
   "id": "c1b70915",
   "metadata": {},
   "outputs": [],
   "source": [
    "test_data_extended.loc[0]"
   ]
  },
  {
   "cell_type": "code",
   "execution_count": null,
   "id": "dc98fa5f",
   "metadata": {},
   "outputs": [],
   "source": [
    "knn_result_df = knn_items_detail[['UserID','JobID','label','City','State','Country']]"
   ]
  },
  {
   "cell_type": "code",
   "execution_count": null,
   "id": "5f3670e6",
   "metadata": {},
   "outputs": [],
   "source": [
    "knn_result_df['cosine_distance'] = distances[0]"
   ]
  },
  {
   "cell_type": "code",
   "execution_count": null,
   "id": "335beccf",
   "metadata": {},
   "outputs": [],
   "source": [
    "knn_result_df"
   ]
  },
  {
   "cell_type": "code",
   "execution_count": null,
   "id": "f89bc55c",
   "metadata": {},
   "outputs": [],
   "source": [
    "def zipmap(df): return list(zip(*map(df.get, df)))"
   ]
  },
  {
   "cell_type": "code",
   "execution_count": null,
   "id": "f643ea21",
   "metadata": {},
   "outputs": [],
   "source": [
    "knn_result_list = zipmap(knn_result_df)"
   ]
  },
  {
   "cell_type": "code",
   "execution_count": null,
   "id": "9419392b",
   "metadata": {},
   "outputs": [],
   "source": [
    "len(knn_result_list)"
   ]
  },
  {
   "cell_type": "code",
   "execution_count": 25,
   "id": "0bb26365",
   "metadata": {},
   "outputs": [],
   "source": [
    "# knn_indices and knn_distances are 1D array from the result of knn_neighbors\n",
    "def get_knn_results(knn_indices, knn_distances, select_cols): \n",
    "    # Retrieve the actual items using the indices (Retrieve from data_train)\n",
    "    knn_items_detail = train_data_extended.iloc[knn_indices]\n",
    "    \n",
    "    # Select columns to be included in the result: Example: ['JobID']\n",
    "    knn_result_df = knn_items_detail[select_cols]\n",
    "    knn_result_df['hamming_distance'] = knn_distances\n",
    "    \n",
    "    def zipmap(df): return list(zip(*map(df.get, df)))\n",
    "    \n",
    "    knn_result_list = zipmap(knn_result_df)\n",
    "    return knn_result_list"
   ]
  },
  {
   "cell_type": "code",
   "execution_count": null,
   "id": "388dbb1a",
   "metadata": {},
   "outputs": [],
   "source": [
    "# Get only jobID\n",
    "check_knn_list = get_knn_results(knn_indices = indices[0],\n",
    "                                 knn_distances = distances[0],\n",
    "                select_cols = ['JobID'])"
   ]
  },
  {
   "cell_type": "code",
   "execution_count": null,
   "id": "724f0b71",
   "metadata": {},
   "outputs": [],
   "source": [
    "len(check_knn_list)"
   ]
  },
  {
   "cell_type": "code",
   "execution_count": null,
   "id": "59f930ad",
   "metadata": {},
   "outputs": [],
   "source": [
    "check_knn_list"
   ]
  },
  {
   "cell_type": "markdown",
   "id": "4f09eb9e",
   "metadata": {},
   "source": [
    "## Get 100 neighbors all test interaction data"
   ]
  },
  {
   "cell_type": "code",
   "execution_count": 17,
   "id": "f282ad0e",
   "metadata": {},
   "outputs": [
    {
     "name": "stdout",
     "output_type": "stream",
     "text": [
      "CPU times: user 5min 41s, sys: 0 ns, total: 5min 41s\n",
      "Wall time: 5min 41s\n"
     ]
    }
   ],
   "source": [
    "%%time\n",
    "distances_test, indices_test = knn.kneighbors(X_test, \n",
    "                                              n_neighbors=100)"
   ]
  },
  {
   "cell_type": "code",
   "execution_count": 18,
   "id": "dfbccd02",
   "metadata": {},
   "outputs": [
    {
     "data": {
      "text/plain": [
       "(15640, 15640)"
      ]
     },
     "execution_count": 18,
     "metadata": {},
     "output_type": "execute_result"
    }
   ],
   "source": [
    "len(indices_test), len(distances_test)"
   ]
  },
  {
   "cell_type": "code",
   "execution_count": 19,
   "id": "32ec85c7",
   "metadata": {},
   "outputs": [],
   "source": [
    "knn_test_results = test_data_extended[['UserID']]"
   ]
  },
  {
   "cell_type": "code",
   "execution_count": 20,
   "id": "03689d10",
   "metadata": {},
   "outputs": [
    {
     "data": {
      "text/html": [
       "<div>\n",
       "<style scoped>\n",
       "    .dataframe tbody tr th:only-of-type {\n",
       "        vertical-align: middle;\n",
       "    }\n",
       "\n",
       "    .dataframe tbody tr th {\n",
       "        vertical-align: top;\n",
       "    }\n",
       "\n",
       "    .dataframe thead th {\n",
       "        text-align: right;\n",
       "    }\n",
       "</style>\n",
       "<table border=\"1\" class=\"dataframe\">\n",
       "  <thead>\n",
       "    <tr style=\"text-align: right;\">\n",
       "      <th></th>\n",
       "      <th>UserID</th>\n",
       "    </tr>\n",
       "  </thead>\n",
       "  <tbody>\n",
       "    <tr>\n",
       "      <th>0</th>\n",
       "      <td>13</td>\n",
       "    </tr>\n",
       "    <tr>\n",
       "      <th>1</th>\n",
       "      <td>13</td>\n",
       "    </tr>\n",
       "    <tr>\n",
       "      <th>2</th>\n",
       "      <td>514</td>\n",
       "    </tr>\n",
       "    <tr>\n",
       "      <th>3</th>\n",
       "      <td>514</td>\n",
       "    </tr>\n",
       "    <tr>\n",
       "      <th>4</th>\n",
       "      <td>681</td>\n",
       "    </tr>\n",
       "    <tr>\n",
       "      <th>...</th>\n",
       "      <td>...</td>\n",
       "    </tr>\n",
       "    <tr>\n",
       "      <th>15731</th>\n",
       "      <td>1471251</td>\n",
       "    </tr>\n",
       "    <tr>\n",
       "      <th>15732</th>\n",
       "      <td>1471251</td>\n",
       "    </tr>\n",
       "    <tr>\n",
       "      <th>15733</th>\n",
       "      <td>1471251</td>\n",
       "    </tr>\n",
       "    <tr>\n",
       "      <th>15734</th>\n",
       "      <td>1471988</td>\n",
       "    </tr>\n",
       "    <tr>\n",
       "      <th>15735</th>\n",
       "      <td>1471988</td>\n",
       "    </tr>\n",
       "  </tbody>\n",
       "</table>\n",
       "<p>15640 rows × 1 columns</p>\n",
       "</div>"
      ],
      "text/plain": [
       "        UserID\n",
       "0           13\n",
       "1           13\n",
       "2          514\n",
       "3          514\n",
       "4          681\n",
       "...        ...\n",
       "15731  1471251\n",
       "15732  1471251\n",
       "15733  1471251\n",
       "15734  1471988\n",
       "15735  1471988\n",
       "\n",
       "[15640 rows x 1 columns]"
      ]
     },
     "execution_count": 20,
     "metadata": {},
     "output_type": "execute_result"
    }
   ],
   "source": [
    "knn_test_results"
   ]
  },
  {
   "cell_type": "code",
   "execution_count": 21,
   "id": "5e688625",
   "metadata": {},
   "outputs": [
    {
     "data": {
      "text/plain": [
       "UserID    13\n",
       "Name: 0, dtype: int64"
      ]
     },
     "execution_count": 21,
     "metadata": {},
     "output_type": "execute_result"
    }
   ],
   "source": [
    "knn_test_results.loc[0]"
   ]
  },
  {
   "cell_type": "code",
   "execution_count": 22,
   "id": "e99d60c6",
   "metadata": {},
   "outputs": [
    {
     "data": {
      "text/plain": [
       "array([ 38224, 483351, 188915, 382179, 145215, 186389, 243615, 350562,\n",
       "       550264,   5655,  97369,  97018, 128812, 142397, 156946, 179373,\n",
       "       219919, 231183, 297793, 496712, 511733, 320303,  64236,  62393,\n",
       "        63935,   9137,  78043,  98251,   1318, 106783, 112977, 117705,\n",
       "        44452,  63690, 115157, 119661,   8998,  62009,  41038, 110853,\n",
       "        15497,  41114,  40870,  42638,  54410,  41533,  51977,  63091,\n",
       "        67308,  67309,   5656,  42468, 150245,  78053,  80031,  90553,\n",
       "        21635,  43107,    744,   3420,  63850, 113300,   1320,  71350,\n",
       "       111200, 114338,  98025, 122177,  62538, 119091,  25163,   8550,\n",
       "        37267,  44752,  47105,  32622,  13727,  19550,  47611,  41592,\n",
       "        16587,  15982,  24236,  29491,  38699,  39131,  46756,  42378,\n",
       "        43610,  41385,  55152,  58690,  54878,  56407,  61383,   4242,\n",
       "        66419,  67307,  64790,  66164])"
      ]
     },
     "execution_count": 22,
     "metadata": {},
     "output_type": "execute_result"
    }
   ],
   "source": [
    "indices_test[0]"
   ]
  },
  {
   "cell_type": "code",
   "execution_count": 23,
   "id": "9bbe2e9a",
   "metadata": {},
   "outputs": [
    {
     "data": {
      "text/plain": [
       "array([0.        , 0.        , 0.        , 0.        , 0.        ,\n",
       "       0.        , 0.        , 0.        , 0.        , 0.        ,\n",
       "       0.        , 0.        , 0.        , 0.        , 0.        ,\n",
       "       0.        , 0.        , 0.        , 0.        , 0.        ,\n",
       "       0.        , 0.        , 0.08333333, 0.08333333, 0.08333333,\n",
       "       0.08333333, 0.08333333, 0.08333333, 0.08333333, 0.08333333,\n",
       "       0.08333333, 0.08333333, 0.08333333, 0.08333333, 0.08333333,\n",
       "       0.08333333, 0.08333333, 0.08333333, 0.08333333, 0.08333333,\n",
       "       0.08333333, 0.08333333, 0.08333333, 0.08333333, 0.08333333,\n",
       "       0.08333333, 0.08333333, 0.08333333, 0.08333333, 0.08333333,\n",
       "       0.08333333, 0.08333333, 0.08333333, 0.08333333, 0.08333333,\n",
       "       0.08333333, 0.08333333, 0.08333333, 0.08333333, 0.08333333,\n",
       "       0.08333333, 0.08333333, 0.08333333, 0.08333333, 0.08333333,\n",
       "       0.08333333, 0.08333333, 0.08333333, 0.08333333, 0.08333333,\n",
       "       0.08333333, 0.08333333, 0.08333333, 0.08333333, 0.08333333,\n",
       "       0.08333333, 0.08333333, 0.08333333, 0.08333333, 0.08333333,\n",
       "       0.08333333, 0.08333333, 0.08333333, 0.08333333, 0.08333333,\n",
       "       0.08333333, 0.08333333, 0.08333333, 0.08333333, 0.08333333,\n",
       "       0.08333333, 0.08333333, 0.08333333, 0.08333333, 0.08333333,\n",
       "       0.08333333, 0.08333333, 0.08333333, 0.08333333, 0.08333333])"
      ]
     },
     "execution_count": 23,
     "metadata": {},
     "output_type": "execute_result"
    }
   ],
   "source": [
    "distances_test[0]"
   ]
  },
  {
   "cell_type": "code",
   "execution_count": 26,
   "id": "73650475",
   "metadata": {},
   "outputs": [],
   "source": [
    "verify_knn_list = get_knn_results(knn_indices = indices_test[0], knn_distances = distances_test[0],\n",
    "                select_cols = ['JobID'])"
   ]
  },
  {
   "cell_type": "code",
   "execution_count": 27,
   "id": "4de0466b",
   "metadata": {},
   "outputs": [
    {
     "data": {
      "text/plain": [
       "100"
      ]
     },
     "execution_count": 27,
     "metadata": {},
     "output_type": "execute_result"
    }
   ],
   "source": [
    "len(verify_knn_list)"
   ]
  },
  {
   "cell_type": "code",
   "execution_count": 29,
   "id": "3cd35212",
   "metadata": {},
   "outputs": [],
   "source": [
    "# len(check_knn_list)"
   ]
  },
  {
   "cell_type": "code",
   "execution_count": 32,
   "id": "d9c78cd6",
   "metadata": {},
   "outputs": [
    {
     "data": {
      "text/plain": [
       "[(828955, 0.0), (341276, 0.0), (614701, 0.0), (568507, 0.0), (852123, 0.0)]"
      ]
     },
     "execution_count": 32,
     "metadata": {},
     "output_type": "execute_result"
    }
   ],
   "source": [
    "verify_knn_list[:5]"
   ]
  },
  {
   "cell_type": "code",
   "execution_count": 33,
   "id": "4b997108",
   "metadata": {},
   "outputs": [
    {
     "name": "stdout",
     "output_type": "stream",
     "text": [
      "CPU times: user 12.1 s, sys: 279 ms, total: 12.4 s\n",
      "Wall time: 12 s\n"
     ]
    }
   ],
   "source": [
    "%%time\n",
    "knn_test_details = []\n",
    "for i in range(len(knn_test_results)):\n",
    "    result_list = get_knn_results(knn_indices = indices_test[i], \n",
    "                                  knn_distances = distances_test[i],\n",
    "                select_cols = ['JobID', 'label'])\n",
    "    knn_test_details.append(result_list)"
   ]
  },
  {
   "cell_type": "code",
   "execution_count": 34,
   "id": "4c7a6099",
   "metadata": {},
   "outputs": [
    {
     "data": {
      "text/plain": [
       "15640"
      ]
     },
     "execution_count": 34,
     "metadata": {},
     "output_type": "execute_result"
    }
   ],
   "source": [
    "len(knn_test_details)"
   ]
  },
  {
   "cell_type": "code",
   "execution_count": 35,
   "id": "35928420",
   "metadata": {},
   "outputs": [
    {
     "data": {
      "text/plain": [
       "100"
      ]
     },
     "execution_count": 35,
     "metadata": {},
     "output_type": "execute_result"
    }
   ],
   "source": [
    "len(knn_test_details[0])"
   ]
  },
  {
   "cell_type": "code",
   "execution_count": 36,
   "id": "37195cf7",
   "metadata": {},
   "outputs": [],
   "source": [
    "knn_test_results['detail'] = knn_test_details"
   ]
  },
  {
   "cell_type": "code",
   "execution_count": 37,
   "id": "05bb41a4",
   "metadata": {},
   "outputs": [
    {
     "data": {
      "text/html": [
       "<div>\n",
       "<style scoped>\n",
       "    .dataframe tbody tr th:only-of-type {\n",
       "        vertical-align: middle;\n",
       "    }\n",
       "\n",
       "    .dataframe tbody tr th {\n",
       "        vertical-align: top;\n",
       "    }\n",
       "\n",
       "    .dataframe thead th {\n",
       "        text-align: right;\n",
       "    }\n",
       "</style>\n",
       "<table border=\"1\" class=\"dataframe\">\n",
       "  <thead>\n",
       "    <tr style=\"text-align: right;\">\n",
       "      <th></th>\n",
       "      <th>UserID</th>\n",
       "      <th>detail</th>\n",
       "    </tr>\n",
       "  </thead>\n",
       "  <tbody>\n",
       "    <tr>\n",
       "      <th>0</th>\n",
       "      <td>13</td>\n",
       "      <td>[(828955, 1, 0.0), (341276, 1, 0.0), (614701, ...</td>\n",
       "    </tr>\n",
       "    <tr>\n",
       "      <th>1</th>\n",
       "      <td>13</td>\n",
       "      <td>[(755985, 0, 0.0), (265838, 1, 0.0), (602478, ...</td>\n",
       "    </tr>\n",
       "    <tr>\n",
       "      <th>2</th>\n",
       "      <td>514</td>\n",
       "      <td>[(261968, 0, 0.0), (196371, 1, 0.0), (164289, ...</td>\n",
       "    </tr>\n",
       "    <tr>\n",
       "      <th>3</th>\n",
       "      <td>514</td>\n",
       "      <td>[(334090, 1, 0.0), (1056249, 0, 0.0), (128458,...</td>\n",
       "    </tr>\n",
       "    <tr>\n",
       "      <th>4</th>\n",
       "      <td>681</td>\n",
       "      <td>[(23230, 1, 0.0), (156182, 1, 0.0), (261651, 1...</td>\n",
       "    </tr>\n",
       "  </tbody>\n",
       "</table>\n",
       "</div>"
      ],
      "text/plain": [
       "   UserID                                             detail\n",
       "0      13  [(828955, 1, 0.0), (341276, 1, 0.0), (614701, ...\n",
       "1      13  [(755985, 0, 0.0), (265838, 1, 0.0), (602478, ...\n",
       "2     514  [(261968, 0, 0.0), (196371, 1, 0.0), (164289, ...\n",
       "3     514  [(334090, 1, 0.0), (1056249, 0, 0.0), (128458,...\n",
       "4     681  [(23230, 1, 0.0), (156182, 1, 0.0), (261651, 1..."
      ]
     },
     "execution_count": 37,
     "metadata": {},
     "output_type": "execute_result"
    }
   ],
   "source": [
    "knn_test_results.head()"
   ]
  },
  {
   "cell_type": "code",
   "execution_count": 38,
   "id": "0ab8282c",
   "metadata": {},
   "outputs": [],
   "source": [
    "knn_test_explode = knn_test_results.explode(column='detail', ignore_index=False)"
   ]
  },
  {
   "cell_type": "code",
   "execution_count": 39,
   "id": "366852df",
   "metadata": {},
   "outputs": [
    {
     "data": {
      "text/plain": [
       "1564000"
      ]
     },
     "execution_count": 39,
     "metadata": {},
     "output_type": "execute_result"
    }
   ],
   "source": [
    "len(knn_test_explode)"
   ]
  },
  {
   "cell_type": "code",
   "execution_count": 40,
   "id": "c7913f4b",
   "metadata": {},
   "outputs": [
    {
     "data": {
      "text/html": [
       "<div>\n",
       "<style scoped>\n",
       "    .dataframe tbody tr th:only-of-type {\n",
       "        vertical-align: middle;\n",
       "    }\n",
       "\n",
       "    .dataframe tbody tr th {\n",
       "        vertical-align: top;\n",
       "    }\n",
       "\n",
       "    .dataframe thead th {\n",
       "        text-align: right;\n",
       "    }\n",
       "</style>\n",
       "<table border=\"1\" class=\"dataframe\">\n",
       "  <thead>\n",
       "    <tr style=\"text-align: right;\">\n",
       "      <th></th>\n",
       "      <th>UserID</th>\n",
       "      <th>detail</th>\n",
       "    </tr>\n",
       "  </thead>\n",
       "  <tbody>\n",
       "    <tr>\n",
       "      <th>0</th>\n",
       "      <td>13</td>\n",
       "      <td>(828955, 1, 0.0)</td>\n",
       "    </tr>\n",
       "    <tr>\n",
       "      <th>0</th>\n",
       "      <td>13</td>\n",
       "      <td>(341276, 1, 0.0)</td>\n",
       "    </tr>\n",
       "    <tr>\n",
       "      <th>0</th>\n",
       "      <td>13</td>\n",
       "      <td>(614701, 1, 0.0)</td>\n",
       "    </tr>\n",
       "    <tr>\n",
       "      <th>0</th>\n",
       "      <td>13</td>\n",
       "      <td>(568507, 1, 0.0)</td>\n",
       "    </tr>\n",
       "    <tr>\n",
       "      <th>0</th>\n",
       "      <td>13</td>\n",
       "      <td>(852123, 1, 0.0)</td>\n",
       "    </tr>\n",
       "  </tbody>\n",
       "</table>\n",
       "</div>"
      ],
      "text/plain": [
       "   UserID            detail\n",
       "0      13  (828955, 1, 0.0)\n",
       "0      13  (341276, 1, 0.0)\n",
       "0      13  (614701, 1, 0.0)\n",
       "0      13  (568507, 1, 0.0)\n",
       "0      13  (852123, 1, 0.0)"
      ]
     },
     "execution_count": 40,
     "metadata": {},
     "output_type": "execute_result"
    }
   ],
   "source": [
    "knn_test_explode.head()"
   ]
  },
  {
   "cell_type": "code",
   "execution_count": 41,
   "id": "109c9e5f",
   "metadata": {},
   "outputs": [],
   "source": [
    "knn_test_explode['JobID'] = knn_test_explode.apply(lambda x: x.detail[0], axis=1)"
   ]
  },
  {
   "cell_type": "code",
   "execution_count": 42,
   "id": "cc333b55",
   "metadata": {},
   "outputs": [
    {
     "data": {
      "text/html": [
       "<div>\n",
       "<style scoped>\n",
       "    .dataframe tbody tr th:only-of-type {\n",
       "        vertical-align: middle;\n",
       "    }\n",
       "\n",
       "    .dataframe tbody tr th {\n",
       "        vertical-align: top;\n",
       "    }\n",
       "\n",
       "    .dataframe thead th {\n",
       "        text-align: right;\n",
       "    }\n",
       "</style>\n",
       "<table border=\"1\" class=\"dataframe\">\n",
       "  <thead>\n",
       "    <tr style=\"text-align: right;\">\n",
       "      <th></th>\n",
       "      <th>UserID</th>\n",
       "      <th>detail</th>\n",
       "      <th>JobID</th>\n",
       "    </tr>\n",
       "  </thead>\n",
       "  <tbody>\n",
       "    <tr>\n",
       "      <th>0</th>\n",
       "      <td>13</td>\n",
       "      <td>(828955, 1, 0.0)</td>\n",
       "      <td>828955</td>\n",
       "    </tr>\n",
       "    <tr>\n",
       "      <th>0</th>\n",
       "      <td>13</td>\n",
       "      <td>(341276, 1, 0.0)</td>\n",
       "      <td>341276</td>\n",
       "    </tr>\n",
       "    <tr>\n",
       "      <th>0</th>\n",
       "      <td>13</td>\n",
       "      <td>(614701, 1, 0.0)</td>\n",
       "      <td>614701</td>\n",
       "    </tr>\n",
       "    <tr>\n",
       "      <th>0</th>\n",
       "      <td>13</td>\n",
       "      <td>(568507, 1, 0.0)</td>\n",
       "      <td>568507</td>\n",
       "    </tr>\n",
       "    <tr>\n",
       "      <th>0</th>\n",
       "      <td>13</td>\n",
       "      <td>(852123, 1, 0.0)</td>\n",
       "      <td>852123</td>\n",
       "    </tr>\n",
       "  </tbody>\n",
       "</table>\n",
       "</div>"
      ],
      "text/plain": [
       "   UserID            detail   JobID\n",
       "0      13  (828955, 1, 0.0)  828955\n",
       "0      13  (341276, 1, 0.0)  341276\n",
       "0      13  (614701, 1, 0.0)  614701\n",
       "0      13  (568507, 1, 0.0)  568507\n",
       "0      13  (852123, 1, 0.0)  852123"
      ]
     },
     "execution_count": 42,
     "metadata": {},
     "output_type": "execute_result"
    }
   ],
   "source": [
    "knn_test_explode.head()"
   ]
  },
  {
   "cell_type": "code",
   "execution_count": 43,
   "id": "74e96a09",
   "metadata": {},
   "outputs": [],
   "source": [
    "knn_test_explode['hamming_distance'] = knn_test_explode.apply(lambda x: x.detail[2], axis=1)"
   ]
  },
  {
   "cell_type": "code",
   "execution_count": 44,
   "id": "576c08c0",
   "metadata": {},
   "outputs": [
    {
     "data": {
      "text/html": [
       "<div>\n",
       "<style scoped>\n",
       "    .dataframe tbody tr th:only-of-type {\n",
       "        vertical-align: middle;\n",
       "    }\n",
       "\n",
       "    .dataframe tbody tr th {\n",
       "        vertical-align: top;\n",
       "    }\n",
       "\n",
       "    .dataframe thead th {\n",
       "        text-align: right;\n",
       "    }\n",
       "</style>\n",
       "<table border=\"1\" class=\"dataframe\">\n",
       "  <thead>\n",
       "    <tr style=\"text-align: right;\">\n",
       "      <th></th>\n",
       "      <th>UserID</th>\n",
       "      <th>detail</th>\n",
       "      <th>JobID</th>\n",
       "      <th>hamming_distance</th>\n",
       "    </tr>\n",
       "  </thead>\n",
       "  <tbody>\n",
       "    <tr>\n",
       "      <th>0</th>\n",
       "      <td>13</td>\n",
       "      <td>(828955, 1, 0.0)</td>\n",
       "      <td>828955</td>\n",
       "      <td>0.0</td>\n",
       "    </tr>\n",
       "    <tr>\n",
       "      <th>0</th>\n",
       "      <td>13</td>\n",
       "      <td>(341276, 1, 0.0)</td>\n",
       "      <td>341276</td>\n",
       "      <td>0.0</td>\n",
       "    </tr>\n",
       "    <tr>\n",
       "      <th>0</th>\n",
       "      <td>13</td>\n",
       "      <td>(614701, 1, 0.0)</td>\n",
       "      <td>614701</td>\n",
       "      <td>0.0</td>\n",
       "    </tr>\n",
       "    <tr>\n",
       "      <th>0</th>\n",
       "      <td>13</td>\n",
       "      <td>(568507, 1, 0.0)</td>\n",
       "      <td>568507</td>\n",
       "      <td>0.0</td>\n",
       "    </tr>\n",
       "    <tr>\n",
       "      <th>0</th>\n",
       "      <td>13</td>\n",
       "      <td>(852123, 1, 0.0)</td>\n",
       "      <td>852123</td>\n",
       "      <td>0.0</td>\n",
       "    </tr>\n",
       "  </tbody>\n",
       "</table>\n",
       "</div>"
      ],
      "text/plain": [
       "   UserID            detail   JobID  hamming_distance\n",
       "0      13  (828955, 1, 0.0)  828955               0.0\n",
       "0      13  (341276, 1, 0.0)  341276               0.0\n",
       "0      13  (614701, 1, 0.0)  614701               0.0\n",
       "0      13  (568507, 1, 0.0)  568507               0.0\n",
       "0      13  (852123, 1, 0.0)  852123               0.0"
      ]
     },
     "execution_count": 44,
     "metadata": {},
     "output_type": "execute_result"
    }
   ],
   "source": [
    "knn_test_explode.head()"
   ]
  },
  {
   "cell_type": "code",
   "execution_count": 45,
   "id": "08a3ac38",
   "metadata": {},
   "outputs": [
    {
     "data": {
      "text/plain": [
       "0        False\n",
       "0        False\n",
       "0        False\n",
       "0        False\n",
       "0        False\n",
       "         ...  \n",
       "15735    False\n",
       "15735    False\n",
       "15735    False\n",
       "15735    False\n",
       "15735    False\n",
       "Length: 1564000, dtype: bool"
      ]
     },
     "execution_count": 45,
     "metadata": {},
     "output_type": "execute_result"
    }
   ],
   "source": [
    "mask = knn_test_explode[['UserID','JobID','hamming_distance']].duplicated()\n",
    "mask"
   ]
  },
  {
   "cell_type": "code",
   "execution_count": 46,
   "id": "dcd02dbd",
   "metadata": {},
   "outputs": [],
   "source": [
    "# drop duplicate value\n",
    "knn_test_explode = knn_test_explode[mask==False]"
   ]
  },
  {
   "cell_type": "code",
   "execution_count": 47,
   "id": "25c9b8d6-e724-41d7-be7b-b6b601869351",
   "metadata": {},
   "outputs": [],
   "source": [
    "# Get the label from knn neighbors (it is POSSIBLE that the label is from other UserID for the same JobID)\n",
    "knn_test_explode['knn_label'] = knn_test_explode.apply(lambda x: x.detail[1], axis=1)"
   ]
  },
  {
   "cell_type": "code",
   "execution_count": 48,
   "id": "f4b93cfc",
   "metadata": {},
   "outputs": [
    {
     "data": {
      "text/plain": [
       "1425303"
      ]
     },
     "execution_count": 48,
     "metadata": {},
     "output_type": "execute_result"
    }
   ],
   "source": [
    "len(knn_test_explode)"
   ]
  },
  {
   "cell_type": "code",
   "execution_count": 49,
   "id": "0b41309f",
   "metadata": {},
   "outputs": [
    {
     "data": {
      "text/plain": [
       "0"
      ]
     },
     "execution_count": 49,
     "metadata": {},
     "output_type": "execute_result"
    }
   ],
   "source": [
    "knn_test_explode[['UserID','JobID','hamming_distance']].duplicated().sum()"
   ]
  },
  {
   "cell_type": "markdown",
   "id": "170f1c0f-40d7-446b-8ba7-c7bc6bf96350",
   "metadata": {},
   "source": [
    "## Check label of UserID_JobID in the knn_test_explode\n",
    "Similar to script make_knn_tfidf_evaluation. This script check the label on final ranking data but result in a lot of 1.\n",
    "Thus, we do the checking at this step to increase the positive label "
   ]
  },
  {
   "cell_type": "code",
   "execution_count": 50,
   "id": "9898c1d9-fc88-4d7c-8c95-5bd31b5a9b02",
   "metadata": {},
   "outputs": [],
   "source": [
    "# Create interaction data (from original data)\n",
    "select_cols = ['UserID', 'JobID', 'label']\n",
    "select_train = train_data_extended[select_cols]\n",
    "select_test = test_data_extended[select_cols]\n",
    "interactions_df = pd.concat([select_train,select_test])"
   ]
  },
  {
   "cell_type": "code",
   "execution_count": 51,
   "id": "c892f8c7-846e-4d8c-b185-027006afe961",
   "metadata": {},
   "outputs": [
    {
     "data": {
      "text/plain": [
       "(560759, 15640, 576399)"
      ]
     },
     "execution_count": 51,
     "metadata": {},
     "output_type": "execute_result"
    }
   ],
   "source": [
    "len(select_train), len(select_test), len(interactions_df)"
   ]
  },
  {
   "cell_type": "code",
   "execution_count": 52,
   "id": "f11b5d25-b8c8-42ee-b757-8aabc0279c7e",
   "metadata": {},
   "outputs": [],
   "source": [
    "# check_interaction = [(u_id, j_id) for (u_id, j_id) in zip(interactions_df.UserID, interactions_df.JobID)]\n",
    "# ranking_interaction = [(u_id, j_id) for (u_id, j_id) in zip(knn_test_explode.UserID, knn_test_explode.JobID)]"
   ]
  },
  {
   "cell_type": "code",
   "execution_count": 71,
   "id": "50c68d72-b477-4f96-af38-58cbd3892f9f",
   "metadata": {},
   "outputs": [],
   "source": [
    "ranking_data = knn_test_explode.copy()"
   ]
  },
  {
   "cell_type": "code",
   "execution_count": 72,
   "id": "e9cb59bc-dfda-487f-8e68-b3b189b0bd05",
   "metadata": {},
   "outputs": [
    {
     "name": "stdout",
     "output_type": "stream",
     "text": [
      "CPU times: user 10.3 s, sys: 231 ms, total: 10.5 s\n",
      "Wall time: 10.5 s\n"
     ]
    }
   ],
   "source": [
    "%%time\n",
    "# Check if the pair of columns in knn_test_explode exists in interactions_df\n",
    "check_result = ranking_data[['UserID', 'JobID']].apply(tuple, axis=1).isin(interactions_df[['UserID', 'JobID']].apply(tuple, axis=1))\n"
   ]
  },
  {
   "cell_type": "code",
   "execution_count": 73,
   "id": "b8e776d5-23c9-49a6-8bda-0395ea9dd78b",
   "metadata": {},
   "outputs": [
    {
     "data": {
      "text/plain": [
       "1425303"
      ]
     },
     "execution_count": 73,
     "metadata": {},
     "output_type": "execute_result"
    }
   ],
   "source": [
    "len(check_result)"
   ]
  },
  {
   "cell_type": "code",
   "execution_count": 74,
   "id": "558a5a33-3540-4fff-a78d-2109dc81b59b",
   "metadata": {},
   "outputs": [
    {
     "data": {
      "text/plain": [
       "0    False\n",
       "0    False\n",
       "0    False\n",
       "0    False\n",
       "0    False\n",
       "dtype: bool"
      ]
     },
     "execution_count": 74,
     "metadata": {},
     "output_type": "execute_result"
    }
   ],
   "source": [
    "check_result[:5]"
   ]
  },
  {
   "cell_type": "code",
   "execution_count": 75,
   "id": "25b1a46b-e1cc-498c-af16-2ea4302cb787",
   "metadata": {},
   "outputs": [
    {
     "data": {
      "text/html": [
       "<div>\n",
       "<style scoped>\n",
       "    .dataframe tbody tr th:only-of-type {\n",
       "        vertical-align: middle;\n",
       "    }\n",
       "\n",
       "    .dataframe tbody tr th {\n",
       "        vertical-align: top;\n",
       "    }\n",
       "\n",
       "    .dataframe thead th {\n",
       "        text-align: right;\n",
       "    }\n",
       "</style>\n",
       "<table border=\"1\" class=\"dataframe\">\n",
       "  <thead>\n",
       "    <tr style=\"text-align: right;\">\n",
       "      <th></th>\n",
       "      <th>UserID</th>\n",
       "      <th>detail</th>\n",
       "      <th>JobID</th>\n",
       "      <th>hamming_distance</th>\n",
       "      <th>knn_label</th>\n",
       "    </tr>\n",
       "  </thead>\n",
       "  <tbody>\n",
       "    <tr>\n",
       "      <th>0</th>\n",
       "      <td>13</td>\n",
       "      <td>(828955, 1, 0.0)</td>\n",
       "      <td>828955</td>\n",
       "      <td>0.0</td>\n",
       "      <td>1</td>\n",
       "    </tr>\n",
       "    <tr>\n",
       "      <th>0</th>\n",
       "      <td>13</td>\n",
       "      <td>(341276, 1, 0.0)</td>\n",
       "      <td>341276</td>\n",
       "      <td>0.0</td>\n",
       "      <td>1</td>\n",
       "    </tr>\n",
       "    <tr>\n",
       "      <th>0</th>\n",
       "      <td>13</td>\n",
       "      <td>(614701, 1, 0.0)</td>\n",
       "      <td>614701</td>\n",
       "      <td>0.0</td>\n",
       "      <td>1</td>\n",
       "    </tr>\n",
       "    <tr>\n",
       "      <th>0</th>\n",
       "      <td>13</td>\n",
       "      <td>(568507, 1, 0.0)</td>\n",
       "      <td>568507</td>\n",
       "      <td>0.0</td>\n",
       "      <td>1</td>\n",
       "    </tr>\n",
       "    <tr>\n",
       "      <th>0</th>\n",
       "      <td>13</td>\n",
       "      <td>(852123, 1, 0.0)</td>\n",
       "      <td>852123</td>\n",
       "      <td>0.0</td>\n",
       "      <td>1</td>\n",
       "    </tr>\n",
       "    <tr>\n",
       "      <th>...</th>\n",
       "      <td>...</td>\n",
       "      <td>...</td>\n",
       "      <td>...</td>\n",
       "      <td>...</td>\n",
       "      <td>...</td>\n",
       "    </tr>\n",
       "    <tr>\n",
       "      <th>15735</th>\n",
       "      <td>1471988</td>\n",
       "      <td>(188836, 0, 0.0)</td>\n",
       "      <td>188836</td>\n",
       "      <td>0.0</td>\n",
       "      <td>0</td>\n",
       "    </tr>\n",
       "    <tr>\n",
       "      <th>15735</th>\n",
       "      <td>1471988</td>\n",
       "      <td>(514728, 1, 0.0)</td>\n",
       "      <td>514728</td>\n",
       "      <td>0.0</td>\n",
       "      <td>1</td>\n",
       "    </tr>\n",
       "    <tr>\n",
       "      <th>15735</th>\n",
       "      <td>1471988</td>\n",
       "      <td>(597826, 0, 0.0)</td>\n",
       "      <td>597826</td>\n",
       "      <td>0.0</td>\n",
       "      <td>0</td>\n",
       "    </tr>\n",
       "    <tr>\n",
       "      <th>15735</th>\n",
       "      <td>1471988</td>\n",
       "      <td>(226330, 0, 0.0)</td>\n",
       "      <td>226330</td>\n",
       "      <td>0.0</td>\n",
       "      <td>0</td>\n",
       "    </tr>\n",
       "    <tr>\n",
       "      <th>15735</th>\n",
       "      <td>1471988</td>\n",
       "      <td>(1106055, 0, 0.0)</td>\n",
       "      <td>1106055</td>\n",
       "      <td>0.0</td>\n",
       "      <td>0</td>\n",
       "    </tr>\n",
       "  </tbody>\n",
       "</table>\n",
       "<p>1425303 rows × 5 columns</p>\n",
       "</div>"
      ],
      "text/plain": [
       "        UserID             detail    JobID  hamming_distance  knn_label\n",
       "0           13   (828955, 1, 0.0)   828955               0.0          1\n",
       "0           13   (341276, 1, 0.0)   341276               0.0          1\n",
       "0           13   (614701, 1, 0.0)   614701               0.0          1\n",
       "0           13   (568507, 1, 0.0)   568507               0.0          1\n",
       "0           13   (852123, 1, 0.0)   852123               0.0          1\n",
       "...        ...                ...      ...               ...        ...\n",
       "15735  1471988   (188836, 0, 0.0)   188836               0.0          0\n",
       "15735  1471988   (514728, 1, 0.0)   514728               0.0          1\n",
       "15735  1471988   (597826, 0, 0.0)   597826               0.0          0\n",
       "15735  1471988   (226330, 0, 0.0)   226330               0.0          0\n",
       "15735  1471988  (1106055, 0, 0.0)  1106055               0.0          0\n",
       "\n",
       "[1425303 rows x 5 columns]"
      ]
     },
     "execution_count": 75,
     "metadata": {},
     "output_type": "execute_result"
    }
   ],
   "source": [
    "ranking_data"
   ]
  },
  {
   "cell_type": "code",
   "execution_count": 80,
   "id": "cd7fb59d-7f11-45a8-910d-70937d9cda20",
   "metadata": {},
   "outputs": [
    {
     "name": "stdout",
     "output_type": "stream",
     "text": [
      "CPU times: user 551 ms, sys: 75.7 ms, total: 627 ms\n",
      "Wall time: 619 ms\n"
     ]
    }
   ],
   "source": [
    "%%time\n",
    "ranking_data = knn_test_explode.copy()\n",
    "# Merge ranking_data and interaction_df based on UserID, JobID\n",
    "merged_df = pd.merge(ranking_data, interactions_df, left_on=['UserID', 'JobID'], right_on=['UserID', 'JobID'], how='left')\n"
   ]
  },
  {
   "cell_type": "code",
   "execution_count": 81,
   "id": "86da7247-3264-4288-907f-aecf1eae2c45",
   "metadata": {},
   "outputs": [
    {
     "name": "stdout",
     "output_type": "stream",
     "text": [
      "        UserID             detail    JobID  hamming_distance  knn_label  label\n",
      "0           13   (828955, 1, 0.0)   828955               0.0          1    0.0\n",
      "0           13   (341276, 1, 0.0)   341276               0.0          1    0.0\n",
      "0           13   (614701, 1, 0.0)   614701               0.0          1    0.0\n",
      "0           13   (568507, 1, 0.0)   568507               0.0          1    0.0\n",
      "0           13   (852123, 1, 0.0)   852123               0.0          1    0.0\n",
      "...        ...                ...      ...               ...        ...    ...\n",
      "15735  1471988   (188836, 0, 0.0)   188836               0.0          0    0.0\n",
      "15735  1471988   (514728, 1, 0.0)   514728               0.0          1    0.0\n",
      "15735  1471988   (597826, 0, 0.0)   597826               0.0          0    0.0\n",
      "15735  1471988   (226330, 0, 0.0)   226330               0.0          0    0.0\n",
      "15735  1471988  (1106055, 0, 0.0)  1106055               0.0          0    0.0\n",
      "\n",
      "[1425303 rows x 6 columns]\n",
      "CPU times: user 61.9 ms, sys: 20.1 ms, total: 82 ms\n",
      "Wall time: 67.6 ms\n"
     ]
    }
   ],
   "source": [
    "%%time\n",
    "# Create column label in ranking_data based on the merged result\n",
    "ranking_data['label'] = merged_df['label'].fillna(0)\n",
    "print(ranking_data)"
   ]
  },
  {
   "cell_type": "code",
   "execution_count": 82,
   "id": "138bac74-d96b-4c87-b613-534a8a523cb5",
   "metadata": {},
   "outputs": [
    {
     "data": {
      "text/plain": [
       "label\n",
       "0.0    1424621\n",
       "1.0        682\n",
       "Name: count, dtype: int64"
      ]
     },
     "execution_count": 82,
     "metadata": {},
     "output_type": "execute_result"
    }
   ],
   "source": [
    "ranking_data.label.value_counts()"
   ]
  },
  {
   "cell_type": "code",
   "execution_count": null,
   "id": "a758b63d-3e72-4803-9cba-b5d16405f1d9",
   "metadata": {},
   "outputs": [],
   "source": [
    "# %%time\n",
    "# MUCH LONGER TIME\n",
    "# ranking_label =  []\n",
    "# # mark_stop = 0 \n",
    "# for item in ranking_interaction:\n",
    "#     if item in check_interaction:\n",
    "#         label_result = interactions_df[(interactions_df.UserID == item[0]) & (interactions_df.JobID == item[1])].reset_index().loc[0]['label']\n",
    "#         check_interaction.remove(item)\n",
    "#     else:\n",
    "#         label_result = 0\n",
    "#     ranking_label.append(label_result)\n",
    "# #     mark_stop +=1\n",
    "# #     if mark_stop ==3:\n",
    "# #         break"
   ]
  },
  {
   "cell_type": "code",
   "execution_count": null,
   "id": "f18de5ff-4a70-48f7-8df0-55b351a0d4d0",
   "metadata": {},
   "outputs": [],
   "source": []
  },
  {
   "cell_type": "code",
   "execution_count": 94,
   "id": "91c1c0cc",
   "metadata": {},
   "outputs": [],
   "source": [
    "# Sorted values\n",
    "ranking_data_sort = ranking_data.groupby('UserID').apply(lambda x: x.sort_values('hamming_distance'))"
   ]
  },
  {
   "cell_type": "code",
   "execution_count": 95,
   "id": "3f268756",
   "metadata": {},
   "outputs": [
    {
     "data": {
      "text/html": [
       "<div>\n",
       "<style scoped>\n",
       "    .dataframe tbody tr th:only-of-type {\n",
       "        vertical-align: middle;\n",
       "    }\n",
       "\n",
       "    .dataframe tbody tr th {\n",
       "        vertical-align: top;\n",
       "    }\n",
       "\n",
       "    .dataframe thead th {\n",
       "        text-align: right;\n",
       "    }\n",
       "</style>\n",
       "<table border=\"1\" class=\"dataframe\">\n",
       "  <thead>\n",
       "    <tr style=\"text-align: right;\">\n",
       "      <th></th>\n",
       "      <th></th>\n",
       "      <th>UserID</th>\n",
       "      <th>detail</th>\n",
       "      <th>JobID</th>\n",
       "      <th>hamming_distance</th>\n",
       "      <th>knn_label</th>\n",
       "      <th>label</th>\n",
       "    </tr>\n",
       "    <tr>\n",
       "      <th>UserID</th>\n",
       "      <th></th>\n",
       "      <th></th>\n",
       "      <th></th>\n",
       "      <th></th>\n",
       "      <th></th>\n",
       "      <th></th>\n",
       "      <th></th>\n",
       "    </tr>\n",
       "  </thead>\n",
       "  <tbody>\n",
       "    <tr>\n",
       "      <th rowspan=\"5\" valign=\"top\">13</th>\n",
       "      <th>0</th>\n",
       "      <td>13</td>\n",
       "      <td>(828955, 1, 0.0)</td>\n",
       "      <td>828955</td>\n",
       "      <td>0.0</td>\n",
       "      <td>1</td>\n",
       "      <td>0.0</td>\n",
       "    </tr>\n",
       "    <tr>\n",
       "      <th>1</th>\n",
       "      <td>13</td>\n",
       "      <td>(755985, 0, 0.0)</td>\n",
       "      <td>755985</td>\n",
       "      <td>0.0</td>\n",
       "      <td>0</td>\n",
       "      <td>0.0</td>\n",
       "    </tr>\n",
       "    <tr>\n",
       "      <th>1</th>\n",
       "      <td>13</td>\n",
       "      <td>(602478, 0, 0.0)</td>\n",
       "      <td>602478</td>\n",
       "      <td>0.0</td>\n",
       "      <td>0</td>\n",
       "      <td>0.0</td>\n",
       "    </tr>\n",
       "    <tr>\n",
       "      <th>1</th>\n",
       "      <td>13</td>\n",
       "      <td>(299880, 0, 0.0)</td>\n",
       "      <td>299880</td>\n",
       "      <td>0.0</td>\n",
       "      <td>0</td>\n",
       "      <td>0.0</td>\n",
       "    </tr>\n",
       "    <tr>\n",
       "      <th>1</th>\n",
       "      <td>13</td>\n",
       "      <td>(873212, 0, 0.0)</td>\n",
       "      <td>873212</td>\n",
       "      <td>0.0</td>\n",
       "      <td>0</td>\n",
       "      <td>0.0</td>\n",
       "    </tr>\n",
       "  </tbody>\n",
       "</table>\n",
       "</div>"
      ],
      "text/plain": [
       "          UserID            detail   JobID  hamming_distance  knn_label  label\n",
       "UserID                                                                        \n",
       "13     0      13  (828955, 1, 0.0)  828955               0.0          1    0.0\n",
       "       1      13  (755985, 0, 0.0)  755985               0.0          0    0.0\n",
       "       1      13  (602478, 0, 0.0)  602478               0.0          0    0.0\n",
       "       1      13  (299880, 0, 0.0)  299880               0.0          0    0.0\n",
       "       1      13  (873212, 0, 0.0)  873212               0.0          0    0.0"
      ]
     },
     "execution_count": 95,
     "metadata": {},
     "output_type": "execute_result"
    }
   ],
   "source": [
    "ranking_data_sort.head()"
   ]
  },
  {
   "cell_type": "code",
   "execution_count": 96,
   "id": "a1e688c0",
   "metadata": {},
   "outputs": [
    {
     "data": {
      "text/html": [
       "<div>\n",
       "<style scoped>\n",
       "    .dataframe tbody tr th:only-of-type {\n",
       "        vertical-align: middle;\n",
       "    }\n",
       "\n",
       "    .dataframe tbody tr th {\n",
       "        vertical-align: top;\n",
       "    }\n",
       "\n",
       "    .dataframe thead th {\n",
       "        text-align: right;\n",
       "    }\n",
       "</style>\n",
       "<table border=\"1\" class=\"dataframe\">\n",
       "  <thead>\n",
       "    <tr style=\"text-align: right;\">\n",
       "      <th></th>\n",
       "      <th></th>\n",
       "      <th>UserID</th>\n",
       "      <th>detail</th>\n",
       "      <th>JobID</th>\n",
       "      <th>hamming_distance</th>\n",
       "      <th>knn_label</th>\n",
       "      <th>label</th>\n",
       "    </tr>\n",
       "    <tr>\n",
       "      <th>UserID</th>\n",
       "      <th></th>\n",
       "      <th></th>\n",
       "      <th></th>\n",
       "      <th></th>\n",
       "      <th></th>\n",
       "      <th></th>\n",
       "      <th></th>\n",
       "    </tr>\n",
       "  </thead>\n",
       "  <tbody>\n",
       "    <tr>\n",
       "      <th rowspan=\"11\" valign=\"top\">13</th>\n",
       "      <th>0</th>\n",
       "      <td>13</td>\n",
       "      <td>(828955, 1, 0.0)</td>\n",
       "      <td>828955</td>\n",
       "      <td>0.000000</td>\n",
       "      <td>1</td>\n",
       "      <td>0.0</td>\n",
       "    </tr>\n",
       "    <tr>\n",
       "      <th>1</th>\n",
       "      <td>13</td>\n",
       "      <td>(755985, 0, 0.0)</td>\n",
       "      <td>755985</td>\n",
       "      <td>0.000000</td>\n",
       "      <td>0</td>\n",
       "      <td>0.0</td>\n",
       "    </tr>\n",
       "    <tr>\n",
       "      <th>1</th>\n",
       "      <td>13</td>\n",
       "      <td>(602478, 0, 0.0)</td>\n",
       "      <td>602478</td>\n",
       "      <td>0.000000</td>\n",
       "      <td>0</td>\n",
       "      <td>0.0</td>\n",
       "    </tr>\n",
       "    <tr>\n",
       "      <th>1</th>\n",
       "      <td>13</td>\n",
       "      <td>(299880, 0, 0.0)</td>\n",
       "      <td>299880</td>\n",
       "      <td>0.000000</td>\n",
       "      <td>0</td>\n",
       "      <td>0.0</td>\n",
       "    </tr>\n",
       "    <tr>\n",
       "      <th>1</th>\n",
       "      <td>13</td>\n",
       "      <td>(873212, 0, 0.0)</td>\n",
       "      <td>873212</td>\n",
       "      <td>0.000000</td>\n",
       "      <td>0</td>\n",
       "      <td>0.0</td>\n",
       "    </tr>\n",
       "    <tr>\n",
       "      <th>...</th>\n",
       "      <td>...</td>\n",
       "      <td>...</td>\n",
       "      <td>...</td>\n",
       "      <td>...</td>\n",
       "      <td>...</td>\n",
       "      <td>...</td>\n",
       "    </tr>\n",
       "    <tr>\n",
       "      <th>1</th>\n",
       "      <td>13</td>\n",
       "      <td>(276030, 0, 0.08333333333333333)</td>\n",
       "      <td>276030</td>\n",
       "      <td>0.083333</td>\n",
       "      <td>0</td>\n",
       "      <td>0.0</td>\n",
       "    </tr>\n",
       "    <tr>\n",
       "      <th>1</th>\n",
       "      <td>13</td>\n",
       "      <td>(329106, 0, 0.08333333333333333)</td>\n",
       "      <td>329106</td>\n",
       "      <td>0.083333</td>\n",
       "      <td>0</td>\n",
       "      <td>0.0</td>\n",
       "    </tr>\n",
       "    <tr>\n",
       "      <th>1</th>\n",
       "      <td>13</td>\n",
       "      <td>(15092, 0, 0.08333333333333333)</td>\n",
       "      <td>15092</td>\n",
       "      <td>0.083333</td>\n",
       "      <td>0</td>\n",
       "      <td>0.0</td>\n",
       "    </tr>\n",
       "    <tr>\n",
       "      <th>1</th>\n",
       "      <td>13</td>\n",
       "      <td>(764500, 1, 0.08333333333333333)</td>\n",
       "      <td>764500</td>\n",
       "      <td>0.083333</td>\n",
       "      <td>1</td>\n",
       "      <td>0.0</td>\n",
       "    </tr>\n",
       "    <tr>\n",
       "      <th>1</th>\n",
       "      <td>13</td>\n",
       "      <td>(921317, 0, 0.08333333333333333)</td>\n",
       "      <td>921317</td>\n",
       "      <td>0.083333</td>\n",
       "      <td>0</td>\n",
       "      <td>0.0</td>\n",
       "    </tr>\n",
       "  </tbody>\n",
       "</table>\n",
       "<p>100 rows × 6 columns</p>\n",
       "</div>"
      ],
      "text/plain": [
       "          UserID                            detail   JobID  hamming_distance  \\\n",
       "UserID                                                                         \n",
       "13     0      13                  (828955, 1, 0.0)  828955          0.000000   \n",
       "       1      13                  (755985, 0, 0.0)  755985          0.000000   \n",
       "       1      13                  (602478, 0, 0.0)  602478          0.000000   \n",
       "       1      13                  (299880, 0, 0.0)  299880          0.000000   \n",
       "       1      13                  (873212, 0, 0.0)  873212          0.000000   \n",
       "...          ...                               ...     ...               ...   \n",
       "       1      13  (276030, 0, 0.08333333333333333)  276030          0.083333   \n",
       "       1      13  (329106, 0, 0.08333333333333333)  329106          0.083333   \n",
       "       1      13   (15092, 0, 0.08333333333333333)   15092          0.083333   \n",
       "       1      13  (764500, 1, 0.08333333333333333)  764500          0.083333   \n",
       "       1      13  (921317, 0, 0.08333333333333333)  921317          0.083333   \n",
       "\n",
       "          knn_label  label  \n",
       "UserID                      \n",
       "13     0          1    0.0  \n",
       "       1          0    0.0  \n",
       "       1          0    0.0  \n",
       "       1          0    0.0  \n",
       "       1          0    0.0  \n",
       "...             ...    ...  \n",
       "       1          0    0.0  \n",
       "       1          0    0.0  \n",
       "       1          0    0.0  \n",
       "       1          1    0.0  \n",
       "       1          0    0.0  \n",
       "\n",
       "[100 rows x 6 columns]"
      ]
     },
     "execution_count": 96,
     "metadata": {},
     "output_type": "execute_result"
    }
   ],
   "source": [
    "ranking_data_sort[ranking_data_sort.UserID==13][:100]"
   ]
  },
  {
   "cell_type": "code",
   "execution_count": 97,
   "id": "ede959e2",
   "metadata": {},
   "outputs": [],
   "source": [
    "ranking_data_sort = ranking_data_sort.reset_index(drop=True)"
   ]
  },
  {
   "cell_type": "code",
   "execution_count": 98,
   "id": "90f8a962",
   "metadata": {},
   "outputs": [
    {
     "data": {
      "text/html": [
       "<div>\n",
       "<style scoped>\n",
       "    .dataframe tbody tr th:only-of-type {\n",
       "        vertical-align: middle;\n",
       "    }\n",
       "\n",
       "    .dataframe tbody tr th {\n",
       "        vertical-align: top;\n",
       "    }\n",
       "\n",
       "    .dataframe thead th {\n",
       "        text-align: right;\n",
       "    }\n",
       "</style>\n",
       "<table border=\"1\" class=\"dataframe\">\n",
       "  <thead>\n",
       "    <tr style=\"text-align: right;\">\n",
       "      <th></th>\n",
       "      <th>UserID</th>\n",
       "      <th>detail</th>\n",
       "      <th>JobID</th>\n",
       "      <th>hamming_distance</th>\n",
       "      <th>knn_label</th>\n",
       "      <th>label</th>\n",
       "    </tr>\n",
       "  </thead>\n",
       "  <tbody>\n",
       "    <tr>\n",
       "      <th>0</th>\n",
       "      <td>13</td>\n",
       "      <td>(828955, 1, 0.0)</td>\n",
       "      <td>828955</td>\n",
       "      <td>0.000000</td>\n",
       "      <td>1</td>\n",
       "      <td>0.0</td>\n",
       "    </tr>\n",
       "    <tr>\n",
       "      <th>1</th>\n",
       "      <td>13</td>\n",
       "      <td>(755985, 0, 0.0)</td>\n",
       "      <td>755985</td>\n",
       "      <td>0.000000</td>\n",
       "      <td>0</td>\n",
       "      <td>0.0</td>\n",
       "    </tr>\n",
       "    <tr>\n",
       "      <th>2</th>\n",
       "      <td>13</td>\n",
       "      <td>(602478, 0, 0.0)</td>\n",
       "      <td>602478</td>\n",
       "      <td>0.000000</td>\n",
       "      <td>0</td>\n",
       "      <td>0.0</td>\n",
       "    </tr>\n",
       "    <tr>\n",
       "      <th>3</th>\n",
       "      <td>13</td>\n",
       "      <td>(299880, 0, 0.0)</td>\n",
       "      <td>299880</td>\n",
       "      <td>0.000000</td>\n",
       "      <td>0</td>\n",
       "      <td>0.0</td>\n",
       "    </tr>\n",
       "    <tr>\n",
       "      <th>4</th>\n",
       "      <td>13</td>\n",
       "      <td>(873212, 0, 0.0)</td>\n",
       "      <td>873212</td>\n",
       "      <td>0.000000</td>\n",
       "      <td>0</td>\n",
       "      <td>0.0</td>\n",
       "    </tr>\n",
       "    <tr>\n",
       "      <th>...</th>\n",
       "      <td>...</td>\n",
       "      <td>...</td>\n",
       "      <td>...</td>\n",
       "      <td>...</td>\n",
       "      <td>...</td>\n",
       "      <td>...</td>\n",
       "    </tr>\n",
       "    <tr>\n",
       "      <th>1425298</th>\n",
       "      <td>1471988</td>\n",
       "      <td>(172078, 0, 0.08333333333333333)</td>\n",
       "      <td>172078</td>\n",
       "      <td>0.083333</td>\n",
       "      <td>0</td>\n",
       "      <td>0.0</td>\n",
       "    </tr>\n",
       "    <tr>\n",
       "      <th>1425299</th>\n",
       "      <td>1471988</td>\n",
       "      <td>(566170, 1, 0.08333333333333333)</td>\n",
       "      <td>566170</td>\n",
       "      <td>0.083333</td>\n",
       "      <td>1</td>\n",
       "      <td>0.0</td>\n",
       "    </tr>\n",
       "    <tr>\n",
       "      <th>1425300</th>\n",
       "      <td>1471988</td>\n",
       "      <td>(875497, 1, 0.08333333333333333)</td>\n",
       "      <td>875497</td>\n",
       "      <td>0.083333</td>\n",
       "      <td>1</td>\n",
       "      <td>0.0</td>\n",
       "    </tr>\n",
       "    <tr>\n",
       "      <th>1425301</th>\n",
       "      <td>1471988</td>\n",
       "      <td>(803761, 1, 0.08333333333333333)</td>\n",
       "      <td>803761</td>\n",
       "      <td>0.083333</td>\n",
       "      <td>1</td>\n",
       "      <td>0.0</td>\n",
       "    </tr>\n",
       "    <tr>\n",
       "      <th>1425302</th>\n",
       "      <td>1471988</td>\n",
       "      <td>(207076, 1, 0.08333333333333333)</td>\n",
       "      <td>207076</td>\n",
       "      <td>0.083333</td>\n",
       "      <td>1</td>\n",
       "      <td>0.0</td>\n",
       "    </tr>\n",
       "  </tbody>\n",
       "</table>\n",
       "<p>1425303 rows × 6 columns</p>\n",
       "</div>"
      ],
      "text/plain": [
       "          UserID                            detail   JobID  hamming_distance  \\\n",
       "0             13                  (828955, 1, 0.0)  828955          0.000000   \n",
       "1             13                  (755985, 0, 0.0)  755985          0.000000   \n",
       "2             13                  (602478, 0, 0.0)  602478          0.000000   \n",
       "3             13                  (299880, 0, 0.0)  299880          0.000000   \n",
       "4             13                  (873212, 0, 0.0)  873212          0.000000   \n",
       "...          ...                               ...     ...               ...   \n",
       "1425298  1471988  (172078, 0, 0.08333333333333333)  172078          0.083333   \n",
       "1425299  1471988  (566170, 1, 0.08333333333333333)  566170          0.083333   \n",
       "1425300  1471988  (875497, 1, 0.08333333333333333)  875497          0.083333   \n",
       "1425301  1471988  (803761, 1, 0.08333333333333333)  803761          0.083333   \n",
       "1425302  1471988  (207076, 1, 0.08333333333333333)  207076          0.083333   \n",
       "\n",
       "         knn_label  label  \n",
       "0                1    0.0  \n",
       "1                0    0.0  \n",
       "2                0    0.0  \n",
       "3                0    0.0  \n",
       "4                0    0.0  \n",
       "...            ...    ...  \n",
       "1425298          0    0.0  \n",
       "1425299          1    0.0  \n",
       "1425300          1    0.0  \n",
       "1425301          1    0.0  \n",
       "1425302          1    0.0  \n",
       "\n",
       "[1425303 rows x 6 columns]"
      ]
     },
     "execution_count": 98,
     "metadata": {},
     "output_type": "execute_result"
    }
   ],
   "source": [
    "ranking_data_sort"
   ]
  },
  {
   "cell_type": "code",
   "execution_count": 99,
   "id": "568bd418-dd1e-4413-9cf0-e3af966fdccb",
   "metadata": {},
   "outputs": [
    {
     "data": {
      "text/plain": [
       "0          False\n",
       "1          False\n",
       "2          False\n",
       "3          False\n",
       "4          False\n",
       "           ...  \n",
       "1425298    False\n",
       "1425299    False\n",
       "1425300    False\n",
       "1425301    False\n",
       "1425302    False\n",
       "Length: 1425303, dtype: bool"
      ]
     },
     "execution_count": 99,
     "metadata": {},
     "output_type": "execute_result"
    }
   ],
   "source": [
    "mask = ranking_data_sort[['UserID','JobID','label']].duplicated()\n",
    "mask"
   ]
  },
  {
   "cell_type": "code",
   "execution_count": 100,
   "id": "2b324ee3-a561-40db-a411-cfce64e9a523",
   "metadata": {},
   "outputs": [],
   "source": [
    "# drop duplicate value\n",
    "ranking_data_sort = ranking_data_sort[mask==False]"
   ]
  },
  {
   "cell_type": "code",
   "execution_count": 101,
   "id": "a1064702-88ca-45ae-83e0-1c2a82fde046",
   "metadata": {},
   "outputs": [
    {
     "data": {
      "text/html": [
       "<div>\n",
       "<style scoped>\n",
       "    .dataframe tbody tr th:only-of-type {\n",
       "        vertical-align: middle;\n",
       "    }\n",
       "\n",
       "    .dataframe tbody tr th {\n",
       "        vertical-align: top;\n",
       "    }\n",
       "\n",
       "    .dataframe thead th {\n",
       "        text-align: right;\n",
       "    }\n",
       "</style>\n",
       "<table border=\"1\" class=\"dataframe\">\n",
       "  <thead>\n",
       "    <tr style=\"text-align: right;\">\n",
       "      <th></th>\n",
       "      <th>UserID</th>\n",
       "      <th>detail</th>\n",
       "      <th>JobID</th>\n",
       "      <th>hamming_distance</th>\n",
       "      <th>knn_label</th>\n",
       "      <th>label</th>\n",
       "    </tr>\n",
       "  </thead>\n",
       "  <tbody>\n",
       "    <tr>\n",
       "      <th>0</th>\n",
       "      <td>13</td>\n",
       "      <td>(828955, 1, 0.0)</td>\n",
       "      <td>828955</td>\n",
       "      <td>0.000000</td>\n",
       "      <td>1</td>\n",
       "      <td>0.0</td>\n",
       "    </tr>\n",
       "    <tr>\n",
       "      <th>1</th>\n",
       "      <td>13</td>\n",
       "      <td>(755985, 0, 0.0)</td>\n",
       "      <td>755985</td>\n",
       "      <td>0.000000</td>\n",
       "      <td>0</td>\n",
       "      <td>0.0</td>\n",
       "    </tr>\n",
       "    <tr>\n",
       "      <th>2</th>\n",
       "      <td>13</td>\n",
       "      <td>(602478, 0, 0.0)</td>\n",
       "      <td>602478</td>\n",
       "      <td>0.000000</td>\n",
       "      <td>0</td>\n",
       "      <td>0.0</td>\n",
       "    </tr>\n",
       "    <tr>\n",
       "      <th>3</th>\n",
       "      <td>13</td>\n",
       "      <td>(299880, 0, 0.0)</td>\n",
       "      <td>299880</td>\n",
       "      <td>0.000000</td>\n",
       "      <td>0</td>\n",
       "      <td>0.0</td>\n",
       "    </tr>\n",
       "    <tr>\n",
       "      <th>4</th>\n",
       "      <td>13</td>\n",
       "      <td>(873212, 0, 0.0)</td>\n",
       "      <td>873212</td>\n",
       "      <td>0.000000</td>\n",
       "      <td>0</td>\n",
       "      <td>0.0</td>\n",
       "    </tr>\n",
       "    <tr>\n",
       "      <th>...</th>\n",
       "      <td>...</td>\n",
       "      <td>...</td>\n",
       "      <td>...</td>\n",
       "      <td>...</td>\n",
       "      <td>...</td>\n",
       "      <td>...</td>\n",
       "    </tr>\n",
       "    <tr>\n",
       "      <th>1425298</th>\n",
       "      <td>1471988</td>\n",
       "      <td>(172078, 0, 0.08333333333333333)</td>\n",
       "      <td>172078</td>\n",
       "      <td>0.083333</td>\n",
       "      <td>0</td>\n",
       "      <td>0.0</td>\n",
       "    </tr>\n",
       "    <tr>\n",
       "      <th>1425299</th>\n",
       "      <td>1471988</td>\n",
       "      <td>(566170, 1, 0.08333333333333333)</td>\n",
       "      <td>566170</td>\n",
       "      <td>0.083333</td>\n",
       "      <td>1</td>\n",
       "      <td>0.0</td>\n",
       "    </tr>\n",
       "    <tr>\n",
       "      <th>1425300</th>\n",
       "      <td>1471988</td>\n",
       "      <td>(875497, 1, 0.08333333333333333)</td>\n",
       "      <td>875497</td>\n",
       "      <td>0.083333</td>\n",
       "      <td>1</td>\n",
       "      <td>0.0</td>\n",
       "    </tr>\n",
       "    <tr>\n",
       "      <th>1425301</th>\n",
       "      <td>1471988</td>\n",
       "      <td>(803761, 1, 0.08333333333333333)</td>\n",
       "      <td>803761</td>\n",
       "      <td>0.083333</td>\n",
       "      <td>1</td>\n",
       "      <td>0.0</td>\n",
       "    </tr>\n",
       "    <tr>\n",
       "      <th>1425302</th>\n",
       "      <td>1471988</td>\n",
       "      <td>(207076, 1, 0.08333333333333333)</td>\n",
       "      <td>207076</td>\n",
       "      <td>0.083333</td>\n",
       "      <td>1</td>\n",
       "      <td>0.0</td>\n",
       "    </tr>\n",
       "  </tbody>\n",
       "</table>\n",
       "<p>1366157 rows × 6 columns</p>\n",
       "</div>"
      ],
      "text/plain": [
       "          UserID                            detail   JobID  hamming_distance  \\\n",
       "0             13                  (828955, 1, 0.0)  828955          0.000000   \n",
       "1             13                  (755985, 0, 0.0)  755985          0.000000   \n",
       "2             13                  (602478, 0, 0.0)  602478          0.000000   \n",
       "3             13                  (299880, 0, 0.0)  299880          0.000000   \n",
       "4             13                  (873212, 0, 0.0)  873212          0.000000   \n",
       "...          ...                               ...     ...               ...   \n",
       "1425298  1471988  (172078, 0, 0.08333333333333333)  172078          0.083333   \n",
       "1425299  1471988  (566170, 1, 0.08333333333333333)  566170          0.083333   \n",
       "1425300  1471988  (875497, 1, 0.08333333333333333)  875497          0.083333   \n",
       "1425301  1471988  (803761, 1, 0.08333333333333333)  803761          0.083333   \n",
       "1425302  1471988  (207076, 1, 0.08333333333333333)  207076          0.083333   \n",
       "\n",
       "         knn_label  label  \n",
       "0                1    0.0  \n",
       "1                0    0.0  \n",
       "2                0    0.0  \n",
       "3                0    0.0  \n",
       "4                0    0.0  \n",
       "...            ...    ...  \n",
       "1425298          0    0.0  \n",
       "1425299          1    0.0  \n",
       "1425300          1    0.0  \n",
       "1425301          1    0.0  \n",
       "1425302          1    0.0  \n",
       "\n",
       "[1366157 rows x 6 columns]"
      ]
     },
     "execution_count": 101,
     "metadata": {},
     "output_type": "execute_result"
    }
   ],
   "source": [
    "ranking_data_sort"
   ]
  },
  {
   "cell_type": "code",
   "execution_count": 102,
   "id": "50e795d7-fbe5-450d-9b91-eee332968c31",
   "metadata": {},
   "outputs": [],
   "source": [
    "knn_shortlisted = ranking_data_sort.groupby('UserID').head(100)"
   ]
  },
  {
   "cell_type": "code",
   "execution_count": 103,
   "id": "245b2b60-0490-49fe-acd1-844e70c27b08",
   "metadata": {},
   "outputs": [
    {
     "data": {
      "text/plain": [
       "label\n",
       "0.0    368951\n",
       "1.0       147\n",
       "Name: count, dtype: int64"
      ]
     },
     "execution_count": 103,
     "metadata": {},
     "output_type": "execute_result"
    }
   ],
   "source": [
    "knn_shortlisted.label.value_counts()"
   ]
  },
  {
   "cell_type": "code",
   "execution_count": 104,
   "id": "999b3e06-3750-46c2-82bb-f0de4736ebed",
   "metadata": {},
   "outputs": [],
   "source": [
    "knn_shortlisted.to_csv('./nb_recsys_ebm/knn_shortlisted_lda.csv', header=True, index=False)"
   ]
  },
  {
   "cell_type": "markdown",
   "id": "438aabff-c48c-401b-9e3e-1ef4e2e74274",
   "metadata": {},
   "source": [
    "## Add 3 binary features for location matching"
   ]
  },
  {
   "cell_type": "code",
   "execution_count": 106,
   "id": "c6d92d69",
   "metadata": {},
   "outputs": [],
   "source": [
    "# Load clean job data\n",
    "job_set = pd.read_csv(\"./data_processed/jobset_clean.csv\")\n",
    "# Load the dataset from Step 3\n",
    "user_set = pd.read_csv(\"./data_interim/user_set_cleaned.csv\")"
   ]
  },
  {
   "cell_type": "code",
   "execution_count": 107,
   "id": "a4cbf29e",
   "metadata": {},
   "outputs": [],
   "source": [
    "def get_city_match(user_id, job_id):\n",
    "    user = user_set[user_set['UserID'] == user_id].iloc[0]\n",
    "    job = job_set[job_set['JobID'] == job_id].iloc[0]\n",
    "    return float(user['City'] == job['City'])"
   ]
  },
  {
   "cell_type": "code",
   "execution_count": 108,
   "id": "b415fb38",
   "metadata": {},
   "outputs": [],
   "source": [
    "def get_state_match(user_id, job_id):\n",
    "    user = user_set[user_set['UserID'] == user_id].iloc[0]\n",
    "    job = job_set[job_set['JobID'] == job_id].iloc[0]\n",
    "    return float(user['State'] == job['State'])"
   ]
  },
  {
   "cell_type": "code",
   "execution_count": 109,
   "id": "a4faa331",
   "metadata": {},
   "outputs": [],
   "source": [
    "def get_country_match(user_id, job_id):\n",
    "    user = user_set[user_set['UserID'] == user_id].iloc[0]\n",
    "    job = job_set[job_set['JobID'] == job_id].iloc[0]\n",
    "    return float(user['Country'] == job['Country'])"
   ]
  },
  {
   "cell_type": "code",
   "execution_count": 110,
   "id": "e95614b7",
   "metadata": {},
   "outputs": [
    {
     "name": "stdout",
     "output_type": "stream",
     "text": [
      "CPU times: user 25min 27s, sys: 2min 1s, total: 27min 29s\n",
      "Wall time: 9min 24s\n"
     ]
    }
   ],
   "source": [
    "%%time\n",
    "knn_shortlisted['City'] = knn_shortlisted.apply(lambda x: get_city_match(x.UserID, x.JobID), axis=1)\n"
   ]
  },
  {
   "cell_type": "code",
   "execution_count": 111,
   "id": "a2b3b133",
   "metadata": {},
   "outputs": [
    {
     "name": "stdout",
     "output_type": "stream",
     "text": [
      "CPU times: user 23min 48s, sys: 1min 18s, total: 25min 7s\n",
      "Wall time: 8min 36s\n"
     ]
    }
   ],
   "source": [
    "%%time\n",
    "knn_shortlisted['State'] = knn_shortlisted.apply(lambda x: get_state_match(x.UserID, x.JobID), axis=1)"
   ]
  },
  {
   "cell_type": "code",
   "execution_count": 112,
   "id": "1279fcba",
   "metadata": {},
   "outputs": [
    {
     "name": "stdout",
     "output_type": "stream",
     "text": [
      "CPU times: user 24min 48s, sys: 1min 20s, total: 26min 8s\n",
      "Wall time: 8min 54s\n"
     ]
    }
   ],
   "source": [
    "%%time\n",
    "knn_shortlisted['Country'] = knn_shortlisted.apply(lambda x: get_country_match(x.UserID, x.JobID), axis=1)\n"
   ]
  },
  {
   "cell_type": "code",
   "execution_count": 113,
   "id": "46899138-d826-406e-b38e-3241773150ef",
   "metadata": {},
   "outputs": [],
   "source": [
    "knn_shortlisted = knn_shortlisted[['UserID','JobID','label','City','State','Country']]"
   ]
  },
  {
   "cell_type": "code",
   "execution_count": 114,
   "id": "afed17e7",
   "metadata": {},
   "outputs": [
    {
     "data": {
      "text/html": [
       "<div>\n",
       "<style scoped>\n",
       "    .dataframe tbody tr th:only-of-type {\n",
       "        vertical-align: middle;\n",
       "    }\n",
       "\n",
       "    .dataframe tbody tr th {\n",
       "        vertical-align: top;\n",
       "    }\n",
       "\n",
       "    .dataframe thead th {\n",
       "        text-align: right;\n",
       "    }\n",
       "</style>\n",
       "<table border=\"1\" class=\"dataframe\">\n",
       "  <thead>\n",
       "    <tr style=\"text-align: right;\">\n",
       "      <th></th>\n",
       "      <th>UserID</th>\n",
       "      <th>JobID</th>\n",
       "      <th>label</th>\n",
       "      <th>City</th>\n",
       "      <th>State</th>\n",
       "      <th>Country</th>\n",
       "    </tr>\n",
       "  </thead>\n",
       "  <tbody>\n",
       "    <tr>\n",
       "      <th>0</th>\n",
       "      <td>13</td>\n",
       "      <td>828955</td>\n",
       "      <td>0.0</td>\n",
       "      <td>0.0</td>\n",
       "      <td>0.0</td>\n",
       "      <td>1.0</td>\n",
       "    </tr>\n",
       "    <tr>\n",
       "      <th>1</th>\n",
       "      <td>13</td>\n",
       "      <td>755985</td>\n",
       "      <td>0.0</td>\n",
       "      <td>0.0</td>\n",
       "      <td>0.0</td>\n",
       "      <td>1.0</td>\n",
       "    </tr>\n",
       "    <tr>\n",
       "      <th>2</th>\n",
       "      <td>13</td>\n",
       "      <td>602478</td>\n",
       "      <td>0.0</td>\n",
       "      <td>0.0</td>\n",
       "      <td>0.0</td>\n",
       "      <td>1.0</td>\n",
       "    </tr>\n",
       "    <tr>\n",
       "      <th>3</th>\n",
       "      <td>13</td>\n",
       "      <td>299880</td>\n",
       "      <td>0.0</td>\n",
       "      <td>0.0</td>\n",
       "      <td>0.0</td>\n",
       "      <td>1.0</td>\n",
       "    </tr>\n",
       "    <tr>\n",
       "      <th>4</th>\n",
       "      <td>13</td>\n",
       "      <td>873212</td>\n",
       "      <td>0.0</td>\n",
       "      <td>0.0</td>\n",
       "      <td>0.0</td>\n",
       "      <td>1.0</td>\n",
       "    </tr>\n",
       "  </tbody>\n",
       "</table>\n",
       "</div>"
      ],
      "text/plain": [
       "   UserID   JobID  label  City  State  Country\n",
       "0      13  828955    0.0   0.0    0.0      1.0\n",
       "1      13  755985    0.0   0.0    0.0      1.0\n",
       "2      13  602478    0.0   0.0    0.0      1.0\n",
       "3      13  299880    0.0   0.0    0.0      1.0\n",
       "4      13  873212    0.0   0.0    0.0      1.0"
      ]
     },
     "execution_count": 114,
     "metadata": {},
     "output_type": "execute_result"
    }
   ],
   "source": [
    "knn_shortlisted.head()"
   ]
  },
  {
   "cell_type": "code",
   "execution_count": 115,
   "id": "57234ff3-a5b0-4c4f-8dd8-c120b59120c0",
   "metadata": {},
   "outputs": [
    {
     "name": "stdout",
     "output_type": "stream",
     "text": [
      "<class 'pandas.core.frame.DataFrame'>\n",
      "Index: 369098 entries, 0 to 1425202\n",
      "Data columns (total 6 columns):\n",
      " #   Column   Non-Null Count   Dtype  \n",
      "---  ------   --------------   -----  \n",
      " 0   UserID   369098 non-null  int64  \n",
      " 1   JobID    369098 non-null  int64  \n",
      " 2   label    369098 non-null  float64\n",
      " 3   City     369098 non-null  float64\n",
      " 4   State    369098 non-null  float64\n",
      " 5   Country  369098 non-null  float64\n",
      "dtypes: float64(4), int64(2)\n",
      "memory usage: 19.7 MB\n"
     ]
    }
   ],
   "source": [
    "knn_shortlisted.info()"
   ]
  },
  {
   "cell_type": "code",
   "execution_count": 116,
   "id": "c749dad2-9a78-4f25-9810-5220732cf804",
   "metadata": {},
   "outputs": [
    {
     "data": {
      "text/plain": [
       "label\n",
       "0.0    368951\n",
       "1.0       147\n",
       "Name: count, dtype: int64"
      ]
     },
     "execution_count": 116,
     "metadata": {},
     "output_type": "execute_result"
    }
   ],
   "source": [
    "knn_shortlisted.label.value_counts()"
   ]
  },
  {
   "cell_type": "code",
   "execution_count": 117,
   "id": "e50cd91b",
   "metadata": {},
   "outputs": [],
   "source": [
    "knn_shortlisted.to_csv('./nb_ranking_data/ranking_data_knn_lda_v2.csv', header=True, index=False)"
   ]
  },
  {
   "cell_type": "code",
   "execution_count": null,
   "id": "6c223ae4-5893-4a60-b57d-2654fb9955fd",
   "metadata": {},
   "outputs": [],
   "source": []
  }
 ],
 "metadata": {
  "kernelspec": {
   "display_name": "Python",
   "language": "python",
   "name": "python3"
  },
  "language_info": {
   "codemirror_mode": {
    "name": "ipython",
    "version": 3
   },
   "file_extension": ".py",
   "mimetype": "text/x-python",
   "name": "python",
   "nbconvert_exporter": "python",
   "pygments_lexer": "ipython3",
   "version": "3.8.10"
  }
 },
 "nbformat": 4,
 "nbformat_minor": 5
}
