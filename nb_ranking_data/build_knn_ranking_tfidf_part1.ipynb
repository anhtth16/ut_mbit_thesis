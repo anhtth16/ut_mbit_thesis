{
 "cells": [
  {
   "cell_type": "markdown",
   "id": "09a10118",
   "metadata": {},
   "source": [
    "## Build ranking dataset for topN recommendation - PART 1\n",
    "## Source: TF-IDF features (tabular)\n",
    "## Method: Knn (nearest neighbor), metrics: cosine similarity\n",
    "\n",
    "- Result: knn_tfidf_ranking_data.csv\n",
    "    - UserID\n",
    "    - ItemID\n",
    "    - City, State, Country\n",
    "\n",
    "- Process:\n",
    "    - Use tabular dataset to build KNN models with 100 neighbors (trained on X_train)\n",
    "    - Get 100 neighbors for each test application (total: 15,776 applications)\n",
    "    - Reduce duplication of (UserId, ItemID, cosine distance) in the final result\n",
    "    - Sorted result based on cosine distance\n",
    "    - Group result by UserID, retain only first 100 JobID for a User\n",
    "    - Generate City, State, Country matching"
   ]
  },
  {
   "cell_type": "code",
   "execution_count": 127,
   "id": "e4371ecd",
   "metadata": {},
   "outputs": [],
   "source": [
    "import caffeine\n",
    "caffeine.on(display=False)"
   ]
  },
  {
   "cell_type": "code",
   "execution_count": 128,
   "id": "363858b8",
   "metadata": {},
   "outputs": [],
   "source": [
    "import warnings\n",
    "warnings.filterwarnings('ignore')"
   ]
  },
  {
   "cell_type": "code",
   "execution_count": 1,
   "id": "900f5457",
   "metadata": {},
   "outputs": [
    {
     "name": "stdout",
     "output_type": "stream",
     "text": [
      "Working directory: /Users/anhtth/Library/CloudStorage/OneDrive-UniversityofTwente/2023 UT- THESIS/1-Code/0.cb12_main/nb_recsys_tabular\n"
     ]
    }
   ],
   "source": [
    "# Run this for reproduce\n",
    "# Gets the current working directory\n",
    "import os\n",
    "cwd = os.getcwd()\n",
    "print(\"Working directory:\", cwd)\n",
    "# Go up one directory from working directory\n",
    "os.chdir(\"..\")"
   ]
  },
  {
   "cell_type": "code",
   "execution_count": 2,
   "id": "e248046c",
   "metadata": {},
   "outputs": [],
   "source": [
    "import pandas as pd\n",
    "import numpy as np"
   ]
  },
  {
   "cell_type": "code",
   "execution_count": 3,
   "id": "d34ecd1b",
   "metadata": {},
   "outputs": [],
   "source": [
    "from sklearn.feature_extraction.text import TfidfVectorizer\n",
    "from sklearn.neighbors import NearestNeighbors\n",
    "from sklearn.metrics.pairwise import cosine_distances"
   ]
  },
  {
   "cell_type": "code",
   "execution_count": 4,
   "id": "f27f99ff",
   "metadata": {},
   "outputs": [],
   "source": [
    "# Load input: train_data_flat, test_data_flat\n",
    "train_data_flat = pd.read_csv('./xai_posthoc/train_data_flat.csv')\n",
    "test_data_flat = pd.read_csv('./xai_posthoc/test_data_flat.csv')"
   ]
  },
  {
   "cell_type": "code",
   "execution_count": 5,
   "id": "af029f39",
   "metadata": {},
   "outputs": [
    {
     "data": {
      "text/html": [
       "<div>\n",
       "<style scoped>\n",
       "    .dataframe tbody tr th:only-of-type {\n",
       "        vertical-align: middle;\n",
       "    }\n",
       "\n",
       "    .dataframe tbody tr th {\n",
       "        vertical-align: top;\n",
       "    }\n",
       "\n",
       "    .dataframe thead th {\n",
       "        text-align: right;\n",
       "    }\n",
       "</style>\n",
       "<table border=\"1\" class=\"dataframe\">\n",
       "  <thead>\n",
       "    <tr style=\"text-align: right;\">\n",
       "      <th></th>\n",
       "      <th>UserID</th>\n",
       "      <th>JobID</th>\n",
       "      <th>label</th>\n",
       "      <th>City</th>\n",
       "      <th>State</th>\n",
       "      <th>Country</th>\n",
       "      <th>DegreeType</th>\n",
       "      <th>WorkHistoryCount</th>\n",
       "      <th>TotalYearsExperience</th>\n",
       "      <th>CurrentlyEmployed</th>\n",
       "      <th>...</th>\n",
       "      <th>job_matrix_90</th>\n",
       "      <th>job_matrix_91</th>\n",
       "      <th>job_matrix_92</th>\n",
       "      <th>job_matrix_93</th>\n",
       "      <th>job_matrix_94</th>\n",
       "      <th>job_matrix_95</th>\n",
       "      <th>job_matrix_96</th>\n",
       "      <th>job_matrix_97</th>\n",
       "      <th>job_matrix_98</th>\n",
       "      <th>job_matrix_99</th>\n",
       "    </tr>\n",
       "  </thead>\n",
       "  <tbody>\n",
       "    <tr>\n",
       "      <th>0</th>\n",
       "      <td>7</td>\n",
       "      <td>309823</td>\n",
       "      <td>1</td>\n",
       "      <td>1.0</td>\n",
       "      <td>1.0</td>\n",
       "      <td>1.0</td>\n",
       "      <td>1</td>\n",
       "      <td>2</td>\n",
       "      <td>13.0</td>\n",
       "      <td>1</td>\n",
       "      <td>...</td>\n",
       "      <td>0.0</td>\n",
       "      <td>0.417426</td>\n",
       "      <td>0.000000</td>\n",
       "      <td>0.000000</td>\n",
       "      <td>0.065994</td>\n",
       "      <td>0.070672</td>\n",
       "      <td>0.101036</td>\n",
       "      <td>0.073804</td>\n",
       "      <td>0.0</td>\n",
       "      <td>0.055815</td>\n",
       "    </tr>\n",
       "    <tr>\n",
       "      <th>1</th>\n",
       "      <td>7</td>\n",
       "      <td>703889</td>\n",
       "      <td>1</td>\n",
       "      <td>1.0</td>\n",
       "      <td>1.0</td>\n",
       "      <td>1.0</td>\n",
       "      <td>1</td>\n",
       "      <td>2</td>\n",
       "      <td>13.0</td>\n",
       "      <td>1</td>\n",
       "      <td>...</td>\n",
       "      <td>0.0</td>\n",
       "      <td>0.105243</td>\n",
       "      <td>0.000000</td>\n",
       "      <td>0.000000</td>\n",
       "      <td>0.116469</td>\n",
       "      <td>0.000000</td>\n",
       "      <td>0.044579</td>\n",
       "      <td>0.130255</td>\n",
       "      <td>0.0</td>\n",
       "      <td>0.049252</td>\n",
       "    </tr>\n",
       "    <tr>\n",
       "      <th>2</th>\n",
       "      <td>7</td>\n",
       "      <td>566574</td>\n",
       "      <td>0</td>\n",
       "      <td>0.0</td>\n",
       "      <td>0.0</td>\n",
       "      <td>1.0</td>\n",
       "      <td>1</td>\n",
       "      <td>2</td>\n",
       "      <td>13.0</td>\n",
       "      <td>1</td>\n",
       "      <td>...</td>\n",
       "      <td>0.0</td>\n",
       "      <td>0.052103</td>\n",
       "      <td>0.077570</td>\n",
       "      <td>0.000000</td>\n",
       "      <td>0.000000</td>\n",
       "      <td>0.000000</td>\n",
       "      <td>0.264839</td>\n",
       "      <td>0.000000</td>\n",
       "      <td>0.0</td>\n",
       "      <td>0.048767</td>\n",
       "    </tr>\n",
       "    <tr>\n",
       "      <th>3</th>\n",
       "      <td>7</td>\n",
       "      <td>481216</td>\n",
       "      <td>0</td>\n",
       "      <td>0.0</td>\n",
       "      <td>0.0</td>\n",
       "      <td>1.0</td>\n",
       "      <td>1</td>\n",
       "      <td>2</td>\n",
       "      <td>13.0</td>\n",
       "      <td>1</td>\n",
       "      <td>...</td>\n",
       "      <td>0.0</td>\n",
       "      <td>0.000000</td>\n",
       "      <td>0.125297</td>\n",
       "      <td>0.204315</td>\n",
       "      <td>0.000000</td>\n",
       "      <td>0.000000</td>\n",
       "      <td>0.000000</td>\n",
       "      <td>0.156244</td>\n",
       "      <td>0.0</td>\n",
       "      <td>0.078773</td>\n",
       "    </tr>\n",
       "    <tr>\n",
       "      <th>4</th>\n",
       "      <td>9</td>\n",
       "      <td>809208</td>\n",
       "      <td>1</td>\n",
       "      <td>1.0</td>\n",
       "      <td>1.0</td>\n",
       "      <td>1.0</td>\n",
       "      <td>1</td>\n",
       "      <td>3</td>\n",
       "      <td>3.0</td>\n",
       "      <td>1</td>\n",
       "      <td>...</td>\n",
       "      <td>0.0</td>\n",
       "      <td>0.000000</td>\n",
       "      <td>0.000000</td>\n",
       "      <td>0.000000</td>\n",
       "      <td>0.000000</td>\n",
       "      <td>0.000000</td>\n",
       "      <td>0.240853</td>\n",
       "      <td>0.000000</td>\n",
       "      <td>0.0</td>\n",
       "      <td>0.266103</td>\n",
       "    </tr>\n",
       "  </tbody>\n",
       "</table>\n",
       "<p>5 rows × 170 columns</p>\n",
       "</div>"
      ],
      "text/plain": [
       "   UserID   JobID  label  City  State  Country  DegreeType  WorkHistoryCount  \\\n",
       "0       7  309823      1   1.0    1.0      1.0           1                 2   \n",
       "1       7  703889      1   1.0    1.0      1.0           1                 2   \n",
       "2       7  566574      0   0.0    0.0      1.0           1                 2   \n",
       "3       7  481216      0   0.0    0.0      1.0           1                 2   \n",
       "4       9  809208      1   1.0    1.0      1.0           1                 3   \n",
       "\n",
       "   TotalYearsExperience  CurrentlyEmployed  ...  job_matrix_90  job_matrix_91  \\\n",
       "0                  13.0                  1  ...            0.0       0.417426   \n",
       "1                  13.0                  1  ...            0.0       0.105243   \n",
       "2                  13.0                  1  ...            0.0       0.052103   \n",
       "3                  13.0                  1  ...            0.0       0.000000   \n",
       "4                   3.0                  1  ...            0.0       0.000000   \n",
       "\n",
       "   job_matrix_92 job_matrix_93  job_matrix_94 job_matrix_95  job_matrix_96  \\\n",
       "0       0.000000      0.000000       0.065994      0.070672       0.101036   \n",
       "1       0.000000      0.000000       0.116469      0.000000       0.044579   \n",
       "2       0.077570      0.000000       0.000000      0.000000       0.264839   \n",
       "3       0.125297      0.204315       0.000000      0.000000       0.000000   \n",
       "4       0.000000      0.000000       0.000000      0.000000       0.240853   \n",
       "\n",
       "   job_matrix_97 job_matrix_98 job_matrix_99  \n",
       "0       0.073804           0.0      0.055815  \n",
       "1       0.130255           0.0      0.049252  \n",
       "2       0.000000           0.0      0.048767  \n",
       "3       0.156244           0.0      0.078773  \n",
       "4       0.000000           0.0      0.266103  \n",
       "\n",
       "[5 rows x 170 columns]"
      ]
     },
     "execution_count": 5,
     "metadata": {},
     "output_type": "execute_result"
    }
   ],
   "source": [
    "train_data_flat.head()"
   ]
  },
  {
   "cell_type": "code",
   "execution_count": 6,
   "id": "58301b7e",
   "metadata": {},
   "outputs": [],
   "source": [
    "# Load input: train_data_extended, test_data_extended\n",
    "train_data_extended = pd.read_csv('./xai_posthoc/train_data_extended.csv')\n",
    "test_data_extended = pd.read_csv('./xai_posthoc/test_data_extended.csv')"
   ]
  },
  {
   "cell_type": "code",
   "execution_count": 7,
   "id": "d152853d",
   "metadata": {},
   "outputs": [
    {
     "data": {
      "text/html": [
       "<div>\n",
       "<style scoped>\n",
       "    .dataframe tbody tr th:only-of-type {\n",
       "        vertical-align: middle;\n",
       "    }\n",
       "\n",
       "    .dataframe tbody tr th {\n",
       "        vertical-align: top;\n",
       "    }\n",
       "\n",
       "    .dataframe thead th {\n",
       "        text-align: right;\n",
       "    }\n",
       "</style>\n",
       "<table border=\"1\" class=\"dataframe\">\n",
       "  <thead>\n",
       "    <tr style=\"text-align: right;\">\n",
       "      <th></th>\n",
       "      <th>UserID</th>\n",
       "      <th>JobID</th>\n",
       "      <th>label</th>\n",
       "      <th>City</th>\n",
       "      <th>State</th>\n",
       "      <th>Country</th>\n",
       "      <th>DegreeType</th>\n",
       "      <th>WorkHistoryCount</th>\n",
       "      <th>TotalYearsExperience</th>\n",
       "      <th>CurrentlyEmployed</th>\n",
       "      <th>ManagedOthers</th>\n",
       "      <th>ManagedHowMany</th>\n",
       "      <th>u_idx</th>\n",
       "      <th>work_history_matrix</th>\n",
       "      <th>j_idx</th>\n",
       "      <th>job_matrix</th>\n",
       "      <th>mean_work_history_matrix</th>\n",
       "      <th>mean_job_matrix</th>\n",
       "    </tr>\n",
       "  </thead>\n",
       "  <tbody>\n",
       "    <tr>\n",
       "      <th>0</th>\n",
       "      <td>13</td>\n",
       "      <td>821691</td>\n",
       "      <td>1</td>\n",
       "      <td>0.0</td>\n",
       "      <td>1.0</td>\n",
       "      <td>1.0</td>\n",
       "      <td>4</td>\n",
       "      <td>6</td>\n",
       "      <td>5.0</td>\n",
       "      <td>1</td>\n",
       "      <td>0</td>\n",
       "      <td>0</td>\n",
       "      <td>112440</td>\n",
       "      <td>[[0.         0.         0.         0.45926196 ...</td>\n",
       "      <td>905490</td>\n",
       "      <td>[[0.         0.         0.         0.         ...</td>\n",
       "      <td>0.033316</td>\n",
       "      <td>0.033698</td>\n",
       "    </tr>\n",
       "    <tr>\n",
       "      <th>1</th>\n",
       "      <td>13</td>\n",
       "      <td>329572</td>\n",
       "      <td>0</td>\n",
       "      <td>0.0</td>\n",
       "      <td>0.0</td>\n",
       "      <td>1.0</td>\n",
       "      <td>4</td>\n",
       "      <td>6</td>\n",
       "      <td>5.0</td>\n",
       "      <td>1</td>\n",
       "      <td>0</td>\n",
       "      <td>0</td>\n",
       "      <td>112440</td>\n",
       "      <td>[[0.         0.         0.         0.45926196 ...</td>\n",
       "      <td>854303</td>\n",
       "      <td>[[0.         0.         0.         0.         ...</td>\n",
       "      <td>0.033316</td>\n",
       "      <td>0.037174</td>\n",
       "    </tr>\n",
       "    <tr>\n",
       "      <th>2</th>\n",
       "      <td>514</td>\n",
       "      <td>131166</td>\n",
       "      <td>1</td>\n",
       "      <td>0.0</td>\n",
       "      <td>0.0</td>\n",
       "      <td>1.0</td>\n",
       "      <td>5</td>\n",
       "      <td>4</td>\n",
       "      <td>5.0</td>\n",
       "      <td>0</td>\n",
       "      <td>0</td>\n",
       "      <td>0</td>\n",
       "      <td>131256</td>\n",
       "      <td>[[0.         0.         0.         0.         ...</td>\n",
       "      <td>949428</td>\n",
       "      <td>[[0.15860748 0.         0.         0.         ...</td>\n",
       "      <td>0.028284</td>\n",
       "      <td>0.041802</td>\n",
       "    </tr>\n",
       "    <tr>\n",
       "      <th>3</th>\n",
       "      <td>514</td>\n",
       "      <td>620304</td>\n",
       "      <td>0</td>\n",
       "      <td>0.0</td>\n",
       "      <td>0.0</td>\n",
       "      <td>1.0</td>\n",
       "      <td>5</td>\n",
       "      <td>4</td>\n",
       "      <td>5.0</td>\n",
       "      <td>0</td>\n",
       "      <td>0</td>\n",
       "      <td>0</td>\n",
       "      <td>131256</td>\n",
       "      <td>[[0.         0.         0.         0.         ...</td>\n",
       "      <td>341134</td>\n",
       "      <td>[[0.12856694 0.         0.         0.08879664 ...</td>\n",
       "      <td>0.028284</td>\n",
       "      <td>0.048736</td>\n",
       "    </tr>\n",
       "    <tr>\n",
       "      <th>4</th>\n",
       "      <td>681</td>\n",
       "      <td>654542</td>\n",
       "      <td>1</td>\n",
       "      <td>0.0</td>\n",
       "      <td>1.0</td>\n",
       "      <td>1.0</td>\n",
       "      <td>1</td>\n",
       "      <td>2</td>\n",
       "      <td>4.0</td>\n",
       "      <td>0</td>\n",
       "      <td>0</td>\n",
       "      <td>0</td>\n",
       "      <td>28761</td>\n",
       "      <td>[[0. 0. 0. 0. 0. 0. 0. 0. 0. 0. 0. 0. 0. 0. 0....</td>\n",
       "      <td>345495</td>\n",
       "      <td>[[0.         0.24413428 0.         0.         ...</td>\n",
       "      <td>0.020000</td>\n",
       "      <td>0.043940</td>\n",
       "    </tr>\n",
       "  </tbody>\n",
       "</table>\n",
       "</div>"
      ],
      "text/plain": [
       "   UserID   JobID  label  City  State  Country  DegreeType  WorkHistoryCount  \\\n",
       "0      13  821691      1   0.0    1.0      1.0           4                 6   \n",
       "1      13  329572      0   0.0    0.0      1.0           4                 6   \n",
       "2     514  131166      1   0.0    0.0      1.0           5                 4   \n",
       "3     514  620304      0   0.0    0.0      1.0           5                 4   \n",
       "4     681  654542      1   0.0    1.0      1.0           1                 2   \n",
       "\n",
       "   TotalYearsExperience  CurrentlyEmployed  ManagedOthers  ManagedHowMany  \\\n",
       "0                   5.0                  1              0               0   \n",
       "1                   5.0                  1              0               0   \n",
       "2                   5.0                  0              0               0   \n",
       "3                   5.0                  0              0               0   \n",
       "4                   4.0                  0              0               0   \n",
       "\n",
       "    u_idx                                work_history_matrix   j_idx  \\\n",
       "0  112440  [[0.         0.         0.         0.45926196 ...  905490   \n",
       "1  112440  [[0.         0.         0.         0.45926196 ...  854303   \n",
       "2  131256  [[0.         0.         0.         0.         ...  949428   \n",
       "3  131256  [[0.         0.         0.         0.         ...  341134   \n",
       "4   28761  [[0. 0. 0. 0. 0. 0. 0. 0. 0. 0. 0. 0. 0. 0. 0....  345495   \n",
       "\n",
       "                                          job_matrix  \\\n",
       "0  [[0.         0.         0.         0.         ...   \n",
       "1  [[0.         0.         0.         0.         ...   \n",
       "2  [[0.15860748 0.         0.         0.         ...   \n",
       "3  [[0.12856694 0.         0.         0.08879664 ...   \n",
       "4  [[0.         0.24413428 0.         0.         ...   \n",
       "\n",
       "   mean_work_history_matrix  mean_job_matrix  \n",
       "0                  0.033316         0.033698  \n",
       "1                  0.033316         0.037174  \n",
       "2                  0.028284         0.041802  \n",
       "3                  0.028284         0.048736  \n",
       "4                  0.020000         0.043940  "
      ]
     },
     "execution_count": 7,
     "metadata": {},
     "output_type": "execute_result"
    }
   ],
   "source": [
    "train_data_extended.head()\n",
    "test_data_extended.head()"
   ]
  },
  {
   "cell_type": "code",
   "execution_count": 8,
   "id": "e1fa4b0a",
   "metadata": {},
   "outputs": [
    {
     "data": {
      "text/plain": [
       "Index(['UserID', 'JobID', 'label', 'City', 'State', 'Country', 'DegreeType',\n",
       "       'WorkHistoryCount', 'TotalYearsExperience', 'CurrentlyEmployed',\n",
       "       'ManagedOthers', 'ManagedHowMany', 'u_idx', 'work_history_matrix',\n",
       "       'j_idx', 'job_matrix', 'mean_work_history_matrix', 'mean_job_matrix'],\n",
       "      dtype='object')"
      ]
     },
     "execution_count": 8,
     "metadata": {},
     "output_type": "execute_result"
    }
   ],
   "source": [
    "train_data_extended.columns"
   ]
  },
  {
   "cell_type": "markdown",
   "id": "0c5b891f",
   "metadata": {},
   "source": [
    "## UDF function to convert string matrix to list"
   ]
  },
  {
   "cell_type": "code",
   "execution_count": 9,
   "id": "82daa7d4",
   "metadata": {},
   "outputs": [],
   "source": [
    "test_str = train_data_extended.work_history_matrix.loc[0]"
   ]
  },
  {
   "cell_type": "code",
   "execution_count": 10,
   "id": "10df65f7",
   "metadata": {},
   "outputs": [
    {
     "data": {
      "text/plain": [
       "'[[0.         0.         0.         0.         0.         0.\\n  0.         0.         0.         0.         0.         0.\\n  0.         0.         0.         0.         0.         0.\\n  0.         0.         0.         0.         0.         0.\\n  0.         0.         0.467288   0.         0.         0.\\n  0.69007561 0.         0.         0.         0.         0.\\n  0.         0.         0.55266407 0.         0.         0.\\n  0.         0.         0.         0.         0.         0.\\n  0.         0.        ]]'"
      ]
     },
     "execution_count": 10,
     "metadata": {},
     "output_type": "execute_result"
    }
   ],
   "source": [
    "test_str"
   ]
  },
  {
   "cell_type": "code",
   "execution_count": 11,
   "id": "2514fc94",
   "metadata": {},
   "outputs": [],
   "source": [
    "replace_str = test_str.replace('\\n', '').replace('[','') \\\n",
    "              .replace(']','') \\\n",
    "              .split()"
   ]
  },
  {
   "cell_type": "code",
   "execution_count": 12,
   "id": "9b5cb16d",
   "metadata": {},
   "outputs": [],
   "source": [
    "replace_numpy = [float(i) for i in replace_str]"
   ]
  },
  {
   "cell_type": "code",
   "execution_count": 13,
   "id": "451065ec",
   "metadata": {},
   "outputs": [
    {
     "data": {
      "text/plain": [
       "list"
      ]
     },
     "execution_count": 13,
     "metadata": {},
     "output_type": "execute_result"
    }
   ],
   "source": [
    "type(replace_numpy)"
   ]
  },
  {
   "cell_type": "code",
   "execution_count": 14,
   "id": "f3bacc25",
   "metadata": {},
   "outputs": [],
   "source": [
    "def convert_matrix(matrix_str):\n",
    "    replace_str = matrix_str.replace('\\n', '').replace('[','') \\\n",
    "              .replace(']','') \\\n",
    "              .split()\n",
    "    new_list = [float(i) for i in replace_str]\n",
    "    result = np.array(new_list)\n",
    "    return result"
   ]
  },
  {
   "cell_type": "code",
   "execution_count": 15,
   "id": "4a643c03",
   "metadata": {},
   "outputs": [
    {
     "data": {
      "text/plain": [
       "array([0.        , 0.        , 0.        , 0.        , 0.        ,\n",
       "       0.        , 0.        , 0.        , 0.        , 0.        ,\n",
       "       0.        , 0.        , 0.        , 0.        , 0.        ,\n",
       "       0.        , 0.        , 0.        , 0.        , 0.        ,\n",
       "       0.        , 0.        , 0.        , 0.        , 0.        ,\n",
       "       0.        , 0.467288  , 0.        , 0.        , 0.        ,\n",
       "       0.69007561, 0.        , 0.        , 0.        , 0.        ,\n",
       "       0.        , 0.        , 0.        , 0.55266407, 0.        ,\n",
       "       0.        , 0.        , 0.        , 0.        , 0.        ,\n",
       "       0.        , 0.        , 0.        , 0.        , 0.        ])"
      ]
     },
     "execution_count": 15,
     "metadata": {},
     "output_type": "execute_result"
    }
   ],
   "source": [
    "convert_matrix(test_str)"
   ]
  },
  {
   "cell_type": "markdown",
   "id": "4c7c8da4",
   "metadata": {},
   "source": [
    "## Apply UDF to work_history_matrix, job_matrix"
   ]
  },
  {
   "cell_type": "code",
   "execution_count": 16,
   "id": "c28d91bb",
   "metadata": {},
   "outputs": [
    {
     "name": "stdout",
     "output_type": "stream",
     "text": [
      "CPU times: user 6.25 s, sys: 115 ms, total: 6.36 s\n",
      "Wall time: 6.42 s\n"
     ]
    }
   ],
   "source": [
    "%%time\n",
    "clean_work_matrix = train_data_extended.work_history_matrix.apply(convert_matrix)"
   ]
  },
  {
   "cell_type": "code",
   "execution_count": 17,
   "id": "f60e7c08",
   "metadata": {},
   "outputs": [
    {
     "name": "stdout",
     "output_type": "stream",
     "text": [
      "CPU times: user 13.4 s, sys: 202 ms, total: 13.6 s\n",
      "Wall time: 13.6 s\n"
     ]
    }
   ],
   "source": [
    "%%time\n",
    "clean_job_matrix = train_data_extended.job_matrix.apply(convert_matrix)"
   ]
  },
  {
   "cell_type": "code",
   "execution_count": 18,
   "id": "0e33cfee",
   "metadata": {},
   "outputs": [
    {
     "data": {
      "text/plain": [
       "563889"
      ]
     },
     "execution_count": 18,
     "metadata": {},
     "output_type": "execute_result"
    }
   ],
   "source": [
    "len(clean_work_matrix)"
   ]
  },
  {
   "cell_type": "code",
   "execution_count": 19,
   "id": "770066ae",
   "metadata": {},
   "outputs": [
    {
     "data": {
      "text/plain": [
       "50"
      ]
     },
     "execution_count": 19,
     "metadata": {},
     "output_type": "execute_result"
    }
   ],
   "source": [
    "len(clean_work_matrix[10])"
   ]
  },
  {
   "cell_type": "code",
   "execution_count": 20,
   "id": "c43e1b08",
   "metadata": {},
   "outputs": [
    {
     "data": {
      "text/plain": [
       "563889"
      ]
     },
     "execution_count": 20,
     "metadata": {},
     "output_type": "execute_result"
    }
   ],
   "source": [
    "len(clean_job_matrix)"
   ]
  },
  {
   "cell_type": "code",
   "execution_count": 21,
   "id": "e6e0c3c5",
   "metadata": {},
   "outputs": [
    {
     "data": {
      "text/plain": [
       "100"
      ]
     },
     "execution_count": 21,
     "metadata": {},
     "output_type": "execute_result"
    }
   ],
   "source": [
    "len(clean_job_matrix[10])"
   ]
  },
  {
   "cell_type": "code",
   "execution_count": 22,
   "id": "64a368ed",
   "metadata": {},
   "outputs": [],
   "source": [
    "train_data_extended['work_history_matrix'] = clean_work_matrix"
   ]
  },
  {
   "cell_type": "code",
   "execution_count": 23,
   "id": "873a8674",
   "metadata": {},
   "outputs": [],
   "source": [
    "train_data_extended['job_matrix'] = clean_job_matrix"
   ]
  },
  {
   "cell_type": "code",
   "execution_count": 24,
   "id": "962b5bff",
   "metadata": {},
   "outputs": [
    {
     "data": {
      "text/plain": [
       "0    [0.0, 0.0, 0.0, 0.0, 0.0, 0.0, 0.0, 0.0, 0.0, ...\n",
       "1    [0.0, 0.0, 0.0, 0.0, 0.0, 0.0, 0.0, 0.0, 0.0, ...\n",
       "2    [0.0, 0.0, 0.0, 0.0, 0.0, 0.0, 0.0, 0.0, 0.0, ...\n",
       "3    [0.0, 0.0, 0.0, 0.0, 0.0, 0.0, 0.0, 0.0, 0.0, ...\n",
       "4    [0.0, 0.0, 0.0, 0.0, 1.0, 0.0, 0.0, 0.0, 0.0, ...\n",
       "Name: work_history_matrix, dtype: object"
      ]
     },
     "execution_count": 24,
     "metadata": {},
     "output_type": "execute_result"
    }
   ],
   "source": [
    "train_data_extended.work_history_matrix.head()"
   ]
  },
  {
   "cell_type": "code",
   "execution_count": 25,
   "id": "7e66cabf",
   "metadata": {},
   "outputs": [
    {
     "name": "stdout",
     "output_type": "stream",
     "text": [
      "CPU times: user 550 ms, sys: 6.86 ms, total: 556 ms\n",
      "Wall time: 557 ms\n"
     ]
    }
   ],
   "source": [
    "%%time\n",
    "\n",
    "clean_work_matrix = test_data_extended.work_history_matrix.apply(convert_matrix)\n",
    "clean_job_matrix = test_data_extended.job_matrix.apply(convert_matrix)\n",
    "test_data_extended['work_history_matrix'] = clean_work_matrix\n",
    "test_data_extended['job_matrix'] = clean_job_matrix"
   ]
  },
  {
   "cell_type": "markdown",
   "id": "8be4e557",
   "metadata": {},
   "source": [
    "## Build feature vector by stacking numeric features and TF-IDF vectors"
   ]
  },
  {
   "cell_type": "code",
   "execution_count": 26,
   "id": "df51e801",
   "metadata": {},
   "outputs": [],
   "source": [
    "numeric_cols = ['City', 'State', 'Country', 'DegreeType',\n",
    "       'WorkHistoryCount', 'TotalYearsExperience', 'CurrentlyEmployed',\n",
    "       'ManagedOthers', 'ManagedHowMany']"
   ]
  },
  {
   "cell_type": "code",
   "execution_count": 27,
   "id": "1fdce2a4",
   "metadata": {},
   "outputs": [],
   "source": [
    "tfidf_cols = ['job_matrix', 'work_history_matrix']"
   ]
  },
  {
   "cell_type": "code",
   "execution_count": 28,
   "id": "a7513b61",
   "metadata": {},
   "outputs": [],
   "source": [
    "# numeric_features = train_data_extended[numeric_cols]\n",
    "# numeric_features"
   ]
  },
  {
   "cell_type": "code",
   "execution_count": 29,
   "id": "2aa7b4e3",
   "metadata": {},
   "outputs": [],
   "source": [
    "# tfidf_features = train_data_extended[tfidf_cols]"
   ]
  },
  {
   "cell_type": "code",
   "execution_count": 30,
   "id": "8f0f9b1a",
   "metadata": {},
   "outputs": [],
   "source": [
    "# len(combined_features)"
   ]
  },
  {
   "cell_type": "code",
   "execution_count": 31,
   "id": "d4e4a52f",
   "metadata": {},
   "outputs": [],
   "source": [
    "# combined_features[0]"
   ]
  },
  {
   "cell_type": "code",
   "execution_count": 32,
   "id": "97928bd3",
   "metadata": {},
   "outputs": [],
   "source": [
    "# len(combined_features[0])"
   ]
  },
  {
   "cell_type": "code",
   "execution_count": 33,
   "id": "e2aa10b2",
   "metadata": {},
   "outputs": [],
   "source": [
    "drop_cols = ['UserID','JobID', 'label','u_idx','j_idx', \n",
    "                  'mean_work_history_matrix', 'mean_job_matrix']\n",
    "X_train = train_data_extended.drop(columns = drop_cols, axis = 1)\n",
    "X_test = test_data_extended.drop(columns = drop_cols, axis = 1)"
   ]
  },
  {
   "cell_type": "code",
   "execution_count": 34,
   "id": "756f3c98",
   "metadata": {},
   "outputs": [
    {
     "name": "stdout",
     "output_type": "stream",
     "text": [
      "<class 'pandas.core.frame.DataFrame'>\n",
      "RangeIndex: 563889 entries, 0 to 563888\n",
      "Data columns (total 11 columns):\n",
      " #   Column                Non-Null Count   Dtype  \n",
      "---  ------                --------------   -----  \n",
      " 0   City                  563889 non-null  float64\n",
      " 1   State                 563889 non-null  float64\n",
      " 2   Country               563889 non-null  float64\n",
      " 3   DegreeType            563889 non-null  int64  \n",
      " 4   WorkHistoryCount      563889 non-null  int64  \n",
      " 5   TotalYearsExperience  563889 non-null  float64\n",
      " 6   CurrentlyEmployed     563889 non-null  int64  \n",
      " 7   ManagedOthers         563889 non-null  int64  \n",
      " 8   ManagedHowMany        563889 non-null  int64  \n",
      " 9   work_history_matrix   563889 non-null  object \n",
      " 10  job_matrix            563889 non-null  object \n",
      "dtypes: float64(4), int64(5), object(2)\n",
      "memory usage: 47.3+ MB\n"
     ]
    }
   ],
   "source": [
    "X_train.info()"
   ]
  },
  {
   "cell_type": "code",
   "execution_count": 35,
   "id": "a11641fd",
   "metadata": {},
   "outputs": [
    {
     "data": {
      "text/plain": [
       "numpy.ndarray"
      ]
     },
     "execution_count": 35,
     "metadata": {},
     "output_type": "execute_result"
    }
   ],
   "source": [
    "type(X_train.work_history_matrix.values)"
   ]
  },
  {
   "cell_type": "code",
   "execution_count": 36,
   "id": "b738da50",
   "metadata": {},
   "outputs": [],
   "source": [
    "# Assuming you have a pandas DataFrame called 'data' containing the combined features\n",
    "\n",
    "# Step 1: Convert 'work_history_matrix' and 'job_matrix' columns to dense TF-IDF matrices\n",
    "work_history_matrix = np.array(X_train['work_history_matrix'].tolist())\n",
    "job_matrix = np.array(X_train['job_matrix'].tolist())\n",
    "\n",
    "# Step 2: Combine numeric features and TF-IDF matrices\n",
    "numeric_features = X_train.drop(['work_history_matrix', 'job_matrix'], axis=1)\n",
    "combined_features = np.hstack((numeric_features.values, work_history_matrix, job_matrix))"
   ]
  },
  {
   "cell_type": "code",
   "execution_count": 37,
   "id": "1415e732",
   "metadata": {},
   "outputs": [
    {
     "data": {
      "text/plain": [
       "563889"
      ]
     },
     "execution_count": 37,
     "metadata": {},
     "output_type": "execute_result"
    }
   ],
   "source": [
    "len(combined_features)"
   ]
  },
  {
   "cell_type": "code",
   "execution_count": 38,
   "id": "fbee4f25",
   "metadata": {},
   "outputs": [
    {
     "data": {
      "text/plain": [
       "array([ 1.        ,  1.        ,  1.        ,  1.        ,  2.        ,\n",
       "       13.        ,  1.        ,  0.        ,  0.        ,  0.        ,\n",
       "        0.        ,  0.        ,  0.        ,  0.        ,  0.        ,\n",
       "        0.        ,  0.        ,  0.        ,  0.        ,  0.        ,\n",
       "        0.        ,  0.        ,  0.        ,  0.        ,  0.        ,\n",
       "        0.        ,  0.        ,  0.        ,  0.        ,  0.        ,\n",
       "        0.        ,  0.        ,  0.        ,  0.        ,  0.        ,\n",
       "        0.467288  ,  0.        ,  0.        ,  0.        ,  0.69007561,\n",
       "        0.        ,  0.        ,  0.        ,  0.        ,  0.        ,\n",
       "        0.        ,  0.        ,  0.55266407,  0.        ,  0.        ,\n",
       "        0.        ,  0.        ,  0.        ,  0.        ,  0.        ,\n",
       "        0.        ,  0.        ,  0.        ,  0.        ,  0.18734094,\n",
       "        0.        ,  0.        ,  0.        ,  0.        ,  0.        ,\n",
       "        0.        ,  0.        ,  0.        ,  0.        ,  0.        ,\n",
       "        0.07059341,  0.06345263,  0.        ,  0.19919711,  0.08177366,\n",
       "        0.47754184,  0.        ,  0.        ,  0.        ,  0.0927846 ,\n",
       "        0.        ,  0.0837568 ,  0.        ,  0.        ,  0.        ,\n",
       "        0.07226002,  0.        ,  0.        ,  0.15246445,  0.08507394,\n",
       "        0.29040081,  0.        ,  0.        ,  0.        ,  0.07282209,\n",
       "        0.        ,  0.        ,  0.        ,  0.        ,  0.        ,\n",
       "        0.        ,  0.        ,  0.        ,  0.        ,  0.        ,\n",
       "        0.        ,  0.        ,  0.        ,  0.        ,  0.0869723 ,\n",
       "        0.16864383,  0.07294044,  0.        ,  0.        ,  0.        ,\n",
       "        0.06173216,  0.        ,  0.35015288,  0.        ,  0.        ,\n",
       "        0.        ,  0.        ,  0.12885371,  0.        ,  0.08995932,\n",
       "        0.        ,  0.        ,  0.17184895,  0.15332571,  0.        ,\n",
       "        0.        ,  0.        ,  0.        ,  0.        ,  0.        ,\n",
       "        0.        ,  0.0705953 ,  0.07955512,  0.        ,  0.15394372,\n",
       "        0.06276138,  0.20593608,  0.10635686,  0.        ,  0.        ,\n",
       "        0.        ,  0.        ,  0.        ,  0.        ,  0.        ,\n",
       "        0.41742613,  0.        ,  0.        ,  0.06599361,  0.07067184,\n",
       "        0.10103647,  0.07380444,  0.        ,  0.05581455])"
      ]
     },
     "execution_count": 38,
     "metadata": {},
     "output_type": "execute_result"
    }
   ],
   "source": [
    "combined_features[0]"
   ]
  },
  {
   "cell_type": "code",
   "execution_count": 39,
   "id": "c31e9514",
   "metadata": {},
   "outputs": [],
   "source": [
    "y_train = np.load(\"./xai_posthoc/y_train_tabular.npy\")\n",
    "y_test = np.load(\"./xai_posthoc/y_test_tabular.npy\")"
   ]
  },
  {
   "cell_type": "code",
   "execution_count": 40,
   "id": "66408aa2",
   "metadata": {},
   "outputs": [],
   "source": [
    "# Step 3: Create an instance of the NearestNeighbors model\n",
    "knn = NearestNeighbors(metric='cosine', n_neighbors = 100)  # Set the distance metric, e.g., 'euclidean' or 'cosine'"
   ]
  },
  {
   "cell_type": "code",
   "execution_count": 41,
   "id": "c7799076",
   "metadata": {},
   "outputs": [
    {
     "data": {
      "text/html": [
       "<style>#sk-container-id-1 {color: black;background-color: white;}#sk-container-id-1 pre{padding: 0;}#sk-container-id-1 div.sk-toggleable {background-color: white;}#sk-container-id-1 label.sk-toggleable__label {cursor: pointer;display: block;width: 100%;margin-bottom: 0;padding: 0.3em;box-sizing: border-box;text-align: center;}#sk-container-id-1 label.sk-toggleable__label-arrow:before {content: \"▸\";float: left;margin-right: 0.25em;color: #696969;}#sk-container-id-1 label.sk-toggleable__label-arrow:hover:before {color: black;}#sk-container-id-1 div.sk-estimator:hover label.sk-toggleable__label-arrow:before {color: black;}#sk-container-id-1 div.sk-toggleable__content {max-height: 0;max-width: 0;overflow: hidden;text-align: left;background-color: #f0f8ff;}#sk-container-id-1 div.sk-toggleable__content pre {margin: 0.2em;color: black;border-radius: 0.25em;background-color: #f0f8ff;}#sk-container-id-1 input.sk-toggleable__control:checked~div.sk-toggleable__content {max-height: 200px;max-width: 100%;overflow: auto;}#sk-container-id-1 input.sk-toggleable__control:checked~label.sk-toggleable__label-arrow:before {content: \"▾\";}#sk-container-id-1 div.sk-estimator input.sk-toggleable__control:checked~label.sk-toggleable__label {background-color: #d4ebff;}#sk-container-id-1 div.sk-label input.sk-toggleable__control:checked~label.sk-toggleable__label {background-color: #d4ebff;}#sk-container-id-1 input.sk-hidden--visually {border: 0;clip: rect(1px 1px 1px 1px);clip: rect(1px, 1px, 1px, 1px);height: 1px;margin: -1px;overflow: hidden;padding: 0;position: absolute;width: 1px;}#sk-container-id-1 div.sk-estimator {font-family: monospace;background-color: #f0f8ff;border: 1px dotted black;border-radius: 0.25em;box-sizing: border-box;margin-bottom: 0.5em;}#sk-container-id-1 div.sk-estimator:hover {background-color: #d4ebff;}#sk-container-id-1 div.sk-parallel-item::after {content: \"\";width: 100%;border-bottom: 1px solid gray;flex-grow: 1;}#sk-container-id-1 div.sk-label:hover label.sk-toggleable__label {background-color: #d4ebff;}#sk-container-id-1 div.sk-serial::before {content: \"\";position: absolute;border-left: 1px solid gray;box-sizing: border-box;top: 0;bottom: 0;left: 50%;z-index: 0;}#sk-container-id-1 div.sk-serial {display: flex;flex-direction: column;align-items: center;background-color: white;padding-right: 0.2em;padding-left: 0.2em;position: relative;}#sk-container-id-1 div.sk-item {position: relative;z-index: 1;}#sk-container-id-1 div.sk-parallel {display: flex;align-items: stretch;justify-content: center;background-color: white;position: relative;}#sk-container-id-1 div.sk-item::before, #sk-container-id-1 div.sk-parallel-item::before {content: \"\";position: absolute;border-left: 1px solid gray;box-sizing: border-box;top: 0;bottom: 0;left: 50%;z-index: -1;}#sk-container-id-1 div.sk-parallel-item {display: flex;flex-direction: column;z-index: 1;position: relative;background-color: white;}#sk-container-id-1 div.sk-parallel-item:first-child::after {align-self: flex-end;width: 50%;}#sk-container-id-1 div.sk-parallel-item:last-child::after {align-self: flex-start;width: 50%;}#sk-container-id-1 div.sk-parallel-item:only-child::after {width: 0;}#sk-container-id-1 div.sk-dashed-wrapped {border: 1px dashed gray;margin: 0 0.4em 0.5em 0.4em;box-sizing: border-box;padding-bottom: 0.4em;background-color: white;}#sk-container-id-1 div.sk-label label {font-family: monospace;font-weight: bold;display: inline-block;line-height: 1.2em;}#sk-container-id-1 div.sk-label-container {text-align: center;}#sk-container-id-1 div.sk-container {/* jupyter's `normalize.less` sets `[hidden] { display: none; }` but bootstrap.min.css set `[hidden] { display: none !important; }` so we also need the `!important` here to be able to override the default hidden behavior on the sphinx rendered scikit-learn.org. See: https://github.com/scikit-learn/scikit-learn/issues/21755 */display: inline-block !important;position: relative;}#sk-container-id-1 div.sk-text-repr-fallback {display: none;}</style><div id=\"sk-container-id-1\" class=\"sk-top-container\"><div class=\"sk-text-repr-fallback\"><pre>NearestNeighbors(metric=&#x27;cosine&#x27;, n_neighbors=100)</pre><b>In a Jupyter environment, please rerun this cell to show the HTML representation or trust the notebook. <br />On GitHub, the HTML representation is unable to render, please try loading this page with nbviewer.org.</b></div><div class=\"sk-container\" hidden><div class=\"sk-item\"><div class=\"sk-estimator sk-toggleable\"><input class=\"sk-toggleable__control sk-hidden--visually\" id=\"sk-estimator-id-1\" type=\"checkbox\" checked><label for=\"sk-estimator-id-1\" class=\"sk-toggleable__label sk-toggleable__label-arrow\">NearestNeighbors</label><div class=\"sk-toggleable__content\"><pre>NearestNeighbors(metric=&#x27;cosine&#x27;, n_neighbors=100)</pre></div></div></div></div></div>"
      ],
      "text/plain": [
       "NearestNeighbors(metric='cosine', n_neighbors=100)"
      ]
     },
     "execution_count": 41,
     "metadata": {},
     "output_type": "execute_result"
    }
   ],
   "source": [
    "# Step 4: Fit the model to the combined feature matrix\n",
    "knn.fit(combined_features, y_train)"
   ]
  },
  {
   "cell_type": "markdown",
   "id": "80500b9c",
   "metadata": {},
   "source": [
    "## Get 100 similar items for one test data\n",
    "- 1 Test application: 1 row in X_test\n",
    "- 100 similar transaction are derived from X_train using knn models\n",
    "- Return a dictionary: \n",
    "    - key: user_id\n",
    "    - value: tupple of (job_id, label of that transaction)\n",
    "- For topN recommendation we only need list of 100 jobs "
   ]
  },
  {
   "cell_type": "code",
   "execution_count": 42,
   "id": "02a59a98",
   "metadata": {},
   "outputs": [
    {
     "data": {
      "text/plain": [
       "City                                                                  0.0\n",
       "State                                                                 1.0\n",
       "Country                                                               1.0\n",
       "DegreeType                                                              4\n",
       "WorkHistoryCount                                                        6\n",
       "TotalYearsExperience                                                  5.0\n",
       "CurrentlyEmployed                                                       1\n",
       "ManagedOthers                                                           0\n",
       "ManagedHowMany                                                          0\n",
       "work_history_matrix     [0.0, 0.0, 0.0, 0.45926196, 0.0, 0.0, 0.0, 0.0...\n",
       "job_matrix              [0.0, 0.0, 0.0, 0.0, 0.0, 0.0, 0.12754311, 0.0...\n",
       "Name: 0, dtype: object"
      ]
     },
     "execution_count": 42,
     "metadata": {},
     "output_type": "execute_result"
    }
   ],
   "source": [
    "X_test.loc[0]"
   ]
  },
  {
   "cell_type": "code",
   "execution_count": 43,
   "id": "a52dca92",
   "metadata": {},
   "outputs": [],
   "source": [
    "# Step 5: Query for similar items\n",
    "numeric_query = X_test[numeric_cols].loc[0]  # Example numeric query\n"
   ]
  },
  {
   "cell_type": "code",
   "execution_count": 44,
   "id": "ec6e8db8",
   "metadata": {},
   "outputs": [
    {
     "data": {
      "text/plain": [
       "City                    0.0\n",
       "State                   1.0\n",
       "Country                 1.0\n",
       "DegreeType              4.0\n",
       "WorkHistoryCount        6.0\n",
       "TotalYearsExperience    5.0\n",
       "CurrentlyEmployed       1.0\n",
       "ManagedOthers           0.0\n",
       "ManagedHowMany          0.0\n",
       "Name: 0, dtype: float64"
      ]
     },
     "execution_count": 44,
     "metadata": {},
     "output_type": "execute_result"
    }
   ],
   "source": [
    "numeric_query"
   ]
  },
  {
   "cell_type": "code",
   "execution_count": 45,
   "id": "aadd2159",
   "metadata": {},
   "outputs": [],
   "source": [
    "work_history_query = X_test['work_history_matrix'].loc[0]"
   ]
  },
  {
   "cell_type": "code",
   "execution_count": 46,
   "id": "5f12137a",
   "metadata": {},
   "outputs": [
    {
     "data": {
      "text/plain": [
       "array([0.        , 0.        , 0.        , 0.45926196, 0.        ,\n",
       "       0.        , 0.        , 0.        , 0.        , 0.        ,\n",
       "       0.        , 0.        , 0.        , 0.        , 0.        ,\n",
       "       0.        , 0.        , 0.        , 0.        , 0.        ,\n",
       "       0.        , 0.        , 0.        , 0.77823495, 0.        ,\n",
       "       0.        , 0.4282859 , 0.        , 0.        , 0.        ,\n",
       "       0.        , 0.        , 0.        , 0.        , 0.        ,\n",
       "       0.        , 0.        , 0.        , 0.        , 0.        ,\n",
       "       0.        , 0.        , 0.        , 0.        , 0.        ,\n",
       "       0.        , 0.        , 0.        , 0.        , 0.        ])"
      ]
     },
     "execution_count": 46,
     "metadata": {},
     "output_type": "execute_result"
    }
   ],
   "source": [
    "work_history_query "
   ]
  },
  {
   "cell_type": "code",
   "execution_count": 47,
   "id": "164ad4c2",
   "metadata": {},
   "outputs": [],
   "source": [
    "job_query = X_test['job_matrix'].loc[0]"
   ]
  },
  {
   "cell_type": "code",
   "execution_count": 48,
   "id": "9b8522ef",
   "metadata": {},
   "outputs": [],
   "source": [
    "# Reshape the 1D arrays to 2D arrays\n",
    "numeric_query = np.reshape(numeric_query, (1, -1))\n",
    "work_history_query = np.reshape(work_history_query, (1, -1))\n",
    "job_query = np.reshape(job_query, (1, -1))\n",
    "\n",
    "query = np.hstack((numeric_query, work_history_query, job_query))\n",
    "distances, indices = knn.kneighbors(query, n_neighbors=100)"
   ]
  },
  {
   "cell_type": "code",
   "execution_count": 50,
   "id": "1475886c",
   "metadata": {},
   "outputs": [
    {
     "data": {
      "text/plain": [
       "array([[0.0091867 , 0.01005865, 0.0108206 , 0.01136098, 0.01215592,\n",
       "        0.01223885, 0.01228455, 0.01319291, 0.0133877 , 0.01349083,\n",
       "        0.01376926, 0.01438585, 0.01462858, 0.01463986, 0.01466234,\n",
       "        0.01476294, 0.0149151 , 0.0149296 , 0.01494694, 0.01496132,\n",
       "        0.0150405 , 0.01505649, 0.01506081, 0.01512025, 0.01515492,\n",
       "        0.01518929, 0.01522716, 0.01527963, 0.01527986, 0.01529073,\n",
       "        0.01544319, 0.01547978, 0.0155155 , 0.01551824, 0.01557892,\n",
       "        0.01566057, 0.01568255, 0.01568321, 0.01574798, 0.01575859,\n",
       "        0.01580091, 0.01580308, 0.01581454, 0.01586965, 0.01597117,\n",
       "        0.01598009, 0.01602946, 0.01603485, 0.01607026, 0.01607709,\n",
       "        0.01608691, 0.01609292, 0.01610928, 0.01617589, 0.01618043,\n",
       "        0.01620676, 0.01620973, 0.01621164, 0.01622227, 0.01625306,\n",
       "        0.01626124, 0.01634722, 0.01634841, 0.01634867, 0.01636237,\n",
       "        0.01638019, 0.01639921, 0.0164041 , 0.01641863, 0.01643086,\n",
       "        0.01643327, 0.01649157, 0.01649871, 0.01651707, 0.01653819,\n",
       "        0.01659137, 0.0166116 , 0.0166166 , 0.01662038, 0.01665901,\n",
       "        0.01666398, 0.01666554, 0.0167177 , 0.01672002, 0.01672055,\n",
       "        0.01675647, 0.01679452, 0.01682032, 0.01684074, 0.01684497,\n",
       "        0.01688096, 0.01688952, 0.01689108, 0.0168973 , 0.01697554,\n",
       "        0.01698289, 0.01699822, 0.01700989, 0.01708179, 0.01708732]])"
      ]
     },
     "execution_count": 50,
     "metadata": {},
     "output_type": "execute_result"
    }
   ],
   "source": [
    "distances"
   ]
  },
  {
   "cell_type": "code",
   "execution_count": 51,
   "id": "0cfaddea",
   "metadata": {},
   "outputs": [
    {
     "data": {
      "text/plain": [
       "array([[166619, 359909, 359907, 359908, 352856, 305167,  31744, 527596,\n",
       "        281643, 334791, 416068, 387207,   4766, 174102, 352857, 319832,\n",
       "        235677, 319829, 386311, 235679, 386312,  90221, 299609, 309726,\n",
       "        145155, 319831, 307817,   8706, 421893, 242259, 531729, 493853,\n",
       "        195033, 319830, 387208, 235678, 441187, 145322, 154571, 301137,\n",
       "        441190, 134174, 129055, 512174, 216788, 134176, 481961, 206018,\n",
       "         25402, 145321, 412709, 511491, 336205,  15248,  38642, 415757,\n",
       "        170322, 233315, 111411,  15246, 293972, 366437, 206019, 210711,\n",
       "        216787, 154572,  15252, 326794, 500827, 134173, 156792, 210714,\n",
       "        184555,  10544, 349236, 153839, 492119,  63466, 349235, 117407,\n",
       "         95322, 111412, 337127, 324569, 441188, 427149, 255825,  95324,\n",
       "          2237, 195034, 527593, 303107, 366436, 493854, 352855,   6000,\n",
       "        416067, 206020, 532667, 363529]])"
      ]
     },
     "execution_count": 51,
     "metadata": {},
     "output_type": "execute_result"
    }
   ],
   "source": [
    "indices"
   ]
  },
  {
   "cell_type": "code",
   "execution_count": 52,
   "id": "c2af9887",
   "metadata": {},
   "outputs": [
    {
     "data": {
      "text/plain": [
       "array([166619, 359909, 359907, 359908, 352856, 305167,  31744, 527596,\n",
       "       281643, 334791, 416068, 387207,   4766, 174102, 352857, 319832,\n",
       "       235677, 319829, 386311, 235679, 386312,  90221, 299609, 309726,\n",
       "       145155, 319831, 307817,   8706, 421893, 242259, 531729, 493853,\n",
       "       195033, 319830, 387208, 235678, 441187, 145322, 154571, 301137,\n",
       "       441190, 134174, 129055, 512174, 216788, 134176, 481961, 206018,\n",
       "        25402, 145321, 412709, 511491, 336205,  15248,  38642, 415757,\n",
       "       170322, 233315, 111411,  15246, 293972, 366437, 206019, 210711,\n",
       "       216787, 154572,  15252, 326794, 500827, 134173, 156792, 210714,\n",
       "       184555,  10544, 349236, 153839, 492119,  63466, 349235, 117407,\n",
       "        95322, 111412, 337127, 324569, 441188, 427149, 255825,  95324,\n",
       "         2237, 195034, 527593, 303107, 366436, 493854, 352855,   6000,\n",
       "       416067, 206020, 532667, 363529])"
      ]
     },
     "execution_count": 52,
     "metadata": {},
     "output_type": "execute_result"
    }
   ],
   "source": [
    "indices[0]"
   ]
  },
  {
   "cell_type": "code",
   "execution_count": 53,
   "id": "9c8b523b",
   "metadata": {},
   "outputs": [
    {
     "data": {
      "text/html": [
       "<div>\n",
       "<style scoped>\n",
       "    .dataframe tbody tr th:only-of-type {\n",
       "        vertical-align: middle;\n",
       "    }\n",
       "\n",
       "    .dataframe tbody tr th {\n",
       "        vertical-align: top;\n",
       "    }\n",
       "\n",
       "    .dataframe thead th {\n",
       "        text-align: right;\n",
       "    }\n",
       "</style>\n",
       "<table border=\"1\" class=\"dataframe\">\n",
       "  <thead>\n",
       "    <tr style=\"text-align: right;\">\n",
       "      <th></th>\n",
       "      <th>City</th>\n",
       "      <th>State</th>\n",
       "      <th>Country</th>\n",
       "      <th>DegreeType</th>\n",
       "      <th>WorkHistoryCount</th>\n",
       "      <th>TotalYearsExperience</th>\n",
       "      <th>CurrentlyEmployed</th>\n",
       "      <th>ManagedOthers</th>\n",
       "      <th>ManagedHowMany</th>\n",
       "      <th>work_history_matrix</th>\n",
       "      <th>job_matrix</th>\n",
       "    </tr>\n",
       "  </thead>\n",
       "  <tbody>\n",
       "    <tr>\n",
       "      <th>166619</th>\n",
       "      <td>0.0</td>\n",
       "      <td>1.0</td>\n",
       "      <td>1.0</td>\n",
       "      <td>4</td>\n",
       "      <td>6</td>\n",
       "      <td>5.0</td>\n",
       "      <td>1</td>\n",
       "      <td>0</td>\n",
       "      <td>0</td>\n",
       "      <td>[0.0, 0.0, 0.0, 0.45926196, 0.0, 0.0, 0.0, 0.0...</td>\n",
       "      <td>[0.25631867, 0.0, 0.0, 0.0, 0.0, 0.0, 0.0, 0.0...</td>\n",
       "    </tr>\n",
       "    <tr>\n",
       "      <th>359909</th>\n",
       "      <td>0.0</td>\n",
       "      <td>1.0</td>\n",
       "      <td>1.0</td>\n",
       "      <td>4</td>\n",
       "      <td>6</td>\n",
       "      <td>5.0</td>\n",
       "      <td>1</td>\n",
       "      <td>0</td>\n",
       "      <td>0</td>\n",
       "      <td>[0.0, 0.0, 0.0, 0.0, 0.0, 0.0, 0.0, 0.0, 0.0, ...</td>\n",
       "      <td>[0.0, 0.0, 0.0, 0.06730579, 0.05464249, 0.1050...</td>\n",
       "    </tr>\n",
       "    <tr>\n",
       "      <th>359907</th>\n",
       "      <td>0.0</td>\n",
       "      <td>1.0</td>\n",
       "      <td>1.0</td>\n",
       "      <td>4</td>\n",
       "      <td>6</td>\n",
       "      <td>5.0</td>\n",
       "      <td>1</td>\n",
       "      <td>0</td>\n",
       "      <td>0</td>\n",
       "      <td>[0.0, 0.0, 0.0, 0.0, 0.0, 0.0, 0.0, 0.0, 0.0, ...</td>\n",
       "      <td>[0.0, 0.0, 0.10106707, 0.0, 0.16979964, 0.0815...</td>\n",
       "    </tr>\n",
       "    <tr>\n",
       "      <th>359908</th>\n",
       "      <td>0.0</td>\n",
       "      <td>1.0</td>\n",
       "      <td>1.0</td>\n",
       "      <td>4</td>\n",
       "      <td>6</td>\n",
       "      <td>5.0</td>\n",
       "      <td>1</td>\n",
       "      <td>0</td>\n",
       "      <td>0</td>\n",
       "      <td>[0.0, 0.0, 0.0, 0.0, 0.0, 0.0, 0.0, 0.0, 0.0, ...</td>\n",
       "      <td>[0.05994761, 0.0, 0.08002949, 0.16561477, 0.06...</td>\n",
       "    </tr>\n",
       "    <tr>\n",
       "      <th>352856</th>\n",
       "      <td>0.0</td>\n",
       "      <td>1.0</td>\n",
       "      <td>1.0</td>\n",
       "      <td>4</td>\n",
       "      <td>6</td>\n",
       "      <td>5.0</td>\n",
       "      <td>1</td>\n",
       "      <td>0</td>\n",
       "      <td>0</td>\n",
       "      <td>[0.0, 0.0, 0.0, 0.0, 0.0, 0.0, 0.0, 0.0, 0.0, ...</td>\n",
       "      <td>[0.05006725, 0.06774129, 0.0, 0.0, 0.0, 0.0, 0...</td>\n",
       "    </tr>\n",
       "  </tbody>\n",
       "</table>\n",
       "</div>"
      ],
      "text/plain": [
       "        City  State  Country  DegreeType  WorkHistoryCount  \\\n",
       "166619   0.0    1.0      1.0           4                 6   \n",
       "359909   0.0    1.0      1.0           4                 6   \n",
       "359907   0.0    1.0      1.0           4                 6   \n",
       "359908   0.0    1.0      1.0           4                 6   \n",
       "352856   0.0    1.0      1.0           4                 6   \n",
       "\n",
       "        TotalYearsExperience  CurrentlyEmployed  ManagedOthers  \\\n",
       "166619                   5.0                  1              0   \n",
       "359909                   5.0                  1              0   \n",
       "359907                   5.0                  1              0   \n",
       "359908                   5.0                  1              0   \n",
       "352856                   5.0                  1              0   \n",
       "\n",
       "        ManagedHowMany                                work_history_matrix  \\\n",
       "166619               0  [0.0, 0.0, 0.0, 0.45926196, 0.0, 0.0, 0.0, 0.0...   \n",
       "359909               0  [0.0, 0.0, 0.0, 0.0, 0.0, 0.0, 0.0, 0.0, 0.0, ...   \n",
       "359907               0  [0.0, 0.0, 0.0, 0.0, 0.0, 0.0, 0.0, 0.0, 0.0, ...   \n",
       "359908               0  [0.0, 0.0, 0.0, 0.0, 0.0, 0.0, 0.0, 0.0, 0.0, ...   \n",
       "352856               0  [0.0, 0.0, 0.0, 0.0, 0.0, 0.0, 0.0, 0.0, 0.0, ...   \n",
       "\n",
       "                                               job_matrix  \n",
       "166619  [0.25631867, 0.0, 0.0, 0.0, 0.0, 0.0, 0.0, 0.0...  \n",
       "359909  [0.0, 0.0, 0.0, 0.06730579, 0.05464249, 0.1050...  \n",
       "359907  [0.0, 0.0, 0.10106707, 0.0, 0.16979964, 0.0815...  \n",
       "359908  [0.05994761, 0.0, 0.08002949, 0.16561477, 0.06...  \n",
       "352856  [0.05006725, 0.06774129, 0.0, 0.0, 0.0, 0.0, 0...  "
      ]
     },
     "execution_count": 53,
     "metadata": {},
     "output_type": "execute_result"
    }
   ],
   "source": [
    "# Retrieve the actual items using the indices (Retrieve from X_train)\n",
    "knn_items = X_train.iloc[indices[0]]\n",
    "# Print the retrieved items\n",
    "knn_items.head()"
   ]
  },
  {
   "cell_type": "code",
   "execution_count": 54,
   "id": "0e099a23",
   "metadata": {},
   "outputs": [],
   "source": [
    "# Retrieve the actual items using the indices (Retrieve from data_train)\n",
    "knn_items_detail = train_data_extended.iloc[indices[0]]"
   ]
  },
  {
   "cell_type": "code",
   "execution_count": 81,
   "id": "ba8bd6cb",
   "metadata": {},
   "outputs": [
    {
     "data": {
      "text/html": [
       "<div>\n",
       "<style scoped>\n",
       "    .dataframe tbody tr th:only-of-type {\n",
       "        vertical-align: middle;\n",
       "    }\n",
       "\n",
       "    .dataframe tbody tr th {\n",
       "        vertical-align: top;\n",
       "    }\n",
       "\n",
       "    .dataframe thead th {\n",
       "        text-align: right;\n",
       "    }\n",
       "</style>\n",
       "<table border=\"1\" class=\"dataframe\">\n",
       "  <thead>\n",
       "    <tr style=\"text-align: right;\">\n",
       "      <th></th>\n",
       "      <th>UserID</th>\n",
       "      <th>JobID</th>\n",
       "      <th>label</th>\n",
       "      <th>City</th>\n",
       "      <th>State</th>\n",
       "      <th>Country</th>\n",
       "      <th>DegreeType</th>\n",
       "      <th>WorkHistoryCount</th>\n",
       "      <th>TotalYearsExperience</th>\n",
       "      <th>CurrentlyEmployed</th>\n",
       "      <th>ManagedOthers</th>\n",
       "      <th>ManagedHowMany</th>\n",
       "      <th>u_idx</th>\n",
       "      <th>work_history_matrix</th>\n",
       "      <th>j_idx</th>\n",
       "      <th>job_matrix</th>\n",
       "      <th>mean_work_history_matrix</th>\n",
       "      <th>mean_job_matrix</th>\n",
       "    </tr>\n",
       "  </thead>\n",
       "  <tbody>\n",
       "    <tr>\n",
       "      <th>166619</th>\n",
       "      <td>444209</td>\n",
       "      <td>824471</td>\n",
       "      <td>1</td>\n",
       "      <td>0.0</td>\n",
       "      <td>1.0</td>\n",
       "      <td>1.0</td>\n",
       "      <td>4</td>\n",
       "      <td>6</td>\n",
       "      <td>5.0</td>\n",
       "      <td>1</td>\n",
       "      <td>0</td>\n",
       "      <td>0</td>\n",
       "      <td>118297</td>\n",
       "      <td>[0.0, 0.0, 0.0, 0.45926196, 0.0, 0.0, 0.0, 0.0...</td>\n",
       "      <td>905769</td>\n",
       "      <td>[0.25631867, 0.0, 0.0, 0.0, 0.0, 0.0, 0.0, 0.0...</td>\n",
       "      <td>0.033316</td>\n",
       "      <td>0.051927</td>\n",
       "    </tr>\n",
       "    <tr>\n",
       "      <th>359909</th>\n",
       "      <td>946589</td>\n",
       "      <td>7415</td>\n",
       "      <td>0</td>\n",
       "      <td>0.0</td>\n",
       "      <td>1.0</td>\n",
       "      <td>1.0</td>\n",
       "      <td>4</td>\n",
       "      <td>6</td>\n",
       "      <td>5.0</td>\n",
       "      <td>1</td>\n",
       "      <td>0</td>\n",
       "      <td>0</td>\n",
       "      <td>145529</td>\n",
       "      <td>[0.0, 0.0, 0.0, 0.0, 0.0, 0.0, 0.0, 0.0, 0.0, ...</td>\n",
       "      <td>404990</td>\n",
       "      <td>[0.0, 0.0, 0.0, 0.06730579, 0.05464249, 0.1050...</td>\n",
       "      <td>0.027165</td>\n",
       "      <td>0.061986</td>\n",
       "    </tr>\n",
       "    <tr>\n",
       "      <th>359907</th>\n",
       "      <td>946589</td>\n",
       "      <td>759423</td>\n",
       "      <td>1</td>\n",
       "      <td>0.0</td>\n",
       "      <td>1.0</td>\n",
       "      <td>1.0</td>\n",
       "      <td>4</td>\n",
       "      <td>6</td>\n",
       "      <td>5.0</td>\n",
       "      <td>1</td>\n",
       "      <td>0</td>\n",
       "      <td>0</td>\n",
       "      <td>145529</td>\n",
       "      <td>[0.0, 0.0, 0.0, 0.0, 0.0, 0.0, 0.0, 0.0, 0.0, ...</td>\n",
       "      <td>1014218</td>\n",
       "      <td>[0.0, 0.0, 0.10106707, 0.0, 0.16979964, 0.0815...</td>\n",
       "      <td>0.027165</td>\n",
       "      <td>0.043394</td>\n",
       "    </tr>\n",
       "    <tr>\n",
       "      <th>359908</th>\n",
       "      <td>946589</td>\n",
       "      <td>729658</td>\n",
       "      <td>1</td>\n",
       "      <td>0.0</td>\n",
       "      <td>1.0</td>\n",
       "      <td>1.0</td>\n",
       "      <td>4</td>\n",
       "      <td>6</td>\n",
       "      <td>5.0</td>\n",
       "      <td>1</td>\n",
       "      <td>0</td>\n",
       "      <td>0</td>\n",
       "      <td>145529</td>\n",
       "      <td>[0.0, 0.0, 0.0, 0.0, 0.0, 0.0, 0.0, 0.0, 0.0, ...</td>\n",
       "      <td>1010769</td>\n",
       "      <td>[0.05994761, 0.0, 0.08002949, 0.16561477, 0.06...</td>\n",
       "      <td>0.027165</td>\n",
       "      <td>0.059429</td>\n",
       "    </tr>\n",
       "    <tr>\n",
       "      <th>352856</th>\n",
       "      <td>929065</td>\n",
       "      <td>11852</td>\n",
       "      <td>1</td>\n",
       "      <td>0.0</td>\n",
       "      <td>1.0</td>\n",
       "      <td>1.0</td>\n",
       "      <td>4</td>\n",
       "      <td>6</td>\n",
       "      <td>5.0</td>\n",
       "      <td>1</td>\n",
       "      <td>0</td>\n",
       "      <td>0</td>\n",
       "      <td>83635</td>\n",
       "      <td>[0.0, 0.0, 0.0, 0.0, 0.0, 0.0, 0.0, 0.0, 0.0, ...</td>\n",
       "      <td>540631</td>\n",
       "      <td>[0.05006725, 0.06774129, 0.0, 0.0, 0.0, 0.0, 0...</td>\n",
       "      <td>0.000000</td>\n",
       "      <td>0.051566</td>\n",
       "    </tr>\n",
       "  </tbody>\n",
       "</table>\n",
       "</div>"
      ],
      "text/plain": [
       "        UserID   JobID  label  City  State  Country  DegreeType  \\\n",
       "166619  444209  824471      1   0.0    1.0      1.0           4   \n",
       "359909  946589    7415      0   0.0    1.0      1.0           4   \n",
       "359907  946589  759423      1   0.0    1.0      1.0           4   \n",
       "359908  946589  729658      1   0.0    1.0      1.0           4   \n",
       "352856  929065   11852      1   0.0    1.0      1.0           4   \n",
       "\n",
       "        WorkHistoryCount  TotalYearsExperience  CurrentlyEmployed  \\\n",
       "166619                 6                   5.0                  1   \n",
       "359909                 6                   5.0                  1   \n",
       "359907                 6                   5.0                  1   \n",
       "359908                 6                   5.0                  1   \n",
       "352856                 6                   5.0                  1   \n",
       "\n",
       "        ManagedOthers  ManagedHowMany   u_idx  \\\n",
       "166619              0               0  118297   \n",
       "359909              0               0  145529   \n",
       "359907              0               0  145529   \n",
       "359908              0               0  145529   \n",
       "352856              0               0   83635   \n",
       "\n",
       "                                      work_history_matrix    j_idx  \\\n",
       "166619  [0.0, 0.0, 0.0, 0.45926196, 0.0, 0.0, 0.0, 0.0...   905769   \n",
       "359909  [0.0, 0.0, 0.0, 0.0, 0.0, 0.0, 0.0, 0.0, 0.0, ...   404990   \n",
       "359907  [0.0, 0.0, 0.0, 0.0, 0.0, 0.0, 0.0, 0.0, 0.0, ...  1014218   \n",
       "359908  [0.0, 0.0, 0.0, 0.0, 0.0, 0.0, 0.0, 0.0, 0.0, ...  1010769   \n",
       "352856  [0.0, 0.0, 0.0, 0.0, 0.0, 0.0, 0.0, 0.0, 0.0, ...   540631   \n",
       "\n",
       "                                               job_matrix  \\\n",
       "166619  [0.25631867, 0.0, 0.0, 0.0, 0.0, 0.0, 0.0, 0.0...   \n",
       "359909  [0.0, 0.0, 0.0, 0.06730579, 0.05464249, 0.1050...   \n",
       "359907  [0.0, 0.0, 0.10106707, 0.0, 0.16979964, 0.0815...   \n",
       "359908  [0.05994761, 0.0, 0.08002949, 0.16561477, 0.06...   \n",
       "352856  [0.05006725, 0.06774129, 0.0, 0.0, 0.0, 0.0, 0...   \n",
       "\n",
       "        mean_work_history_matrix  mean_job_matrix  \n",
       "166619                  0.033316         0.051927  \n",
       "359909                  0.027165         0.061986  \n",
       "359907                  0.027165         0.043394  \n",
       "359908                  0.027165         0.059429  \n",
       "352856                  0.000000         0.051566  "
      ]
     },
     "execution_count": 81,
     "metadata": {},
     "output_type": "execute_result"
    }
   ],
   "source": [
    "knn_items_detail.head()"
   ]
  },
  {
   "cell_type": "code",
   "execution_count": 67,
   "id": "e2bcefe8",
   "metadata": {},
   "outputs": [
    {
     "data": {
      "text/plain": [
       "100"
      ]
     },
     "execution_count": 67,
     "metadata": {},
     "output_type": "execute_result"
    }
   ],
   "source": [
    "len(knn_items_detail)"
   ]
  },
  {
   "cell_type": "code",
   "execution_count": 55,
   "id": "c0f131db",
   "metadata": {},
   "outputs": [
    {
     "data": {
      "text/plain": [
       "array([ 444209,  946589,  946589,  946589,  929065,  806599,   86729,\n",
       "       1376600,  747316,  881965, 1087617, 1015529,   13411,  464077,\n",
       "        929065,  844665,  629299,  844665, 1013302,  629299, 1013302,\n",
       "        240691,  791693,  818116,  386704,  844665,  813286,   24188,\n",
       "       1103627,  646298, 1387500, 1288029,  519668,  844665, 1015529,\n",
       "        629299, 1152182,  387150,  412618,  795779, 1152182,  357243,\n",
       "        343248, 1336072,  578269,  357243, 1256859,  549380,   69549,\n",
       "        387150, 1078721, 1334208,  885507,   42466,  106491, 1086929,\n",
       "        454274,  622810,  295971,   42466,  777687,  962847,  549380,\n",
       "        561350,  578269,  412618,   42466,  861592, 1306651,  357243,\n",
       "        418157,  561350,  491871,   29512,  919848,  410713, 1283477,\n",
       "        171296,  919848,  312028,  253826,  295971,  888054,  856452,\n",
       "       1152182, 1116969,  680983,  253826,    6622,  519668, 1376600,\n",
       "        800966,  962847, 1288029,  929065,   16740, 1087617,  549380,\n",
       "       1389869,  955405])"
      ]
     },
     "execution_count": 55,
     "metadata": {},
     "output_type": "execute_result"
    }
   ],
   "source": [
    "knn_items_detail.UserID.values"
   ]
  },
  {
   "cell_type": "code",
   "execution_count": 77,
   "id": "a6125bde",
   "metadata": {},
   "outputs": [
    {
     "data": {
      "text/plain": [
       "31"
      ]
     },
     "execution_count": 77,
     "metadata": {},
     "output_type": "execute_result"
    }
   ],
   "source": [
    "knn_items_detail.UserID.duplicated().sum()"
   ]
  },
  {
   "cell_type": "code",
   "execution_count": 71,
   "id": "54054669",
   "metadata": {},
   "outputs": [
    {
     "data": {
      "text/plain": [
       "100"
      ]
     },
     "execution_count": 71,
     "metadata": {},
     "output_type": "execute_result"
    }
   ],
   "source": [
    "len(knn_items_detail.UserID)"
   ]
  },
  {
   "cell_type": "code",
   "execution_count": 82,
   "id": "e06d8688",
   "metadata": {},
   "outputs": [
    {
     "data": {
      "text/plain": [
       "0"
      ]
     },
     "execution_count": 82,
     "metadata": {},
     "output_type": "execute_result"
    }
   ],
   "source": [
    "knn_items_detail[['UserID', 'JobID']].duplicated().sum()"
   ]
  },
  {
   "cell_type": "code",
   "execution_count": 72,
   "id": "7546524c",
   "metadata": {},
   "outputs": [],
   "source": [
    "# This may result in less than 100 items in knn_result if there is duplication in userid (In this case result is 69)\n",
    "knn_result = {}\n",
    "count = 0\n",
    "for i in range(len(knn_items_detail.UserID)):\n",
    "    rec_user = knn_items_detail.UserID.values[i]\n",
    "    rec_item = knn_items_detail.JobID.values[i]\n",
    "    rec_label = knn_items_detail.label.values[i]\n",
    "    #print(rec_item, rec_label)\n",
    "    zip_value = (rec_item, rec_label)\n",
    "    knn_result[rec_user] = zip_value\n",
    "    count +=1"
   ]
  },
  {
   "cell_type": "code",
   "execution_count": 73,
   "id": "e81e7e2b",
   "metadata": {},
   "outputs": [
    {
     "name": "stdout",
     "output_type": "stream",
     "text": [
      "100\n"
     ]
    }
   ],
   "source": [
    "print(count)"
   ]
  },
  {
   "cell_type": "code",
   "execution_count": 74,
   "id": "222d195c",
   "metadata": {},
   "outputs": [
    {
     "data": {
      "text/plain": [
       "69"
      ]
     },
     "execution_count": 74,
     "metadata": {},
     "output_type": "execute_result"
    }
   ],
   "source": [
    "len(knn_result)"
   ]
  },
  {
   "cell_type": "code",
   "execution_count": 58,
   "id": "0db04f12",
   "metadata": {},
   "outputs": [],
   "source": [
    "# gel all items for this user\n",
    "rec_jobid = [i[0] for i in knn_result.values()]"
   ]
  },
  {
   "cell_type": "code",
   "execution_count": 59,
   "id": "53eb1590",
   "metadata": {},
   "outputs": [
    {
     "data": {
      "text/plain": [
       "UserID                                                                     13\n",
       "JobID                                                                  821691\n",
       "label                                                                       1\n",
       "City                                                                      0.0\n",
       "State                                                                     1.0\n",
       "Country                                                                   1.0\n",
       "DegreeType                                                                  4\n",
       "WorkHistoryCount                                                            6\n",
       "TotalYearsExperience                                                      5.0\n",
       "CurrentlyEmployed                                                           1\n",
       "ManagedOthers                                                               0\n",
       "ManagedHowMany                                                              0\n",
       "u_idx                                                                  112440\n",
       "work_history_matrix         [0.0, 0.0, 0.0, 0.45926196, 0.0, 0.0, 0.0, 0.0...\n",
       "j_idx                                                                  905490\n",
       "job_matrix                  [0.0, 0.0, 0.0, 0.0, 0.0, 0.0, 0.12754311, 0.0...\n",
       "mean_work_history_matrix                                             0.033316\n",
       "mean_job_matrix                                                      0.033698\n",
       "Name: 0, dtype: object"
      ]
     },
     "execution_count": 59,
     "metadata": {},
     "output_type": "execute_result"
    }
   ],
   "source": [
    "test_data_extended.loc[0]"
   ]
  },
  {
   "cell_type": "code",
   "execution_count": 83,
   "id": "1552d3ba",
   "metadata": {},
   "outputs": [],
   "source": [
    "knn_result_df = knn_items_detail[['UserID','JobID','label','City','State','Country']]"
   ]
  },
  {
   "cell_type": "code",
   "execution_count": 85,
   "id": "d7810903",
   "metadata": {},
   "outputs": [
    {
     "name": "stderr",
     "output_type": "stream",
     "text": [
      "/var/folders/rt/sq9c2fwj2wz441h13l9hcfrc0000gn/T/ipykernel_7434/3012723479.py:1: SettingWithCopyWarning: \n",
      "A value is trying to be set on a copy of a slice from a DataFrame.\n",
      "Try using .loc[row_indexer,col_indexer] = value instead\n",
      "\n",
      "See the caveats in the documentation: https://pandas.pydata.org/pandas-docs/stable/user_guide/indexing.html#returning-a-view-versus-a-copy\n",
      "  knn_result_df['cosine_distance'] = distances[0]\n"
     ]
    }
   ],
   "source": [
    "knn_result_df['cosine_distance'] = distances[0]"
   ]
  },
  {
   "cell_type": "code",
   "execution_count": 86,
   "id": "5d0dcc04",
   "metadata": {},
   "outputs": [
    {
     "data": {
      "text/html": [
       "<div>\n",
       "<style scoped>\n",
       "    .dataframe tbody tr th:only-of-type {\n",
       "        vertical-align: middle;\n",
       "    }\n",
       "\n",
       "    .dataframe tbody tr th {\n",
       "        vertical-align: top;\n",
       "    }\n",
       "\n",
       "    .dataframe thead th {\n",
       "        text-align: right;\n",
       "    }\n",
       "</style>\n",
       "<table border=\"1\" class=\"dataframe\">\n",
       "  <thead>\n",
       "    <tr style=\"text-align: right;\">\n",
       "      <th></th>\n",
       "      <th>UserID</th>\n",
       "      <th>JobID</th>\n",
       "      <th>label</th>\n",
       "      <th>City</th>\n",
       "      <th>State</th>\n",
       "      <th>Country</th>\n",
       "      <th>cosine_distance</th>\n",
       "    </tr>\n",
       "  </thead>\n",
       "  <tbody>\n",
       "    <tr>\n",
       "      <th>166619</th>\n",
       "      <td>444209</td>\n",
       "      <td>824471</td>\n",
       "      <td>1</td>\n",
       "      <td>0.0</td>\n",
       "      <td>1.0</td>\n",
       "      <td>1.0</td>\n",
       "      <td>0.009187</td>\n",
       "    </tr>\n",
       "    <tr>\n",
       "      <th>359909</th>\n",
       "      <td>946589</td>\n",
       "      <td>7415</td>\n",
       "      <td>0</td>\n",
       "      <td>0.0</td>\n",
       "      <td>1.0</td>\n",
       "      <td>1.0</td>\n",
       "      <td>0.010059</td>\n",
       "    </tr>\n",
       "    <tr>\n",
       "      <th>359907</th>\n",
       "      <td>946589</td>\n",
       "      <td>759423</td>\n",
       "      <td>1</td>\n",
       "      <td>0.0</td>\n",
       "      <td>1.0</td>\n",
       "      <td>1.0</td>\n",
       "      <td>0.010821</td>\n",
       "    </tr>\n",
       "    <tr>\n",
       "      <th>359908</th>\n",
       "      <td>946589</td>\n",
       "      <td>729658</td>\n",
       "      <td>1</td>\n",
       "      <td>0.0</td>\n",
       "      <td>1.0</td>\n",
       "      <td>1.0</td>\n",
       "      <td>0.011361</td>\n",
       "    </tr>\n",
       "    <tr>\n",
       "      <th>352856</th>\n",
       "      <td>929065</td>\n",
       "      <td>11852</td>\n",
       "      <td>1</td>\n",
       "      <td>0.0</td>\n",
       "      <td>1.0</td>\n",
       "      <td>1.0</td>\n",
       "      <td>0.012156</td>\n",
       "    </tr>\n",
       "    <tr>\n",
       "      <th>...</th>\n",
       "      <td>...</td>\n",
       "      <td>...</td>\n",
       "      <td>...</td>\n",
       "      <td>...</td>\n",
       "      <td>...</td>\n",
       "      <td>...</td>\n",
       "      <td>...</td>\n",
       "    </tr>\n",
       "    <tr>\n",
       "      <th>6000</th>\n",
       "      <td>16740</td>\n",
       "      <td>773803</td>\n",
       "      <td>1</td>\n",
       "      <td>0.0</td>\n",
       "      <td>1.0</td>\n",
       "      <td>1.0</td>\n",
       "      <td>0.016983</td>\n",
       "    </tr>\n",
       "    <tr>\n",
       "      <th>416067</th>\n",
       "      <td>1087617</td>\n",
       "      <td>1090870</td>\n",
       "      <td>1</td>\n",
       "      <td>0.0</td>\n",
       "      <td>1.0</td>\n",
       "      <td>1.0</td>\n",
       "      <td>0.016998</td>\n",
       "    </tr>\n",
       "    <tr>\n",
       "      <th>206020</th>\n",
       "      <td>549380</td>\n",
       "      <td>935186</td>\n",
       "      <td>1</td>\n",
       "      <td>0.0</td>\n",
       "      <td>1.0</td>\n",
       "      <td>1.0</td>\n",
       "      <td>0.017010</td>\n",
       "    </tr>\n",
       "    <tr>\n",
       "      <th>532667</th>\n",
       "      <td>1389869</td>\n",
       "      <td>286088</td>\n",
       "      <td>1</td>\n",
       "      <td>0.0</td>\n",
       "      <td>1.0</td>\n",
       "      <td>1.0</td>\n",
       "      <td>0.017082</td>\n",
       "    </tr>\n",
       "    <tr>\n",
       "      <th>363529</th>\n",
       "      <td>955405</td>\n",
       "      <td>332278</td>\n",
       "      <td>1</td>\n",
       "      <td>0.0</td>\n",
       "      <td>1.0</td>\n",
       "      <td>1.0</td>\n",
       "      <td>0.017087</td>\n",
       "    </tr>\n",
       "  </tbody>\n",
       "</table>\n",
       "<p>100 rows × 7 columns</p>\n",
       "</div>"
      ],
      "text/plain": [
       "         UserID    JobID  label  City  State  Country  cosine_distance\n",
       "166619   444209   824471      1   0.0    1.0      1.0         0.009187\n",
       "359909   946589     7415      0   0.0    1.0      1.0         0.010059\n",
       "359907   946589   759423      1   0.0    1.0      1.0         0.010821\n",
       "359908   946589   729658      1   0.0    1.0      1.0         0.011361\n",
       "352856   929065    11852      1   0.0    1.0      1.0         0.012156\n",
       "...         ...      ...    ...   ...    ...      ...              ...\n",
       "6000      16740   773803      1   0.0    1.0      1.0         0.016983\n",
       "416067  1087617  1090870      1   0.0    1.0      1.0         0.016998\n",
       "206020   549380   935186      1   0.0    1.0      1.0         0.017010\n",
       "532667  1389869   286088      1   0.0    1.0      1.0         0.017082\n",
       "363529   955405   332278      1   0.0    1.0      1.0         0.017087\n",
       "\n",
       "[100 rows x 7 columns]"
      ]
     },
     "execution_count": 86,
     "metadata": {},
     "output_type": "execute_result"
    }
   ],
   "source": [
    "knn_result_df"
   ]
  },
  {
   "cell_type": "code",
   "execution_count": 87,
   "id": "a027c83b",
   "metadata": {},
   "outputs": [],
   "source": [
    "def zipmap(df): return list(zip(*map(df.get, df)))"
   ]
  },
  {
   "cell_type": "code",
   "execution_count": 90,
   "id": "112508f0",
   "metadata": {},
   "outputs": [],
   "source": [
    "knn_result_list = zipmap(knn_result_df)"
   ]
  },
  {
   "cell_type": "code",
   "execution_count": 91,
   "id": "3a6fdb28",
   "metadata": {},
   "outputs": [
    {
     "data": {
      "text/plain": [
       "100"
      ]
     },
     "execution_count": 91,
     "metadata": {},
     "output_type": "execute_result"
    }
   ],
   "source": [
    "len(knn_result_list)"
   ]
  },
  {
   "cell_type": "code",
   "execution_count": 100,
   "id": "d94a38e8",
   "metadata": {},
   "outputs": [],
   "source": [
    "# knn_indices and knn_distances are 1D array from the result of knn_neighbors\n",
    "def get_knn_results(knn_indices, knn_distances, select_cols): \n",
    "    # Retrieve the actual items using the indices (Retrieve from data_train)\n",
    "    knn_items_detail = train_data_extended.iloc[knn_indices]\n",
    "    \n",
    "    # Select columns to be included in the result: Example: ['JobID']\n",
    "    knn_result_df = knn_items_detail[select_cols]\n",
    "    knn_result_df['cosine_distance'] = knn_distances\n",
    "    \n",
    "    def zipmap(df): return list(zip(*map(df.get, df)))\n",
    "    \n",
    "    knn_result_list = zipmap(knn_result_df)\n",
    "    return knn_result_list"
   ]
  },
  {
   "cell_type": "code",
   "execution_count": 119,
   "id": "2c113632",
   "metadata": {},
   "outputs": [
    {
     "name": "stderr",
     "output_type": "stream",
     "text": [
      "/var/folders/rt/sq9c2fwj2wz441h13l9hcfrc0000gn/T/ipykernel_7434/475803810.py:8: SettingWithCopyWarning: \n",
      "A value is trying to be set on a copy of a slice from a DataFrame.\n",
      "Try using .loc[row_indexer,col_indexer] = value instead\n",
      "\n",
      "See the caveats in the documentation: https://pandas.pydata.org/pandas-docs/stable/user_guide/indexing.html#returning-a-view-versus-a-copy\n",
      "  knn_result_df['cosine_distance'] = knn_distances\n"
     ]
    }
   ],
   "source": [
    "# Get only jobID\n",
    "check_knn_list = get_knn_results(knn_indices = indices[0],\n",
    "                                 knn_distances = distances[0],\n",
    "                select_cols = ['JobID'])"
   ]
  },
  {
   "cell_type": "code",
   "execution_count": 103,
   "id": "b40a45d0",
   "metadata": {},
   "outputs": [
    {
     "data": {
      "text/plain": [
       "100"
      ]
     },
     "execution_count": 103,
     "metadata": {},
     "output_type": "execute_result"
    }
   ],
   "source": [
    "len(check_knn_list)"
   ]
  },
  {
   "cell_type": "code",
   "execution_count": 125,
   "id": "62ce5e46",
   "metadata": {},
   "outputs": [
    {
     "data": {
      "text/plain": [
       "[(824471, 0.009186704246106236),\n",
       " (7415, 0.010058654315184823),\n",
       " (759423, 0.010820599504993256),\n",
       " (729658, 0.01136097770215072),\n",
       " (11852, 0.012155924188430145),\n",
       " (677614, 0.01223884716537138),\n",
       " (586140, 0.012284545052840823),\n",
       " (641999, 0.013192911006157049),\n",
       " (241804, 0.013387699446543722),\n",
       " (460628, 0.013490833802810798),\n",
       " (445769, 0.013769260442408227),\n",
       " (1100319, 0.014385848736315321),\n",
       " (248446, 0.014628580764413979),\n",
       " (317288, 0.014639863196743264),\n",
       " (411167, 0.01466234421867263),\n",
       " (261063, 0.01476293717053645),\n",
       " (881785, 0.014915104616859076),\n",
       " (334428, 0.014929598109359898),\n",
       " (601438, 0.014946941470374453),\n",
       " (1083803, 0.014961319060332379),\n",
       " (453088, 0.015040496887263277),\n",
       " (610480, 0.015056492153392775),\n",
       " (872594, 0.015060807517992103),\n",
       " (339239, 0.01512025055728472),\n",
       " (367918, 0.015154924832629924),\n",
       " (449205, 0.015189287083262504),\n",
       " (504586, 0.015227159609435548),\n",
       " (789664, 0.015279630451044302),\n",
       " (355903, 0.01527985502132656),\n",
       " (1061269, 0.015290733043243465),\n",
       " (848303, 0.01544318592294358),\n",
       " (881911, 0.015479780325860504),\n",
       " (741104, 0.015515496382610072),\n",
       " (616977, 0.015518235606631015),\n",
       " (509296, 0.015578916113981878),\n",
       " (491220, 0.015660569148811976),\n",
       " (134765, 0.01568254663012647),\n",
       " (758789, 0.015683211680111553),\n",
       " (701637, 0.015747980201278322),\n",
       " (599039, 0.015758593651652997),\n",
       " (259223, 0.015800905716399916),\n",
       " (218263, 0.015803079762136463),\n",
       " (1066732, 0.015814540286445466),\n",
       " (253840, 0.01586965359405157),\n",
       " (1044568, 0.015971166877185583),\n",
       " (215676, 0.015980087627619488),\n",
       " (600536, 0.016029460255005068),\n",
       " (615191, 0.01603484604516847),\n",
       " (567847, 0.016070263925134887),\n",
       " (662617, 0.016077088989108534),\n",
       " (633285, 0.01608690713051475),\n",
       " (883754, 0.01609291670998758),\n",
       " (73368, 0.016109282505468947),\n",
       " (1084027, 0.016175890625170664),\n",
       " (710727, 0.016180431048761768),\n",
       " (690818, 0.016206758032934254),\n",
       " (551812, 0.01620973027028416),\n",
       " (873032, 0.016211640552066697),\n",
       " (137435, 0.016222273018356548),\n",
       " (459310, 0.01625305556686496),\n",
       " (14178, 0.016261237295998043),\n",
       " (148159, 0.016347216013745447),\n",
       " (295849, 0.01634841181259561),\n",
       " (503178, 0.01634867474657209),\n",
       " (268100, 0.016362373641420014),\n",
       " (744866, 0.01638019208342545),\n",
       " (869213, 0.016399207930329673),\n",
       " (758267, 0.01640410461001851),\n",
       " (280393, 0.01641863155042178),\n",
       " (216701, 0.016430863090131975),\n",
       " (909959, 0.016433272395064646),\n",
       " (512239, 0.016491570154294366),\n",
       " (333505, 0.016498713329801573),\n",
       " (849531, 0.016517065819462884),\n",
       " (768425, 0.016538193779431554),\n",
       " (912171, 0.016591366120844775),\n",
       " (623378, 0.016611597632076647),\n",
       " (701398, 0.01661660069221127),\n",
       " (1074335, 0.01662037718268805),\n",
       " (795959, 0.016659005401165272),\n",
       " (1025633, 0.016663977536035546),\n",
       " (916630, 0.016665536831741212),\n",
       " (447368, 0.016717697078180938),\n",
       " (1015889, 0.016720017161374834),\n",
       " (589291, 0.016720553768842183),\n",
       " (444587, 0.016756471175676024),\n",
       " (187164, 0.016794517416541588),\n",
       " (1035474, 0.01682032117367549),\n",
       " (7234, 0.01684073559207888),\n",
       " (710636, 0.016844968412248584),\n",
       " (560094, 0.016880957425559395),\n",
       " (746717, 0.01688952142550848),\n",
       " (249598, 0.016891076391938875),\n",
       " (172713, 0.01689730003519796),\n",
       " (332624, 0.016975541954121764),\n",
       " (773803, 0.016982889670504098),\n",
       " (1090870, 0.016998219925707714),\n",
       " (935186, 0.017009890952651596),\n",
       " (286088, 0.017081786469509863),\n",
       " (332278, 0.017087321880073114)]"
      ]
     },
     "execution_count": 125,
     "metadata": {},
     "output_type": "execute_result"
    }
   ],
   "source": [
    "check_knn_list"
   ]
  },
  {
   "cell_type": "markdown",
   "id": "6cbb32db",
   "metadata": {},
   "source": [
    "## Get 100 neighbors all test interaction data"
   ]
  },
  {
   "cell_type": "code",
   "execution_count": 104,
   "id": "41ef59bd",
   "metadata": {},
   "outputs": [],
   "source": [
    "# Assuming you have a pandas DataFrame called 'data' containing the combined features\n",
    "\n",
    "# Step 1: Convert 'work_history_matrix' and 'job_matrix' columns to dense TF-IDF matrices\n",
    "work_history_matrix = np.array(X_test['work_history_matrix'].tolist())\n",
    "job_matrix = np.array(X_test['job_matrix'].tolist())\n",
    "\n",
    "# Step 2: Combine numeric features and TF-IDF matrices\n",
    "numeric_features_test = X_test.drop(['work_history_matrix', 'job_matrix'], axis=1)\n",
    "combined_features_test = np.hstack((numeric_features_test.values, work_history_matrix, job_matrix))"
   ]
  },
  {
   "cell_type": "code",
   "execution_count": 105,
   "id": "e62f6f7f",
   "metadata": {},
   "outputs": [
    {
     "name": "stdout",
     "output_type": "stream",
     "text": [
      "CPU times: user 4min 17s, sys: 1min 22s, total: 5min 39s\n",
      "Wall time: 3min 26s\n"
     ]
    }
   ],
   "source": [
    "%%time\n",
    "distances_test, indices_test = knn.kneighbors(combined_features_test, \n",
    "                                              n_neighbors=100)"
   ]
  },
  {
   "cell_type": "code",
   "execution_count": 107,
   "id": "1fb1aaec",
   "metadata": {},
   "outputs": [
    {
     "data": {
      "text/plain": [
       "(15736, 15736)"
      ]
     },
     "execution_count": 107,
     "metadata": {},
     "output_type": "execute_result"
    }
   ],
   "source": [
    "len(indices_test), len(distances_test)"
   ]
  },
  {
   "cell_type": "code",
   "execution_count": 108,
   "id": "3d8c303d",
   "metadata": {},
   "outputs": [],
   "source": [
    "knn_test_results = test_data_extended[['UserID']]"
   ]
  },
  {
   "cell_type": "code",
   "execution_count": 109,
   "id": "95274d97",
   "metadata": {},
   "outputs": [
    {
     "data": {
      "text/html": [
       "<div>\n",
       "<style scoped>\n",
       "    .dataframe tbody tr th:only-of-type {\n",
       "        vertical-align: middle;\n",
       "    }\n",
       "\n",
       "    .dataframe tbody tr th {\n",
       "        vertical-align: top;\n",
       "    }\n",
       "\n",
       "    .dataframe thead th {\n",
       "        text-align: right;\n",
       "    }\n",
       "</style>\n",
       "<table border=\"1\" class=\"dataframe\">\n",
       "  <thead>\n",
       "    <tr style=\"text-align: right;\">\n",
       "      <th></th>\n",
       "      <th>UserID</th>\n",
       "    </tr>\n",
       "  </thead>\n",
       "  <tbody>\n",
       "    <tr>\n",
       "      <th>0</th>\n",
       "      <td>13</td>\n",
       "    </tr>\n",
       "    <tr>\n",
       "      <th>1</th>\n",
       "      <td>13</td>\n",
       "    </tr>\n",
       "    <tr>\n",
       "      <th>2</th>\n",
       "      <td>514</td>\n",
       "    </tr>\n",
       "    <tr>\n",
       "      <th>3</th>\n",
       "      <td>514</td>\n",
       "    </tr>\n",
       "    <tr>\n",
       "      <th>4</th>\n",
       "      <td>681</td>\n",
       "    </tr>\n",
       "    <tr>\n",
       "      <th>...</th>\n",
       "      <td>...</td>\n",
       "    </tr>\n",
       "    <tr>\n",
       "      <th>15731</th>\n",
       "      <td>1471251</td>\n",
       "    </tr>\n",
       "    <tr>\n",
       "      <th>15732</th>\n",
       "      <td>1471251</td>\n",
       "    </tr>\n",
       "    <tr>\n",
       "      <th>15733</th>\n",
       "      <td>1471251</td>\n",
       "    </tr>\n",
       "    <tr>\n",
       "      <th>15734</th>\n",
       "      <td>1471988</td>\n",
       "    </tr>\n",
       "    <tr>\n",
       "      <th>15735</th>\n",
       "      <td>1471988</td>\n",
       "    </tr>\n",
       "  </tbody>\n",
       "</table>\n",
       "<p>15736 rows × 1 columns</p>\n",
       "</div>"
      ],
      "text/plain": [
       "        UserID\n",
       "0           13\n",
       "1           13\n",
       "2          514\n",
       "3          514\n",
       "4          681\n",
       "...        ...\n",
       "15731  1471251\n",
       "15732  1471251\n",
       "15733  1471251\n",
       "15734  1471988\n",
       "15735  1471988\n",
       "\n",
       "[15736 rows x 1 columns]"
      ]
     },
     "execution_count": 109,
     "metadata": {},
     "output_type": "execute_result"
    }
   ],
   "source": [
    "knn_test_results"
   ]
  },
  {
   "cell_type": "code",
   "execution_count": 111,
   "id": "a393516f",
   "metadata": {},
   "outputs": [
    {
     "data": {
      "text/plain": [
       "UserID    13\n",
       "Name: 0, dtype: int64"
      ]
     },
     "execution_count": 111,
     "metadata": {},
     "output_type": "execute_result"
    }
   ],
   "source": [
    "knn_test_results.loc[0]"
   ]
  },
  {
   "cell_type": "code",
   "execution_count": 112,
   "id": "0f7bd6ff",
   "metadata": {},
   "outputs": [
    {
     "data": {
      "text/plain": [
       "array([166619, 359909, 359907, 359908, 352856, 305167,  31744, 527596,\n",
       "       281643, 334791, 416068, 387207,   4766, 174102, 352857, 319832,\n",
       "       235677, 319829, 386311, 235679, 386312,  90221, 299609, 309726,\n",
       "       145155, 319831, 307817,   8706, 421893, 242259, 531729, 493853,\n",
       "       195033, 319830, 387208, 235678, 441187, 145322, 154571, 301137,\n",
       "       441190, 134174, 129055, 512174, 216788, 134176, 481961, 206018,\n",
       "        25402, 145321, 412709, 511491, 336205,  15248,  38642, 415757,\n",
       "       170322, 233315, 111411,  15246, 293972, 366437, 206019, 210711,\n",
       "       216787, 154572,  15252, 326794, 500827, 134173, 156792, 210714,\n",
       "       184555,  10544, 349236, 153839, 492119,  63466, 349235, 117407,\n",
       "        95322, 111412, 337127, 324569, 441188, 427149, 255825,  95324,\n",
       "         2237, 195034, 527593, 303107, 366436, 493854, 352855,   6000,\n",
       "       416067, 206020, 532667, 363529])"
      ]
     },
     "execution_count": 112,
     "metadata": {},
     "output_type": "execute_result"
    }
   ],
   "source": [
    "indices_test[0]"
   ]
  },
  {
   "cell_type": "code",
   "execution_count": 114,
   "id": "9942efa1",
   "metadata": {},
   "outputs": [
    {
     "data": {
      "text/plain": [
       "array([0.0091867 , 0.01005865, 0.0108206 , 0.01136098, 0.01215592,\n",
       "       0.01223885, 0.01228455, 0.01319291, 0.0133877 , 0.01349083,\n",
       "       0.01376926, 0.01438585, 0.01462858, 0.01463986, 0.01466234,\n",
       "       0.01476294, 0.0149151 , 0.0149296 , 0.01494694, 0.01496132,\n",
       "       0.0150405 , 0.01505649, 0.01506081, 0.01512025, 0.01515492,\n",
       "       0.01518929, 0.01522716, 0.01527963, 0.01527986, 0.01529073,\n",
       "       0.01544319, 0.01547978, 0.0155155 , 0.01551824, 0.01557892,\n",
       "       0.01566057, 0.01568255, 0.01568321, 0.01574798, 0.01575859,\n",
       "       0.01580091, 0.01580308, 0.01581454, 0.01586965, 0.01597117,\n",
       "       0.01598009, 0.01602946, 0.01603485, 0.01607026, 0.01607709,\n",
       "       0.01608691, 0.01609292, 0.01610928, 0.01617589, 0.01618043,\n",
       "       0.01620676, 0.01620973, 0.01621164, 0.01622227, 0.01625306,\n",
       "       0.01626124, 0.01634722, 0.01634841, 0.01634867, 0.01636237,\n",
       "       0.01638019, 0.01639921, 0.0164041 , 0.01641863, 0.01643086,\n",
       "       0.01643327, 0.01649157, 0.01649871, 0.01651707, 0.01653819,\n",
       "       0.01659137, 0.0166116 , 0.0166166 , 0.01662038, 0.01665901,\n",
       "       0.01666398, 0.01666554, 0.0167177 , 0.01672002, 0.01672055,\n",
       "       0.01675647, 0.01679452, 0.01682032, 0.01684074, 0.01684497,\n",
       "       0.01688096, 0.01688952, 0.01689108, 0.0168973 , 0.01697554,\n",
       "       0.01698289, 0.01699822, 0.01700989, 0.01708179, 0.01708732])"
      ]
     },
     "execution_count": 114,
     "metadata": {},
     "output_type": "execute_result"
    }
   ],
   "source": [
    "distances_test[0]"
   ]
  },
  {
   "cell_type": "code",
   "execution_count": 118,
   "id": "96060dd0",
   "metadata": {},
   "outputs": [
    {
     "name": "stderr",
     "output_type": "stream",
     "text": [
      "/var/folders/rt/sq9c2fwj2wz441h13l9hcfrc0000gn/T/ipykernel_7434/475803810.py:8: SettingWithCopyWarning: \n",
      "A value is trying to be set on a copy of a slice from a DataFrame.\n",
      "Try using .loc[row_indexer,col_indexer] = value instead\n",
      "\n",
      "See the caveats in the documentation: https://pandas.pydata.org/pandas-docs/stable/user_guide/indexing.html#returning-a-view-versus-a-copy\n",
      "  knn_result_df['cosine_distance'] = knn_distances\n"
     ]
    }
   ],
   "source": [
    "verify_knn_list = get_knn_results(knn_indices = indices_test[0], knn_distances = distances_test[0],\n",
    "                select_cols = ['JobID'])"
   ]
  },
  {
   "cell_type": "code",
   "execution_count": 121,
   "id": "3db2063d",
   "metadata": {},
   "outputs": [
    {
     "data": {
      "text/plain": [
       "100"
      ]
     },
     "execution_count": 121,
     "metadata": {},
     "output_type": "execute_result"
    }
   ],
   "source": [
    "len(verify_knn_list)"
   ]
  },
  {
   "cell_type": "code",
   "execution_count": 122,
   "id": "c4f83b48",
   "metadata": {},
   "outputs": [
    {
     "data": {
      "text/plain": [
       "100"
      ]
     },
     "execution_count": 122,
     "metadata": {},
     "output_type": "execute_result"
    }
   ],
   "source": [
    "len(check_knn_list)"
   ]
  },
  {
   "cell_type": "code",
   "execution_count": 123,
   "id": "9dc707bb",
   "metadata": {},
   "outputs": [
    {
     "data": {
      "text/plain": [
       "[(824471, 0.009186704246106236),\n",
       " (7415, 0.010058654315184712),\n",
       " (759423, 0.010820599504993589),\n",
       " (729658, 0.011360977702150832),\n",
       " (11852, 0.012155924188430256),\n",
       " (677614, 0.012238847165371158),\n",
       " (586140, 0.012284545052841045),\n",
       " (641999, 0.013192911006156938),\n",
       " (241804, 0.013387699446543833),\n",
       " (460628, 0.013490833802810798),\n",
       " (445769, 0.013769260442408116),\n",
       " (1100319, 0.01438584873631521),\n",
       " (248446, 0.014628580764413535),\n",
       " (317288, 0.014639863196743041),\n",
       " (411167, 0.01466234421867263),\n",
       " (261063, 0.01476293717053645),\n",
       " (881785, 0.014915104616859076),\n",
       " (334428, 0.01492959810936001),\n",
       " (601438, 0.014946941470374453),\n",
       " (1083803, 0.014961319060332268),\n",
       " (453088, 0.015040496887263166),\n",
       " (610480, 0.015056492153392664),\n",
       " (872594, 0.015060807517991992),\n",
       " (339239, 0.01512025055728472),\n",
       " (367918, 0.015154924832629812),\n",
       " (449205, 0.015189287083262504),\n",
       " (504586, 0.015227159609435659),\n",
       " (789664, 0.015279630451044413),\n",
       " (355903, 0.015279855021326894),\n",
       " (1061269, 0.015290733043243354),\n",
       " (848303, 0.01544318592294358),\n",
       " (881911, 0.015479780325860504),\n",
       " (741104, 0.015515496382610072),\n",
       " (616977, 0.015518235606631015),\n",
       " (509296, 0.015578916113981767),\n",
       " (491220, 0.015660569148811754),\n",
       " (134765, 0.01568254663012658),\n",
       " (758789, 0.015683211680111553),\n",
       " (701637, 0.015747980201278322),\n",
       " (599039, 0.01575859365165322),\n",
       " (259223, 0.015800905716400027),\n",
       " (218263, 0.015803079762136907),\n",
       " (1066732, 0.015814540286445578),\n",
       " (253840, 0.015869653594051458),\n",
       " (1044568, 0.015971166877185694),\n",
       " (215676, 0.015980087627619377),\n",
       " (600536, 0.016029460255005068),\n",
       " (615191, 0.016034846045168694),\n",
       " (567847, 0.016070263925134887),\n",
       " (662617, 0.016077088989108868),\n",
       " (633285, 0.01608690713051486),\n",
       " (883754, 0.01609291670998736),\n",
       " (73368, 0.01610928250546917),\n",
       " (1084027, 0.016175890625170553),\n",
       " (710727, 0.016180431048761545),\n",
       " (690818, 0.016206758032934365),\n",
       " (551812, 0.01620973027028416),\n",
       " (873032, 0.016211640552066364),\n",
       " (137435, 0.016222273018356548),\n",
       " (459310, 0.01625305556686507),\n",
       " (14178, 0.016261237295998043),\n",
       " (148159, 0.016347216013745447),\n",
       " (295849, 0.016348411812595498),\n",
       " (503178, 0.01634867474657209),\n",
       " (268100, 0.016362373641420014),\n",
       " (744866, 0.016380192083425227),\n",
       " (869213, 0.016399207930329895),\n",
       " (758267, 0.01640410461001851),\n",
       " (280393, 0.01641863155042167),\n",
       " (216701, 0.016430863090132197),\n",
       " (909959, 0.016433272395064646),\n",
       " (512239, 0.016491570154294255),\n",
       " (333505, 0.01649871332980135),\n",
       " (849531, 0.016517065819462884),\n",
       " (768425, 0.016538193779431776),\n",
       " (912171, 0.016591366120844553),\n",
       " (623378, 0.016611597632076647),\n",
       " (701398, 0.01661660069221127),\n",
       " (1074335, 0.01662037718268794),\n",
       " (795959, 0.016659005401165272),\n",
       " (1025633, 0.016663977536035324),\n",
       " (916630, 0.0166655368317411),\n",
       " (447368, 0.01671769707818105),\n",
       " (1015889, 0.016720017161374945),\n",
       " (589291, 0.016720553768842294),\n",
       " (444587, 0.016756471175676024),\n",
       " (187164, 0.016794517416541588),\n",
       " (1035474, 0.01682032117367549),\n",
       " (7234, 0.01684073559207888),\n",
       " (710636, 0.016844968412248473),\n",
       " (560094, 0.016880957425559395),\n",
       " (746717, 0.01688952142550848),\n",
       " (249598, 0.016891076391938986),\n",
       " (172713, 0.01689730003519796),\n",
       " (332624, 0.016975541954121653),\n",
       " (773803, 0.016982889670503987),\n",
       " (1090870, 0.016998219925707714),\n",
       " (935186, 0.017009890952651596),\n",
       " (286088, 0.017081786469509974),\n",
       " (332278, 0.017087321880073114)]"
      ]
     },
     "execution_count": 123,
     "metadata": {},
     "output_type": "execute_result"
    }
   ],
   "source": [
    "verify_knn_list"
   ]
  },
  {
   "cell_type": "code",
   "execution_count": 129,
   "id": "dbd18e04",
   "metadata": {},
   "outputs": [
    {
     "name": "stdout",
     "output_type": "stream",
     "text": [
      "CPU times: user 12.8 s, sys: 204 ms, total: 13 s\n",
      "Wall time: 13 s\n"
     ]
    }
   ],
   "source": [
    "%%time\n",
    "knn_test_details = []\n",
    "for i in range(len(knn_test_results)):\n",
    "    result_list = get_knn_results(knn_indices = indices_test[i], \n",
    "                                  knn_distances = distances_test[i],\n",
    "                select_cols = ['JobID'])\n",
    "    knn_test_details.append(result_list)"
   ]
  },
  {
   "cell_type": "code",
   "execution_count": 130,
   "id": "2a5b605c",
   "metadata": {},
   "outputs": [
    {
     "data": {
      "text/plain": [
       "15736"
      ]
     },
     "execution_count": 130,
     "metadata": {},
     "output_type": "execute_result"
    }
   ],
   "source": [
    "len(knn_test_details)"
   ]
  },
  {
   "cell_type": "code",
   "execution_count": 132,
   "id": "2c2182f0",
   "metadata": {},
   "outputs": [
    {
     "data": {
      "text/plain": [
       "100"
      ]
     },
     "execution_count": 132,
     "metadata": {},
     "output_type": "execute_result"
    }
   ],
   "source": [
    "len(knn_test_details[0])"
   ]
  },
  {
   "cell_type": "code",
   "execution_count": 133,
   "id": "9cd95e5f",
   "metadata": {},
   "outputs": [],
   "source": [
    "knn_test_results['detail'] = knn_test_details"
   ]
  },
  {
   "cell_type": "code",
   "execution_count": 134,
   "id": "aea617b4",
   "metadata": {},
   "outputs": [
    {
     "data": {
      "text/html": [
       "<div>\n",
       "<style scoped>\n",
       "    .dataframe tbody tr th:only-of-type {\n",
       "        vertical-align: middle;\n",
       "    }\n",
       "\n",
       "    .dataframe tbody tr th {\n",
       "        vertical-align: top;\n",
       "    }\n",
       "\n",
       "    .dataframe thead th {\n",
       "        text-align: right;\n",
       "    }\n",
       "</style>\n",
       "<table border=\"1\" class=\"dataframe\">\n",
       "  <thead>\n",
       "    <tr style=\"text-align: right;\">\n",
       "      <th></th>\n",
       "      <th>UserID</th>\n",
       "      <th>detail</th>\n",
       "    </tr>\n",
       "  </thead>\n",
       "  <tbody>\n",
       "    <tr>\n",
       "      <th>0</th>\n",
       "      <td>13</td>\n",
       "      <td>[(824471, 0.009186704246106236), (7415, 0.0100...</td>\n",
       "    </tr>\n",
       "    <tr>\n",
       "      <th>1</th>\n",
       "      <td>13</td>\n",
       "      <td>[(976335, 0.011466280723388289), (857891, 0.01...</td>\n",
       "    </tr>\n",
       "    <tr>\n",
       "      <th>2</th>\n",
       "      <td>514</td>\n",
       "      <td>[(308083, 0.01556519949295787), (389827, 0.015...</td>\n",
       "    </tr>\n",
       "    <tr>\n",
       "      <th>3</th>\n",
       "      <td>514</td>\n",
       "      <td>[(266863, 0.014065778940661411), (1026333, 0.0...</td>\n",
       "    </tr>\n",
       "    <tr>\n",
       "      <th>4</th>\n",
       "      <td>681</td>\n",
       "      <td>[(54495, 0.023697970364968235), (54508, 0.0241...</td>\n",
       "    </tr>\n",
       "  </tbody>\n",
       "</table>\n",
       "</div>"
      ],
      "text/plain": [
       "   UserID                                             detail\n",
       "0      13  [(824471, 0.009186704246106236), (7415, 0.0100...\n",
       "1      13  [(976335, 0.011466280723388289), (857891, 0.01...\n",
       "2     514  [(308083, 0.01556519949295787), (389827, 0.015...\n",
       "3     514  [(266863, 0.014065778940661411), (1026333, 0.0...\n",
       "4     681  [(54495, 0.023697970364968235), (54508, 0.0241..."
      ]
     },
     "execution_count": 134,
     "metadata": {},
     "output_type": "execute_result"
    }
   ],
   "source": [
    "knn_test_results.head()"
   ]
  },
  {
   "cell_type": "code",
   "execution_count": 153,
   "id": "20217543",
   "metadata": {},
   "outputs": [],
   "source": [
    "knn_test_explode = knn_test_results.explode(column='detail', ignore_index=False)"
   ]
  },
  {
   "cell_type": "code",
   "execution_count": 154,
   "id": "84fe89ab",
   "metadata": {},
   "outputs": [
    {
     "data": {
      "text/plain": [
       "1573600"
      ]
     },
     "execution_count": 154,
     "metadata": {},
     "output_type": "execute_result"
    }
   ],
   "source": [
    "len(knn_test_explode)"
   ]
  },
  {
   "cell_type": "code",
   "execution_count": 155,
   "id": "112e7103",
   "metadata": {},
   "outputs": [
    {
     "data": {
      "text/html": [
       "<div>\n",
       "<style scoped>\n",
       "    .dataframe tbody tr th:only-of-type {\n",
       "        vertical-align: middle;\n",
       "    }\n",
       "\n",
       "    .dataframe tbody tr th {\n",
       "        vertical-align: top;\n",
       "    }\n",
       "\n",
       "    .dataframe thead th {\n",
       "        text-align: right;\n",
       "    }\n",
       "</style>\n",
       "<table border=\"1\" class=\"dataframe\">\n",
       "  <thead>\n",
       "    <tr style=\"text-align: right;\">\n",
       "      <th></th>\n",
       "      <th>UserID</th>\n",
       "      <th>detail</th>\n",
       "    </tr>\n",
       "  </thead>\n",
       "  <tbody>\n",
       "    <tr>\n",
       "      <th>0</th>\n",
       "      <td>13</td>\n",
       "      <td>(824471, 0.009186704246106236)</td>\n",
       "    </tr>\n",
       "    <tr>\n",
       "      <th>0</th>\n",
       "      <td>13</td>\n",
       "      <td>(7415, 0.010058654315184712)</td>\n",
       "    </tr>\n",
       "    <tr>\n",
       "      <th>0</th>\n",
       "      <td>13</td>\n",
       "      <td>(759423, 0.010820599504993589)</td>\n",
       "    </tr>\n",
       "    <tr>\n",
       "      <th>0</th>\n",
       "      <td>13</td>\n",
       "      <td>(729658, 0.011360977702150832)</td>\n",
       "    </tr>\n",
       "    <tr>\n",
       "      <th>0</th>\n",
       "      <td>13</td>\n",
       "      <td>(11852, 0.012155924188430256)</td>\n",
       "    </tr>\n",
       "  </tbody>\n",
       "</table>\n",
       "</div>"
      ],
      "text/plain": [
       "   UserID                          detail\n",
       "0      13  (824471, 0.009186704246106236)\n",
       "0      13    (7415, 0.010058654315184712)\n",
       "0      13  (759423, 0.010820599504993589)\n",
       "0      13  (729658, 0.011360977702150832)\n",
       "0      13   (11852, 0.012155924188430256)"
      ]
     },
     "execution_count": 155,
     "metadata": {},
     "output_type": "execute_result"
    }
   ],
   "source": [
    "knn_test_explode.head()"
   ]
  },
  {
   "cell_type": "code",
   "execution_count": 156,
   "id": "66bb82ce",
   "metadata": {},
   "outputs": [],
   "source": [
    "knn_test_explode['JobID'] = knn_test_explode.apply(lambda x: x.detail[0], axis=1)"
   ]
  },
  {
   "cell_type": "code",
   "execution_count": 157,
   "id": "97343d7d",
   "metadata": {},
   "outputs": [
    {
     "data": {
      "text/html": [
       "<div>\n",
       "<style scoped>\n",
       "    .dataframe tbody tr th:only-of-type {\n",
       "        vertical-align: middle;\n",
       "    }\n",
       "\n",
       "    .dataframe tbody tr th {\n",
       "        vertical-align: top;\n",
       "    }\n",
       "\n",
       "    .dataframe thead th {\n",
       "        text-align: right;\n",
       "    }\n",
       "</style>\n",
       "<table border=\"1\" class=\"dataframe\">\n",
       "  <thead>\n",
       "    <tr style=\"text-align: right;\">\n",
       "      <th></th>\n",
       "      <th>UserID</th>\n",
       "      <th>detail</th>\n",
       "      <th>JobID</th>\n",
       "    </tr>\n",
       "  </thead>\n",
       "  <tbody>\n",
       "    <tr>\n",
       "      <th>0</th>\n",
       "      <td>13</td>\n",
       "      <td>(824471, 0.009186704246106236)</td>\n",
       "      <td>824471</td>\n",
       "    </tr>\n",
       "    <tr>\n",
       "      <th>0</th>\n",
       "      <td>13</td>\n",
       "      <td>(7415, 0.010058654315184712)</td>\n",
       "      <td>7415</td>\n",
       "    </tr>\n",
       "    <tr>\n",
       "      <th>0</th>\n",
       "      <td>13</td>\n",
       "      <td>(759423, 0.010820599504993589)</td>\n",
       "      <td>759423</td>\n",
       "    </tr>\n",
       "    <tr>\n",
       "      <th>0</th>\n",
       "      <td>13</td>\n",
       "      <td>(729658, 0.011360977702150832)</td>\n",
       "      <td>729658</td>\n",
       "    </tr>\n",
       "    <tr>\n",
       "      <th>0</th>\n",
       "      <td>13</td>\n",
       "      <td>(11852, 0.012155924188430256)</td>\n",
       "      <td>11852</td>\n",
       "    </tr>\n",
       "  </tbody>\n",
       "</table>\n",
       "</div>"
      ],
      "text/plain": [
       "   UserID                          detail   JobID\n",
       "0      13  (824471, 0.009186704246106236)  824471\n",
       "0      13    (7415, 0.010058654315184712)    7415\n",
       "0      13  (759423, 0.010820599504993589)  759423\n",
       "0      13  (729658, 0.011360977702150832)  729658\n",
       "0      13   (11852, 0.012155924188430256)   11852"
      ]
     },
     "execution_count": 157,
     "metadata": {},
     "output_type": "execute_result"
    }
   ],
   "source": [
    "knn_test_explode.head()"
   ]
  },
  {
   "cell_type": "code",
   "execution_count": 158,
   "id": "f8be30d5",
   "metadata": {},
   "outputs": [],
   "source": [
    "knn_test_explode['cosine_distance'] = knn_test_explode.apply(lambda x: x.detail[1], axis=1)"
   ]
  },
  {
   "cell_type": "code",
   "execution_count": 159,
   "id": "2ba6c438",
   "metadata": {},
   "outputs": [
    {
     "data": {
      "text/html": [
       "<div>\n",
       "<style scoped>\n",
       "    .dataframe tbody tr th:only-of-type {\n",
       "        vertical-align: middle;\n",
       "    }\n",
       "\n",
       "    .dataframe tbody tr th {\n",
       "        vertical-align: top;\n",
       "    }\n",
       "\n",
       "    .dataframe thead th {\n",
       "        text-align: right;\n",
       "    }\n",
       "</style>\n",
       "<table border=\"1\" class=\"dataframe\">\n",
       "  <thead>\n",
       "    <tr style=\"text-align: right;\">\n",
       "      <th></th>\n",
       "      <th>UserID</th>\n",
       "      <th>detail</th>\n",
       "      <th>JobID</th>\n",
       "      <th>cosine_distance</th>\n",
       "    </tr>\n",
       "  </thead>\n",
       "  <tbody>\n",
       "    <tr>\n",
       "      <th>0</th>\n",
       "      <td>13</td>\n",
       "      <td>(824471, 0.009186704246106236)</td>\n",
       "      <td>824471</td>\n",
       "      <td>0.009187</td>\n",
       "    </tr>\n",
       "    <tr>\n",
       "      <th>0</th>\n",
       "      <td>13</td>\n",
       "      <td>(7415, 0.010058654315184712)</td>\n",
       "      <td>7415</td>\n",
       "      <td>0.010059</td>\n",
       "    </tr>\n",
       "    <tr>\n",
       "      <th>0</th>\n",
       "      <td>13</td>\n",
       "      <td>(759423, 0.010820599504993589)</td>\n",
       "      <td>759423</td>\n",
       "      <td>0.010821</td>\n",
       "    </tr>\n",
       "    <tr>\n",
       "      <th>0</th>\n",
       "      <td>13</td>\n",
       "      <td>(729658, 0.011360977702150832)</td>\n",
       "      <td>729658</td>\n",
       "      <td>0.011361</td>\n",
       "    </tr>\n",
       "    <tr>\n",
       "      <th>0</th>\n",
       "      <td>13</td>\n",
       "      <td>(11852, 0.012155924188430256)</td>\n",
       "      <td>11852</td>\n",
       "      <td>0.012156</td>\n",
       "    </tr>\n",
       "  </tbody>\n",
       "</table>\n",
       "</div>"
      ],
      "text/plain": [
       "   UserID                          detail   JobID  cosine_distance\n",
       "0      13  (824471, 0.009186704246106236)  824471         0.009187\n",
       "0      13    (7415, 0.010058654315184712)    7415         0.010059\n",
       "0      13  (759423, 0.010820599504993589)  759423         0.010821\n",
       "0      13  (729658, 0.011360977702150832)  729658         0.011361\n",
       "0      13   (11852, 0.012155924188430256)   11852         0.012156"
      ]
     },
     "execution_count": 159,
     "metadata": {},
     "output_type": "execute_result"
    }
   ],
   "source": [
    "knn_test_explode.head()"
   ]
  },
  {
   "cell_type": "code",
   "execution_count": 160,
   "id": "efbb61a6",
   "metadata": {},
   "outputs": [
    {
     "data": {
      "text/plain": [
       "0        False\n",
       "0        False\n",
       "0        False\n",
       "0        False\n",
       "0        False\n",
       "         ...  \n",
       "15735    False\n",
       "15735    False\n",
       "15735    False\n",
       "15735    False\n",
       "15735    False\n",
       "Length: 1573600, dtype: bool"
      ]
     },
     "execution_count": 160,
     "metadata": {},
     "output_type": "execute_result"
    }
   ],
   "source": [
    "mask = knn_test_explode[['UserID','JobID','cosine_distance']].duplicated()\n",
    "mask"
   ]
  },
  {
   "cell_type": "code",
   "execution_count": 161,
   "id": "91a3d3d3",
   "metadata": {},
   "outputs": [],
   "source": [
    "# drop duplicate value\n",
    "knn_test_explode = knn_test_explode[mask==False]"
   ]
  },
  {
   "cell_type": "code",
   "execution_count": 162,
   "id": "5436caa7",
   "metadata": {},
   "outputs": [
    {
     "data": {
      "text/plain": [
       "1571951"
      ]
     },
     "execution_count": 162,
     "metadata": {},
     "output_type": "execute_result"
    }
   ],
   "source": [
    "len(knn_test_explode)"
   ]
  },
  {
   "cell_type": "code",
   "execution_count": 163,
   "id": "267baef1",
   "metadata": {},
   "outputs": [
    {
     "data": {
      "text/plain": [
       "0"
      ]
     },
     "execution_count": 163,
     "metadata": {},
     "output_type": "execute_result"
    }
   ],
   "source": [
    "knn_test_explode[['UserID','JobID','cosine_distance']].duplicated().sum()"
   ]
  },
  {
   "cell_type": "code",
   "execution_count": 167,
   "id": "6350ffc3",
   "metadata": {},
   "outputs": [],
   "source": [
    "# Sorted values\n",
    "knn_test_sort = knn_test_explode.groupby('UserID').apply(lambda x: x.sort_values('cosine_distance'))"
   ]
  },
  {
   "cell_type": "code",
   "execution_count": 168,
   "id": "f335a11d",
   "metadata": {},
   "outputs": [
    {
     "data": {
      "text/html": [
       "<div>\n",
       "<style scoped>\n",
       "    .dataframe tbody tr th:only-of-type {\n",
       "        vertical-align: middle;\n",
       "    }\n",
       "\n",
       "    .dataframe tbody tr th {\n",
       "        vertical-align: top;\n",
       "    }\n",
       "\n",
       "    .dataframe thead th {\n",
       "        text-align: right;\n",
       "    }\n",
       "</style>\n",
       "<table border=\"1\" class=\"dataframe\">\n",
       "  <thead>\n",
       "    <tr style=\"text-align: right;\">\n",
       "      <th></th>\n",
       "      <th></th>\n",
       "      <th>UserID</th>\n",
       "      <th>detail</th>\n",
       "      <th>JobID</th>\n",
       "      <th>cosine_distance</th>\n",
       "    </tr>\n",
       "    <tr>\n",
       "      <th>UserID</th>\n",
       "      <th></th>\n",
       "      <th></th>\n",
       "      <th></th>\n",
       "      <th></th>\n",
       "      <th></th>\n",
       "    </tr>\n",
       "  </thead>\n",
       "  <tbody>\n",
       "    <tr>\n",
       "      <th rowspan=\"5\" valign=\"top\">13</th>\n",
       "      <th>0</th>\n",
       "      <td>13</td>\n",
       "      <td>(824471, 0.009186704246106236)</td>\n",
       "      <td>824471</td>\n",
       "      <td>0.009187</td>\n",
       "    </tr>\n",
       "    <tr>\n",
       "      <th>0</th>\n",
       "      <td>13</td>\n",
       "      <td>(7415, 0.010058654315184712)</td>\n",
       "      <td>7415</td>\n",
       "      <td>0.010059</td>\n",
       "    </tr>\n",
       "    <tr>\n",
       "      <th>0</th>\n",
       "      <td>13</td>\n",
       "      <td>(759423, 0.010820599504993589)</td>\n",
       "      <td>759423</td>\n",
       "      <td>0.010821</td>\n",
       "    </tr>\n",
       "    <tr>\n",
       "      <th>0</th>\n",
       "      <td>13</td>\n",
       "      <td>(729658, 0.011360977702150832)</td>\n",
       "      <td>729658</td>\n",
       "      <td>0.011361</td>\n",
       "    </tr>\n",
       "    <tr>\n",
       "      <th>1</th>\n",
       "      <td>13</td>\n",
       "      <td>(976335, 0.011466280723388289)</td>\n",
       "      <td>976335</td>\n",
       "      <td>0.011466</td>\n",
       "    </tr>\n",
       "  </tbody>\n",
       "</table>\n",
       "</div>"
      ],
      "text/plain": [
       "          UserID                          detail   JobID  cosine_distance\n",
       "UserID                                                                   \n",
       "13     0      13  (824471, 0.009186704246106236)  824471         0.009187\n",
       "       0      13    (7415, 0.010058654315184712)    7415         0.010059\n",
       "       0      13  (759423, 0.010820599504993589)  759423         0.010821\n",
       "       0      13  (729658, 0.011360977702150832)  729658         0.011361\n",
       "       1      13  (976335, 0.011466280723388289)  976335         0.011466"
      ]
     },
     "execution_count": 168,
     "metadata": {},
     "output_type": "execute_result"
    }
   ],
   "source": [
    "knn_test_sort.head()"
   ]
  },
  {
   "cell_type": "code",
   "execution_count": 171,
   "id": "0cca3a26",
   "metadata": {},
   "outputs": [
    {
     "data": {
      "text/html": [
       "<div>\n",
       "<style scoped>\n",
       "    .dataframe tbody tr th:only-of-type {\n",
       "        vertical-align: middle;\n",
       "    }\n",
       "\n",
       "    .dataframe tbody tr th {\n",
       "        vertical-align: top;\n",
       "    }\n",
       "\n",
       "    .dataframe thead th {\n",
       "        text-align: right;\n",
       "    }\n",
       "</style>\n",
       "<table border=\"1\" class=\"dataframe\">\n",
       "  <thead>\n",
       "    <tr style=\"text-align: right;\">\n",
       "      <th></th>\n",
       "      <th></th>\n",
       "      <th>UserID</th>\n",
       "      <th>detail</th>\n",
       "      <th>JobID</th>\n",
       "      <th>cosine_distance</th>\n",
       "    </tr>\n",
       "    <tr>\n",
       "      <th>UserID</th>\n",
       "      <th></th>\n",
       "      <th></th>\n",
       "      <th></th>\n",
       "      <th></th>\n",
       "      <th></th>\n",
       "    </tr>\n",
       "  </thead>\n",
       "  <tbody>\n",
       "    <tr>\n",
       "      <th rowspan=\"11\" valign=\"top\">13</th>\n",
       "      <th>0</th>\n",
       "      <td>13</td>\n",
       "      <td>(824471, 0.009186704246106236)</td>\n",
       "      <td>824471</td>\n",
       "      <td>0.009187</td>\n",
       "    </tr>\n",
       "    <tr>\n",
       "      <th>0</th>\n",
       "      <td>13</td>\n",
       "      <td>(7415, 0.010058654315184712)</td>\n",
       "      <td>7415</td>\n",
       "      <td>0.010059</td>\n",
       "    </tr>\n",
       "    <tr>\n",
       "      <th>0</th>\n",
       "      <td>13</td>\n",
       "      <td>(759423, 0.010820599504993589)</td>\n",
       "      <td>759423</td>\n",
       "      <td>0.010821</td>\n",
       "    </tr>\n",
       "    <tr>\n",
       "      <th>0</th>\n",
       "      <td>13</td>\n",
       "      <td>(729658, 0.011360977702150832)</td>\n",
       "      <td>729658</td>\n",
       "      <td>0.011361</td>\n",
       "    </tr>\n",
       "    <tr>\n",
       "      <th>1</th>\n",
       "      <td>13</td>\n",
       "      <td>(976335, 0.011466280723388289)</td>\n",
       "      <td>976335</td>\n",
       "      <td>0.011466</td>\n",
       "    </tr>\n",
       "    <tr>\n",
       "      <th>...</th>\n",
       "      <td>...</td>\n",
       "      <td>...</td>\n",
       "      <td>...</td>\n",
       "      <td>...</td>\n",
       "    </tr>\n",
       "    <tr>\n",
       "      <th>1</th>\n",
       "      <td>13</td>\n",
       "      <td>(824471, 0.01577473865264667)</td>\n",
       "      <td>824471</td>\n",
       "      <td>0.015775</td>\n",
       "    </tr>\n",
       "    <tr>\n",
       "      <th>1</th>\n",
       "      <td>13</td>\n",
       "      <td>(367372, 0.015775473587694933)</td>\n",
       "      <td>367372</td>\n",
       "      <td>0.015775</td>\n",
       "    </tr>\n",
       "    <tr>\n",
       "      <th>0</th>\n",
       "      <td>13</td>\n",
       "      <td>(259223, 0.015800905716400027)</td>\n",
       "      <td>259223</td>\n",
       "      <td>0.015801</td>\n",
       "    </tr>\n",
       "    <tr>\n",
       "      <th>0</th>\n",
       "      <td>13</td>\n",
       "      <td>(218263, 0.015803079762136907)</td>\n",
       "      <td>218263</td>\n",
       "      <td>0.015803</td>\n",
       "    </tr>\n",
       "    <tr>\n",
       "      <th>0</th>\n",
       "      <td>13</td>\n",
       "      <td>(1066732, 0.015814540286445578)</td>\n",
       "      <td>1066732</td>\n",
       "      <td>0.015815</td>\n",
       "    </tr>\n",
       "  </tbody>\n",
       "</table>\n",
       "<p>100 rows × 4 columns</p>\n",
       "</div>"
      ],
      "text/plain": [
       "          UserID                           detail    JobID  cosine_distance\n",
       "UserID                                                                     \n",
       "13     0      13   (824471, 0.009186704246106236)   824471         0.009187\n",
       "       0      13     (7415, 0.010058654315184712)     7415         0.010059\n",
       "       0      13   (759423, 0.010820599504993589)   759423         0.010821\n",
       "       0      13   (729658, 0.011360977702150832)   729658         0.011361\n",
       "       1      13   (976335, 0.011466280723388289)   976335         0.011466\n",
       "...          ...                              ...      ...              ...\n",
       "       1      13    (824471, 0.01577473865264667)   824471         0.015775\n",
       "       1      13   (367372, 0.015775473587694933)   367372         0.015775\n",
       "       0      13   (259223, 0.015800905716400027)   259223         0.015801\n",
       "       0      13   (218263, 0.015803079762136907)   218263         0.015803\n",
       "       0      13  (1066732, 0.015814540286445578)  1066732         0.015815\n",
       "\n",
       "[100 rows x 4 columns]"
      ]
     },
     "execution_count": 171,
     "metadata": {},
     "output_type": "execute_result"
    }
   ],
   "source": [
    "knn_test_sort[knn_test_sort.UserID==13][:100]"
   ]
  },
  {
   "cell_type": "code",
   "execution_count": 174,
   "id": "42f7c7de",
   "metadata": {},
   "outputs": [
    {
     "data": {
      "text/plain": [
       "pandas.core.frame.DataFrame"
      ]
     },
     "execution_count": 174,
     "metadata": {},
     "output_type": "execute_result"
    }
   ],
   "source": [
    "type(knn_test_sort)"
   ]
  },
  {
   "cell_type": "code",
   "execution_count": 176,
   "id": "e5a96464",
   "metadata": {},
   "outputs": [],
   "source": [
    "knn_test = knn_test_sort.reset_index(drop=True)"
   ]
  },
  {
   "cell_type": "code",
   "execution_count": 177,
   "id": "9c8d1d35",
   "metadata": {},
   "outputs": [
    {
     "data": {
      "text/html": [
       "<div>\n",
       "<style scoped>\n",
       "    .dataframe tbody tr th:only-of-type {\n",
       "        vertical-align: middle;\n",
       "    }\n",
       "\n",
       "    .dataframe tbody tr th {\n",
       "        vertical-align: top;\n",
       "    }\n",
       "\n",
       "    .dataframe thead th {\n",
       "        text-align: right;\n",
       "    }\n",
       "</style>\n",
       "<table border=\"1\" class=\"dataframe\">\n",
       "  <thead>\n",
       "    <tr style=\"text-align: right;\">\n",
       "      <th></th>\n",
       "      <th>UserID</th>\n",
       "      <th>detail</th>\n",
       "      <th>JobID</th>\n",
       "      <th>cosine_distance</th>\n",
       "    </tr>\n",
       "  </thead>\n",
       "  <tbody>\n",
       "    <tr>\n",
       "      <th>0</th>\n",
       "      <td>13</td>\n",
       "      <td>(824471, 0.009186704246106236)</td>\n",
       "      <td>824471</td>\n",
       "      <td>0.009187</td>\n",
       "    </tr>\n",
       "    <tr>\n",
       "      <th>1</th>\n",
       "      <td>13</td>\n",
       "      <td>(7415, 0.010058654315184712)</td>\n",
       "      <td>7415</td>\n",
       "      <td>0.010059</td>\n",
       "    </tr>\n",
       "    <tr>\n",
       "      <th>2</th>\n",
       "      <td>13</td>\n",
       "      <td>(759423, 0.010820599504993589)</td>\n",
       "      <td>759423</td>\n",
       "      <td>0.010821</td>\n",
       "    </tr>\n",
       "    <tr>\n",
       "      <th>3</th>\n",
       "      <td>13</td>\n",
       "      <td>(729658, 0.011360977702150832)</td>\n",
       "      <td>729658</td>\n",
       "      <td>0.011361</td>\n",
       "    </tr>\n",
       "    <tr>\n",
       "      <th>4</th>\n",
       "      <td>13</td>\n",
       "      <td>(976335, 0.011466280723388289)</td>\n",
       "      <td>976335</td>\n",
       "      <td>0.011466</td>\n",
       "    </tr>\n",
       "    <tr>\n",
       "      <th>...</th>\n",
       "      <td>...</td>\n",
       "      <td>...</td>\n",
       "      <td>...</td>\n",
       "      <td>...</td>\n",
       "    </tr>\n",
       "    <tr>\n",
       "      <th>1571946</th>\n",
       "      <td>1471988</td>\n",
       "      <td>(1020168, 0.005910744151707115)</td>\n",
       "      <td>1020168</td>\n",
       "      <td>0.005911</td>\n",
       "    </tr>\n",
       "    <tr>\n",
       "      <th>1571947</th>\n",
       "      <td>1471988</td>\n",
       "      <td>(11217, 0.005917366221147358)</td>\n",
       "      <td>11217</td>\n",
       "      <td>0.005917</td>\n",
       "    </tr>\n",
       "    <tr>\n",
       "      <th>1571948</th>\n",
       "      <td>1471988</td>\n",
       "      <td>(461752, 0.005926877222813043)</td>\n",
       "      <td>461752</td>\n",
       "      <td>0.005927</td>\n",
       "    </tr>\n",
       "    <tr>\n",
       "      <th>1571949</th>\n",
       "      <td>1471988</td>\n",
       "      <td>(101103, 0.005928917855883786)</td>\n",
       "      <td>101103</td>\n",
       "      <td>0.005929</td>\n",
       "    </tr>\n",
       "    <tr>\n",
       "      <th>1571950</th>\n",
       "      <td>1471988</td>\n",
       "      <td>(606668, 0.005929202595391203)</td>\n",
       "      <td>606668</td>\n",
       "      <td>0.005929</td>\n",
       "    </tr>\n",
       "  </tbody>\n",
       "</table>\n",
       "<p>1571951 rows × 4 columns</p>\n",
       "</div>"
      ],
      "text/plain": [
       "          UserID                           detail    JobID  cosine_distance\n",
       "0             13   (824471, 0.009186704246106236)   824471         0.009187\n",
       "1             13     (7415, 0.010058654315184712)     7415         0.010059\n",
       "2             13   (759423, 0.010820599504993589)   759423         0.010821\n",
       "3             13   (729658, 0.011360977702150832)   729658         0.011361\n",
       "4             13   (976335, 0.011466280723388289)   976335         0.011466\n",
       "...          ...                              ...      ...              ...\n",
       "1571946  1471988  (1020168, 0.005910744151707115)  1020168         0.005911\n",
       "1571947  1471988    (11217, 0.005917366221147358)    11217         0.005917\n",
       "1571948  1471988   (461752, 0.005926877222813043)   461752         0.005927\n",
       "1571949  1471988   (101103, 0.005928917855883786)   101103         0.005929\n",
       "1571950  1471988   (606668, 0.005929202595391203)   606668         0.005929\n",
       "\n",
       "[1571951 rows x 4 columns]"
      ]
     },
     "execution_count": 177,
     "metadata": {},
     "output_type": "execute_result"
    }
   ],
   "source": [
    "knn_test"
   ]
  },
  {
   "cell_type": "markdown",
   "id": "5996fb38",
   "metadata": {},
   "source": [
    "## Build ranking data:"
   ]
  },
  {
   "cell_type": "code",
   "execution_count": 172,
   "id": "0af52476",
   "metadata": {},
   "outputs": [],
   "source": [
    "ranking_data = pd.DataFrame(columns = [\"UserID\",\"JobID\"])"
   ]
  },
  {
   "cell_type": "code",
   "execution_count": 179,
   "id": "0cbcc58e",
   "metadata": {},
   "outputs": [
    {
     "name": "stderr",
     "output_type": "stream",
     "text": [
      "100%|███████████████████████████████████| 3716/3716 [00:00<00:00, 7117.78it/s]\n"
     ]
    },
    {
     "name": "stdout",
     "output_type": "stream",
     "text": [
      "CPU times: user 749 ms, sys: 73.6 ms, total: 822 ms\n",
      "Wall time: 829 ms\n"
     ]
    }
   ],
   "source": [
    "%%time\n",
    "from tqdm import tqdm\n",
    "user_ids = []\n",
    "job_ids = []\n",
    "\n",
    "for idx, group in tqdm(knn_test.groupby('UserID')):\n",
    "    candidate_jobs = group.JobID.unique().tolist()\n",
    "    selected_jobs = candidate_jobs[:100]\n",
    "    job_ids.extend(selected_jobs)\n",
    "    user_ids.extend([idx] * 100)\n",
    "\n",
    "ranking_data.UserID = user_ids\n",
    "ranking_data.JobID = job_ids"
   ]
  },
  {
   "cell_type": "code",
   "execution_count": 180,
   "id": "db19063e",
   "metadata": {},
   "outputs": [
    {
     "data": {
      "text/html": [
       "<div>\n",
       "<style scoped>\n",
       "    .dataframe tbody tr th:only-of-type {\n",
       "        vertical-align: middle;\n",
       "    }\n",
       "\n",
       "    .dataframe tbody tr th {\n",
       "        vertical-align: top;\n",
       "    }\n",
       "\n",
       "    .dataframe thead th {\n",
       "        text-align: right;\n",
       "    }\n",
       "</style>\n",
       "<table border=\"1\" class=\"dataframe\">\n",
       "  <thead>\n",
       "    <tr style=\"text-align: right;\">\n",
       "      <th></th>\n",
       "      <th>UserID</th>\n",
       "      <th>JobID</th>\n",
       "    </tr>\n",
       "  </thead>\n",
       "  <tbody>\n",
       "    <tr>\n",
       "      <th>0</th>\n",
       "      <td>13</td>\n",
       "      <td>824471</td>\n",
       "    </tr>\n",
       "    <tr>\n",
       "      <th>1</th>\n",
       "      <td>13</td>\n",
       "      <td>7415</td>\n",
       "    </tr>\n",
       "    <tr>\n",
       "      <th>2</th>\n",
       "      <td>13</td>\n",
       "      <td>759423</td>\n",
       "    </tr>\n",
       "    <tr>\n",
       "      <th>3</th>\n",
       "      <td>13</td>\n",
       "      <td>729658</td>\n",
       "    </tr>\n",
       "    <tr>\n",
       "      <th>4</th>\n",
       "      <td>13</td>\n",
       "      <td>976335</td>\n",
       "    </tr>\n",
       "    <tr>\n",
       "      <th>...</th>\n",
       "      <td>...</td>\n",
       "      <td>...</td>\n",
       "    </tr>\n",
       "    <tr>\n",
       "      <th>371595</th>\n",
       "      <td>1471988</td>\n",
       "      <td>324597</td>\n",
       "    </tr>\n",
       "    <tr>\n",
       "      <th>371596</th>\n",
       "      <td>1471988</td>\n",
       "      <td>663219</td>\n",
       "    </tr>\n",
       "    <tr>\n",
       "      <th>371597</th>\n",
       "      <td>1471988</td>\n",
       "      <td>1046491</td>\n",
       "    </tr>\n",
       "    <tr>\n",
       "      <th>371598</th>\n",
       "      <td>1471988</td>\n",
       "      <td>226330</td>\n",
       "    </tr>\n",
       "    <tr>\n",
       "      <th>371599</th>\n",
       "      <td>1471988</td>\n",
       "      <td>487034</td>\n",
       "    </tr>\n",
       "  </tbody>\n",
       "</table>\n",
       "<p>371600 rows × 2 columns</p>\n",
       "</div>"
      ],
      "text/plain": [
       "         UserID    JobID\n",
       "0            13   824471\n",
       "1            13     7415\n",
       "2            13   759423\n",
       "3            13   729658\n",
       "4            13   976335\n",
       "...         ...      ...\n",
       "371595  1471988   324597\n",
       "371596  1471988   663219\n",
       "371597  1471988  1046491\n",
       "371598  1471988   226330\n",
       "371599  1471988   487034\n",
       "\n",
       "[371600 rows x 2 columns]"
      ]
     },
     "execution_count": 180,
     "metadata": {},
     "output_type": "execute_result"
    }
   ],
   "source": [
    "ranking_data"
   ]
  },
  {
   "cell_type": "markdown",
   "id": "2e2d7a6b",
   "metadata": {},
   "source": [
    "## Add 3 binary features for location matching"
   ]
  },
  {
   "cell_type": "code",
   "execution_count": 184,
   "id": "7fd18050",
   "metadata": {},
   "outputs": [],
   "source": [
    "# Load clean job data\n",
    "job_set = pd.read_csv(\"./data_processed/jobset_clean.csv\")\n",
    "# Load the dataset from Step 3\n",
    "user_set = pd.read_csv(\"./data_interim/user_set_cleaned.csv\")"
   ]
  },
  {
   "cell_type": "code",
   "execution_count": 185,
   "id": "b3b317a1",
   "metadata": {},
   "outputs": [],
   "source": [
    "def get_city_match(user_id, job_id):\n",
    "    user = user_set[user_set['UserID'] == user_id].iloc[0]\n",
    "    job = job_set[job_set['JobID'] == job_id].iloc[0]\n",
    "    return float(user['City'] == job['City'])"
   ]
  },
  {
   "cell_type": "code",
   "execution_count": 186,
   "id": "cf5a9f3d",
   "metadata": {},
   "outputs": [],
   "source": [
    "def get_state_match(user_id, job_id):\n",
    "    user = user_set[user_set['UserID'] == user_id].iloc[0]\n",
    "    job = job_set[job_set['JobID'] == job_id].iloc[0]\n",
    "    return float(user['State'] == job['State'])"
   ]
  },
  {
   "cell_type": "code",
   "execution_count": 187,
   "id": "af904e12",
   "metadata": {},
   "outputs": [],
   "source": [
    "def get_country_match(user_id, job_id):\n",
    "    user = user_set[user_set['UserID'] == user_id].iloc[0]\n",
    "    job = job_set[job_set['JobID'] == job_id].iloc[0]\n",
    "    return float(user['Country'] == job['Country'])"
   ]
  },
  {
   "cell_type": "code",
   "execution_count": 188,
   "id": "3d66e34a",
   "metadata": {},
   "outputs": [
    {
     "name": "stdout",
     "output_type": "stream",
     "text": [
      "CPU times: user 13min 4s, sys: 46.1 s, total: 13min 50s\n",
      "Wall time: 8min 34s\n"
     ]
    }
   ],
   "source": [
    "%%time\n",
    "ranking_data['City'] = ranking_data.apply(lambda x: get_city_match(x.UserID, x.JobID), axis=1)\n"
   ]
  },
  {
   "cell_type": "code",
   "execution_count": 189,
   "id": "89cafccf",
   "metadata": {},
   "outputs": [
    {
     "name": "stdout",
     "output_type": "stream",
     "text": [
      "CPU times: user 17min 10s, sys: 44.1 s, total: 17min 54s\n",
      "Wall time: 10min 3s\n"
     ]
    }
   ],
   "source": [
    "%%time\n",
    "ranking_data['State'] = ranking_data.apply(lambda x: get_state_match(x.UserID, x.JobID), axis=1)"
   ]
  },
  {
   "cell_type": "code",
   "execution_count": 190,
   "id": "66564f77",
   "metadata": {},
   "outputs": [
    {
     "name": "stdout",
     "output_type": "stream",
     "text": [
      "CPU times: user 16min 51s, sys: 43.2 s, total: 17min 34s\n",
      "Wall time: 9min 55s\n"
     ]
    }
   ],
   "source": [
    "%%time\n",
    "ranking_data['Country'] = ranking_data.apply(lambda x: get_country_match(x.UserID, x.JobID), axis=1)\n"
   ]
  },
  {
   "cell_type": "code",
   "execution_count": 191,
   "id": "5ca39d4c",
   "metadata": {},
   "outputs": [
    {
     "data": {
      "text/html": [
       "<div>\n",
       "<style scoped>\n",
       "    .dataframe tbody tr th:only-of-type {\n",
       "        vertical-align: middle;\n",
       "    }\n",
       "\n",
       "    .dataframe tbody tr th {\n",
       "        vertical-align: top;\n",
       "    }\n",
       "\n",
       "    .dataframe thead th {\n",
       "        text-align: right;\n",
       "    }\n",
       "</style>\n",
       "<table border=\"1\" class=\"dataframe\">\n",
       "  <thead>\n",
       "    <tr style=\"text-align: right;\">\n",
       "      <th></th>\n",
       "      <th>UserID</th>\n",
       "      <th>JobID</th>\n",
       "      <th>City</th>\n",
       "      <th>State</th>\n",
       "      <th>Country</th>\n",
       "    </tr>\n",
       "  </thead>\n",
       "  <tbody>\n",
       "    <tr>\n",
       "      <th>0</th>\n",
       "      <td>13</td>\n",
       "      <td>824471</td>\n",
       "      <td>0.0</td>\n",
       "      <td>0.0</td>\n",
       "      <td>1.0</td>\n",
       "    </tr>\n",
       "    <tr>\n",
       "      <th>1</th>\n",
       "      <td>13</td>\n",
       "      <td>7415</td>\n",
       "      <td>0.0</td>\n",
       "      <td>0.0</td>\n",
       "      <td>1.0</td>\n",
       "    </tr>\n",
       "    <tr>\n",
       "      <th>2</th>\n",
       "      <td>13</td>\n",
       "      <td>759423</td>\n",
       "      <td>0.0</td>\n",
       "      <td>0.0</td>\n",
       "      <td>1.0</td>\n",
       "    </tr>\n",
       "    <tr>\n",
       "      <th>3</th>\n",
       "      <td>13</td>\n",
       "      <td>729658</td>\n",
       "      <td>0.0</td>\n",
       "      <td>0.0</td>\n",
       "      <td>1.0</td>\n",
       "    </tr>\n",
       "    <tr>\n",
       "      <th>4</th>\n",
       "      <td>13</td>\n",
       "      <td>976335</td>\n",
       "      <td>0.0</td>\n",
       "      <td>0.0</td>\n",
       "      <td>1.0</td>\n",
       "    </tr>\n",
       "  </tbody>\n",
       "</table>\n",
       "</div>"
      ],
      "text/plain": [
       "   UserID   JobID  City  State  Country\n",
       "0      13  824471   0.0    0.0      1.0\n",
       "1      13    7415   0.0    0.0      1.0\n",
       "2      13  759423   0.0    0.0      1.0\n",
       "3      13  729658   0.0    0.0      1.0\n",
       "4      13  976335   0.0    0.0      1.0"
      ]
     },
     "execution_count": 191,
     "metadata": {},
     "output_type": "execute_result"
    }
   ],
   "source": [
    "ranking_data.head()"
   ]
  },
  {
   "cell_type": "code",
   "execution_count": 192,
   "id": "abd17820",
   "metadata": {},
   "outputs": [],
   "source": [
    "ranking_data.to_csv('./nb_recsys_tabular/ranking_data_knn_tfidf.csv', header=True, index=False)"
   ]
  },
  {
   "cell_type": "code",
   "execution_count": null,
   "id": "4ebe5c46",
   "metadata": {},
   "outputs": [],
   "source": []
  }
 ],
 "metadata": {
  "kernelspec": {
   "display_name": "Python 3 (ipykernel)",
   "language": "python",
   "name": "python3"
  },
  "language_info": {
   "codemirror_mode": {
    "name": "ipython",
    "version": 3
   },
   "file_extension": ".py",
   "mimetype": "text/x-python",
   "name": "python",
   "nbconvert_exporter": "python",
   "pygments_lexer": "ipython3",
   "version": "3.9.16"
  }
 },
 "nbformat": 4,
 "nbformat_minor": 5
}
