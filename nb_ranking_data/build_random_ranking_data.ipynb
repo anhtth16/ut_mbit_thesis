{
 "cells": [
  {
   "cell_type": "markdown",
   "id": "648b09fd",
   "metadata": {},
   "source": [
    "# Generate potential application - TopN recommendation\n",
    "## Random sampling with controlled positive labels\n",
    "\n",
    "Generate rankning dataset for topN recommendation.\n",
    "\n",
    "- INPUT:\n",
    "    - user_set_cleaned.csv: warm users with work history\n",
    "    - work_history_cleaned.csv: work history of warm users\n",
    "    - dataset_cleaned.csv: warm application for user with work history, already include negative label\n",
    "    - jobset_clean.csv: clean job dataset\n",
    "    - tfidf_matrix: TF-IDF transformation matrix on jobs info (title + description + requirement)\n",
    "    - word_history_tf_matrix: TF-IDF transformation matrix on work historu (all jobs title linked to a user)\n",
    "- OUTPUT: ranking_data_random.csv\n",
    "- SUMMARY:\n",
    "    - Filter test_user and test application\n",
    "    - For each test user, make sample of 99 jobs from the candidate jobs (candidate jobs = all jobs - applied jobs)\n",
    "    - 100 labels correspond to a users = 1 (for the first application), 0 for the remaining 99 application\n",
    "    - Check matching in City, State, Country for new pair of (UserID, JobID)\n"
   ]
  },
  {
   "cell_type": "code",
   "execution_count": 1,
   "id": "0a90bd92",
   "metadata": {},
   "outputs": [],
   "source": [
    "import caffeine\n",
    "caffeine.on(display=False)"
   ]
  },
  {
   "cell_type": "code",
   "execution_count": 2,
   "id": "ee568e73",
   "metadata": {},
   "outputs": [],
   "source": [
    "import pandas as pd\n",
    "import numpy as np\n",
    "from sklearn.feature_extraction.text import TfidfVectorizer\n",
    "from tqdm import tqdm\n",
    "import random\n",
    "import warnings\n",
    "warnings.filterwarnings(\"ignore\")\n",
    "\n",
    "from sklearn.linear_model import LogisticRegression, LinearRegression\n",
    "from sklearn.metrics import accuracy_score, roc_auc_score, recall_score, precision_score, f1_score, classification_report\n",
    "from sklearn.tree import DecisionTreeClassifier\n",
    "from sklearn.ensemble import RandomForestClassifier, AdaBoostClassifier, GradientBoostingClassifier\n",
    "from sklearn.naive_bayes import GaussianNB"
   ]
  },
  {
   "cell_type": "code",
   "execution_count": 3,
   "id": "469be687",
   "metadata": {},
   "outputs": [],
   "source": [
    "# Load pre-processed data\n",
    "path = \"./data_interim/\"\n",
    "user_set = pd.read_csv(path + \"user_set_cleaned.csv\")\n",
    "work_history = pd.read_csv(path + \"work_history_cleaned.csv\")\n",
    "dataset = pd.read_csv(path + \"dataset_cleaned.csv\")\n",
    "# Load clean job set\n",
    "job_set = pd.read_csv(\"./data_processed/jobset_clean.csv\")"
   ]
  },
  {
   "cell_type": "code",
   "execution_count": 4,
   "id": "673a5686",
   "metadata": {},
   "outputs": [],
   "source": [
    "# Load TF-IDF matrix for jobs and user work history\n",
    "from scipy import sparse \n",
    "tfidf_matrix = sparse.load_npz(\"./data_interim_tfidf/tfidf_matrix.npz\")\n",
    "word_history_tf_matrix = sparse.load_npz(\"./data_interim_tfidf/work_history_tf_matrix.npz\")"
   ]
  },
  {
   "cell_type": "code",
   "execution_count": 5,
   "id": "ebb4a569",
   "metadata": {},
   "outputs": [],
   "source": [
    "test_user = user_set[user_set.Split==\"Test\"].UserID.values\n",
    "test_data = dataset[dataset.UserID.isin(test_user)]"
   ]
  },
  {
   "cell_type": "code",
   "execution_count": 6,
   "id": "62729f62",
   "metadata": {},
   "outputs": [
    {
     "name": "stdout",
     "output_type": "stream",
     "text": [
      "<class 'pandas.core.frame.DataFrame'>\n",
      "Int64Index: 15736 entries, 10 to 579588\n",
      "Data columns (total 6 columns):\n",
      " #   Column   Non-Null Count  Dtype  \n",
      "---  ------   --------------  -----  \n",
      " 0   UserID   15736 non-null  int64  \n",
      " 1   JobID    15736 non-null  int64  \n",
      " 2   label    15736 non-null  int64  \n",
      " 3   City     15736 non-null  float64\n",
      " 4   State    15736 non-null  float64\n",
      " 5   Country  15736 non-null  float64\n",
      "dtypes: float64(3), int64(3)\n",
      "memory usage: 860.6 KB\n"
     ]
    }
   ],
   "source": [
    "test_data.info()"
   ]
  },
  {
   "cell_type": "markdown",
   "id": "370e11bc",
   "metadata": {},
   "source": [
    "## Build ranking data (small sample)"
   ]
  },
  {
   "cell_type": "code",
   "execution_count": 7,
   "id": "8ff4c3e6",
   "metadata": {},
   "outputs": [
    {
     "name": "stderr",
     "output_type": "stream",
     "text": [
      "\r\n",
      "  0%|                                                  | 0/3716 [00:00<?, ?it/s]"
     ]
    },
    {
     "name": "stdout",
     "output_type": "stream",
     "text": [
      "idx:  13\n",
      "len exist_job: 2\n"
     ]
    },
    {
     "name": "stderr",
     "output_type": "stream",
     "text": [
      "\r\n",
      "  0%|                                                  | 0/3716 [00:00<?, ?it/s]"
     ]
    },
    {
     "name": "stdout",
     "output_type": "stream",
     "text": [
      "len candidate_job:  1050507\n",
      "sample jobs: [538198, 188887, 269366, 503546, 706871, 599583, 97518, 445865, 602750, 611030, 541032, 239576, 620728, 499240, 859661, 116193, 380294, 957775, 297381, 703892, 676133, 559529, 93648, 261474, 77292, 424033, 372177, 561015, 845711, 652902, 407727, 287059, 276417, 496881, 923779, 56013, 248283, 148292, 1020092, 449744, 804577, 190409, 92500, 236767, 576059, 642683, 221235, 604633, 276662, 860944, 16178, 520065, 580008, 484107, 821652, 153227, 933571, 480608, 927216, 654672, 140574, 104922, 299589, 489134, 415044, 544743, 546796, 305238, 895090, 874802, 842997, 815709, 12197, 755301, 248001, 953132, 300156, 469865, 945160, 747794, 394702, 456585, 353794, 899928, 350407, 326109, 321515, 818146, 3230, 169367, 658571, 204541, 956914, 629017, 42365, 220686, 363792, 162346, 926456]\n",
      "Sample result:\n",
      "user_ids:  [13, 13, 13, 13, 13, 13, 13, 13, 13, 13, 13, 13, 13, 13, 13, 13, 13, 13, 13, 13, 13, 13, 13, 13, 13, 13, 13, 13, 13, 13, 13, 13, 13, 13, 13, 13, 13, 13, 13, 13, 13, 13, 13, 13, 13, 13, 13, 13, 13, 13, 13, 13, 13, 13, 13, 13, 13, 13, 13, 13, 13, 13, 13, 13, 13, 13, 13, 13, 13, 13, 13, 13, 13, 13, 13, 13, 13, 13, 13, 13, 13, 13, 13, 13, 13, 13, 13, 13, 13, 13, 13, 13, 13, 13, 13, 13, 13, 13, 13, 13]\n",
      "job_ids:  [821691, 1110646, 804323, 59598, 823345, 218740, 484008, 413241, 343676, 509828, 575251, 15174, 1022118, 650117, 787870, 379051, 495263, 926990, 210202, 281207, 192882, 1093200, 163960, 398100, 1115363, 327568, 168449, 867790, 175840, 246013, 907314, 29323, 197094, 116633, 768563, 996807, 240281, 1059708, 629887, 819401, 378185, 993015, 811822, 393675, 1009973, 295462, 825152, 942404, 522308, 117130, 391350, 65521, 961412, 326401, 660512, 15070, 649011, 1093585, 630629, 1029600, 921512, 600960, 448792, 296770, 705945, 94026, 45031, 61302, 336512, 727437, 525090, 219472, 1082654, 47020, 604605, 1058518, 163742, 300987, 544277, 84681, 543818, 1042251, 432579, 718351, 764934, 697243, 503474, 468341, 1101649, 13666, 714165, 950959, 875700, 203774, 722784, 178686, 939218, 799566, 690846, 1021682]\n",
      "label:  [1, 0, 0, 0, 0, 0, 0, 0, 0, 0, 0, 0, 0, 0, 0, 0, 0, 0, 0, 0, 0, 0, 0, 0, 0, 0, 0, 0, 0, 0, 0, 0, 0, 0, 0, 0, 0, 0, 0, 0, 0, 0, 0, 0, 0, 0, 0, 0, 0, 0, 0, 0, 0, 0, 0, 0, 0, 0, 0, 0, 0, 0, 0, 0, 0, 0, 0, 0, 0, 0, 0, 0, 0, 0, 0, 0, 0, 0, 0, 0, 0, 0, 0, 0, 0, 0, 0, 0, 0, 0, 0, 0, 0, 0, 0, 0, 0, 0, 0, 0]\n",
      "City: [0.0]\n",
      "State: [1.0]\n",
      "Sample jobs details:  99\n",
      "Check matching City and State:\n",
      "City final: [0.0, 0, 0, 0, 0, 0, 0, 0, 0, 0, 0, 0, 0, 0, 0, 0, 0, 0, 0, 0, 0, 0, 0, 0, 0, 0, 0, 0, 0, 0, 0, 0, 0, 0, 0, 0, 0, 0, 0, 0, 0, 0, 0, 0, 0, 0, 0, 0, 0, 0, 0, 0, 0, 0, 0, 0, 0, 0, 0, 0, 0, 0, 0, 0, 0, 0, 0, 0, 0, 0, 0, 0, 0, 0, 0, 0, 0, 0, 0, 0, 0, 0, 0, 0, 0, 0, 0, 0, 0, 0, 0, 0, 0, 0, 0, 0, 0, 0, 0, 0]\n",
      "State final: [1.0, 0, 0, 0, 0, 0, 0, 0, 0, 0, 0, 0, 0, 0, 0, 0, 0, 0, 0, 0, 0, 0, 0, 0, 0, 0, 0, 0, 0, 0, 0, 0, 0, 0, 0, 0, 0, 0, 0, 0, 0, 0, 0, 0, 0, 0, 0, 0, 0, 0, 0, 0, 0, 0, 0, 0, 0, 0, 0, 0, 0, 0, 0, 0, 0, 0, 0, 0, 0, 0, 0, 0, 0, 0, 0, 0, 0, 0, 0, 0, 0, 0, 0, 0, 0, 0, 0, 0, 0, 0, 0, 0, 0, 0, 0, 0, 0, 0, 0, 0]\n"
     ]
    },
    {
     "name": "stderr",
     "output_type": "stream",
     "text": [
      "\n"
     ]
    }
   ],
   "source": [
    "# Try on small sample\n",
    "ranking_data_small = pd.DataFrame(columns = [\"UserID\",\"JobID\",\"label\", \"City\", \"State\"])\n",
    "job_id = job_set.JobID.unique().tolist()\n",
    "groups = test_data.groupby(\"UserID\")\n",
    "user_ids = []\n",
    "job_ids = []\n",
    "labels = []\n",
    "City = []\n",
    "State = []\n",
    "Country = []\n",
    "\n",
    "for idx, group in tqdm(groups):\n",
    "    size = 99\n",
    "    print('idx: ', idx)\n",
    "    exist_job = group.JobID.unique().tolist()\n",
    "    print('len exist_job:', len(exist_job))\n",
    "    \n",
    "    # Candidate jobs: existing jobs - applied jobs by user\n",
    "    candidate_job = [i for i in job_id if i not in exist_job ]\n",
    "    print('len candidate_job: ', len(candidate_job))\n",
    "    \n",
    "    # Create sample job include 99 randomly draw from the candidate job\n",
    "    sample_job = random.sample(range(0,len(candidate_job)),size)\n",
    "    print('sample jobs:', sample_job)\n",
    "    \n",
    "    user_ids.extend([idx] * (size+1)) # extend user_ids by the size of sample job + 1 => 100 users\n",
    "    \n",
    "    # in the job ID list: the first job ID is existing job, 99 remaining job ids is random sample jobs\n",
    "    job_ids.append(exist_job[0]) # \n",
    "    job_ids.extend([candidate_job[i] for i in sample_job])\n",
    "    \n",
    "    # Label list: the first one is 1 (as it is existing application), remaining 99 label is 0\n",
    "    labels.append(1)\n",
    "    labels.extend([0] * (size))\n",
    "    \n",
    "    print('Sample result:')\n",
    "    print('user_ids: ', user_ids)\n",
    "    print('job_ids: ', job_ids)\n",
    "    print('label: ', labels)\n",
    "    \n",
    "    City.append(group.City.values[0])\n",
    "    State.append(group.State.values[0])\n",
    "    Country.append(group.Country.values[0])\n",
    "    \n",
    "    print('City:', City)\n",
    "    print('State:', State)\n",
    "    \n",
    "    jobs = job_set[job_set.JobID.isin([candidate_job[i] for i in sample_job])]\n",
    "    print('Sample jobs details: ', len(jobs))\n",
    "    \n",
    "    print('Check matching City and State:')\n",
    "    City.extend([0 if i!=group.City.values[0] else a for i in jobs.City.values.tolist()])\n",
    "    State.extend([0 if i!=group.State.values[0] else a for i in jobs.State.values.tolist()])\n",
    "    Country.extend([0 if i!=group.State.values[0] else a for i in jobs.Country.values.tolist()])\n",
    "    print('City final:', City)\n",
    "    print('State final:', State)\n",
    "    \n",
    "    if len(user_ids) >= 20:\n",
    "        break\n"
   ]
  },
  {
   "cell_type": "code",
   "execution_count": 8,
   "id": "bc51fe2f",
   "metadata": {},
   "outputs": [
    {
     "data": {
      "text/html": [
       "<div>\n",
       "<style scoped>\n",
       "    .dataframe tbody tr th:only-of-type {\n",
       "        vertical-align: middle;\n",
       "    }\n",
       "\n",
       "    .dataframe tbody tr th {\n",
       "        vertical-align: top;\n",
       "    }\n",
       "\n",
       "    .dataframe thead th {\n",
       "        text-align: right;\n",
       "    }\n",
       "</style>\n",
       "<table border=\"1\" class=\"dataframe\">\n",
       "  <thead>\n",
       "    <tr style=\"text-align: right;\">\n",
       "      <th></th>\n",
       "      <th>UserID</th>\n",
       "      <th>JobID</th>\n",
       "      <th>label</th>\n",
       "      <th>City</th>\n",
       "      <th>State</th>\n",
       "    </tr>\n",
       "  </thead>\n",
       "  <tbody>\n",
       "    <tr>\n",
       "      <th>0</th>\n",
       "      <td>13</td>\n",
       "      <td>821691</td>\n",
       "      <td>1</td>\n",
       "      <td>0.0</td>\n",
       "      <td>1.0</td>\n",
       "    </tr>\n",
       "    <tr>\n",
       "      <th>1</th>\n",
       "      <td>13</td>\n",
       "      <td>1110646</td>\n",
       "      <td>0</td>\n",
       "      <td>0.0</td>\n",
       "      <td>0.0</td>\n",
       "    </tr>\n",
       "    <tr>\n",
       "      <th>2</th>\n",
       "      <td>13</td>\n",
       "      <td>804323</td>\n",
       "      <td>0</td>\n",
       "      <td>0.0</td>\n",
       "      <td>0.0</td>\n",
       "    </tr>\n",
       "    <tr>\n",
       "      <th>3</th>\n",
       "      <td>13</td>\n",
       "      <td>59598</td>\n",
       "      <td>0</td>\n",
       "      <td>0.0</td>\n",
       "      <td>0.0</td>\n",
       "    </tr>\n",
       "    <tr>\n",
       "      <th>4</th>\n",
       "      <td>13</td>\n",
       "      <td>823345</td>\n",
       "      <td>0</td>\n",
       "      <td>0.0</td>\n",
       "      <td>0.0</td>\n",
       "    </tr>\n",
       "    <tr>\n",
       "      <th>...</th>\n",
       "      <td>...</td>\n",
       "      <td>...</td>\n",
       "      <td>...</td>\n",
       "      <td>...</td>\n",
       "      <td>...</td>\n",
       "    </tr>\n",
       "    <tr>\n",
       "      <th>95</th>\n",
       "      <td>13</td>\n",
       "      <td>178686</td>\n",
       "      <td>0</td>\n",
       "      <td>0.0</td>\n",
       "      <td>0.0</td>\n",
       "    </tr>\n",
       "    <tr>\n",
       "      <th>96</th>\n",
       "      <td>13</td>\n",
       "      <td>939218</td>\n",
       "      <td>0</td>\n",
       "      <td>0.0</td>\n",
       "      <td>0.0</td>\n",
       "    </tr>\n",
       "    <tr>\n",
       "      <th>97</th>\n",
       "      <td>13</td>\n",
       "      <td>799566</td>\n",
       "      <td>0</td>\n",
       "      <td>0.0</td>\n",
       "      <td>0.0</td>\n",
       "    </tr>\n",
       "    <tr>\n",
       "      <th>98</th>\n",
       "      <td>13</td>\n",
       "      <td>690846</td>\n",
       "      <td>0</td>\n",
       "      <td>0.0</td>\n",
       "      <td>0.0</td>\n",
       "    </tr>\n",
       "    <tr>\n",
       "      <th>99</th>\n",
       "      <td>13</td>\n",
       "      <td>1021682</td>\n",
       "      <td>0</td>\n",
       "      <td>0.0</td>\n",
       "      <td>0.0</td>\n",
       "    </tr>\n",
       "  </tbody>\n",
       "</table>\n",
       "<p>100 rows × 5 columns</p>\n",
       "</div>"
      ],
      "text/plain": [
       "    UserID    JobID  label  City  State\n",
       "0       13   821691      1   0.0    1.0\n",
       "1       13  1110646      0   0.0    0.0\n",
       "2       13   804323      0   0.0    0.0\n",
       "3       13    59598      0   0.0    0.0\n",
       "4       13   823345      0   0.0    0.0\n",
       "..     ...      ...    ...   ...    ...\n",
       "95      13   178686      0   0.0    0.0\n",
       "96      13   939218      0   0.0    0.0\n",
       "97      13   799566      0   0.0    0.0\n",
       "98      13   690846      0   0.0    0.0\n",
       "99      13  1021682      0   0.0    0.0\n",
       "\n",
       "[100 rows x 5 columns]"
      ]
     },
     "execution_count": 8,
     "metadata": {},
     "output_type": "execute_result"
    }
   ],
   "source": [
    "ranking_data_small.UserID = user_ids\n",
    "ranking_data_small.JobID = job_ids\n",
    "ranking_data_small.label = labels\n",
    "ranking_data_small.City = City\n",
    "ranking_data_small.State = State\n",
    "ranking_data_small.Country = Country\n",
    "ranking_data_small\n",
    "# ranking_data.to_csv(\"ranking_data.csv\",index=False)"
   ]
  },
  {
   "cell_type": "markdown",
   "id": "12483bd1",
   "metadata": {},
   "source": [
    "## Build ranking dataset on the whole test users"
   ]
  },
  {
   "cell_type": "code",
   "execution_count": 9,
   "id": "d06a6b72",
   "metadata": {},
   "outputs": [
    {
     "name": "stderr",
     "output_type": "stream",
     "text": [
      "100%|███████████████████████████████████████| 3716/3716 [07:25<00:00,  8.33it/s]\n"
     ]
    },
    {
     "name": "stdout",
     "output_type": "stream",
     "text": [
      "CPU times: user 7min 5s, sys: 21.4 s, total: 7min 26s\n",
      "Wall time: 7min 26s\n"
     ]
    }
   ],
   "source": [
    "%%time\n",
    "ranking_data = pd.DataFrame(columns = [\"UserID\",\"JobID\",\"label\", \"City\", \"State\", \"Country\"])\n",
    "job_id = job_set.JobID.unique().tolist()\n",
    "groups = test_data.groupby(\"UserID\")\n",
    "user_ids = []\n",
    "job_ids = []\n",
    "labels = []\n",
    "City = []\n",
    "State = []\n",
    "Country = []\n",
    "for idx, group in tqdm(groups):\n",
    "    size = 99\n",
    "    exist_job = group.JobID.unique().tolist()\n",
    "    candidate_job = [i for i in job_id if i not in exist_job ]\n",
    "    sample_job = random.sample(range(0,len(candidate_job)),size)\n",
    "    user_ids.extend([idx] * (size+1))\n",
    "    job_ids.append(exist_job[0])\n",
    "    job_ids.extend([candidate_job[i] for i in sample_job])\n",
    "    labels.append(1)\n",
    "    labels.extend([0] * (size))\n",
    "    City.append(group.City.values[0])\n",
    "    State.append(group.State.values[0])\n",
    "    Country.append(group.State.values[0])\n",
    "    jobs = job_set[job_set.JobID.isin([candidate_job[i] for i in sample_job])]\n",
    "    \n",
    "    City.extend([0 if i!=group.City.values[0] else a for i in jobs.City.values.tolist()])\n",
    "    State.extend([0 if i!=group.State.values[0] else a for i in jobs.State.values.tolist()])\n",
    "    Country.extend([0 if i!=group.State.values[0] else a for i in jobs.Country.values.tolist()])\n",
    "    \n",
    "ranking_data.UserID = user_ids\n",
    "ranking_data.JobID = job_ids\n",
    "ranking_data.label = labels\n",
    "ranking_data.City = City\n",
    "ranking_data.State = State\n",
    "ranking_data.Country = Country\n",
    "# ranking_data.to_csv(\"ranking_data.csv\",index=False)"
   ]
  },
  {
   "cell_type": "code",
   "execution_count": 10,
   "id": "9535adaa",
   "metadata": {},
   "outputs": [
    {
     "name": "stdout",
     "output_type": "stream",
     "text": [
      "<class 'pandas.core.frame.DataFrame'>\n",
      "RangeIndex: 371600 entries, 0 to 371599\n",
      "Data columns (total 6 columns):\n",
      " #   Column   Non-Null Count   Dtype  \n",
      "---  ------   --------------   -----  \n",
      " 0   UserID   371600 non-null  int64  \n",
      " 1   JobID    371600 non-null  int64  \n",
      " 2   label    371600 non-null  int64  \n",
      " 3   City     371600 non-null  float64\n",
      " 4   State    371600 non-null  float64\n",
      " 5   Country  371600 non-null  float64\n",
      "dtypes: float64(3), int64(3)\n",
      "memory usage: 17.0 MB\n"
     ]
    }
   ],
   "source": [
    "ranking_data.info()"
   ]
  },
  {
   "cell_type": "code",
   "execution_count": 11,
   "id": "2e995722",
   "metadata": {},
   "outputs": [
    {
     "data": {
      "text/html": [
       "<div>\n",
       "<style scoped>\n",
       "    .dataframe tbody tr th:only-of-type {\n",
       "        vertical-align: middle;\n",
       "    }\n",
       "\n",
       "    .dataframe tbody tr th {\n",
       "        vertical-align: top;\n",
       "    }\n",
       "\n",
       "    .dataframe thead th {\n",
       "        text-align: right;\n",
       "    }\n",
       "</style>\n",
       "<table border=\"1\" class=\"dataframe\">\n",
       "  <thead>\n",
       "    <tr style=\"text-align: right;\">\n",
       "      <th></th>\n",
       "      <th>UserID</th>\n",
       "      <th>JobID</th>\n",
       "      <th>label</th>\n",
       "      <th>City</th>\n",
       "      <th>State</th>\n",
       "      <th>Country</th>\n",
       "    </tr>\n",
       "  </thead>\n",
       "  <tbody>\n",
       "    <tr>\n",
       "      <th>0</th>\n",
       "      <td>13</td>\n",
       "      <td>821691</td>\n",
       "      <td>1</td>\n",
       "      <td>0.0</td>\n",
       "      <td>1.0</td>\n",
       "      <td>1.0</td>\n",
       "    </tr>\n",
       "    <tr>\n",
       "      <th>1</th>\n",
       "      <td>13</td>\n",
       "      <td>701157</td>\n",
       "      <td>0</td>\n",
       "      <td>0.0</td>\n",
       "      <td>0.0</td>\n",
       "      <td>0.0</td>\n",
       "    </tr>\n",
       "    <tr>\n",
       "      <th>2</th>\n",
       "      <td>13</td>\n",
       "      <td>472398</td>\n",
       "      <td>0</td>\n",
       "      <td>0.0</td>\n",
       "      <td>0.0</td>\n",
       "      <td>0.0</td>\n",
       "    </tr>\n",
       "    <tr>\n",
       "      <th>3</th>\n",
       "      <td>13</td>\n",
       "      <td>411244</td>\n",
       "      <td>0</td>\n",
       "      <td>0.0</td>\n",
       "      <td>0.0</td>\n",
       "      <td>0.0</td>\n",
       "    </tr>\n",
       "    <tr>\n",
       "      <th>4</th>\n",
       "      <td>13</td>\n",
       "      <td>868940</td>\n",
       "      <td>0</td>\n",
       "      <td>0.0</td>\n",
       "      <td>0.0</td>\n",
       "      <td>0.0</td>\n",
       "    </tr>\n",
       "  </tbody>\n",
       "</table>\n",
       "</div>"
      ],
      "text/plain": [
       "   UserID   JobID  label  City  State  Country\n",
       "0      13  821691      1   0.0    1.0      1.0\n",
       "1      13  701157      0   0.0    0.0      0.0\n",
       "2      13  472398      0   0.0    0.0      0.0\n",
       "3      13  411244      0   0.0    0.0      0.0\n",
       "4      13  868940      0   0.0    0.0      0.0"
      ]
     },
     "execution_count": 11,
     "metadata": {},
     "output_type": "execute_result"
    }
   ],
   "source": [
    "ranking_data.head()"
   ]
  },
  {
   "cell_type": "code",
   "execution_count": 12,
   "id": "6f4e7e14",
   "metadata": {},
   "outputs": [],
   "source": [
    "ranking_data.to_csv(\"./nb_ranking_data/ranking_data_random.csv\",index=False, header=True)"
   ]
  }
 ],
 "metadata": {
  "kernelspec": {
   "display_name": "Python 3 (ipykernel)",
   "language": "python",
   "name": "python3"
  },
  "language_info": {
   "codemirror_mode": {
    "name": "ipython",
    "version": 3
   },
   "file_extension": ".py",
   "mimetype": "text/x-python",
   "name": "python",
   "nbconvert_exporter": "python",
   "pygments_lexer": "ipython3",
   "version": "3.9.16"
  }
 },
 "nbformat": 4,
 "nbformat_minor": 5
}
