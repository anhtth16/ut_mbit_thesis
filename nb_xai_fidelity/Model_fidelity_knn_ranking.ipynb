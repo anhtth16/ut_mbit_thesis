{
 "cells": [
  {
   "cell_type": "markdown",
   "id": "c97e978b-0cd6-4d95-a071-9057bfe7cf5e",
   "metadata": {},
   "source": [
    "# Model fidelity\n",
    "## Ranking data: knn_ranking_v2\n",
    "Compare rec result of black-box vs explainable: EBM/ DPEBM vs FM models "
   ]
  },
  {
   "cell_type": "code",
   "execution_count": 1,
   "id": "7a039648-1a47-4d90-8df6-428d37a95cce",
   "metadata": {},
   "outputs": [],
   "source": [
    "import numpy as np\n",
    "import pandas as pd"
   ]
  },
  {
   "cell_type": "code",
   "execution_count": 2,
   "id": "8c508fb1-0892-44c9-8a37-2a7f5f365d6c",
   "metadata": {},
   "outputs": [],
   "source": [
    "import warnings\n",
    "warnings.filterwarnings('ignore')"
   ]
  },
  {
   "cell_type": "code",
   "execution_count": 3,
   "id": "5a98b07e-c3bf-476c-909a-8ff58152d499",
   "metadata": {},
   "outputs": [
    {
     "name": "stdout",
     "output_type": "stream",
     "text": [
      "Working directory: /home/jovyan/1_UT THESIS/CB12_MAIN/model_fidelity\n"
     ]
    }
   ],
   "source": [
    "# Run this for reproduce\n",
    "# Gets the current working directory\n",
    "import os\n",
    "cwd = os.getcwd()\n",
    "print(\"Working directory:\", cwd)\n",
    "# Go up one directory from working directory\n",
    "os.chdir(\"..\")"
   ]
  },
  {
   "cell_type": "markdown",
   "id": "269d3fc4-64dc-4cf8-bfd5-4e0d1cf6f7b4",
   "metadata": {},
   "source": [
    "# Load black-box rec result"
   ]
  },
  {
   "cell_type": "code",
   "execution_count": 4,
   "id": "6cd315d5-3572-4b8a-b87b-dae24df3db0a",
   "metadata": {},
   "outputs": [],
   "source": [
    "rec20_logreg = pd.read_csv('./output_topN_tabular/rec_result_logreg_ranking_v2.csv')\n",
    "rec20_dt = pd.read_csv('./output_topN_tabular/rec_result_dt_ranking_v2.csv')\n",
    "rec20_xgbt = pd.read_csv('./output_topN_tabular/rec_result_xgbt_ranking_v2.csv')\n",
    "rec20_nb = pd.read_csv('./output_topN_tabular/rec_result_nb_ranking_v2.csv')\n",
    "rec20_ada = pd.read_csv('./output_topN_tabular/rec_result_ada_ranking_v2.csv')\n",
    "rec20_lda = pd.read_csv('./output_topN_tabular/rec_result_lda_ranking_v2.csv')"
   ]
  },
  {
   "cell_type": "code",
   "execution_count": 5,
   "id": "1eaf53f7-f076-4ad1-b8be-bb7ae0bbd178",
   "metadata": {},
   "outputs": [],
   "source": [
    "rec20_qda = pd.read_csv('./output_topN_tabular/rec_result_qda_ranking_v2.csv')"
   ]
  },
  {
   "cell_type": "code",
   "execution_count": 6,
   "id": "13891125-8253-42cf-8760-50c450ab1f90",
   "metadata": {},
   "outputs": [],
   "source": [
    "evaluation_knn_tfidf = pd.read_csv('./nb_recsys_tabular/evaluation_knn_tfidf_v2.csv')"
   ]
  },
  {
   "cell_type": "markdown",
   "id": "ec4b3d8a-8b54-4e2a-8784-6638a19e9e69",
   "metadata": {},
   "source": [
    "# Load EBM rec result"
   ]
  },
  {
   "cell_type": "code",
   "execution_count": 7,
   "id": "35ee43f4-9599-4471-b165-1e629239d578",
   "metadata": {},
   "outputs": [],
   "source": [
    "rec20_ebm_location = pd.read_csv('./output_topN_ebm/rec_result_location_v2.csv')\n",
    "rec20_ebm_extended = pd.read_csv('./output_topN_ebm/rec_result_extended_v2.csv')\n",
    "rec20_ebm_side_info = pd.read_csv('./output_topN_ebm/rec_result_side_info_v2.csv')"
   ]
  },
  {
   "cell_type": "code",
   "execution_count": 8,
   "id": "bbd9bc43-cea3-4908-8fde-95b3b2122683",
   "metadata": {},
   "outputs": [],
   "source": [
    "evaluation_knn_lda = pd.read_csv('./nb_recsys_ebm/ranking_data_knn_lda_v2.csv')"
   ]
  },
  {
   "cell_type": "markdown",
   "id": "621ae56e-61dc-4b34-a161-55c9ade85377",
   "metadata": {},
   "source": [
    "# Load FM rec result"
   ]
  },
  {
   "cell_type": "code",
   "execution_count": 9,
   "id": "7b78d930-857c-44ed-9be5-10e9f460efc5",
   "metadata": {},
   "outputs": [],
   "source": [
    "rec20_fm = pd.read_csv('./output_topN_myfm/rec20_fm_v2.csv')\n",
    "rec20_fm_match = pd.read_csv('./output_topN_myfm/rec20_fm_v2.csv')"
   ]
  },
  {
   "cell_type": "code",
   "execution_count": 10,
   "id": "acedf423-f05d-4662-a43c-3ea781df5ed6",
   "metadata": {},
   "outputs": [],
   "source": [
    "rec20_fm_side_info = pd.read_csv('./output_topN_myfm/rec20_fm_side_info_v2.csv')\n",
    "rec20_fm_extended = pd.read_csv('./output_topN_myfm/rec20_fm_extended_v2.csv')"
   ]
  },
  {
   "cell_type": "markdown",
   "id": "78beb9ce-5c4f-45f8-849a-1955028a9ddc",
   "metadata": {},
   "source": [
    "# Load DPEBM rec result"
   ]
  },
  {
   "cell_type": "code",
   "execution_count": 11,
   "id": "78aa6b68-a1c1-4d7e-9dbf-954f6908a6a8",
   "metadata": {},
   "outputs": [],
   "source": [
    "rec20_dpebm_location = pd.read_csv('./output_topN_ebm/rec_result_dpebm_location_v2.csv')\n",
    "rec20_dpebm_extended = pd.read_csv('./output_topN_ebm/rec_result_dpebm_extended_v2.csv')\n",
    "rec20_dpebm_side_info = pd.read_csv('./output_topN_ebm/rec_result_dpebm_side_info_v2.csv')"
   ]
  },
  {
   "cell_type": "markdown",
   "id": "a75961e7-b0ff-47b9-bd93-f288a8d5bb8e",
   "metadata": {
    "tags": []
   },
   "source": [
    "# Function for model fidelity"
   ]
  },
  {
   "cell_type": "code",
   "execution_count": 12,
   "id": "9863c0fd-60c8-4130-b67e-97be4ec16329",
   "metadata": {},
   "outputs": [],
   "source": [
    "user_ids_tfidf = list(evaluation_knn_tfidf.groupby('UserID').UserID.unique().astype('int'))"
   ]
  },
  {
   "cell_type": "code",
   "execution_count": 13,
   "id": "e275fae1-34b2-478d-bb6c-1aedf1f7ede2",
   "metadata": {},
   "outputs": [],
   "source": [
    "user_ids_lda = list(evaluation_knn_lda.groupby('UserID').UserID.unique().astype('int'))"
   ]
  },
  {
   "cell_type": "code",
   "execution_count": 14,
   "id": "97bf67c9-7944-43f3-899e-9793f64695b9",
   "metadata": {},
   "outputs": [
    {
     "data": {
      "text/plain": [
       "25"
      ]
     },
     "execution_count": 14,
     "metadata": {},
     "output_type": "execute_result"
    }
   ],
   "source": [
    "len(user_ids_tfidf) - len(user_ids_lda)"
   ]
  },
  {
   "cell_type": "code",
   "execution_count": 15,
   "id": "d8fd5182-7982-4996-8d28-959249a7ea93",
   "metadata": {},
   "outputs": [],
   "source": [
    "final_users = set(user_ids_tfidf) & set(user_ids_lda)"
   ]
  },
  {
   "cell_type": "code",
   "execution_count": 16,
   "id": "7cc4cf79-8983-47f9-8599-7b00826ff20c",
   "metadata": {},
   "outputs": [
    {
     "data": {
      "text/plain": [
       "3691"
      ]
     },
     "execution_count": 16,
     "metadata": {},
     "output_type": "execute_result"
    }
   ],
   "source": [
    "len(final_users)"
   ]
  },
  {
   "cell_type": "code",
   "execution_count": 17,
   "id": "18179b01-7369-4aef-af22-ff27e3d940ee",
   "metadata": {},
   "outputs": [],
   "source": [
    "final_users = list(final_users)"
   ]
  },
  {
   "cell_type": "code",
   "execution_count": 18,
   "id": "ecbc99f1-a72d-4f51-852b-75cb0234c118",
   "metadata": {},
   "outputs": [
    {
     "data": {
      "text/plain": [
       "876546"
      ]
     },
     "execution_count": 18,
     "metadata": {},
     "output_type": "execute_result"
    }
   ],
   "source": [
    "u_id = final_users[0]\n",
    "u_id"
   ]
  },
  {
   "cell_type": "code",
   "execution_count": 19,
   "id": "f1926380-4474-4f61-abd2-6733cd81856d",
   "metadata": {},
   "outputs": [],
   "source": [
    "source_rec = rec20_logreg[rec20_logreg.UserID==u_id].JobID.values\n",
    "xai_rec = rec20_ebm_extended[rec20_ebm_extended.UserID==u_id].JobID.values"
   ]
  },
  {
   "cell_type": "code",
   "execution_count": 20,
   "id": "4b33489c-94f7-4195-a179-288d69906b21",
   "metadata": {},
   "outputs": [
    {
     "data": {
      "text/plain": [
       "array([ 543031,   67239,    6164,  517422,  419313,  767935,  278301,\n",
       "        168362,  699278, 1048645,  253056,  791786,  965826,  357736,\n",
       "        908477,   76585,  161066,  634722,  934005,   70068])"
      ]
     },
     "execution_count": 20,
     "metadata": {},
     "output_type": "execute_result"
    }
   ],
   "source": [
    "source_rec"
   ]
  },
  {
   "cell_type": "code",
   "execution_count": 21,
   "id": "d73248da-6019-4862-b94c-42bcce50b664",
   "metadata": {},
   "outputs": [
    {
     "data": {
      "text/plain": [
       "array([ 705799,   11246,  176089,  878808,  554533,  792168,  274070,\n",
       "        970076,   16341,  133447,  382523,   49926,  162485,  320457,\n",
       "        338269, 1060090,  205210,  562713,  683191,  531223])"
      ]
     },
     "execution_count": 21,
     "metadata": {},
     "output_type": "execute_result"
    }
   ],
   "source": [
    "xai_rec"
   ]
  },
  {
   "cell_type": "code",
   "execution_count": 22,
   "id": "09ff0261-0fe6-4119-bcff-7eed22850dd5",
   "metadata": {},
   "outputs": [],
   "source": [
    "fidelity = set(source_rec) & set(xai_rec)"
   ]
  },
  {
   "cell_type": "code",
   "execution_count": 23,
   "id": "50363d34-1d86-495d-a6aa-d48837deefcb",
   "metadata": {},
   "outputs": [],
   "source": [
    "fidelity_rate = len(fidelity)/len(source_rec)"
   ]
  },
  {
   "cell_type": "code",
   "execution_count": 24,
   "id": "66c44e12-cc91-4324-9a07-4b66cc8132c2",
   "metadata": {},
   "outputs": [
    {
     "data": {
      "text/plain": [
       "0.0"
      ]
     },
     "execution_count": 24,
     "metadata": {},
     "output_type": "execute_result"
    }
   ],
   "source": [
    "fidelity_rate"
   ]
  },
  {
   "cell_type": "code",
   "execution_count": 25,
   "id": "ce2b56fc-3f83-4848-84cb-1f8a4a95be25",
   "metadata": {},
   "outputs": [],
   "source": [
    "def get_fidelity_rate(source_rec, xai_rec, u_id):\n",
    "    source_rec = source_rec[source_rec.UserID==u_id].JobID.values\n",
    "    xai_rec = xai_rec[xai_rec.UserID==u_id].JobID.values\n",
    "    fidelity = set(source_rec) & set(xai_rec)\n",
    "    fidelity_rate = len(fidelity)/len(source_rec)\n",
    "    return fidelity_rate"
   ]
  },
  {
   "cell_type": "code",
   "execution_count": 26,
   "id": "23231316-6819-4e0d-a6da-709be9608e58",
   "metadata": {},
   "outputs": [
    {
     "name": "stdout",
     "output_type": "stream",
     "text": [
      "Evaluation users:  876546\n",
      "Fidelity rate for this user: 0.0\n",
      "Evaluation users:  1359874\n",
      "Fidelity rate for this user: 0.0\n",
      "Evaluation users:  1302532\n",
      "Fidelity rate for this user: 0.0\n",
      "Evaluation users:  819206\n",
      "Fidelity rate for this user: 0.0\n",
      "Evaluation users:  57352\n",
      "Fidelity rate for this user: 0.0\n"
     ]
    }
   ],
   "source": [
    "# Test function\n",
    "fidelity_all = []\n",
    "for u_id in final_users[:5]:\n",
    "    print('Evaluation users: ', u_id)\n",
    "    fidelity_rate = get_fidelity_rate(source_rec = rec20_logreg, \n",
    "                                      xai_rec = rec20_ebm_extended, \n",
    "                                      u_id = u_id)\n",
    "    print('Fidelity rate for this user:', fidelity_rate)\n",
    "    fidelity_all.append(fidelity_rate)"
   ]
  },
  {
   "cell_type": "code",
   "execution_count": 27,
   "id": "0d20768b-2c63-4d70-b010-87ca98a55cbc",
   "metadata": {},
   "outputs": [
    {
     "name": "stdout",
     "output_type": "stream",
     "text": [
      "Evaluation users:  876546\n",
      "Fidelity rate for this user: 0.35\n",
      "Evaluation users:  1359874\n",
      "Fidelity rate for this user: 0.2\n",
      "Evaluation users:  1302532\n",
      "Fidelity rate for this user: 0.35\n",
      "Evaluation users:  819206\n",
      "Fidelity rate for this user: 0.7\n",
      "Evaluation users:  57352\n",
      "Fidelity rate for this user: 0.35\n"
     ]
    }
   ],
   "source": [
    "# Test function\n",
    "fidelity_all = []\n",
    "for u_id in final_users[:5]:\n",
    "    print('Evaluation users: ', u_id)\n",
    "    fidelity_rate = get_fidelity_rate(source_rec =  rec20_fm_extended, \n",
    "                                      xai_rec = rec20_ebm_extended, \n",
    "                                      u_id = u_id)\n",
    "    print('Fidelity rate for this user:', fidelity_rate)\n",
    "    fidelity_all.append(fidelity_rate)"
   ]
  },
  {
   "cell_type": "code",
   "execution_count": 28,
   "id": "12011562-1f54-4a9b-83c3-ca17e8e7d3a8",
   "metadata": {},
   "outputs": [],
   "source": [
    "source_recs = []\n",
    "xai_recs = []\n",
    "avg_fidelity = []"
   ]
  },
  {
   "cell_type": "markdown",
   "id": "016c5a2d-4cef-416b-90a2-7a5860f080a8",
   "metadata": {
    "tags": []
   },
   "source": [
    "# EBM models vs FM models"
   ]
  },
  {
   "cell_type": "markdown",
   "id": "d34b3d9d-fa4c-4bf5-8531-1ca02f9c9999",
   "metadata": {},
   "source": [
    "## ebm_extended vs. fm_extended"
   ]
  },
  {
   "cell_type": "code",
   "execution_count": 29,
   "id": "50eaf70d-e291-416a-a234-1577b1d2fbbd",
   "metadata": {},
   "outputs": [
    {
     "name": "stdout",
     "output_type": "stream",
     "text": [
      "CPU times: user 2.38 s, sys: 0 ns, total: 2.38 s\n",
      "Wall time: 2.38 s\n"
     ]
    }
   ],
   "source": [
    "%%time\n",
    "fidelity_all = []\n",
    "for u_id in final_users:\n",
    "    # print('Evaluation users: ', u_id)\n",
    "    fidelity_rate = get_fidelity_rate(source_rec =  rec20_fm_extended, \n",
    "                                      xai_rec = rec20_ebm_extended, \n",
    "                                      u_id = u_id)\n",
    "    # print('Fidelity rate for this user:', fidelity_rate)\n",
    "    fidelity_all.append(fidelity_rate)"
   ]
  },
  {
   "cell_type": "code",
   "execution_count": 30,
   "id": "1c3ee18d-6f2f-449d-a66d-67e5aa23c1ed",
   "metadata": {},
   "outputs": [
    {
     "name": "stdout",
     "output_type": "stream",
     "text": [
      "0.46327553508534275\n"
     ]
    }
   ],
   "source": [
    "# Average fidelity\n",
    "fidelity_extended = np.mean(fidelity_all)\n",
    "print(fidelity_extended)"
   ]
  },
  {
   "cell_type": "code",
   "execution_count": 31,
   "id": "19588eb2-88ac-4417-ad82-bcf5aa86665e",
   "metadata": {},
   "outputs": [],
   "source": [
    "source_rec =  'fm_extended'\n",
    "xai_rec = 'ebm_extended'\n",
    "source_recs.append(source_rec)\n",
    "xai_recs.append(xai_rec)\n",
    "avg_fidelity.append(fidelity_extended)"
   ]
  },
  {
   "cell_type": "markdown",
   "id": "bad4a3a2-686d-4fa1-a65e-a672146ec0f3",
   "metadata": {},
   "source": [
    "## ebm_side_info vs. fm_side_info"
   ]
  },
  {
   "cell_type": "code",
   "execution_count": 32,
   "id": "fa336c4a-4505-411d-8eaa-2bab6289ee67",
   "metadata": {},
   "outputs": [
    {
     "name": "stdout",
     "output_type": "stream",
     "text": [
      "CPU times: user 2.32 s, sys: 0 ns, total: 2.32 s\n",
      "Wall time: 2.32 s\n"
     ]
    }
   ],
   "source": [
    "%%time\n",
    "fidelity_all = []\n",
    "for u_id in final_users:\n",
    "    # print('Evaluation users: ', u_id)\n",
    "    fidelity_rate = get_fidelity_rate(source_rec =  rec20_fm_side_info, \n",
    "                                      xai_rec = rec20_ebm_side_info, \n",
    "                                      u_id = u_id)\n",
    "    # print('Fidelity rate for this user:', fidelity_rate)\n",
    "    fidelity_all.append(fidelity_rate)"
   ]
  },
  {
   "cell_type": "code",
   "execution_count": 33,
   "id": "06a60c74-de6d-49f7-8f96-cf10e68c1d20",
   "metadata": {},
   "outputs": [
    {
     "name": "stdout",
     "output_type": "stream",
     "text": [
      "0.31150094825250607\n"
     ]
    }
   ],
   "source": [
    "# Average fidelity\n",
    "fidelity_side_info = np.mean(fidelity_all)\n",
    "print(fidelity_side_info)"
   ]
  },
  {
   "cell_type": "code",
   "execution_count": 34,
   "id": "a7bbbbda-1949-4f80-89b9-087b2a943ce3",
   "metadata": {},
   "outputs": [],
   "source": [
    "source_rec =  'fm_side_info'\n",
    "xai_rec = 'ebm_side_info'\n",
    "source_recs.append(source_rec)\n",
    "xai_recs.append(xai_rec)\n",
    "avg_fidelity.append(fidelity_side_info)"
   ]
  },
  {
   "cell_type": "markdown",
   "id": "ce238d96-51c1-499b-bafe-a0a55f81a6c3",
   "metadata": {},
   "source": [
    "## ebm location vs. fm_location"
   ]
  },
  {
   "cell_type": "code",
   "execution_count": 35,
   "id": "47ac0bc7-0b1d-4e59-8465-448c8a9349dc",
   "metadata": {},
   "outputs": [
    {
     "name": "stdout",
     "output_type": "stream",
     "text": [
      "CPU times: user 3.16 s, sys: 0 ns, total: 3.16 s\n",
      "Wall time: 3.15 s\n"
     ]
    }
   ],
   "source": [
    "%%time\n",
    "fidelity_all = []\n",
    "for u_id in final_users:\n",
    "    # print('Evaluation users: ', u_id)\n",
    "    fidelity_rate = get_fidelity_rate(source_rec =  rec20_fm_match, \n",
    "                                      xai_rec = rec20_ebm_location, \n",
    "                                      u_id = u_id)\n",
    "    # print('Fidelity rate for this user:', fidelity_rate)\n",
    "    fidelity_all.append(fidelity_rate)"
   ]
  },
  {
   "cell_type": "code",
   "execution_count": 36,
   "id": "cd1040c9-3d69-4648-88d9-4598b6708615",
   "metadata": {},
   "outputs": [
    {
     "name": "stdout",
     "output_type": "stream",
     "text": [
      "0.21784069357897587\n"
     ]
    }
   ],
   "source": [
    "# Average fidelity\n",
    "fidelity_location = np.mean(fidelity_all)\n",
    "print(fidelity_location)"
   ]
  },
  {
   "cell_type": "code",
   "execution_count": 37,
   "id": "9a79ddb8-0e6b-4c53-9ae1-bfd0e541a0b1",
   "metadata": {},
   "outputs": [],
   "source": [
    "source_rec =  'fm_match'\n",
    "xai_rec = 'ebm_location'\n",
    "source_recs.append(source_rec)\n",
    "xai_recs.append(xai_rec)\n",
    "avg_fidelity.append(fidelity_location)"
   ]
  },
  {
   "cell_type": "markdown",
   "id": "460bc362-5eae-4913-8dd8-e5d8518cbb58",
   "metadata": {
    "tags": []
   },
   "source": [
    "# DPEBM models vs. FM models"
   ]
  },
  {
   "cell_type": "markdown",
   "id": "c8d670a5-61a1-4be4-b427-574bf3ac71be",
   "metadata": {},
   "source": [
    "## dpebm_extended vs. fm_extended"
   ]
  },
  {
   "cell_type": "code",
   "execution_count": 38,
   "id": "8c2b20e0-a7ab-452a-b9d8-098bacda6d66",
   "metadata": {},
   "outputs": [
    {
     "name": "stdout",
     "output_type": "stream",
     "text": [
      "CPU times: user 3.06 s, sys: 0 ns, total: 3.06 s\n",
      "Wall time: 3.05 s\n"
     ]
    }
   ],
   "source": [
    "%%time\n",
    "fidelity_all = []\n",
    "for u_id in final_users:\n",
    "    # print('Evaluation users: ', u_id)\n",
    "    fidelity_rate = get_fidelity_rate(source_rec =  rec20_fm_extended, \n",
    "                                      xai_rec = rec20_dpebm_extended, \n",
    "                                      u_id = u_id)\n",
    "    # print('Fidelity rate for this user:', fidelity_rate)\n",
    "    fidelity_all.append(fidelity_rate)"
   ]
  },
  {
   "cell_type": "code",
   "execution_count": 39,
   "id": "47cc58ab-561f-484b-a179-df10345ebaa5",
   "metadata": {},
   "outputs": [
    {
     "name": "stdout",
     "output_type": "stream",
     "text": [
      "0.37900298022216206\n"
     ]
    }
   ],
   "source": [
    "# Average fidelity\n",
    "fidelity_dpebm_extended = np.mean(fidelity_all)\n",
    "print(fidelity_dpebm_extended)"
   ]
  },
  {
   "cell_type": "code",
   "execution_count": 40,
   "id": "342da726-4802-40ca-955c-4cfe64a007a8",
   "metadata": {},
   "outputs": [],
   "source": [
    "source_rec =  'fm_extended'\n",
    "xai_rec = 'dpebm_extended'\n",
    "source_recs.append(source_rec)\n",
    "xai_recs.append(xai_rec)\n",
    "avg_fidelity.append(fidelity_dpebm_extended)"
   ]
  },
  {
   "cell_type": "markdown",
   "id": "f9dc675a-c6dd-4103-acdf-7b4196e2bed8",
   "metadata": {},
   "source": [
    "## dpebm_side_info vs. fm_side_info"
   ]
  },
  {
   "cell_type": "code",
   "execution_count": 41,
   "id": "5bd83fb6-8eb2-428e-9467-ce7a515488d4",
   "metadata": {},
   "outputs": [
    {
     "name": "stdout",
     "output_type": "stream",
     "text": [
      "CPU times: user 2.65 s, sys: 0 ns, total: 2.65 s\n",
      "Wall time: 2.65 s\n"
     ]
    }
   ],
   "source": [
    "%%time\n",
    "fidelity_all = []\n",
    "for u_id in final_users:\n",
    "    # print('Evaluation users: ', u_id)\n",
    "    fidelity_rate = get_fidelity_rate(source_rec =  rec20_fm_side_info, \n",
    "                                      xai_rec = rec20_dpebm_side_info, \n",
    "                                      u_id = u_id)\n",
    "    # print('Fidelity rate for this user:', fidelity_rate)\n",
    "    fidelity_all.append(fidelity_rate)"
   ]
  },
  {
   "cell_type": "code",
   "execution_count": 42,
   "id": "c00848f9-bd34-4603-8240-c332b6eee673",
   "metadata": {},
   "outputs": [
    {
     "name": "stdout",
     "output_type": "stream",
     "text": [
      "0.21216472500677322\n"
     ]
    }
   ],
   "source": [
    "# Average fidelity\n",
    "fidelity_dpebm_side_info = np.mean(fidelity_all)\n",
    "print(fidelity_dpebm_side_info)"
   ]
  },
  {
   "cell_type": "code",
   "execution_count": 43,
   "id": "78bed9f1-08a2-401c-9e6d-1a49a570558a",
   "metadata": {},
   "outputs": [],
   "source": [
    "source_rec =  'fm_side_info'\n",
    "xai_rec = 'dpebm_side_info'\n",
    "source_recs.append(source_rec)\n",
    "xai_recs.append(xai_rec)\n",
    "avg_fidelity.append(fidelity_dpebm_side_info)"
   ]
  },
  {
   "cell_type": "markdown",
   "id": "86efbe80-926d-4822-9fd7-8699a0bc0785",
   "metadata": {},
   "source": [
    "## dpebm_side_location vs. fm_location (fm_match)"
   ]
  },
  {
   "cell_type": "code",
   "execution_count": 44,
   "id": "e26176ef-03cf-4428-a018-2b85c3a7a78e",
   "metadata": {},
   "outputs": [
    {
     "name": "stdout",
     "output_type": "stream",
     "text": [
      "CPU times: user 2.74 s, sys: 2.71 ms, total: 2.74 s\n",
      "Wall time: 2.73 s\n"
     ]
    }
   ],
   "source": [
    "%%time\n",
    "fidelity_all = []\n",
    "for u_id in final_users:\n",
    "    # print('Evaluation users: ', u_id)\n",
    "    fidelity_rate = get_fidelity_rate(source_rec =  rec20_fm_match, \n",
    "                                      xai_rec = rec20_dpebm_location, \n",
    "                                      u_id = u_id)\n",
    "    # print('Fidelity rate for this user:', fidelity_rate)\n",
    "    fidelity_all.append(fidelity_rate)"
   ]
  },
  {
   "cell_type": "code",
   "execution_count": 45,
   "id": "da441a56-d60b-4fad-ba2c-06037366646f",
   "metadata": {},
   "outputs": [
    {
     "name": "stdout",
     "output_type": "stream",
     "text": [
      "0.21782714711460308\n"
     ]
    }
   ],
   "source": [
    "# Average fidelity\n",
    "fidelity_dpebm_location = np.mean(fidelity_all)\n",
    "print(fidelity_dpebm_location)"
   ]
  },
  {
   "cell_type": "code",
   "execution_count": 46,
   "id": "68e8eb55-998b-428d-8f69-712fc97927b8",
   "metadata": {},
   "outputs": [],
   "source": [
    "source_rec =  'fm_match'\n",
    "xai_rec = 'dpebm_location'\n",
    "source_recs.append(source_rec)\n",
    "xai_recs.append(xai_rec)\n",
    "avg_fidelity.append(fidelity_dpebm_location)"
   ]
  },
  {
   "cell_type": "markdown",
   "id": "8ed8f8c7-6ac5-46cd-b952-8b86f37fb30e",
   "metadata": {
    "tags": []
   },
   "source": [
    "# ebm_extended vs. black-box models"
   ]
  },
  {
   "cell_type": "markdown",
   "id": "0e5fd3e7-be18-451a-b898-4ed7a6b49a50",
   "metadata": {
    "tags": []
   },
   "source": [
    "## ebm_extended vs. xgbt"
   ]
  },
  {
   "cell_type": "code",
   "execution_count": 47,
   "id": "0b542c9f-1ff8-4060-a3e6-bc0da700f648",
   "metadata": {},
   "outputs": [
    {
     "name": "stdout",
     "output_type": "stream",
     "text": [
      "0.011528041181251692\n",
      "CPU times: user 2.42 s, sys: 1.86 ms, total: 2.42 s\n",
      "Wall time: 2.41 s\n"
     ]
    }
   ],
   "source": [
    "%%time\n",
    "fidelity_all = []\n",
    "for u_id in final_users:\n",
    "    # print('Evaluation users: ', u_id)\n",
    "    fidelity_rate = get_fidelity_rate(source_rec =  rec20_xgbt, \n",
    "                                      xai_rec = rec20_ebm_extended, \n",
    "                                      u_id = u_id)\n",
    "    # print('Fidelity rate for this user:', fidelity_rate)\n",
    "    fidelity_all.append(fidelity_rate)\n",
    "\n",
    "# Average fidelity\n",
    "fidelity_xgbt = np.mean(fidelity_all)\n",
    "print(fidelity_xgbt)"
   ]
  },
  {
   "cell_type": "code",
   "execution_count": 48,
   "id": "73592f83-2c09-4e21-a4fd-4e6373f39a7a",
   "metadata": {},
   "outputs": [],
   "source": [
    "source_rec =  'xgbt'\n",
    "xai_rec = 'ebm_extended'\n",
    "source_recs.append(source_rec)\n",
    "xai_recs.append(xai_rec)\n",
    "avg_fidelity.append(fidelity_xgbt)"
   ]
  },
  {
   "cell_type": "markdown",
   "id": "fdc4a76d-040d-46b3-9c3d-4ff6d3577581",
   "metadata": {
    "tags": []
   },
   "source": [
    "## ebm_extended vs. ada"
   ]
  },
  {
   "cell_type": "code",
   "execution_count": 49,
   "id": "e74ae46c-7414-4bce-8b05-87775b4176e0",
   "metadata": {},
   "outputs": [
    {
     "name": "stdout",
     "output_type": "stream",
     "text": [
      "0.011284204822541319\n",
      "CPU times: user 2.34 s, sys: 0 ns, total: 2.34 s\n",
      "Wall time: 2.33 s\n"
     ]
    }
   ],
   "source": [
    "%%time\n",
    "fidelity_all = []\n",
    "for u_id in final_users:\n",
    "    # print('Evaluation users: ', u_id)\n",
    "    fidelity_rate = get_fidelity_rate(source_rec =  rec20_ada, \n",
    "                                      xai_rec = rec20_ebm_extended, \n",
    "                                      u_id = u_id)\n",
    "    # print('Fidelity rate for this user:', fidelity_rate)\n",
    "    fidelity_all.append(fidelity_rate)\n",
    "\n",
    "# Average fidelity\n",
    "fidelity_ada = np.mean(fidelity_all)\n",
    "print(fidelity_ada)"
   ]
  },
  {
   "cell_type": "code",
   "execution_count": 50,
   "id": "1379a18a-7fd1-478f-8fa1-8fd632179af7",
   "metadata": {},
   "outputs": [],
   "source": [
    "source_rec =  'ada'\n",
    "xai_rec = 'ebm_extended'\n",
    "source_recs.append(source_rec)\n",
    "xai_recs.append(xai_rec)\n",
    "avg_fidelity.append(fidelity_ada)"
   ]
  },
  {
   "cell_type": "markdown",
   "id": "03c3b5d6-efa5-4b66-8a77-7d9d56504388",
   "metadata": {
    "tags": []
   },
   "source": [
    "## ebm_extended vs. lda"
   ]
  },
  {
   "cell_type": "code",
   "execution_count": 51,
   "id": "8ad1ab94-4fad-4ab9-88e7-99d6381107f5",
   "metadata": {},
   "outputs": [
    {
     "name": "stdout",
     "output_type": "stream",
     "text": [
      "0.011379030073150907\n",
      "CPU times: user 2.33 s, sys: 0 ns, total: 2.33 s\n",
      "Wall time: 2.32 s\n"
     ]
    }
   ],
   "source": [
    "%%time\n",
    "fidelity_all = []\n",
    "for u_id in final_users:\n",
    "    # print('Evaluation users: ', u_id)\n",
    "    fidelity_rate = get_fidelity_rate(source_rec =  rec20_lda, \n",
    "                                      xai_rec = rec20_ebm_extended, \n",
    "                                      u_id = u_id)\n",
    "    # print('Fidelity rate for this user:', fidelity_rate)\n",
    "    fidelity_all.append(fidelity_rate)\n",
    "    \n",
    "# Average fidelity\n",
    "fidelity_lda = np.mean(fidelity_all)\n",
    "print(fidelity_lda)"
   ]
  },
  {
   "cell_type": "code",
   "execution_count": 52,
   "id": "852ccd89-2177-4941-9d49-8e27ccaffcc5",
   "metadata": {},
   "outputs": [],
   "source": [
    "source_rec =  'lda'\n",
    "xai_rec = 'ebm_extended'\n",
    "source_recs.append(source_rec)\n",
    "xai_recs.append(xai_rec)\n",
    "avg_fidelity.append(fidelity_lda)"
   ]
  },
  {
   "cell_type": "markdown",
   "id": "59d61c76-a4ec-4356-bf75-266036c9f1ac",
   "metadata": {
    "tags": []
   },
   "source": [
    "## ebm_extended vs. qda"
   ]
  },
  {
   "cell_type": "code",
   "execution_count": 53,
   "id": "675eef5f-c309-48f4-b9aa-298e350d362d",
   "metadata": {},
   "outputs": [
    {
     "name": "stdout",
     "output_type": "stream",
     "text": [
      "0.01009211595773503\n",
      "CPU times: user 3.17 s, sys: 4.16 ms, total: 3.17 s\n",
      "Wall time: 3.16 s\n"
     ]
    }
   ],
   "source": [
    "%%time\n",
    "fidelity_all = []\n",
    "for u_id in final_users:\n",
    "    # print('Evaluation users: ', u_id)\n",
    "    fidelity_rate = get_fidelity_rate(source_rec =  rec20_qda, \n",
    "                                      xai_rec = rec20_ebm_extended, \n",
    "                                      u_id = u_id)\n",
    "    # print('Fidelity rate for this user:', fidelity_rate)\n",
    "    fidelity_all.append(fidelity_rate)\n",
    "    \n",
    "# Average fidelity\n",
    "fidelity_qda = np.mean(fidelity_all)\n",
    "print(fidelity_qda)"
   ]
  },
  {
   "cell_type": "code",
   "execution_count": 54,
   "id": "5665b9ae-fc4a-493c-9302-58a58be9808a",
   "metadata": {},
   "outputs": [],
   "source": [
    "source_rec =  'qda'\n",
    "xai_rec = 'ebm_extended'\n",
    "source_recs.append(source_rec)\n",
    "xai_recs.append(xai_rec)\n",
    "avg_fidelity.append(fidelity_qda)"
   ]
  },
  {
   "cell_type": "markdown",
   "id": "4f8f520f-935d-49c1-b2cf-6c27a9d89933",
   "metadata": {},
   "source": [
    "# dpebm_extended vs. black-box models"
   ]
  },
  {
   "cell_type": "code",
   "execution_count": 55,
   "id": "63992dd5-753d-40aa-954a-f770c4dba44d",
   "metadata": {},
   "outputs": [
    {
     "name": "stdout",
     "output_type": "stream",
     "text": [
      "0.012083446220536443\n",
      "CPU times: user 2.4 s, sys: 13.4 ms, total: 2.41 s\n",
      "Wall time: 2.4 s\n"
     ]
    }
   ],
   "source": [
    "%%time\n",
    "fidelity_all = []\n",
    "for u_id in final_users:\n",
    "    # print('Evaluation users: ', u_id)\n",
    "    fidelity_rate = get_fidelity_rate(source_rec =  rec20_xgbt, \n",
    "                                      xai_rec = rec20_dpebm_extended, \n",
    "                                      u_id = u_id)\n",
    "    # print('Fidelity rate for this user:', fidelity_rate)\n",
    "    fidelity_all.append(fidelity_rate)\n",
    "\n",
    "    # Average fidelity\n",
    "fidelity_xgbt_dpebm = np.mean(fidelity_all)\n",
    "print(fidelity_xgbt_dpebm)"
   ]
  },
  {
   "cell_type": "code",
   "execution_count": 56,
   "id": "17451ad1-ec10-451f-95d0-96a9faadc20f",
   "metadata": {},
   "outputs": [],
   "source": [
    "source_rec =  'xgbt'\n",
    "xai_rec = 'dpebm_extended'\n",
    "source_recs.append(source_rec)\n",
    "xai_recs.append(xai_rec)\n",
    "avg_fidelity.append(fidelity_xgbt_dpebm)"
   ]
  },
  {
   "cell_type": "code",
   "execution_count": 57,
   "id": "18be1bdb-0b06-43b6-824e-f1fc1e776f35",
   "metadata": {},
   "outputs": [
    {
     "name": "stdout",
     "output_type": "stream",
     "text": [
      "0.010796532105120563\n",
      "CPU times: user 2.35 s, sys: 1.94 ms, total: 2.35 s\n",
      "Wall time: 2.35 s\n"
     ]
    }
   ],
   "source": [
    "%%time\n",
    "fidelity_all = []\n",
    "for u_id in final_users:\n",
    "    # print('Evaluation users: ', u_id)\n",
    "    fidelity_rate = get_fidelity_rate(source_rec =  rec20_ada, \n",
    "                                      xai_rec = rec20_dpebm_extended, \n",
    "                                      u_id = u_id)\n",
    "    # print('Fidelity rate for this user:', fidelity_rate)\n",
    "    fidelity_all.append(fidelity_rate)\n",
    "\n",
    "    # Average fidelity\n",
    "fidelity_ada_dpebm = np.mean(fidelity_all)\n",
    "print(fidelity_ada_dpebm)"
   ]
  },
  {
   "cell_type": "code",
   "execution_count": 58,
   "id": "ebded697-a176-48f2-9108-f03eb0b5ccaf",
   "metadata": {},
   "outputs": [],
   "source": [
    "source_rec =  'ada'\n",
    "xai_rec = 'dpebm_extended'\n",
    "source_recs.append(source_rec)\n",
    "xai_recs.append(xai_rec)\n",
    "avg_fidelity.append(fidelity_ada_dpebm)"
   ]
  },
  {
   "cell_type": "code",
   "execution_count": 59,
   "id": "4c2684e6-88ab-41c7-8d3f-a4fec133c567",
   "metadata": {},
   "outputs": [
    {
     "name": "stdout",
     "output_type": "stream",
     "text": [
      "0.010755892712002169\n",
      "CPU times: user 2.3 s, sys: 0 ns, total: 2.3 s\n",
      "Wall time: 2.3 s\n"
     ]
    }
   ],
   "source": [
    "%%time\n",
    "fidelity_all = []\n",
    "for u_id in final_users:\n",
    "    # print('Evaluation users: ', u_id)\n",
    "    fidelity_rate = get_fidelity_rate(source_rec =  rec20_lda, \n",
    "                                      xai_rec = rec20_dpebm_extended, \n",
    "                                      u_id = u_id)\n",
    "    # print('Fidelity rate for this user:', fidelity_rate)\n",
    "    fidelity_all.append(fidelity_rate)\n",
    "\n",
    "    # Average fidelity\n",
    "fidelity_lda_dpebm = np.mean(fidelity_all)\n",
    "print(fidelity_lda_dpebm)"
   ]
  },
  {
   "cell_type": "code",
   "execution_count": 60,
   "id": "9c10ea27-3f52-406a-8a79-6baa54515e60",
   "metadata": {},
   "outputs": [],
   "source": [
    "source_rec =  'lda'\n",
    "xai_rec = 'dpebm_extended'\n",
    "source_recs.append(source_rec)\n",
    "xai_recs.append(xai_rec)\n",
    "avg_fidelity.append(fidelity_lda_dpebm)"
   ]
  },
  {
   "cell_type": "code",
   "execution_count": 61,
   "id": "1e6328b4-f184-4234-85f9-40cae4439a31",
   "metadata": {},
   "outputs": [
    {
     "name": "stdout",
     "output_type": "stream",
     "text": [
      "0.009658629097805474\n",
      "CPU times: user 2.32 s, sys: 5.89 ms, total: 2.33 s\n",
      "Wall time: 2.32 s\n"
     ]
    }
   ],
   "source": [
    "%%time\n",
    "fidelity_all = []\n",
    "for u_id in final_users:\n",
    "    # print('Evaluation users: ', u_id)\n",
    "    fidelity_rate = get_fidelity_rate(source_rec =  rec20_qda, \n",
    "                                      xai_rec = rec20_dpebm_extended, \n",
    "                                      u_id = u_id)\n",
    "    # print('Fidelity rate for this user:', fidelity_rate)\n",
    "    fidelity_all.append(fidelity_rate)\n",
    "\n",
    "    # Average fidelity\n",
    "fidelity_qda_dpebm = np.mean(fidelity_all)\n",
    "print(fidelity_qda_dpebm)"
   ]
  },
  {
   "cell_type": "code",
   "execution_count": 62,
   "id": "5673d062-e1c3-464c-bdba-2f2627564e30",
   "metadata": {},
   "outputs": [],
   "source": [
    "source_rec =  'qda'\n",
    "xai_rec = 'dpebm_extended'\n",
    "source_recs.append(source_rec)\n",
    "xai_recs.append(xai_rec)\n",
    "avg_fidelity.append(fidelity_qda_dpebm)"
   ]
  },
  {
   "cell_type": "markdown",
   "id": "718bcfb1-d0fe-4e54-b597-bbf82f1bd164",
   "metadata": {},
   "source": [
    "# Summary"
   ]
  },
  {
   "cell_type": "code",
   "execution_count": 63,
   "id": "1484e5ff-052d-495d-8874-e57b3de7cdc7",
   "metadata": {},
   "outputs": [
    {
     "data": {
      "text/plain": [
       "(14, 14, 14)"
      ]
     },
     "execution_count": 63,
     "metadata": {},
     "output_type": "execute_result"
    }
   ],
   "source": [
    "len(source_recs), len(xai_recs), len(avg_fidelity)"
   ]
  },
  {
   "cell_type": "code",
   "execution_count": 64,
   "id": "b2013528-c1c5-4f84-98df-0cc1e739e00c",
   "metadata": {},
   "outputs": [],
   "source": [
    "fidelity_df = pd.DataFrame(columns = [\"source_rec\",\"xai_rec\", \"avg_fidelity\"])\n",
    "fidelity_df.source_rec = source_recs\n",
    "fidelity_df.xai_rec = xai_recs\n",
    "fidelity_df.avg_fidelity = avg_fidelity"
   ]
  },
  {
   "cell_type": "code",
   "execution_count": 65,
   "id": "44a58009-c3c8-41f4-aa6f-455f1da3bce7",
   "metadata": {},
   "outputs": [
    {
     "data": {
      "text/html": [
       "<div>\n",
       "<style scoped>\n",
       "    .dataframe tbody tr th:only-of-type {\n",
       "        vertical-align: middle;\n",
       "    }\n",
       "\n",
       "    .dataframe tbody tr th {\n",
       "        vertical-align: top;\n",
       "    }\n",
       "\n",
       "    .dataframe thead th {\n",
       "        text-align: right;\n",
       "    }\n",
       "</style>\n",
       "<table border=\"1\" class=\"dataframe\">\n",
       "  <thead>\n",
       "    <tr style=\"text-align: right;\">\n",
       "      <th></th>\n",
       "      <th>source_rec</th>\n",
       "      <th>xai_rec</th>\n",
       "      <th>avg_fidelity</th>\n",
       "    </tr>\n",
       "  </thead>\n",
       "  <tbody>\n",
       "    <tr>\n",
       "      <th>0</th>\n",
       "      <td>fm_extended</td>\n",
       "      <td>ebm_extended</td>\n",
       "      <td>0.463276</td>\n",
       "    </tr>\n",
       "    <tr>\n",
       "      <th>1</th>\n",
       "      <td>fm_side_info</td>\n",
       "      <td>ebm_side_info</td>\n",
       "      <td>0.311501</td>\n",
       "    </tr>\n",
       "    <tr>\n",
       "      <th>2</th>\n",
       "      <td>fm_match</td>\n",
       "      <td>ebm_location</td>\n",
       "      <td>0.217841</td>\n",
       "    </tr>\n",
       "    <tr>\n",
       "      <th>3</th>\n",
       "      <td>fm_extended</td>\n",
       "      <td>dpebm_extended</td>\n",
       "      <td>0.379003</td>\n",
       "    </tr>\n",
       "    <tr>\n",
       "      <th>4</th>\n",
       "      <td>fm_side_info</td>\n",
       "      <td>dpebm_side_info</td>\n",
       "      <td>0.212165</td>\n",
       "    </tr>\n",
       "    <tr>\n",
       "      <th>5</th>\n",
       "      <td>fm_match</td>\n",
       "      <td>dpebm_location</td>\n",
       "      <td>0.217827</td>\n",
       "    </tr>\n",
       "    <tr>\n",
       "      <th>6</th>\n",
       "      <td>xgbt</td>\n",
       "      <td>ebm_extended</td>\n",
       "      <td>0.011528</td>\n",
       "    </tr>\n",
       "    <tr>\n",
       "      <th>7</th>\n",
       "      <td>ada</td>\n",
       "      <td>ebm_extended</td>\n",
       "      <td>0.011284</td>\n",
       "    </tr>\n",
       "    <tr>\n",
       "      <th>8</th>\n",
       "      <td>lda</td>\n",
       "      <td>ebm_extended</td>\n",
       "      <td>0.011379</td>\n",
       "    </tr>\n",
       "    <tr>\n",
       "      <th>9</th>\n",
       "      <td>qda</td>\n",
       "      <td>ebm_extended</td>\n",
       "      <td>0.010092</td>\n",
       "    </tr>\n",
       "    <tr>\n",
       "      <th>10</th>\n",
       "      <td>xgbt</td>\n",
       "      <td>dpebm_extended</td>\n",
       "      <td>0.012083</td>\n",
       "    </tr>\n",
       "    <tr>\n",
       "      <th>11</th>\n",
       "      <td>ada</td>\n",
       "      <td>dpebm_extended</td>\n",
       "      <td>0.010797</td>\n",
       "    </tr>\n",
       "    <tr>\n",
       "      <th>12</th>\n",
       "      <td>lda</td>\n",
       "      <td>dpebm_extended</td>\n",
       "      <td>0.010756</td>\n",
       "    </tr>\n",
       "    <tr>\n",
       "      <th>13</th>\n",
       "      <td>qda</td>\n",
       "      <td>dpebm_extended</td>\n",
       "      <td>0.009659</td>\n",
       "    </tr>\n",
       "  </tbody>\n",
       "</table>\n",
       "</div>"
      ],
      "text/plain": [
       "      source_rec          xai_rec  avg_fidelity\n",
       "0    fm_extended     ebm_extended      0.463276\n",
       "1   fm_side_info    ebm_side_info      0.311501\n",
       "2       fm_match     ebm_location      0.217841\n",
       "3    fm_extended   dpebm_extended      0.379003\n",
       "4   fm_side_info  dpebm_side_info      0.212165\n",
       "5       fm_match   dpebm_location      0.217827\n",
       "6           xgbt     ebm_extended      0.011528\n",
       "7            ada     ebm_extended      0.011284\n",
       "8            lda     ebm_extended      0.011379\n",
       "9            qda     ebm_extended      0.010092\n",
       "10          xgbt   dpebm_extended      0.012083\n",
       "11           ada   dpebm_extended      0.010797\n",
       "12           lda   dpebm_extended      0.010756\n",
       "13           qda   dpebm_extended      0.009659"
      ]
     },
     "execution_count": 65,
     "metadata": {},
     "output_type": "execute_result"
    }
   ],
   "source": [
    "fidelity_df"
   ]
  },
  {
   "cell_type": "code",
   "execution_count": 66,
   "id": "5dc2b029-01ec-4ac8-afb0-cf56ce0e2c69",
   "metadata": {},
   "outputs": [],
   "source": [
    "fidelity_df.to_csv('./model_fidelity/fidelity_ranking_knn.csv', header=True, index=False)"
   ]
  },
  {
   "cell_type": "code",
   "execution_count": null,
   "id": "10594064-5f98-40df-ab9e-252df7944eb4",
   "metadata": {},
   "outputs": [],
   "source": []
  }
 ],
 "metadata": {
  "kernelspec": {
   "display_name": "Python 3 (ipykernel)",
   "language": "python",
   "name": "python3"
  },
  "language_info": {
   "codemirror_mode": {
    "name": "ipython",
    "version": 3
   },
   "file_extension": ".py",
   "mimetype": "text/x-python",
   "name": "python",
   "nbconvert_exporter": "python",
   "pygments_lexer": "ipython3",
   "version": "3.9.16"
  }
 },
 "nbformat": 4,
 "nbformat_minor": 5
}
