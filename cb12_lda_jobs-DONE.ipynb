{
 "cells": [
  {
   "cell_type": "markdown",
   "metadata": {},
   "source": [
    "# LDA on jobs desriptions, requirements, title\n",
    "\n",
    "- Input: CB12, jobset_clean.csv\n",
    "- FYI: https://github.com/lacic/session-knn-ae"
   ]
  },
  {
   "cell_type": "code",
   "execution_count": 1,
   "metadata": {},
   "outputs": [],
   "source": [
    "import numpy as np\n",
    "import pandas as pd\n",
    "import subprocess\n",
    "import argparse\n",
    "from sklearn.feature_extraction.text import TfidfVectorizer, CountVectorizer\n",
    "from sklearn.decomposition import NMF, LatentDirichletAllocation\n",
    "from bs4 import BeautifulSoup\n",
    "import pickle"
   ]
  },
  {
   "cell_type": "code",
   "execution_count": 2,
   "metadata": {},
   "outputs": [
    {
     "name": "stderr",
     "output_type": "stream",
     "text": [
      "/var/folders/rt/sq9c2fwj2wz441h13l9hcfrc0000gn/T/ipykernel_23022/2928293528.py:2: DtypeWarning: Columns (8) have mixed types. Specify dtype option on import or set low_memory=False.\n",
      "  jobs = pd.read_csv(\"./data_processed/jobset_clean.csv\")\n"
     ]
    }
   ],
   "source": [
    "# Read data\n",
    "jobs = pd.read_csv(\"./data_processed/jobset_clean.csv\")\n",
    "#jobs = jobs.rename(columns={\"JobID\": \"item_id\", \"State\": \"state\", \"Country\": \"country\", \"City\": \"city\", \"Zip5\": \"zip5\"})\n",
    "#jobs = jobs.set_index(\"item_id\")"
   ]
  },
  {
   "cell_type": "code",
   "execution_count": 3,
   "metadata": {},
   "outputs": [
    {
     "name": "stdout",
     "output_type": "stream",
     "text": [
      "<class 'pandas.core.frame.DataFrame'>\n",
      "RangeIndex: 1050509 entries, 0 to 1050508\n",
      "Data columns (total 11 columns):\n",
      " #   Column        Non-Null Count    Dtype \n",
      "---  ------        --------------    ----- \n",
      " 0   JobID         1050509 non-null  int64 \n",
      " 1   WindowID      1050509 non-null  int64 \n",
      " 2   Title         1050509 non-null  object\n",
      " 3   Description   1050289 non-null  object\n",
      " 4   Requirements  1047776 non-null  object\n",
      " 5   City          1050507 non-null  object\n",
      " 6   State         1050508 non-null  object\n",
      " 7   Country       1050506 non-null  object\n",
      " 8   Zip5          658844 non-null   object\n",
      " 9   StartDate     1050509 non-null  object\n",
      " 10  EndDate       1050500 non-null  object\n",
      "dtypes: int64(2), object(9)\n",
      "memory usage: 88.2+ MB\n"
     ]
    }
   ],
   "source": [
    "jobs.info()"
   ]
  },
  {
   "cell_type": "code",
   "execution_count": 5,
   "metadata": {},
   "outputs": [
    {
     "name": "stdout",
     "output_type": "stream",
     "text": [
      "Unique cities: 10998\n",
      "Unique states: 61\n",
      "Unique zip codes: 43853\n",
      "Unique countries: 66\n"
     ]
    }
   ],
   "source": [
    "print(\"Unique cities: \" + str(len(jobs.City.unique())))\n",
    "print(\"Unique states: \" + str(len(jobs.State.unique())))\n",
    "print(\"Unique zip codes: \" + str(len(jobs.Zip5.unique())))\n",
    "print(\"Unique countries: \" + str(len(jobs.Country.unique())))\n"
   ]
  },
  {
   "cell_type": "code",
   "execution_count": 6,
   "metadata": {},
   "outputs": [],
   "source": [
    "def display_topics(model, feature_names, no_top_words):\n",
    "    for topic_idx, topic in enumerate(model.components_):\n",
    "        print(\"Topic %d:\" % (topic_idx))\n",
    "        print(\" \".join([feature_names[i] for i in topic.argsort()[:-no_top_words - 1:-1]]))\n",
    "        \n",
    "def calc_lda(df, no_features = 1000, no_topics = 20):\n",
    "    # LDA can only use raw term counts for LDA because it is a probabilistic graphical model\n",
    "    tf_vectorizer = CountVectorizer(max_df=0.95, \n",
    "                                    min_df=2, \n",
    "                                    max_features=no_features, \n",
    "                                    stop_words='english')\n",
    "    tf = tf_vectorizer.fit_transform(df)\n",
    "    tf_feature_names = tf_vectorizer.get_feature_names()\n",
    "\n",
    "    # Run LDA\n",
    "    lda = LatentDirichletAllocation(n_components=no_topics, \n",
    "                                    max_iter=5, \n",
    "                                    learning_method='online', \n",
    "                                    learning_offset=50.,random_state=0).fit(tf)\n",
    "\n",
    "\n",
    "    no_top_words = 5\n",
    "    display_topics(lda, tf_feature_names, no_top_words)\n",
    "    return lda, tf_feature_names"
   ]
  },
  {
   "cell_type": "code",
   "execution_count": 7,
   "metadata": {},
   "outputs": [
    {
     "data": {
      "text/plain": [
       "True"
      ]
     },
     "execution_count": 7,
     "metadata": {},
     "output_type": "execute_result"
    }
   ],
   "source": [
    "jobs.isnull().values.any()"
   ]
  },
  {
   "cell_type": "code",
   "execution_count": 8,
   "metadata": {},
   "outputs": [
    {
     "data": {
      "text/plain": [
       "0"
      ]
     },
     "execution_count": 8,
     "metadata": {},
     "output_type": "execute_result"
    }
   ],
   "source": [
    "jobs['Title'].isnull().values.sum()"
   ]
  },
  {
   "cell_type": "code",
   "execution_count": 9,
   "metadata": {},
   "outputs": [
    {
     "data": {
      "text/plain": [
       "220"
      ]
     },
     "execution_count": 9,
     "metadata": {},
     "output_type": "execute_result"
    }
   ],
   "source": [
    "jobs['Description'].isnull().values.sum()"
   ]
  },
  {
   "cell_type": "code",
   "execution_count": 10,
   "metadata": {},
   "outputs": [
    {
     "data": {
      "text/plain": [
       "2733"
      ]
     },
     "execution_count": 10,
     "metadata": {},
     "output_type": "execute_result"
    }
   ],
   "source": [
    "jobs['Requirements'].isnull().values.sum()"
   ]
  },
  {
   "cell_type": "code",
   "execution_count": 11,
   "metadata": {},
   "outputs": [
    {
     "name": "stdout",
     "output_type": "stream",
     "text": [
      "<class 'pandas.core.frame.DataFrame'>\n",
      "RangeIndex: 1050509 entries, 0 to 1050508\n",
      "Data columns (total 11 columns):\n",
      " #   Column        Non-Null Count    Dtype \n",
      "---  ------        --------------    ----- \n",
      " 0   JobID         1050509 non-null  int64 \n",
      " 1   WindowID      1050509 non-null  int64 \n",
      " 2   Title         1050509 non-null  object\n",
      " 3   Description   1050289 non-null  object\n",
      " 4   Requirements  1047776 non-null  object\n",
      " 5   City          1050507 non-null  object\n",
      " 6   State         1050508 non-null  object\n",
      " 7   Country       1050506 non-null  object\n",
      " 8   Zip5          658844 non-null   object\n",
      " 9   StartDate     1050509 non-null  object\n",
      " 10  EndDate       1050500 non-null  object\n",
      "dtypes: int64(2), object(9)\n",
      "memory usage: 88.2+ MB\n"
     ]
    }
   ],
   "source": [
    "jobs.info()"
   ]
  },
  {
   "cell_type": "code",
   "execution_count": 12,
   "metadata": {},
   "outputs": [],
   "source": [
    "jobs[\"Requirements\"].fillna(\"\", inplace=True)\n",
    "jobs[\"Description\"].fillna(\"\", inplace=True)\n",
    "jobs[\"Title\"].fillna(\"\", inplace=True)"
   ]
  },
  {
   "cell_type": "code",
   "execution_count": 13,
   "metadata": {},
   "outputs": [
    {
     "name": "stderr",
     "output_type": "stream",
     "text": [
      "/Users/anhtth/opt/anaconda3/lib/python3.9/site-packages/sklearn/utils/deprecation.py:87: FutureWarning: Function get_feature_names is deprecated; get_feature_names is deprecated in 1.0 and will be removed in 1.2. Please use get_feature_names_out instead.\n",
      "  warnings.warn(msg, category=FutureWarning)\n"
     ]
    },
    {
     "name": "stdout",
     "output_type": "stream",
     "text": [
      "Topic 0:\n",
      "requirements resident car meet items\n",
      "Topic 1:\n",
      "care license nurse nursing driver\n",
      "Topic 2:\n",
      "company companies aflac insurance fortune\n",
      "Topic 3:\n",
      "ability management business knowledge team\n",
      "Topic 4:\n",
      "bull ndash matco 350 road\n",
      "Topic 5:\n",
      "experience years degree required preferred\n",
      "Topic 6:\n",
      "job description refer view requirements\n",
      "Topic 7:\n",
      "sales business insurance outside marketing\n",
      "Topic 8:\n",
      "experience systems development engineering design\n",
      "Topic 9:\n",
      "professionals office industry half contact\n",
      "Topic 10:\n",
      "work opportunity time retail home\n",
      "Topic 11:\n",
      "able ability required work experience\n",
      "Topic 12:\n",
      "server responsible windows maintaining wireless\n",
      "Topic 13:\n",
      "accounting finance automotive franchise financial\n",
      "Topic 14:\n",
      "manager marketing sales management customer\n",
      "Topic 15:\n",
      "job pt temp conditions representatives\n",
      "Topic 16:\n",
      "benefits opportunity employer equal com\n",
      "Topic 17:\n",
      "maintenance mechanical electrical repair industrial\n",
      "Topic 18:\n",
      "skills experience ability communication strong\n",
      "Topic 19:\n",
      "fast paced status state legal\n"
     ]
    }
   ],
   "source": [
    "lda_req, tf_feature_names_req = calc_lda(jobs[\"Requirements\"])"
   ]
  },
  {
   "cell_type": "code",
   "execution_count": 14,
   "metadata": {},
   "outputs": [
    {
     "name": "stdout",
     "output_type": "stream",
     "text": [
      "Topic 0:\n",
      "client clients staffing candidates firm\n",
      "Topic 1:\n",
      "procedures ensure policies duties appropriate\n",
      "Topic 2:\n",
      "customer customers service sales products\n",
      "Topic 3:\n",
      "store retail sales manager customer\n",
      "Topic 4:\n",
      "equipment maintenance work safety manufacturing\n",
      "Topic 5:\n",
      "benefits dental medical insurance life\n",
      "Topic 6:\n",
      "bull aerotek status hands job\n",
      "Topic 7:\n",
      "career looking team work opportunities\n",
      "Topic 8:\n",
      "security technology network technical services\n",
      "Topic 9:\n",
      "business management development develop marketing\n",
      "Topic 10:\n",
      "services company world global industry\n",
      "Topic 11:\n",
      "sales business marketing training outside\n",
      "Topic 12:\n",
      "financial credit business services banking\n",
      "Topic 13:\n",
      "com time apply position resume\n",
      "Topic 14:\n",
      "care patient health medical patients\n",
      "Topic 15:\n",
      "project design technical development support\n",
      "Topic 16:\n",
      "accounting financial data reports reporting\n",
      "Topic 17:\n",
      "rsquo work environment team amp\n",
      "Topic 18:\n",
      "experience skills ability years required\n",
      "Topic 19:\n",
      "school employer education training equal\n"
     ]
    }
   ],
   "source": [
    "lda_desc, tf_feature_names_desc = calc_lda(jobs[\"Description\"])"
   ]
  },
  {
   "cell_type": "code",
   "execution_count": 15,
   "metadata": {},
   "outputs": [
    {
     "name": "stdout",
     "output_type": "stream",
     "text": [
      "Topic 0:\n",
      "level entry restaurant truck needed\n",
      "Topic 1:\n",
      "time associate accountant franchise warehouse\n",
      "Topic 2:\n",
      "support openings tech operator teller\n",
      "Topic 3:\n",
      "sales representative account insurance outside\n",
      "Topic 4:\n",
      "senior financial designer work healthcare\n",
      "Topic 5:\n",
      "specialist management services maintenance general\n",
      "Topic 6:\n",
      "engineer director software nursing product\n",
      "Topic 7:\n",
      "sr development agent lead technical\n",
      "Topic 8:\n",
      "technician clinical mechanic bilingual hr\n",
      "Topic 9:\n",
      "service customer nurse consultant registered\n",
      "Topic 10:\n",
      "therapist marketing home health physical\n",
      "Topic 11:\n",
      "manager project store center trainee\n",
      "Topic 12:\n",
      "analyst business supervisor benefits loan\n",
      "Topic 13:\n",
      "quality job team shift production\n",
      "Topic 14:\n",
      "rn care executive lpn security\n",
      "Topic 15:\n",
      "driver cdl class instructor residential\n",
      "Topic 16:\n",
      "retail developer automotive java web\n",
      "Topic 17:\n",
      "assistant medical administrative occupational human\n",
      "Topic 18:\n",
      "coordinator travel recruiter process experience\n",
      "Topic 19:\n",
      "administrator ii professional network advisor\n"
     ]
    }
   ],
   "source": [
    "lda_title, tf_feature_names_title = calc_lda(jobs[\"Title\"])"
   ]
  },
  {
   "cell_type": "code",
   "execution_count": 16,
   "metadata": {},
   "outputs": [
    {
     "name": "stdout",
     "output_type": "stream",
     "text": [
      "CPU times: user 2.79 ms, sys: 4.63 ms, total: 7.42 ms\n",
      "Wall time: 2.37 s\n"
     ]
    }
   ],
   "source": [
    "%%time\n",
    "interim_path = \"./cb12-interim/\"\n",
    "pickle.dump(lda_title, open(interim_path + \"lda_title.model\", 'wb'), protocol=4)\n",
    "pickle.dump(tf_feature_names_title, open(interim_path + \"lda_title.fnames\", 'wb'), protocol=4)\n",
    "\n",
    "pickle.dump(lda_desc, open(interim_path + \"lda_desc.model\", 'wb'), protocol=4)\n",
    "pickle.dump(tf_feature_names_desc, open(interim_path + \"lda_desc.fnames\", 'wb'), protocol=4)\n",
    "\n",
    "pickle.dump(lda_req, open(interim_path + \"lda_req.model\", 'wb'), protocol=4)\n",
    "pickle.dump(tf_feature_names_req, open(interim_path + \"lda_req.fnames\", 'wb'), protocol=4)"
   ]
  },
  {
   "cell_type": "code",
   "execution_count": null,
   "metadata": {},
   "outputs": [],
   "source": []
  },
  {
   "cell_type": "code",
   "execution_count": 17,
   "metadata": {},
   "outputs": [],
   "source": [
    "lda_title = pickle.load(open(interim_path + \"lda_title.model\", 'rb'))\n",
    "tf_feature_names_title = pickle.load(open(interim_path + \"lda_title.fnames\", 'rb'))\n",
    "\n",
    "lda_desc = pickle.load(open(interim_path + \"lda_desc.model\", 'rb'))\n",
    "tf_feature_names_desc = pickle.load(open(interim_path + \"lda_desc.fnames\", 'rb'))\n",
    "\n",
    "lda_req = pickle.load(open(interim_path + \"lda_req.model\", 'rb'))\n",
    "tf_feature_names_req = pickle.load(open(interim_path + \"lda_req.fnames\", 'rb'))\n",
    "\n",
    "#display_topics(lda_title, tf_feature_names_title, 10)\n",
    "#display_topics(lda_desc, tf_feature_names_desc, 10)\n",
    "#display_topics(lda_req, tf_feature_names_req, 10)"
   ]
  },
  {
   "cell_type": "code",
   "execution_count": 18,
   "metadata": {},
   "outputs": [],
   "source": [
    "def apply_topics(text, model, feature_names, fn_dict):\n",
    "    words = re.findall(r\"[\\w']+\", text)\n",
    "        \n",
    "    overlap = [value for value in feature_names if value in words]\n",
    "    \n",
    "    max_sum_t = -1.0\n",
    "    max_topic_idx = None\n",
    "    for topic_idx, topic in enumerate(model.components_):\n",
    "        sum_t = 0.0\n",
    "        for word in overlap:\n",
    "            sum_t += topic[fn_dict[word]]\n",
    "        \n",
    "        if sum_t > max_sum_t:\n",
    "            max_sum_t = sum_t\n",
    "            max_topic_idx = topic_idx\n",
    "    \n",
    "    return max_topic_idx\n",
    "\n",
    "        \n",
    "def gen_fn_dict(feature_names):\n",
    "    fn_dict = {}\n",
    "    f_idx = 0\n",
    "    \n",
    "    for name in feature_names:\n",
    "        fn_dict[name] = f_idx\n",
    "        f_idx += 1\n",
    "        \n",
    "    return fn_dict\n",
    "\n",
    "fn_dict_req = gen_fn_dict(tf_feature_names_req)\n",
    "fn_dict_desc = gen_fn_dict(tf_feature_names_desc)\n",
    "fn_dict_title = gen_fn_dict(tf_feature_names_title)\n"
   ]
  },
  {
   "cell_type": "code",
   "execution_count": 19,
   "metadata": {},
   "outputs": [
    {
     "data": {
      "text/html": [
       "<div>\n",
       "<style scoped>\n",
       "    .dataframe tbody tr th:only-of-type {\n",
       "        vertical-align: middle;\n",
       "    }\n",
       "\n",
       "    .dataframe tbody tr th {\n",
       "        vertical-align: top;\n",
       "    }\n",
       "\n",
       "    .dataframe thead th {\n",
       "        text-align: right;\n",
       "    }\n",
       "</style>\n",
       "<table border=\"1\" class=\"dataframe\">\n",
       "  <thead>\n",
       "    <tr style=\"text-align: right;\">\n",
       "      <th></th>\n",
       "      <th>JobID</th>\n",
       "      <th>WindowID</th>\n",
       "      <th>Title</th>\n",
       "      <th>Description</th>\n",
       "      <th>Requirements</th>\n",
       "      <th>City</th>\n",
       "      <th>State</th>\n",
       "      <th>Country</th>\n",
       "      <th>Zip5</th>\n",
       "      <th>StartDate</th>\n",
       "      <th>EndDate</th>\n",
       "      <th>ReqTopic</th>\n",
       "      <th>DescTopic</th>\n",
       "      <th>TitTopic</th>\n",
       "    </tr>\n",
       "  </thead>\n",
       "  <tbody>\n",
       "    <tr>\n",
       "      <th>0</th>\n",
       "      <td>1</td>\n",
       "      <td>1</td>\n",
       "      <td>Security Engineer Technical Lead</td>\n",
       "      <td>Security Clearance Required:  Top Secret Job N...</td>\n",
       "      <td>SKILL SET Network Security tools: Webdefend We...</td>\n",
       "      <td>Washington</td>\n",
       "      <td>DC</td>\n",
       "      <td>US</td>\n",
       "      <td>20531</td>\n",
       "      <td>2012-03-07 13:17:01.643</td>\n",
       "      <td>2012-04-06 23:59:59</td>\n",
       "      <td>5</td>\n",
       "      <td>15</td>\n",
       "      <td>0</td>\n",
       "    </tr>\n",
       "    <tr>\n",
       "      <th>1</th>\n",
       "      <td>4</td>\n",
       "      <td>1</td>\n",
       "      <td>SAP Business Analyst   WM</td>\n",
       "      <td>NO Corp. to Corp resumes are being considered ...</td>\n",
       "      <td>WHAT YOU NEED: Four year college degreeMinimum...</td>\n",
       "      <td>Charlotte</td>\n",
       "      <td>NC</td>\n",
       "      <td>US</td>\n",
       "      <td>28217</td>\n",
       "      <td>2012-03-21 02:03:44.137</td>\n",
       "      <td>2012-04-20 23:59:59</td>\n",
       "      <td>18</td>\n",
       "      <td>15</td>\n",
       "      <td>0</td>\n",
       "    </tr>\n",
       "    <tr>\n",
       "      <th>2</th>\n",
       "      <td>7</td>\n",
       "      <td>1</td>\n",
       "      <td>P T HUMAN RESOURCES ASSISTANT</td>\n",
       "      <td>P T HUMAN RESOURCES ASSISTANT      1-2 ye...</td>\n",
       "      <td>Please refer to the Job Description to view th...</td>\n",
       "      <td>Winter Park</td>\n",
       "      <td>FL</td>\n",
       "      <td>US</td>\n",
       "      <td>32792</td>\n",
       "      <td>2012-03-02 16:36:55.447</td>\n",
       "      <td>2012-04-01 23:59:59</td>\n",
       "      <td>15</td>\n",
       "      <td>18</td>\n",
       "      <td>0</td>\n",
       "    </tr>\n",
       "    <tr>\n",
       "      <th>3</th>\n",
       "      <td>8</td>\n",
       "      <td>1</td>\n",
       "      <td>Route Delivery Drivers</td>\n",
       "      <td>CITY BEVERAGES Come to work for the best in th...</td>\n",
       "      <td>Please refer to the Job Description to view th...</td>\n",
       "      <td>Orlando</td>\n",
       "      <td>FL</td>\n",
       "      <td>US</td>\n",
       "      <td>NaN</td>\n",
       "      <td>2012-03-03 09:01:10.077</td>\n",
       "      <td>2012-04-02 23:59:59</td>\n",
       "      <td>15</td>\n",
       "      <td>7</td>\n",
       "      <td>0</td>\n",
       "    </tr>\n",
       "    <tr>\n",
       "      <th>4</th>\n",
       "      <td>9</td>\n",
       "      <td>1</td>\n",
       "      <td>Housekeeping</td>\n",
       "      <td>I make  sure every part of their day is magica...</td>\n",
       "      <td>Please refer to the Job Description to view th...</td>\n",
       "      <td>Orlando</td>\n",
       "      <td>FL</td>\n",
       "      <td>US</td>\n",
       "      <td>NaN</td>\n",
       "      <td>2012-03-03 09:01:11.88</td>\n",
       "      <td>2012-04-02 23:59:59</td>\n",
       "      <td>15</td>\n",
       "      <td>7</td>\n",
       "      <td>0</td>\n",
       "    </tr>\n",
       "  </tbody>\n",
       "</table>\n",
       "</div>"
      ],
      "text/plain": [
       "   JobID  WindowID                             Title  \\\n",
       "0      1         1  Security Engineer Technical Lead   \n",
       "1      4         1         SAP Business Analyst   WM   \n",
       "2      7         1     P T HUMAN RESOURCES ASSISTANT   \n",
       "3      8         1            Route Delivery Drivers   \n",
       "4      9         1                      Housekeeping   \n",
       "\n",
       "                                         Description  \\\n",
       "0  Security Clearance Required:  Top Secret Job N...   \n",
       "1  NO Corp. to Corp resumes are being considered ...   \n",
       "2       P T HUMAN RESOURCES ASSISTANT      1-2 ye...   \n",
       "3  CITY BEVERAGES Come to work for the best in th...   \n",
       "4  I make  sure every part of their day is magica...   \n",
       "\n",
       "                                        Requirements         City State  \\\n",
       "0  SKILL SET Network Security tools: Webdefend We...   Washington    DC   \n",
       "1  WHAT YOU NEED: Four year college degreeMinimum...    Charlotte    NC   \n",
       "2  Please refer to the Job Description to view th...  Winter Park    FL   \n",
       "3  Please refer to the Job Description to view th...      Orlando    FL   \n",
       "4  Please refer to the Job Description to view th...      Orlando    FL   \n",
       "\n",
       "  Country   Zip5                StartDate              EndDate  ReqTopic  \\\n",
       "0      US  20531  2012-03-07 13:17:01.643  2012-04-06 23:59:59         5   \n",
       "1      US  28217  2012-03-21 02:03:44.137  2012-04-20 23:59:59        18   \n",
       "2      US  32792  2012-03-02 16:36:55.447  2012-04-01 23:59:59        15   \n",
       "3      US    NaN  2012-03-03 09:01:10.077  2012-04-02 23:59:59        15   \n",
       "4      US    NaN   2012-03-03 09:01:11.88  2012-04-02 23:59:59        15   \n",
       "\n",
       "   DescTopic  TitTopic  \n",
       "0         15         0  \n",
       "1         15         0  \n",
       "2         18         0  \n",
       "3          7         0  \n",
       "4          7         0  "
      ]
     },
     "execution_count": 19,
     "metadata": {},
     "output_type": "execute_result"
    }
   ],
   "source": [
    "import re\n",
    "\n",
    "jobs['ReqTopic'] = jobs.apply(lambda x: apply_topics(x['Requirements'], lda_req, tf_feature_names_req, fn_dict_req), axis=1)\n",
    "jobs['DescTopic'] = jobs.apply(lambda x: apply_topics(x['Description'], lda_desc, tf_feature_names_desc, fn_dict_desc), axis=1)\n",
    "jobs['TitTopic'] = jobs.apply(lambda x: apply_topics(x['Title'], lda_title, tf_feature_names_title, fn_dict_title), axis=1)\n",
    "\n",
    "\n",
    "jobs.head()"
   ]
  },
  {
   "cell_type": "code",
   "execution_count": 20,
   "metadata": {},
   "outputs": [
    {
     "data": {
      "text/plain": [
       "array([      1,       4,       7, ..., 1116294, 1116304, 1116307])"
      ]
     },
     "execution_count": 20,
     "metadata": {},
     "output_type": "execute_result"
    }
   ],
   "source": [
    "jobs.JobID.unique()"
   ]
  },
  {
   "cell_type": "code",
   "execution_count": 21,
   "metadata": {},
   "outputs": [
    {
     "data": {
      "text/plain": [
       "1050509"
      ]
     },
     "execution_count": 21,
     "metadata": {},
     "output_type": "execute_result"
    }
   ],
   "source": [
    "# Export data\n",
    "jobs.to_csv(interim_path + \"jobset_lda.csv\", header=True, index=False)\n",
    "len(jobs)\n"
   ]
  },
  {
   "cell_type": "code",
   "execution_count": null,
   "metadata": {},
   "outputs": [],
   "source": []
  },
  {
   "cell_type": "code",
   "execution_count": 22,
   "metadata": {},
   "outputs": [
    {
     "data": {
      "text/html": [
       "<div>\n",
       "<style scoped>\n",
       "    .dataframe tbody tr th:only-of-type {\n",
       "        vertical-align: middle;\n",
       "    }\n",
       "\n",
       "    .dataframe tbody tr th {\n",
       "        vertical-align: top;\n",
       "    }\n",
       "\n",
       "    .dataframe thead th {\n",
       "        text-align: right;\n",
       "    }\n",
       "</style>\n",
       "<table border=\"1\" class=\"dataframe\">\n",
       "  <thead>\n",
       "    <tr style=\"text-align: right;\">\n",
       "      <th></th>\n",
       "      <th>JobID</th>\n",
       "      <th>WindowID</th>\n",
       "      <th>Title</th>\n",
       "      <th>Description</th>\n",
       "      <th>Requirements</th>\n",
       "      <th>City</th>\n",
       "      <th>State</th>\n",
       "      <th>Country</th>\n",
       "      <th>Zip5</th>\n",
       "      <th>StartDate</th>\n",
       "      <th>EndDate</th>\n",
       "      <th>ReqTopic</th>\n",
       "      <th>DescTopic</th>\n",
       "      <th>TitTopic</th>\n",
       "    </tr>\n",
       "  </thead>\n",
       "  <tbody>\n",
       "    <tr>\n",
       "      <th>0</th>\n",
       "      <td>1</td>\n",
       "      <td>1</td>\n",
       "      <td>Security Engineer Technical Lead</td>\n",
       "      <td>Security Clearance Required:  Top Secret Job N...</td>\n",
       "      <td>SKILL SET Network Security tools: Webdefend We...</td>\n",
       "      <td>Washington</td>\n",
       "      <td>DC</td>\n",
       "      <td>US</td>\n",
       "      <td>20531</td>\n",
       "      <td>2012-03-07 13:17:01.643</td>\n",
       "      <td>2012-04-06 23:59:59</td>\n",
       "      <td>5</td>\n",
       "      <td>15</td>\n",
       "      <td>0</td>\n",
       "    </tr>\n",
       "    <tr>\n",
       "      <th>1</th>\n",
       "      <td>4</td>\n",
       "      <td>1</td>\n",
       "      <td>SAP Business Analyst   WM</td>\n",
       "      <td>NO Corp. to Corp resumes are being considered ...</td>\n",
       "      <td>WHAT YOU NEED: Four year college degreeMinimum...</td>\n",
       "      <td>Charlotte</td>\n",
       "      <td>NC</td>\n",
       "      <td>US</td>\n",
       "      <td>28217</td>\n",
       "      <td>2012-03-21 02:03:44.137</td>\n",
       "      <td>2012-04-20 23:59:59</td>\n",
       "      <td>18</td>\n",
       "      <td>15</td>\n",
       "      <td>0</td>\n",
       "    </tr>\n",
       "    <tr>\n",
       "      <th>2</th>\n",
       "      <td>7</td>\n",
       "      <td>1</td>\n",
       "      <td>P T HUMAN RESOURCES ASSISTANT</td>\n",
       "      <td>P T HUMAN RESOURCES ASSISTANT      1-2 ye...</td>\n",
       "      <td>Please refer to the Job Description to view th...</td>\n",
       "      <td>Winter Park</td>\n",
       "      <td>FL</td>\n",
       "      <td>US</td>\n",
       "      <td>32792</td>\n",
       "      <td>2012-03-02 16:36:55.447</td>\n",
       "      <td>2012-04-01 23:59:59</td>\n",
       "      <td>15</td>\n",
       "      <td>18</td>\n",
       "      <td>0</td>\n",
       "    </tr>\n",
       "    <tr>\n",
       "      <th>3</th>\n",
       "      <td>8</td>\n",
       "      <td>1</td>\n",
       "      <td>Route Delivery Drivers</td>\n",
       "      <td>CITY BEVERAGES Come to work for the best in th...</td>\n",
       "      <td>Please refer to the Job Description to view th...</td>\n",
       "      <td>Orlando</td>\n",
       "      <td>FL</td>\n",
       "      <td>US</td>\n",
       "      <td>NaN</td>\n",
       "      <td>2012-03-03 09:01:10.077</td>\n",
       "      <td>2012-04-02 23:59:59</td>\n",
       "      <td>15</td>\n",
       "      <td>7</td>\n",
       "      <td>0</td>\n",
       "    </tr>\n",
       "    <tr>\n",
       "      <th>4</th>\n",
       "      <td>9</td>\n",
       "      <td>1</td>\n",
       "      <td>Housekeeping</td>\n",
       "      <td>I make  sure every part of their day is magica...</td>\n",
       "      <td>Please refer to the Job Description to view th...</td>\n",
       "      <td>Orlando</td>\n",
       "      <td>FL</td>\n",
       "      <td>US</td>\n",
       "      <td>NaN</td>\n",
       "      <td>2012-03-03 09:01:11.88</td>\n",
       "      <td>2012-04-02 23:59:59</td>\n",
       "      <td>15</td>\n",
       "      <td>7</td>\n",
       "      <td>0</td>\n",
       "    </tr>\n",
       "  </tbody>\n",
       "</table>\n",
       "</div>"
      ],
      "text/plain": [
       "   JobID  WindowID                             Title  \\\n",
       "0      1         1  Security Engineer Technical Lead   \n",
       "1      4         1         SAP Business Analyst   WM   \n",
       "2      7         1     P T HUMAN RESOURCES ASSISTANT   \n",
       "3      8         1            Route Delivery Drivers   \n",
       "4      9         1                      Housekeeping   \n",
       "\n",
       "                                         Description  \\\n",
       "0  Security Clearance Required:  Top Secret Job N...   \n",
       "1  NO Corp. to Corp resumes are being considered ...   \n",
       "2       P T HUMAN RESOURCES ASSISTANT      1-2 ye...   \n",
       "3  CITY BEVERAGES Come to work for the best in th...   \n",
       "4  I make  sure every part of their day is magica...   \n",
       "\n",
       "                                        Requirements         City State  \\\n",
       "0  SKILL SET Network Security tools: Webdefend We...   Washington    DC   \n",
       "1  WHAT YOU NEED: Four year college degreeMinimum...    Charlotte    NC   \n",
       "2  Please refer to the Job Description to view th...  Winter Park    FL   \n",
       "3  Please refer to the Job Description to view th...      Orlando    FL   \n",
       "4  Please refer to the Job Description to view th...      Orlando    FL   \n",
       "\n",
       "  Country   Zip5                StartDate              EndDate  ReqTopic  \\\n",
       "0      US  20531  2012-03-07 13:17:01.643  2012-04-06 23:59:59         5   \n",
       "1      US  28217  2012-03-21 02:03:44.137  2012-04-20 23:59:59        18   \n",
       "2      US  32792  2012-03-02 16:36:55.447  2012-04-01 23:59:59        15   \n",
       "3      US    NaN  2012-03-03 09:01:10.077  2012-04-02 23:59:59        15   \n",
       "4      US    NaN   2012-03-03 09:01:11.88  2012-04-02 23:59:59        15   \n",
       "\n",
       "   DescTopic  TitTopic  \n",
       "0         15         0  \n",
       "1         15         0  \n",
       "2         18         0  \n",
       "3          7         0  \n",
       "4          7         0  "
      ]
     },
     "execution_count": 22,
     "metadata": {},
     "output_type": "execute_result"
    }
   ],
   "source": [
    "jobs.head()"
   ]
  },
  {
   "cell_type": "code",
   "execution_count": null,
   "metadata": {},
   "outputs": [],
   "source": []
  }
 ],
 "metadata": {
  "kernelspec": {
   "display_name": "Python 3 (ipykernel)",
   "language": "python",
   "name": "python3"
  },
  "language_info": {
   "codemirror_mode": {
    "name": "ipython",
    "version": 3
   },
   "file_extension": ".py",
   "mimetype": "text/x-python",
   "name": "python",
   "nbconvert_exporter": "python",
   "pygments_lexer": "ipython3",
   "version": "3.9.12"
  }
 },
 "nbformat": 4,
 "nbformat_minor": 4
}
